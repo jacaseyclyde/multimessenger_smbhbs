{
 "cells": [
  {
   "cell_type": "markdown",
   "metadata": {},
   "source": [
    "# Introduction"
   ]
  },
  {
   "cell_type": "markdown",
   "metadata": {},
   "source": [
    "- TODO: Write introduction\n",
    "- TODO: Flesh out sections with text"
   ]
  },
  {
   "cell_type": "markdown",
   "metadata": {},
   "source": [
    "# Methods"
   ]
  },
  {
   "cell_type": "code",
   "execution_count": 1,
   "metadata": {},
   "outputs": [
    {
     "name": "stderr",
     "output_type": "stream",
     "text": [
      "<ipython-input-1-857a52c9f494>:30: TqdmExperimentalWarning: Using `tqdm.autonotebook.tqdm` in notebook mode. Use `tqdm.tqdm` instead to force console mode (e.g. in jupyter console)\n",
      "  from tqdm.autonotebook import tqdm\n"
     ]
    }
   ],
   "source": [
    "# OPTIONAL: Load the \"autoreload\" extension so that code can change\n",
    "%load_ext autoreload\n",
    "\n",
    "# OPTIONAL: always reload modules so that as you change code in src, it gets loaded\n",
    "%autoreload 2\n",
    "import os\n",
    "import sys\n",
    "module_path = os.path.abspath(os.path.join('..'))\n",
    "if module_path not in sys.path:\n",
    "    sys.path.append(module_path)\n",
    "\n",
    "import multiprocessing as mp\n",
    "import numpy as np\n",
    "import pandas as pd\n",
    "import pickle\n",
    "import h5py\n",
    "from IPython.display import display, Math\n",
    "\n",
    "from scipy.integrate import trapz, cumtrapz\n",
    "from scipy.interpolate import UnivariateSpline\n",
    "from scipy.stats import lognorm, truncnorm, rv_continuous\n",
    "\n",
    "import astropy.constants as const\n",
    "import astropy.units as u\n",
    "import astropy.uncertainty as unc\n",
    "from astropy.cosmology import WMAP9, z_at_value\n",
    "from astropy.modeling.functional_models import Linear1D, Const1D, Shift, Gaussian1D\n",
    "from astropy.modeling.tabular import Tabular1D\n",
    "\n",
    "from tqdm.autonotebook import tqdm\n",
    "\n",
    "from src.models.agn_proxy import (Hopkins2007QuasarFormationDensity,\n",
    "                                  LogNormal1D, Const3D, QuasarProxyBinaries, Hopkins2007QuasarFormationDensity,\n",
    "                                  ModifiedSchechter, Marconi2004BHMF, Hopkins2007QuasarNumberDensity,\n",
    "                                  Goulding2019J1010Binaries)\n",
    "from src.models.major_merger import (Schechter1D, Schechter2D,\n",
    "                                     DoubleSchechter2D, TripleSchechter2D,\n",
    "                                     PairFraction3D, PairFraction3D_3bins,\n",
    "                                     Timescale3D, Sesana2013_Schechter,\n",
    "                                     Sesana2013_DoubleSchechter,\n",
    "                                     Sesana2013_TripleSchechter)"
   ]
  },
  {
   "cell_type": "code",
   "execution_count": 2,
   "metadata": {},
   "outputs": [
    {
     "data": {
      "text/plain": [
       "(1024, 32)"
      ]
     },
     "execution_count": 2,
     "metadata": {},
     "output_type": "execute_result"
    }
   ],
   "source": [
    "# Global variables\n",
    "n_samples = int(2 ** 10)\n",
    "n_mesh = int(2 ** 5)\n",
    "n_samples, n_mesh"
   ]
  },
  {
   "cell_type": "code",
   "execution_count": 3,
   "metadata": {},
   "outputs": [],
   "source": [
    "# class declarations\n",
    "class split_normal(rv_continuous):\n",
    "    def __init__(self, loc, scale1, scale2, *args, **kwargs):\n",
    "        self.loc = loc\n",
    "        self.scale1 = scale1\n",
    "        self.scale2 = scale2\n",
    "        self.normalization = 2 / (scale1 + scale2)\n",
    "        super().__init__(self, *args, **kwargs)\n",
    "        \n",
    "    def _pdf(self, x):\n",
    "        if x < self.loc:\n",
    "            return self.normalization * truncnorm.pdf(x, self.a, self.b, self.loc, self.scale1)\n",
    "        else:\n",
    "            return self.normalization * truncnorm.pdf(x, self.a, self.b, self.loc, self.scale2)\n",
    "    \n",
    "    def _cdf(self, x):\n",
    "        if x < self.loc:\n",
    "            return self.normalization * self.scale1 * truncnorm.cdf(x, self.a, self.b, self.loc, self.scale1)\n",
    "        else:\n",
    "            return 1 - self.normalization * self.scale2 * (1 - truncnorm.cdf(x, self.a, self.b, self.loc, self.scale2))\n",
    "    \n",
    "    def _ppf(self, q):\n",
    "        p = self.scale1 / (self.scale1 + self.scale2)\n",
    "        \n",
    "        output = np.where(q <= p,\n",
    "                          self.loc + self.scale1\n",
    "                          * truncnorm.ppf(.5 * (self.scale1 + self.scale2) * q\n",
    "                                          / self.scale1, self.a, self.b),\n",
    "                          self.loc + self.scale2\n",
    "                          * truncnorm.ppf(0.5 * ((self.scale1 + self.scale2)\n",
    "                                                 * (1 + q) - 2 * self.scale1)\n",
    "                                          / self.scale2, self.a, self.b))\n",
    "        return np.squeeze(output)"
   ]
  },
  {
   "cell_type": "code",
   "execution_count": 4,
   "metadata": {},
   "outputs": [],
   "source": [
    "def trunc_norm_dist(a=0, b=np.inf, loc=0, scale=1, size=n_samples):\n",
    "    return truncnorm.rvs(a=(a - loc) / scale, b=(b - loc) / scale,\n",
    "                                          loc=loc, scale=scale,\n",
    "                                          size=size)"
   ]
  },
  {
   "cell_type": "markdown",
   "metadata": {},
   "source": [
    "## Dependencies/Assumptions"
   ]
  },
  {
   "cell_type": "markdown",
   "metadata": {},
   "source": [
    "### Shared"
   ]
  },
  {
   "cell_type": "markdown",
   "metadata": {},
   "source": [
    "#### Parameter space"
   ]
  },
  {
   "cell_type": "code",
   "execution_count": 5,
   "metadata": {},
   "outputs": [],
   "source": [
    "log_m_bh_min = 7\n",
    "log_m_bh_max = 10\n",
    "\n",
    "log_m_bh_range = np.linspace(log_m_bh_min, log_m_bh_max, num=n_mesh)\n",
    "\n",
    "z_min = 0\n",
    "z_max = 3\n",
    "z_range = np.linspace(z_min, z_max, num=n_mesh)\n",
    "\n",
    "q_min = 0.25\n",
    "q_max = 1\n",
    "q_range = np.linspace(q_min, q_max, num=n_mesh)"
   ]
  },
  {
   "cell_type": "markdown",
   "metadata": {},
   "source": [
    "#### Fiducial values"
   ]
  },
  {
   "cell_type": "code",
   "execution_count": 6,
   "metadata": {},
   "outputs": [],
   "source": [
    "fidhz = (1 / u.yr).to(u.Hz)"
   ]
  },
  {
   "cell_type": "markdown",
   "metadata": {
    "toc-hr-collapsed": true
   },
   "source": [
    "#### Cappellari (2013)"
   ]
  },
  {
   "cell_type": "markdown",
   "metadata": {},
   "source": [
    "##### $M_{\\rm{gal}} - M_{K}$ model parameters"
   ]
  },
  {
   "cell_type": "code",
   "execution_count": 7,
   "metadata": {},
   "outputs": [],
   "source": [
    "a_cappellari = unc.normal(10.5829, std=0.0086, n_samples=n_samples).distribution\n",
    "b_cappellari = unc.normal(-0.4449, std=0.0091, n_samples=n_samples).distribution"
   ]
  },
  {
   "cell_type": "markdown",
   "metadata": {},
   "source": [
    "##### $M_{\\rm{gal}} - K$ model"
   ]
  },
  {
   "cell_type": "code",
   "execution_count": 8,
   "metadata": {},
   "outputs": [],
   "source": [
    "c_intercept = a_cappellari + (b_cappellari * 23)\n",
    "c_slope = b_cappellari\n",
    "cappellari_mgal_k = Linear1D(slope=c_slope,\n",
    "                             intercept=c_intercept,\n",
    "                             n_models=n_samples)"
   ]
  },
  {
   "cell_type": "code",
   "execution_count": 9,
   "metadata": {},
   "outputs": [
    {
     "name": "stdout",
     "output_type": "stream",
     "text": [
      "Model: Linear1D\n",
      "Inputs: ('x',)\n",
      "Outputs: ('y',)\n",
      "Model set size: 1024\n",
      "Parameters:\n",
      "           slope              intercept      \n",
      "    -------------------- --------------------\n",
      "     -0.4444520837775698  0.36104566936047533\n",
      "    -0.45297211554560796   0.1673218692597338\n",
      "    -0.44656258171947394  0.32211912707397694\n",
      "    -0.44354275924798925  0.38591660959831664\n",
      "     -0.4363015749890167   0.5451953788684101\n",
      "     -0.4460172928488644     0.32757488770579\n",
      "    -0.46427425419950674 -0.08522350565085013\n",
      "    -0.44963671106856606  0.25803634444921997\n",
      "    -0.43726532325970363   0.5349468578164984\n",
      "      -0.456056481384277   0.0895230453698801\n",
      "                     ...                  ...\n",
      "     -0.4459129384193724   0.3217621442932703\n",
      "    -0.44632117805135757   0.3251362577511827\n",
      "      -0.441896414321473  0.43205925356262753\n",
      "    -0.44408185406503914  0.36868673488621795\n",
      "    -0.43573814709430886   0.5581214045001204\n",
      "     -0.4490461478463151   0.2451564445154446\n",
      "     -0.4378995715184806   0.5158573626906584\n",
      "    -0.45648253771090186  0.09058818983647221\n",
      "    -0.44766567419672443    0.281245272677614\n",
      "     -0.4620823007023435 -0.03835748137605144\n",
      "    -0.43692851272839445   0.5320297903214097\n",
      "    Length = 1024 rows\n"
     ]
    }
   ],
   "source": [
    "print(cappellari_mgal_k)\n",
    "with open('../models/Cappellari2013_mgal_mk_relation.pkl', 'wb') as f:\n",
    "    pickle.dump(cappellari_mgal_k, f)"
   ]
  },
  {
   "cell_type": "markdown",
   "metadata": {
    "toc-hr-collapsed": true
   },
   "source": [
    "#### McConnell & Ma (2013)"
   ]
  },
  {
   "cell_type": "markdown",
   "metadata": {},
   "source": [
    "##### $M - M_{\\rm{bulge}}$ model parameters"
   ]
  },
  {
   "cell_type": "code",
   "execution_count": 10,
   "metadata": {},
   "outputs": [],
   "source": [
    "alpha_mcconnell_ma = unc.normal(8.46, std=.08, n_samples=n_samples).distribution\n",
    "beta_mcconnell_ma = unc.normal(1.05, std=.11, n_samples=n_samples).distribution\n",
    "intrinsic_disp_mcconnell_ma = np.random.normal(scale=.34, size=n_samples)"
   ]
  },
  {
   "cell_type": "markdown",
   "metadata": {},
   "source": [
    "##### $M - M_{\\rm{bulge}}$ model"
   ]
  },
  {
   "cell_type": "markdown",
   "metadata": {},
   "source": [
    "Scaled to $M_{\\rm{bulge}} / 10^{11}\\;\\rm{M}_{\\odot}$"
   ]
  },
  {
   "cell_type": "code",
   "execution_count": 11,
   "metadata": {},
   "outputs": [],
   "source": [
    "mm_intercept = alpha_mcconnell_ma - (beta_mcconnell_ma * 11)\n",
    "mm_slope = beta_mcconnell_ma\n",
    "mcconnell_ma_m_mbulge = Linear1D(slope=mm_slope,\n",
    "                                 intercept=mm_intercept,\n",
    "                                 n_models=n_samples)"
   ]
  },
  {
   "cell_type": "code",
   "execution_count": 12,
   "metadata": {},
   "outputs": [
    {
     "name": "stdout",
     "output_type": "stream",
     "text": [
      "Model: Linear1D\n",
      "Inputs: ('x',)\n",
      "Outputs: ('y',)\n",
      "Model set size: 1024\n",
      "Parameters:\n",
      "          slope             intercept     \n",
      "    ------------------ -------------------\n",
      "     1.185798137468394  -4.597759139735004\n",
      "     1.155676510669758  -4.252454372620736\n",
      "    1.1548651572351154  -4.249681238388218\n",
      "    0.9681225030643688 -2.1561680456584007\n",
      "    1.2914370401222932   -5.69907625082204\n",
      "    0.8845337830839977 -1.4091607052496204\n",
      "    1.2187215938702352  -4.949860000604366\n",
      "    0.9751716631396328 -2.2067048006338705\n",
      "    1.0704676994449815 -3.2347131172932198\n",
      "    0.9480126435597194 -1.9779022977911982\n",
      "                   ...                 ...\n",
      "    1.1220234366445563 -3.8279387335144524\n",
      "    0.9979129659661082  -2.695137134755271\n",
      "    1.0262991745857506  -2.898179935462613\n",
      "    1.0271463601660504  -2.932038528404206\n",
      "    0.9554990009476008   -2.00681139103029\n",
      "    1.0028926634583006 -2.5415910842628104\n",
      "    1.0740376535025964 -3.2858629888486792\n",
      "     1.265023685811028 -5.5060544715206685\n",
      "     1.124038210205075 -3.8001028991936376\n",
      "    1.0411127870885362 -3.0179358883757583\n",
      "     1.035040216905933 -2.9671391744636146\n",
      "    Length = 1024 rows\n"
     ]
    }
   ],
   "source": [
    "print(mcconnell_ma_m_mbulge)\n",
    "with open('../models/McConnellMa2013_mbh_mbulge_relation.pkl', 'wb') as f:\n",
    "    pickle.dump(mcconnell_ma_m_mbulge, f)"
   ]
  },
  {
   "cell_type": "markdown",
   "metadata": {},
   "source": [
    "### AGN-based model"
   ]
  },
  {
   "cell_type": "markdown",
   "metadata": {},
   "source": [
    "#### $M_{\\rm{BH}} - M_{\\rm{K}}$"
   ]
  },
  {
   "cell_type": "code",
   "execution_count": 13,
   "metadata": {},
   "outputs": [],
   "source": [
    "log_m_bh_m_k = cappellari_mgal_k | mcconnell_ma_m_mbulge"
   ]
  },
  {
   "cell_type": "markdown",
   "metadata": {
    "toc-hr-collapsed": true
   },
   "source": [
    "#### Mingarelli+ (2017)"
   ]
  },
  {
   "cell_type": "markdown",
   "metadata": {},
   "source": [
    "##### Mass ratio range"
   ]
  },
  {
   "cell_type": "code",
   "execution_count": 14,
   "metadata": {},
   "outputs": [],
   "source": [
    "q_min_mingarelli = .25\n",
    "q_max_mingarelli = 1"
   ]
  },
  {
   "cell_type": "markdown",
   "metadata": {},
   "source": [
    "##### Mass ranges"
   ]
  },
  {
   "cell_type": "code",
   "execution_count": 15,
   "metadata": {},
   "outputs": [
    {
     "data": {
      "text/html": [
       "<div>\n",
       "<style scoped>\n",
       "    .dataframe tbody tr th:only-of-type {\n",
       "        vertical-align: middle;\n",
       "    }\n",
       "\n",
       "    .dataframe tbody tr th {\n",
       "        vertical-align: top;\n",
       "    }\n",
       "\n",
       "    .dataframe thead th {\n",
       "        text-align: right;\n",
       "    }\n",
       "</style>\n",
       "<table border=\"1\" class=\"dataframe\">\n",
       "  <thead>\n",
       "    <tr style=\"text-align: right;\">\n",
       "      <th></th>\n",
       "      <th>RA</th>\n",
       "      <th>DEC</th>\n",
       "      <th>D_L(Mpc)</th>\n",
       "      <th>Kmag</th>\n",
       "      <th>Name</th>\n",
       "    </tr>\n",
       "  </thead>\n",
       "  <tbody>\n",
       "    <tr>\n",
       "      <th>0</th>\n",
       "      <td>189.998</td>\n",
       "      <td>-11.623</td>\n",
       "      <td>14.63</td>\n",
       "      <td>-25.88</td>\n",
       "      <td>NGC4594</td>\n",
       "    </tr>\n",
       "    <tr>\n",
       "      <th>1</th>\n",
       "      <td>187.445</td>\n",
       "      <td>8.000</td>\n",
       "      <td>20.78</td>\n",
       "      <td>-26.20</td>\n",
       "      <td>NGC4472</td>\n",
       "    </tr>\n",
       "    <tr>\n",
       "      <th>2</th>\n",
       "      <td>50.674</td>\n",
       "      <td>-37.208</td>\n",
       "      <td>19.76</td>\n",
       "      <td>-25.90</td>\n",
       "      <td>NGC1316</td>\n",
       "    </tr>\n",
       "    <tr>\n",
       "      <th>3</th>\n",
       "      <td>190.917</td>\n",
       "      <td>11.553</td>\n",
       "      <td>20.78</td>\n",
       "      <td>-25.86</td>\n",
       "      <td>NGC4649</td>\n",
       "    </tr>\n",
       "    <tr>\n",
       "      <th>4</th>\n",
       "      <td>187.706</td>\n",
       "      <td>12.391</td>\n",
       "      <td>20.78</td>\n",
       "      <td>-25.78</td>\n",
       "      <td>NGC4486</td>\n",
       "    </tr>\n",
       "    <tr>\n",
       "      <th>...</th>\n",
       "      <td>...</td>\n",
       "      <td>...</td>\n",
       "      <td>...</td>\n",
       "      <td>...</td>\n",
       "      <td>...</td>\n",
       "    </tr>\n",
       "    <tr>\n",
       "      <th>5105</th>\n",
       "      <td>214.458</td>\n",
       "      <td>0.511</td>\n",
       "      <td>223.09</td>\n",
       "      <td>-25.11</td>\n",
       "      <td>PGC051063</td>\n",
       "    </tr>\n",
       "    <tr>\n",
       "      <th>5106</th>\n",
       "      <td>64.351</td>\n",
       "      <td>-37.282</td>\n",
       "      <td>216.26</td>\n",
       "      <td>-25.05</td>\n",
       "      <td>PGC014806</td>\n",
       "    </tr>\n",
       "    <tr>\n",
       "      <th>5107</th>\n",
       "      <td>123.188</td>\n",
       "      <td>11.632</td>\n",
       "      <td>223.76</td>\n",
       "      <td>-25.13</td>\n",
       "      <td>PGC1396460</td>\n",
       "    </tr>\n",
       "    <tr>\n",
       "      <th>5108</th>\n",
       "      <td>206.159</td>\n",
       "      <td>21.093</td>\n",
       "      <td>218.77</td>\n",
       "      <td>-25.30</td>\n",
       "      <td>PGC3089894</td>\n",
       "    </tr>\n",
       "    <tr>\n",
       "      <th>5109</th>\n",
       "      <td>270.047</td>\n",
       "      <td>48.654</td>\n",
       "      <td>218.26</td>\n",
       "      <td>-25.41</td>\n",
       "      <td>PGC2322449</td>\n",
       "    </tr>\n",
       "  </tbody>\n",
       "</table>\n",
       "<p>5110 rows × 5 columns</p>\n",
       "</div>"
      ],
      "text/plain": [
       "           RA     DEC  D_L(Mpc)   Kmag        Name\n",
       "0     189.998 -11.623     14.63 -25.88     NGC4594\n",
       "1     187.445   8.000     20.78 -26.20     NGC4472\n",
       "2      50.674 -37.208     19.76 -25.90     NGC1316\n",
       "3     190.917  11.553     20.78 -25.86     NGC4649\n",
       "4     187.706  12.391     20.78 -25.78     NGC4486\n",
       "...       ...     ...       ...    ...         ...\n",
       "5105  214.458   0.511    223.09 -25.11   PGC051063\n",
       "5106   64.351 -37.282    216.26 -25.05   PGC014806\n",
       "5107  123.188  11.632    223.76 -25.13  PGC1396460\n",
       "5108  206.159  21.093    218.77 -25.30  PGC3089894\n",
       "5109  270.047  48.654    218.26 -25.41  PGC2322449\n",
       "\n",
       "[5110 rows x 5 columns]"
      ]
     },
     "execution_count": 15,
     "metadata": {},
     "output_type": "execute_result"
    }
   ],
   "source": [
    "galaxies = pd.read_csv('../data/external/25/added_mks.lst', delimiter='\\s+',\n",
    "                       usecols=[0, 1, 2, 3, 4], index_col=False)\n",
    "galaxies = galaxies.append(pd.read_csv('../data/external/25/schutzMa_extension.txt',\n",
    "                                       delimiter='\\s+',\n",
    "                                       usecols=[0, 1, 2, 3, 4],\n",
    "                                       index_col=False))\n",
    "catalog = pd.read_csv('../data/external/25/2mass_galaxies.lst', delimiter='\\s+',\n",
    "                      usecols=[1, 2, 3, 4, 5], index_col=False,\n",
    "                      names=['RA', 'DEC', 'D_L(Mpc)', 'Kmag', 'Name'])\n",
    "catalog"
   ]
  },
  {
   "cell_type": "code",
   "execution_count": 16,
   "metadata": {},
   "outputs": [
    {
     "data": {
      "text/latex": [
       "$\\displaystyle \\log M_{\\rm{BHB, min, M17}} = 8.56$"
      ],
      "text/plain": [
       "<IPython.core.display.Math object>"
      ]
     },
     "metadata": {},
     "output_type": "display_data"
    },
    {
     "data": {
      "text/latex": [
       "$\\displaystyle \\log M_{\\rm{BHB, max, M17}} = 10.31$"
      ],
      "text/plain": [
       "<IPython.core.display.Math object>"
      ]
     },
     "metadata": {},
     "output_type": "display_data"
    }
   ],
   "source": [
    "log_m_bhb_mingarelli = np.array([log_m_bh_m_k(Mk) for Mk in catalog['Kmag']])\n",
    "log_m_bhb_mingarelli = np.random.normal(log_m_bhb_mingarelli, .34)\n",
    "log_m_bhb_mingarelli_q = np.quantile(log_m_bhb_mingarelli, q=[.16, .5, .84], axis=1)\n",
    "log_m_bhb_mingarelli_max = np.max(log_m_bhb_mingarelli_q)\n",
    "log_m_bhb_mingarelli_min = np.min(log_m_bhb_mingarelli_q)\n",
    "display(Math(r'\\log M_{{\\rm{{BHB, min, M17}}}} = {0:.2f}'\n",
    "             .format(log_m_bhb_mingarelli_min)))\n",
    "display(Math(r'\\log M_{{\\rm{{BHB, max, M17}}}} = {0:.2f}'\n",
    "             .format(log_m_bhb_mingarelli_max)))"
   ]
  },
  {
   "cell_type": "code",
   "execution_count": 17,
   "metadata": {},
   "outputs": [
    {
     "data": {
      "text/latex": [
       "$\\displaystyle \\log M_{\\rm{BH, min, M17}} = 8.47$"
      ],
      "text/plain": [
       "<IPython.core.display.Math object>"
      ]
     },
     "metadata": {},
     "output_type": "display_data"
    },
    {
     "data": {
      "text/latex": [
       "$\\displaystyle \\log M_{\\rm{BH, max, M17}} = 10.01$"
      ],
      "text/plain": [
       "<IPython.core.display.Math object>"
      ]
     },
     "metadata": {},
     "output_type": "display_data"
    }
   ],
   "source": [
    "log_m_bh_min_mingarelli = log_m_bhb_mingarelli_min - np.log10(1 + q_min_mingarelli)\n",
    "log_m_bh_max_mingarelli = log_m_bhb_mingarelli_max - np.log10(1 + q_max_mingarelli)\n",
    "log_m_bh_max = log_m_bh_max_mingarelli\n",
    "display(Math(r'\\log M_{{\\rm{{BH, min, M17}}}} = {0:.2f}'\n",
    "             .format(log_m_bh_min_mingarelli)))\n",
    "display(Math(r'\\log M_{{\\rm{{BH, max, M17}}}} = {0:.2f}'\n",
    "             .format(log_m_bh_max_mingarelli)))"
   ]
  },
  {
   "cell_type": "markdown",
   "metadata": {},
   "source": [
    "#### $q$ distribution"
   ]
  },
  {
   "cell_type": "code",
   "execution_count": 18,
   "metadata": {},
   "outputs": [],
   "source": [
    "var_log_q = np.repeat(.5, n_samples)\n",
    "mode_log_q = np.repeat(0, n_samples)\n",
    "median_log_q = mode_log_q + (var_log_q ** 2)"
   ]
  },
  {
   "cell_type": "code",
   "execution_count": 19,
   "metadata": {},
   "outputs": [],
   "source": [
    "q_distrib = LogNormal1D(mu=median_log_q, std=var_log_q, n_models=n_samples)"
   ]
  },
  {
   "cell_type": "code",
   "execution_count": 20,
   "metadata": {},
   "outputs": [
    {
     "name": "stdout",
     "output_type": "stream",
     "text": [
      "Model: LogNormal1D\n",
      "Inputs: ('x',)\n",
      "Outputs: ('y',)\n",
      "Model set size: 1024\n",
      "Parameters:\n",
      "     mu  std\n",
      "    ---- ---\n",
      "    0.25 0.5\n",
      "    0.25 0.5\n",
      "    0.25 0.5\n",
      "    0.25 0.5\n",
      "    0.25 0.5\n",
      "    0.25 0.5\n",
      "    0.25 0.5\n",
      "    0.25 0.5\n",
      "    0.25 0.5\n",
      "    0.25 0.5\n",
      "     ... ...\n",
      "    0.25 0.5\n",
      "    0.25 0.5\n",
      "    0.25 0.5\n",
      "    0.25 0.5\n",
      "    0.25 0.5\n",
      "    0.25 0.5\n",
      "    0.25 0.5\n",
      "    0.25 0.5\n",
      "    0.25 0.5\n",
      "    0.25 0.5\n",
      "    0.25 0.5\n",
      "    Length = 1024 rows\n"
     ]
    }
   ],
   "source": [
    "print(q_distrib)\n",
    "with open('../models/q_distrib.pkl', 'wb') as f:\n",
    "    pickle.dump(q_distrib, f)"
   ]
  },
  {
   "cell_type": "markdown",
   "metadata": {
    "toc-hr-collapsed": true
   },
   "source": [
    "#### Hopkins+ (2007)"
   ]
  },
  {
   "cell_type": "markdown",
   "metadata": {},
   "source": [
    "##### Differential quasar formation density model parameters"
   ]
  },
  {
   "cell_type": "code",
   "execution_count": 21,
   "metadata": {},
   "outputs": [],
   "source": [
    "log_formation_rate_normalization = unc.normal(-3.830, std=0.031, n_samples=n_samples).distribution\n",
    "log_formation_rate_power_law_slope = unc.normal(-4.02, std=0.36, n_samples=n_samples).distribution\n",
    "log_mass_break_normalization = unc.normal(8.959, std=0.032, n_samples=n_samples).distribution\n",
    "log_mass_break_k_1 = unc.normal(1.18, std=0.13, n_samples=n_samples).distribution\n",
    "log_mass_break_k_2 = unc.normal(-6.68, std=0.44, n_samples=n_samples).distribution\n",
    "low_mass_slope = np.repeat(.2, n_samples)\n",
    "high_mass_slope_normalization = unc.normal(2.86, std=0.16, n_samples=n_samples).distribution\n",
    "high_mass_slope_k_1 = unc.normal(1.80, std=0.18, n_samples=n_samples).distribution\n",
    "high_mass_slope_k_2 = unc.normal(-1.13, std=0.09, n_samples=n_samples).distribution\n",
    "z_ref = np.repeat(2, n_samples)"
   ]
  },
  {
   "cell_type": "markdown",
   "metadata": {},
   "source": [
    "##### Differential quasar formation density model"
   ]
  },
  {
   "cell_type": "code",
   "execution_count": 22,
   "metadata": {},
   "outputs": [],
   "source": [
    "quasar_formation_rate = Hopkins2007QuasarFormationDensity(log_formation_rate_normalization=log_formation_rate_normalization,\n",
    "                                                          log_formation_rate_power_law_slope=log_formation_rate_power_law_slope,\n",
    "                                                          log_mass_break_normalization=log_mass_break_normalization,\n",
    "                                                          log_mass_break_k_1=log_mass_break_k_1,\n",
    "                                                          log_mass_break_k_2=log_mass_break_k_2,\n",
    "                                                          low_mass_slope=low_mass_slope,\n",
    "                                                          high_mass_slope_normalization=high_mass_slope_normalization,\n",
    "                                                          high_mass_slope_k_1=high_mass_slope_k_1,\n",
    "                                                          high_mass_slope_k_2=high_mass_slope_k_2,\n",
    "                                                          z_ref=z_ref,\n",
    "                                                          n_models=n_samples)"
   ]
  },
  {
   "cell_type": "code",
   "execution_count": 23,
   "metadata": {},
   "outputs": [
    {
     "name": "stdout",
     "output_type": "stream",
     "text": [
      "Model: Hopkins2007QuasarFormationDensity\n",
      "Inputs: ('x', 'y')\n",
      "Outputs: ('z',)\n",
      "Model set size: 1024\n",
      "Parameters:\n",
      "    log_formation_rate_normalization log_formation_rate_power_law_slope ... z_ref\n",
      "    -------------------------------- ---------------------------------- ... -----\n",
      "                 -3.8706674753539114                 -3.320409555031351 ...   2.0\n",
      "                  -3.868777253020271                 -3.604368405004928 ...   2.0\n",
      "                 -3.8576461530211783                -3.7133957783103018 ...   2.0\n",
      "                  -3.887809088171474                 -4.316521515792852 ...   2.0\n",
      "                 -3.8584395349545697                 -4.751340728295823 ...   2.0\n",
      "                  -3.852816466844665                -4.7474847180983994 ...   2.0\n",
      "                 -3.8260117845728554                 -4.277756622107602 ...   2.0\n",
      "                  -3.816794372726403                -4.6281162969603695 ...   2.0\n",
      "                  -3.860469125491751                 -4.230251159693978 ...   2.0\n",
      "                  -3.876593698967177                -3.6223072873640776 ...   2.0\n",
      "                                 ...                                ... ...   ...\n",
      "                  -3.842834653028729                -4.2249015426100796 ...   2.0\n",
      "                 -3.8237577011593498                -3.6816688070663575 ...   2.0\n",
      "                 -3.8298859161331547                 -4.775231604429181 ...   2.0\n",
      "                  -3.814493452179785                 -5.245086140808329 ...   2.0\n",
      "                 -3.7897159617896934                -3.6102410000885143 ...   2.0\n",
      "                 -3.8292786022529417                -3.9245054564670703 ...   2.0\n",
      "                 -3.8178869857678865                 -4.098958473861564 ...   2.0\n",
      "                  -3.854410405391646                 -4.190039564738954 ...   2.0\n",
      "                  -3.825417460010891                 -3.725051272884247 ...   2.0\n",
      "                 -3.8453349079869494                 -3.617122481117577 ...   2.0\n",
      "                  -3.883060032422064                 -3.902011836374202 ...   2.0\n",
      "    Length = 1024 rows\n"
     ]
    }
   ],
   "source": [
    "print(quasar_formation_rate)\n",
    "with open('../models/Hopkins2007_quasar_formation_rate_binaries.pkl', 'wb') as f:\n",
    "    pickle.dump(quasar_formation_rate, f)"
   ]
  },
  {
   "cell_type": "markdown",
   "metadata": {},
   "source": [
    "### Goulding+ (2019) AGN-based model"
   ]
  },
  {
   "cell_type": "markdown",
   "metadata": {},
   "source": [
    "#### Goulding+ (2019) bounds"
   ]
  },
  {
   "cell_type": "markdown",
   "metadata": {},
   "source": [
    "##### J1010-like quasar parameters"
   ]
  },
  {
   "cell_type": "code",
   "execution_count": 24,
   "metadata": {},
   "outputs": [],
   "source": [
    "# Number density luminosity bounds\n",
    "log_l_min = np.log10((.3 * (10 ** 46.) * u.erg / u.s).to(u.Lsun).value)\n",
    "log_l_max = np.log10((.3 * (10 ** 47.) * u.erg / u.s).to(u.Lsun).value)\n",
    "log_l_min_goulding = np.repeat(log_l_min, n_samples)\n",
    "log_l_max_goulding = np.repeat(log_l_max, n_samples)\n",
    "\n",
    "log_m_min_goulding = 8\n",
    "log_m_max_goulding = 10\n",
    "\n",
    "log_m_chirp_min_goulding = log_m_min_goulding + (3 / 5) * (np.log10(q_max) - 2 * np.log10(1 + q_max))\n",
    "log_m_chirp_max_goulding = log_m_max_goulding + (3 / 5) * (np.log10(q_max) - 2 * np.log10(1 + q_max))\n",
    "\n",
    "log_m_bh_min_goulding = log_m_min_goulding - np.log10(1 + q_max)\n",
    "log_m_bh_max_goulding = log_m_max_goulding - np.log10(1 + q_max)"
   ]
  },
  {
   "cell_type": "code",
   "execution_count": 25,
   "metadata": {},
   "outputs": [
    {
     "data": {
      "text/plain": [
       "(11.894149325614856, 12.894149325614856)"
      ]
     },
     "execution_count": 25,
     "metadata": {},
     "output_type": "execute_result"
    }
   ],
   "source": [
    "log_l_min, log_l_max"
   ]
  },
  {
   "cell_type": "markdown",
   "metadata": {},
   "source": [
    "#### Sheth+ (2003)"
   ]
  },
  {
   "cell_type": "markdown",
   "metadata": {},
   "source": [
    "##### Velocity dispersion function parameters"
   ]
  },
  {
   "cell_type": "code",
   "execution_count": 26,
   "metadata": {},
   "outputs": [],
   "source": [
    "dispersion_normalization_sheth = unc.normal(0.002, std=.0001, n_samples=n_samples).distribution * (WMAP9.h ** 3)\n",
    "dispersion_break_sheth = np.repeat(88.8, n_samples)  # unc.normal(88.8, std=17.7, n_samples=n_samples).distribution\n",
    "alpha_sheth = np.repeat(6.5, n_samples)  # unc.normal(6.5, std=1., n_samples=n_samples).distribution\n",
    "beta_sheth = np.repeat(1.93, n_samples)"
   ]
  },
  {
   "cell_type": "markdown",
   "metadata": {},
   "source": [
    "##### Velocity dispersion function"
   ]
  },
  {
   "cell_type": "code",
   "execution_count": 27,
   "metadata": {},
   "outputs": [],
   "source": [
    "sheth_2003_velocity_dispersion_function = ModifiedSchechter(normalization=dispersion_normalization_sheth,\n",
    "                                                            sigma_break=dispersion_break_sheth,\n",
    "                                                            alpha=alpha_sheth,\n",
    "                                                            beta=beta_sheth,\n",
    "                                                            n_models=n_samples)"
   ]
  },
  {
   "cell_type": "code",
   "execution_count": 28,
   "metadata": {},
   "outputs": [
    {
     "name": "stdout",
     "output_type": "stream",
     "text": [
      "Model: ModifiedSchechter\n",
      "Inputs: ('x',)\n",
      "Outputs: ('y',)\n",
      "Model set size: 1024\n",
      "Parameters:\n",
      "        normalization     sigma_break alpha beta\n",
      "    --------------------- ----------- ----- ----\n",
      "    0.0006768330088461872        88.8   6.5 1.93\n",
      "    0.0007232528648699936        88.8   6.5 1.93\n",
      "    0.0006390881366437553        88.8   6.5 1.93\n",
      "     0.000699376020777191        88.8   6.5 1.93\n",
      "    0.0006764360656562877        88.8   6.5 1.93\n",
      "    0.0006718554184650441        88.8   6.5 1.93\n",
      "    0.0007018041190200481        88.8   6.5 1.93\n",
      "    0.0006955370351451446        88.8   6.5 1.93\n",
      "    0.0006402757494711514        88.8   6.5 1.93\n",
      "    0.0006277266393162928        88.8   6.5 1.93\n",
      "                      ...         ...   ...  ...\n",
      "    0.0006533905986778045        88.8   6.5 1.93\n",
      "    0.0006530704468912094        88.8   6.5 1.93\n",
      "    0.0006762533601947331        88.8   6.5 1.93\n",
      "    0.0006265538114253156        88.8   6.5 1.93\n",
      "    0.0006983667641846621        88.8   6.5 1.93\n",
      "    0.0006387223069579228        88.8   6.5 1.93\n",
      "    0.0006645446492489515        88.8   6.5 1.93\n",
      "    0.0006773005936808205        88.8   6.5 1.93\n",
      "     0.000636323634181902        88.8   6.5 1.93\n",
      "    0.0006547547287826892        88.8   6.5 1.93\n",
      "    0.0006594085059990613        88.8   6.5 1.93\n",
      "    Length = 1024 rows\n"
     ]
    }
   ],
   "source": [
    "print(sheth_2003_velocity_dispersion_function)\n",
    "with open('../models/Sheth2003_velocity_dispersion_function.pkl', 'wb') as f:\n",
    "    pickle.dump(sheth_2003_velocity_dispersion_function, f)"
   ]
  },
  {
   "cell_type": "markdown",
   "metadata": {},
   "source": [
    "#### Marconi+ (2004)"
   ]
  },
  {
   "cell_type": "markdown",
   "metadata": {},
   "source": [
    "##### Black hole mass function parameters"
   ]
  },
  {
   "cell_type": "code",
   "execution_count": 29,
   "metadata": {},
   "outputs": [],
   "source": [
    "b_marconi = unc.normal(4.11, std=.33, n_samples=n_samples).distribution\n",
    "a_marconi = unc.normal(8.30, std=.07, n_samples=n_samples).distribution - 2.3 * b_marconi\n",
    "intrinsic_disp_marconi = np.repeat(.3, n_samples)"
   ]
  },
  {
   "cell_type": "markdown",
   "metadata": {},
   "source": [
    "##### Black hole mass function"
   ]
  },
  {
   "cell_type": "code",
   "execution_count": 30,
   "metadata": {},
   "outputs": [],
   "source": [
    "marconi_2004_black_hole_mass_function = Marconi2004BHMF(mass_dispersion_intercept=a_marconi,\n",
    "                                                        mass_dispersion_slope=b_marconi,\n",
    "                                                        intrinsic_scatter=intrinsic_disp_marconi,\n",
    "                                                        dispersion_norm=dispersion_normalization_sheth,\n",
    "                                                        log_dispersion_break=np.log10(dispersion_break_sheth),\n",
    "                                                        dispersion_alpha=alpha_sheth,\n",
    "                                                        dispersion_beta=beta_sheth,\n",
    "                                                        n_models=n_samples)"
   ]
  },
  {
   "cell_type": "code",
   "execution_count": 31,
   "metadata": {},
   "outputs": [
    {
     "name": "stdout",
     "output_type": "stream",
     "text": [
      "Model: Marconi2004BHMF\n",
      "Inputs: ('x',)\n",
      "Outputs: ('y',)\n",
      "Model set size: 1024\n",
      "Parameters:\n",
      "    mass_dispersion_intercept mass_dispersion_slope ... dispersion_beta\n",
      "    ------------------------- --------------------- ... ---------------\n",
      "          -0.7710009452683604    3.9644321053040823 ...            1.93\n",
      "          -0.6621713347495888     3.843806475000081 ...            1.93\n",
      "          -0.7849140617260559    3.9583068838899096 ...            1.93\n",
      "          -0.9259254341117842     4.078229217585384 ...            1.93\n",
      "          -0.4676689359577022    3.8397045215348475 ...            1.93\n",
      "          -0.6879667093083022     3.878202295864268 ...            1.93\n",
      "         -0.40194381213991903    3.7973623413449635 ...            1.93\n",
      "          -0.9586240096988838    3.9756767007504576 ...            1.93\n",
      "          -1.5957780438767575    4.3115049714709945 ...            1.93\n",
      "         -0.18157728022448083    3.7384330313485004 ...            1.93\n",
      "                          ...                   ... ...             ...\n",
      "          -1.4233305579390567     4.200218315214407 ...            1.93\n",
      "          -0.9875906634853227     4.042458988123259 ...            1.93\n",
      "          -1.4729347885740847     4.275777748543017 ...            1.93\n",
      "          -0.4876234857806203    3.8625345096723627 ...            1.93\n",
      "          -1.1781191481118682     4.089876326015696 ...            1.93\n",
      "          -1.1178967335860026     4.073044106004769 ...            1.93\n",
      "           -1.513545193864168     4.249162792720881 ...            1.93\n",
      "          -0.8776682996183034     3.948683788033451 ...            1.93\n",
      "          -1.9568766473572143    4.3985078749438395 ...            1.93\n",
      "          -1.3088055696235728    4.1718589898793494 ...            1.93\n",
      "          -0.9392375348119426     4.005045438281606 ...            1.93\n",
      "    Length = 1024 rows\n"
     ]
    }
   ],
   "source": [
    "print(marconi_2004_black_hole_mass_function)\n",
    "with open('../models/Marconi2004_black_hole_mass_function.pkl', 'wb') as f:\n",
    "    pickle.dump(marconi_2004_black_hole_mass_function, f)"
   ]
  },
  {
   "cell_type": "markdown",
   "metadata": {},
   "source": [
    "#### Hopkins+ (2007)"
   ]
  },
  {
   "cell_type": "markdown",
   "metadata": {},
   "source": [
    "##### Quasar luminosity function number density parameters"
   ]
  },
  {
   "cell_type": "code",
   "execution_count": 32,
   "metadata": {},
   "outputs": [],
   "source": [
    "log_norm_hopkins = unc.normal(-4.825, std=0.060, n_samples=n_samples).distribution\n",
    "log_break_luminosity_norm_hopkins = unc.normal(13.036, std=0.043, n_samples=n_samples).distribution\n",
    "log_break_luminosity_k1_hopkins = unc.normal(0.632, std=0.077, n_samples=n_samples).distribution\n",
    "log_break_luminosity_k2_hopkins = unc.normal(-11.76, std=0.38, n_samples=n_samples).distribution\n",
    "log_break_luminosity_k3_hopkins = unc.normal(-14.25, std=0.80, n_samples=n_samples).distribution\n",
    "faint_end_slope_norm_hopkins = unc.normal(0.417, std=0.055, n_samples=n_samples).distribution\n",
    "faint_end_slope_k_hopkins = unc.normal(-0.623, std=0.132, n_samples=n_samples).distribution\n",
    "bright_end_slope_norm_hopkins = unc.normal(2.174, std=0.055, n_samples=n_samples).distribution\n",
    "bright_end_slope_k1_hopkins = unc.normal(1.460, std=0.096, n_samples=n_samples).distribution\n",
    "bright_end_slope_k2_hopkins = unc.normal(-0.793, std=0.057, n_samples=n_samples).distribution\n",
    "z_ref_hopkins = np.repeat(2, n_samples)"
   ]
  },
  {
   "cell_type": "markdown",
   "metadata": {},
   "source": [
    "##### Quasar luminosity function number density"
   ]
  },
  {
   "cell_type": "code",
   "execution_count": 33,
   "metadata": {},
   "outputs": [],
   "source": [
    "hopkins_2007_quasar_number_density = Hopkins2007QuasarNumberDensity(log_l_min=log_l_min_goulding,\n",
    "                                                                    log_l_max=log_l_max_goulding,\n",
    "                                                                    log_norm=log_norm_hopkins,\n",
    "                                                                    log_break_luminosity_norm=log_break_luminosity_norm_hopkins,\n",
    "                                                                    log_break_luminosity_k1=log_break_luminosity_k1_hopkins,\n",
    "                                                                    log_break_luminosity_k2=log_break_luminosity_k2_hopkins,\n",
    "                                                                    log_break_luminosity_k3=log_break_luminosity_k3_hopkins,\n",
    "                                                                    faint_end_slope_norm=faint_end_slope_norm_hopkins,\n",
    "                                                                    faint_end_slope_k=faint_end_slope_k_hopkins,\n",
    "                                                                    bright_end_slope_norm=bright_end_slope_norm_hopkins,\n",
    "                                                                    bright_end_slope_k1=bright_end_slope_k1_hopkins,\n",
    "                                                                    bright_end_slope_k2=bright_end_slope_k2_hopkins,\n",
    "                                                                    z_ref=z_ref_hopkins,\n",
    "                                                                    n_models=n_samples)"
   ]
  },
  {
   "cell_type": "code",
   "execution_count": 34,
   "metadata": {},
   "outputs": [
    {
     "name": "stdout",
     "output_type": "stream",
     "text": [
      "Model: Hopkins2007QuasarNumberDensity\n",
      "Inputs: ('x',)\n",
      "Outputs: ('y',)\n",
      "Model set size: 1024\n",
      "Parameters:\n",
      "        log_l_min          log_l_max      ... bright_end_slope_k2 z_ref\n",
      "    ------------------ ------------------ ... ------------------- -----\n",
      "    11.894149325614856 12.894149325614856 ... -0.7862224078477982   2.0\n",
      "    11.894149325614856 12.894149325614856 ... -0.7818968516283114   2.0\n",
      "    11.894149325614856 12.894149325614856 ... -0.7594403609583384   2.0\n",
      "    11.894149325614856 12.894149325614856 ... -0.8768502779843448   2.0\n",
      "    11.894149325614856 12.894149325614856 ... -0.7045976625109966   2.0\n",
      "    11.894149325614856 12.894149325614856 ...  -0.691921300031505   2.0\n",
      "    11.894149325614856 12.894149325614856 ... -0.7997192467887675   2.0\n",
      "    11.894149325614856 12.894149325614856 ... -0.8109248472649981   2.0\n",
      "    11.894149325614856 12.894149325614856 ... -0.8395202108555138   2.0\n",
      "    11.894149325614856 12.894149325614856 ... -0.7731336474927372   2.0\n",
      "                   ...                ... ...                 ...   ...\n",
      "    11.894149325614856 12.894149325614856 ... -0.7698479380933625   2.0\n",
      "    11.894149325614856 12.894149325614856 ... -0.8807742288041515   2.0\n",
      "    11.894149325614856 12.894149325614856 ... -0.7473446757563202   2.0\n",
      "    11.894149325614856 12.894149325614856 ...  -0.844776298599724   2.0\n",
      "    11.894149325614856 12.894149325614856 ...  -0.796548457939388   2.0\n",
      "    11.894149325614856 12.894149325614856 ... -0.6831618960941113   2.0\n",
      "    11.894149325614856 12.894149325614856 ...  -0.859835357558679   2.0\n",
      "    11.894149325614856 12.894149325614856 ... -0.7545940543165718   2.0\n",
      "    11.894149325614856 12.894149325614856 ... -0.7102454821394923   2.0\n",
      "    11.894149325614856 12.894149325614856 ... -0.8410075205908683   2.0\n",
      "    11.894149325614856 12.894149325614856 ... -0.7370438339661052   2.0\n",
      "    Length = 1024 rows\n"
     ]
    }
   ],
   "source": [
    "print(hopkins_2007_quasar_number_density)\n",
    "with open('../models/Hopkins2007_quasar_number_density.pkl', 'wb') as f:\n",
    "    pickle.dump(hopkins_2007_quasar_number_density, f)"
   ]
  },
  {
   "cell_type": "markdown",
   "metadata": {},
   "source": [
    "#### Goulding+ (2019) dual AGN model"
   ]
  },
  {
   "cell_type": "markdown",
   "metadata": {},
   "source": [
    "##### J1010-like quasar number density"
   ]
  },
  {
   "cell_type": "code",
   "execution_count": 35,
   "metadata": {},
   "outputs": [],
   "source": [
    "j1010_quasars = Goulding2019J1010Binaries(binary_normalization=np.repeat(1, n_samples),\n",
    "                                          mass_dispersion_intercept=a_marconi,\n",
    "                                          mass_dispersion_slope=b_marconi,\n",
    "                                          intrinsic_scatter=intrinsic_disp_marconi,\n",
    "                                          dispersion_norm=dispersion_normalization_sheth,\n",
    "                                          log_dispersion_break=np.log10(dispersion_break_sheth),\n",
    "                                          dispersion_alpha=alpha_sheth,\n",
    "                                          dispersion_beta=beta_sheth,\n",
    "                                          log_l_min=log_l_min_goulding,\n",
    "                                          log_l_max=log_l_max_goulding,\n",
    "                                          log_dens_norm=log_norm_hopkins,\n",
    "                                          log_break_luminosity_norm=log_break_luminosity_norm_hopkins,\n",
    "                                          log_break_luminosity_k1=log_break_luminosity_k1_hopkins,\n",
    "                                          log_break_luminosity_k2=log_break_luminosity_k2_hopkins,\n",
    "                                          log_break_luminosity_k3=log_break_luminosity_k3_hopkins,\n",
    "                                          faint_end_slope_norm=faint_end_slope_norm_hopkins,\n",
    "                                          faint_end_slope_k=faint_end_slope_k_hopkins,\n",
    "                                          bright_end_slope_norm=bright_end_slope_norm_hopkins,\n",
    "                                          bright_end_slope_k1=bright_end_slope_k1_hopkins,\n",
    "                                          bright_end_slope_k2=bright_end_slope_k2_hopkins,\n",
    "                                          z_ref=z_ref_hopkins,\n",
    "                                          n_models=n_samples)"
   ]
  },
  {
   "cell_type": "markdown",
   "metadata": {},
   "source": [
    "### Merger models"
   ]
  },
  {
   "cell_type": "markdown",
   "metadata": {},
   "source": [
    "#### Bell+ (2003)"
   ]
  },
  {
   "cell_type": "markdown",
   "metadata": {},
   "source": [
    "##### Galactic mass function parameters"
   ]
  },
  {
   "cell_type": "code",
   "execution_count": 36,
   "metadata": {},
   "outputs": [],
   "source": [
    "z_bell = 0.\n",
    "phi_bell = trunc_norm_dist(a=0, b=np.inf, loc=0.0133, scale=0.0006, size=n_samples) * (WMAP9.h ** 3)\n",
    "log_mgal_break_bell = unc.normal(10.63, std=.01, n_samples=n_samples).distribution - 2. * np.log10(WMAP9.h)\n",
    "alpha_bell = unc.normal(-0.86, std=.04, n_samples=n_samples).distribution"
   ]
  },
  {
   "cell_type": "markdown",
   "metadata": {},
   "source": [
    "##### Galactic mass function"
   ]
  },
  {
   "cell_type": "code",
   "execution_count": 37,
   "metadata": {},
   "outputs": [],
   "source": [
    "bell_2003_galactic_mass_function = Schechter1D(normalization=phi_bell,\n",
    "                                               log_m_break=log_mgal_break_bell,\n",
    "                                               exponent=alpha_bell,\n",
    "                                               n_models=n_samples)"
   ]
  },
  {
   "cell_type": "code",
   "execution_count": 38,
   "metadata": {},
   "outputs": [
    {
     "name": "stdout",
     "output_type": "stream",
     "text": [
      "Model: Schechter1D\n",
      "Inputs: ('x',)\n",
      "Outputs: ('y',)\n",
      "Model set size: 1024\n",
      "Parameters:\n",
      "        normalization        log_m_break           exponent     \n",
      "    --------------------- ------------------ -------------------\n",
      "     0.004430083183542889 10.953895690499264 -0.8014791782149083\n",
      "    0.0041988863973995835   10.9490939815566 -0.8515416034004548\n",
      "     0.004455691425467302 10.932090387567571 -0.9048660687586557\n",
      "    0.0044398234531523705 10.959857338310742 -0.8134197028881804\n",
      "    0.0044358799677305044 10.952909741839983 -0.8808531084686595\n",
      "     0.004683696919507766   10.9596679828993 -0.8248902151318741\n",
      "     0.004320514723393029  10.94502533556108 -0.8734639262594293\n",
      "     0.004217484912428039 10.946481002095295 -0.8763414193923529\n",
      "     0.004398304953413671 10.954131551093571 -0.8776889150983048\n",
      "     0.004632689712358057 10.937562638097635 -0.9337664652863003\n",
      "                      ...                ...                 ...\n",
      "     0.004377681232358912 10.953556062182658 -0.8839928417422331\n",
      "     0.004895325214878395 10.945719564822886  -0.912228872290204\n",
      "     0.004040162199953197 10.950884359414626 -0.8716777268107476\n",
      "     0.004327763995356653  10.96161420914665 -0.8918260475363253\n",
      "     0.004712485076537125 10.947109529495533 -0.8520894525685153\n",
      "     0.004329885108766268 10.936862826281661 -0.9008017092256795\n",
      "     0.004618502051841496 10.948181771354784 -0.8575287901547286\n",
      "     0.004417914208889673 10.947209960902152 -0.8528539200227538\n",
      "     0.004379774216874283 10.938215724997141 -0.8437949681570334\n",
      "     0.004234599371064375    10.943825621941 -0.9062255124502793\n",
      "     0.004207684296397201 10.950968900637307 -0.9119538312393696\n",
      "    Length = 1024 rows\n"
     ]
    }
   ],
   "source": [
    "print(bell_2003_galactic_mass_function)\n",
    "with open('../models/Bell2003_galaxy_mass_function.pkl', 'wb') as f:\n",
    "    pickle.dump(bell_2003_galactic_mass_function, f)"
   ]
  },
  {
   "cell_type": "markdown",
   "metadata": {},
   "source": [
    "#### Borch+ (2006)"
   ]
  },
  {
   "cell_type": "markdown",
   "metadata": {},
   "source": [
    "##### Galactic mass function parameters"
   ]
  },
  {
   "cell_type": "code",
   "execution_count": 39,
   "metadata": {},
   "outputs": [],
   "source": [
    "z_borch = np.array([0, .3, .5, .7, .9])\n",
    "z_range_borch = np.linspace(0, .9, num=n_mesh)\n",
    "\n",
    "norm_0_borch = trunc_norm_dist(a=0, b=np.inf, loc=37e-4, scale=4e-4, size=n_samples)\n",
    "norm_3_borch = trunc_norm_dist(a=0, b=np.inf, loc=17e-4, scale=7e-4, size=n_samples)\n",
    "norm_5_borch = trunc_norm_dist(a=0, b=np.inf, loc=15e-4, scale=5e-4, size=n_samples)\n",
    "norm_7_borch = trunc_norm_dist(a=0, b=np.inf, loc=11e-4, scale=4e-4, size=n_samples)\n",
    "norm_9_borch = trunc_norm_dist(a=0, b=np.inf, loc=9e-4, scale=3e-4, size=n_samples)\n",
    "\n",
    "log_m_gal_0_borch = unc.normal(10.81, std=.1, n_samples=n_samples).distribution\n",
    "log_m_gal_3_borch =  unc.normal(10.97, std=.09, n_samples=n_samples).distribution\n",
    "log_m_gal_5_borch =  unc.normal(10.95, std=.1, n_samples=n_samples).distribution\n",
    "log_m_gal_7_borch =  unc.normal(11.06, std=.18, n_samples=n_samples).distribution\n",
    "log_m_gal_9_borch =  unc.normal(11.01, std=.08, n_samples=n_samples).distribution\n",
    "\n",
    "alpha_0_borch = unc.normal(-.7, std=.07, n_samples=n_samples).distribution\n",
    "alpha_3_borch = unc.normal(-.7, std=.07, n_samples=n_samples).distribution\n",
    "alpha_5_borch = unc.normal(-.7, std=.07, n_samples=n_samples).distribution\n",
    "alpha_7_borch = unc.normal(-.7, std=.07, n_samples=n_samples).distribution\n",
    "alpha_9_borch = unc.normal(-.7, std=.07, n_samples=n_samples).distribution"
   ]
  },
  {
   "cell_type": "markdown",
   "metadata": {},
   "source": [
    "##### Galactic mass function"
   ]
  },
  {
   "cell_type": "code",
   "execution_count": 40,
   "metadata": {},
   "outputs": [],
   "source": [
    "borch_2006_galactic_mass_function = Schechter2D(norm1=norm_0_borch,\n",
    "                                                norm2=norm_3_borch,\n",
    "                                                norm3=norm_5_borch,\n",
    "                                                norm4=norm_7_borch,\n",
    "                                                norm5=norm_9_borch,\n",
    "                                                log_m_break1=log_m_gal_0_borch,\n",
    "                                                log_m_break2=log_m_gal_3_borch,\n",
    "                                                log_m_break3=log_m_gal_5_borch,\n",
    "                                                log_m_break4=log_m_gal_7_borch,\n",
    "                                                log_m_break5=log_m_gal_9_borch,\n",
    "                                                exp1=alpha_0_borch,\n",
    "                                                exp2=alpha_3_borch,\n",
    "                                                exp3=alpha_5_borch,\n",
    "                                                exp4=alpha_7_borch,\n",
    "                                                exp5=alpha_9_borch,\n",
    "                                                n_models=n_samples)"
   ]
  },
  {
   "cell_type": "code",
   "execution_count": 41,
   "metadata": {},
   "outputs": [
    {
     "name": "stdout",
     "output_type": "stream",
     "text": [
      "Model: Schechter2D\n",
      "Inputs: ('x', 'y')\n",
      "Outputs: ('z',)\n",
      "Model set size: 1024\n",
      "Parameters:\n",
      "            norm1                 norm2         ...         exp5       \n",
      "    --------------------- --------------------- ... -------------------\n",
      "    0.0034349231352440914  0.002040367480635777 ... -0.7511516751850892\n",
      "    0.0032826726028692406 0.0028483080918500023 ... -0.7815623456769957\n",
      "    0.0035301257105979566 0.0004978953562481429 ... -0.5223816205219254\n",
      "    0.0032773382704073266 0.0007144880549798114 ... -0.7818044513660339\n",
      "    0.0033127640116597593 0.0010860252555576725 ... -0.6391603162549654\n",
      "     0.003524366878208479  0.001189248288807268 ... -0.6546351025976224\n",
      "    0.0035179635526093626  0.002748780958003156 ... -0.6605964477110761\n",
      "     0.003575574434919143 0.0034109308021838766 ... -0.6567853597662151\n",
      "     0.003616864998256185  0.001640090864996467 ... -0.7160295819985137\n",
      "    0.0035585603427308694  0.001792499606766857 ... -0.6718408076096739\n",
      "                      ...                   ... ...                 ...\n",
      "    0.0038237756750441644 0.0018397252775273088 ... -0.7195623101554515\n",
      "     0.004283436004117785 0.0034179754409521465 ... -0.7519335111478901\n",
      "    0.0040622549213137306 0.0025409084360791204 ... -0.7273395955405325\n",
      "    0.0035671819153196916 0.0027706702873993017 ... -0.6644855498580177\n",
      "     0.003915325353470542 0.0020575195873458398 ... -0.7064542916828238\n",
      "     0.003901588315805088 0.0024495518143640618 ... -0.6322121304293531\n",
      "     0.004476634646742934 0.0014474006245008288 ...  -0.692417510215843\n",
      "    0.0038145527884954436  0.001965417699028829 ...  -0.657823328455015\n",
      "    0.0044891965330540705 0.0008339579708146384 ... -0.6719332549871913\n",
      "    0.0032724682362393342 0.0015097877693330043 ... -0.7044876946717162\n",
      "      0.00363934600556922  0.001919559048224923 ...  -0.878269872455228\n",
      "    Length = 1024 rows\n"
     ]
    }
   ],
   "source": [
    "print(borch_2006_galactic_mass_function)\n",
    "with open('../models/Borch2006_galaxy_mass_function.pkl', 'wb') as f:\n",
    "    pickle.dump(borch_2006_galactic_mass_function, f)"
   ]
  },
  {
   "cell_type": "markdown",
   "metadata": {},
   "source": [
    "#### Drory+ (2009)"
   ]
  },
  {
   "cell_type": "markdown",
   "metadata": {},
   "source": [
    "##### Galactic mass function parameters"
   ]
  },
  {
   "cell_type": "code",
   "execution_count": 42,
   "metadata": {},
   "outputs": [],
   "source": [
    "z_drory = np.array([0, .3, .5, .7, .9])\n",
    "z_range_drory = np.linspace(0, .9, num=n_mesh)\n",
    "\n",
    "norm_0_drory_b = phi_bell\n",
    "norm_3_drory_b = trunc_norm_dist(a=0, b=np.inf, loc=2.89, scale=.23, size=n_samples) * 1e-3 * (WMAP9.h ** 3.)\n",
    "norm_5_drory_b = trunc_norm_dist(a=0, b=np.inf, loc=1.74, scale=.09, size=n_samples) * 1e-3 * (WMAP9.h ** 3.)\n",
    "norm_7_drory_b = trunc_norm_dist(a=0, b=np.inf, loc=2.16, scale=.13, size=n_samples) * 1e-3 * (WMAP9.h ** 3.)\n",
    "norm_9_drory_b = trunc_norm_dist(a=0, b=np.inf, loc=2.94, scale=.13, size=n_samples) * 1e-3 * (WMAP9.h ** 3.)\n",
    "\n",
    "log_m_gal_0_drory_b = log_mgal_break_bell\n",
    "log_m_gal_3_drory_b = unc.normal(10.90, std=.11, n_samples=n_samples).distribution - 2 * np.log10(WMAP9.h)\n",
    "log_m_gal_5_drory_b = unc.normal(10.91, std=.11, n_samples=n_samples).distribution - 2 * np.log10(WMAP9.h)\n",
    "log_m_gal_7_drory_b = unc.normal(10.95, std=.10, n_samples=n_samples).distribution - 2 * np.log10(WMAP9.h)\n",
    "log_m_gal_9_drory_b = unc.normal(10.92, std=.10, n_samples=n_samples).distribution - 2 * np.log10(WMAP9.h)\n",
    "\n",
    "alpha_0_drory_b = alpha_bell\n",
    "alpha_3_drory_b = unc.normal(-1.06, std=.03, n_samples=n_samples).distribution\n",
    "alpha_5_drory_b = unc.normal(-1.05, std=.02, n_samples=n_samples).distribution\n",
    "alpha_7_drory_b = unc.normal(-.93, std=.04, n_samples=n_samples).distribution\n",
    "alpha_9_drory_b = unc.normal(-.91, std=.03, n_samples=n_samples).distribution\n",
    "\n",
    "norm_0_drory_f = np.zeros(n_samples)\n",
    "norm_3_drory_f = trunc_norm_dist(a=0, b=np.inf, loc=1.80, scale=.29, size=n_samples) * 1e-3 * (WMAP9.h ** 3)\n",
    "norm_5_drory_f = trunc_norm_dist(a=0, b=np.inf, loc=1.43, scale=.23, size=n_samples) * 1e-3 * (WMAP9.h ** 3)\n",
    "norm_7_drory_f = trunc_norm_dist(a=0, b=np.inf, loc=2.89, scale=.26, size=n_samples) * 1e-3 * (WMAP9.h ** 3)\n",
    "norm_9_drory_f = trunc_norm_dist(a=0, b=np.inf, loc=2.12, scale=.29, size=n_samples) * 1e-3 * (WMAP9.h ** 3)\n",
    "\n",
    "log_m_gal_0_drory_f = np.zeros(n_samples) - 2. * np.log10(WMAP9.h)\n",
    "log_m_gal_3_drory_f = unc.normal(9.63, std=.09, n_samples=n_samples).distribution - 2. * np.log10(WMAP9.h)\n",
    "log_m_gal_5_drory_f = unc.normal(9.70, std=.10, n_samples=n_samples).distribution - 2. * np.log10(WMAP9.h)\n",
    "log_m_gal_7_drory_f = unc.normal(9.75, std=.10, n_samples=n_samples).distribution - 2. * np.log10(WMAP9.h)\n",
    "log_m_gal_9_drory_f = unc.normal(9.85, std=.10, n_samples=n_samples).distribution - 2. * np.log10(WMAP9.h)\n",
    "\n",
    "alpha_0_drory_f = np.zeros(n_samples)\n",
    "alpha_3_drory_f = unc.normal(-1.73, std=.09, n_samples=n_samples).distribution\n",
    "alpha_5_drory_f = unc.normal(-1.76, std=.16, n_samples=n_samples).distribution\n",
    "alpha_7_drory_f = unc.normal(-1.65, std=.08, n_samples=n_samples).distribution\n",
    "alpha_9_drory_f = unc.normal(-1.65, std=.24, n_samples=n_samples).distribution"
   ]
  },
  {
   "cell_type": "markdown",
   "metadata": {},
   "source": [
    "##### Galactic mass function"
   ]
  },
  {
   "cell_type": "code",
   "execution_count": 43,
   "metadata": {},
   "outputs": [],
   "source": [
    "drory_2009_galactic_mass_function = DoubleSchechter2D(norm11=norm_0_drory_b,\n",
    "                                                      norm12=norm_3_drory_b,\n",
    "                                                      norm13=norm_5_drory_b,\n",
    "                                                      norm14=norm_7_drory_b,\n",
    "                                                      norm15=norm_9_drory_b,\n",
    "                                                      norm21=norm_0_drory_f,\n",
    "                                                      norm22=norm_3_drory_f,\n",
    "                                                      norm23=norm_5_drory_f,\n",
    "                                                      norm24=norm_7_drory_f,\n",
    "                                                      norm25=norm_9_drory_f,\n",
    "                                                      log_m_break11=log_m_gal_0_drory_b,\n",
    "                                                      log_m_break12=log_m_gal_3_drory_b,\n",
    "                                                      log_m_break13=log_m_gal_5_drory_b,\n",
    "                                                      log_m_break14=log_m_gal_7_drory_b,\n",
    "                                                      log_m_break15=log_m_gal_9_drory_b,\n",
    "                                                      log_m_break21=log_m_gal_0_drory_f,\n",
    "                                                      log_m_break22=log_m_gal_3_drory_f,\n",
    "                                                      log_m_break23=log_m_gal_5_drory_f,\n",
    "                                                      log_m_break24=log_m_gal_7_drory_f,\n",
    "                                                      log_m_break25=log_m_gal_9_drory_f,\n",
    "                                                      exp11=alpha_0_drory_b,\n",
    "                                                      exp12=alpha_3_drory_b,\n",
    "                                                      exp13=alpha_5_drory_b,\n",
    "                                                      exp14=alpha_7_drory_b,\n",
    "                                                      exp15=alpha_9_drory_b,\n",
    "                                                      exp21=alpha_0_drory_f,\n",
    "                                                      exp22=alpha_3_drory_f,\n",
    "                                                      exp23=alpha_5_drory_f,\n",
    "                                                      exp24=alpha_7_drory_f,\n",
    "                                                      exp25=alpha_9_drory_f,\n",
    "                                                      n_models=n_samples)"
   ]
  },
  {
   "cell_type": "code",
   "execution_count": 44,
   "metadata": {},
   "outputs": [
    {
     "name": "stdout",
     "output_type": "stream",
     "text": [
      "Model: DoubleSchechter2D\n",
      "Inputs: ('x', 'y')\n",
      "Outputs: ('z',)\n",
      "Model set size: 1024\n",
      "Parameters:\n",
      "            norm11                norm12        ...        exp25       \n",
      "    --------------------- --------------------- ... -------------------\n",
      "     0.004430083183542889 0.0010786892461961226 ... -1.5057002489785516\n",
      "    0.0041988863973995835 0.0011273558183526131 ... -1.6536818817256735\n",
      "     0.004455691425467302 0.0009283860650839818 ...  -1.782611464579308\n",
      "    0.0044398234531523705  0.000990811505961015 ... -1.8748198941614795\n",
      "    0.0044358799677305044  0.001042538878157846 ... -1.6172996986596173\n",
      "     0.004683696919507766 0.0010148646026785426 ... -1.4925964222960282\n",
      "     0.004320514723393029  0.000875097682700791 ... -1.7837374259093997\n",
      "     0.004217484912428039 0.0009541101895528539 ... -1.6624008475714167\n",
      "     0.004398304953413671 0.0009277157668312085 ... -1.8366810229792134\n",
      "     0.004632689712358057 0.0010440274283327168 ...  -1.397145771925466\n",
      "                      ...                   ... ...                 ...\n",
      "     0.004377681232358912 0.0009765358787124282 ... -1.8819676490490687\n",
      "     0.004895325214878395 0.0009656514685902957 ... -1.6729761849832014\n",
      "     0.004040162199953197 0.0009089637492107386 ... -1.7962776896979755\n",
      "     0.004327763995356653 0.0008996136362210074 ... -1.7521893519021177\n",
      "     0.004712485076537125  0.001058232021137762 ... -1.2645742901288788\n",
      "     0.004329885108766268 0.0007926435412395572 ... -1.5580503344512893\n",
      "     0.004618502051841496 0.0009262973914351209 ... -1.4977337872430625\n",
      "     0.004417914208889673 0.0011028684770216111 ... -1.4645612520217925\n",
      "     0.004379774216874283 0.0009590827716544414 ... -1.5614410695824121\n",
      "     0.004234599371064375 0.0012005592360700603 ... -1.3203643096565125\n",
      "     0.004207684296397201 0.0010293060219598736 ... -1.7038772958708361\n",
      "    Length = 1024 rows\n"
     ]
    }
   ],
   "source": [
    "print(drory_2009_galactic_mass_function)\n",
    "with open('../models/Drory2009_galaxy_mass_function.pkl', 'wb') as f:\n",
    "    pickle.dump(drory_2009_galactic_mass_function, f)"
   ]
  },
  {
   "cell_type": "markdown",
   "metadata": {},
   "source": [
    "#### Ilbert+ (2010)"
   ]
  },
  {
   "cell_type": "markdown",
   "metadata": {},
   "source": [
    "##### Galactic mass function parameters"
   ]
  },
  {
   "cell_type": "code",
   "execution_count": 45,
   "metadata": {},
   "outputs": [],
   "source": [
    "z_ilbert = np.array([0, .3, .5, .7, .9, 1.1, 1.35, 1.75])\n",
    "z_range_ilbert = np.linspace(0, 1.75, num=n_mesh)\n",
    "\n",
    "norm_0_ilbert_q = phi_bell\n",
    "norm_3_ilbert_q = trunc_norm_dist(a=0, b=np.inf, loc=1.12, scale=.07, size=n_samples) * 1e-3\n",
    "norm_5_ilbert_q = trunc_norm_dist(a=0, b=np.inf, loc=.87, scale=.04, size=n_samples) * 1e-3\n",
    "norm_7_ilbert_q = trunc_norm_dist(a=0, b=np.inf, loc=1.15, scale=.03, size=n_samples) * 1e-3\n",
    "norm_9_ilbert_q = trunc_norm_dist(a=0, b=np.inf, loc=1.43, scale=.03, size=n_samples) * 1e-3\n",
    "norm_11_ilbert_q = trunc_norm_dist(a=0, b=np.inf, loc=.55, scale=.02, size=n_samples) * 1e-3\n",
    "norm_135_ilbert_q = trunc_norm_dist(a=0, b=np.inf, loc=.26, scale=.02, size=n_samples) * 1e-3\n",
    "norm_175_ilbert_q = trunc_norm_dist(a=0, b=np.inf, loc=.1, scale=.04, size=n_samples) * 1e-3\n",
    "\n",
    "log_m_gal_0_ilbert_q = log_mgal_break_bell\n",
    "log_m_gal_3_ilbert_q = unc.normal(11.13, std=.03, n_samples=n_samples).distribution\n",
    "log_m_gal_5_ilbert_q = unc.normal(10.97, std=.03, n_samples=n_samples).distribution\n",
    "log_m_gal_7_ilbert_q = unc.normal(10.83, std=.02, n_samples=n_samples).distribution\n",
    "log_m_gal_9_ilbert_q = unc.normal(10.77, std=.01, n_samples=n_samples).distribution\n",
    "log_m_gal_11_ilbert_q = unc.normal(10.7, std=.03, n_samples=n_samples).distribution\n",
    "log_m_gal_135_ilbert_q = unc.normal(10.64, std=.14, n_samples=n_samples).distribution\n",
    "log_m_gal_175_ilbert_q = unc.normal(10.67, std=.1, n_samples=n_samples).distribution\n",
    "\n",
    "alpha_0_ilbert_q = alpha_bell\n",
    "alpha_3_ilbert_q = unc.normal(-.91, std=.02, n_samples=n_samples).distribution\n",
    "alpha_5_ilbert_q = unc.normal(-.56, std=.03, n_samples=n_samples).distribution\n",
    "alpha_7_ilbert_q = unc.normal(-.25, std=.04, n_samples=n_samples).distribution\n",
    "alpha_9_ilbert_q = unc.normal(.04, std=.03, n_samples=n_samples).distribution\n",
    "alpha_11_ilbert_q = unc.normal(.25, std=.08, n_samples=n_samples).distribution\n",
    "alpha_135_ilbert_q = unc.normal(.5, std=.05, n_samples=n_samples).distribution\n",
    "alpha_175_ilbert_q = unc.normal(.5, std=.05, n_samples=n_samples).distribution\n",
    "\n",
    "norm_0_ilbert_i = np.zeros(n_samples)\n",
    "norm_3_ilbert_i = trunc_norm_dist(a=0, b=np.inf, loc=1.31, scale=.09, size=n_samples) * 1e-3\n",
    "norm_5_ilbert_i = trunc_norm_dist(a=0, b=np.inf, loc=.96, scale=.06, size=n_samples) * 1e-3\n",
    "norm_7_ilbert_i = trunc_norm_dist(a=0, b=np.inf, loc=1.02, scale=.06, size=n_samples) * 1e-3\n",
    "norm_9_ilbert_i = trunc_norm_dist(a=0, b=np.inf, loc=1.52, scale=.07, size=n_samples) * 1e-3\n",
    "norm_11_ilbert_i = trunc_norm_dist(a=0, b=np.inf, loc=1.05, scale=.04, size=n_samples) * 1e-3\n",
    "norm_135_ilbert_i = trunc_norm_dist(a=0, b=np.inf, loc=.45, scale=.03, size=n_samples) * 1e-3\n",
    "norm_175_ilbert_i = trunc_norm_dist(a=0, b=np.inf, loc=.23, scale=.02, size=n_samples) * 1e-3\n",
    "\n",
    "log_m_gal_0_ilbert_i = np.zeros(n_samples)\n",
    "log_m_gal_3_ilbert_i = unc.normal(10.96, std=.03, n_samples=n_samples).distribution\n",
    "log_m_gal_5_ilbert_i = unc.normal(10.93, std=.03, n_samples=n_samples).distribution\n",
    "log_m_gal_7_ilbert_i = unc.normal(10.85, std=.02, n_samples=n_samples).distribution\n",
    "log_m_gal_9_ilbert_i = unc.normal(10.73, std=.02, n_samples=n_samples).distribution\n",
    "log_m_gal_11_ilbert_i = unc.normal(10.77, std=.02, n_samples=n_samples).distribution\n",
    "log_m_gal_135_ilbert_i = unc.normal(10.94, std=.03, n_samples=n_samples).distribution\n",
    "log_m_gal_175_ilbert_i = unc.normal(11.02, std=.03, n_samples=n_samples).distribution\n",
    "\n",
    "alpha_0_ilbert_i = np.zeros(n_samples)\n",
    "alpha_3_ilbert_i = unc.normal(-1.20, std=.02, n_samples=n_samples).distribution\n",
    "alpha_5_ilbert_i = unc.normal(-1.02, std=.02, n_samples=n_samples).distribution\n",
    "alpha_7_ilbert_i = unc.normal(-.9, std=.03, n_samples=n_samples).distribution\n",
    "alpha_9_ilbert_i = unc.normal(-.54, std=.03, n_samples=n_samples).distribution\n",
    "alpha_11_ilbert_i = unc.normal(-.44, std=.04, n_samples=n_samples).distribution\n",
    "alpha_135_ilbert_i = unc.normal(-.88, std=.04, n_samples=n_samples).distribution\n",
    "alpha_175_ilbert_i = unc.normal(-1.03, std=.04, n_samples=n_samples).distribution\n",
    "\n",
    "norm_0_ilbert_h = np.zeros(n_samples)\n",
    "norm_3_ilbert_h = trunc_norm_dist(a=0, b=np.inf, loc=.36, scale=.06, size=n_samples) * 1e-3\n",
    "norm_5_ilbert_h = trunc_norm_dist(a=0, b=np.inf, loc=.46, scale=.06, size=n_samples) * 1e-3\n",
    "norm_7_ilbert_h = trunc_norm_dist(a=0, b=np.inf, loc=.65, scale=.05, size=n_samples) * 1e-3\n",
    "norm_9_ilbert_h = trunc_norm_dist(a=0, b=np.inf, loc=1., scale=.06, size=n_samples) * 1e-3\n",
    "norm_11_ilbert_h = trunc_norm_dist(a=0, b=np.inf, loc=.93, scale=.06, size=n_samples) * 1e-3\n",
    "norm_135_ilbert_h = trunc_norm_dist(a=0, b=np.inf, loc=.79, scale=.04, size=n_samples) * 1e-3\n",
    "norm_175_ilbert_h = trunc_norm_dist(a=0, b=np.inf, loc=.39, scale=.3, size=n_samples) * 1e-3\n",
    "\n",
    "log_m_gal_0_ilbert_h = np.zeros(n_samples)\n",
    "log_m_gal_3_ilbert_h = unc.normal(10.42, std=.07, n_samples=n_samples).distribution\n",
    "log_m_gal_5_ilbert_h = unc.normal(10.39, std=.05, n_samples=n_samples).distribution\n",
    "log_m_gal_7_ilbert_h = unc.normal(10.49, std=.03, n_samples=n_samples).distribution\n",
    "log_m_gal_9_ilbert_h = unc.normal(10.48, std=.02, n_samples=n_samples).distribution\n",
    "log_m_gal_11_ilbert_h = unc.normal(10.48, std=.02, n_samples=n_samples).distribution\n",
    "log_m_gal_135_ilbert_h = unc.normal(10.54, std=.02, n_samples=n_samples).distribution\n",
    "log_m_gal_175_ilbert_h = unc.normal(10.75, std=.7, n_samples=n_samples).distribution\n",
    "\n",
    "alpha_0_ilbert_h = np.zeros(n_samples)\n",
    "alpha_3_ilbert_h = unc.normal(-1.51, std=.04, n_samples=n_samples).distribution\n",
    "alpha_5_ilbert_h = unc.normal(-1.47, std=.03, n_samples=n_samples).distribution\n",
    "alpha_7_ilbert_h = unc.normal(-1.48, std=.02, n_samples=n_samples).distribution\n",
    "alpha_9_ilbert_h = unc.normal(-1.33, std=.02, n_samples=n_samples).distribution\n",
    "alpha_11_ilbert_h = unc.normal(-1.29, std=.02, n_samples=n_samples).distribution\n",
    "alpha_135_ilbert_h = unc.normal(-1.26, std=.02, n_samples=n_samples).distribution\n",
    "alpha_175_ilbert_h = unc.normal(-1.3, std=.13, n_samples=n_samples).distribution"
   ]
  },
  {
   "cell_type": "markdown",
   "metadata": {},
   "source": [
    "##### Galactic mass function"
   ]
  },
  {
   "cell_type": "code",
   "execution_count": 46,
   "metadata": {},
   "outputs": [],
   "source": [
    "ilbert_2010_galactic_mass_function = TripleSchechter2D(norm11=norm_0_ilbert_q,\n",
    "                                                       norm12=norm_3_ilbert_q,\n",
    "                                                       norm13=norm_5_ilbert_q,\n",
    "                                                       norm14=norm_7_ilbert_q,\n",
    "                                                       norm15=norm_9_ilbert_q,\n",
    "                                                       norm16=norm_11_ilbert_q,\n",
    "                                                       norm17=norm_135_ilbert_q,\n",
    "                                                       norm18=norm_175_ilbert_q,\n",
    "                                                       norm21=norm_0_ilbert_i,\n",
    "                                                       norm22=norm_3_ilbert_i,\n",
    "                                                       norm23=norm_5_ilbert_i,\n",
    "                                                       norm24=norm_7_ilbert_i,\n",
    "                                                       norm25=norm_9_ilbert_i,\n",
    "                                                       norm26=norm_11_ilbert_i,\n",
    "                                                       norm27=norm_135_ilbert_i,\n",
    "                                                       norm28=norm_175_ilbert_i,\n",
    "                                                       norm31=norm_0_ilbert_h,\n",
    "                                                       norm32=norm_3_ilbert_h,\n",
    "                                                       norm33=norm_5_ilbert_h,\n",
    "                                                       norm34=norm_7_ilbert_h,\n",
    "                                                       norm35=norm_9_ilbert_h,\n",
    "                                                       norm36=norm_11_ilbert_h,\n",
    "                                                       norm37=norm_135_ilbert_h,\n",
    "                                                       norm38=norm_175_ilbert_h,\n",
    "                                                       log_m_break11=log_m_gal_0_ilbert_q,\n",
    "                                                       log_m_break12=log_m_gal_3_ilbert_q,\n",
    "                                                       log_m_break13=log_m_gal_5_ilbert_q,\n",
    "                                                       log_m_break14=log_m_gal_7_ilbert_q,\n",
    "                                                       log_m_break15=log_m_gal_9_ilbert_q,\n",
    "                                                       log_m_break16=log_m_gal_11_ilbert_q,\n",
    "                                                       log_m_break17=log_m_gal_135_ilbert_q,\n",
    "                                                       log_m_break18=log_m_gal_175_ilbert_q,\n",
    "                                                       log_m_break21=log_m_gal_0_ilbert_i,\n",
    "                                                       log_m_break22=log_m_gal_3_ilbert_i,\n",
    "                                                       log_m_break23=log_m_gal_5_ilbert_i,\n",
    "                                                       log_m_break24=log_m_gal_7_ilbert_i,\n",
    "                                                       log_m_break25=log_m_gal_9_ilbert_i,\n",
    "                                                       log_m_break26=log_m_gal_11_ilbert_i,\n",
    "                                                       log_m_break27=log_m_gal_135_ilbert_i,\n",
    "                                                       log_m_break28=log_m_gal_175_ilbert_i,\n",
    "                                                       log_m_break31=log_m_gal_0_ilbert_h,\n",
    "                                                       log_m_break32=log_m_gal_3_ilbert_h,\n",
    "                                                       log_m_break33=log_m_gal_5_ilbert_h,\n",
    "                                                       log_m_break34=log_m_gal_7_ilbert_h,\n",
    "                                                       log_m_break35=log_m_gal_9_ilbert_h,\n",
    "                                                       log_m_break36=log_m_gal_11_ilbert_h,\n",
    "                                                       log_m_break37=log_m_gal_135_ilbert_h,\n",
    "                                                       log_m_break38=log_m_gal_175_ilbert_h,\n",
    "                                                       exp11=alpha_0_ilbert_q,\n",
    "                                                       exp12=alpha_3_ilbert_q,\n",
    "                                                       exp13=alpha_5_ilbert_q,\n",
    "                                                       exp14=alpha_7_ilbert_q,\n",
    "                                                       exp15=alpha_9_ilbert_q,\n",
    "                                                       exp16=alpha_11_ilbert_q,\n",
    "                                                       exp17=alpha_135_ilbert_q,\n",
    "                                                       exp18=alpha_175_ilbert_q,\n",
    "                                                       exp21=alpha_0_ilbert_i,\n",
    "                                                       exp22=alpha_3_ilbert_i,\n",
    "                                                       exp23=alpha_5_ilbert_i,\n",
    "                                                       exp24=alpha_7_ilbert_i,\n",
    "                                                       exp25=alpha_9_ilbert_i,\n",
    "                                                       exp26=alpha_11_ilbert_i,\n",
    "                                                       exp27=alpha_135_ilbert_i,\n",
    "                                                       exp28=alpha_175_ilbert_i,\n",
    "                                                       exp31=alpha_0_ilbert_h,\n",
    "                                                       exp32=alpha_3_ilbert_h,\n",
    "                                                       exp33=alpha_5_ilbert_h,\n",
    "                                                       exp34=alpha_7_ilbert_h,\n",
    "                                                       exp35=alpha_9_ilbert_h,\n",
    "                                                       exp36=alpha_11_ilbert_h,\n",
    "                                                       exp37=alpha_135_ilbert_h,\n",
    "                                                       exp38=alpha_175_ilbert_h,\n",
    "                                                       n_models=n_samples)"
   ]
  },
  {
   "cell_type": "code",
   "execution_count": 47,
   "metadata": {},
   "outputs": [
    {
     "name": "stdout",
     "output_type": "stream",
     "text": [
      "Model: TripleSchechter2D\n",
      "Inputs: ('x', 'y')\n",
      "Outputs: ('z',)\n",
      "Model set size: 1024\n",
      "Parameters:\n",
      "            norm11                norm12        ...        exp38       \n",
      "    --------------------- --------------------- ... -------------------\n",
      "     0.004430083183542889 0.0010398729032972003 ...  -1.393983379290845\n",
      "    0.0041988863973995835 0.0010671495793767784 ... -1.1854097427493384\n",
      "     0.004455691425467302  0.001140432827329012 ...  -1.398976027063919\n",
      "    0.0044398234531523705  0.001162855081179819 ... -1.4677327209642752\n",
      "    0.0044358799677305044 0.0013184294555571919 ...  -1.289685627631625\n",
      "     0.004683696919507766 0.0010038694749686515 ... -1.1584838729700166\n",
      "     0.004320514723393029  0.001246852069401177 ... -1.2410549603807344\n",
      "     0.004217484912428039 0.0010853008033244402 ...   -1.62638874104701\n",
      "     0.004398304953413671  0.001061846791494674 ... -1.1409587018433818\n",
      "     0.004632689712358057 0.0011238547567413116 ... -1.2724236743520736\n",
      "                      ...                   ... ...                 ...\n",
      "     0.004377681232358912 0.0011083037153957341 ... -1.3963500782076308\n",
      "     0.004895325214878395 0.0012567583515335956 ... -1.2435556351133823\n",
      "     0.004040162199953197 0.0009870002919925359 ... -1.0070486489732016\n",
      "     0.004327763995356653 0.0010677113507991459 ...  -1.240192949974776\n",
      "     0.004712485076537125 0.0011340783945726106 ... -1.2348114048837548\n",
      "     0.004329885108766268 0.0010882893553340754 ...  -1.367744583123528\n",
      "     0.004618502051841496 0.0011084757186619735 ... -1.1128986679164472\n",
      "     0.004417914208889673   0.00110383156757465 ...  -1.352034802659436\n",
      "     0.004379774216874283 0.0012060150628459322 ... -1.1551459367065233\n",
      "     0.004234599371064375 0.0010056874013865313 ... -1.4795917688251408\n",
      "     0.004207684296397201 0.0010934556095652927 ... -1.4809949170373755\n",
      "    Length = 1024 rows\n"
     ]
    }
   ],
   "source": [
    "print(ilbert_2010_galactic_mass_function)\n",
    "with open('../models/Ilbert2010_galaxy_mass_function.pkl', 'wb') as f:\n",
    "    pickle.dump(ilbert_2010_galactic_mass_function, f)"
   ]
  },
  {
   "cell_type": "markdown",
   "metadata": {},
   "source": [
    "#### Bundy+ (2009)"
   ]
  },
  {
   "cell_type": "markdown",
   "metadata": {},
   "source": [
    "##### Pair fraction parameters"
   ]
  },
  {
   "cell_type": "code",
   "execution_count": 48,
   "metadata": {},
   "outputs": [],
   "source": [
    "m_bundy = unc.normal(1.6, std=1.6, n_samples=n_samples).distribution\n",
    "fp_bundy = trunc_norm_dist(a=0, b=np.inf, loc=.03, scale=.02, size=n_samples) / (1.55 ** m_bundy)\n",
    "q_min_bundy = np.repeat(.25, n_samples)\n",
    "r_proj_bundy = np.repeat(20, n_samples)"
   ]
  },
  {
   "cell_type": "markdown",
   "metadata": {},
   "source": [
    "##### Pair fraction"
   ]
  },
  {
   "cell_type": "code",
   "execution_count": 49,
   "metadata": {},
   "outputs": [],
   "source": [
    "bundy_pair_frac = PairFraction3D(normalization=fp_bundy,\n",
    "                                 exponent=m_bundy,\n",
    "                                 q_min=q_min_bundy,\n",
    "                                 n_models=n_samples)"
   ]
  },
  {
   "cell_type": "code",
   "execution_count": 50,
   "metadata": {},
   "outputs": [
    {
     "name": "stdout",
     "output_type": "stream",
     "text": [
      "Model: PairFraction3D\n",
      "Inputs: ('x0', 'x1', 'x2')\n",
      "Outputs: ('x0',)\n",
      "Model set size: 1024\n",
      "Parameters:\n",
      "        normalization           exponent       q_min\n",
      "    --------------------- -------------------- -----\n",
      "      0.01740054114853503    1.113480679169798  0.25\n",
      "     0.022133275690005633    1.915731991248497  0.25\n",
      "     0.043267928401781425 -0.09392129249521619  0.25\n",
      "     0.013862507354888429    2.017302696727516  0.25\n",
      "     0.009246918231532918   1.8874686888422025  0.25\n",
      "    0.0010322576958344586   2.0750946234034293  0.25\n",
      "     0.008553650568872317   1.3616761997401943  0.25\n",
      "      0.03316149075062551  -0.8526731985069058  0.25\n",
      "     0.026695035387172716   1.0748086361617268  0.25\n",
      "      0.05205648591046077  0.02954402934980571  0.25\n",
      "                      ...                  ...   ...\n",
      "     0.014621519408862063   2.2512554211919857  0.25\n",
      "      0.03633621577215014   0.2640771416558183  0.25\n",
      "     0.010850274615484419     2.44764351991046  0.25\n",
      "     0.055056866959626395  -0.7889741060381565  0.25\n",
      "      0.01072945396924282   3.1794584435768924  0.25\n",
      "     0.010036245009097918    2.566520385624572  0.25\n",
      "      0.01093323086074597  -0.1751935957127888  0.25\n",
      "     0.004982383612175828   3.6649067258581685  0.25\n",
      "    0.0015539918619413135    4.157045514028281  0.25\n",
      "      0.05345307925974471  0.44869910947812186  0.25\n",
      "    0.0018533046776396374  -0.4583494258229508  0.25\n",
      "    Length = 1024 rows\n"
     ]
    }
   ],
   "source": [
    "print(bundy_pair_frac)\n",
    "with open('../models/Bundy2009_pair_fraction.pkl', 'wb') as f:\n",
    "    pickle.dump(bundy_pair_frac, f)"
   ]
  },
  {
   "cell_type": "markdown",
   "metadata": {},
   "source": [
    "#### de Ravel+ (2009)"
   ]
  },
  {
   "cell_type": "markdown",
   "metadata": {},
   "source": [
    "##### Pair fraction parameters"
   ]
  },
  {
   "cell_type": "code",
   "execution_count": 51,
   "metadata": {},
   "outputs": [],
   "source": [
    "log_m_min_de_ravel = np.array([9.5, 10, 10.5])\n",
    "fp_95_de_ravel = trunc_norm_dist(a=0, b=np.inf, loc=.0390, scale=.0342, size=n_samples)\n",
    "fp_10_de_ravel = trunc_norm_dist(a=0, b=np.inf, loc=.0728, scale=.0681, size=n_samples)\n",
    "fp_105_de_ravel = trunc_norm_dist(a=0, b=np.inf, loc=.167, scale=.195, size=n_samples)\n",
    "\n",
    "m_95_de_ravel = unc.normal(3.13, std=1.54, n_samples=n_samples).distribution\n",
    "m_10_de_ravel = unc.normal(2.04, std=1.65, n_samples=n_samples).distribution\n",
    "m_105_de_ravel = unc.normal(.52, std=2.07, n_samples=n_samples).distribution\n",
    "\n",
    "q_min_de_ravel = np.repeat(.25, n_samples)\n",
    "r_proj_de_ravel = np.repeat(100, n_samples)"
   ]
  },
  {
   "cell_type": "markdown",
   "metadata": {},
   "source": [
    "##### Pair fraction"
   ]
  },
  {
   "cell_type": "code",
   "execution_count": 52,
   "metadata": {},
   "outputs": [],
   "source": [
    "de_ravel_pair_frac = PairFraction3D_3bins(norm1=fp_95_de_ravel,\n",
    "                                          norm2=fp_10_de_ravel,\n",
    "                                          norm3=fp_105_de_ravel,\n",
    "                                          exp1=m_95_de_ravel,\n",
    "                                          exp2=m_10_de_ravel,\n",
    "                                          exp3=m_105_de_ravel,\n",
    "                                          q_min=q_min_de_ravel,\n",
    "                                          n_models=n_samples)"
   ]
  },
  {
   "cell_type": "code",
   "execution_count": 53,
   "metadata": {},
   "outputs": [
    {
     "name": "stdout",
     "output_type": "stream",
     "text": [
      "Model: PairFraction3D_3bins\n",
      "Inputs: ('x0', 'x1', 'x2')\n",
      "Outputs: ('x0',)\n",
      "Model set size: 1024\n",
      "Parameters:\n",
      "           norm1                 norm2         ...         exp3        q_min\n",
      "    -------------------- --------------------- ... ------------------- -----\n",
      "    0.005010657730214051    0.1566847616153983 ... -0.6169329237290839  0.25\n",
      "    0.012250358536392003  0.033722826231888554 ...   0.655829046400437  0.25\n",
      "    0.005666580189894639   0.09839243545900626 ...  0.5728717344609421  0.25\n",
      "     0.08553651002738291   0.10319331010980326 ...  0.9083891321152653  0.25\n",
      "    0.028281275426632196 0.0009451542461941936 ... -2.3853595247483494  0.25\n",
      "     0.06434168906802273  0.013401612579193076 ...   -1.55766292201077  0.25\n",
      "     0.11361700831195068  0.039174045535516705 ...  1.3062493141292018  0.25\n",
      "     0.12990008555754798   0.07871059384980959 ... 0.47017777826121676  0.25\n",
      "    0.057847869062018005  0.015928638172634076 ...  1.4340887278648924  0.25\n",
      "    0.027746630121468517   0.11447369873591161 ...  0.8503386070600361  0.25\n",
      "                     ...                   ... ...                 ...   ...\n",
      "     0.06922372469327445   0.12381025190807438 ...   2.558837942568603  0.25\n",
      "     0.08860495777013108  0.026197601228965472 ...   3.867756311604185  0.25\n",
      "     0.06428809786734205   0.06239924660400519 ... -0.4213249065602205  0.25\n",
      "     0.05223130241262914  0.039157192757702484 ...  1.4957385862086179  0.25\n",
      "    0.029069777007713897    0.0575893041470593 ... -1.5801278965443775  0.25\n",
      "     0.13142935714275517   0.11033698382396956 ...   0.705317077642934  0.25\n",
      "    0.013960307239875857   0.10884390958634163 ... -0.4728228216657888  0.25\n",
      "    0.052896420483010874  0.040593024386718295 ...  -2.312990411762996  0.25\n",
      "     0.02779644996135205   0.13583951981424924 ...  0.8335429800526841  0.25\n",
      "    0.011928197264413815   0.10309683702030875 ...  -0.338349733697207  0.25\n",
      "     0.03808131809855413  0.012920839081170914 ...  1.1694778456212727  0.25\n",
      "    Length = 1024 rows\n"
     ]
    }
   ],
   "source": [
    "print(de_ravel_pair_frac)\n",
    "with open('../models/deRavel2009_pair_fraction.pkl', 'wb') as f:\n",
    "    pickle.dump(de_ravel_pair_frac, f)"
   ]
  },
  {
   "cell_type": "markdown",
   "metadata": {},
   "source": [
    "#### Lopez-Sanjuan+ (2012)"
   ]
  },
  {
   "cell_type": "markdown",
   "metadata": {},
   "source": [
    "##### Pair fraction parameters"
   ]
  },
  {
   "cell_type": "code",
   "execution_count": 54,
   "metadata": {},
   "outputs": [],
   "source": [
    "fp_lopez = trunc_norm_dist(a=0, b=np.inf, loc=.019, scale=.003, size=n_samples)\n",
    "m_lopez = unc.normal(1.4, std=.3, n_samples=n_samples).distribution\n",
    "q_min_lopez = np.repeat(.25, n_samples)\n",
    "r_proj_lopez = np.repeat(30, n_samples)"
   ]
  },
  {
   "cell_type": "markdown",
   "metadata": {},
   "source": [
    "##### Pair fraction"
   ]
  },
  {
   "cell_type": "code",
   "execution_count": 55,
   "metadata": {},
   "outputs": [],
   "source": [
    "lopez_pair_frac = PairFraction3D(normalization=fp_lopez,\n",
    "                                 exponent=m_lopez,\n",
    "                                 q_min=q_min_lopez,\n",
    "                                 n_models=n_samples)"
   ]
  },
  {
   "cell_type": "code",
   "execution_count": 56,
   "metadata": {},
   "outputs": [
    {
     "name": "stdout",
     "output_type": "stream",
     "text": [
      "Model: PairFraction3D\n",
      "Inputs: ('x0', 'x1', 'x2')\n",
      "Outputs: ('x0',)\n",
      "Model set size: 1024\n",
      "Parameters:\n",
      "       normalization          exponent      q_min\n",
      "    -------------------- ------------------ -----\n",
      "    0.019925699195921184 0.9126612488371884  0.25\n",
      "     0.02247852260068271 0.7841505644767267  0.25\n",
      "    0.014663102563348747 1.4266740992487215  0.25\n",
      "     0.02314222359984694 1.6129581298507192  0.25\n",
      "     0.02039185865963866 1.3847869303020115  0.25\n",
      "    0.017604022979608256 1.0507655854870734  0.25\n",
      "    0.016395184606282146  1.788112006582937  0.25\n",
      "    0.022285227229482812 1.2514663426267307  0.25\n",
      "    0.007839390606513763 1.1277669763014007  0.25\n",
      "    0.018868733832053012  1.465482429960212  0.25\n",
      "                     ...                ...   ...\n",
      "     0.02016269916875259 1.4667881083606105  0.25\n",
      "    0.021312786988300303 1.5771012110335176  0.25\n",
      "    0.017227535303063125 0.5521756029730387  0.25\n",
      "    0.017601520196130923 1.3929763044508305  0.25\n",
      "    0.016648117080652773 1.2563243403841353  0.25\n",
      "     0.01947436176563837 1.5194538755431675  0.25\n",
      "     0.01767774912613969 1.3013358449808006  0.25\n",
      "    0.022496258293881483 1.3528530944502073  0.25\n",
      "    0.021290599184217385 1.1590697925663151  0.25\n",
      "     0.01884160561794918 1.2576259242406655  0.25\n",
      "     0.02087185765247288 1.7876299873648425  0.25\n",
      "    Length = 1024 rows\n"
     ]
    }
   ],
   "source": [
    "print(lopez_pair_frac)\n",
    "with open('../models/Lopez2012_pair_fraction.pkl', 'wb') as f:\n",
    "    pickle.dump(lopez_pair_frac, f)"
   ]
  },
  {
   "cell_type": "markdown",
   "metadata": {},
   "source": [
    "#### Kitzbichler & White (2008)"
   ]
  },
  {
   "cell_type": "markdown",
   "metadata": {},
   "source": [
    "##### Merger timescale normalization"
   ]
  },
  {
   "cell_type": "code",
   "execution_count": 57,
   "metadata": {},
   "outputs": [],
   "source": [
    "norm_kw = np.repeat(2.2, n_samples)"
   ]
  },
  {
   "cell_type": "markdown",
   "metadata": {},
   "source": [
    "##### Merger timescale"
   ]
  },
  {
   "cell_type": "code",
   "execution_count": 58,
   "metadata": {},
   "outputs": [],
   "source": [
    "kw_merger_timescale = Timescale3D(normalization=norm_kw,\n",
    "                                  r_proj=r_proj_lopez,\n",
    "                                  n_models=n_samples)"
   ]
  },
  {
   "cell_type": "code",
   "execution_count": 59,
   "metadata": {},
   "outputs": [
    {
     "name": "stdout",
     "output_type": "stream",
     "text": [
      "Model: Timescale3D\n",
      "Inputs: ('x0', 'x1', 'x2')\n",
      "Outputs: ('x0',)\n",
      "Model set size: 1024\n",
      "Parameters:\n",
      "    normalization r_proj\n",
      "    ------------- ------\n",
      "              2.2   30.0\n",
      "              2.2   30.0\n",
      "              2.2   30.0\n",
      "              2.2   30.0\n",
      "              2.2   30.0\n",
      "              2.2   30.0\n",
      "              2.2   30.0\n",
      "              2.2   30.0\n",
      "              2.2   30.0\n",
      "              2.2   30.0\n",
      "              ...    ...\n",
      "              2.2   30.0\n",
      "              2.2   30.0\n",
      "              2.2   30.0\n",
      "              2.2   30.0\n",
      "              2.2   30.0\n",
      "              2.2   30.0\n",
      "              2.2   30.0\n",
      "              2.2   30.0\n",
      "              2.2   30.0\n",
      "              2.2   30.0\n",
      "              2.2   30.0\n",
      "    Length = 1024 rows\n"
     ]
    }
   ],
   "source": [
    "print(kw_merger_timescale)\n",
    "with open('../models/KitzbichlerWhigte2008_merger_timescale.pkl', 'wb') as f:\n",
    "    pickle.dump(kw_merger_timescale, f)"
   ]
  },
  {
   "cell_type": "markdown",
   "metadata": {},
   "source": [
    "#### Lotz+ (2010)"
   ]
  },
  {
   "cell_type": "markdown",
   "metadata": {},
   "source": [
    "##### Merger timescale normalization"
   ]
  },
  {
   "cell_type": "code",
   "execution_count": 60,
   "metadata": {},
   "outputs": [],
   "source": [
    "norm_lotz = np.repeat(1.1, n_samples)"
   ]
  },
  {
   "cell_type": "markdown",
   "metadata": {},
   "source": [
    "##### Merger timescale"
   ]
  },
  {
   "cell_type": "code",
   "execution_count": 61,
   "metadata": {},
   "outputs": [],
   "source": [
    "lotz_merger_timescale = Timescale3D(normalization=norm_lotz,\n",
    "                                    r_proj=r_proj_de_ravel,\n",
    "                                    n_models=n_samples)"
   ]
  },
  {
   "cell_type": "code",
   "execution_count": 62,
   "metadata": {},
   "outputs": [
    {
     "name": "stdout",
     "output_type": "stream",
     "text": [
      "Model: Timescale3D\n",
      "Inputs: ('x0', 'x1', 'x2')\n",
      "Outputs: ('x0',)\n",
      "Model set size: 1024\n",
      "Parameters:\n",
      "    normalization r_proj\n",
      "    ------------- ------\n",
      "              1.1  100.0\n",
      "              1.1  100.0\n",
      "              1.1  100.0\n",
      "              1.1  100.0\n",
      "              1.1  100.0\n",
      "              1.1  100.0\n",
      "              1.1  100.0\n",
      "              1.1  100.0\n",
      "              1.1  100.0\n",
      "              1.1  100.0\n",
      "              ...    ...\n",
      "              1.1  100.0\n",
      "              1.1  100.0\n",
      "              1.1  100.0\n",
      "              1.1  100.0\n",
      "              1.1  100.0\n",
      "              1.1  100.0\n",
      "              1.1  100.0\n",
      "              1.1  100.0\n",
      "              1.1  100.0\n",
      "              1.1  100.0\n",
      "              1.1  100.0\n",
      "    Length = 1024 rows\n"
     ]
    }
   ],
   "source": [
    "print(lotz_merger_timescale)\n",
    "with open('../models/Lotz2010_merger_timescale.pkl', 'wb') as f:\n",
    "    pickle.dump(lotz_merger_timescale, f)"
   ]
  },
  {
   "cell_type": "markdown",
   "metadata": {},
   "source": [
    "## Main models"
   ]
  },
  {
   "cell_type": "markdown",
   "metadata": {},
   "source": [
    "### Mingarelli+ 2017 Derived $\\Phi_{\\rm{BHB}, 0}$"
   ]
  },
  {
   "cell_type": "code",
   "execution_count": 63,
   "metadata": {},
   "outputs": [],
   "source": [
    "distance = 225. * u.Mpc\n",
    "\n",
    "z_225 = z_at_value(WMAP9.angular_diameter_distance, distance, zmax=1.)\n",
    "vol = WMAP9.comoving_volume(z_225).value"
   ]
  },
  {
   "cell_type": "code",
   "execution_count": 64,
   "metadata": {},
   "outputs": [
    {
     "data": {
      "text/latex": [
       "$\\displaystyle N_{\\rm{BHB}, 0} = (9.1_{-0.7}^{+0.7}) \\times 10^{1.0}$"
      ],
      "text/plain": [
       "<IPython.core.display.Math object>"
      ]
     },
     "metadata": {},
     "output_type": "display_data"
    }
   ],
   "source": [
    "N_BHB = np.rint(trunc_norm_dist(a=0, b=np.inf, loc=91, scale=7, size=n_samples))  # can't have fractions of a SMBHB\n",
    "local_binaries = Const1D(amplitude=N_BHB, n_models=n_samples)\n",
    "\n",
    "quantiles = np.quantile(local_binaries(0), q=[.16, .5, .84])\n",
    "order = 10. ** np.floor(np.log10(quantiles[1]))\n",
    "display(Math(r'N_{{\\rm{{BHB}}, 0}} = ({0:.1f}_{{-{1:.1f}}}^{{+{2:.1f}}})'\n",
    "             r' \\times 10^{{{3}}}'.format(quantiles[1] / order,\n",
    "                                          (quantiles[1] - quantiles[0]) / order,\n",
    "                                          (quantiles[2] - quantiles[1]) / order,\n",
    "                                          np.log10(order))))"
   ]
  },
  {
   "cell_type": "code",
   "execution_count": 65,
   "metadata": {},
   "outputs": [
    {
     "name": "stdout",
     "output_type": "stream",
     "text": [
      "Model: Const1D\n",
      "Inputs: ('x',)\n",
      "Outputs: ('y',)\n",
      "Model set size: 1024\n",
      "Parameters:\n",
      "    amplitude\n",
      "    ---------\n",
      "        100.0\n",
      "         91.0\n",
      "         83.0\n",
      "         95.0\n",
      "         95.0\n",
      "         94.0\n",
      "        109.0\n",
      "         92.0\n",
      "         90.0\n",
      "         92.0\n",
      "          ...\n",
      "         90.0\n",
      "         88.0\n",
      "         93.0\n",
      "         93.0\n",
      "         88.0\n",
      "         96.0\n",
      "         84.0\n",
      "         96.0\n",
      "         94.0\n",
      "        103.0\n",
      "         91.0\n",
      "    Length = 1024 rows\n"
     ]
    }
   ],
   "source": [
    "print(local_binaries)\n",
    "with open('../models/M17_local_binaries.pkl', 'wb') as f:\n",
    "    pickle.dump(local_binaries, f)"
   ]
  },
  {
   "cell_type": "code",
   "execution_count": 66,
   "metadata": {},
   "outputs": [
    {
     "data": {
      "text/latex": [
       "$\\displaystyle \\Phi_{\\rm{BHB}, 0} = (1.6_{-0.1}^{+0.1}) \\times 10^{-6.0}\\;\\rm{Mpc}^{-3}$"
      ],
      "text/plain": [
       "<IPython.core.display.Math object>"
      ]
     },
     "metadata": {},
     "output_type": "display_data"
    }
   ],
   "source": [
    "local_binary_number_density = Const1D(amplitude=N_BHB/vol, n_models=n_samples)\n",
    "\n",
    "quantiles = np.quantile(local_binary_number_density(0), q=[.16, .5, .84])\n",
    "order = 10. ** np.floor(np.log10(quantiles[1]))\n",
    "display(Math(r'\\Phi_{{\\rm{{BHB}}, 0}} = ({0:.1f}_{{-{1:.1f}}}^{{+{2:.1f}}})'\n",
    "             r' \\times 10^{{{3}}}\\;\\rm{{Mpc}}^{{-3}}'.format(quantiles[1] / order,\n",
    "                                          (quantiles[1] - quantiles[0]) / order,\n",
    "                                          (quantiles[2] - quantiles[1]) / order,\n",
    "                                          np.log10(order))))"
   ]
  },
  {
   "cell_type": "code",
   "execution_count": 67,
   "metadata": {},
   "outputs": [
    {
     "name": "stdout",
     "output_type": "stream",
     "text": [
      "Model: Const1D\n",
      "Inputs: ('x',)\n",
      "Outputs: ('y',)\n",
      "Model set size: 1024\n",
      "Parameters:\n",
      "          amplitude       \n",
      "    ----------------------\n",
      "    1.7818748514659238e-06\n",
      "    1.6215061148339906e-06\n",
      "    1.4789561267167167e-06\n",
      "    1.6927811088926275e-06\n",
      "    1.6927811088926275e-06\n",
      "    1.6749623603779682e-06\n",
      "     1.942243588097857e-06\n",
      "    1.6393248633486498e-06\n",
      "    1.6036873663193313e-06\n",
      "    1.6393248633486498e-06\n",
      "                       ...\n",
      "    1.6036873663193313e-06\n",
      "    1.5680498692900129e-06\n",
      "     1.657143611863309e-06\n",
      "     1.657143611863309e-06\n",
      "    1.5680498692900129e-06\n",
      "    1.7105998574072867e-06\n",
      "     1.496774875231376e-06\n",
      "    1.7105998574072867e-06\n",
      "    1.6749623603779682e-06\n",
      "    1.8353310970099015e-06\n",
      "    1.6215061148339906e-06\n",
      "    Length = 1024 rows\n"
     ]
    }
   ],
   "source": [
    "print(local_binary_number_density)\n",
    "with open('../models/M17_number_density.pkl', 'wb') as f:\n",
    "    pickle.dump(local_binary_number_density, f)"
   ]
  },
  {
   "cell_type": "markdown",
   "metadata": {},
   "source": [
    "### AGN-based model\n",
    "\n",
    "We take the SMBHB distribution as \n",
    "$$\n",
    "\\frac{d^{3} \\Phi_{\\rm{BHB}}}{dz dM dq} = \\Phi_{\\rm{BHB}, 0} f(z, M, q),\n",
    "$$\n",
    "where $\\Phi_{\\rm{BHB}, 0} = \\left. \\frac{d \\Phi_{\\rm{BHB}}}{dz} \\right|_{z = 0}$ is the local density of binary sources (set as above, Mingarelli et al. 2017), and the distribution of SMBHBs is\n",
    "$$\n",
    "f(z, M, q) \\propto \\frac{d^{2} \\Phi_{\\rm{AGN}}}{dz dM} p(q)\n",
    "$$\n",
    "with $p(q)$ log-normal.\n"
   ]
  },
  {
   "cell_type": "markdown",
   "metadata": {},
   "source": [
    "#### Normalization"
   ]
  },
  {
   "cell_type": "markdown",
   "metadata": {},
   "source": [
    "In normalizing $f(z, M, q)$, we want to make sure that $\\left. \\frac{d \\Phi_{\\rm{BHB}}}{dz} \\right|_{z = 0} = \\Phi_{\\rm{BHB}, 0}$. Accordingly, with normalization constant $C_{0}$, we have\n",
    "$$\n",
    "\\iint f(z = 0, M, q) dM dq = 1 \\\\\n",
    "\\iint C_{0} \\left. \\frac{d^{2} \\Phi_{\\rm{AGN}}}{dz dM} \\right|_{z = 0} p(q) dM dq = 1 \\\\\n",
    "C_{0} \\int \\left. \\frac{d^{2} \\Phi_{\\rm{AGN}}}{dz dM} \\right|_{z = 0} dM \\int p(q) dq = 1 \\\\\n",
    "C_{0} \\Phi_{\\rm{AGN}, 0} \\int p(q) dq = 1 \\\\\n",
    "C_{0} = \\frac{1}{\\Phi_{\\rm{AGN}, 0} \\int p(q) dq},\n",
    "$$\n",
    "such that the evolution function becomes\n",
    "$$\n",
    "f(z, M, q) = C_{0} \\frac{d^{2} \\Phi_{\\rm{AGN}}}{dz dM} p(q) \\\\\n",
    "f(z, M, q) = \\frac{1}{\\Phi_{\\rm{AGN}, 0}} \\frac{d^{2} \\Phi_{\\rm{AGN}}}{dz dM} \\frac{p(q)}{\\int p(q) dq}\n",
    "$$\n",
    "And the full model is\n",
    "$$\n",
    "\\frac{d^{3} \\Phi_{\\rm{BHB}}}{dz dM dq} = \\frac{\\Phi_{\\rm{BHB}, 0}}{\\Phi_{\\rm{AGN}, 0}} \\frac{d^{2} \\Phi_{\\rm{AGN}}}{dz dM} \\frac{p(q)}{\\int p(q) dq}.\n",
    "$$"
   ]
  },
  {
   "cell_type": "code",
   "execution_count": 68,
   "metadata": {},
   "outputs": [],
   "source": [
    "# Add normalization masses to our mass range explicitly\n",
    "log_m_bh_range_norm = np.sort(np.append(log_m_bh_range, log_m_bh_min_mingarelli))\n",
    "log_m_bh_range_norm = np.sort(np.append(log_m_bh_range_norm, log_m_bh_max_mingarelli))\n",
    "log_m_bh_range_norm = log_m_bh_range_norm[(log_m_bh_range_norm >= log_m_bh_min_mingarelli)\n",
    "                                          & (log_m_bh_range_norm <= log_m_bh_max_mingarelli)]"
   ]
  },
  {
   "cell_type": "code",
   "execution_count": 69,
   "metadata": {},
   "outputs": [],
   "source": [
    "mm, zz = np.meshgrid(log_m_bh_range_norm, z_range, indexing='ij')"
   ]
  },
  {
   "cell_type": "code",
   "execution_count": 70,
   "metadata": {},
   "outputs": [
    {
     "data": {
      "application/vnd.jupyter.widget-view+json": {
       "model_id": "a6f16673df5a408c8b3dc538e9699807",
       "version_major": 2,
       "version_minor": 0
      },
      "text/plain": [
       "  0%|          | 0/576 [00:00<?, ?it/s]"
      ]
     },
     "metadata": {},
     "output_type": "display_data"
    }
   ],
   "source": [
    "with mp.Pool(mp.cpu_count()) as p:\n",
    "    differential_quasar_population = list(p.starmap(quasar_formation_rate,\n",
    "                             tqdm(zip(mm.ravel(), zz.ravel()),\n",
    "                      total=len(mm.ravel()))))\n",
    "\n",
    "differential_quasar_population = np.reshape(differential_quasar_population, np.repeat(mm[..., np.newaxis], n_samples, axis=-1).shape)"
   ]
  },
  {
   "cell_type": "code",
   "execution_count": 71,
   "metadata": {},
   "outputs": [
    {
     "data": {
      "text/latex": [
       "$\\displaystyle \\Phi_{\\rm{AGN}, 0} = (1.9_{-1.2}^{+2.4}) \\times 10^{-6.0}\\;\\rm{Mpc}^{-3}$"
      ],
      "text/plain": [
       "<IPython.core.display.Math object>"
      ]
     },
     "metadata": {},
     "output_type": "display_data"
    }
   ],
   "source": [
    "local_quasar_number_density = trapz(differential_quasar_population, log_m_bh_range_norm, axis=0)[0]\n",
    "\n",
    "quantiles = np.quantile(local_quasar_number_density, q=[.16, .5, .84])\n",
    "order = 10. ** np.floor(np.log10(quantiles[1]))\n",
    "display(Math(r'\\Phi_{{\\rm{{AGN}}, 0}} = ({0:.1f}_{{-{1:.1f}}}^{{+{2:.1f}}})'\n",
    "             r' \\times 10^{{{3}}}\\;\\rm{{Mpc}}^{{-3}}'.format(quantiles[1] / order,\n",
    "                                          (quantiles[1] - quantiles[0]) / order,\n",
    "                                          (quantiles[2] - quantiles[1]) / order,\n",
    "                                          np.log10(order))))"
   ]
  },
  {
   "cell_type": "code",
   "execution_count": 72,
   "metadata": {},
   "outputs": [],
   "source": [
    "local_qso_number_density = Const1D(amplitude=local_quasar_number_density, n_models=n_samples)"
   ]
  },
  {
   "cell_type": "code",
   "execution_count": 73,
   "metadata": {},
   "outputs": [
    {
     "name": "stdout",
     "output_type": "stream",
     "text": [
      "Model: Const1D\n",
      "Inputs: ('x',)\n",
      "Outputs: ('y',)\n",
      "Model set size: 1024\n",
      "Parameters:\n",
      "          amplitude       \n",
      "    ----------------------\n",
      "    3.4477927631390383e-06\n",
      "     7.016104255405688e-07\n",
      "     2.775716032581567e-06\n",
      "    2.2095451456850455e-06\n",
      "     5.697842253405755e-07\n",
      "    1.4561525462489474e-06\n",
      "    3.6542611962012255e-06\n",
      "    3.2610322250928967e-06\n",
      "    2.6783563772276758e-06\n",
      "    2.8126001201691393e-06\n",
      "                       ...\n",
      "     5.328531443715191e-06\n",
      "    3.8653339039486397e-07\n",
      "     3.333822784899544e-07\n",
      "     8.482220287428333e-07\n",
      "     8.342212295440247e-07\n",
      "    1.1310690375489672e-06\n",
      "    3.0739611803933883e-06\n",
      "    2.1693192258161963e-07\n",
      "    2.8907394805611777e-06\n",
      "       4.2634059673819e-06\n",
      "     9.512823426278703e-07\n",
      "    Length = 1024 rows\n"
     ]
    }
   ],
   "source": [
    "print(local_qso_number_density)\n",
    "with open('../models/local_qso_number_density.pkl', 'wb') as f:\n",
    "    pickle.dump(local_qso_number_density, f)"
   ]
  },
  {
   "cell_type": "code",
   "execution_count": 74,
   "metadata": {},
   "outputs": [
    {
     "data": {
      "text/latex": [
       "$\\displaystyle \\int_{0.25}^{1} p(q) dq = 0.3$"
      ],
      "text/plain": [
       "<IPython.core.display.Math object>"
      ]
     },
     "metadata": {},
     "output_type": "display_data"
    }
   ],
   "source": [
    "q_factor = np.trapz(np.array([q_distrib(q) for q in q_range]), q_range, axis=0)\n",
    "\n",
    "quantiles = np.quantile(q_factor, q=[.16, .5, .84])\n",
    "order = 10. ** np.floor(np.log10(quantiles[1]))\n",
    "display(Math(r'\\int_{{0.25}}^{{1}} p(q) dq = {0:.1f}'.format(quantiles[1])))"
   ]
  },
  {
   "cell_type": "code",
   "execution_count": 75,
   "metadata": {},
   "outputs": [
    {
     "data": {
      "text/latex": [
       "$\\displaystyle \\frac{\\Phi_{\\rm{BHB}, 0}}{\\Phi_{\\rm{AGN}, 0}} = 0.8_{-0.5}^{+1.3}$"
      ],
      "text/plain": [
       "<IPython.core.display.Math object>"
      ]
     },
     "metadata": {},
     "output_type": "display_data"
    }
   ],
   "source": [
    "binary_agn_ratio = local_binary_number_density.amplitude / local_quasar_number_density\n",
    "\n",
    "quantiles = np.quantile(binary_agn_ratio, q=[.16, .5, .84])\n",
    "display(Math(r'\\frac{{\\Phi_{{\\rm{{BHB}}, 0}}}}{{\\Phi_{{\\rm{{AGN}}, 0}}}} = {0:.1f}_{{-{1:.1f}}}^{{+{2:.1f}}}'.format(quantiles[1],\n",
    "                                          quantiles[1] - quantiles[0],\n",
    "                                          quantiles[2] - quantiles[1])))"
   ]
  },
  {
   "cell_type": "code",
   "execution_count": 76,
   "metadata": {},
   "outputs": [
    {
     "data": {
      "text/latex": [
       "$\\displaystyle N_{0} = 3.0_{-1.6}^{+4.8}$"
      ],
      "text/plain": [
       "<IPython.core.display.Math object>"
      ]
     },
     "metadata": {},
     "output_type": "display_data"
    }
   ],
   "source": [
    "binary_normalization = Const3D(local_binary_number_density.amplitude / (local_quasar_number_density * q_factor), n_models=n_samples)\n",
    "\n",
    "quantiles = np.quantile(binary_normalization.amplitude, q=[.16, .5, .84])\n",
    "display(Math(r'N_{{0}} = {0:.1f}_{{-{1:.1f}}}^{{+{2:.1f}}}'.format(quantiles[1],\n",
    "                                          quantiles[1] - quantiles[0],\n",
    "                                          quantiles[2] - quantiles[1])))"
   ]
  },
  {
   "cell_type": "code",
   "execution_count": 77,
   "metadata": {},
   "outputs": [
    {
     "name": "stdout",
     "output_type": "stream",
     "text": [
      "Model: Const3D\n",
      "Inputs: ('x0', 'x1', 'x2')\n",
      "Outputs: ('x0',)\n",
      "Model set size: 1024\n",
      "Parameters:\n",
      "        amplitude     \n",
      "    ------------------\n",
      "    1.8292345610718597\n",
      "     8.180049100564931\n",
      "    1.8858780705250309\n",
      "    2.7116352926124123\n",
      "    10.515350076739546\n",
      "    4.0712852483169675\n",
      "    1.8812108013107909\n",
      "     1.779275869327631\n",
      "    2.1192622318049836\n",
      "    2.0629580101342864\n",
      "                   ...\n",
      "     1.065235247934482\n",
      "    14.358405296546492\n",
      "     17.59344914970276\n",
      "     6.914868943828539\n",
      "     6.652915178113188\n",
      "    5.3529436431198905\n",
      "     1.723421312688737\n",
      "    27.909902528059153\n",
      "     2.050829007839769\n",
      "    1.5236706008996173\n",
      "     6.033127572341805\n",
      "    Length = 1024 rows\n"
     ]
    }
   ],
   "source": [
    "print(binary_normalization)\n",
    "with open('../models/BinaryNormalization.pkl', 'wb') as f:\n",
    "    pickle.dump(binary_normalization, f)"
   ]
  },
  {
   "cell_type": "markdown",
   "metadata": {},
   "source": [
    "#### Full AGN-SMBHB model"
   ]
  },
  {
   "cell_type": "code",
   "execution_count": 78,
   "metadata": {},
   "outputs": [],
   "source": [
    "differential_smbhb_population = QuasarProxyBinaries(log_local_smbhb_n_dens=np.log10(local_binary_number_density.amplitude),\n",
    "                                                    log_local_agn_n_dens=np.log10(local_quasar_number_density),\n",
    "                                                    log_m_min=np.repeat(7, n_samples),  # unused in this experiment\n",
    "                                                    z_max=np.repeat(z_max, n_samples),  # unused in this experiment\n",
    "                                                    q_min=np.repeat(.25, n_samples),\n",
    "                                                    log_formation_rate_normalization=log_formation_rate_normalization,\n",
    "                                                    log_formation_rate_power_law_slope=log_formation_rate_power_law_slope,\n",
    "                                                    log_mass_break_normalization=log_mass_break_normalization,\n",
    "                                                    log_mass_break_k_1=log_mass_break_k_1,\n",
    "                                                    log_mass_break_k_2=log_mass_break_k_2,\n",
    "                                                    low_mass_slope=low_mass_slope,\n",
    "                                                    high_mass_slope_normalization=high_mass_slope_normalization,\n",
    "                                                    high_mass_slope_k_1=high_mass_slope_k_1,\n",
    "                                                    high_mass_slope_k_2=high_mass_slope_k_2,\n",
    "                                                    z_ref=z_ref,\n",
    "                                                    mu_log_q=median_log_q,\n",
    "                                                    std_log_q=var_log_q,\n",
    "                                                    n_models=n_samples)"
   ]
  },
  {
   "cell_type": "code",
   "execution_count": 79,
   "metadata": {},
   "outputs": [
    {
     "name": "stdout",
     "output_type": "stream",
     "text": [
      "Model: QuasarProxyBinaries\n",
      "Inputs: ('x0', 'x1', 'x2')\n",
      "Outputs: ('x0',)\n",
      "Model set size: 1024\n",
      "Parameters:\n",
      "    log_local_smbhb_n_dens log_local_agn_n_dens log_m_min ... mu_log_q std_log_q\n",
      "    ---------------------- -------------------- --------- ... -------- ---------\n",
      "        -5.749122801548517   -5.462458846249292       7.0 ...     0.25       0.5\n",
      "        -5.790081409227423   -6.153903966219696       7.0 ...     0.25       0.5\n",
      "        -5.830044709172443   -5.556624966095788       7.0 ...     0.25       0.5\n",
      "         -5.77139919625967   -5.655697120455345       7.0 ...     0.25       0.5\n",
      "         -5.77139919625967   -6.244289578512434       7.0 ...     0.25       0.5\n",
      "        -5.775994947948819   -5.836793126036811       7.0 ...     0.25       0.5\n",
      "        -5.711696303607893   -5.437200413739161       7.0 ...     0.25       0.5\n",
      "       -5.7853349742029625   -5.486644909531708       7.0 ...     0.25       0.5\n",
      "        -5.794880292109193   -5.572131637045401       7.0 ...     0.25       0.5\n",
      "       -5.7853349742029625   -5.550892009018157       7.0 ...     0.25       0.5\n",
      "                       ...                  ...       ... ...      ...       ...\n",
      "        -5.794880292109193    -5.27339246710297       7.0 ...     0.25       0.5\n",
      "        -5.804640129398349   -6.412812983924493       7.0 ...     0.25       0.5\n",
      "        -5.780639852994582   -6.477057489566731       7.0 ...     0.25       0.5\n",
      "        -5.780639852994582   -6.071490452888776       7.0 ...     0.25       0.5\n",
      "        -5.804640129398349   -6.078718762276681       7.0 ...     0.25       0.5\n",
      "        -5.766851568508949   -5.946510886045799       7.0 ...     0.25       0.5\n",
      "        -5.824843515486636   -5.512301621301919       7.0 ...     0.25       0.5\n",
      "        -5.766851568508949  -6.6636765347496025       7.0 ...     0.25       0.5\n",
      "        -5.775994947948819  -5.5389910460854335       7.0 ...     0.25       0.5\n",
      "        -5.736285576843345   -5.370243311265766       7.0 ...     0.25       0.5\n",
      "        -5.790081409227423   -6.021690564401625       7.0 ...     0.25       0.5\n",
      "    Length = 1024 rows\n"
     ]
    }
   ],
   "source": [
    "print(differential_smbhb_population)\n",
    "with open('../models/SMBHBPopulation.pkl', 'wb') as f:\n",
    "    pickle.dump(differential_smbhb_population, f)"
   ]
  },
  {
   "cell_type": "markdown",
   "metadata": {},
   "source": [
    "### Goulding+ (2019)"
   ]
  },
  {
   "cell_type": "markdown",
   "metadata": {},
   "source": [
    "#### Normalization"
   ]
  },
  {
   "cell_type": "code",
   "execution_count": 80,
   "metadata": {},
   "outputs": [
    {
     "data": {
      "text/latex": [
       "$\\displaystyle n_{G+19} = (4.1_{-2.7}^{+3.4}) \\times 10^{-7.0} \\text{Mpc}^{-3}$"
      ],
      "text/plain": [
       "<IPython.core.display.Math object>"
      ]
     },
     "metadata": {},
     "output_type": "display_data"
    }
   ],
   "source": [
    "# Get data used for Goulding+ (2019) number densities, as well as calculate their local number density of sources\n",
    "zqso, nz1_, nz2_, nz3_ = np.loadtxt('../data/external/qso2_num_density.txt', unpack=True)\n",
    "\n",
    "nz1_ = u.Quantity(nz1_, 1./u.Mpc**3)*.25\n",
    "nz2_ = u.Quantity(nz2_, 1./u.Mpc**3)*.25\n",
    "nz3_ = u.Quantity(nz3_, 1./u.Mpc**3)*.25\n",
    "\n",
    "oh2index = np.where(zqso==0.2)\n",
    "nz1 = (nz1_[oh2index]-nz1_[0])+nz1_\n",
    "nz2 = (nz2_[oh2index]-nz2_[0])+nz2_\n",
    "nz3 = (nz3_[oh2index]-nz3_[0])+nz3_\n",
    "\n",
    "nd_goulding = np.vstack([nz3, nz2, nz1]) * 1. / u.Mpc ** 3\n",
    "\n",
    "nz_goulding = UnivariateSpline(zqso, nd_goulding[1], s=0)\n",
    "nz_goulding_l = UnivariateSpline(zqso, nd_goulding[0], s=0)\n",
    "nz_goulding_h = UnivariateSpline(zqso, nd_goulding[2], s=0)\n",
    "\n",
    "# now we can find n(z=0)\n",
    "order = 10. ** np.floor(np.log10(nz_goulding(0)))\n",
    "nz_fid = nz_goulding(0)\n",
    "unc_l = nz_fid - nz_goulding_l(0)\n",
    "unc_h = nz_goulding_h(0) - nz_fid\n",
    "display(Math(r'n_{{G+19}} = ({0:.1f}_{{-{1:.1f}}}^{{+{2:.1f}}})'\n",
    "             r' \\times 10^{{{3}}} \\text{{Mpc}}^{{-3}}'\n",
    "             .format(nz_fid / order,\n",
    "                     unc_l / order,\n",
    "                     unc_h / order, np.log10(order))))"
   ]
  },
  {
   "cell_type": "code",
   "execution_count": 81,
   "metadata": {},
   "outputs": [
    {
     "data": {
      "text/latex": [
       "$\\displaystyle \\Phi_{\\rm{BHB}, 0, \\rm{G19}} = (4.2_{-2.6}^{+3.2}) \\times 10^{-7.0}\\;\\rm{Mpc}^{-3}$"
      ],
      "text/plain": [
       "<IPython.core.display.Math object>"
      ]
     },
     "metadata": {},
     "output_type": "display_data"
    }
   ],
   "source": [
    "# resample for Monte Carlo statistics\n",
    "# need to do some rescaling on the location and scale params to get similar statistics, not sure why but it works\n",
    "local_dual_agn_number_density = split_normal(loc=nz_fid - 3.3e-7, scale1=unc_l + 7e-8, scale2=unc_h + 1e-7, a=0).rvs(size=n_samples)\n",
    "# local_dual_agn_number_density = split_normal(loc=nz_fid - (np.sqrt(2 / np.pi) * (unc_h - unc_l)), scale1=unc_l, scale2=unc_h, a=0).rvs(size=n_samples)\n",
    "\n",
    "quantiles = np.quantile(local_dual_agn_number_density, q=[.16, .5, .84])\n",
    "order = 10. ** np.floor(np.log10(quantiles[1]))\n",
    "display(Math(r'\\Phi_{{\\rm{{BHB}}, 0, \\rm{{G19}}}} = ({0:.1f}_{{-{1:.1f}}}^{{+{2:.1f}}})'\n",
    "             r' \\times 10^{{{3}}}\\;\\rm{{Mpc}}^{{-3}}'.format(quantiles[1] / order,\n",
    "                                          (quantiles[1] - quantiles[0]) / order,\n",
    "                                          (quantiles[2] - quantiles[1]) / order,\n",
    "                                          np.log10(order))))"
   ]
  },
  {
   "cell_type": "code",
   "execution_count": 82,
   "metadata": {},
   "outputs": [],
   "source": [
    "# Add normalization masses to our mass range explicitly\n",
    "# TODO: Efficiency updates to mass range generation and local z used\n",
    "log_m_bh_range_norm_G19 = np.sort(np.append(log_m_bh_range, log_m_chirp_min_goulding))\n",
    "log_m_bh_range_norm_G19 = np.sort(np.append(log_m_bh_range_norm_G19, log_m_chirp_max_goulding))\n",
    "log_m_bh_range_norm_G19 = log_m_bh_range_norm_G19[(log_m_bh_range_norm_G19 >= log_m_chirp_min_goulding)\n",
    "                                              & (log_m_bh_range_norm_G19 <= log_m_chirp_max_goulding)]"
   ]
  },
  {
   "cell_type": "code",
   "execution_count": 83,
   "metadata": {},
   "outputs": [],
   "source": [
    "mm, zz = np.meshgrid(log_m_bh_range_norm_G19, z_range, indexing='ij')"
   ]
  },
  {
   "cell_type": "code",
   "execution_count": 84,
   "metadata": {},
   "outputs": [
    {
     "data": {
      "application/vnd.jupyter.widget-view+json": {
       "model_id": "f0246a5d06b04ff9b22263052daf7baf",
       "version_major": 2,
       "version_minor": 0
      },
      "text/plain": [
       "  0%|          | 0/736 [00:00<?, ?it/s]"
      ]
     },
     "metadata": {},
     "output_type": "display_data"
    }
   ],
   "source": [
    "with mp.Pool(mp.cpu_count()) as p:\n",
    "    G19_differential_quasar_population = list(p.starmap(j1010_quasars,\n",
    "                                                        tqdm(zip(mm.ravel(), zz.ravel()),\n",
    "                                                             total=len(mm.ravel()))))\n",
    "\n",
    "G19_differential_quasar_population = np.reshape(G19_differential_quasar_population, np.repeat(mm[..., np.newaxis], n_samples, axis=-1).shape)"
   ]
  },
  {
   "cell_type": "code",
   "execution_count": 85,
   "metadata": {},
   "outputs": [
    {
     "data": {
      "text/latex": [
       "$\\displaystyle \\Phi_{\\rm{AGN}, 0} = (3.8_{-1.6}^{+2.6}) \\times 10^{-10.0}\\;\\rm{Mpc}^{-3}$"
      ],
      "text/plain": [
       "<IPython.core.display.Math object>"
      ]
     },
     "metadata": {},
     "output_type": "display_data"
    }
   ],
   "source": [
    "G19_local_quasar_number_density = trapz(G19_differential_quasar_population, log_m_bh_range_norm_G19, axis=0)[0]\n",
    "\n",
    "quantiles = np.quantile(G19_local_quasar_number_density, q=[.16, .5, .84])\n",
    "order = 10. ** np.floor(np.log10(quantiles[1]))\n",
    "display(Math(r'\\Phi_{{\\rm{{AGN}}, 0}} = ({0:.1f}_{{-{1:.1f}}}^{{+{2:.1f}}})'\n",
    "             r' \\times 10^{{{3}}}\\;\\rm{{Mpc}}^{{-3}}'.format(quantiles[1] / order,\n",
    "                                          (quantiles[1] - quantiles[0]) / order,\n",
    "                                          (quantiles[2] - quantiles[1]) / order,\n",
    "                                          np.log10(order))))"
   ]
  },
  {
   "cell_type": "code",
   "execution_count": 86,
   "metadata": {},
   "outputs": [
    {
     "data": {
      "text/latex": [
       "$\\displaystyle N_{0} = 981.9_{-600.7}^{+1351.1}$"
      ],
      "text/plain": [
       "<IPython.core.display.Math object>"
      ]
     },
     "metadata": {},
     "output_type": "display_data"
    }
   ],
   "source": [
    "dual_agn_normalization = Const3D(local_dual_agn_number_density / G19_local_quasar_number_density, n_models=n_samples)\n",
    "\n",
    "quantiles = np.quantile(dual_agn_normalization.amplitude, q=[.16, .5, .84])\n",
    "display(Math(r'N_{{0}} = {0:.1f}_{{-{1:.1f}}}^{{+{2:.1f}}}'.format(quantiles[1],\n",
    "                                          quantiles[1] - quantiles[0],\n",
    "                                          quantiles[2] - quantiles[1])))"
   ]
  },
  {
   "cell_type": "code",
   "execution_count": 87,
   "metadata": {},
   "outputs": [
    {
     "name": "stdout",
     "output_type": "stream",
     "text": [
      "Model: Const3D\n",
      "Inputs: ('x0', 'x1', 'x2')\n",
      "Outputs: ('x0',)\n",
      "Model set size: 1024\n",
      "Parameters:\n",
      "        amplitude     \n",
      "    ------------------\n",
      "    177.46372670107365\n",
      "    2333.6259185079894\n",
      "     857.1291632776564\n",
      "    186.33736301714103\n",
      "    2055.9165827728516\n",
      "    1881.6033328819221\n",
      "     270.6037557017327\n",
      "      956.949391576663\n",
      "     1459.885567483415\n",
      "    1422.8555837753424\n",
      "                   ...\n",
      "     95.88392153321686\n",
      "     516.9096254157247\n",
      "     832.8779648784878\n",
      "     352.1200100557546\n",
      "    1057.0433640321519\n",
      "     316.6376233214453\n",
      "     424.6358492375303\n",
      "    335.71692775360276\n",
      "    4062.7510924501685\n",
      "     325.7397539115498\n",
      "     1781.516346665323\n",
      "    Length = 1024 rows\n"
     ]
    }
   ],
   "source": [
    "print(dual_agn_normalization)\n",
    "with open('../models/DualAGNNormalization.pkl', 'wb') as f:\n",
    "    pickle.dump(dual_agn_normalization, f)"
   ]
  },
  {
   "cell_type": "markdown",
   "metadata": {},
   "source": [
    "#### Full dual AGN model"
   ]
  },
  {
   "cell_type": "code",
   "execution_count": 88,
   "metadata": {},
   "outputs": [],
   "source": [
    "G19_dual_agn_population = Goulding2019J1010Binaries(binary_normalization=dual_agn_normalization.amplitude,\n",
    "                                                    mass_dispersion_intercept=a_marconi,\n",
    "                                                    mass_dispersion_slope=b_marconi,\n",
    "                                                    intrinsic_scatter=intrinsic_disp_marconi,\n",
    "                                                    dispersion_norm=dispersion_normalization_sheth,\n",
    "                                                    log_dispersion_break=np.log10(dispersion_break_sheth),\n",
    "                                                    dispersion_alpha=alpha_sheth,\n",
    "                                                    dispersion_beta=beta_sheth,\n",
    "                                                    log_l_min=log_l_min_goulding,\n",
    "                                                    log_l_max=log_l_max_goulding,\n",
    "                                                    log_dens_norm=log_norm_hopkins,\n",
    "                                                    log_break_luminosity_norm=log_break_luminosity_norm_hopkins,\n",
    "                                                    log_break_luminosity_k1=log_break_luminosity_k1_hopkins,\n",
    "                                                    log_break_luminosity_k2=log_break_luminosity_k2_hopkins,\n",
    "                                                    log_break_luminosity_k3=log_break_luminosity_k3_hopkins,\n",
    "                                                    faint_end_slope_norm=faint_end_slope_norm_hopkins,\n",
    "                                                    faint_end_slope_k=faint_end_slope_k_hopkins,\n",
    "                                                    bright_end_slope_norm=bright_end_slope_norm_hopkins,\n",
    "                                                    bright_end_slope_k1=bright_end_slope_k1_hopkins,\n",
    "                                                    bright_end_slope_k2=bright_end_slope_k2_hopkins,\n",
    "                                                    z_ref=z_ref_hopkins,\n",
    "                                                    n_models=n_samples)"
   ]
  },
  {
   "cell_type": "code",
   "execution_count": 89,
   "metadata": {},
   "outputs": [
    {
     "name": "stdout",
     "output_type": "stream",
     "text": [
      "Model: Goulding2019J1010Binaries\n",
      "Inputs: ('x', 'y')\n",
      "Outputs: ('z',)\n",
      "Model set size: 1024\n",
      "Parameters:\n",
      "    binary_normalization mass_dispersion_intercept ... bright_end_slope_k2 z_ref\n",
      "    -------------------- ------------------------- ... ------------------- -----\n",
      "      177.46372670107365       -0.7710009452683604 ... -0.7862224078477982   2.0\n",
      "      2333.6259185079894       -0.6621713347495888 ... -0.7818968516283114   2.0\n",
      "       857.1291632776564       -0.7849140617260559 ... -0.7594403609583384   2.0\n",
      "      186.33736301714103       -0.9259254341117842 ... -0.8768502779843448   2.0\n",
      "      2055.9165827728516       -0.4676689359577022 ... -0.7045976625109966   2.0\n",
      "      1881.6033328819221       -0.6879667093083022 ...  -0.691921300031505   2.0\n",
      "       270.6037557017327      -0.40194381213991903 ... -0.7997192467887675   2.0\n",
      "        956.949391576663       -0.9586240096988838 ... -0.8109248472649981   2.0\n",
      "       1459.885567483415       -1.5957780438767575 ... -0.8395202108555138   2.0\n",
      "      1422.8555837753424      -0.18157728022448083 ... -0.7731336474927372   2.0\n",
      "                     ...                       ... ...                 ...   ...\n",
      "       95.88392153321686       -1.4233305579390567 ... -0.7698479380933625   2.0\n",
      "       516.9096254157247       -0.9875906634853227 ... -0.8807742288041515   2.0\n",
      "       832.8779648784878       -1.4729347885740847 ... -0.7473446757563202   2.0\n",
      "       352.1200100557546       -0.4876234857806203 ...  -0.844776298599724   2.0\n",
      "      1057.0433640321519       -1.1781191481118682 ...  -0.796548457939388   2.0\n",
      "       316.6376233214453       -1.1178967335860026 ... -0.6831618960941113   2.0\n",
      "       424.6358492375303        -1.513545193864168 ...  -0.859835357558679   2.0\n",
      "      335.71692775360276       -0.8776682996183034 ... -0.7545940543165718   2.0\n",
      "      4062.7510924501685       -1.9568766473572143 ... -0.7102454821394923   2.0\n",
      "       325.7397539115498       -1.3088055696235728 ... -0.8410075205908683   2.0\n",
      "       1781.516346665323       -0.9392375348119426 ... -0.7370438339661052   2.0\n",
      "    Length = 1024 rows\n"
     ]
    }
   ],
   "source": [
    "print(G19_dual_agn_population)\n",
    "with open('../models/G19DualAGNPopulation.pkl', 'wb') as f:\n",
    "    pickle.dump(G19_dual_agn_population, f)"
   ]
  },
  {
   "cell_type": "markdown",
   "metadata": {},
   "source": [
    "### Major merger models"
   ]
  },
  {
   "cell_type": "markdown",
   "metadata": {},
   "source": [
    "#### S1: Borch+ (2006), Bundy+ (2009), Kitzbichler & White (2008)"
   ]
  },
  {
   "cell_type": "code",
   "execution_count": 90,
   "metadata": {},
   "outputs": [],
   "source": [
    "S1 = Sesana2013_Schechter(alpha=alpha_mcconnell_ma,\n",
    "                          beta=beta_mcconnell_ma,\n",
    "                          norm1=norm_0_borch,\n",
    "                          norm2=norm_3_borch,\n",
    "                          norm3=norm_5_borch,\n",
    "                          norm4=norm_7_borch,\n",
    "                          norm5=norm_9_borch,\n",
    "                          log_m_break1=log_m_gal_0_borch,\n",
    "                          log_m_break2=log_m_gal_3_borch,\n",
    "                          log_m_break3=log_m_gal_5_borch,\n",
    "                          log_m_break4=log_m_gal_7_borch,\n",
    "                          log_m_break5=log_m_gal_9_borch,\n",
    "                          exp1=alpha_0_borch,\n",
    "                          exp2=alpha_3_borch,\n",
    "                          exp3=alpha_5_borch,\n",
    "                          exp4=alpha_7_borch,\n",
    "                          exp5=alpha_9_borch,\n",
    "                          local_pair_fraction=fp_bundy,\n",
    "                          pair_fraction_exponent=m_bundy,\n",
    "                          q_min=q_min_bundy,\n",
    "                          t_norm=norm_kw,\n",
    "                          r_proj=r_proj_bundy,\n",
    "                          n_models=n_samples)"
   ]
  },
  {
   "cell_type": "code",
   "execution_count": 91,
   "metadata": {},
   "outputs": [
    {
     "name": "stdout",
     "output_type": "stream",
     "text": [
      "Model: Sesana2013_Schechter\n",
      "Inputs: ('x0', 'x1', 'x2')\n",
      "Outputs: ('x0',)\n",
      "Model set size: 1024\n",
      "Parameters:\n",
      "          alpha              beta                norm1         ... t_norm r_proj\n",
      "    ----------------- ------------------ --------------------- ... ------ ------\n",
      "     8.44602037241733  1.185798137468394 0.0034349231352440914 ...    2.2   20.0\n",
      "    8.459987244746602  1.155676510669758 0.0032826726028692406 ...    2.2   20.0\n",
      "    8.453835491198051 1.1548651572351154 0.0035301257105979566 ...    2.2   20.0\n",
      "    8.493179488049655 0.9681225030643688 0.0032773382704073266 ...    2.2   20.0\n",
      "    8.506731190523185 1.2914370401222932 0.0033127640116597593 ...    2.2   20.0\n",
      "    8.320710908674354 0.8845337830839977  0.003524366878208479 ...    2.2   20.0\n",
      "    8.456077531968221 1.2187215938702352 0.0035179635526093626 ...    2.2   20.0\n",
      "     8.52018349390209 0.9751716631396328  0.003575574434919143 ...    2.2   20.0\n",
      "    8.540431576601577 1.0704676994449815  0.003616864998256185 ...    2.2   20.0\n",
      "    8.450236781365716 0.9480126435597194 0.0035585603427308694 ...    2.2   20.0\n",
      "                  ...                ...                   ... ...    ...    ...\n",
      "    8.514319069575667 1.1220234366445563 0.0038237756750441644 ...    2.2   20.0\n",
      "     8.28190549087192 0.9979129659661082  0.004283436004117785 ...    2.2   20.0\n",
      "    8.391110984980644 1.0262991745857506 0.0040622549213137306 ...    2.2   20.0\n",
      "    8.366571433422349 1.0271463601660504 0.0035671819153196916 ...    2.2   20.0\n",
      "    8.503677619393319 0.9554990009476008  0.003915325353470542 ...    2.2   20.0\n",
      "    8.490228213778497 1.0028926634583006  0.003901588315805088 ...    2.2   20.0\n",
      "    8.528551199679882 1.0740376535025964  0.004476634646742934 ...    2.2   20.0\n",
      "     8.40920607240064  1.265023685811028 0.0038145527884954436 ...    2.2   20.0\n",
      "    8.564317413062188  1.124038210205075 0.0044891965330540705 ...    2.2   20.0\n",
      "    8.434304769598139 1.0411127870885362 0.0032724682362393342 ...    2.2   20.0\n",
      "    8.418303211501648  1.035040216905933   0.00363934600556922 ...    2.2   20.0\n",
      "    Length = 1024 rows\n"
     ]
    }
   ],
   "source": [
    "print(S1)\n",
    "with open('../models/S1.pkl', 'wb') as f:\n",
    "    pickle.dump(S1, f)"
   ]
  },
  {
   "cell_type": "markdown",
   "metadata": {},
   "source": [
    "#### S2: Drory+ (2009), de Ravel+ (2009), Lotz+ (2010)"
   ]
  },
  {
   "cell_type": "code",
   "execution_count": 92,
   "metadata": {},
   "outputs": [],
   "source": [
    "S2 = Sesana2013_DoubleSchechter(alpha=alpha_mcconnell_ma,\n",
    "                                beta=beta_mcconnell_ma,\n",
    "                                norm11=norm_0_drory_b,\n",
    "                                norm12=norm_3_drory_b,\n",
    "                                norm13=norm_5_drory_b,\n",
    "                                norm14=norm_7_drory_b,\n",
    "                                norm15=norm_9_drory_b,\n",
    "                                norm21=norm_0_drory_f,\n",
    "                                norm22=norm_3_drory_f,\n",
    "                                norm23=norm_5_drory_f,\n",
    "                                norm24=norm_7_drory_f,\n",
    "                                norm25=norm_9_drory_f,\n",
    "                                log_m_break11=log_m_gal_0_drory_b,\n",
    "                                log_m_break12=log_m_gal_3_drory_b,\n",
    "                                log_m_break13=log_m_gal_5_drory_b,\n",
    "                                log_m_break14=log_m_gal_7_drory_b,\n",
    "                                log_m_break15=log_m_gal_9_drory_b,\n",
    "                                log_m_break21=log_m_gal_0_drory_f,\n",
    "                                log_m_break22=log_m_gal_3_drory_f,\n",
    "                                log_m_break23=log_m_gal_5_drory_f,\n",
    "                                log_m_break24=log_m_gal_7_drory_f,\n",
    "                                log_m_break25=log_m_gal_9_drory_f,\n",
    "                                exp11=alpha_0_drory_b,\n",
    "                                exp12=alpha_3_drory_b,\n",
    "                                exp13=alpha_5_drory_b,\n",
    "                                exp14=alpha_7_drory_b,\n",
    "                                exp15=alpha_9_drory_b,\n",
    "                                exp21=alpha_0_drory_f,\n",
    "                                exp22=alpha_3_drory_f,\n",
    "                                exp23=alpha_5_drory_f,\n",
    "                                exp24=alpha_7_drory_f,\n",
    "                                exp25=alpha_9_drory_f,\n",
    "                                local_pair_fraction1=fp_95_de_ravel,\n",
    "                                local_pair_fraction2=fp_10_de_ravel,\n",
    "                                local_pair_fraction3=fp_105_de_ravel,\n",
    "                                pair_fraction_exponent1=m_95_de_ravel,\n",
    "                                pair_fraction_exponent2=m_10_de_ravel,\n",
    "                                pair_fraction_exponent3=m_105_de_ravel,\n",
    "                                q_min=q_min_de_ravel,\n",
    "                                t_norm=norm_lotz,\n",
    "                                r_proj=r_proj_de_ravel,\n",
    "                                n_models=n_samples)"
   ]
  },
  {
   "cell_type": "code",
   "execution_count": 93,
   "metadata": {},
   "outputs": [
    {
     "name": "stdout",
     "output_type": "stream",
     "text": [
      "Model: Sesana2013_DoubleSchechter\n",
      "Inputs: ('x0', 'x1', 'x2')\n",
      "Outputs: ('x0',)\n",
      "Model set size: 1024\n",
      "Parameters:\n",
      "          alpha              beta                norm11        ... t_norm r_proj\n",
      "    ----------------- ------------------ --------------------- ... ------ ------\n",
      "     8.44602037241733  1.185798137468394  0.004430083183542889 ...    1.1  100.0\n",
      "    8.459987244746602  1.155676510669758 0.0041988863973995835 ...    1.1  100.0\n",
      "    8.453835491198051 1.1548651572351154  0.004455691425467302 ...    1.1  100.0\n",
      "    8.493179488049655 0.9681225030643688 0.0044398234531523705 ...    1.1  100.0\n",
      "    8.506731190523185 1.2914370401222932 0.0044358799677305044 ...    1.1  100.0\n",
      "    8.320710908674354 0.8845337830839977  0.004683696919507766 ...    1.1  100.0\n",
      "    8.456077531968221 1.2187215938702352  0.004320514723393029 ...    1.1  100.0\n",
      "     8.52018349390209 0.9751716631396328  0.004217484912428039 ...    1.1  100.0\n",
      "    8.540431576601577 1.0704676994449815  0.004398304953413671 ...    1.1  100.0\n",
      "    8.450236781365716 0.9480126435597194  0.004632689712358057 ...    1.1  100.0\n",
      "                  ...                ...                   ... ...    ...    ...\n",
      "    8.514319069575667 1.1220234366445563  0.004377681232358912 ...    1.1  100.0\n",
      "     8.28190549087192 0.9979129659661082  0.004895325214878395 ...    1.1  100.0\n",
      "    8.391110984980644 1.0262991745857506  0.004040162199953197 ...    1.1  100.0\n",
      "    8.366571433422349 1.0271463601660504  0.004327763995356653 ...    1.1  100.0\n",
      "    8.503677619393319 0.9554990009476008  0.004712485076537125 ...    1.1  100.0\n",
      "    8.490228213778497 1.0028926634583006  0.004329885108766268 ...    1.1  100.0\n",
      "    8.528551199679882 1.0740376535025964  0.004618502051841496 ...    1.1  100.0\n",
      "     8.40920607240064  1.265023685811028  0.004417914208889673 ...    1.1  100.0\n",
      "    8.564317413062188  1.124038210205075  0.004379774216874283 ...    1.1  100.0\n",
      "    8.434304769598139 1.0411127870885362  0.004234599371064375 ...    1.1  100.0\n",
      "    8.418303211501648  1.035040216905933  0.004207684296397201 ...    1.1  100.0\n",
      "    Length = 1024 rows\n"
     ]
    }
   ],
   "source": [
    "print(S2)\n",
    "with open('../models/S2.pkl', 'wb') as f:\n",
    "    pickle.dump(S2, f)"
   ]
  },
  {
   "cell_type": "markdown",
   "metadata": {},
   "source": [
    "#### S3: Ilbert+ (2010), Lopez+ (2012), Kitzbichler & White (2008)"
   ]
  },
  {
   "cell_type": "code",
   "execution_count": 94,
   "metadata": {},
   "outputs": [],
   "source": [
    "S3 = Sesana2013_TripleSchechter(alpha=alpha_mcconnell_ma,\n",
    "                                beta=beta_mcconnell_ma,\n",
    "                                norm11=norm_0_ilbert_q,\n",
    "                                norm12=norm_3_ilbert_q,\n",
    "                                norm13=norm_5_ilbert_q,\n",
    "                                norm14=norm_7_ilbert_q,\n",
    "                                norm15=norm_9_ilbert_q,\n",
    "                                norm16=norm_11_ilbert_q,\n",
    "                                norm17=norm_135_ilbert_q,\n",
    "                                norm18=norm_175_ilbert_q,\n",
    "                                norm21=norm_0_ilbert_i,\n",
    "                                norm22=norm_3_ilbert_i,\n",
    "                                norm23=norm_5_ilbert_i,\n",
    "                                norm24=norm_7_ilbert_i,\n",
    "                                norm25=norm_9_ilbert_i,\n",
    "                                norm26=norm_11_ilbert_i,\n",
    "                                norm27=norm_135_ilbert_i,\n",
    "                                norm28=norm_175_ilbert_i,\n",
    "                                norm31=norm_0_ilbert_h,\n",
    "                                norm32=norm_3_ilbert_h,\n",
    "                                norm33=norm_5_ilbert_h,\n",
    "                                norm34=norm_7_ilbert_h,\n",
    "                                norm35=norm_9_ilbert_h,\n",
    "                                norm36=norm_11_ilbert_h,\n",
    "                                norm37=norm_135_ilbert_h,\n",
    "                                norm38=norm_175_ilbert_h,\n",
    "                                log_m_break11=log_m_gal_0_ilbert_q,\n",
    "                                log_m_break12=log_m_gal_3_ilbert_q,\n",
    "                                log_m_break13=log_m_gal_5_ilbert_q,\n",
    "                                log_m_break14=log_m_gal_7_ilbert_q,\n",
    "                                log_m_break15=log_m_gal_9_ilbert_q,\n",
    "                                log_m_break16=log_m_gal_11_ilbert_q,\n",
    "                                log_m_break17=log_m_gal_135_ilbert_q,\n",
    "                                log_m_break18=log_m_gal_175_ilbert_q,\n",
    "                                log_m_break21=log_m_gal_0_ilbert_i,\n",
    "                                log_m_break22=log_m_gal_3_ilbert_i,\n",
    "                                log_m_break23=log_m_gal_5_ilbert_i,\n",
    "                                log_m_break24=log_m_gal_7_ilbert_i,\n",
    "                                log_m_break25=log_m_gal_9_ilbert_i,\n",
    "                                log_m_break26=log_m_gal_11_ilbert_i,\n",
    "                                log_m_break27=log_m_gal_135_ilbert_i,\n",
    "                                log_m_break28=log_m_gal_175_ilbert_i,\n",
    "                                log_m_break31=log_m_gal_0_ilbert_h,\n",
    "                                log_m_break32=log_m_gal_3_ilbert_h,\n",
    "                                log_m_break33=log_m_gal_5_ilbert_h,\n",
    "                                log_m_break34=log_m_gal_7_ilbert_h,\n",
    "                                log_m_break35=log_m_gal_9_ilbert_h,\n",
    "                                log_m_break36=log_m_gal_11_ilbert_h,\n",
    "                                log_m_break37=log_m_gal_135_ilbert_h,\n",
    "                                log_m_break38=log_m_gal_175_ilbert_h,\n",
    "                                exp11=alpha_0_ilbert_q,\n",
    "                                exp12=alpha_3_ilbert_q,\n",
    "                                exp13=alpha_5_ilbert_q,\n",
    "                                exp14=alpha_7_ilbert_q,\n",
    "                                exp15=alpha_9_ilbert_q,\n",
    "                                exp16=alpha_11_ilbert_q,\n",
    "                                exp17=alpha_135_ilbert_q,\n",
    "                                exp18=alpha_175_ilbert_q,\n",
    "                                exp21=alpha_0_ilbert_i,\n",
    "                                exp22=alpha_3_ilbert_i,\n",
    "                                exp23=alpha_5_ilbert_i,\n",
    "                                exp24=alpha_7_ilbert_i,\n",
    "                                exp25=alpha_9_ilbert_i,\n",
    "                                exp26=alpha_11_ilbert_i,\n",
    "                                exp27=alpha_135_ilbert_i,\n",
    "                                exp28=alpha_175_ilbert_i,\n",
    "                                exp31=alpha_0_ilbert_h,\n",
    "                                exp32=alpha_3_ilbert_h,\n",
    "                                exp33=alpha_5_ilbert_h,\n",
    "                                exp34=alpha_7_ilbert_h,\n",
    "                                exp35=alpha_9_ilbert_h,\n",
    "                                exp36=alpha_11_ilbert_h,\n",
    "                                exp37=alpha_135_ilbert_h,\n",
    "                                exp38=alpha_175_ilbert_h,\n",
    "                                local_pair_fraction=fp_lopez,\n",
    "                                pair_fraction_exponent=m_lopez,\n",
    "                                q_min=q_min_lopez,\n",
    "                                t_norm=norm_kw,\n",
    "                                r_proj=r_proj_lopez,\n",
    "                                n_models=n_samples)"
   ]
  },
  {
   "cell_type": "code",
   "execution_count": 95,
   "metadata": {},
   "outputs": [
    {
     "name": "stdout",
     "output_type": "stream",
     "text": [
      "Model: Sesana2013_TripleSchechter\n",
      "Inputs: ('x0', 'x1', 'x2')\n",
      "Outputs: ('x0',)\n",
      "Model set size: 1024\n",
      "Parameters:\n",
      "          alpha              beta                norm11        ... t_norm r_proj\n",
      "    ----------------- ------------------ --------------------- ... ------ ------\n",
      "     8.44602037241733  1.185798137468394  0.004430083183542889 ...    2.2   30.0\n",
      "    8.459987244746602  1.155676510669758 0.0041988863973995835 ...    2.2   30.0\n",
      "    8.453835491198051 1.1548651572351154  0.004455691425467302 ...    2.2   30.0\n",
      "    8.493179488049655 0.9681225030643688 0.0044398234531523705 ...    2.2   30.0\n",
      "    8.506731190523185 1.2914370401222932 0.0044358799677305044 ...    2.2   30.0\n",
      "    8.320710908674354 0.8845337830839977  0.004683696919507766 ...    2.2   30.0\n",
      "    8.456077531968221 1.2187215938702352  0.004320514723393029 ...    2.2   30.0\n",
      "     8.52018349390209 0.9751716631396328  0.004217484912428039 ...    2.2   30.0\n",
      "    8.540431576601577 1.0704676994449815  0.004398304953413671 ...    2.2   30.0\n",
      "    8.450236781365716 0.9480126435597194  0.004632689712358057 ...    2.2   30.0\n",
      "                  ...                ...                   ... ...    ...    ...\n",
      "    8.514319069575667 1.1220234366445563  0.004377681232358912 ...    2.2   30.0\n",
      "     8.28190549087192 0.9979129659661082  0.004895325214878395 ...    2.2   30.0\n",
      "    8.391110984980644 1.0262991745857506  0.004040162199953197 ...    2.2   30.0\n",
      "    8.366571433422349 1.0271463601660504  0.004327763995356653 ...    2.2   30.0\n",
      "    8.503677619393319 0.9554990009476008  0.004712485076537125 ...    2.2   30.0\n",
      "    8.490228213778497 1.0028926634583006  0.004329885108766268 ...    2.2   30.0\n",
      "    8.528551199679882 1.0740376535025964  0.004618502051841496 ...    2.2   30.0\n",
      "     8.40920607240064  1.265023685811028  0.004417914208889673 ...    2.2   30.0\n",
      "    8.564317413062188  1.124038210205075  0.004379774216874283 ...    2.2   30.0\n",
      "    8.434304769598139 1.0411127870885362  0.004234599371064375 ...    2.2   30.0\n",
      "    8.418303211501648  1.035040216905933  0.004207684296397201 ...    2.2   30.0\n",
      "    Length = 1024 rows\n"
     ]
    }
   ],
   "source": [
    "print(S3)\n",
    "with open('../models/S3.pkl', 'wb') as f:\n",
    "    pickle.dump(S3, f)"
   ]
  },
  {
   "cell_type": "markdown",
   "metadata": {},
   "source": [
    "# Results"
   ]
  },
  {
   "cell_type": "markdown",
   "metadata": {},
   "source": [
    "## AGN Models"
   ]
  },
  {
   "cell_type": "markdown",
   "metadata": {},
   "source": [
    "### AGN-based"
   ]
  },
  {
   "cell_type": "markdown",
   "metadata": {},
   "source": [
    "#### SMBHB Population"
   ]
  },
  {
   "cell_type": "code",
   "execution_count": 96,
   "metadata": {},
   "outputs": [],
   "source": [
    "mm, zz, qq = np.meshgrid(log_m_bh_range, z_range, q_range, indexing='ij')"
   ]
  },
  {
   "cell_type": "code",
   "execution_count": 97,
   "metadata": {},
   "outputs": [
    {
     "data": {
      "application/vnd.jupyter.widget-view+json": {
       "model_id": "ae0931f3a78e4a6b8f40d1684c33880c",
       "version_major": 2,
       "version_minor": 0
      },
      "text/plain": [
       "  0%|          | 0/32768 [00:00<?, ?it/s]"
      ]
     },
     "metadata": {},
     "output_type": "display_data"
    }
   ],
   "source": [
    "with mp.Pool(mp.cpu_count()) as p:\n",
    "    differential_bhb_population = list(p.starmap(differential_smbhb_population,\n",
    "                             tqdm(zip(mm.ravel(), zz.ravel(), qq.ravel()),\n",
    "                      total=len(mm.ravel()))))\n",
    "\n",
    "differential_bhb_population = np.reshape(differential_bhb_population, np.repeat(mm[..., np.newaxis], n_samples, axis=-1).shape)"
   ]
  },
  {
   "cell_type": "markdown",
   "metadata": {},
   "source": [
    "#### Characteristic strain"
   ]
  },
  {
   "cell_type": "code",
   "execution_count": 98,
   "metadata": {},
   "outputs": [],
   "source": [
    "coeffs = 4. * const.G ** (5. / 3.) / (3. * np.pi ** (1. / 3.)\n",
    "                                      * (const.c ** 2)\n",
    "                                      * (fidhz ** (4. / 3.)))"
   ]
  },
  {
   "cell_type": "code",
   "execution_count": 99,
   "metadata": {},
   "outputs": [],
   "source": [
    "hc_integrand = (coeffs * differential_bhb_population * ((10 ** (mm * (5 / 3)))\n",
    "                                                        * (qq / ((1 + qq) ** (1 / 3)))\n",
    "                                                        / ((1 + zz) ** (1. / 3.)))[..., np.newaxis]\n",
    "                * (u.Msun ** (5 / 3)) / (u.Mpc ** 3))"
   ]
  },
  {
   "cell_type": "code",
   "execution_count": 100,
   "metadata": {},
   "outputs": [
    {
     "data": {
      "text/latex": [
       "$\\displaystyle h_{c} = (9.1^{+4.7}_{-2.9}) \\times 10^{-16.0}$"
      ],
      "text/plain": [
       "<IPython.core.display.Math object>"
      ]
     },
     "metadata": {},
     "output_type": "display_data"
    }
   ],
   "source": [
    "hc = np.sqrt(cumtrapz(cumtrapz(cumtrapz(hc_integrand.to(''), log_m_bh_range, axis=0), z_range, axis=1), q_range, axis=2))\n",
    "hc_q = np.quantile(hc, q=[.16, .5, .84], axis=-1)\n",
    "\n",
    "order = 10. ** np.floor(np.log10(hc_q[1, -1, -1, -1]))\n",
    "display(Math(r'h_{{c}} = ({0:.1f}^{{+{1:.1f}}}_{{-{2:.1f}}}) \\times 10^{{{3}}}'\n",
    "             .format(hc_q[1, -1, -1, -1] / order,\n",
    "                     (hc_q[2, -1, -1, -1] - hc_q[1, -1, -1, -1]) / order,\n",
    "                     (hc_q[1, -1, -1, -1] - hc_q[0, -1, -1, -1]) / order,\n",
    "                     np.log10(order))))"
   ]
  },
  {
   "cell_type": "markdown",
   "metadata": {},
   "source": [
    "#### Number density"
   ]
  },
  {
   "cell_type": "code",
   "execution_count": 101,
   "metadata": {},
   "outputs": [],
   "source": [
    "differential_number_density = trapz(trapz(differential_bhb_population, log_m_bh_range, axis=0), q_range, axis=1)\n",
    "differential_number_density_q = np.quantile(differential_number_density, q=[.16, .5, .84], axis=-1)"
   ]
  },
  {
   "cell_type": "code",
   "execution_count": 102,
   "metadata": {},
   "outputs": [
    {
     "data": {
      "text/latex": [
       "$\\displaystyle \\Phi_{\\rm{BHB}, 0} = (2.4^{+2.2}_{-1.1}) \\times 10^{-4.0}\\;\\rm{Mpc}^{-3}$"
      ],
      "text/plain": [
       "<IPython.core.display.Math object>"
      ]
     },
     "metadata": {},
     "output_type": "display_data"
    }
   ],
   "source": [
    "order = 10. ** np.floor(np.log10(differential_number_density_q[1, 0]))\n",
    "display(Math(r'\\Phi_{{\\rm{{BHB}}, 0}} = ({0:.1f}^{{+{1:.1f}}}_{{-{2:.1f}}}) \\times 10^{{{3}}}\\;\\rm{{Mpc}}^{{-3}}'\n",
    "             .format(differential_number_density_q[1, 0] / order,\n",
    "                     (differential_number_density_q[2, 0] - differential_number_density_q[1, 0]) / order,\n",
    "                     (differential_number_density_q[1, 0] - differential_number_density_q[0, 0]) / order,\n",
    "                     np.log10(order))))"
   ]
  },
  {
   "cell_type": "markdown",
   "metadata": {},
   "source": [
    "#### Local Mass Function"
   ]
  },
  {
   "cell_type": "code",
   "execution_count": 103,
   "metadata": {},
   "outputs": [],
   "source": [
    "local_bhmf = trapz(trapz(differential_bhb_population, z_range, axis=1), q_range, axis=1) / (np.log(10) * (10 ** log_m_bh_range[:, np.newaxis]))\n",
    "local_bhmf_q = np.quantile(local_bhmf, q=[.16, .5, .84], axis=-1)"
   ]
  },
  {
   "cell_type": "markdown",
   "metadata": {},
   "source": [
    "#### Summary"
   ]
  },
  {
   "cell_type": "code",
   "execution_count": 104,
   "metadata": {},
   "outputs": [],
   "source": [
    "with h5py.File('../data/processed/agn_proxy.h5', 'w') as hf:\n",
    "    hf.create_dataset('log_m_bh_range', data=log_m_bh_range)\n",
    "    hf.create_dataset('z_range', data=z_range)\n",
    "    hf.create_dataset('q_range', data=q_range)\n",
    "    hf.create_dataset('population', data=differential_bhb_population)\n",
    "    hf.create_dataset('characteristic_strain', data=hc)\n",
    "    hf.create_dataset('number_density', data=differential_number_density)\n",
    "    hf.create_dataset('local_bhmf', data=local_bhmf)"
   ]
  },
  {
   "cell_type": "markdown",
   "metadata": {},
   "source": [
    "### G19"
   ]
  },
  {
   "cell_type": "markdown",
   "metadata": {},
   "source": [
    "#### SMBHB Population"
   ]
  },
  {
   "cell_type": "code",
   "execution_count": 105,
   "metadata": {},
   "outputs": [],
   "source": [
    "log_m_chirp_range = log_m_bh_range + (3 / 5) * (np.log10(q_max) - 2 * np.log10(1 + q_max))\n",
    "mm, zz = np.meshgrid(log_m_chirp_range, z_range, indexing='ij')"
   ]
  },
  {
   "cell_type": "code",
   "execution_count": 106,
   "metadata": {},
   "outputs": [
    {
     "data": {
      "application/vnd.jupyter.widget-view+json": {
       "model_id": "aa8268abbf8d4f29a3ffb10fdd6fc5b5",
       "version_major": 2,
       "version_minor": 0
      },
      "text/plain": [
       "  0%|          | 0/1024 [00:00<?, ?it/s]"
      ]
     },
     "metadata": {},
     "output_type": "display_data"
    }
   ],
   "source": [
    "with mp.Pool(mp.cpu_count()) as p:\n",
    "    G19_bhb_population = list(p.starmap(G19_dual_agn_population,\n",
    "                             tqdm(zip(mm.ravel(), zz.ravel()),\n",
    "                      total=len(mm.ravel()))))\n",
    "\n",
    "G19_bhb_population = np.reshape(G19_bhb_population, np.repeat(mm[..., np.newaxis], n_samples, axis=-1).shape)"
   ]
  },
  {
   "cell_type": "markdown",
   "metadata": {},
   "source": [
    "#### Characteristic strain"
   ]
  },
  {
   "cell_type": "code",
   "execution_count": 107,
   "metadata": {},
   "outputs": [],
   "source": [
    "G19_hc_integrand = (coeffs * G19_bhb_population * ((10 ** (mm * (5 / 3)))\n",
    "                                               / ((1 + zz) ** (1. / 3.)))[..., np.newaxis]\n",
    "                * (u.Msun ** (5 / 3)) / (u.Mpc ** 3))"
   ]
  },
  {
   "cell_type": "code",
   "execution_count": 108,
   "metadata": {},
   "outputs": [
    {
     "data": {
      "text/latex": [
       "$\\displaystyle h_{c} = (1.8^{+0.9}_{-0.6}) \\times 10^{-16.0}$"
      ],
      "text/plain": [
       "<IPython.core.display.Math object>"
      ]
     },
     "metadata": {},
     "output_type": "display_data"
    }
   ],
   "source": [
    "G19_hc = np.sqrt(cumtrapz(cumtrapz(G19_hc_integrand.to(''), log_m_chirp_range, axis=0), z_range, axis=1))\n",
    "G19_hc_q = np.quantile(G19_hc, q=[.16, .5, .84], axis=-1)\n",
    "\n",
    "order = 10. ** np.floor(np.log10(G19_hc_q[1, -1, -1]))\n",
    "display(Math(r'h_{{c}} = ({0:.1f}^{{+{1:.1f}}}_{{-{2:.1f}}}) \\times 10^{{{3}}}'\n",
    "             .format(G19_hc_q[1, -1, -1] / order,\n",
    "                     (G19_hc_q[2, -1, -1] - G19_hc_q[1, -1, -1]) / order,\n",
    "                     (G19_hc_q[1, -1, -1] - G19_hc_q[0, -1, -1]) / order,\n",
    "                     np.log10(order))))"
   ]
  },
  {
   "cell_type": "markdown",
   "metadata": {},
   "source": [
    "#### Number density"
   ]
  },
  {
   "cell_type": "code",
   "execution_count": 109,
   "metadata": {},
   "outputs": [],
   "source": [
    "G19_number_density = trapz(G19_bhb_population, log_m_chirp_range, axis=0)\n",
    "G19_number_density_q = np.quantile(G19_number_density, q=[.16, .5, .84], axis=-1)"
   ]
  },
  {
   "cell_type": "code",
   "execution_count": 110,
   "metadata": {},
   "outputs": [
    {
     "data": {
      "text/latex": [
       "$\\displaystyle \\Phi_{\\rm{BHB}, 0} = (6.3^{+5.0}_{-3.9}) \\times 10^{-7.0}\\;\\rm{Mpc}^{-3}$"
      ],
      "text/plain": [
       "<IPython.core.display.Math object>"
      ]
     },
     "metadata": {},
     "output_type": "display_data"
    }
   ],
   "source": [
    "order = 10. ** np.floor(np.log10(G19_number_density_q[1, 0]))\n",
    "display(Math(r'\\Phi_{{\\rm{{BHB}}, 0}} = ({0:.1f}^{{+{1:.1f}}}_{{-{2:.1f}}}) \\times 10^{{{3}}}\\;\\rm{{Mpc}}^{{-3}}'\n",
    "             .format(G19_number_density_q[1, 0] / order,\n",
    "                     (G19_number_density_q[2, 0] - G19_number_density_q[1, 0]) / order,\n",
    "                     (G19_number_density_q[1, 0] - G19_number_density_q[0, 0]) / order,\n",
    "                     np.log10(order))))"
   ]
  },
  {
   "cell_type": "markdown",
   "metadata": {},
   "source": [
    "#### Local Mass Function"
   ]
  },
  {
   "cell_type": "code",
   "execution_count": 111,
   "metadata": {},
   "outputs": [],
   "source": [
    "G19_local_bhmf = trapz(G19_bhb_population, z_range, axis=1) / (np.log(10) * (10 ** log_m_chirp_range[:, np.newaxis]))\n",
    "G19_local_bhmf_q = np.quantile(G19_local_bhmf, q=[.16, .5, .84], axis=-1)"
   ]
  },
  {
   "cell_type": "markdown",
   "metadata": {},
   "source": [
    "#### Summary"
   ]
  },
  {
   "cell_type": "code",
   "execution_count": 112,
   "metadata": {},
   "outputs": [],
   "source": [
    "with h5py.File('../data/processed/g19.h5', 'w') as hf:\n",
    "    hf.create_dataset('log_m_chirp_range', data=log_m_chirp_range)\n",
    "    hf.create_dataset('z_range', data=z_range)\n",
    "    hf.create_dataset('population', data=G19_bhb_population)\n",
    "    hf.create_dataset('characteristic_strain', data=G19_hc)\n",
    "    hf.create_dataset('number_density', data=G19_number_density)\n",
    "    hf.create_dataset('local_bhmf', data=G19_local_bhmf)"
   ]
  },
  {
   "cell_type": "markdown",
   "metadata": {},
   "source": [
    "## Merger Models"
   ]
  },
  {
   "cell_type": "markdown",
   "metadata": {},
   "source": [
    "### S1"
   ]
  },
  {
   "cell_type": "markdown",
   "metadata": {},
   "source": [
    "#### SMBHB Population"
   ]
  },
  {
   "cell_type": "code",
   "execution_count": 113,
   "metadata": {},
   "outputs": [],
   "source": [
    "mm, zz, qq = np.meshgrid(log_m_bh_range, z_range_borch, q_range, indexing='ij')"
   ]
  },
  {
   "cell_type": "code",
   "execution_count": 114,
   "metadata": {},
   "outputs": [
    {
     "data": {
      "application/vnd.jupyter.widget-view+json": {
       "model_id": "8de6e4ee02544aeca3d1f0101a4c0fcc",
       "version_major": 2,
       "version_minor": 0
      },
      "text/plain": [
       "  0%|          | 0/32768 [00:00<?, ?it/s]"
      ]
     },
     "metadata": {},
     "output_type": "display_data"
    }
   ],
   "source": [
    "with mp.Pool(mp.cpu_count()) as p:\n",
    "    S1_bhb_population = list(p.starmap(S1,\n",
    "                             tqdm(zip(mm.ravel(), zz.ravel(), qq.ravel()),\n",
    "                      total=len(mm.ravel()))))\n",
    "\n",
    "S1_bhb_population = np.reshape(S1_bhb_population, np.repeat(mm[..., np.newaxis], n_samples, axis=-1).shape)"
   ]
  },
  {
   "cell_type": "markdown",
   "metadata": {},
   "source": [
    "#### Strain"
   ]
  },
  {
   "cell_type": "code",
   "execution_count": 115,
   "metadata": {},
   "outputs": [],
   "source": [
    "S1_hc_integrand = (coeffs * S1_bhb_population * ((10 ** (mm * (5 / 3)))\n",
    "                                                 * (qq / ((1 + qq) ** (1 / 3)))\n",
    "                                                 / ((1 + zz) ** (1. / 3.)))[..., np.newaxis]\n",
    "                   * (u.Msun ** (5 / 3)) / (u.Mpc ** 3))"
   ]
  },
  {
   "cell_type": "code",
   "execution_count": 116,
   "metadata": {},
   "outputs": [
    {
     "data": {
      "text/latex": [
       "$\\displaystyle h_{c, \\rm{S1}} = (4.7^{+1.9}_{-1.9}) \\times 10^{-16.0}$"
      ],
      "text/plain": [
       "<IPython.core.display.Math object>"
      ]
     },
     "metadata": {},
     "output_type": "display_data"
    }
   ],
   "source": [
    "S1_hc = np.sqrt(cumtrapz(cumtrapz(cumtrapz(S1_hc_integrand.to(''), log_m_bh_range, axis=0), z_range_borch, axis=1), q_range, axis=2))\n",
    "S1_hc_q = np.quantile(S1_hc, q=[.16, .5, .84], axis=-1)\n",
    "\n",
    "order = 10. ** np.floor(np.log10(S1_hc_q[1, -1, -1, -1]))\n",
    "display(Math(r'h_{{c, \\rm{{S1}}}} = ({0:.1f}^{{+{1:.1f}}}_{{-{2:.1f}}}) \\times 10^{{{3}}}'\n",
    "             .format(S1_hc_q[1, -1, -1, -1] / order,\n",
    "                     (S1_hc_q[2, -1, -1, -1] - S1_hc_q[1, -1, -1, -1]) / order,\n",
    "                     (S1_hc_q[1, -1, -1, -1] - S1_hc_q[0, -1, -1, -1]) / order,\n",
    "                     np.log10(order))))"
   ]
  },
  {
   "cell_type": "markdown",
   "metadata": {},
   "source": [
    "#### Number density"
   ]
  },
  {
   "cell_type": "code",
   "execution_count": 117,
   "metadata": {},
   "outputs": [],
   "source": [
    "S1_number_density = trapz(trapz(S1_bhb_population, log_m_bh_range, axis=0), q_range, axis=1)\n",
    "S1_number_density_q = np.quantile(S1_number_density, q=[.16, .5, .84], axis=-1)"
   ]
  },
  {
   "cell_type": "code",
   "execution_count": 118,
   "metadata": {},
   "outputs": [
    {
     "data": {
      "text/latex": [
       "$\\displaystyle \\Phi_{\\rm{BHB}, 0, \\rm{S1}} = (9.3^{+11.7}_{-5.8}) \\times 10^{-4.0}\\;\\rm{Mpc}^{-3}$"
      ],
      "text/plain": [
       "<IPython.core.display.Math object>"
      ]
     },
     "metadata": {},
     "output_type": "display_data"
    }
   ],
   "source": [
    "order = 10. ** np.floor(np.log10(S1_number_density_q[1, 0]))\n",
    "display(Math(r'\\Phi_{{\\rm{{BHB}}, 0, \\rm{{S1}}}} = ({0:.1f}^{{+{1:.1f}}}_{{-{2:.1f}}}) \\times 10^{{{3}}}\\;\\rm{{Mpc}}^{{-3}}'\n",
    "             .format(S1_number_density_q[1, 0] / order,\n",
    "                     (S1_number_density_q[2, 0] - S1_number_density_q[1, 0]) / order,\n",
    "                     (S1_number_density_q[1, 0] - S1_number_density_q[0, 0]) / order,\n",
    "                     np.log10(order))))"
   ]
  },
  {
   "cell_type": "markdown",
   "metadata": {},
   "source": [
    "#### Local Mass Function"
   ]
  },
  {
   "cell_type": "code",
   "execution_count": 119,
   "metadata": {},
   "outputs": [],
   "source": [
    "S1_local_bhmf = trapz(trapz(S1_bhb_population, q_range, axis=2), z_range_borch, axis=1) / (np.log(10) * (10 ** log_m_bh_range[:, np.newaxis]))\n",
    "S1_local_bhmf_q = np.quantile(S1_local_bhmf, q=[.16, .5, .84], axis=-1)"
   ]
  },
  {
   "cell_type": "markdown",
   "metadata": {},
   "source": [
    "#### Summary"
   ]
  },
  {
   "cell_type": "code",
   "execution_count": 120,
   "metadata": {},
   "outputs": [],
   "source": [
    "with h5py.File('../data/processed/S1.h5', 'w') as hf:\n",
    "    hf.create_dataset('log_m_bh_range', data=log_m_bh_range)\n",
    "    hf.create_dataset('z_range', data=z_range_borch)\n",
    "    hf.create_dataset('q_range', data=q_range)\n",
    "    hf.create_dataset('population', data=S1_bhb_population)\n",
    "    hf.create_dataset('characteristic_strain', data=S1_hc)\n",
    "    hf.create_dataset('number_density', data=S1_number_density)\n",
    "    hf.create_dataset('local_bhmf', data=S1_local_bhmf)"
   ]
  },
  {
   "cell_type": "markdown",
   "metadata": {},
   "source": [
    "### S2"
   ]
  },
  {
   "cell_type": "markdown",
   "metadata": {},
   "source": [
    "#### SMBHB Population"
   ]
  },
  {
   "cell_type": "code",
   "execution_count": 121,
   "metadata": {},
   "outputs": [],
   "source": [
    "mm, zz, qq = np.meshgrid(log_m_bh_range, z_range_drory, q_range, indexing='ij')"
   ]
  },
  {
   "cell_type": "code",
   "execution_count": 122,
   "metadata": {},
   "outputs": [
    {
     "data": {
      "application/vnd.jupyter.widget-view+json": {
       "model_id": "ec27ca072c9f441bb69ec5cb1f19fac9",
       "version_major": 2,
       "version_minor": 0
      },
      "text/plain": [
       "  0%|          | 0/32768 [00:00<?, ?it/s]"
      ]
     },
     "metadata": {},
     "output_type": "display_data"
    }
   ],
   "source": [
    "with mp.Pool(mp.cpu_count()) as p:\n",
    "    S2_bhb_population = list(p.starmap(S2,\n",
    "                             tqdm(zip(mm.ravel(), zz.ravel(), qq.ravel()),\n",
    "                      total=len(mm.ravel()))))\n",
    "\n",
    "S2_bhb_population = np.reshape(S2_bhb_population, np.repeat(mm[..., np.newaxis], n_samples, axis=-1).shape)"
   ]
  },
  {
   "cell_type": "markdown",
   "metadata": {},
   "source": [
    "#### Strain"
   ]
  },
  {
   "cell_type": "code",
   "execution_count": 123,
   "metadata": {},
   "outputs": [],
   "source": [
    "S2_hc_integrand = (coeffs * S2_bhb_population * ((10 ** (mm * (5 / 3)))\n",
    "                                                 * (qq / ((1 + qq) ** (1 / 3)))\n",
    "                                                 / ((1 + zz) ** (1. / 3.)))[..., np.newaxis]\n",
    "                   * (u.Msun ** (5 / 3)) / (u.Mpc ** 3))"
   ]
  },
  {
   "cell_type": "code",
   "execution_count": 124,
   "metadata": {},
   "outputs": [
    {
     "data": {
      "text/latex": [
       "$\\displaystyle h_{c, \\rm{S2}} = (1.2^{+0.8}_{-0.6}) \\times 10^{-15.0}$"
      ],
      "text/plain": [
       "<IPython.core.display.Math object>"
      ]
     },
     "metadata": {},
     "output_type": "display_data"
    }
   ],
   "source": [
    "S2_hc = np.sqrt(cumtrapz(cumtrapz(cumtrapz(S2_hc_integrand.to(''), log_m_bh_range, axis=0), z_range_drory, axis=1), q_range, axis=2))\n",
    "S2_hc_q = np.quantile(S2_hc, q=[.16, .5, .84], axis=-1)\n",
    "\n",
    "order = 10. ** np.floor(np.log10(S2_hc_q[1, -1, -1, -1]))\n",
    "display(Math(r'h_{{c, \\rm{{S2}}}} = ({0:.1f}^{{+{1:.1f}}}_{{-{2:.1f}}}) \\times 10^{{{3}}}'\n",
    "             .format(S2_hc_q[1, -1, -1, -1] / order,\n",
    "                     (S2_hc_q[2, -1, -1, -1] - S2_hc_q[1, -1, -1, -1]) / order,\n",
    "                     (S2_hc_q[1, -1, -1, -1] - S2_hc_q[0, -1, -1, -1]) / order,\n",
    "                     np.log10(order))))"
   ]
  },
  {
   "cell_type": "markdown",
   "metadata": {},
   "source": [
    "#### Number density"
   ]
  },
  {
   "cell_type": "code",
   "execution_count": 125,
   "metadata": {},
   "outputs": [],
   "source": [
    "S2_number_density = trapz(trapz(S2_bhb_population, log_m_bh_range, axis=0), q_range, axis=1)\n",
    "S2_number_density_q = np.quantile(S2_number_density, q=[.16, .5, .84], axis=-1)"
   ]
  },
  {
   "cell_type": "code",
   "execution_count": 126,
   "metadata": {},
   "outputs": [
    {
     "data": {
      "text/latex": [
       "$\\displaystyle \\Phi_{\\rm{BHB}, 0, \\rm{S2}} = (4.5^{+4.2}_{-2.3}) \\times 10^{-3.0}\\;\\rm{Mpc}^{-3}$"
      ],
      "text/plain": [
       "<IPython.core.display.Math object>"
      ]
     },
     "metadata": {},
     "output_type": "display_data"
    }
   ],
   "source": [
    "order = 10. ** np.floor(np.log10(S2_number_density_q[1, 0]))\n",
    "display(Math(r'\\Phi_{{\\rm{{BHB}}, 0, \\rm{{S2}}}} = ({0:.1f}^{{+{1:.1f}}}_{{-{2:.1f}}}) \\times 10^{{{3}}}\\;\\rm{{Mpc}}^{{-3}}'\n",
    "             .format(S2_number_density_q[1, 0] / order,\n",
    "                     (S2_number_density_q[2, 0] - S2_number_density_q[1, 0]) / order,\n",
    "                     (S2_number_density_q[1, 0] - S2_number_density_q[0, 0]) / order,\n",
    "                     np.log10(order))))"
   ]
  },
  {
   "cell_type": "markdown",
   "metadata": {},
   "source": [
    "#### Local Mass Function"
   ]
  },
  {
   "cell_type": "code",
   "execution_count": 127,
   "metadata": {},
   "outputs": [],
   "source": [
    "S2_local_bhmf = trapz(trapz(S2_bhb_population, q_range, axis=2), z_range_drory, axis=1) / (np.log(10) * (10 ** log_m_bh_range[:, np.newaxis]))\n",
    "S2_local_bhmf_q = np.quantile(S2_local_bhmf, q=[.16, .5, .84], axis=-1)"
   ]
  },
  {
   "cell_type": "markdown",
   "metadata": {},
   "source": [
    "#### Summary"
   ]
  },
  {
   "cell_type": "code",
   "execution_count": 128,
   "metadata": {},
   "outputs": [],
   "source": [
    "with h5py.File('../data/processed/S2.h5', 'w') as hf:\n",
    "    hf.create_dataset('log_m_bh_range', data=log_m_bh_range)\n",
    "    hf.create_dataset('z_range', data=z_range_drory)\n",
    "    hf.create_dataset('q_range', data=q_range)\n",
    "    hf.create_dataset('population', data=S2_bhb_population)\n",
    "    hf.create_dataset('characteristic_strain', data=S2_hc)\n",
    "    hf.create_dataset('number_density', data=S2_number_density)\n",
    "    hf.create_dataset('local_bhmf', data=S2_local_bhmf)"
   ]
  },
  {
   "cell_type": "markdown",
   "metadata": {},
   "source": [
    "### S3"
   ]
  },
  {
   "cell_type": "markdown",
   "metadata": {},
   "source": [
    "#### SMBHB Population"
   ]
  },
  {
   "cell_type": "code",
   "execution_count": 129,
   "metadata": {},
   "outputs": [],
   "source": [
    "mm, zz, qq = np.meshgrid(log_m_bh_range, z_range_ilbert, q_range, indexing='ij')"
   ]
  },
  {
   "cell_type": "code",
   "execution_count": 130,
   "metadata": {},
   "outputs": [
    {
     "data": {
      "application/vnd.jupyter.widget-view+json": {
       "model_id": "7ba937d4951a4b3795ce1a6d8d5fa247",
       "version_major": 2,
       "version_minor": 0
      },
      "text/plain": [
       "  0%|          | 0/32768 [00:00<?, ?it/s]"
      ]
     },
     "metadata": {},
     "output_type": "display_data"
    }
   ],
   "source": [
    "with mp.Pool(mp.cpu_count()) as p:\n",
    "    S3_bhb_population = list(p.starmap(S3,\n",
    "                             tqdm(zip(mm.ravel(), zz.ravel(), qq.ravel()),\n",
    "                      total=len(mm.ravel()))))\n",
    "\n",
    "S3_bhb_population = np.reshape(S3_bhb_population, np.repeat(mm[..., np.newaxis], n_samples, axis=-1).shape)"
   ]
  },
  {
   "cell_type": "markdown",
   "metadata": {},
   "source": [
    "#### Strain"
   ]
  },
  {
   "cell_type": "code",
   "execution_count": 131,
   "metadata": {},
   "outputs": [],
   "source": [
    "S3_hc_integrand = (coeffs * S3_bhb_population * ((10 ** (mm * (5 / 3)))\n",
    "                                                 * (qq / ((1 + qq) ** (1 / 3)))\n",
    "                                                 / ((1 + zz) ** (1. / 3.)))[..., np.newaxis]\n",
    "                   * (u.Msun ** (5 / 3)) / (u.Mpc ** 3))"
   ]
  },
  {
   "cell_type": "code",
   "execution_count": 132,
   "metadata": {},
   "outputs": [
    {
     "data": {
      "text/latex": [
       "$\\displaystyle h_{c, \\rm{S3}} = (5.2^{+1.8}_{-1.1}) \\times 10^{-16.0}$"
      ],
      "text/plain": [
       "<IPython.core.display.Math object>"
      ]
     },
     "metadata": {},
     "output_type": "display_data"
    }
   ],
   "source": [
    "S3_hc = np.sqrt(cumtrapz(cumtrapz(cumtrapz(S3_hc_integrand.to(''), log_m_bh_range, axis=0), z_range_ilbert, axis=1), q_range, axis=2))\n",
    "S3_hc_q = np.quantile(S3_hc, q=[.16, .5, .84], axis=-1)\n",
    "\n",
    "order = 10. ** np.floor(np.log10(S3_hc_q[1, -1, -1, -1]))\n",
    "display(Math(r'h_{{c, \\rm{{S3}}}} = ({0:.1f}^{{+{1:.1f}}}_{{-{2:.1f}}}) \\times 10^{{{3}}}'\n",
    "             .format(S3_hc_q[1, -1, -1, -1] / order,\n",
    "                     (S3_hc_q[2, -1, -1, -1] - S3_hc_q[1, -1, -1, -1]) / order,\n",
    "                     (S3_hc_q[1, -1, -1, -1] - S3_hc_q[0, -1, -1, -1]) / order,\n",
    "                     np.log10(order))))"
   ]
  },
  {
   "cell_type": "markdown",
   "metadata": {},
   "source": [
    "#### Number density"
   ]
  },
  {
   "cell_type": "code",
   "execution_count": 133,
   "metadata": {},
   "outputs": [],
   "source": [
    "S3_number_density = trapz(trapz(S3_bhb_population, log_m_bh_range, axis=0), q_range, axis=1)\n",
    "S3_number_density_q = np.quantile(S3_number_density, q=[.16, .5, .84], axis=-1)"
   ]
  },
  {
   "cell_type": "code",
   "execution_count": 134,
   "metadata": {},
   "outputs": [
    {
     "data": {
      "text/latex": [
       "$\\displaystyle \\Phi_{\\rm{BHB}, 0, \\rm{S3}} = (1.4^{+0.3}_{-0.3}) \\times 10^{-3.0}\\;\\rm{Mpc}^{-3}$"
      ],
      "text/plain": [
       "<IPython.core.display.Math object>"
      ]
     },
     "metadata": {},
     "output_type": "display_data"
    }
   ],
   "source": [
    "order = 10. ** np.floor(np.log10(S3_number_density_q[1, 0]))\n",
    "display(Math(r'\\Phi_{{\\rm{{BHB}}, 0, \\rm{{S3}}}} = ({0:.1f}^{{+{1:.1f}}}_{{-{2:.1f}}}) \\times 10^{{{3}}}\\;\\rm{{Mpc}}^{{-3}}'\n",
    "             .format(S3_number_density_q[1, 0] / order,\n",
    "                     (S3_number_density_q[2, 0] - S3_number_density_q[1, 0]) / order,\n",
    "                     (S3_number_density_q[1, 0] - S3_number_density_q[0, 0]) / order,\n",
    "                     np.log10(order))))"
   ]
  },
  {
   "cell_type": "markdown",
   "metadata": {},
   "source": [
    "#### Local Mass Function"
   ]
  },
  {
   "cell_type": "code",
   "execution_count": 135,
   "metadata": {},
   "outputs": [],
   "source": [
    "S3_local_bhmf = trapz(trapz(S3_bhb_population, q_range, axis=2), z_range_ilbert, axis=1) / (np.log(10) * (10 ** log_m_bh_range[:, np.newaxis]))\n",
    "S3_local_bhmf_q = np.quantile(S3_local_bhmf, q=[.16, .5, .84], axis=-1)"
   ]
  },
  {
   "cell_type": "markdown",
   "metadata": {},
   "source": [
    "#### Summary"
   ]
  },
  {
   "cell_type": "code",
   "execution_count": 136,
   "metadata": {},
   "outputs": [],
   "source": [
    "with h5py.File('../data/processed/S3.h5', 'w') as hf:\n",
    "    hf.create_dataset('log_m_bh_range', data=log_m_bh_range)\n",
    "    hf.create_dataset('z_range', data=z_range_ilbert)\n",
    "    hf.create_dataset('q_range', data=q_range)\n",
    "    hf.create_dataset('population', data=S3_bhb_population)\n",
    "    hf.create_dataset('characteristic_strain', data=S3_hc)\n",
    "    hf.create_dataset('number_density',  data=S3_number_density)\n",
    "    hf.create_dataset('local_bhmf', data=S3_local_bhmf)"
   ]
  },
  {
   "cell_type": "markdown",
   "metadata": {},
   "source": [
    "## Plots"
   ]
  },
  {
   "cell_type": "code",
   "execution_count": 137,
   "metadata": {},
   "outputs": [],
   "source": [
    "import seaborn as sns\n",
    "import matplotlib.pyplot as plt\n",
    "%matplotlib inline\n",
    "sns.set_context(\"talk\", font_scale=1.2)\n",
    "sns.set_style('ticks')\n",
    "sns.set_palette('colorblind')\n",
    "figparams = {'font.family': 'DejaVu Sans',\n",
    "             'font.serif':'Times',\n",
    "             'text.latex.preamble': r'\\usepackage{amsmath}',\n",
    "             'text.usetex': True,\n",
    "             'hatch.linewidth' : 3.0}\n",
    "plt.rcParams.update(figparams)\n",
    "cs = plt.rcParams['axes.prop_cycle'].by_key()['color']"
   ]
  },
  {
   "cell_type": "code",
   "execution_count": 138,
   "metadata": {},
   "outputs": [],
   "source": [
    "from matplotlib.legend_handler import HandlerLine2D, HandlerTuple\n",
    "\n",
    "class HandlerTupleVertical(HandlerTuple):\n",
    "    def __init__(self, **kwargs):\n",
    "        HandlerTuple.__init__(self, **kwargs)\n",
    "\n",
    "    def create_artists(self, legend, orig_handle,\n",
    "                       xdescent, ydescent, width, height, fontsize, trans):\n",
    "        # How many lines are there.\n",
    "        numlines = len(orig_handle)\n",
    "        handler_map = legend.get_legend_handler_map()\n",
    "\n",
    "        # divide the vertical space where the lines will go\n",
    "        # into equal parts based on the number of lines\n",
    "        height_y = (height / numlines)\n",
    "\n",
    "        leglines = []\n",
    "        for i, handle in enumerate(orig_handle):\n",
    "            handler = legend.get_legend_handler(handler_map, handle)\n",
    "\n",
    "            legline = handler.create_artists(legend, handle,\n",
    "                                             xdescent,\n",
    "                                             (2*i + 1)*height_y,\n",
    "                                             width,\n",
    "                                             2*height,\n",
    "                                             fontsize, trans)\n",
    "            leglines.extend(legline)\n",
    "\n",
    "        return leglines"
   ]
  },
  {
   "cell_type": "code",
   "execution_count": 147,
   "metadata": {},
   "outputs": [
    {
     "data": {
      "image/png": "[encoded data removed]",
      "text/plain": [
       "<Figure size 2592x648 with 3 Axes>"
      ]
     },
     "metadata": {},
     "output_type": "display_data"
    }
   ],
   "source": [
    "log_nz_i_l_kw_fid_min = np.floor(np.min(np.log10([np.min(differential_number_density_q[1]), np.min(S1_number_density_q[1]),\n",
    "                                                  np.min(S2_number_density_q[1]), np.min(S3_number_density_q[1])])))\n",
    "log_nz_i_l_kw_fid_max = np.ceil(np.max(np.log10([np.max(differential_number_density_q[1]), np.max(S1_number_density_q[1]),\n",
    "                                                 np.max(S2_number_density_q[1]), np.max(S3_number_density_q[1])])))\n",
    "\n",
    "\n",
    "log_hc_min = np.floor(10 * np.min(np.log10(np.concatenate((hc[-1, -1, -1, :], S1_hc[-1, -1, -1, :],\n",
    "                                            S2_hc[-1, -1, -1, :], S3_hc[-1, -1, -1, :]))))) / 10\n",
    "log_hc_max = np.ceil(10 * np.max(np.log10(np.concatenate((hc[-1, -1, -1, :], S1_hc[-1, -1, -1, :],\n",
    "                                           S2_hc[-1, -1, -1, :], S3_hc[-1, -1, -1, :]))))) / 10\n",
    "bins = np.linspace(log_hc_min, log_hc_max,\n",
    "                   int((log_hc_max - (log_hc_min - .1)) / .1))\n",
    "\n",
    "sesana_min = 3.5e-16\n",
    "sesana_max = 1.5e-15\n",
    "log_sesana_min = np.log10(sesana_min)\n",
    "log_sesana_max = np.log10(sesana_max)\n",
    "log_sesana_mid = np.mean([log_sesana_min, log_sesana_max])\n",
    "log_sesana_h = log_sesana_max - log_sesana_mid\n",
    "log_sesana_l = log_sesana_mid - log_sesana_min\n",
    "\n",
    "log_hc_mid = np.log10(hc_q[1, -1, -1, -1])\n",
    "log_hc_min = np.log10(hc_q[0, -1, -1, -1])\n",
    "log_hc_max = np.log10(hc_q[2, -1, -1, -1])\n",
    "log_hc_h = log_hc_max - log_hc_mid\n",
    "log_hc_l = log_hc_mid - log_hc_min\n",
    "\n",
    "sns.set_context(\"talk\", font_scale=1.8)\n",
    "fig, ax = plt.subplots(1, 3, figsize=(36, 9))\n",
    "\n",
    "label_fsize = 42\n",
    "legend_fsize = 30\n",
    "text_fs = 28\n",
    "\n",
    "ax[0].tick_params()\n",
    "ax[1].tick_params()\n",
    "\n",
    "ax[0].fill_between(z_range_borch, S1_number_density_q[0], S1_number_density_q[2],\n",
    "                 color=cs[1], alpha=.2, hatch='\\\\')\n",
    "s1, = ax[0].plot(z_range_borch, S1_number_density_q[1], color=cs[1],\n",
    "                linewidth=3, linestyle=':')\n",
    "ax[0].text(z_range_borch[int(n_mesh / 2) - 1], .9 * S1_number_density_q[0, int(n_mesh / 2) - 1], 'S1', color=cs[1],\n",
    "           verticalalignment='top', horizontalalignment='left', fontsize=text_fs)\n",
    "\n",
    "ax[0].fill_between(z_range_drory, S2_number_density_q[0], S2_number_density_q[2],\n",
    "                 color=cs[1], alpha=.2, hatch='||')\n",
    "s2, = ax[0].plot(z_range_drory, S2_number_density_q[1], color=cs[1],\n",
    "                linewidth=3, linestyle='-.')\n",
    "ax[0].text(z_range_drory[int(n_mesh / 2) - 1], 1.05 * S2_number_density_q[2, int(n_mesh / 2) - 1], 'S2', color=cs[1],\n",
    "           verticalalignment='bottom', horizontalalignment='left', fontsize=text_fs)\n",
    "\n",
    "ax[0].fill_between(z_range_ilbert, S3_number_density_q[0], S3_number_density_q[2],\n",
    "                 color=cs[1], alpha=.2, hatch='-')\n",
    "s3, = ax[0].plot(z_range_ilbert, S3_number_density_q[1], color=cs[1],\n",
    "                linewidth=3, linestyle=(0, (3, 1, 1, 1, 1, 1)))\n",
    "ax[0].text(z_range_ilbert[n_mesh - 1], .95 * S3_number_density_q[0, n_mesh - 1], 'S3', color=cs[1],\n",
    "           verticalalignment='top', horizontalalignment='left', fontsize=text_fs)\n",
    "\n",
    "ax[0].fill_between(z_range, G19_number_density_q[0], G19_number_density_q[2], color=cs[2], alpha=.2, hatch='.')\n",
    "m2, = ax[0].plot(z_range, G19_number_density_q[1], color=cs[2], linewidth=3, linestyle='--')\n",
    "\n",
    "ax[0].fill_between(z_range, differential_number_density_q[0], differential_number_density_q[2], color=cs[0], alpha=.2, hatch='/')\n",
    "m1, = ax[0].plot(z_range, differential_number_density_q[1], color=cs[0], linewidth=3, linestyle='-')\n",
    "\n",
    "ax[0].set_yscale('log')\n",
    "ax[0].set_ylabel(r'$\\Phi_{\\rm{BHB}}(z)\\ [\\rm{Mpc}^{-3}]$', fontsize=label_fsize)\n",
    "ax[0].set_xlabel(r'$z$', fontsize=label_fsize)\n",
    "# ax[0].set_ylim((10 ** (log_nz_i_l_kw_fid_min - 1), 10 ** (log_nz_i_l_kw_fid_max + 1)))\n",
    "ax[0].set_ylim(top=5e-2, bottom=1e-7)\n",
    "\n",
    "ax[0].legend([m1, m2, (s1, s2, s3)], ['AGN-based', 'G19', 'S13 Models'], numpoints=1,\n",
    "             handler_map={tuple: HandlerTupleVertical(ndivide=None)}, loc='lower right', frameon=False, fontsize=legend_fsize)\n",
    "\n",
    "ax[0].text(.95, .95, '(a)', fontsize=legend_fsize, verticalalignment='top', horizontalalignment='right', transform=ax[0].transAxes)\n",
    "\n",
    "ax[1].fill_between(10 ** log_m_bh_range, S1_local_bhmf_q[0], S1_local_bhmf_q[2], color=cs[1], alpha=.2, hatch='\\\\')\n",
    "s1, = ax[1].plot(10 ** log_m_bh_range, S1_local_bhmf_q[1], color=cs[1],\n",
    "                 linewidth=3, linestyle=':')\n",
    "ax[1].fill_between(10 ** log_m_bh_range, S2_local_bhmf_q[0], S2_local_bhmf_q[2], color=cs[1], alpha=.2, hatch='||')\n",
    "s2, = ax[1].plot(10 ** log_m_bh_range, S2_local_bhmf_q[1], color=cs[1],\n",
    "                 linewidth=3, linestyle='-.')\n",
    "ax[1].fill_between(10 ** log_m_bh_range, S3_local_bhmf_q[0], S3_local_bhmf_q[2], color=cs[1], alpha=.2, hatch='-')\n",
    "s3, = ax[1].plot(10 ** log_m_bh_range, S3_local_bhmf_q[1], color=cs[1],\n",
    "                 linewidth=3, linestyle=(0, (3, 1, 1, 1, 1, 1)))\n",
    "\n",
    "ax[1].fill_between(10 ** log_m_bh_range, G19_local_bhmf_q[0], G19_local_bhmf_q[2], color=cs[2], alpha=.2, hatch='.')\n",
    "m2, = ax[1].plot(10 ** log_m_bh_range, G19_local_bhmf_q[1], color=cs[2], linewidth=3, linestyle='--')\n",
    "\n",
    "ax[1].fill_between(10 ** log_m_bh_range, local_bhmf_q[0], local_bhmf_q[2], color=cs[0], alpha=.2, hatch='/')\n",
    "m1, = ax[1].plot(10 ** log_m_bh_range, local_bhmf_q[1], color=cs[0], linewidth=3, linestyle='-')\n",
    "\n",
    "ax[1].set_xscale('log')\n",
    "ax[1].set_yscale('log')\n",
    "ax[1].set_ylabel(r'$d \\Phi_{\\rm{BHB}} / d M_{\\rm{BH}}\\ [M_{\\odot}^{-1}\\,\\rm{Mpc}^{-3}]$', fontsize=label_fsize)\n",
    "ax[1].set_xlabel(r'$M_{\\rm{BH}} [M_{\\odot}]$', fontsize=label_fsize)\n",
    "ax[1].set_ylim(bottom=1e-22, top=1e-9)\n",
    "ax[1].legend([m1, m2, (s1, s2, s3)], ['Hopkins+ 2007', 'Marconi+ 2004', 'S13 Models'], numpoints=1,\n",
    "             handler_map={tuple: HandlerTupleVertical(ndivide=None)}, loc='lower left', frameon=False, fontsize=legend_fsize)\n",
    "ax[1].text(.95, .95, '(b)', fontsize=legend_fsize, verticalalignment='top', horizontalalignment='right', transform=ax[1].transAxes)\n",
    "\n",
    "ax[2].axvspan(log_sesana_min, log_sesana_max, color='k', alpha=.1)\n",
    "ax[2].hist(np.log10(S1_hc[-1, -1, -1, :]), histtype='step', bins=bins,\n",
    "           density=False, color=cs[1], linestyle=':',\n",
    "           label=r'S13: Realization 1',\n",
    "           weights=np.repeat(1 / len(S1_hc[-1, -1, -1, :]), len(S1_hc[-1, -1, -1, :])),\n",
    "           fill=True, alpha=.2, hatch='\\\\')\n",
    "ax[2].hist(np.log10(S1_hc[-1, -1, -1, :]), histtype='step', bins=bins,\n",
    "           density=False, color=cs[1], linestyle=':',\n",
    "           label=r'S13: Realization 1',\n",
    "           weights=np.repeat(1 / len(S1_hc[-1, -1, -1, :]), len(S1_hc[-1, -1, -1, :])))\n",
    "\n",
    "ax[2].hist(np.log10(S2_hc[-1, -1, -1, :]), histtype='step', bins=bins,\n",
    "           density=False, color=cs[1], linestyle='-.',\n",
    "           label=r'S13: Realization 2',\n",
    "           weights=np.repeat(1 / len(S2_hc[-1, -1, -1, :]), len(S2_hc[-1, -1, -1, :])),\n",
    "           fill=True, alpha=.2, hatch='||')\n",
    "ax[2].hist(np.log10(S2_hc[-1, -1, -1, :]), histtype='step', bins=bins,\n",
    "           density=False, color=cs[1], linestyle='-.',\n",
    "           label=r'S13: Realization 2',\n",
    "           weights=np.repeat(1 / len(S2_hc[-1, -1, -1, :]), len(S2_hc[-1, -1, -1, :])))\n",
    "\n",
    "ax[2].hist(np.log10(S3_hc[-1, -1, -1, :]), histtype='step', bins=bins,\n",
    "           density=False, color=cs[1], linestyle=(0, (3, 1, 1, 1, 1, 1)),\n",
    "           label=r'S13: Realization 3',\n",
    "           weights=np.repeat(1 / len(S3_hc[-1, -1, -1, :]), len(S3_hc[-1, -1, -1, :])),\n",
    "           fill=True, alpha=.2, hatch='-')\n",
    "ax[2].hist(np.log10(S3_hc[-1, -1, -1, :]), histtype='step', bins=bins,\n",
    "           density=False, color=cs[1], linestyle=(0, (3, 1, 1, 1, 1, 1)),\n",
    "           label=r'S13: Realization 3',\n",
    "           weights=np.repeat(1 / len(S3_hc[-1, -1, -1, :]), len(S3_hc[-1, -1, -1, :])))\n",
    "\n",
    "ax[2].hist(np.log10(G19_hc[-1, -1, :]), histtype='step', bins=bins, density=False, color=cs[2], linestyle='--',\n",
    "           label=r'G19', weights=np.repeat(1 / len(G19_hc[-1, -1, :]), len(G19_hc[-1, -1, :])), linewidth=2, fill=True, alpha=.2, hatch='.')\n",
    "ax[2].hist(np.log10(G19_hc[-1, -1, :]), histtype='step', bins=bins, density=False, color=cs[2], linestyle='--',\n",
    "           label=r'G19', weights=np.repeat(1 / len(G19_hc[-1, -1, :]), len(G19_hc[-1, -1, :])), linewidth=2)\n",
    "\n",
    "ax[2].hist(np.log10(hc[-1, -1, -1, :]), histtype='step', bins=bins, density=False, color=cs[0], linestyle='-',\n",
    "           label=r'AGN-based', weights=np.repeat(1 / len(hc[-1, -1, -1, :]), len(hc[-1, -1, -1, :])), linewidth=2,\n",
    "           fill=True, alpha=.2, hatch='/')\n",
    "ax[2].hist(np.log10(hc[-1, -1, -1, :]), histtype='step', bins=bins, density=False, color=cs[0], linestyle='-',\n",
    "           label=r'AGN-based', weights=np.repeat(1 / len(hc[-1, -1, -1, :]), len(hc[-1, -1, -1, :])), linewidth=2)\n",
    "\n",
    "# ax[2].annotate(r'S13',\n",
    "#                xy=(log_sesana_min - .3, .49))\n",
    "# ax[2].errorbar(log_hc_mid, 0.45,\n",
    "#              xerr=[[log_hc_l],\n",
    "#                    [log_hc_h]],\n",
    "#              capsize=4, color=cs[0])\n",
    "# ax[2].annotate(r'This Work',\n",
    "#                xy=(log_hc_min - .75, .44))\n",
    "\n",
    "ax[2].axvline(np.log10(1.9e-15), color='k', linestyle='--')\n",
    "ax[2].annotate(r'NANOGrav 12.5-yr',\n",
    "               xy=(np.log10(1.9e-15) + .03, .4), xytext=(3, 3),\n",
    "               textcoords=\"offset points\", rotation_mode='anchor', rotation=-90)\n",
    "ax[2].set_xlabel(r'$\\log h_{c}$', fontsize=label_fsize)\n",
    "ax[2].set_ylabel(r'$P(h_{c})$', fontsize=label_fsize)\n",
    "ax[2].set_xlim(left=-17, right=-14)\n",
    "ax[2].set_ylim(top=.5)\n",
    "ax[2].legend([m1, m2, (s1, s2, s3)], ['AGN-based', 'G19', 'S13 Models'], numpoints=1,\n",
    "             handler_map={tuple: HandlerTupleVertical(ndivide=None)}, frameon=False, loc='upper left', fontsize=legend_fsize)\n",
    "ax[2].text(.95, .95, '(c)', fontsize=legend_fsize, verticalalignment='top', horizontalalignment='right', transform=ax[2].transAxes)\n",
    "\n",
    "plt.tight_layout()\n",
    "plt.savefig('../reports/figures/model_comparison.pdf')\n",
    "plt.savefig('../reports/figures/model_comparison.png')\n",
    "plt.show()"
   ]
  },
  {
   "cell_type": "code",
   "execution_count": null,
   "metadata": {},
   "outputs": [],
   "source": []
  }
 ],
 "metadata": {
  "kernelspec": {
   "display_name": "Python 3",
   "language": "python",
   "name": "python3"
  },
  "language_info": {
   "codemirror_mode": {
    "name": "ipython",
    "version": 3
   },
   "file_extension": ".py",
   "mimetype": "text/x-python",
   "name": "python",
   "nbconvert_exporter": "python",
   "pygments_lexer": "ipython3",
   "version": "3.9.2"
  },
  "toc-autonumbering": true
 },
 "nbformat": 4,
 "nbformat_minor": 4
}
