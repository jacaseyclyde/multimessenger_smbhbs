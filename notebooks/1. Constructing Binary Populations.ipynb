{
 "cells": [
  {
   "cell_type": "markdown",
   "metadata": {},
   "source": [
    "# Introduction"
   ]
  },
  {
   "cell_type": "markdown",
   "metadata": {},
   "source": [
    "- TODO: Write introduction\n",
    "- TODO: Flesh out sections with text"
   ]
  },
  {
   "cell_type": "markdown",
   "metadata": {},
   "source": [
    "# Methods"
   ]
  },
  {
   "cell_type": "code",
   "execution_count": 1,
   "metadata": {},
   "outputs": [
    {
     "name": "stderr",
     "output_type": "stream",
     "text": [
      "<ipython-input-1-659d6722bacf>:30: TqdmExperimentalWarning: Using `tqdm.autonotebook.tqdm` in notebook mode. Use `tqdm.tqdm` instead to force console mode (e.g. in jupyter console)\n",
      "  from tqdm.autonotebook import tqdm\n"
     ]
    }
   ],
   "source": [
    "# OPTIONAL: Load the \"autoreload\" extension so that code can change\n",
    "%load_ext autoreload\n",
    "\n",
    "# OPTIONAL: always reload modules so that as you change code in src, it gets loaded\n",
    "%autoreload 2\n",
    "import os\n",
    "import sys\n",
    "module_path = os.path.abspath(os.path.join('..'))\n",
    "if module_path not in sys.path:\n",
    "    sys.path.append(module_path)\n",
    "\n",
    "import multiprocessing as mp\n",
    "import numpy as np\n",
    "import pandas as pd\n",
    "import pickle\n",
    "import h5py\n",
    "from IPython.display import display, Math\n",
    "\n",
    "from scipy.integrate import trapz, cumtrapz\n",
    "from scipy.interpolate import UnivariateSpline\n",
    "from scipy.stats import lognorm, norm, truncnorm, rv_continuous\n",
    "\n",
    "import astropy.constants as const\n",
    "import astropy.units as u\n",
    "import astropy.uncertainty as unc\n",
    "from astropy.cosmology import WMAP9, z_at_value\n",
    "from astropy.modeling.functional_models import Linear1D, Const1D, Shift, Gaussian1D\n",
    "from astropy.modeling.tabular import Tabular1D\n",
    "\n",
    "from tqdm.autonotebook import tqdm\n",
    "\n",
    "from src.models.agn_proxy import (Hopkins2007QuasarFormationDensity,\n",
    "                                  LogNormal1D, Const3D, QuasarProxyBinaries, Hopkins2007QuasarFormationDensity,\n",
    "                                  ModifiedSchechter, Marconi2004BHMF, Hopkins2007QuasarNumberDensity,\n",
    "                                  Goulding2019J1010Binaries)\n",
    "from src.models.major_merger import (Schechter1D, Schechter2D,\n",
    "                                     DoubleSchechter2D, TripleSchechter2D,\n",
    "                                     PairFraction3D, PairFraction3D_3bins,\n",
    "                                     Timescale3D, Sesana2013_Schechter,\n",
    "                                     Sesana2013_DoubleSchechter,\n",
    "                                     Sesana2013_TripleSchechter)"
   ]
  },
  {
   "cell_type": "code",
   "execution_count": 2,
   "metadata": {},
   "outputs": [
    {
     "data": {
      "text/plain": [
       "(1024, 32)"
      ]
     },
     "execution_count": 2,
     "metadata": {},
     "output_type": "execute_result"
    }
   ],
   "source": [
    "# Global variables\n",
    "n_samples = int(2 ** 10)\n",
    "n_mesh = int(2 ** 5)\n",
    "n_samples, n_mesh"
   ]
  },
  {
   "cell_type": "code",
   "execution_count": 3,
   "metadata": {},
   "outputs": [],
   "source": [
    "# class declarations\n",
    "class split_normal(rv_continuous):\n",
    "    def __init__(self, loc, scale1, scale2, *args, **kwargs):\n",
    "        self.loc = loc\n",
    "        self.scale1 = scale1\n",
    "        self.scale2 = scale2\n",
    "        self.normalization = 2 / (scale1 + scale2)\n",
    "        super().__init__(self, *args, **kwargs)\n",
    "        \n",
    "    def _pdf(self, x):\n",
    "        if x < self.loc:\n",
    "            return self.normalization * truncnorm.pdf(x, self.a, self.b, self.loc, self.scale1)\n",
    "        else:\n",
    "            return self.normalization * truncnorm.pdf(x, self.a, self.b, self.loc, self.scale2)\n",
    "    \n",
    "    def _cdf(self, x):\n",
    "        if x < self.loc:\n",
    "            return self.normalization * self.scale1 * truncnorm.cdf(x, self.a, self.b, self.loc, self.scale1)\n",
    "        else:\n",
    "            return 1 - self.normalization * self.scale2 * (1 - truncnorm.cdf(x, self.a, self.b, self.loc, self.scale2))\n",
    "    \n",
    "    def _ppf(self, q):\n",
    "        p = self.scale1 / (self.scale1 + self.scale2)\n",
    "        \n",
    "        output = np.where(q <= p,\n",
    "                          self.loc + self.scale1\n",
    "                          * truncnorm.ppf(.5 * (self.scale1 + self.scale2) * q\n",
    "                                          / self.scale1, self.a, self.b),\n",
    "                          self.loc + self.scale2\n",
    "                          * truncnorm.ppf(0.5 * ((self.scale1 + self.scale2)\n",
    "                                                 * (1 + q) - 2 * self.scale1)\n",
    "                                          / self.scale2, self.a, self.b))\n",
    "        return np.squeeze(output)"
   ]
  },
  {
   "cell_type": "code",
   "execution_count": 4,
   "metadata": {},
   "outputs": [],
   "source": [
    "def trunc_norm_dist(a=0, b=np.inf, loc=0, scale=1, size=n_samples):\n",
    "    return truncnorm.rvs(a=(a - loc) / scale, b=(b - loc) / scale,\n",
    "                                          loc=loc, scale=scale,\n",
    "                                          size=size)"
   ]
  },
  {
   "cell_type": "markdown",
   "metadata": {},
   "source": [
    "## Dependencies/Assumptions"
   ]
  },
  {
   "cell_type": "markdown",
   "metadata": {},
   "source": [
    "### Shared"
   ]
  },
  {
   "cell_type": "markdown",
   "metadata": {},
   "source": [
    "#### Parameter space"
   ]
  },
  {
   "cell_type": "code",
   "execution_count": 5,
   "metadata": {},
   "outputs": [],
   "source": [
    "log_m_bh_min = 7\n",
    "log_m_bh_max = 10\n",
    "\n",
    "log_m_bh_range = np.linspace(log_m_bh_min, log_m_bh_max, num=n_mesh)\n",
    "\n",
    "z_min = 0\n",
    "z_max = 3\n",
    "z_range = np.linspace(z_min, z_max, num=n_mesh)\n",
    "\n",
    "q_min = 0.25\n",
    "q_max = 1\n",
    "q_range = np.linspace(q_min, q_max, num=n_mesh)"
   ]
  },
  {
   "cell_type": "markdown",
   "metadata": {},
   "source": [
    "#### Fiducial values"
   ]
  },
  {
   "cell_type": "code",
   "execution_count": 6,
   "metadata": {},
   "outputs": [],
   "source": [
    "fidhz = (1 / u.yr).to(u.Hz)"
   ]
  },
  {
   "cell_type": "code",
   "execution_count": 7,
   "metadata": {},
   "outputs": [],
   "source": [
    "# Calculate the standard deviation from the quoted NANOGrav 5-95% interval\n",
    "NANOGrav_strain95 = 2.67e-15\n",
    "NANOGrav_strain05 = 1.37e-15\n",
    "\n",
    "NANOGrav_log_std = (np.log10(NANOGrav_strain95) - np.log10(NANOGrav_strain05)) / (norm.ppf(.95) - norm.ppf(.05))"
   ]
  },
  {
   "cell_type": "code",
   "execution_count": 8,
   "metadata": {},
   "outputs": [],
   "source": [
    "# NANOGrav 12.5-yr\n",
    "NANOGrav_log_strain = unc.normal(np.log10(1.92e-15), std=NANOGrav_log_std, n_samples=n_samples).distribution"
   ]
  },
  {
   "cell_type": "code",
   "execution_count": 9,
   "metadata": {},
   "outputs": [
    {
     "data": {
      "text/latex": [
       "$\\displaystyle h_{c, \\rm{NG12.5}} = (1.9_{-0.3}^{+0.4}) \\times 10^{-15.0}\\;\\rm{Mpc}^{-3}$"
      ],
      "text/plain": [
       "<IPython.core.display.Math object>"
      ]
     },
     "metadata": {},
     "output_type": "display_data"
    }
   ],
   "source": [
    "quantiles = 10 ** np.quantile(NANOGrav_log_strain, q=[.16, .5, .84])\n",
    "order = 10. ** np.floor(np.log10(quantiles[1]))\n",
    "display(Math(r'h_{{c, \\rm{{NG12.5}}}} = ({0:.1f}_{{-{1:.1f}}}^{{+{2:.1f}}})'\n",
    "             r' \\times 10^{{{3}}}\\;\\rm{{Mpc}}^{{-3}}'.format(quantiles[1] / order,\n",
    "                                          (quantiles[1] - quantiles[0]) / order,\n",
    "                                          (quantiles[2] - quantiles[1]) / order,\n",
    "                                          np.log10(order))))"
   ]
  },
  {
   "cell_type": "markdown",
   "metadata": {
    "toc-hr-collapsed": true
   },
   "source": [
    "#### Cappellari (2013)"
   ]
  },
  {
   "cell_type": "markdown",
   "metadata": {},
   "source": [
    "##### $M_{\\rm{gal}} - M_{K}$ model parameters"
   ]
  },
  {
   "cell_type": "code",
   "execution_count": 10,
   "metadata": {},
   "outputs": [],
   "source": [
    "a_cappellari = unc.normal(10.5829, std=0.0086, n_samples=n_samples).distribution\n",
    "b_cappellari = unc.normal(-0.4449, std=0.0091, n_samples=n_samples).distribution"
   ]
  },
  {
   "cell_type": "markdown",
   "metadata": {},
   "source": [
    "##### $M_{\\rm{gal}} - K$ model"
   ]
  },
  {
   "cell_type": "code",
   "execution_count": 11,
   "metadata": {},
   "outputs": [],
   "source": [
    "c_intercept = a_cappellari + (b_cappellari * 23)\n",
    "c_slope = b_cappellari\n",
    "cappellari_mgal_k = Linear1D(slope=c_slope,\n",
    "                             intercept=c_intercept,\n",
    "                             n_models=n_samples)"
   ]
  },
  {
   "cell_type": "code",
   "execution_count": 12,
   "metadata": {},
   "outputs": [
    {
     "name": "stdout",
     "output_type": "stream",
     "text": [
      "Model: Linear1D\n",
      "Inputs: ('x',)\n",
      "Outputs: ('y',)\n",
      "Model set size: 1024\n",
      "Parameters:\n",
      "           slope              intercept      \n",
      "    -------------------- --------------------\n",
      "     -0.4438561756272007   0.3809565864000639\n",
      "     -0.4649539467934927 -0.08610949956817926\n",
      "     -0.4369638576522459   0.5463475705103775\n",
      "     -0.4583986301102283 0.049583720299015255\n",
      "    -0.42828356756054353   0.7360158255049338\n",
      "     -0.4557189739119574  0.10612320419297205\n",
      "    -0.44024950663710155  0.45263450498288726\n",
      "     -0.4413316397726885  0.43126892851594256\n",
      "    -0.44512588858378854   0.3488354317199249\n",
      "     -0.4419386174992542  0.40107267065658014\n",
      "                     ...                  ...\n",
      "    -0.44640105462564883  0.30317074115625076\n",
      "     -0.4493739241641746  0.25671691430629373\n",
      "      -0.436872466989629    0.534292175262328\n",
      "      -0.445255678766464  0.33605916358189347\n",
      "     -0.4519919927013643  0.19860523800630148\n",
      "    -0.44417636009179556   0.3793203799239695\n",
      "    -0.45757515664212745  0.06699297472008325\n",
      "    -0.44440375426256473  0.36499863225201246\n",
      "    -0.44436471565180236   0.3680833153026235\n",
      "     -0.4459315857360229  0.33237088916726165\n",
      "    -0.44113859763275093  0.44294089620246346\n",
      "    Length = 1024 rows\n"
     ]
    }
   ],
   "source": [
    "print(cappellari_mgal_k)\n",
    "with open('../models/Cappellari2013_mgal_mk_relation.pkl', 'wb') as f:\n",
    "    pickle.dump(cappellari_mgal_k, f)"
   ]
  },
  {
   "cell_type": "markdown",
   "metadata": {
    "toc-hr-collapsed": true
   },
   "source": [
    "#### McConnell & Ma (2013)"
   ]
  },
  {
   "cell_type": "markdown",
   "metadata": {},
   "source": [
    "##### $M - M_{\\rm{bulge}}$ model parameters"
   ]
  },
  {
   "cell_type": "code",
   "execution_count": 13,
   "metadata": {},
   "outputs": [],
   "source": [
    "alpha_mcconnell_ma = unc.normal(8.46, std=.08, n_samples=n_samples).distribution\n",
    "beta_mcconnell_ma = unc.normal(1.05, std=.11, n_samples=n_samples).distribution\n",
    "intrinsic_disp_mcconnell_ma = np.random.normal(scale=.34, size=n_samples)"
   ]
  },
  {
   "cell_type": "markdown",
   "metadata": {},
   "source": [
    "##### $M - M_{\\rm{bulge}}$ model"
   ]
  },
  {
   "cell_type": "markdown",
   "metadata": {},
   "source": [
    "Scaled to $M_{\\rm{bulge}} / 10^{11}\\;\\rm{M}_{\\odot}$"
   ]
  },
  {
   "cell_type": "code",
   "execution_count": 14,
   "metadata": {},
   "outputs": [],
   "source": [
    "mm_intercept = alpha_mcconnell_ma - (beta_mcconnell_ma * 11)\n",
    "mm_slope = beta_mcconnell_ma\n",
    "mcconnell_ma_m_mbulge = Linear1D(slope=mm_slope,\n",
    "                                 intercept=mm_intercept,\n",
    "                                 n_models=n_samples)"
   ]
  },
  {
   "cell_type": "code",
   "execution_count": 15,
   "metadata": {},
   "outputs": [
    {
     "name": "stdout",
     "output_type": "stream",
     "text": [
      "Model: Linear1D\n",
      "Inputs: ('x',)\n",
      "Outputs: ('y',)\n",
      "Model set size: 1024\n",
      "Parameters:\n",
      "          slope             intercept     \n",
      "    ------------------ -------------------\n",
      "    0.9685751159553384 -2.2203743659291817\n",
      "    0.9735212690689921   -2.22507939753827\n",
      "    0.9088036384240498 -1.7125609025848796\n",
      "    1.2113356157407091  -4.998781900835956\n",
      "    1.2393773703877262  -5.213229788973996\n",
      "    1.1468892287189014  -4.130728244845489\n",
      "    1.0690262100128782 -3.2425292748677865\n",
      "    0.9887066911826031 -2.3690582971747585\n",
      "    0.9865887125395272 -2.5096777486876434\n",
      "    1.0426337906530274  -3.109268526242783\n",
      "                   ...                 ...\n",
      "    1.1575860366382704  -4.246646940014832\n",
      "    0.9994949968596814  -2.587208101597046\n",
      "    1.1043497219981406  -3.725694302836599\n",
      "     1.262832704073706  -5.523024294195524\n",
      "    1.1171114751589903  -3.835715451238535\n",
      "    0.7181876518261151  0.6688234123647687\n",
      "    1.0862356774225987 -3.5681171861894327\n",
      "     1.093600980157593 -3.5776067558400015\n",
      "    0.9887873421994692 -2.4711676665856235\n",
      "    1.0953829963155797  -3.659851050006143\n",
      "     1.033693779891225  -2.838750196282419\n",
      "    Length = 1024 rows\n"
     ]
    }
   ],
   "source": [
    "print(mcconnell_ma_m_mbulge)\n",
    "with open('../models/McConnellMa2013_mbh_mbulge_relation.pkl', 'wb') as f:\n",
    "    pickle.dump(mcconnell_ma_m_mbulge, f)"
   ]
  },
  {
   "cell_type": "markdown",
   "metadata": {
    "toc-hr-collapsed": true
   },
   "source": [
    "#### Mingarelli+ (2017)"
   ]
  },
  {
   "cell_type": "markdown",
   "metadata": {},
   "source": [
    "#### $M_{\\rm{BH}} - M_{\\rm{K}}$"
   ]
  },
  {
   "cell_type": "code",
   "execution_count": 16,
   "metadata": {},
   "outputs": [],
   "source": [
    "log_m_bh_m_k = cappellari_mgal_k | mcconnell_ma_m_mbulge"
   ]
  },
  {
   "cell_type": "markdown",
   "metadata": {},
   "source": [
    "##### Mass ratio range"
   ]
  },
  {
   "cell_type": "code",
   "execution_count": 17,
   "metadata": {},
   "outputs": [],
   "source": [
    "q_min_mingarelli = .25\n",
    "q_max_mingarelli = 1"
   ]
  },
  {
   "cell_type": "markdown",
   "metadata": {},
   "source": [
    "##### Mass ranges"
   ]
  },
  {
   "cell_type": "code",
   "execution_count": 18,
   "metadata": {},
   "outputs": [
    {
     "data": {
      "text/html": [
       "<div>\n",
       "<style scoped>\n",
       "    .dataframe tbody tr th:only-of-type {\n",
       "        vertical-align: middle;\n",
       "    }\n",
       "\n",
       "    .dataframe tbody tr th {\n",
       "        vertical-align: top;\n",
       "    }\n",
       "\n",
       "    .dataframe thead th {\n",
       "        text-align: right;\n",
       "    }\n",
       "</style>\n",
       "<table border=\"1\" class=\"dataframe\">\n",
       "  <thead>\n",
       "    <tr style=\"text-align: right;\">\n",
       "      <th></th>\n",
       "      <th>RA</th>\n",
       "      <th>DEC</th>\n",
       "      <th>D_L(Mpc)</th>\n",
       "      <th>Kmag</th>\n",
       "      <th>Name</th>\n",
       "    </tr>\n",
       "  </thead>\n",
       "  <tbody>\n",
       "    <tr>\n",
       "      <th>0</th>\n",
       "      <td>189.998</td>\n",
       "      <td>-11.623</td>\n",
       "      <td>14.63</td>\n",
       "      <td>-25.88</td>\n",
       "      <td>NGC4594</td>\n",
       "    </tr>\n",
       "    <tr>\n",
       "      <th>1</th>\n",
       "      <td>187.445</td>\n",
       "      <td>8.000</td>\n",
       "      <td>20.78</td>\n",
       "      <td>-26.20</td>\n",
       "      <td>NGC4472</td>\n",
       "    </tr>\n",
       "    <tr>\n",
       "      <th>2</th>\n",
       "      <td>50.674</td>\n",
       "      <td>-37.208</td>\n",
       "      <td>19.76</td>\n",
       "      <td>-25.90</td>\n",
       "      <td>NGC1316</td>\n",
       "    </tr>\n",
       "    <tr>\n",
       "      <th>3</th>\n",
       "      <td>190.917</td>\n",
       "      <td>11.553</td>\n",
       "      <td>20.78</td>\n",
       "      <td>-25.86</td>\n",
       "      <td>NGC4649</td>\n",
       "    </tr>\n",
       "    <tr>\n",
       "      <th>4</th>\n",
       "      <td>187.706</td>\n",
       "      <td>12.391</td>\n",
       "      <td>20.78</td>\n",
       "      <td>-25.78</td>\n",
       "      <td>NGC4486</td>\n",
       "    </tr>\n",
       "    <tr>\n",
       "      <th>...</th>\n",
       "      <td>...</td>\n",
       "      <td>...</td>\n",
       "      <td>...</td>\n",
       "      <td>...</td>\n",
       "      <td>...</td>\n",
       "    </tr>\n",
       "    <tr>\n",
       "      <th>5105</th>\n",
       "      <td>214.458</td>\n",
       "      <td>0.511</td>\n",
       "      <td>223.09</td>\n",
       "      <td>-25.11</td>\n",
       "      <td>PGC051063</td>\n",
       "    </tr>\n",
       "    <tr>\n",
       "      <th>5106</th>\n",
       "      <td>64.351</td>\n",
       "      <td>-37.282</td>\n",
       "      <td>216.26</td>\n",
       "      <td>-25.05</td>\n",
       "      <td>PGC014806</td>\n",
       "    </tr>\n",
       "    <tr>\n",
       "      <th>5107</th>\n",
       "      <td>123.188</td>\n",
       "      <td>11.632</td>\n",
       "      <td>223.76</td>\n",
       "      <td>-25.13</td>\n",
       "      <td>PGC1396460</td>\n",
       "    </tr>\n",
       "    <tr>\n",
       "      <th>5108</th>\n",
       "      <td>206.159</td>\n",
       "      <td>21.093</td>\n",
       "      <td>218.77</td>\n",
       "      <td>-25.30</td>\n",
       "      <td>PGC3089894</td>\n",
       "    </tr>\n",
       "    <tr>\n",
       "      <th>5109</th>\n",
       "      <td>270.047</td>\n",
       "      <td>48.654</td>\n",
       "      <td>218.26</td>\n",
       "      <td>-25.41</td>\n",
       "      <td>PGC2322449</td>\n",
       "    </tr>\n",
       "  </tbody>\n",
       "</table>\n",
       "<p>5110 rows × 5 columns</p>\n",
       "</div>"
      ],
      "text/plain": [
       "           RA     DEC  D_L(Mpc)   Kmag        Name\n",
       "0     189.998 -11.623     14.63 -25.88     NGC4594\n",
       "1     187.445   8.000     20.78 -26.20     NGC4472\n",
       "2      50.674 -37.208     19.76 -25.90     NGC1316\n",
       "3     190.917  11.553     20.78 -25.86     NGC4649\n",
       "4     187.706  12.391     20.78 -25.78     NGC4486\n",
       "...       ...     ...       ...    ...         ...\n",
       "5105  214.458   0.511    223.09 -25.11   PGC051063\n",
       "5106   64.351 -37.282    216.26 -25.05   PGC014806\n",
       "5107  123.188  11.632    223.76 -25.13  PGC1396460\n",
       "5108  206.159  21.093    218.77 -25.30  PGC3089894\n",
       "5109  270.047  48.654    218.26 -25.41  PGC2322449\n",
       "\n",
       "[5110 rows x 5 columns]"
      ]
     },
     "execution_count": 18,
     "metadata": {},
     "output_type": "execute_result"
    }
   ],
   "source": [
    "galaxies = pd.read_csv('../data/external/25/added_mks.lst', delimiter='\\s+',\n",
    "                       usecols=[0, 1, 2, 3, 4], index_col=False)\n",
    "galaxies = galaxies.append(pd.read_csv('../data/external/25/schutzMa_extension.txt',\n",
    "                                       delimiter='\\s+',\n",
    "                                       usecols=[0, 1, 2, 3, 4],\n",
    "                                       index_col=False))\n",
    "catalog = pd.read_csv('../data/external/25/2mass_galaxies.lst', delimiter='\\s+',\n",
    "                      usecols=[1, 2, 3, 4, 5], index_col=False,\n",
    "                      names=['RA', 'DEC', 'D_L(Mpc)', 'Kmag', 'Name'])\n",
    "catalog"
   ]
  },
  {
   "cell_type": "code",
   "execution_count": 19,
   "metadata": {},
   "outputs": [
    {
     "data": {
      "text/latex": [
       "$\\displaystyle \\log M_{\\rm{BHB, min, M17}} = 8.56$"
      ],
      "text/plain": [
       "<IPython.core.display.Math object>"
      ]
     },
     "metadata": {},
     "output_type": "display_data"
    },
    {
     "data": {
      "text/latex": [
       "$\\displaystyle \\log M_{\\rm{BHB, max, M17}} = 10.29$"
      ],
      "text/plain": [
       "<IPython.core.display.Math object>"
      ]
     },
     "metadata": {},
     "output_type": "display_data"
    }
   ],
   "source": [
    "log_m_bhb_mingarelli = np.array([log_m_bh_m_k(Mk) for Mk in catalog['Kmag']])\n",
    "log_m_bhb_mingarelli = np.random.normal(log_m_bhb_mingarelli, .34)\n",
    "log_m_bhb_mingarelli_q = np.quantile(log_m_bhb_mingarelli, q=[.16, .5, .84], axis=1)\n",
    "log_m_bhb_mingarelli_max = np.max(log_m_bhb_mingarelli_q)\n",
    "log_m_bhb_mingarelli_min = np.min(log_m_bhb_mingarelli_q)\n",
    "display(Math(r'\\log M_{{\\rm{{BHB, min, M17}}}} = {0:.2f}'\n",
    "             .format(log_m_bhb_mingarelli_min)))\n",
    "display(Math(r'\\log M_{{\\rm{{BHB, max, M17}}}} = {0:.2f}'\n",
    "             .format(log_m_bhb_mingarelli_max)))"
   ]
  },
  {
   "cell_type": "code",
   "execution_count": 20,
   "metadata": {},
   "outputs": [
    {
     "data": {
      "text/latex": [
       "$\\displaystyle \\log M_{\\rm{BH, min, M17}} = 8.46$"
      ],
      "text/plain": [
       "<IPython.core.display.Math object>"
      ]
     },
     "metadata": {},
     "output_type": "display_data"
    },
    {
     "data": {
      "text/latex": [
       "$\\displaystyle \\log M_{\\rm{BH, max, M17}} = 9.99$"
      ],
      "text/plain": [
       "<IPython.core.display.Math object>"
      ]
     },
     "metadata": {},
     "output_type": "display_data"
    }
   ],
   "source": [
    "log_m_bh_min_mingarelli = log_m_bhb_mingarelli_min - np.log10(1 + q_min_mingarelli)\n",
    "log_m_bh_max_mingarelli = log_m_bhb_mingarelli_max - np.log10(1 + q_max_mingarelli)\n",
    "log_m_bh_max = log_m_bh_max_mingarelli\n",
    "display(Math(r'\\log M_{{\\rm{{BH, min, M17}}}} = {0:.2f}'\n",
    "             .format(log_m_bh_min_mingarelli)))\n",
    "display(Math(r'\\log M_{{\\rm{{BH, max, M17}}}} = {0:.2f}'\n",
    "             .format(log_m_bh_max_mingarelli)))"
   ]
  },
  {
   "cell_type": "markdown",
   "metadata": {
    "toc-hr-collapsed": true
   },
   "source": [
    "### AGN-based model"
   ]
  },
  {
   "cell_type": "markdown",
   "metadata": {},
   "source": [
    "#### $q$ distribution"
   ]
  },
  {
   "cell_type": "code",
   "execution_count": 21,
   "metadata": {},
   "outputs": [],
   "source": [
    "var_log_q = np.repeat(.5, n_samples)\n",
    "mode_log_q = np.repeat(0, n_samples)\n",
    "median_log_q = mode_log_q + (var_log_q ** 2)"
   ]
  },
  {
   "cell_type": "code",
   "execution_count": 22,
   "metadata": {},
   "outputs": [],
   "source": [
    "q_distrib = LogNormal1D(mu=median_log_q, std=var_log_q, n_models=n_samples)"
   ]
  },
  {
   "cell_type": "code",
   "execution_count": 23,
   "metadata": {},
   "outputs": [
    {
     "name": "stdout",
     "output_type": "stream",
     "text": [
      "Model: LogNormal1D\n",
      "Inputs: ('x',)\n",
      "Outputs: ('y',)\n",
      "Model set size: 1024\n",
      "Parameters:\n",
      "     mu  std\n",
      "    ---- ---\n",
      "    0.25 0.5\n",
      "    0.25 0.5\n",
      "    0.25 0.5\n",
      "    0.25 0.5\n",
      "    0.25 0.5\n",
      "    0.25 0.5\n",
      "    0.25 0.5\n",
      "    0.25 0.5\n",
      "    0.25 0.5\n",
      "    0.25 0.5\n",
      "     ... ...\n",
      "    0.25 0.5\n",
      "    0.25 0.5\n",
      "    0.25 0.5\n",
      "    0.25 0.5\n",
      "    0.25 0.5\n",
      "    0.25 0.5\n",
      "    0.25 0.5\n",
      "    0.25 0.5\n",
      "    0.25 0.5\n",
      "    0.25 0.5\n",
      "    0.25 0.5\n",
      "    Length = 1024 rows\n"
     ]
    }
   ],
   "source": [
    "print(q_distrib)\n",
    "with open('../models/q_distrib.pkl', 'wb') as f:\n",
    "    pickle.dump(q_distrib, f)"
   ]
  },
  {
   "cell_type": "markdown",
   "metadata": {
    "toc-hr-collapsed": true
   },
   "source": [
    "#### Hopkins+ (2007)"
   ]
  },
  {
   "cell_type": "markdown",
   "metadata": {},
   "source": [
    "##### Differential quasar formation density model parameters"
   ]
  },
  {
   "cell_type": "code",
   "execution_count": 24,
   "metadata": {},
   "outputs": [],
   "source": [
    "log_formation_rate_normalization = unc.normal(-3.830, std=0.031, n_samples=n_samples).distribution\n",
    "log_formation_rate_power_law_slope = unc.normal(-4.02, std=0.36, n_samples=n_samples).distribution\n",
    "log_mass_break_normalization = unc.normal(8.959, std=0.032, n_samples=n_samples).distribution\n",
    "log_mass_break_k_1 = unc.normal(1.18, std=0.13, n_samples=n_samples).distribution\n",
    "log_mass_break_k_2 = unc.normal(-6.68, std=0.44, n_samples=n_samples).distribution\n",
    "low_mass_slope = np.repeat(.2, n_samples)\n",
    "high_mass_slope_normalization = unc.normal(2.86, std=0.16, n_samples=n_samples).distribution\n",
    "high_mass_slope_k_1 = unc.normal(1.80, std=0.18, n_samples=n_samples).distribution\n",
    "high_mass_slope_k_2 = unc.normal(-1.13, std=0.09, n_samples=n_samples).distribution\n",
    "z_ref = np.repeat(2, n_samples)"
   ]
  },
  {
   "cell_type": "markdown",
   "metadata": {},
   "source": [
    "##### Differential quasar formation density model"
   ]
  },
  {
   "cell_type": "code",
   "execution_count": 25,
   "metadata": {},
   "outputs": [],
   "source": [
    "quasar_formation_rate = Hopkins2007QuasarFormationDensity(log_formation_rate_normalization=log_formation_rate_normalization,\n",
    "                                                          log_formation_rate_power_law_slope=log_formation_rate_power_law_slope,\n",
    "                                                          log_mass_break_normalization=log_mass_break_normalization,\n",
    "                                                          log_mass_break_k_1=log_mass_break_k_1,\n",
    "                                                          log_mass_break_k_2=log_mass_break_k_2,\n",
    "                                                          low_mass_slope=low_mass_slope,\n",
    "                                                          high_mass_slope_normalization=high_mass_slope_normalization,\n",
    "                                                          high_mass_slope_k_1=high_mass_slope_k_1,\n",
    "                                                          high_mass_slope_k_2=high_mass_slope_k_2,\n",
    "                                                          z_ref=z_ref,\n",
    "                                                          n_models=n_samples)"
   ]
  },
  {
   "cell_type": "code",
   "execution_count": 26,
   "metadata": {},
   "outputs": [
    {
     "name": "stdout",
     "output_type": "stream",
     "text": [
      "Model: Hopkins2007QuasarFormationDensity\n",
      "Inputs: ('x', 'y')\n",
      "Outputs: ('z',)\n",
      "Model set size: 1024\n",
      "Parameters:\n",
      "    log_formation_rate_normalization log_formation_rate_power_law_slope ... z_ref\n",
      "    -------------------------------- ---------------------------------- ... -----\n",
      "                 -3.8244313328186146                -4.4525766379311476 ...   2.0\n",
      "                  -3.858641952674652                 -4.065376367212256 ...   2.0\n",
      "                 -3.8768736375783766                -4.0539896246914555 ...   2.0\n",
      "                   -3.83555880984937                -3.7600161565399697 ...   2.0\n",
      "                 -3.8605211106478325                 -4.263984978177939 ...   2.0\n",
      "                 -3.8184877910467883                 -4.076424505493263 ...   2.0\n",
      "                 -3.8273561970502716                 -4.228505946618061 ...   2.0\n",
      "                  -3.832116477226825                  -3.54925259215549 ...   2.0\n",
      "                 -3.8899693717556767                 -4.246613725946603 ...   2.0\n",
      "                 -3.8437919091595805                 -3.807916571853266 ...   2.0\n",
      "                                 ...                                ... ...   ...\n",
      "                 -3.8343581519219105                -3.8543407947116077 ...   2.0\n",
      "                  -3.814054247786659                  -4.17406368035406 ...   2.0\n",
      "                 -3.7487313221502383                -3.9496100541562287 ...   2.0\n",
      "                  -3.795863628042647                 -4.138202405506132 ...   2.0\n",
      "                 -3.7874136048510993                 -4.097177175209332 ...   2.0\n",
      "                 -3.8387253568916586                 -4.189427526566481 ...   2.0\n",
      "                 -3.8306345878116606                 -4.844612416979412 ...   2.0\n",
      "                   -3.82347545360277                 -4.070415615256505 ...   2.0\n",
      "                 -3.8857702758804398                 -3.847711804459495 ...   2.0\n",
      "                  -3.860313159866674                -3.8745514936033225 ...   2.0\n",
      "                 -3.8454261498811992                -3.8358761843037845 ...   2.0\n",
      "    Length = 1024 rows\n"
     ]
    }
   ],
   "source": [
    "print(quasar_formation_rate)\n",
    "with open('../models/Hopkins2007_quasar_formation_rate_binaries.pkl', 'wb') as f:\n",
    "    pickle.dump(quasar_formation_rate, f)"
   ]
  },
  {
   "cell_type": "markdown",
   "metadata": {
    "tags": [],
    "toc-hr-collapsed": true
   },
   "source": [
    "### Goulding+ (2019) AGN-based model"
   ]
  },
  {
   "cell_type": "markdown",
   "metadata": {},
   "source": [
    "#### Goulding+ (2019) bounds"
   ]
  },
  {
   "cell_type": "markdown",
   "metadata": {},
   "source": [
    "##### J1010-like quasar parameters"
   ]
  },
  {
   "cell_type": "code",
   "execution_count": 27,
   "metadata": {},
   "outputs": [],
   "source": [
    "# Number density luminosity bounds\n",
    "log_l_min = np.log10((.3 * (10 ** 46.) * u.erg / u.s).to(u.Lsun).value)\n",
    "log_l_max = np.log10((.3 * (10 ** 47.) * u.erg / u.s).to(u.Lsun).value)\n",
    "log_l_min_goulding = np.repeat(log_l_min, n_samples)\n",
    "log_l_max_goulding = np.repeat(log_l_max, n_samples)\n",
    "\n",
    "log_m_min_goulding = 8\n",
    "log_m_max_goulding = 10\n",
    "\n",
    "log_m_chirp_min_goulding = log_m_min_goulding + (3 / 5) * (np.log10(q_max) - 2 * np.log10(1 + q_max))\n",
    "log_m_chirp_max_goulding = log_m_max_goulding + (3 / 5) * (np.log10(q_max) - 2 * np.log10(1 + q_max))\n",
    "\n",
    "log_m_bh_min_goulding = log_m_min_goulding - np.log10(1 + q_max)\n",
    "log_m_bh_max_goulding = log_m_max_goulding - np.log10(1 + q_max)"
   ]
  },
  {
   "cell_type": "code",
   "execution_count": 28,
   "metadata": {},
   "outputs": [
    {
     "data": {
      "text/plain": [
       "(11.894149325614856, 12.894149325614856)"
      ]
     },
     "execution_count": 28,
     "metadata": {},
     "output_type": "execute_result"
    }
   ],
   "source": [
    "log_l_min, log_l_max"
   ]
  },
  {
   "cell_type": "markdown",
   "metadata": {},
   "source": [
    "#### Sheth+ (2003)"
   ]
  },
  {
   "cell_type": "markdown",
   "metadata": {},
   "source": [
    "##### Velocity dispersion function parameters"
   ]
  },
  {
   "cell_type": "code",
   "execution_count": 29,
   "metadata": {},
   "outputs": [],
   "source": [
    "dispersion_normalization_sheth = unc.normal(0.002, std=.0001, n_samples=n_samples).distribution * (WMAP9.h ** 3)\n",
    "dispersion_break_sheth = np.repeat(88.8, n_samples)  # unc.normal(88.8, std=17.7, n_samples=n_samples).distribution\n",
    "alpha_sheth = np.repeat(6.5, n_samples)  # unc.normal(6.5, std=1., n_samples=n_samples).distribution\n",
    "beta_sheth = np.repeat(1.93, n_samples)"
   ]
  },
  {
   "cell_type": "markdown",
   "metadata": {},
   "source": [
    "##### Velocity dispersion function"
   ]
  },
  {
   "cell_type": "code",
   "execution_count": 30,
   "metadata": {},
   "outputs": [],
   "source": [
    "sheth_2003_velocity_dispersion_function = ModifiedSchechter(normalization=dispersion_normalization_sheth,\n",
    "                                                            sigma_break=dispersion_break_sheth,\n",
    "                                                            alpha=alpha_sheth,\n",
    "                                                            beta=beta_sheth,\n",
    "                                                            n_models=n_samples)"
   ]
  },
  {
   "cell_type": "code",
   "execution_count": 31,
   "metadata": {},
   "outputs": [
    {
     "name": "stdout",
     "output_type": "stream",
     "text": [
      "Model: ModifiedSchechter\n",
      "Inputs: ('x',)\n",
      "Outputs: ('y',)\n",
      "Model set size: 1024\n",
      "Parameters:\n",
      "        normalization     sigma_break alpha beta\n",
      "    --------------------- ----------- ----- ----\n",
      "     0.000645851771586713        88.8   6.5 1.93\n",
      "    0.0007156710047186872        88.8   6.5 1.93\n",
      "    0.0006977354039603724        88.8   6.5 1.93\n",
      "    0.0006353428470020372        88.8   6.5 1.93\n",
      "    0.0006250898219326213        88.8   6.5 1.93\n",
      "    0.0006734062061054915        88.8   6.5 1.93\n",
      "    0.0006636717259728903        88.8   6.5 1.93\n",
      "    0.0006953284005754947        88.8   6.5 1.93\n",
      "    0.0006854568609716077        88.8   6.5 1.93\n",
      "    0.0006659860107777035        88.8   6.5 1.93\n",
      "                      ...         ...   ...  ...\n",
      "    0.0007358789890159909        88.8   6.5 1.93\n",
      "    0.0007161426620671286        88.8   6.5 1.93\n",
      "     0.000700720493124833        88.8   6.5 1.93\n",
      "    0.0006814850513604481        88.8   6.5 1.93\n",
      "    0.0006074849129182158        88.8   6.5 1.93\n",
      "    0.0006231883502291318        88.8   6.5 1.93\n",
      "    0.0006339504819421532        88.8   6.5 1.93\n",
      "    0.0006624817132998049        88.8   6.5 1.93\n",
      "    0.0006879275767416045        88.8   6.5 1.93\n",
      "    0.0006875315279238538        88.8   6.5 1.93\n",
      "    0.0006753775887452175        88.8   6.5 1.93\n",
      "    Length = 1024 rows\n"
     ]
    }
   ],
   "source": [
    "print(sheth_2003_velocity_dispersion_function)\n",
    "with open('../models/Sheth2003_velocity_dispersion_function.pkl', 'wb') as f:\n",
    "    pickle.dump(sheth_2003_velocity_dispersion_function, f)"
   ]
  },
  {
   "cell_type": "markdown",
   "metadata": {},
   "source": [
    "#### Marconi+ (2004)"
   ]
  },
  {
   "cell_type": "markdown",
   "metadata": {},
   "source": [
    "##### Black hole mass function parameters"
   ]
  },
  {
   "cell_type": "code",
   "execution_count": 32,
   "metadata": {},
   "outputs": [],
   "source": [
    "b_marconi = unc.normal(4.11, std=.33, n_samples=n_samples).distribution\n",
    "a_marconi = unc.normal(8.30, std=.07, n_samples=n_samples).distribution - 2.3 * b_marconi\n",
    "intrinsic_disp_marconi = np.repeat(.3, n_samples)"
   ]
  },
  {
   "cell_type": "markdown",
   "metadata": {},
   "source": [
    "##### Black hole mass function"
   ]
  },
  {
   "cell_type": "code",
   "execution_count": 33,
   "metadata": {},
   "outputs": [],
   "source": [
    "marconi_2004_black_hole_mass_function = Marconi2004BHMF(mass_dispersion_intercept=a_marconi,\n",
    "                                                        mass_dispersion_slope=b_marconi,\n",
    "                                                        intrinsic_scatter=intrinsic_disp_marconi,\n",
    "                                                        dispersion_norm=dispersion_normalization_sheth,\n",
    "                                                        log_dispersion_break=np.log10(dispersion_break_sheth),\n",
    "                                                        dispersion_alpha=alpha_sheth,\n",
    "                                                        dispersion_beta=beta_sheth,\n",
    "                                                        n_models=n_samples)"
   ]
  },
  {
   "cell_type": "code",
   "execution_count": 34,
   "metadata": {},
   "outputs": [
    {
     "name": "stdout",
     "output_type": "stream",
     "text": [
      "Model: Marconi2004BHMF\n",
      "Inputs: ('x',)\n",
      "Outputs: ('y',)\n",
      "Model set size: 1024\n",
      "Parameters:\n",
      "    mass_dispersion_intercept mass_dispersion_slope ... dispersion_beta\n",
      "    ------------------------- --------------------- ... ---------------\n",
      "           -1.477813842603945     4.233563197065207 ...            1.93\n",
      "          0.35935339769029095    3.4576977050788607 ...            1.93\n",
      "         -0.46306772165348065     3.810152244277128 ...            1.93\n",
      "          -1.0814267405930114     4.044764317275804 ...            1.93\n",
      "          -1.6653836224896459     4.357884012655176 ...            1.93\n",
      "          -1.3307613649430916    4.1390059074555365 ...            1.93\n",
      "            -1.64215807966373     4.353640373397945 ...            1.93\n",
      "          -1.4575691854308506     4.220369405881091 ...            1.93\n",
      "          -0.9462401714376618     3.997430925772392 ...            1.93\n",
      "          -1.9091538452065695    4.3923039857187565 ...            1.93\n",
      "                          ...                   ... ...             ...\n",
      "          -0.6353206581974398    3.8431751784824817 ...            1.93\n",
      "           -2.280996128332667     4.627100033900544 ...            1.93\n",
      "          -1.4960986787817667     4.277328213255961 ...            1.93\n",
      "          -0.3528315979645278     3.729367850166657 ...            1.93\n",
      "           -1.702319762946745     4.352183619409184 ...            1.93\n",
      "          -1.3032773534214783      4.19764799993453 ...            1.93\n",
      "            -1.36669124231722       4.1656041090059 ...            1.93\n",
      "          -0.9614505418115584     4.026452576614303 ...            1.93\n",
      "           -1.659647031698988     4.293109487698423 ...            1.93\n",
      "           -1.703834863774988     4.318270555069504 ...            1.93\n",
      "           -1.825275133199229     4.357478368528134 ...            1.93\n",
      "    Length = 1024 rows\n"
     ]
    }
   ],
   "source": [
    "print(marconi_2004_black_hole_mass_function)\n",
    "with open('../models/Marconi2004_black_hole_mass_function.pkl', 'wb') as f:\n",
    "    pickle.dump(marconi_2004_black_hole_mass_function, f)"
   ]
  },
  {
   "cell_type": "markdown",
   "metadata": {},
   "source": [
    "#### Hopkins+ (2007)"
   ]
  },
  {
   "cell_type": "markdown",
   "metadata": {},
   "source": [
    "##### Quasar luminosity function number density parameters"
   ]
  },
  {
   "cell_type": "code",
   "execution_count": 35,
   "metadata": {},
   "outputs": [],
   "source": [
    "log_norm_hopkins = unc.normal(-4.825, std=0.060, n_samples=n_samples).distribution\n",
    "log_break_luminosity_norm_hopkins = unc.normal(13.036, std=0.043, n_samples=n_samples).distribution\n",
    "log_break_luminosity_k1_hopkins = unc.normal(0.632, std=0.077, n_samples=n_samples).distribution\n",
    "log_break_luminosity_k2_hopkins = unc.normal(-11.76, std=0.38, n_samples=n_samples).distribution\n",
    "log_break_luminosity_k3_hopkins = unc.normal(-14.25, std=0.80, n_samples=n_samples).distribution\n",
    "faint_end_slope_norm_hopkins = unc.normal(0.417, std=0.055, n_samples=n_samples).distribution\n",
    "faint_end_slope_k_hopkins = unc.normal(-0.623, std=0.132, n_samples=n_samples).distribution\n",
    "bright_end_slope_norm_hopkins = unc.normal(2.174, std=0.055, n_samples=n_samples).distribution\n",
    "bright_end_slope_k1_hopkins = unc.normal(1.460, std=0.096, n_samples=n_samples).distribution\n",
    "bright_end_slope_k2_hopkins = unc.normal(-0.793, std=0.057, n_samples=n_samples).distribution\n",
    "z_ref_hopkins = np.repeat(2, n_samples)"
   ]
  },
  {
   "cell_type": "markdown",
   "metadata": {},
   "source": [
    "##### Quasar luminosity function number density"
   ]
  },
  {
   "cell_type": "code",
   "execution_count": 36,
   "metadata": {},
   "outputs": [],
   "source": [
    "hopkins_2007_quasar_number_density = Hopkins2007QuasarNumberDensity(log_l_min=log_l_min_goulding,\n",
    "                                                                    log_l_max=log_l_max_goulding,\n",
    "                                                                    log_norm=log_norm_hopkins,\n",
    "                                                                    log_break_luminosity_norm=log_break_luminosity_norm_hopkins,\n",
    "                                                                    log_break_luminosity_k1=log_break_luminosity_k1_hopkins,\n",
    "                                                                    log_break_luminosity_k2=log_break_luminosity_k2_hopkins,\n",
    "                                                                    log_break_luminosity_k3=log_break_luminosity_k3_hopkins,\n",
    "                                                                    faint_end_slope_norm=faint_end_slope_norm_hopkins,\n",
    "                                                                    faint_end_slope_k=faint_end_slope_k_hopkins,\n",
    "                                                                    bright_end_slope_norm=bright_end_slope_norm_hopkins,\n",
    "                                                                    bright_end_slope_k1=bright_end_slope_k1_hopkins,\n",
    "                                                                    bright_end_slope_k2=bright_end_slope_k2_hopkins,\n",
    "                                                                    z_ref=z_ref_hopkins,\n",
    "                                                                    n_models=n_samples)"
   ]
  },
  {
   "cell_type": "code",
   "execution_count": 37,
   "metadata": {},
   "outputs": [
    {
     "name": "stdout",
     "output_type": "stream",
     "text": [
      "Model: Hopkins2007QuasarNumberDensity\n",
      "Inputs: ('x',)\n",
      "Outputs: ('y',)\n",
      "Model set size: 1024\n",
      "Parameters:\n",
      "        log_l_min          log_l_max      ... bright_end_slope_k2 z_ref\n",
      "    ------------------ ------------------ ... ------------------- -----\n",
      "    11.894149325614856 12.894149325614856 ... -0.7644517254165534   2.0\n",
      "    11.894149325614856 12.894149325614856 ... -0.8203370583698569   2.0\n",
      "    11.894149325614856 12.894149325614856 ... -0.7269407250353789   2.0\n",
      "    11.894149325614856 12.894149325614856 ... -0.8207259550762361   2.0\n",
      "    11.894149325614856 12.894149325614856 ... -0.7027041519069736   2.0\n",
      "    11.894149325614856 12.894149325614856 ... -0.7953102035172851   2.0\n",
      "    11.894149325614856 12.894149325614856 ... -0.8774447231622162   2.0\n",
      "    11.894149325614856 12.894149325614856 ... -0.8234580404211997   2.0\n",
      "    11.894149325614856 12.894149325614856 ... -0.8051706780738991   2.0\n",
      "    11.894149325614856 12.894149325614856 ... -0.7316191641062401   2.0\n",
      "                   ...                ... ...                 ...   ...\n",
      "    11.894149325614856 12.894149325614856 ... -0.7479587881840354   2.0\n",
      "    11.894149325614856 12.894149325614856 ... -0.8032392914378971   2.0\n",
      "    11.894149325614856 12.894149325614856 ... -0.6880911595743182   2.0\n",
      "    11.894149325614856 12.894149325614856 ... -0.8988038003825721   2.0\n",
      "    11.894149325614856 12.894149325614856 ... -0.8411823463452183   2.0\n",
      "    11.894149325614856 12.894149325614856 ... -0.7242066514180712   2.0\n",
      "    11.894149325614856 12.894149325614856 ... -0.6739317974840296   2.0\n",
      "    11.894149325614856 12.894149325614856 ... -0.7755372296987846   2.0\n",
      "    11.894149325614856 12.894149325614856 ... -0.8060561696311718   2.0\n",
      "    11.894149325614856 12.894149325614856 ... -0.7527143000712982   2.0\n",
      "    11.894149325614856 12.894149325614856 ... -0.8098168126253077   2.0\n",
      "    Length = 1024 rows\n"
     ]
    }
   ],
   "source": [
    "print(hopkins_2007_quasar_number_density)\n",
    "with open('../models/Hopkins2007_quasar_number_density.pkl', 'wb') as f:\n",
    "    pickle.dump(hopkins_2007_quasar_number_density, f)"
   ]
  },
  {
   "cell_type": "markdown",
   "metadata": {},
   "source": [
    "#### Goulding+ (2019) dual AGN model"
   ]
  },
  {
   "cell_type": "markdown",
   "metadata": {},
   "source": [
    "##### J1010-like quasar number density"
   ]
  },
  {
   "cell_type": "code",
   "execution_count": 38,
   "metadata": {},
   "outputs": [],
   "source": [
    "j1010_quasars = Goulding2019J1010Binaries(binary_normalization=np.repeat(1, n_samples),\n",
    "                                          mass_dispersion_intercept=a_marconi,\n",
    "                                          mass_dispersion_slope=b_marconi,\n",
    "                                          intrinsic_scatter=intrinsic_disp_marconi,\n",
    "                                          dispersion_norm=dispersion_normalization_sheth,\n",
    "                                          log_dispersion_break=np.log10(dispersion_break_sheth),\n",
    "                                          dispersion_alpha=alpha_sheth,\n",
    "                                          dispersion_beta=beta_sheth,\n",
    "                                          log_l_min=log_l_min_goulding,\n",
    "                                          log_l_max=log_l_max_goulding,\n",
    "                                          log_dens_norm=log_norm_hopkins,\n",
    "                                          log_break_luminosity_norm=log_break_luminosity_norm_hopkins,\n",
    "                                          log_break_luminosity_k1=log_break_luminosity_k1_hopkins,\n",
    "                                          log_break_luminosity_k2=log_break_luminosity_k2_hopkins,\n",
    "                                          log_break_luminosity_k3=log_break_luminosity_k3_hopkins,\n",
    "                                          faint_end_slope_norm=faint_end_slope_norm_hopkins,\n",
    "                                          faint_end_slope_k=faint_end_slope_k_hopkins,\n",
    "                                          bright_end_slope_norm=bright_end_slope_norm_hopkins,\n",
    "                                          bright_end_slope_k1=bright_end_slope_k1_hopkins,\n",
    "                                          bright_end_slope_k2=bright_end_slope_k2_hopkins,\n",
    "                                          z_ref=z_ref_hopkins,\n",
    "                                          n_models=n_samples)"
   ]
  },
  {
   "cell_type": "markdown",
   "metadata": {
    "tags": []
   },
   "source": [
    "### Merger models"
   ]
  },
  {
   "cell_type": "markdown",
   "metadata": {},
   "source": [
    "#### Bell+ (2003)"
   ]
  },
  {
   "cell_type": "markdown",
   "metadata": {},
   "source": [
    "##### Galactic mass function parameters"
   ]
  },
  {
   "cell_type": "code",
   "execution_count": 39,
   "metadata": {},
   "outputs": [],
   "source": [
    "z_bell = 0.\n",
    "phi_bell = trunc_norm_dist(a=0, b=np.inf, loc=0.0133, scale=0.0006, size=n_samples) * (WMAP9.h ** 3)\n",
    "log_mgal_break_bell = unc.normal(10.63, std=.01, n_samples=n_samples).distribution - 2. * np.log10(WMAP9.h)\n",
    "alpha_bell = unc.normal(-0.86, std=.04, n_samples=n_samples).distribution"
   ]
  },
  {
   "cell_type": "markdown",
   "metadata": {},
   "source": [
    "##### Galactic mass function"
   ]
  },
  {
   "cell_type": "code",
   "execution_count": 40,
   "metadata": {},
   "outputs": [],
   "source": [
    "bell_2003_galactic_mass_function = Schechter1D(normalization=phi_bell,\n",
    "                                               log_m_break=log_mgal_break_bell,\n",
    "                                               exponent=alpha_bell,\n",
    "                                               n_models=n_samples)"
   ]
  },
  {
   "cell_type": "code",
   "execution_count": 41,
   "metadata": {},
   "outputs": [
    {
     "name": "stdout",
     "output_type": "stream",
     "text": [
      "Model: Schechter1D\n",
      "Inputs: ('x',)\n",
      "Outputs: ('y',)\n",
      "Model set size: 1024\n",
      "Parameters:\n",
      "        normalization        log_m_break           exponent     \n",
      "    --------------------- ------------------ -------------------\n",
      "     0.004402848079292425 10.964259410717911 -0.8966528825359871\n",
      "     0.004799570864228793 10.952014373439996 -0.9311785341951614\n",
      "     0.004795307230749849 10.923049171710707   -0.89462497224772\n",
      "    0.0042854524863657215 10.961022874071766 -0.9081593180727424\n",
      "     0.004207433208741216  10.94247109215398 -0.9100655089176691\n",
      "     0.004278329445001347 10.939974633133161 -0.7685868735590129\n",
      "     0.004633544476641203 10.938362579135982 -0.8536197135102147\n",
      "      0.00442534897028958 10.935431887475312 -0.8135145025294357\n",
      "    0.0042789096278489005 10.938008844348477 -0.8677208382572665\n",
      "     0.004213200978980367 10.944341507687467 -0.7991525368733766\n",
      "                      ...                ...                 ...\n",
      "     0.004417206645124821 10.930533184608214 -0.8862292000991594\n",
      "     0.004286300006366091  10.93618610496139 -0.8892394035631115\n",
      "     0.004054723047333634 10.976710375455797 -0.8559187264962793\n",
      "     0.004462378131938259 10.948650014301418 -0.8479944605632088\n",
      "     0.004637690371650315 10.943709600283793 -0.8324762008105161\n",
      "    0.0042857851102588735 10.960442387726385 -0.9257504165184869\n",
      "    0.0043045403799550075 10.939179207123814 -0.8199331836392418\n",
      "     0.004580921755263554 10.944514374118336 -0.7987120006400343\n",
      "     0.004201081758169072 10.955455140789143 -0.8096725153781359\n",
      "     0.004501076120309697  10.93877791569885 -0.8952970294310627\n",
      "     0.004385455485654201 10.945838959729816 -0.9026476077052548\n",
      "    Length = 1024 rows\n"
     ]
    }
   ],
   "source": [
    "print(bell_2003_galactic_mass_function)\n",
    "with open('../models/Bell2003_galaxy_mass_function.pkl', 'wb') as f:\n",
    "    pickle.dump(bell_2003_galactic_mass_function, f)"
   ]
  },
  {
   "cell_type": "markdown",
   "metadata": {},
   "source": [
    "#### Borch+ (2006)"
   ]
  },
  {
   "cell_type": "markdown",
   "metadata": {},
   "source": [
    "##### Galactic mass function parameters"
   ]
  },
  {
   "cell_type": "code",
   "execution_count": 42,
   "metadata": {},
   "outputs": [],
   "source": [
    "z_borch = np.array([0, .3, .5, .7, .9])\n",
    "z_range_borch = np.linspace(0, .9, num=n_mesh)\n",
    "\n",
    "norm_0_borch = trunc_norm_dist(a=0, b=np.inf, loc=37e-4, scale=4e-4, size=n_samples)\n",
    "norm_3_borch = trunc_norm_dist(a=0, b=np.inf, loc=17e-4, scale=7e-4, size=n_samples)\n",
    "norm_5_borch = trunc_norm_dist(a=0, b=np.inf, loc=15e-4, scale=5e-4, size=n_samples)\n",
    "norm_7_borch = trunc_norm_dist(a=0, b=np.inf, loc=11e-4, scale=4e-4, size=n_samples)\n",
    "norm_9_borch = trunc_norm_dist(a=0, b=np.inf, loc=9e-4, scale=3e-4, size=n_samples)\n",
    "\n",
    "log_m_gal_0_borch = unc.normal(10.81, std=.1, n_samples=n_samples).distribution\n",
    "log_m_gal_3_borch =  unc.normal(10.97, std=.09, n_samples=n_samples).distribution\n",
    "log_m_gal_5_borch =  unc.normal(10.95, std=.1, n_samples=n_samples).distribution\n",
    "log_m_gal_7_borch =  unc.normal(11.06, std=.18, n_samples=n_samples).distribution\n",
    "log_m_gal_9_borch =  unc.normal(11.01, std=.08, n_samples=n_samples).distribution\n",
    "\n",
    "alpha_0_borch = unc.normal(-.7, std=.07, n_samples=n_samples).distribution\n",
    "alpha_3_borch = unc.normal(-.7, std=.07, n_samples=n_samples).distribution\n",
    "alpha_5_borch = unc.normal(-.7, std=.07, n_samples=n_samples).distribution\n",
    "alpha_7_borch = unc.normal(-.7, std=.07, n_samples=n_samples).distribution\n",
    "alpha_9_borch = unc.normal(-.7, std=.07, n_samples=n_samples).distribution"
   ]
  },
  {
   "cell_type": "markdown",
   "metadata": {},
   "source": [
    "##### Galactic mass function"
   ]
  },
  {
   "cell_type": "code",
   "execution_count": 43,
   "metadata": {},
   "outputs": [],
   "source": [
    "borch_2006_galactic_mass_function = Schechter2D(norm1=norm_0_borch,\n",
    "                                                norm2=norm_3_borch,\n",
    "                                                norm3=norm_5_borch,\n",
    "                                                norm4=norm_7_borch,\n",
    "                                                norm5=norm_9_borch,\n",
    "                                                log_m_break1=log_m_gal_0_borch,\n",
    "                                                log_m_break2=log_m_gal_3_borch,\n",
    "                                                log_m_break3=log_m_gal_5_borch,\n",
    "                                                log_m_break4=log_m_gal_7_borch,\n",
    "                                                log_m_break5=log_m_gal_9_borch,\n",
    "                                                exp1=alpha_0_borch,\n",
    "                                                exp2=alpha_3_borch,\n",
    "                                                exp3=alpha_5_borch,\n",
    "                                                exp4=alpha_7_borch,\n",
    "                                                exp5=alpha_9_borch,\n",
    "                                                n_models=n_samples)"
   ]
  },
  {
   "cell_type": "code",
   "execution_count": 44,
   "metadata": {},
   "outputs": [
    {
     "name": "stdout",
     "output_type": "stream",
     "text": [
      "Model: Schechter2D\n",
      "Inputs: ('x', 'y')\n",
      "Outputs: ('z',)\n",
      "Model set size: 1024\n",
      "Parameters:\n",
      "            norm1                 norm2         ...         exp5       \n",
      "    --------------------- --------------------- ... -------------------\n",
      "     0.003617836199216489 0.0016007676982795842 ... -0.7512220089192201\n",
      "     0.004131434517302557  0.001981508836089249 ... -0.6855307116772584\n",
      "    0.0036825232107644957 0.0026911280735320664 ... -0.7374606985334795\n",
      "    0.0033905662851477928  0.002785097224222197 ... -0.7378564277879998\n",
      "    0.0035146265043028537 0.0012507404452254494 ... -0.6683082144493488\n",
      "     0.004104862577731836 0.0002864038192127631 ... -0.7815799586704917\n",
      "    0.0041094515529697066 0.0012189387998480087 ... -0.5399618766142544\n",
      "     0.003644055783899122 0.0019571633983839543 ... -0.7219387245843664\n",
      "     0.004806440907498277 0.0011380885815944204 ... -0.6207576156454273\n",
      "     0.003522936134759448 0.0026785068946006867 ... -0.7964726138365872\n",
      "                      ...                   ... ...                 ...\n",
      "      0.00429648116394461 0.0015831736422269578 ... -0.5326258881323253\n",
      "    0.0031275113819031236 0.0003164438280524582 ... -0.7257056377996347\n",
      "    0.0035921062897264515 0.0003605639620157799 ... -0.7930447156355653\n",
      "    0.0033465544489275404 0.0003678927329289509 ...  -0.558628592633102\n",
      "    0.0030393955674012174  0.000940011318611012 ... -0.6579214384211128\n",
      "      0.00331360290095646 0.0014344008000205827 ... -0.7443098103346656\n",
      "     0.003927975753004559    0.0021809635154914 ... -0.7177082025148398\n",
      "     0.003965278102309014 0.0006939287291234802 ... -0.7255107510260139\n",
      "     0.004160098076186687  0.001084444292150361 ... -0.8275358328254169\n",
      "     0.003101676236655063 0.0014920901140749341 ... -0.5659019889636454\n",
      "     0.004287124372670778 0.0006523425416864986 ...  -0.608851554932689\n",
      "    Length = 1024 rows\n"
     ]
    }
   ],
   "source": [
    "print(borch_2006_galactic_mass_function)\n",
    "with open('../models/Borch2006_galaxy_mass_function.pkl', 'wb') as f:\n",
    "    pickle.dump(borch_2006_galactic_mass_function, f)"
   ]
  },
  {
   "cell_type": "markdown",
   "metadata": {},
   "source": [
    "#### Drory+ (2009)"
   ]
  },
  {
   "cell_type": "markdown",
   "metadata": {},
   "source": [
    "##### Galactic mass function parameters"
   ]
  },
  {
   "cell_type": "code",
   "execution_count": 45,
   "metadata": {},
   "outputs": [],
   "source": [
    "z_drory = np.array([0, .3, .5, .7, .9])\n",
    "z_range_drory = np.linspace(0, .9, num=n_mesh)\n",
    "\n",
    "norm_0_drory_b = phi_bell\n",
    "norm_3_drory_b = trunc_norm_dist(a=0, b=np.inf, loc=2.89, scale=.23, size=n_samples) * 1e-3 * (WMAP9.h ** 3.)\n",
    "norm_5_drory_b = trunc_norm_dist(a=0, b=np.inf, loc=1.74, scale=.09, size=n_samples) * 1e-3 * (WMAP9.h ** 3.)\n",
    "norm_7_drory_b = trunc_norm_dist(a=0, b=np.inf, loc=2.16, scale=.13, size=n_samples) * 1e-3 * (WMAP9.h ** 3.)\n",
    "norm_9_drory_b = trunc_norm_dist(a=0, b=np.inf, loc=2.94, scale=.13, size=n_samples) * 1e-3 * (WMAP9.h ** 3.)\n",
    "\n",
    "log_m_gal_0_drory_b = log_mgal_break_bell\n",
    "log_m_gal_3_drory_b = unc.normal(10.90, std=.11, n_samples=n_samples).distribution - 2 * np.log10(WMAP9.h)\n",
    "log_m_gal_5_drory_b = unc.normal(10.91, std=.11, n_samples=n_samples).distribution - 2 * np.log10(WMAP9.h)\n",
    "log_m_gal_7_drory_b = unc.normal(10.95, std=.10, n_samples=n_samples).distribution - 2 * np.log10(WMAP9.h)\n",
    "log_m_gal_9_drory_b = unc.normal(10.92, std=.10, n_samples=n_samples).distribution - 2 * np.log10(WMAP9.h)\n",
    "\n",
    "alpha_0_drory_b = alpha_bell\n",
    "alpha_3_drory_b = unc.normal(-1.06, std=.03, n_samples=n_samples).distribution\n",
    "alpha_5_drory_b = unc.normal(-1.05, std=.02, n_samples=n_samples).distribution\n",
    "alpha_7_drory_b = unc.normal(-.93, std=.04, n_samples=n_samples).distribution\n",
    "alpha_9_drory_b = unc.normal(-.91, std=.03, n_samples=n_samples).distribution\n",
    "\n",
    "norm_0_drory_f = np.zeros(n_samples)\n",
    "norm_3_drory_f = trunc_norm_dist(a=0, b=np.inf, loc=1.80, scale=.29, size=n_samples) * 1e-3 * (WMAP9.h ** 3)\n",
    "norm_5_drory_f = trunc_norm_dist(a=0, b=np.inf, loc=1.43, scale=.23, size=n_samples) * 1e-3 * (WMAP9.h ** 3)\n",
    "norm_7_drory_f = trunc_norm_dist(a=0, b=np.inf, loc=2.89, scale=.26, size=n_samples) * 1e-3 * (WMAP9.h ** 3)\n",
    "norm_9_drory_f = trunc_norm_dist(a=0, b=np.inf, loc=2.12, scale=.29, size=n_samples) * 1e-3 * (WMAP9.h ** 3)\n",
    "\n",
    "log_m_gal_0_drory_f = np.zeros(n_samples) - 2. * np.log10(WMAP9.h)\n",
    "log_m_gal_3_drory_f = unc.normal(9.63, std=.09, n_samples=n_samples).distribution - 2. * np.log10(WMAP9.h)\n",
    "log_m_gal_5_drory_f = unc.normal(9.70, std=.10, n_samples=n_samples).distribution - 2. * np.log10(WMAP9.h)\n",
    "log_m_gal_7_drory_f = unc.normal(9.75, std=.10, n_samples=n_samples).distribution - 2. * np.log10(WMAP9.h)\n",
    "log_m_gal_9_drory_f = unc.normal(9.85, std=.10, n_samples=n_samples).distribution - 2. * np.log10(WMAP9.h)\n",
    "\n",
    "alpha_0_drory_f = np.zeros(n_samples)\n",
    "alpha_3_drory_f = unc.normal(-1.73, std=.09, n_samples=n_samples).distribution\n",
    "alpha_5_drory_f = unc.normal(-1.76, std=.16, n_samples=n_samples).distribution\n",
    "alpha_7_drory_f = unc.normal(-1.65, std=.08, n_samples=n_samples).distribution\n",
    "alpha_9_drory_f = unc.normal(-1.65, std=.24, n_samples=n_samples).distribution"
   ]
  },
  {
   "cell_type": "markdown",
   "metadata": {},
   "source": [
    "##### Galactic mass function"
   ]
  },
  {
   "cell_type": "code",
   "execution_count": 46,
   "metadata": {},
   "outputs": [],
   "source": [
    "drory_2009_galactic_mass_function = DoubleSchechter2D(norm11=norm_0_drory_b,\n",
    "                                                      norm12=norm_3_drory_b,\n",
    "                                                      norm13=norm_5_drory_b,\n",
    "                                                      norm14=norm_7_drory_b,\n",
    "                                                      norm15=norm_9_drory_b,\n",
    "                                                      norm21=norm_0_drory_f,\n",
    "                                                      norm22=norm_3_drory_f,\n",
    "                                                      norm23=norm_5_drory_f,\n",
    "                                                      norm24=norm_7_drory_f,\n",
    "                                                      norm25=norm_9_drory_f,\n",
    "                                                      log_m_break11=log_m_gal_0_drory_b,\n",
    "                                                      log_m_break12=log_m_gal_3_drory_b,\n",
    "                                                      log_m_break13=log_m_gal_5_drory_b,\n",
    "                                                      log_m_break14=log_m_gal_7_drory_b,\n",
    "                                                      log_m_break15=log_m_gal_9_drory_b,\n",
    "                                                      log_m_break21=log_m_gal_0_drory_f,\n",
    "                                                      log_m_break22=log_m_gal_3_drory_f,\n",
    "                                                      log_m_break23=log_m_gal_5_drory_f,\n",
    "                                                      log_m_break24=log_m_gal_7_drory_f,\n",
    "                                                      log_m_break25=log_m_gal_9_drory_f,\n",
    "                                                      exp11=alpha_0_drory_b,\n",
    "                                                      exp12=alpha_3_drory_b,\n",
    "                                                      exp13=alpha_5_drory_b,\n",
    "                                                      exp14=alpha_7_drory_b,\n",
    "                                                      exp15=alpha_9_drory_b,\n",
    "                                                      exp21=alpha_0_drory_f,\n",
    "                                                      exp22=alpha_3_drory_f,\n",
    "                                                      exp23=alpha_5_drory_f,\n",
    "                                                      exp24=alpha_7_drory_f,\n",
    "                                                      exp25=alpha_9_drory_f,\n",
    "                                                      n_models=n_samples)"
   ]
  },
  {
   "cell_type": "code",
   "execution_count": 47,
   "metadata": {},
   "outputs": [
    {
     "name": "stdout",
     "output_type": "stream",
     "text": [
      "Model: DoubleSchechter2D\n",
      "Inputs: ('x', 'y')\n",
      "Outputs: ('z',)\n",
      "Model set size: 1024\n",
      "Parameters:\n",
      "            norm11                norm12        ...        exp25       \n",
      "    --------------------- --------------------- ... -------------------\n",
      "     0.004402848079292425 0.0009081790240627044 ... -1.3266248174021873\n",
      "     0.004799570864228793 0.0008999501850589235 ... -1.8305848303223726\n",
      "     0.004795307230749849 0.0009325434098896983 ...  -1.654602902896141\n",
      "    0.0042854524863657215 0.0009938548180644185 ... -1.8130842197343306\n",
      "     0.004207433208741216   0.00096986445051369 ... -1.5938432142775458\n",
      "     0.004278329445001347 0.0009761252558431409 ... -1.8150389931361828\n",
      "     0.004633544476641203 0.0010308475292850673 ... -1.9127448534803007\n",
      "      0.00442534897028958 0.0009197300305065579 ... -1.9813287467720326\n",
      "    0.0042789096278489005 0.0010634175006736903 ... -1.2916272528133814\n",
      "     0.004213200978980367 0.0011112532024668538 ... -1.5052521150923375\n",
      "                      ...                   ... ...                 ...\n",
      "     0.004417206645124821 0.0009755164804395566 ... -1.5600784673457235\n",
      "     0.004286300006366091 0.0009250351912733418 ... -1.5814934766528064\n",
      "     0.004054723047333634 0.0008227220673741488 ...  -1.824352710698424\n",
      "     0.004462378131938259 0.0010861456681764753 ... -1.6437514991555158\n",
      "     0.004637690371650315 0.0010501550002616079 ...  -1.699529135019492\n",
      "    0.0042857851102588735 0.0011277683778044747 ... -1.8178620913697703\n",
      "    0.0043045403799550075 0.0008511060551229515 ... -2.0117243793418256\n",
      "     0.004580921755263554 0.0010140839714446158 ...  -1.666043371739051\n",
      "     0.004201081758169072 0.0010069855064192995 ... -1.8933843900454375\n",
      "     0.004501076120309697 0.0009188829784175265 ... -1.8034380005209643\n",
      "     0.004385455485654201 0.0008562308462606448 ... -1.9586039831676856\n",
      "    Length = 1024 rows\n"
     ]
    }
   ],
   "source": [
    "print(drory_2009_galactic_mass_function)\n",
    "with open('../models/Drory2009_galaxy_mass_function.pkl', 'wb') as f:\n",
    "    pickle.dump(drory_2009_galactic_mass_function, f)"
   ]
  },
  {
   "cell_type": "markdown",
   "metadata": {},
   "source": [
    "#### Ilbert+ (2010)"
   ]
  },
  {
   "cell_type": "markdown",
   "metadata": {},
   "source": [
    "##### Galactic mass function parameters"
   ]
  },
  {
   "cell_type": "code",
   "execution_count": 48,
   "metadata": {},
   "outputs": [],
   "source": [
    "z_ilbert = np.array([0, .3, .5, .7, .9, 1.1, 1.35, 1.75])\n",
    "z_range_ilbert = np.linspace(0, 1.75, num=n_mesh)\n",
    "\n",
    "norm_0_ilbert_q = phi_bell\n",
    "norm_3_ilbert_q = trunc_norm_dist(a=0, b=np.inf, loc=1.12, scale=.07, size=n_samples) * 1e-3\n",
    "norm_5_ilbert_q = trunc_norm_dist(a=0, b=np.inf, loc=.87, scale=.04, size=n_samples) * 1e-3\n",
    "norm_7_ilbert_q = trunc_norm_dist(a=0, b=np.inf, loc=1.15, scale=.03, size=n_samples) * 1e-3\n",
    "norm_9_ilbert_q = trunc_norm_dist(a=0, b=np.inf, loc=1.43, scale=.03, size=n_samples) * 1e-3\n",
    "norm_11_ilbert_q = trunc_norm_dist(a=0, b=np.inf, loc=.55, scale=.02, size=n_samples) * 1e-3\n",
    "norm_135_ilbert_q = trunc_norm_dist(a=0, b=np.inf, loc=.26, scale=.02, size=n_samples) * 1e-3\n",
    "norm_175_ilbert_q = trunc_norm_dist(a=0, b=np.inf, loc=.1, scale=.04, size=n_samples) * 1e-3\n",
    "\n",
    "log_m_gal_0_ilbert_q = log_mgal_break_bell\n",
    "log_m_gal_3_ilbert_q = unc.normal(11.13, std=.03, n_samples=n_samples).distribution\n",
    "log_m_gal_5_ilbert_q = unc.normal(10.97, std=.03, n_samples=n_samples).distribution\n",
    "log_m_gal_7_ilbert_q = unc.normal(10.83, std=.02, n_samples=n_samples).distribution\n",
    "log_m_gal_9_ilbert_q = unc.normal(10.77, std=.01, n_samples=n_samples).distribution\n",
    "log_m_gal_11_ilbert_q = unc.normal(10.7, std=.03, n_samples=n_samples).distribution\n",
    "log_m_gal_135_ilbert_q = unc.normal(10.64, std=.14, n_samples=n_samples).distribution\n",
    "log_m_gal_175_ilbert_q = unc.normal(10.67, std=.1, n_samples=n_samples).distribution\n",
    "\n",
    "alpha_0_ilbert_q = alpha_bell\n",
    "alpha_3_ilbert_q = unc.normal(-.91, std=.02, n_samples=n_samples).distribution\n",
    "alpha_5_ilbert_q = unc.normal(-.56, std=.03, n_samples=n_samples).distribution\n",
    "alpha_7_ilbert_q = unc.normal(-.25, std=.04, n_samples=n_samples).distribution\n",
    "alpha_9_ilbert_q = unc.normal(.04, std=.03, n_samples=n_samples).distribution\n",
    "alpha_11_ilbert_q = unc.normal(.25, std=.08, n_samples=n_samples).distribution\n",
    "alpha_135_ilbert_q = unc.normal(.5, std=.05, n_samples=n_samples).distribution\n",
    "alpha_175_ilbert_q = unc.normal(.5, std=.05, n_samples=n_samples).distribution\n",
    "\n",
    "norm_0_ilbert_i = np.zeros(n_samples)\n",
    "norm_3_ilbert_i = trunc_norm_dist(a=0, b=np.inf, loc=1.31, scale=.09, size=n_samples) * 1e-3\n",
    "norm_5_ilbert_i = trunc_norm_dist(a=0, b=np.inf, loc=.96, scale=.06, size=n_samples) * 1e-3\n",
    "norm_7_ilbert_i = trunc_norm_dist(a=0, b=np.inf, loc=1.02, scale=.06, size=n_samples) * 1e-3\n",
    "norm_9_ilbert_i = trunc_norm_dist(a=0, b=np.inf, loc=1.52, scale=.07, size=n_samples) * 1e-3\n",
    "norm_11_ilbert_i = trunc_norm_dist(a=0, b=np.inf, loc=1.05, scale=.04, size=n_samples) * 1e-3\n",
    "norm_135_ilbert_i = trunc_norm_dist(a=0, b=np.inf, loc=.45, scale=.03, size=n_samples) * 1e-3\n",
    "norm_175_ilbert_i = trunc_norm_dist(a=0, b=np.inf, loc=.23, scale=.02, size=n_samples) * 1e-3\n",
    "\n",
    "log_m_gal_0_ilbert_i = np.zeros(n_samples)\n",
    "log_m_gal_3_ilbert_i = unc.normal(10.96, std=.03, n_samples=n_samples).distribution\n",
    "log_m_gal_5_ilbert_i = unc.normal(10.93, std=.03, n_samples=n_samples).distribution\n",
    "log_m_gal_7_ilbert_i = unc.normal(10.85, std=.02, n_samples=n_samples).distribution\n",
    "log_m_gal_9_ilbert_i = unc.normal(10.73, std=.02, n_samples=n_samples).distribution\n",
    "log_m_gal_11_ilbert_i = unc.normal(10.77, std=.02, n_samples=n_samples).distribution\n",
    "log_m_gal_135_ilbert_i = unc.normal(10.94, std=.03, n_samples=n_samples).distribution\n",
    "log_m_gal_175_ilbert_i = unc.normal(11.02, std=.03, n_samples=n_samples).distribution\n",
    "\n",
    "alpha_0_ilbert_i = np.zeros(n_samples)\n",
    "alpha_3_ilbert_i = unc.normal(-1.20, std=.02, n_samples=n_samples).distribution\n",
    "alpha_5_ilbert_i = unc.normal(-1.02, std=.02, n_samples=n_samples).distribution\n",
    "alpha_7_ilbert_i = unc.normal(-.9, std=.03, n_samples=n_samples).distribution\n",
    "alpha_9_ilbert_i = unc.normal(-.54, std=.03, n_samples=n_samples).distribution\n",
    "alpha_11_ilbert_i = unc.normal(-.44, std=.04, n_samples=n_samples).distribution\n",
    "alpha_135_ilbert_i = unc.normal(-.88, std=.04, n_samples=n_samples).distribution\n",
    "alpha_175_ilbert_i = unc.normal(-1.03, std=.04, n_samples=n_samples).distribution\n",
    "\n",
    "norm_0_ilbert_h = np.zeros(n_samples)\n",
    "norm_3_ilbert_h = trunc_norm_dist(a=0, b=np.inf, loc=.36, scale=.06, size=n_samples) * 1e-3\n",
    "norm_5_ilbert_h = trunc_norm_dist(a=0, b=np.inf, loc=.46, scale=.06, size=n_samples) * 1e-3\n",
    "norm_7_ilbert_h = trunc_norm_dist(a=0, b=np.inf, loc=.65, scale=.05, size=n_samples) * 1e-3\n",
    "norm_9_ilbert_h = trunc_norm_dist(a=0, b=np.inf, loc=1., scale=.06, size=n_samples) * 1e-3\n",
    "norm_11_ilbert_h = trunc_norm_dist(a=0, b=np.inf, loc=.93, scale=.06, size=n_samples) * 1e-3\n",
    "norm_135_ilbert_h = trunc_norm_dist(a=0, b=np.inf, loc=.79, scale=.04, size=n_samples) * 1e-3\n",
    "norm_175_ilbert_h = trunc_norm_dist(a=0, b=np.inf, loc=.39, scale=.3, size=n_samples) * 1e-3\n",
    "\n",
    "log_m_gal_0_ilbert_h = np.zeros(n_samples)\n",
    "log_m_gal_3_ilbert_h = unc.normal(10.42, std=.07, n_samples=n_samples).distribution\n",
    "log_m_gal_5_ilbert_h = unc.normal(10.39, std=.05, n_samples=n_samples).distribution\n",
    "log_m_gal_7_ilbert_h = unc.normal(10.49, std=.03, n_samples=n_samples).distribution\n",
    "log_m_gal_9_ilbert_h = unc.normal(10.48, std=.02, n_samples=n_samples).distribution\n",
    "log_m_gal_11_ilbert_h = unc.normal(10.48, std=.02, n_samples=n_samples).distribution\n",
    "log_m_gal_135_ilbert_h = unc.normal(10.54, std=.02, n_samples=n_samples).distribution\n",
    "log_m_gal_175_ilbert_h = unc.normal(10.75, std=.7, n_samples=n_samples).distribution\n",
    "\n",
    "alpha_0_ilbert_h = np.zeros(n_samples)\n",
    "alpha_3_ilbert_h = unc.normal(-1.51, std=.04, n_samples=n_samples).distribution\n",
    "alpha_5_ilbert_h = unc.normal(-1.47, std=.03, n_samples=n_samples).distribution\n",
    "alpha_7_ilbert_h = unc.normal(-1.48, std=.02, n_samples=n_samples).distribution\n",
    "alpha_9_ilbert_h = unc.normal(-1.33, std=.02, n_samples=n_samples).distribution\n",
    "alpha_11_ilbert_h = unc.normal(-1.29, std=.02, n_samples=n_samples).distribution\n",
    "alpha_135_ilbert_h = unc.normal(-1.26, std=.02, n_samples=n_samples).distribution\n",
    "alpha_175_ilbert_h = unc.normal(-1.3, std=.13, n_samples=n_samples).distribution"
   ]
  },
  {
   "cell_type": "markdown",
   "metadata": {},
   "source": [
    "##### Galactic mass function"
   ]
  },
  {
   "cell_type": "code",
   "execution_count": 49,
   "metadata": {},
   "outputs": [],
   "source": [
    "ilbert_2010_galactic_mass_function = TripleSchechter2D(norm11=norm_0_ilbert_q,\n",
    "                                                       norm12=norm_3_ilbert_q,\n",
    "                                                       norm13=norm_5_ilbert_q,\n",
    "                                                       norm14=norm_7_ilbert_q,\n",
    "                                                       norm15=norm_9_ilbert_q,\n",
    "                                                       norm16=norm_11_ilbert_q,\n",
    "                                                       norm17=norm_135_ilbert_q,\n",
    "                                                       norm18=norm_175_ilbert_q,\n",
    "                                                       norm21=norm_0_ilbert_i,\n",
    "                                                       norm22=norm_3_ilbert_i,\n",
    "                                                       norm23=norm_5_ilbert_i,\n",
    "                                                       norm24=norm_7_ilbert_i,\n",
    "                                                       norm25=norm_9_ilbert_i,\n",
    "                                                       norm26=norm_11_ilbert_i,\n",
    "                                                       norm27=norm_135_ilbert_i,\n",
    "                                                       norm28=norm_175_ilbert_i,\n",
    "                                                       norm31=norm_0_ilbert_h,\n",
    "                                                       norm32=norm_3_ilbert_h,\n",
    "                                                       norm33=norm_5_ilbert_h,\n",
    "                                                       norm34=norm_7_ilbert_h,\n",
    "                                                       norm35=norm_9_ilbert_h,\n",
    "                                                       norm36=norm_11_ilbert_h,\n",
    "                                                       norm37=norm_135_ilbert_h,\n",
    "                                                       norm38=norm_175_ilbert_h,\n",
    "                                                       log_m_break11=log_m_gal_0_ilbert_q,\n",
    "                                                       log_m_break12=log_m_gal_3_ilbert_q,\n",
    "                                                       log_m_break13=log_m_gal_5_ilbert_q,\n",
    "                                                       log_m_break14=log_m_gal_7_ilbert_q,\n",
    "                                                       log_m_break15=log_m_gal_9_ilbert_q,\n",
    "                                                       log_m_break16=log_m_gal_11_ilbert_q,\n",
    "                                                       log_m_break17=log_m_gal_135_ilbert_q,\n",
    "                                                       log_m_break18=log_m_gal_175_ilbert_q,\n",
    "                                                       log_m_break21=log_m_gal_0_ilbert_i,\n",
    "                                                       log_m_break22=log_m_gal_3_ilbert_i,\n",
    "                                                       log_m_break23=log_m_gal_5_ilbert_i,\n",
    "                                                       log_m_break24=log_m_gal_7_ilbert_i,\n",
    "                                                       log_m_break25=log_m_gal_9_ilbert_i,\n",
    "                                                       log_m_break26=log_m_gal_11_ilbert_i,\n",
    "                                                       log_m_break27=log_m_gal_135_ilbert_i,\n",
    "                                                       log_m_break28=log_m_gal_175_ilbert_i,\n",
    "                                                       log_m_break31=log_m_gal_0_ilbert_h,\n",
    "                                                       log_m_break32=log_m_gal_3_ilbert_h,\n",
    "                                                       log_m_break33=log_m_gal_5_ilbert_h,\n",
    "                                                       log_m_break34=log_m_gal_7_ilbert_h,\n",
    "                                                       log_m_break35=log_m_gal_9_ilbert_h,\n",
    "                                                       log_m_break36=log_m_gal_11_ilbert_h,\n",
    "                                                       log_m_break37=log_m_gal_135_ilbert_h,\n",
    "                                                       log_m_break38=log_m_gal_175_ilbert_h,\n",
    "                                                       exp11=alpha_0_ilbert_q,\n",
    "                                                       exp12=alpha_3_ilbert_q,\n",
    "                                                       exp13=alpha_5_ilbert_q,\n",
    "                                                       exp14=alpha_7_ilbert_q,\n",
    "                                                       exp15=alpha_9_ilbert_q,\n",
    "                                                       exp16=alpha_11_ilbert_q,\n",
    "                                                       exp17=alpha_135_ilbert_q,\n",
    "                                                       exp18=alpha_175_ilbert_q,\n",
    "                                                       exp21=alpha_0_ilbert_i,\n",
    "                                                       exp22=alpha_3_ilbert_i,\n",
    "                                                       exp23=alpha_5_ilbert_i,\n",
    "                                                       exp24=alpha_7_ilbert_i,\n",
    "                                                       exp25=alpha_9_ilbert_i,\n",
    "                                                       exp26=alpha_11_ilbert_i,\n",
    "                                                       exp27=alpha_135_ilbert_i,\n",
    "                                                       exp28=alpha_175_ilbert_i,\n",
    "                                                       exp31=alpha_0_ilbert_h,\n",
    "                                                       exp32=alpha_3_ilbert_h,\n",
    "                                                       exp33=alpha_5_ilbert_h,\n",
    "                                                       exp34=alpha_7_ilbert_h,\n",
    "                                                       exp35=alpha_9_ilbert_h,\n",
    "                                                       exp36=alpha_11_ilbert_h,\n",
    "                                                       exp37=alpha_135_ilbert_h,\n",
    "                                                       exp38=alpha_175_ilbert_h,\n",
    "                                                       n_models=n_samples)"
   ]
  },
  {
   "cell_type": "code",
   "execution_count": 50,
   "metadata": {},
   "outputs": [
    {
     "name": "stdout",
     "output_type": "stream",
     "text": [
      "Model: TripleSchechter2D\n",
      "Inputs: ('x', 'y')\n",
      "Outputs: ('z',)\n",
      "Model set size: 1024\n",
      "Parameters:\n",
      "            norm11                norm12        ...        exp38       \n",
      "    --------------------- --------------------- ... -------------------\n",
      "     0.004402848079292425  0.000976908147558405 ... -1.1899885661534337\n",
      "     0.004799570864228793 0.0011790689970663268 ...  -1.175785436435071\n",
      "     0.004795307230749849  0.001268242998785396 ... -1.0710577384725384\n",
      "    0.0042854524863657215 0.0009387797910857985 ... -1.5109860732410518\n",
      "     0.004207433208741216 0.0011619512236113656 ... -1.5427746177547972\n",
      "     0.004278329445001347  0.001212314611857331 ... -1.3349480972872194\n",
      "     0.004633544476641203  0.001177017441660807 ... -1.3861541282401277\n",
      "      0.00442534897028958 0.0010784217529949322 ... -1.1550704380344003\n",
      "    0.0042789096278489005 0.0010823127852862945 ... -1.1211551513272897\n",
      "     0.004213200978980367 0.0012616675242381281 ...  -1.117223904052344\n",
      "                      ...                   ... ...                 ...\n",
      "     0.004417206645124821   0.00107822497970755 ... -1.1311773950282782\n",
      "     0.004286300006366091 0.0011301688769054926 ... -1.3883543934310048\n",
      "     0.004054723047333634 0.0010842372529251828 ... -1.4906250892006123\n",
      "     0.004462378131938259 0.0011218872565053177 ... -1.3672644614335001\n",
      "     0.004637690371650315 0.0012310343925814877 ... -1.0352397866842848\n",
      "    0.0042857851102588735 0.0009874131829421397 ... -1.1407345810793903\n",
      "    0.0043045403799550075 0.0011635955532517447 ... -1.4372681771558466\n",
      "     0.004580921755263554 0.0011155075836859249 ... -1.2968366046134594\n",
      "     0.004201081758169072 0.0011868527868067146 ... -1.7117040641720525\n",
      "     0.004501076120309697 0.0009494479875509406 ... -1.3162911585041912\n",
      "     0.004385455485654201 0.0009478512743742976 ...  -1.289360376729491\n",
      "    Length = 1024 rows\n"
     ]
    }
   ],
   "source": [
    "print(ilbert_2010_galactic_mass_function)\n",
    "with open('../models/Ilbert2010_galaxy_mass_function.pkl', 'wb') as f:\n",
    "    pickle.dump(ilbert_2010_galactic_mass_function, f)"
   ]
  },
  {
   "cell_type": "markdown",
   "metadata": {},
   "source": [
    "#### Bundy+ (2009)"
   ]
  },
  {
   "cell_type": "markdown",
   "metadata": {},
   "source": [
    "##### Pair fraction parameters"
   ]
  },
  {
   "cell_type": "code",
   "execution_count": 51,
   "metadata": {},
   "outputs": [],
   "source": [
    "m_bundy = unc.normal(1.6, std=1.6, n_samples=n_samples).distribution\n",
    "fp_bundy = trunc_norm_dist(a=0, b=np.inf, loc=.03, scale=.02, size=n_samples) / (1.55 ** m_bundy)\n",
    "q_min_bundy = np.repeat(.25, n_samples)\n",
    "r_proj_bundy = np.repeat(20, n_samples)"
   ]
  },
  {
   "cell_type": "code",
   "execution_count": 52,
   "metadata": {},
   "outputs": [
    {
     "data": {
      "text/plain": [
       "0.015069706621959712"
      ]
     },
     "execution_count": 52,
     "metadata": {},
     "output_type": "execute_result"
    }
   ],
   "source": [
    "np.median(fp_bundy)"
   ]
  },
  {
   "cell_type": "markdown",
   "metadata": {},
   "source": [
    "##### Pair fraction"
   ]
  },
  {
   "cell_type": "code",
   "execution_count": 53,
   "metadata": {},
   "outputs": [],
   "source": [
    "bundy_pair_frac = PairFraction3D(normalization=fp_bundy,\n",
    "                                 exponent=m_bundy,\n",
    "                                 q_min=q_min_bundy,\n",
    "                                 n_models=n_samples)"
   ]
  },
  {
   "cell_type": "code",
   "execution_count": 54,
   "metadata": {},
   "outputs": [
    {
     "name": "stdout",
     "output_type": "stream",
     "text": [
      "Model: PairFraction3D\n",
      "Inputs: ('x0', 'x1', 'x2')\n",
      "Outputs: ('x0',)\n",
      "Model set size: 1024\n",
      "Parameters:\n",
      "        normalization            exponent       q_min\n",
      "    --------------------- --------------------- -----\n",
      "      0.02956587227815002   -1.4311187504723621  0.25\n",
      "     0.014438013826435102    2.9020448434757022  0.25\n",
      "     0.015002967000032688     2.653097570364828  0.25\n",
      "      0.03730234692313509   -0.7008692270137384  0.25\n",
      "     0.010358210783045716     3.408423696285043  0.25\n",
      "      0.01976685542819245     1.064722854233978  0.25\n",
      "     0.004691042185908133     4.313458032419209  0.25\n",
      "     0.015361465584383291    1.8205585136929998  0.25\n",
      "     0.037364550834595604    -0.592819779595164  0.25\n",
      "      0.05424654589130784 -0.020091010173163726  0.25\n",
      "                      ...                   ...   ...\n",
      "      0.02422827446337516     1.202956553194678  0.25\n",
      "     0.008556532847754999     2.171387165434647  0.25\n",
      "    0.0031562247983812227     4.395439670717355  0.25\n",
      "      0.02395604853938675   0.22336956900038274  0.25\n",
      "     0.004615583557549801     3.535058605228188  0.25\n",
      "     0.030987659291326245    0.6368400168022333  0.25\n",
      "     0.020306233312656474     2.214564294055805  0.25\n",
      "     0.011593175734525472     2.173271238362766  0.25\n",
      "      0.00511521099978385     3.643309897136972  0.25\n",
      "      0.08928352213964678    -0.537692214920189  0.25\n",
      "     0.026218433614471643    1.3883073913036172  0.25\n",
      "    Length = 1024 rows\n"
     ]
    }
   ],
   "source": [
    "print(bundy_pair_frac)\n",
    "with open('../models/Bundy2009_pair_fraction.pkl', 'wb') as f:\n",
    "    pickle.dump(bundy_pair_frac, f)"
   ]
  },
  {
   "cell_type": "markdown",
   "metadata": {},
   "source": [
    "#### de Ravel+ (2009)"
   ]
  },
  {
   "cell_type": "markdown",
   "metadata": {},
   "source": [
    "##### Pair fraction parameters"
   ]
  },
  {
   "cell_type": "code",
   "execution_count": 55,
   "metadata": {},
   "outputs": [],
   "source": [
    "log_m_min_de_ravel = np.array([9.5, 10, 10.5])\n",
    "fp_95_de_ravel = trunc_norm_dist(a=0, b=np.inf, loc=.0390, scale=.0342, size=n_samples)\n",
    "fp_10_de_ravel = trunc_norm_dist(a=0, b=np.inf, loc=.0728, scale=.0681, size=n_samples)\n",
    "fp_105_de_ravel = trunc_norm_dist(a=0, b=np.inf, loc=.167, scale=.195, size=n_samples)\n",
    "\n",
    "m_95_de_ravel = unc.normal(3.13, std=1.54, n_samples=n_samples).distribution\n",
    "m_10_de_ravel = unc.normal(2.04, std=1.65, n_samples=n_samples).distribution\n",
    "m_105_de_ravel = unc.normal(.52, std=2.07, n_samples=n_samples).distribution\n",
    "\n",
    "q_min_de_ravel = np.repeat(.25, n_samples)\n",
    "r_proj_de_ravel = np.repeat(100, n_samples)"
   ]
  },
  {
   "cell_type": "markdown",
   "metadata": {},
   "source": [
    "##### Pair fraction"
   ]
  },
  {
   "cell_type": "code",
   "execution_count": 56,
   "metadata": {},
   "outputs": [],
   "source": [
    "de_ravel_pair_frac = PairFraction3D_3bins(norm1=fp_95_de_ravel,\n",
    "                                          norm2=fp_10_de_ravel,\n",
    "                                          norm3=fp_105_de_ravel,\n",
    "                                          exp1=m_95_de_ravel,\n",
    "                                          exp2=m_10_de_ravel,\n",
    "                                          exp3=m_105_de_ravel,\n",
    "                                          q_min=q_min_de_ravel,\n",
    "                                          n_models=n_samples)"
   ]
  },
  {
   "cell_type": "code",
   "execution_count": 57,
   "metadata": {},
   "outputs": [
    {
     "name": "stdout",
     "output_type": "stream",
     "text": [
      "Model: PairFraction3D_3bins\n",
      "Inputs: ('x0', 'x1', 'x2')\n",
      "Outputs: ('x0',)\n",
      "Model set size: 1024\n",
      "Parameters:\n",
      "           norm1                 norm2         ...         exp3        q_min\n",
      "    -------------------- --------------------- ... ------------------- -----\n",
      "     0.01412625958418413   0.10330651874600832 ... -2.9393821689078186  0.25\n",
      "    0.016907771312160275   0.08902916394544952 ... -3.7016194373521203  0.25\n",
      "     0.04253512836126195   0.11960937513116407 ...  -2.295663230084204  0.25\n",
      "     0.08508776948656303   0.07017655837449953 ...   2.164609991843772  0.25\n",
      "      0.0698374546329099  0.026211299096154834 ...   1.390461968986441  0.25\n",
      "     0.07262884540498107    0.1499436456908544 ...  -1.817231588891481  0.25\n",
      "    0.011362223399390855   0.04892483784106223 ...  -2.749045447308141  0.25\n",
      "     0.03494855040687814    0.2125571276172108 ...  -4.266612674380477  0.25\n",
      "     0.09719509067735402    0.0855137450147565 ... -2.5292180837226117  0.25\n",
      "     0.02125415608491482   0.13139199388534017 ...  3.1694965062289846  0.25\n",
      "                     ...                   ... ...                 ...   ...\n",
      "     0.03444927455087784   0.09971492223884357 ...    2.09451721832654  0.25\n",
      "    0.026084697122559165   0.03215418897255255 ...  -2.665761707101992  0.25\n",
      "    0.015557884429814327   0.03151619275275003 ... -2.5196894580087124  0.25\n",
      "     0.04855442481894871 0.0005670926637705576 ...  0.6752587894603116  0.25\n",
      "     0.11403805887702595   0.08214105569318882 ... -1.1313142666397358  0.25\n",
      "     0.04275116248866243   0.06778965745959921 ...   -1.52963612593495  0.25\n",
      "     0.05306498790626896   0.08090923992756592 ...  0.4176695600023409  0.25\n",
      "     0.02885906198705606   0.13229734987245878 ... -1.9812806309531696  0.25\n",
      "    0.055327506484342814   0.15014337498432034 ...  2.4669699396875213  0.25\n",
      "     0.02450851002915124   0.10239879284197581 ...  0.9442894054958016  0.25\n",
      "    0.023779811049517888    0.1013600873015425 ... -2.9538837640173936  0.25\n",
      "    Length = 1024 rows\n"
     ]
    }
   ],
   "source": [
    "print(de_ravel_pair_frac)\n",
    "with open('../models/deRavel2009_pair_fraction.pkl', 'wb') as f:\n",
    "    pickle.dump(de_ravel_pair_frac, f)"
   ]
  },
  {
   "cell_type": "markdown",
   "metadata": {},
   "source": [
    "#### Lopez-Sanjuan+ (2012)"
   ]
  },
  {
   "cell_type": "markdown",
   "metadata": {},
   "source": [
    "##### Pair fraction parameters"
   ]
  },
  {
   "cell_type": "code",
   "execution_count": 58,
   "metadata": {},
   "outputs": [],
   "source": [
    "fp_lopez = trunc_norm_dist(a=0, b=np.inf, loc=.019, scale=.003, size=n_samples)\n",
    "m_lopez = unc.normal(1.4, std=.3, n_samples=n_samples).distribution\n",
    "q_min_lopez = np.repeat(.25, n_samples)\n",
    "r_proj_lopez = np.repeat(30, n_samples)"
   ]
  },
  {
   "cell_type": "markdown",
   "metadata": {},
   "source": [
    "##### Pair fraction"
   ]
  },
  {
   "cell_type": "code",
   "execution_count": 59,
   "metadata": {},
   "outputs": [],
   "source": [
    "lopez_pair_frac = PairFraction3D(normalization=fp_lopez,\n",
    "                                 exponent=m_lopez,\n",
    "                                 q_min=q_min_lopez,\n",
    "                                 n_models=n_samples)"
   ]
  },
  {
   "cell_type": "code",
   "execution_count": 60,
   "metadata": {},
   "outputs": [
    {
     "name": "stdout",
     "output_type": "stream",
     "text": [
      "Model: PairFraction3D\n",
      "Inputs: ('x0', 'x1', 'x2')\n",
      "Outputs: ('x0',)\n",
      "Model set size: 1024\n",
      "Parameters:\n",
      "       normalization          exponent      q_min\n",
      "    -------------------- ------------------ -----\n",
      "     0.01974350012893418 1.2845646018918668  0.25\n",
      "    0.014584517751336078  1.167290765408978  0.25\n",
      "     0.01790933172370402 1.7226659903332537  0.25\n",
      "    0.019443522808174497 1.8358393309735743  0.25\n",
      "    0.015340443751138508 1.1908166790646726  0.25\n",
      "     0.01632153421251532 0.8731457282334112  0.25\n",
      "     0.02570729899416664 1.6629753670650067  0.25\n",
      "    0.019217188737459902 1.6417678576780286  0.25\n",
      "    0.014572963953543384 1.4371411568825312  0.25\n",
      "     0.01724907872881743  1.105717282415312  0.25\n",
      "                     ...                ...   ...\n",
      "    0.020410222946772295 1.0838733522260269  0.25\n",
      "    0.019408869961482236 1.4312135277429883  0.25\n",
      "     0.02477703845089302 1.4388851532956586  0.25\n",
      "     0.01834918676509006 1.6975308070354567  0.25\n",
      "    0.012651732936021648  1.413256095410299  0.25\n",
      "    0.017949240559179475  1.407709023149889  0.25\n",
      "    0.018396785380417738  1.629857940783926  0.25\n",
      "    0.018579326419408154 1.3335987890560452  0.25\n",
      "    0.016793817230068064 1.3854981381176728  0.25\n",
      "    0.020404448931075913 1.6242134757523072  0.25\n",
      "     0.01782835506452604 2.0140683987068515  0.25\n",
      "    Length = 1024 rows\n"
     ]
    }
   ],
   "source": [
    "print(lopez_pair_frac)\n",
    "with open('../models/Lopez2012_pair_fraction.pkl', 'wb') as f:\n",
    "    pickle.dump(lopez_pair_frac, f)"
   ]
  },
  {
   "cell_type": "markdown",
   "metadata": {},
   "source": [
    "#### Kitzbichler & White (2008)"
   ]
  },
  {
   "cell_type": "markdown",
   "metadata": {},
   "source": [
    "##### Merger timescale normalization"
   ]
  },
  {
   "cell_type": "code",
   "execution_count": 61,
   "metadata": {},
   "outputs": [],
   "source": [
    "norm_kw = np.repeat(2.2, n_samples)"
   ]
  },
  {
   "cell_type": "markdown",
   "metadata": {},
   "source": [
    "##### Merger timescale"
   ]
  },
  {
   "cell_type": "code",
   "execution_count": 62,
   "metadata": {},
   "outputs": [],
   "source": [
    "kw_merger_timescale = Timescale3D(normalization=norm_kw,\n",
    "                                  r_proj=r_proj_lopez,\n",
    "                                  n_models=n_samples)"
   ]
  },
  {
   "cell_type": "code",
   "execution_count": 63,
   "metadata": {},
   "outputs": [
    {
     "name": "stdout",
     "output_type": "stream",
     "text": [
      "Model: Timescale3D\n",
      "Inputs: ('x0', 'x1', 'x2')\n",
      "Outputs: ('x0',)\n",
      "Model set size: 1024\n",
      "Parameters:\n",
      "    normalization r_proj\n",
      "    ------------- ------\n",
      "              2.2   30.0\n",
      "              2.2   30.0\n",
      "              2.2   30.0\n",
      "              2.2   30.0\n",
      "              2.2   30.0\n",
      "              2.2   30.0\n",
      "              2.2   30.0\n",
      "              2.2   30.0\n",
      "              2.2   30.0\n",
      "              2.2   30.0\n",
      "              ...    ...\n",
      "              2.2   30.0\n",
      "              2.2   30.0\n",
      "              2.2   30.0\n",
      "              2.2   30.0\n",
      "              2.2   30.0\n",
      "              2.2   30.0\n",
      "              2.2   30.0\n",
      "              2.2   30.0\n",
      "              2.2   30.0\n",
      "              2.2   30.0\n",
      "              2.2   30.0\n",
      "    Length = 1024 rows\n"
     ]
    }
   ],
   "source": [
    "print(kw_merger_timescale)\n",
    "with open('../models/KitzbichlerWhigte2008_merger_timescale.pkl', 'wb') as f:\n",
    "    pickle.dump(kw_merger_timescale, f)"
   ]
  },
  {
   "cell_type": "markdown",
   "metadata": {},
   "source": [
    "#### Lotz+ (2010)"
   ]
  },
  {
   "cell_type": "markdown",
   "metadata": {},
   "source": [
    "##### Merger timescale normalization"
   ]
  },
  {
   "cell_type": "code",
   "execution_count": 64,
   "metadata": {},
   "outputs": [],
   "source": [
    "norm_lotz = np.repeat(1.1, n_samples)"
   ]
  },
  {
   "cell_type": "markdown",
   "metadata": {},
   "source": [
    "##### Merger timescale"
   ]
  },
  {
   "cell_type": "code",
   "execution_count": 65,
   "metadata": {},
   "outputs": [],
   "source": [
    "lotz_merger_timescale = Timescale3D(normalization=norm_lotz,\n",
    "                                    r_proj=r_proj_de_ravel,\n",
    "                                    n_models=n_samples)"
   ]
  },
  {
   "cell_type": "code",
   "execution_count": 66,
   "metadata": {},
   "outputs": [
    {
     "name": "stdout",
     "output_type": "stream",
     "text": [
      "Model: Timescale3D\n",
      "Inputs: ('x0', 'x1', 'x2')\n",
      "Outputs: ('x0',)\n",
      "Model set size: 1024\n",
      "Parameters:\n",
      "    normalization r_proj\n",
      "    ------------- ------\n",
      "              1.1  100.0\n",
      "              1.1  100.0\n",
      "              1.1  100.0\n",
      "              1.1  100.0\n",
      "              1.1  100.0\n",
      "              1.1  100.0\n",
      "              1.1  100.0\n",
      "              1.1  100.0\n",
      "              1.1  100.0\n",
      "              1.1  100.0\n",
      "              ...    ...\n",
      "              1.1  100.0\n",
      "              1.1  100.0\n",
      "              1.1  100.0\n",
      "              1.1  100.0\n",
      "              1.1  100.0\n",
      "              1.1  100.0\n",
      "              1.1  100.0\n",
      "              1.1  100.0\n",
      "              1.1  100.0\n",
      "              1.1  100.0\n",
      "              1.1  100.0\n",
      "    Length = 1024 rows\n"
     ]
    }
   ],
   "source": [
    "print(lotz_merger_timescale)\n",
    "with open('../models/Lotz2010_merger_timescale.pkl', 'wb') as f:\n",
    "    pickle.dump(lotz_merger_timescale, f)"
   ]
  },
  {
   "cell_type": "markdown",
   "metadata": {},
   "source": [
    "## Main models"
   ]
  },
  {
   "cell_type": "markdown",
   "metadata": {},
   "source": [
    "### Mingarelli+ 2017 Derived $\\Phi_{\\rm{BHB}, 0}$"
   ]
  },
  {
   "cell_type": "code",
   "execution_count": 67,
   "metadata": {},
   "outputs": [],
   "source": [
    "distance = 225. * u.Mpc\n",
    "\n",
    "z_225 = z_at_value(WMAP9.angular_diameter_distance, distance, zmax=1.)\n",
    "vol = WMAP9.comoving_volume(z_225).value"
   ]
  },
  {
   "cell_type": "code",
   "execution_count": 68,
   "metadata": {},
   "outputs": [
    {
     "data": {
      "text/latex": [
       "$\\displaystyle N_{\\rm{BHB}, 0} = (9.1_{-0.7}^{+0.7}) \\times 10^{1.0}$"
      ],
      "text/plain": [
       "<IPython.core.display.Math object>"
      ]
     },
     "metadata": {},
     "output_type": "display_data"
    }
   ],
   "source": [
    "N_BHB = np.rint(trunc_norm_dist(a=0, b=np.inf, loc=91, scale=7, size=n_samples))  # can't have fractions of a SMBHB\n",
    "local_binaries = Const1D(amplitude=N_BHB, n_models=n_samples)\n",
    "\n",
    "quantiles = np.quantile(local_binaries(0), q=[.16, .5, .84])\n",
    "order = 10. ** np.floor(np.log10(quantiles[1]))\n",
    "display(Math(r'N_{{\\rm{{BHB}}, 0}} = ({0:.1f}_{{-{1:.1f}}}^{{+{2:.1f}}})'\n",
    "             r' \\times 10^{{{3}}}'.format(quantiles[1] / order,\n",
    "                                          (quantiles[1] - quantiles[0]) / order,\n",
    "                                          (quantiles[2] - quantiles[1]) / order,\n",
    "                                          np.log10(order))))"
   ]
  },
  {
   "cell_type": "code",
   "execution_count": 69,
   "metadata": {},
   "outputs": [
    {
     "name": "stdout",
     "output_type": "stream",
     "text": [
      "Model: Const1D\n",
      "Inputs: ('x',)\n",
      "Outputs: ('y',)\n",
      "Model set size: 1024\n",
      "Parameters:\n",
      "    amplitude\n",
      "    ---------\n",
      "         82.0\n",
      "        100.0\n",
      "         85.0\n",
      "         87.0\n",
      "         91.0\n",
      "         89.0\n",
      "         90.0\n",
      "         92.0\n",
      "         95.0\n",
      "         94.0\n",
      "          ...\n",
      "         92.0\n",
      "         96.0\n",
      "         87.0\n",
      "        100.0\n",
      "         91.0\n",
      "         89.0\n",
      "         84.0\n",
      "        106.0\n",
      "         92.0\n",
      "        105.0\n",
      "         99.0\n",
      "    Length = 1024 rows\n"
     ]
    }
   ],
   "source": [
    "print(local_binaries)\n",
    "with open('../models/M17_local_binaries.pkl', 'wb') as f:\n",
    "    pickle.dump(local_binaries, f)"
   ]
  },
  {
   "cell_type": "code",
   "execution_count": 70,
   "metadata": {},
   "outputs": [
    {
     "data": {
      "text/latex": [
       "$\\displaystyle \\Phi_{\\rm{BHB}, M17} = (1.6_{-0.1}^{+0.1}) \\times 10^{-6.0}\\;\\rm{Mpc}^{-3}$"
      ],
      "text/plain": [
       "<IPython.core.display.Math object>"
      ]
     },
     "metadata": {},
     "output_type": "display_data"
    }
   ],
   "source": [
    "local_binary_number_density_mingarelli = Const1D(amplitude=N_BHB/vol, n_models=n_samples)\n",
    "\n",
    "quantiles = np.quantile(local_binary_number_density_mingarelli(0), q=[.16, .5, .84])\n",
    "order = 10. ** np.floor(np.log10(quantiles[1]))\n",
    "display(Math(r'\\Phi_{{\\rm{{BHB}}, M17}} = ({0:.1f}_{{-{1:.1f}}}^{{+{2:.1f}}})'\n",
    "             r' \\times 10^{{{3}}}\\;\\rm{{Mpc}}^{{-3}}'.format(quantiles[1] / order,\n",
    "                                          (quantiles[1] - quantiles[0]) / order,\n",
    "                                          (quantiles[2] - quantiles[1]) / order,\n",
    "                                          np.log10(order))))"
   ]
  },
  {
   "cell_type": "code",
   "execution_count": 71,
   "metadata": {},
   "outputs": [
    {
     "name": "stdout",
     "output_type": "stream",
     "text": [
      "Model: Const1D\n",
      "Inputs: ('x',)\n",
      "Outputs: ('y',)\n",
      "Model set size: 1024\n",
      "Parameters:\n",
      "          amplitude       \n",
      "    ----------------------\n",
      "    1.4611373782020575e-06\n",
      "    1.7818748514659238e-06\n",
      "    1.5145936237460352e-06\n",
      "    1.5502311207753536e-06\n",
      "    1.6215061148339906e-06\n",
      "     1.585868617804672e-06\n",
      "    1.6036873663193313e-06\n",
      "    1.6393248633486498e-06\n",
      "    1.6927811088926275e-06\n",
      "    1.6749623603779682e-06\n",
      "                       ...\n",
      "    1.6393248633486498e-06\n",
      "    1.7105998574072867e-06\n",
      "    1.5502311207753536e-06\n",
      "    1.7818748514659238e-06\n",
      "    1.6215061148339906e-06\n",
      "     1.585868617804672e-06\n",
      "     1.496774875231376e-06\n",
      "    1.8887873425538791e-06\n",
      "    1.6393248633486498e-06\n",
      "      1.87096859403922e-06\n",
      "    1.7640561029512644e-06\n",
      "    Length = 1024 rows\n"
     ]
    }
   ],
   "source": [
    "print(local_binary_number_density_mingarelli)\n",
    "with open('../models/M17_number_density.pkl', 'wb') as f:\n",
    "    pickle.dump(local_binary_number_density_mingarelli, f)"
   ]
  },
  {
   "cell_type": "markdown",
   "metadata": {},
   "source": [
    "### AGN-based model\n",
    "\n",
    "We take the SMBHB distribution as \n",
    "$$\n",
    "\\frac{d^{3} \\Phi_{\\rm{BHB}}}{dz dM dq} = \\Phi_{\\rm{BHB}, 0} f(z, M, q),\n",
    "$$\n",
    "where $\\Phi_{\\rm{BHB}, 0} = \\left. \\frac{d \\Phi_{\\rm{BHB}}}{dz} \\right|_{z = 0}$ is the local density of binary sources (set as above, Mingarelli et al. 2017), and the distribution of SMBHBs is\n",
    "$$\n",
    "f(z, M, q) \\propto \\frac{d^{2} \\Phi_{\\rm{AGN}}}{dz dM} p(q)\n",
    "$$\n",
    "with $p(q)$ log-normal.\n"
   ]
  },
  {
   "cell_type": "markdown",
   "metadata": {},
   "source": [
    "#### Normalization"
   ]
  },
  {
   "cell_type": "markdown",
   "metadata": {},
   "source": [
    "In normalizing $f(z, M, q)$, we want to make sure that $\\left. \\frac{d \\Phi_{\\rm{BHB}}}{dz} \\right|_{z = 0} = \\Phi_{\\rm{BHB}, 0}$. Accordingly, with normalization constant $C_{0}$, we have\n",
    "$$\n",
    "\\iint f(z = 0, M, q) dM dq = 1 \\\\\n",
    "\\iint C_{0} \\left. \\frac{d^{2} \\Phi_{\\rm{AGN}}}{dz dM} \\right|_{z = 0} p(q) dM dq = 1 \\\\\n",
    "C_{0} \\int \\left. \\frac{d^{2} \\Phi_{\\rm{AGN}}}{dz dM} \\right|_{z = 0} dM \\int p(q) dq = 1 \\\\\n",
    "C_{0} \\Phi_{\\rm{AGN}, 0} \\int p(q) dq = 1 \\\\\n",
    "C_{0} = \\frac{1}{\\Phi_{\\rm{AGN}, 0} \\int p(q) dq},\n",
    "$$\n",
    "such that the evolution function becomes\n",
    "$$\n",
    "f(z, M, q) = C_{0} \\frac{d^{2} \\Phi_{\\rm{AGN}}}{dz dM} p(q) \\\\\n",
    "f(z, M, q) = \\frac{1}{\\Phi_{\\rm{AGN}, 0}} \\frac{d^{2} \\Phi_{\\rm{AGN}}}{dz dM} \\frac{p(q)}{\\int p(q) dq}\n",
    "$$\n",
    "And the full model is\n",
    "$$\n",
    "\\frac{d^{3} \\Phi_{\\rm{BHB}}}{dz dM dq} = \\frac{\\Phi_{\\rm{BHB}, 0}}{\\Phi_{\\rm{AGN}, 0}} \\frac{d^{2} \\Phi_{\\rm{AGN}}}{dz dM} \\frac{p(q)}{\\int p(q) dq}.\n",
    "$$"
   ]
  },
  {
   "cell_type": "code",
   "execution_count": 72,
   "metadata": {},
   "outputs": [],
   "source": [
    "# Add normalization masses to our mass range explicitly\n",
    "log_m_bh_norm_min = log_m_bh_min_mingarelli\n",
    "log_m_bh_norm_max = log_m_bh_max_mingarelli\n",
    "log_m_bh_range = np.sort(np.append(log_m_bh_range, log_m_bh_norm_min))\n",
    "log_m_bh_range = np.sort(np.append(log_m_bh_range, log_m_bh_norm_max))\n",
    "log_m_bh_range_norm = log_m_bh_range[(log_m_bh_range >= log_m_bh_norm_min)\n",
    "                                     & (log_m_bh_range <= log_m_bh_norm_max)]\n",
    "\n",
    "log_m_chirp_norm_min = log_m_bh_min_mingarelli + (1 / 5) * (3 * np.log10(q_max) - np.log10(1 + q_max))\n",
    "log_m_chirp_norm_max = log_m_bh_max_mingarelli + (1 / 5) * (3 * np.log10(q_max) - np.log10(1 + q_max))\n",
    "# log_m_chirp_range = np.sort(np.append(log_m_chirp_range, log_m_chirp_norm_min))\n",
    "# log_m_chirp_range = np.sort(np.append(log_m_chirp_range, log_m_chirp_norm_max))"
   ]
  },
  {
   "cell_type": "code",
   "execution_count": 73,
   "metadata": {},
   "outputs": [
    {
     "data": {
      "text/plain": [
       "8.081084599406113"
      ]
     },
     "execution_count": 73,
     "metadata": {},
     "output_type": "execute_result"
    }
   ],
   "source": [
    "log_m_bh_min_mingarelli + (1 / 5) * (3 * np.log10(q_min) - np.log10(1 + q_min))"
   ]
  },
  {
   "cell_type": "code",
   "execution_count": 74,
   "metadata": {},
   "outputs": [],
   "source": [
    "mm, zz = np.meshgrid(log_m_bh_range_norm, z_range, indexing='ij')"
   ]
  },
  {
   "cell_type": "code",
   "execution_count": 75,
   "metadata": {},
   "outputs": [
    {
     "data": {
      "application/vnd.jupyter.widget-view+json": {
       "model_id": "db05717d29974968b2ffa32c79559ee3",
       "version_major": 2,
       "version_minor": 0
      },
      "text/plain": [
       "  0%|          | 0/544 [00:00<?, ?it/s]"
      ]
     },
     "metadata": {},
     "output_type": "display_data"
    }
   ],
   "source": [
    "with mp.Pool(mp.cpu_count()) as p:\n",
    "    differential_quasar_population = list(p.starmap(quasar_formation_rate,\n",
    "                             tqdm(zip(mm.ravel(), zz.ravel()),\n",
    "                      total=len(mm.ravel()))))\n",
    "\n",
    "differential_quasar_population = np.reshape(differential_quasar_population, np.repeat(mm[..., np.newaxis], n_samples, axis=-1).shape)"
   ]
  },
  {
   "cell_type": "code",
   "execution_count": 76,
   "metadata": {},
   "outputs": [
    {
     "data": {
      "text/latex": [
       "$\\displaystyle \\Phi_{\\rm{AGN}, 0} = (1.8_{-1.1}^{+2.4}) \\times 10^{-6.0}\\;\\rm{Mpc}^{-3}$"
      ],
      "text/plain": [
       "<IPython.core.display.Math object>"
      ]
     },
     "metadata": {},
     "output_type": "display_data"
    }
   ],
   "source": [
    "local_quasar_number_density = trapz(differential_quasar_population, log_m_bh_range_norm, axis=0)[0]\n",
    "\n",
    "quantiles = np.quantile(local_quasar_number_density, q=[.16, .5, .84])\n",
    "order = 10. ** np.floor(np.log10(quantiles[1]))\n",
    "display(Math(r'\\Phi_{{\\rm{{AGN}}, 0}} = ({0:.1f}_{{-{1:.1f}}}^{{+{2:.1f}}})'\n",
    "             r' \\times 10^{{{3}}}\\;\\rm{{Mpc}}^{{-3}}'.format(quantiles[1] / order,\n",
    "                                          (quantiles[1] - quantiles[0]) / order,\n",
    "                                          (quantiles[2] - quantiles[1]) / order,\n",
    "                                          np.log10(order))))"
   ]
  },
  {
   "cell_type": "code",
   "execution_count": 77,
   "metadata": {},
   "outputs": [],
   "source": [
    "local_qso_number_density = Const1D(amplitude=local_quasar_number_density, n_models=n_samples)"
   ]
  },
  {
   "cell_type": "code",
   "execution_count": 78,
   "metadata": {},
   "outputs": [
    {
     "name": "stdout",
     "output_type": "stream",
     "text": [
      "Model: Const1D\n",
      "Inputs: ('x',)\n",
      "Outputs: ('y',)\n",
      "Model set size: 1024\n",
      "Parameters:\n",
      "          amplitude       \n",
      "    ----------------------\n",
      "     2.059880278456499e-06\n",
      "    4.1200870686767266e-07\n",
      "    1.3197933941847415e-06\n",
      "     1.850761335462154e-06\n",
      "    1.0521983486574534e-06\n",
      "     7.938635750539172e-07\n",
      "      3.69840511294031e-06\n",
      "     9.431212699697228e-07\n",
      "    1.5115019993257392e-06\n",
      "    1.3175606742126884e-06\n",
      "                       ...\n",
      "    3.7874256721072724e-06\n",
      "     2.292431573705822e-06\n",
      "    3.0739627073957383e-07\n",
      "    1.3079163059401968e-06\n",
      "    2.0571713132864576e-06\n",
      "    2.7888510711125658e-06\n",
      "    1.7680611495781456e-06\n",
      "     9.564531804141494e-07\n",
      "     8.531358298165907e-07\n",
      "    6.3309063970425355e-06\n",
      "    3.7598450440485527e-07\n",
      "    Length = 1024 rows\n"
     ]
    }
   ],
   "source": [
    "print(local_qso_number_density)\n",
    "with open('../models/local_qso_number_density.pkl', 'wb') as f:\n",
    "    pickle.dump(local_qso_number_density, f)"
   ]
  },
  {
   "cell_type": "code",
   "execution_count": 79,
   "metadata": {},
   "outputs": [
    {
     "data": {
      "text/latex": [
       "$\\displaystyle \\int_{0.25}^{1} p(q) dq = 0.3$"
      ],
      "text/plain": [
       "<IPython.core.display.Math object>"
      ]
     },
     "metadata": {},
     "output_type": "display_data"
    }
   ],
   "source": [
    "q_factor = np.trapz(np.array([q_distrib(q) for q in q_range]), q_range, axis=0)\n",
    "\n",
    "quantiles = np.quantile(q_factor, q=[.16, .5, .84])\n",
    "order = 10. ** np.floor(np.log10(quantiles[1]))\n",
    "display(Math(r'\\int_{{0.25}}^{{1}} p(q) dq = {0:.1f}'.format(quantiles[1])))"
   ]
  },
  {
   "cell_type": "markdown",
   "metadata": {},
   "source": [
    "#### AGN-SMBHB model distribution"
   ]
  },
  {
   "cell_type": "code",
   "execution_count": 80,
   "metadata": {},
   "outputs": [],
   "source": [
    "differential_smbhb_population_distribution = QuasarProxyBinaries(log_local_smbhb_n_dens=np.zeros(n_samples),\n",
    "                                                                 log_local_agn_n_dens=np.log10(local_quasar_number_density),\n",
    "                                                                 log_m_min=np.repeat(7, n_samples),  # unused in this experiment\n",
    "                                                                 z_max=np.repeat(z_max, n_samples),  # unused in this experiment\n",
    "                                                                 q_min=np.repeat(.25, n_samples),\n",
    "                                                                 log_formation_rate_normalization=log_formation_rate_normalization,\n",
    "                                                                 log_formation_rate_power_law_slope=log_formation_rate_power_law_slope,\n",
    "                                                                 log_mass_break_normalization=log_mass_break_normalization,\n",
    "                                                                 log_mass_break_k_1=log_mass_break_k_1,\n",
    "                                                                 log_mass_break_k_2=log_mass_break_k_2,\n",
    "                                                                 low_mass_slope=low_mass_slope,\n",
    "                                                                 high_mass_slope_normalization=high_mass_slope_normalization,\n",
    "                                                                 high_mass_slope_k_1=high_mass_slope_k_1,\n",
    "                                                                 high_mass_slope_k_2=high_mass_slope_k_2,\n",
    "                                                                 z_ref=z_ref,\n",
    "                                                                 mu_log_q=median_log_q,\n",
    "                                                                 std_log_q=var_log_q,\n",
    "                                                                 n_models=n_samples)"
   ]
  },
  {
   "cell_type": "code",
   "execution_count": 81,
   "metadata": {},
   "outputs": [
    {
     "name": "stdout",
     "output_type": "stream",
     "text": [
      "Model: QuasarProxyBinaries\n",
      "Inputs: ('x0', 'x1', 'x2')\n",
      "Outputs: ('x0',)\n",
      "Model set size: 1024\n",
      "Parameters:\n",
      "    log_local_smbhb_n_dens log_local_agn_n_dens log_m_min ... mu_log_q std_log_q\n",
      "    ---------------------- -------------------- --------- ... -------- ---------\n",
      "                       0.0   -5.686158020367086       7.0 ...     0.25       0.5\n",
      "                       0.0   -6.385093606043007       7.0 ...     0.25       0.5\n",
      "                       0.0    -5.87949404969438       7.0 ...     0.25       0.5\n",
      "                       0.0   -5.732649581989749       7.0 ...     0.25       0.5\n",
      "                       0.0   -5.977902384129354       7.0 ...     0.25       0.5\n",
      "                       0.0   -6.100254124388902       7.0 ...     0.25       0.5\n",
      "                       0.0    -5.43198551916974       7.0 ...     0.25       0.5\n",
      "                       0.0   -6.025432460505009       7.0 ...     0.25       0.5\n",
      "                       0.0   -5.820591274026646       7.0 ...     0.25       0.5\n",
      "                       0.0   -5.880229376214824       7.0 ...     0.25       0.5\n",
      "                       ...                  ...       ... ...      ...       ...\n",
      "                       0.0   -5.421655881396677       7.0 ...     0.25       0.5\n",
      "                       0.0   -5.639703618626528       7.0 ...     0.25       0.5\n",
      "                       0.0   -6.512301405564474       7.0 ...     0.25       0.5\n",
      "                       0.0   -5.883420045791012       7.0 ...     0.25       0.5\n",
      "                       0.0   -5.686729540431183       7.0 ...     0.25       0.5\n",
      "                       0.0   -5.554574677100374       7.0 ...     0.25       0.5\n",
      "                       0.0   -5.752502718697884       7.0 ...     0.25       0.5\n",
      "                       0.0   -6.019336284377351       7.0 ...     0.25       0.5\n",
      "                       0.0   -6.068981818253822       7.0 ...     0.25       0.5\n",
      "                       0.0   -5.198534107509714       7.0 ...     0.25       0.5\n",
      "                       0.0   -6.424830053450369       7.0 ...     0.25       0.5\n",
      "    Length = 1024 rows\n"
     ]
    }
   ],
   "source": [
    "print(differential_smbhb_population_distribution)\n",
    "with open('../models/SMBHBPopulation.pkl', 'wb') as f:\n",
    "    pickle.dump(differential_smbhb_population_distribution, f)"
   ]
  },
  {
   "cell_type": "code",
   "execution_count": 82,
   "metadata": {},
   "outputs": [],
   "source": [
    "mm, zz, qq = np.meshgrid(log_m_bh_range, z_range, q_range, indexing='ij')"
   ]
  },
  {
   "cell_type": "code",
   "execution_count": 83,
   "metadata": {},
   "outputs": [
    {
     "data": {
      "application/vnd.jupyter.widget-view+json": {
       "model_id": "ee615ea31eb14b66aa7f0e10dff9d3b9",
       "version_major": 2,
       "version_minor": 0
      },
      "text/plain": [
       "  0%|          | 0/34816 [00:00<?, ?it/s]"
      ]
     },
     "metadata": {},
     "output_type": "display_data"
    }
   ],
   "source": [
    "with mp.Pool(mp.cpu_count()) as p:\n",
    "    differential_bhb_population_dist = list(p.starmap(differential_smbhb_population_distribution,\n",
    "                             tqdm(zip(mm.ravel(), zz.ravel(), qq.ravel()),\n",
    "                      total=len(mm.ravel()))))\n",
    "\n",
    "differential_bhb_population_dist = np.reshape(differential_bhb_population_dist, np.repeat(mm[..., np.newaxis], n_samples, axis=-1).shape)"
   ]
  },
  {
   "cell_type": "markdown",
   "metadata": {},
   "source": [
    "with a \"measurement\" of the background, we can use the above parameterization to directly solve for the local number density of SMBHBs"
   ]
  },
  {
   "cell_type": "code",
   "execution_count": 84,
   "metadata": {},
   "outputs": [],
   "source": [
    "coeffs = 4. * const.G ** (5. / 3.) / (3. * np.pi ** (1. / 3.)\n",
    "                                      * (const.c ** 2)\n",
    "                                      * (fidhz ** (4. / 3.)))"
   ]
  },
  {
   "cell_type": "code",
   "execution_count": 85,
   "metadata": {},
   "outputs": [],
   "source": [
    "hc_integrand = (coeffs * differential_bhb_population_dist * ((10 ** (mm * (5 / 3)))\n",
    "                                                        * (qq / ((1 + qq) ** (1 / 3)))\n",
    "                                                        / ((1 + zz) ** (1. / 3.)))[..., np.newaxis]\n",
    "                * (u.Msun ** (5 / 3)) / (u.Mpc ** 3))\n",
    "\n",
    "log_hc = np.log10(trapz(trapz(trapz(hc_integrand.to(''), log_m_bh_range, axis=0), z_range, axis=0), q_range, axis=0))"
   ]
  },
  {
   "cell_type": "code",
   "execution_count": 86,
   "metadata": {},
   "outputs": [
    {
     "data": {
      "text/latex": [
       "$\\displaystyle \\Phi_{\\rm{BHB}, 0} = (6.6_{-3.8}^{+9.6}) \\times 10^{-6.0}\\;\\rm{Mpc}^{-3}$"
      ],
      "text/plain": [
       "<IPython.core.display.Math object>"
      ]
     },
     "metadata": {},
     "output_type": "display_data"
    }
   ],
   "source": [
    "log_local_binary_number_density = 2 * NANOGrav_log_strain - log_hc\n",
    "local_binary_number_density_agn = Const1D(amplitude=10 ** log_local_binary_number_density, n_models=n_samples)\n",
    "\n",
    "quantiles = np.quantile(local_binary_number_density_agn(0), q=[.16, .5, .84])\n",
    "order = 10. ** np.floor(np.log10(quantiles[1]))\n",
    "display(Math(r'\\Phi_{{\\rm{{BHB}}, 0}} = ({0:.1f}_{{-{1:.1f}}}^{{+{2:.1f}}})'\n",
    "             r' \\times 10^{{{3}}}\\;\\rm{{Mpc}}^{{-3}}'.format(quantiles[1] / order,\n",
    "                                          (quantiles[1] - quantiles[0]) / order,\n",
    "                                          (quantiles[2] - quantiles[1]) / order,\n",
    "                                          np.log10(order))))"
   ]
  },
  {
   "cell_type": "code",
   "execution_count": 87,
   "metadata": {},
   "outputs": [
    {
     "data": {
      "text/latex": [
       "$\\displaystyle \\frac{\\Phi_{\\rm{BHB}, 0}}{\\Phi_{\\rm{BHB, M17}}} = 4.1_{-2.4}^{+5.9}$"
      ],
      "text/plain": [
       "<IPython.core.display.Math object>"
      ]
     },
     "metadata": {},
     "output_type": "display_data"
    }
   ],
   "source": [
    "binary_ratio = (10 ** log_local_binary_number_density) / local_binary_number_density_mingarelli.amplitude\n",
    "\n",
    "quantiles = np.quantile(binary_ratio, q=[.16, .5, .84])\n",
    "display(Math(r'\\frac{{\\Phi_{{\\rm{{BHB}}, 0}}}}{{\\Phi_{{\\rm{{BHB, M17}}}}}} = {0:.1f}_{{-{1:.1f}}}^{{+{2:.1f}}}'.format(quantiles[1],\n",
    "                                          quantiles[1] - quantiles[0],\n",
    "                                          quantiles[2] - quantiles[1])))"
   ]
  },
  {
   "cell_type": "code",
   "execution_count": 88,
   "metadata": {},
   "outputs": [
    {
     "data": {
      "text/latex": [
       "$\\displaystyle \\Phi_{\\rm{BHB}, 0} = (1.0_{-0.4}^{+0.6}) \\times 10^{-3.0}\\;\\rm{Mpc}^{-3}$"
      ],
      "text/plain": [
       "<IPython.core.display.Math object>"
      ]
     },
     "metadata": {},
     "output_type": "display_data"
    }
   ],
   "source": [
    "expanded_log_local_binary_number_density = (np.log10(trapz(trapz(differential_bhb_population_dist, log_m_bh_range, axis=0), q_range, axis=1)[0])\n",
    "                                            + log_local_binary_number_density)\n",
    "expanded_local_binary_number_density_agn = Const1D(amplitude=10 ** expanded_log_local_binary_number_density, n_models=n_samples)\n",
    "\n",
    "quantiles = np.quantile(expanded_local_binary_number_density_agn(0), q=[.16, .5, .84])\n",
    "order = 10. ** np.floor(np.log10(quantiles[1]))\n",
    "display(Math(r'\\Phi_{{\\rm{{BHB}}, 0}} = ({0:.1f}_{{-{1:.1f}}}^{{+{2:.1f}}})'\n",
    "             r' \\times 10^{{{3}}}\\;\\rm{{Mpc}}^{{-3}}'.format(quantiles[1] / order,\n",
    "                                          (quantiles[1] - quantiles[0]) / order,\n",
    "                                          (quantiles[2] - quantiles[1]) / order,\n",
    "                                          np.log10(order))))"
   ]
  },
  {
   "cell_type": "markdown",
   "metadata": {},
   "source": [
    "#### AGN-SMBHB model"
   ]
  },
  {
   "cell_type": "code",
   "execution_count": 89,
   "metadata": {},
   "outputs": [],
   "source": [
    "differential_smbhb_population = QuasarProxyBinaries(log_local_smbhb_n_dens=log_local_binary_number_density,\n",
    "                                                    log_local_agn_n_dens=np.log10(local_quasar_number_density),\n",
    "                                                    log_m_min=np.repeat(7, n_samples),  # unused in this experiment\n",
    "                                                    z_max=np.repeat(z_max, n_samples),  # unused in this experiment\n",
    "                                                    q_min=np.repeat(.25, n_samples),\n",
    "                                                    log_formation_rate_normalization=log_formation_rate_normalization,\n",
    "                                                    log_formation_rate_power_law_slope=log_formation_rate_power_law_slope,\n",
    "                                                    log_mass_break_normalization=log_mass_break_normalization,\n",
    "                                                    log_mass_break_k_1=log_mass_break_k_1,\n",
    "                                                    log_mass_break_k_2=log_mass_break_k_2,\n",
    "                                                    low_mass_slope=low_mass_slope,\n",
    "                                                    high_mass_slope_normalization=high_mass_slope_normalization,\n",
    "                                                    high_mass_slope_k_1=high_mass_slope_k_1,\n",
    "                                                    high_mass_slope_k_2=high_mass_slope_k_2,\n",
    "                                                    z_ref=z_ref,\n",
    "                                                    mu_log_q=median_log_q,\n",
    "                                                    std_log_q=var_log_q,\n",
    "                                                    n_models=n_samples)"
   ]
  },
  {
   "cell_type": "code",
   "execution_count": 90,
   "metadata": {},
   "outputs": [
    {
     "name": "stdout",
     "output_type": "stream",
     "text": [
      "Model: QuasarProxyBinaries\n",
      "Inputs: ('x0', 'x1', 'x2')\n",
      "Outputs: ('x0',)\n",
      "Model set size: 1024\n",
      "Parameters:\n",
      "    log_local_smbhb_n_dens log_local_agn_n_dens log_m_min ... mu_log_q std_log_q\n",
      "                                                          ...                   \n",
      "    ---------------------- -------------------- --------- ... -------- ---------\n",
      "        -5.175135737504522   -5.686158020367086       7.0 ...     0.25       0.5\n",
      "        -5.844491210764222   -6.385093606043007       7.0 ...     0.25       0.5\n",
      "        -5.457611867925404    -5.87949404969438       7.0 ...     0.25       0.5\n",
      "        -5.177626350799169   -5.732649581989749       7.0 ...     0.25       0.5\n",
      "        -5.695674502735681   -5.977902384129354       7.0 ...     0.25       0.5\n",
      "        -5.684579633355209   -6.100254124388902       7.0 ...     0.25       0.5\n",
      "        -4.901451381106963    -5.43198551916974       7.0 ...     0.25       0.5\n",
      "        -5.543195232370763   -6.025432460505009       7.0 ...     0.25       0.5\n",
      "        -5.238095070317652   -5.820591274026646       7.0 ...     0.25       0.5\n",
      "        -5.325290751363717   -5.880229376214824       7.0 ...     0.25       0.5\n",
      "                       ...                  ...       ... ...      ...       ...\n",
      "       -5.1724618267021185   -5.639703618626528       7.0 ...     0.25       0.5\n",
      "        -5.922593732393228   -6.512301405564474       7.0 ...     0.25       0.5\n",
      "        -5.164274842199248   -5.883420045791012       7.0 ...     0.25       0.5\n",
      "       -5.3403418714852116   -5.686729540431183       7.0 ...     0.25       0.5\n",
      "        -4.701843454974512   -5.554574677100374       7.0 ...     0.25       0.5\n",
      "        -5.401691202713561   -5.752502718697884       7.0 ...     0.25       0.5\n",
      "       -5.4521026516965705   -6.019336284377351       7.0 ...     0.25       0.5\n",
      "        -5.405173379344426   -6.068981818253822       7.0 ...     0.25       0.5\n",
      "        -4.789458550344445   -5.198534107509714       7.0 ...     0.25       0.5\n",
      "        -5.686219338535363   -6.424830053450369       7.0 ...     0.25       0.5\n",
      "    Length = 1024 rows\n"
     ]
    }
   ],
   "source": [
    "print(differential_smbhb_population)\n",
    "with open('../models/SMBHBPopulation.pkl', 'wb') as f:\n",
    "    pickle.dump(differential_smbhb_population, f)"
   ]
  },
  {
   "cell_type": "markdown",
   "metadata": {},
   "source": [
    "#### AGN-SMBHB M17 model"
   ]
  },
  {
   "cell_type": "code",
   "execution_count": 91,
   "metadata": {},
   "outputs": [],
   "source": [
    "# Add normalization masses to our mass range explicitly\n",
    "log_m_bh_range_norm_mingarelli = np.sort(np.append(log_m_bh_range, log_m_bh_min_mingarelli))\n",
    "log_m_bh_range_norm_mingarelli = np.sort(np.append(log_m_bh_range_norm_mingarelli, log_m_bh_max_mingarelli))\n",
    "log_m_bh_range_norm_mingarelli = log_m_bh_range_norm_mingarelli[(log_m_bh_range_norm_mingarelli >= log_m_bh_min_mingarelli)\n",
    "                                                                & (log_m_bh_range_norm_mingarelli <= log_m_bh_max_mingarelli)]"
   ]
  },
  {
   "cell_type": "code",
   "execution_count": 92,
   "metadata": {},
   "outputs": [],
   "source": [
    "mm, zz = np.meshgrid(log_m_bh_range_norm_mingarelli, z_range, indexing='ij')"
   ]
  },
  {
   "cell_type": "code",
   "execution_count": 93,
   "metadata": {},
   "outputs": [
    {
     "data": {
      "application/vnd.jupyter.widget-view+json": {
       "model_id": "0e1aeb4f77db4e778b9c155cb2993a34",
       "version_major": 2,
       "version_minor": 0
      },
      "text/plain": [
       "  0%|          | 0/608 [00:00<?, ?it/s]"
      ]
     },
     "metadata": {},
     "output_type": "display_data"
    }
   ],
   "source": [
    "with mp.Pool(mp.cpu_count()) as p:\n",
    "    differential_quasar_population_mingarelli = list(p.starmap(quasar_formation_rate,\n",
    "                             tqdm(zip(mm.ravel(), zz.ravel()),\n",
    "                      total=len(mm.ravel()))))\n",
    "\n",
    "differential_quasar_population_mingarelli = np.reshape(differential_quasar_population_mingarelli, np.repeat(mm[..., np.newaxis], n_samples, axis=-1).shape)"
   ]
  },
  {
   "cell_type": "code",
   "execution_count": 94,
   "metadata": {},
   "outputs": [
    {
     "data": {
      "text/latex": [
       "$\\displaystyle \\Phi_{\\rm{AGN}, 0} = (1.8_{-1.1}^{+2.4}) \\times 10^{-6.0}\\;\\rm{Mpc}^{-3}$"
      ],
      "text/plain": [
       "<IPython.core.display.Math object>"
      ]
     },
     "metadata": {},
     "output_type": "display_data"
    }
   ],
   "source": [
    "local_quasar_number_density_mingarelli = trapz(differential_quasar_population_mingarelli, log_m_bh_range_norm_mingarelli, axis=0)[0]\n",
    "\n",
    "quantiles = np.quantile(local_quasar_number_density_mingarelli, q=[.16, .5, .84])\n",
    "order = 10. ** np.floor(np.log10(quantiles[1]))\n",
    "display(Math(r'\\Phi_{{\\rm{{AGN}}, 0}} = ({0:.1f}_{{-{1:.1f}}}^{{+{2:.1f}}})'\n",
    "             r' \\times 10^{{{3}}}\\;\\rm{{Mpc}}^{{-3}}'.format(quantiles[1] / order,\n",
    "                                          (quantiles[1] - quantiles[0]) / order,\n",
    "                                          (quantiles[2] - quantiles[1]) / order,\n",
    "                                          np.log10(order))))"
   ]
  },
  {
   "cell_type": "code",
   "execution_count": 95,
   "metadata": {},
   "outputs": [],
   "source": [
    "local_qso_number_density_mingarelli = Const1D(amplitude=local_quasar_number_density_mingarelli, n_models=n_samples)"
   ]
  },
  {
   "cell_type": "code",
   "execution_count": 96,
   "metadata": {},
   "outputs": [
    {
     "data": {
      "text/latex": [
       "$\\displaystyle \\frac{\\Phi_{\\rm{BHB}, M17}}{\\Phi_{\\rm{AGN}, 0}} = 0.9_{-0.5}^{+1.4}$"
      ],
      "text/plain": [
       "<IPython.core.display.Math object>"
      ]
     },
     "metadata": {},
     "output_type": "display_data"
    }
   ],
   "source": [
    "binary_agn_ratio = local_binary_number_density_mingarelli.amplitude / local_quasar_number_density_mingarelli\n",
    "\n",
    "quantiles = np.quantile(binary_agn_ratio, q=[.16, .5, .84])\n",
    "display(Math(r'\\frac{{\\Phi_{{\\rm{{BHB}}, M17}}}}{{\\Phi_{{\\rm{{AGN}}, 0}}}} = {0:.1f}_{{-{1:.1f}}}^{{+{2:.1f}}}'.format(quantiles[1],\n",
    "                                          quantiles[1] - quantiles[0],\n",
    "                                          quantiles[2] - quantiles[1])))"
   ]
  },
  {
   "cell_type": "code",
   "execution_count": 97,
   "metadata": {},
   "outputs": [
    {
     "name": "stdout",
     "output_type": "stream",
     "text": [
      "Model: Const1D\n",
      "Inputs: ('x',)\n",
      "Outputs: ('y',)\n",
      "Model set size: 1024\n",
      "Parameters:\n",
      "          amplitude       \n",
      "    ----------------------\n",
      "     2.059880278456499e-06\n",
      "    4.1200870686767266e-07\n",
      "    1.3197933941847415e-06\n",
      "     1.850761335462154e-06\n",
      "    1.0521983486574534e-06\n",
      "     7.938635750539172e-07\n",
      "      3.69840511294031e-06\n",
      "     9.431212699697228e-07\n",
      "    1.5115019993257392e-06\n",
      "    1.3175606742126884e-06\n",
      "                       ...\n",
      "    3.7874256721072724e-06\n",
      "     2.292431573705822e-06\n",
      "    3.0739627073957383e-07\n",
      "    1.3079163059401968e-06\n",
      "    2.0571713132864576e-06\n",
      "    2.7888510711125658e-06\n",
      "    1.7680611495781456e-06\n",
      "     9.564531804141494e-07\n",
      "     8.531358298165907e-07\n",
      "    6.3309063970425355e-06\n",
      "    3.7598450440485527e-07\n",
      "    Length = 1024 rows\n"
     ]
    }
   ],
   "source": [
    "print(local_qso_number_density_mingarelli)\n",
    "with open('../models/local_qso_number_density_m17.pkl', 'wb') as f:\n",
    "    pickle.dump(local_qso_number_density, f)"
   ]
  },
  {
   "cell_type": "code",
   "execution_count": 98,
   "metadata": {},
   "outputs": [],
   "source": [
    "differential_smbhb_population_mingarelli = QuasarProxyBinaries(log_local_smbhb_n_dens=np.log10(local_binary_number_density_mingarelli.amplitude),\n",
    "                                                               log_local_agn_n_dens=np.log10(local_quasar_number_density_mingarelli),\n",
    "                                                               log_m_min=np.repeat(7, n_samples),  # unused in this experiment\n",
    "                                                               z_max=np.repeat(z_max, n_samples),  # unused in this experiment\n",
    "                                                               q_min=np.repeat(.25, n_samples),\n",
    "                                                               log_formation_rate_normalization=log_formation_rate_normalization,\n",
    "                                                               log_formation_rate_power_law_slope=log_formation_rate_power_law_slope,\n",
    "                                                               log_mass_break_normalization=log_mass_break_normalization,\n",
    "                                                               log_mass_break_k_1=log_mass_break_k_1,\n",
    "                                                               log_mass_break_k_2=log_mass_break_k_2,\n",
    "                                                               low_mass_slope=low_mass_slope,\n",
    "                                                               high_mass_slope_normalization=high_mass_slope_normalization,\n",
    "                                                               high_mass_slope_k_1=high_mass_slope_k_1,\n",
    "                                                               high_mass_slope_k_2=high_mass_slope_k_2,\n",
    "                                                               z_ref=z_ref,\n",
    "                                                               mu_log_q=median_log_q,\n",
    "                                                               std_log_q=var_log_q,\n",
    "                                                               n_models=n_samples)"
   ]
  },
  {
   "cell_type": "code",
   "execution_count": 99,
   "metadata": {},
   "outputs": [
    {
     "name": "stdout",
     "output_type": "stream",
     "text": [
      "Model: QuasarProxyBinaries\n",
      "Inputs: ('x0', 'x1', 'x2')\n",
      "Outputs: ('x0',)\n",
      "Model set size: 1024\n",
      "Parameters:\n",
      "    log_local_smbhb_n_dens log_local_agn_n_dens log_m_min ... mu_log_q std_log_q\n",
      "    ---------------------- -------------------- --------- ... -------- ---------\n",
      "       -5.8353089491648005   -5.686158020367086       7.0 ...     0.25       0.5\n",
      "        -5.749122801548517   -6.385093606043007       7.0 ...     0.25       0.5\n",
      "        -5.819703875834224    -5.87949404969438       7.0 ...     0.25       0.5\n",
      "        -5.809603548929899   -5.732649581989749       7.0 ...     0.25       0.5\n",
      "        -5.790081409227423   -5.977902384129354       7.0 ...     0.25       0.5\n",
      "        -5.799732794903605   -6.100254124388902       7.0 ...     0.25       0.5\n",
      "        -5.794880292109193    -5.43198551916974       7.0 ...     0.25       0.5\n",
      "       -5.7853349742029625   -6.025432460505009       7.0 ...     0.25       0.5\n",
      "         -5.77139919625967   -5.820591274026646       7.0 ...     0.25       0.5\n",
      "        -5.775994947948819   -5.880229376214824       7.0 ...     0.25       0.5\n",
      "                       ...                  ...       ... ...      ...       ...\n",
      "       -5.7853349742029625   -5.421655881396677       7.0 ...     0.25       0.5\n",
      "        -5.766851568508949   -5.639703618626528       7.0 ...     0.25       0.5\n",
      "        -5.809603548929899   -6.512301405564474       7.0 ...     0.25       0.5\n",
      "        -5.749122801548517   -5.883420045791012       7.0 ...     0.25       0.5\n",
      "        -5.790081409227423   -5.686729540431183       7.0 ...     0.25       0.5\n",
      "        -5.799732794903605   -5.554574677100374       7.0 ...     0.25       0.5\n",
      "        -5.824843515486636   -5.752502718697884       7.0 ...     0.25       0.5\n",
      "        -5.723816936283747   -6.019336284377351       7.0 ...     0.25       0.5\n",
      "       -5.7853349742029625   -6.068981818253822       7.0 ...     0.25       0.5\n",
      "        -5.727933502478579   -5.198534107509714       7.0 ...     0.25       0.5\n",
      "       -5.7534876069509675   -6.424830053450369       7.0 ...     0.25       0.5\n",
      "    Length = 1024 rows\n"
     ]
    }
   ],
   "source": [
    "print(differential_smbhb_population_mingarelli)\n",
    "with open('../models/SMBHBPopulation_mingarelli.pkl', 'wb') as f:\n",
    "    pickle.dump(differential_smbhb_population_mingarelli, f)"
   ]
  },
  {
   "cell_type": "markdown",
   "metadata": {},
   "source": [
    "### Goulding+ (2019)"
   ]
  },
  {
   "cell_type": "markdown",
   "metadata": {},
   "source": [
    "#### Normalization"
   ]
  },
  {
   "cell_type": "code",
   "execution_count": 100,
   "metadata": {},
   "outputs": [
    {
     "data": {
      "text/latex": [
       "$\\displaystyle n_{G+19} = (4.1_{-2.7}^{+3.4}) \\times 10^{-7.0} \\text{Mpc}^{-3}$"
      ],
      "text/plain": [
       "<IPython.core.display.Math object>"
      ]
     },
     "metadata": {},
     "output_type": "display_data"
    }
   ],
   "source": [
    "# Get data used for Goulding+ (2019) number densities, as well as calculate their local number density of sources\n",
    "zqso, nz1_, nz2_, nz3_ = np.loadtxt('../data/external/qso2_num_density.txt', unpack=True)\n",
    "\n",
    "nz1_ = u.Quantity(nz1_, 1./u.Mpc**3)*.25\n",
    "nz2_ = u.Quantity(nz2_, 1./u.Mpc**3)*.25\n",
    "nz3_ = u.Quantity(nz3_, 1./u.Mpc**3)*.25\n",
    "\n",
    "oh2index = np.where(zqso==0.2)\n",
    "nz1 = (nz1_[oh2index]-nz1_[0])+nz1_\n",
    "nz2 = (nz2_[oh2index]-nz2_[0])+nz2_\n",
    "nz3 = (nz3_[oh2index]-nz3_[0])+nz3_\n",
    "\n",
    "nd_goulding = np.vstack([nz3, nz2, nz1]) * 1. / u.Mpc ** 3\n",
    "\n",
    "nz_goulding = UnivariateSpline(zqso, nd_goulding[1], s=0)\n",
    "nz_goulding_l = UnivariateSpline(zqso, nd_goulding[0], s=0)\n",
    "nz_goulding_h = UnivariateSpline(zqso, nd_goulding[2], s=0)\n",
    "\n",
    "# now we can find n(z=0)\n",
    "order = 10. ** np.floor(np.log10(nz_goulding(0)))\n",
    "nz_fid = nz_goulding(0)\n",
    "unc_l = nz_fid - nz_goulding_l(0)\n",
    "unc_h = nz_goulding_h(0) - nz_fid\n",
    "display(Math(r'n_{{G+19}} = ({0:.1f}_{{-{1:.1f}}}^{{+{2:.1f}}})'\n",
    "             r' \\times 10^{{{3}}} \\text{{Mpc}}^{{-3}}'\n",
    "             .format(nz_fid / order,\n",
    "                     unc_l / order,\n",
    "                     unc_h / order, np.log10(order))))"
   ]
  },
  {
   "cell_type": "code",
   "execution_count": 101,
   "metadata": {},
   "outputs": [
    {
     "data": {
      "text/latex": [
       "$\\displaystyle \\Phi_{\\rm{BHB}, 0, \\rm{G19}} = (4.2_{-2.7}^{+3.0}) \\times 10^{-7.0}\\;\\rm{Mpc}^{-3}$"
      ],
      "text/plain": [
       "<IPython.core.display.Math object>"
      ]
     },
     "metadata": {},
     "output_type": "display_data"
    }
   ],
   "source": [
    "# resample for Monte Carlo statistics\n",
    "# need to do some rescaling on the location and scale params to get similar statistics, not sure why but it works\n",
    "local_dual_agn_number_density = split_normal(loc=nz_fid - 3.3e-7, scale1=unc_l + 7e-8, scale2=unc_h + 1e-7, a=0).rvs(size=n_samples)\n",
    "# local_dual_agn_number_density = split_normal(loc=nz_fid - (np.sqrt(2 / np.pi) * (unc_h - unc_l)), scale1=unc_l, scale2=unc_h, a=0).rvs(size=n_samples)\n",
    "\n",
    "quantiles = np.quantile(local_dual_agn_number_density, q=[.16, .5, .84])\n",
    "order = 10. ** np.floor(np.log10(quantiles[1]))\n",
    "display(Math(r'\\Phi_{{\\rm{{BHB}}, 0, \\rm{{G19}}}} = ({0:.1f}_{{-{1:.1f}}}^{{+{2:.1f}}})'\n",
    "             r' \\times 10^{{{3}}}\\;\\rm{{Mpc}}^{{-3}}'.format(quantiles[1] / order,\n",
    "                                          (quantiles[1] - quantiles[0]) / order,\n",
    "                                          (quantiles[2] - quantiles[1]) / order,\n",
    "                                          np.log10(order))))"
   ]
  },
  {
   "cell_type": "code",
   "execution_count": 102,
   "metadata": {},
   "outputs": [],
   "source": [
    "# Add normalization masses to our mass range explicitly\n",
    "# TODO: Efficiency updates to mass range generation and local z used\n",
    "log_m_bh_range_norm_G19 = np.sort(np.append(log_m_bh_range, log_m_chirp_min_goulding))\n",
    "log_m_bh_range_norm_G19 = np.sort(np.append(log_m_bh_range_norm_G19, log_m_chirp_max_goulding))\n",
    "log_m_bh_range_norm_G19 = log_m_bh_range_norm_G19[(log_m_bh_range_norm_G19 >= log_m_chirp_min_goulding)\n",
    "                                              & (log_m_bh_range_norm_G19 <= log_m_chirp_max_goulding)]"
   ]
  },
  {
   "cell_type": "code",
   "execution_count": 103,
   "metadata": {},
   "outputs": [],
   "source": [
    "mm, zz = np.meshgrid(log_m_bh_range_norm_G19, z_range, indexing='ij')"
   ]
  },
  {
   "cell_type": "code",
   "execution_count": 104,
   "metadata": {},
   "outputs": [
    {
     "data": {
      "application/vnd.jupyter.widget-view+json": {
       "model_id": "12f423c9ab1f45c5857bab99b5dcedd1",
       "version_major": 2,
       "version_minor": 0
      },
      "text/plain": [
       "  0%|          | 0/768 [00:00<?, ?it/s]"
      ]
     },
     "metadata": {},
     "output_type": "display_data"
    }
   ],
   "source": [
    "with mp.Pool(mp.cpu_count()) as p:\n",
    "    G19_differential_quasar_population = list(p.starmap(j1010_quasars,\n",
    "                                                        tqdm(zip(mm.ravel(), zz.ravel()),\n",
    "                                                             total=len(mm.ravel()))))\n",
    "\n",
    "G19_differential_quasar_population = np.reshape(G19_differential_quasar_population, np.repeat(mm[..., np.newaxis], n_samples, axis=-1).shape)"
   ]
  },
  {
   "cell_type": "code",
   "execution_count": 105,
   "metadata": {},
   "outputs": [
    {
     "data": {
      "text/latex": [
       "$\\displaystyle \\Phi_{\\rm{AGN}, 0} = (3.9_{-1.5}^{+2.5}) \\times 10^{-10.0}\\;\\rm{Mpc}^{-3}$"
      ],
      "text/plain": [
       "<IPython.core.display.Math object>"
      ]
     },
     "metadata": {},
     "output_type": "display_data"
    }
   ],
   "source": [
    "G19_local_quasar_number_density = trapz(G19_differential_quasar_population, log_m_bh_range_norm_G19, axis=0)[0]\n",
    "\n",
    "quantiles = np.quantile(G19_local_quasar_number_density, q=[.16, .5, .84])\n",
    "order = 10. ** np.floor(np.log10(quantiles[1]))\n",
    "display(Math(r'\\Phi_{{\\rm{{AGN}}, 0}} = ({0:.1f}_{{-{1:.1f}}}^{{+{2:.1f}}})'\n",
    "             r' \\times 10^{{{3}}}\\;\\rm{{Mpc}}^{{-3}}'.format(quantiles[1] / order,\n",
    "                                          (quantiles[1] - quantiles[0]) / order,\n",
    "                                          (quantiles[2] - quantiles[1]) / order,\n",
    "                                          np.log10(order))))"
   ]
  },
  {
   "cell_type": "code",
   "execution_count": 106,
   "metadata": {},
   "outputs": [
    {
     "data": {
      "text/latex": [
       "$\\displaystyle N_{0} = 995.1_{-637.1}^{+1165.9}$"
      ],
      "text/plain": [
       "<IPython.core.display.Math object>"
      ]
     },
     "metadata": {},
     "output_type": "display_data"
    }
   ],
   "source": [
    "dual_agn_normalization = Const3D(local_dual_agn_number_density / G19_local_quasar_number_density, n_models=n_samples)\n",
    "\n",
    "quantiles = np.quantile(dual_agn_normalization.amplitude, q=[.16, .5, .84])\n",
    "display(Math(r'N_{{0}} = {0:.1f}_{{-{1:.1f}}}^{{+{2:.1f}}}'.format(quantiles[1],\n",
    "                                          quantiles[1] - quantiles[0],\n",
    "                                          quantiles[2] - quantiles[1])))"
   ]
  },
  {
   "cell_type": "code",
   "execution_count": 107,
   "metadata": {},
   "outputs": [
    {
     "name": "stdout",
     "output_type": "stream",
     "text": [
      "Model: Const3D\n",
      "Inputs: ('x0', 'x1', 'x2')\n",
      "Outputs: ('x0',)\n",
      "Model set size: 1024\n",
      "Parameters:\n",
      "        amplitude     \n",
      "    ------------------\n",
      "      1744.19120255244\n",
      "     943.1285845630754\n",
      "       900.79500973237\n",
      "    2226.0258654159356\n",
      "    1603.0598201681714\n",
      "     2130.308107560723\n",
      "    1212.0446930290598\n",
      "     766.3703014438844\n",
      "    2325.8248035179004\n",
      "    1155.5993017939436\n",
      "                   ...\n",
      "     300.9272983772215\n",
      "    1496.1812610347665\n",
      "    113.19440095004498\n",
      "     589.7233493438499\n",
      "    2349.5298649232523\n",
      "    1733.2076334358692\n",
      "    245.18361842842702\n",
      "     473.7110045775704\n",
      "     5864.964468077934\n",
      "    1063.1630212975015\n",
      "     5543.977252882656\n",
      "    Length = 1024 rows\n"
     ]
    }
   ],
   "source": [
    "print(dual_agn_normalization)\n",
    "with open('../models/DualAGNNormalization.pkl', 'wb') as f:\n",
    "    pickle.dump(dual_agn_normalization, f)"
   ]
  },
  {
   "cell_type": "markdown",
   "metadata": {},
   "source": [
    "#### Full dual AGN model"
   ]
  },
  {
   "cell_type": "code",
   "execution_count": 108,
   "metadata": {},
   "outputs": [],
   "source": [
    "G19_dual_agn_population = Goulding2019J1010Binaries(binary_normalization=dual_agn_normalization.amplitude,\n",
    "                                                    mass_dispersion_intercept=a_marconi,\n",
    "                                                    mass_dispersion_slope=b_marconi,\n",
    "                                                    intrinsic_scatter=intrinsic_disp_marconi,\n",
    "                                                    dispersion_norm=dispersion_normalization_sheth,\n",
    "                                                    log_dispersion_break=np.log10(dispersion_break_sheth),\n",
    "                                                    dispersion_alpha=alpha_sheth,\n",
    "                                                    dispersion_beta=beta_sheth,\n",
    "                                                    log_l_min=log_l_min_goulding,\n",
    "                                                    log_l_max=log_l_max_goulding,\n",
    "                                                    log_dens_norm=log_norm_hopkins,\n",
    "                                                    log_break_luminosity_norm=log_break_luminosity_norm_hopkins,\n",
    "                                                    log_break_luminosity_k1=log_break_luminosity_k1_hopkins,\n",
    "                                                    log_break_luminosity_k2=log_break_luminosity_k2_hopkins,\n",
    "                                                    log_break_luminosity_k3=log_break_luminosity_k3_hopkins,\n",
    "                                                    faint_end_slope_norm=faint_end_slope_norm_hopkins,\n",
    "                                                    faint_end_slope_k=faint_end_slope_k_hopkins,\n",
    "                                                    bright_end_slope_norm=bright_end_slope_norm_hopkins,\n",
    "                                                    bright_end_slope_k1=bright_end_slope_k1_hopkins,\n",
    "                                                    bright_end_slope_k2=bright_end_slope_k2_hopkins,\n",
    "                                                    z_ref=z_ref_hopkins,\n",
    "                                                    n_models=n_samples)"
   ]
  },
  {
   "cell_type": "code",
   "execution_count": 109,
   "metadata": {},
   "outputs": [
    {
     "name": "stdout",
     "output_type": "stream",
     "text": [
      "Model: Goulding2019J1010Binaries\n",
      "Inputs: ('x', 'y')\n",
      "Outputs: ('z',)\n",
      "Model set size: 1024\n",
      "Parameters:\n",
      "    binary_normalization mass_dispersion_intercept ... bright_end_slope_k2 z_ref\n",
      "    -------------------- ------------------------- ... ------------------- -----\n",
      "        1744.19120255244        -1.477813842603945 ... -0.7644517254165534   2.0\n",
      "       943.1285845630754       0.35935339769029095 ... -0.8203370583698569   2.0\n",
      "         900.79500973237      -0.46306772165348065 ... -0.7269407250353789   2.0\n",
      "      2226.0258654159356       -1.0814267405930114 ... -0.8207259550762361   2.0\n",
      "      1603.0598201681714       -1.6653836224896459 ... -0.7027041519069736   2.0\n",
      "       2130.308107560723       -1.3307613649430916 ... -0.7953102035172851   2.0\n",
      "      1212.0446930290598         -1.64215807966373 ... -0.8774447231622162   2.0\n",
      "       766.3703014438844       -1.4575691854308506 ... -0.8234580404211997   2.0\n",
      "      2325.8248035179004       -0.9462401714376618 ... -0.8051706780738991   2.0\n",
      "      1155.5993017939436       -1.9091538452065695 ... -0.7316191641062401   2.0\n",
      "                     ...                       ... ...                 ...   ...\n",
      "       300.9272983772215       -0.6353206581974398 ... -0.7479587881840354   2.0\n",
      "      1496.1812610347665        -2.280996128332667 ... -0.8032392914378971   2.0\n",
      "      113.19440095004498       -1.4960986787817667 ... -0.6880911595743182   2.0\n",
      "       589.7233493438499       -0.3528315979645278 ... -0.8988038003825721   2.0\n",
      "      2349.5298649232523        -1.702319762946745 ... -0.8411823463452183   2.0\n",
      "      1733.2076334358692       -1.3032773534214783 ... -0.7242066514180712   2.0\n",
      "      245.18361842842702         -1.36669124231722 ... -0.6739317974840296   2.0\n",
      "       473.7110045775704       -0.9614505418115584 ... -0.7755372296987846   2.0\n",
      "       5864.964468077934        -1.659647031698988 ... -0.8060561696311718   2.0\n",
      "      1063.1630212975015        -1.703834863774988 ... -0.7527143000712982   2.0\n",
      "       5543.977252882656        -1.825275133199229 ... -0.8098168126253077   2.0\n",
      "    Length = 1024 rows\n"
     ]
    }
   ],
   "source": [
    "print(G19_dual_agn_population)\n",
    "with open('../models/G19DualAGNPopulation.pkl', 'wb') as f:\n",
    "    pickle.dump(G19_dual_agn_population, f)"
   ]
  },
  {
   "cell_type": "markdown",
   "metadata": {},
   "source": [
    "### Major merger models"
   ]
  },
  {
   "cell_type": "markdown",
   "metadata": {},
   "source": [
    "#### S1: Borch+ (2006), Bundy+ (2009), Kitzbichler & White (2008)"
   ]
  },
  {
   "cell_type": "code",
   "execution_count": 110,
   "metadata": {},
   "outputs": [],
   "source": [
    "S1 = Sesana2013_Schechter(alpha=alpha_mcconnell_ma,\n",
    "                          beta=beta_mcconnell_ma,\n",
    "                          norm1=norm_0_borch,\n",
    "                          norm2=norm_3_borch,\n",
    "                          norm3=norm_5_borch,\n",
    "                          norm4=norm_7_borch,\n",
    "                          norm5=norm_9_borch,\n",
    "                          log_m_break1=log_m_gal_0_borch,\n",
    "                          log_m_break2=log_m_gal_3_borch,\n",
    "                          log_m_break3=log_m_gal_5_borch,\n",
    "                          log_m_break4=log_m_gal_7_borch,\n",
    "                          log_m_break5=log_m_gal_9_borch,\n",
    "                          exp1=alpha_0_borch,\n",
    "                          exp2=alpha_3_borch,\n",
    "                          exp3=alpha_5_borch,\n",
    "                          exp4=alpha_7_borch,\n",
    "                          exp5=alpha_9_borch,\n",
    "                          local_pair_fraction=fp_bundy,\n",
    "                          pair_fraction_exponent=m_bundy,\n",
    "                          q_min=q_min_bundy,\n",
    "                          t_norm=norm_kw,\n",
    "                          r_proj=r_proj_bundy,\n",
    "                          n_models=n_samples)"
   ]
  },
  {
   "cell_type": "code",
   "execution_count": 111,
   "metadata": {},
   "outputs": [
    {
     "name": "stdout",
     "output_type": "stream",
     "text": [
      "Model: Sesana2013_Schechter\n",
      "Inputs: ('x0', 'x1', 'x2')\n",
      "Outputs: ('x0',)\n",
      "Model set size: 1024\n",
      "Parameters:\n",
      "          alpha              beta                norm1         ... t_norm r_proj\n",
      "    ----------------- ------------------ --------------------- ... ------ ------\n",
      "    8.433951909579541 0.9685751159553384  0.003617836199216489 ...    2.2   20.0\n",
      "    8.483654562220643 0.9735212690689921  0.004131434517302557 ...    2.2   20.0\n",
      "    8.284279120079669 0.9088036384240498 0.0036825232107644957 ...    2.2   20.0\n",
      "    8.325909872311845 1.2113356157407091 0.0033905662851477928 ...    2.2   20.0\n",
      "    8.419921285290993 1.2393773703877262 0.0035146265043028537 ...    2.2   20.0\n",
      "    8.485053271062426 1.1468892287189014  0.004104862577731836 ...    2.2   20.0\n",
      "    8.516759035273873 1.0690262100128782 0.0041094515529697066 ...    2.2   20.0\n",
      "    8.506715305833875 0.9887066911826031  0.003644055783899122 ...    2.2   20.0\n",
      "    8.342798089247156 0.9865887125395272  0.004806440907498277 ...    2.2   20.0\n",
      "    8.359703170940518 1.0426337906530274  0.003522936134759448 ...    2.2   20.0\n",
      "                  ...                ...                   ... ...    ...    ...\n",
      "    8.486799463006141 1.1575860366382704   0.00429648116394461 ...    2.2   20.0\n",
      "    8.407236863859449 0.9994949968596814 0.0031275113819031236 ...    2.2   20.0\n",
      "    8.422152639142947 1.1043497219981406 0.0035921062897264515 ...    2.2   20.0\n",
      "    8.368135450615242  1.262832704073706 0.0033465544489275404 ...    2.2   20.0\n",
      "    8.452510775510358 1.1171114751589903 0.0030393955674012174 ...    2.2   20.0\n",
      "    8.568887582452035 0.7181876518261151   0.00331360290095646 ...    2.2   20.0\n",
      "    8.380475265459154 1.0862356774225987  0.003927975753004559 ...    2.2   20.0\n",
      "     8.45200402589352  1.093600980157593  0.003965278102309014 ...    2.2   20.0\n",
      "    8.405493097608538 0.9887873421994692  0.004160098076186687 ...    2.2   20.0\n",
      "    8.389361909465233 1.0953829963155797  0.003101676236655063 ...    2.2   20.0\n",
      "    8.531881382521055  1.033693779891225  0.004287124372670778 ...    2.2   20.0\n",
      "    Length = 1024 rows\n"
     ]
    }
   ],
   "source": [
    "print(S1)\n",
    "with open('../models/S1.pkl', 'wb') as f:\n",
    "    pickle.dump(S1, f)"
   ]
  },
  {
   "cell_type": "markdown",
   "metadata": {},
   "source": [
    "#### S2: Drory+ (2009), de Ravel+ (2009), Lotz+ (2010)"
   ]
  },
  {
   "cell_type": "code",
   "execution_count": 112,
   "metadata": {},
   "outputs": [],
   "source": [
    "S2 = Sesana2013_DoubleSchechter(alpha=alpha_mcconnell_ma,\n",
    "                                beta=beta_mcconnell_ma,\n",
    "                                norm11=norm_0_drory_b,\n",
    "                                norm12=norm_3_drory_b,\n",
    "                                norm13=norm_5_drory_b,\n",
    "                                norm14=norm_7_drory_b,\n",
    "                                norm15=norm_9_drory_b,\n",
    "                                norm21=norm_0_drory_f,\n",
    "                                norm22=norm_3_drory_f,\n",
    "                                norm23=norm_5_drory_f,\n",
    "                                norm24=norm_7_drory_f,\n",
    "                                norm25=norm_9_drory_f,\n",
    "                                log_m_break11=log_m_gal_0_drory_b,\n",
    "                                log_m_break12=log_m_gal_3_drory_b,\n",
    "                                log_m_break13=log_m_gal_5_drory_b,\n",
    "                                log_m_break14=log_m_gal_7_drory_b,\n",
    "                                log_m_break15=log_m_gal_9_drory_b,\n",
    "                                log_m_break21=log_m_gal_0_drory_f,\n",
    "                                log_m_break22=log_m_gal_3_drory_f,\n",
    "                                log_m_break23=log_m_gal_5_drory_f,\n",
    "                                log_m_break24=log_m_gal_7_drory_f,\n",
    "                                log_m_break25=log_m_gal_9_drory_f,\n",
    "                                exp11=alpha_0_drory_b,\n",
    "                                exp12=alpha_3_drory_b,\n",
    "                                exp13=alpha_5_drory_b,\n",
    "                                exp14=alpha_7_drory_b,\n",
    "                                exp15=alpha_9_drory_b,\n",
    "                                exp21=alpha_0_drory_f,\n",
    "                                exp22=alpha_3_drory_f,\n",
    "                                exp23=alpha_5_drory_f,\n",
    "                                exp24=alpha_7_drory_f,\n",
    "                                exp25=alpha_9_drory_f,\n",
    "                                local_pair_fraction1=fp_95_de_ravel,\n",
    "                                local_pair_fraction2=fp_10_de_ravel,\n",
    "                                local_pair_fraction3=fp_105_de_ravel,\n",
    "                                pair_fraction_exponent1=m_95_de_ravel,\n",
    "                                pair_fraction_exponent2=m_10_de_ravel,\n",
    "                                pair_fraction_exponent3=m_105_de_ravel,\n",
    "                                q_min=q_min_de_ravel,\n",
    "                                t_norm=norm_lotz,\n",
    "                                r_proj=r_proj_de_ravel,\n",
    "                                n_models=n_samples)"
   ]
  },
  {
   "cell_type": "code",
   "execution_count": 113,
   "metadata": {},
   "outputs": [
    {
     "name": "stdout",
     "output_type": "stream",
     "text": [
      "Model: Sesana2013_DoubleSchechter\n",
      "Inputs: ('x0', 'x1', 'x2')\n",
      "Outputs: ('x0',)\n",
      "Model set size: 1024\n",
      "Parameters:\n",
      "          alpha              beta                norm11        ... t_norm r_proj\n",
      "    ----------------- ------------------ --------------------- ... ------ ------\n",
      "    8.433951909579541 0.9685751159553384  0.004402848079292425 ...    1.1  100.0\n",
      "    8.483654562220643 0.9735212690689921  0.004799570864228793 ...    1.1  100.0\n",
      "    8.284279120079669 0.9088036384240498  0.004795307230749849 ...    1.1  100.0\n",
      "    8.325909872311845 1.2113356157407091 0.0042854524863657215 ...    1.1  100.0\n",
      "    8.419921285290993 1.2393773703877262  0.004207433208741216 ...    1.1  100.0\n",
      "    8.485053271062426 1.1468892287189014  0.004278329445001347 ...    1.1  100.0\n",
      "    8.516759035273873 1.0690262100128782  0.004633544476641203 ...    1.1  100.0\n",
      "    8.506715305833875 0.9887066911826031   0.00442534897028958 ...    1.1  100.0\n",
      "    8.342798089247156 0.9865887125395272 0.0042789096278489005 ...    1.1  100.0\n",
      "    8.359703170940518 1.0426337906530274  0.004213200978980367 ...    1.1  100.0\n",
      "                  ...                ...                   ... ...    ...    ...\n",
      "    8.486799463006141 1.1575860366382704  0.004417206645124821 ...    1.1  100.0\n",
      "    8.407236863859449 0.9994949968596814  0.004286300006366091 ...    1.1  100.0\n",
      "    8.422152639142947 1.1043497219981406  0.004054723047333634 ...    1.1  100.0\n",
      "    8.368135450615242  1.262832704073706  0.004462378131938259 ...    1.1  100.0\n",
      "    8.452510775510358 1.1171114751589903  0.004637690371650315 ...    1.1  100.0\n",
      "    8.568887582452035 0.7181876518261151 0.0042857851102588735 ...    1.1  100.0\n",
      "    8.380475265459154 1.0862356774225987 0.0043045403799550075 ...    1.1  100.0\n",
      "     8.45200402589352  1.093600980157593  0.004580921755263554 ...    1.1  100.0\n",
      "    8.405493097608538 0.9887873421994692  0.004201081758169072 ...    1.1  100.0\n",
      "    8.389361909465233 1.0953829963155797  0.004501076120309697 ...    1.1  100.0\n",
      "    8.531881382521055  1.033693779891225  0.004385455485654201 ...    1.1  100.0\n",
      "    Length = 1024 rows\n"
     ]
    }
   ],
   "source": [
    "print(S2)\n",
    "with open('../models/S2.pkl', 'wb') as f:\n",
    "    pickle.dump(S2, f)"
   ]
  },
  {
   "cell_type": "markdown",
   "metadata": {},
   "source": [
    "#### S3: Ilbert+ (2010), Lopez+ (2012), Kitzbichler & White (2008)"
   ]
  },
  {
   "cell_type": "code",
   "execution_count": 114,
   "metadata": {},
   "outputs": [],
   "source": [
    "S3 = Sesana2013_TripleSchechter(alpha=alpha_mcconnell_ma,\n",
    "                                beta=beta_mcconnell_ma,\n",
    "                                norm11=norm_0_ilbert_q,\n",
    "                                norm12=norm_3_ilbert_q,\n",
    "                                norm13=norm_5_ilbert_q,\n",
    "                                norm14=norm_7_ilbert_q,\n",
    "                                norm15=norm_9_ilbert_q,\n",
    "                                norm16=norm_11_ilbert_q,\n",
    "                                norm17=norm_135_ilbert_q,\n",
    "                                norm18=norm_175_ilbert_q,\n",
    "                                norm21=norm_0_ilbert_i,\n",
    "                                norm22=norm_3_ilbert_i,\n",
    "                                norm23=norm_5_ilbert_i,\n",
    "                                norm24=norm_7_ilbert_i,\n",
    "                                norm25=norm_9_ilbert_i,\n",
    "                                norm26=norm_11_ilbert_i,\n",
    "                                norm27=norm_135_ilbert_i,\n",
    "                                norm28=norm_175_ilbert_i,\n",
    "                                norm31=norm_0_ilbert_h,\n",
    "                                norm32=norm_3_ilbert_h,\n",
    "                                norm33=norm_5_ilbert_h,\n",
    "                                norm34=norm_7_ilbert_h,\n",
    "                                norm35=norm_9_ilbert_h,\n",
    "                                norm36=norm_11_ilbert_h,\n",
    "                                norm37=norm_135_ilbert_h,\n",
    "                                norm38=norm_175_ilbert_h,\n",
    "                                log_m_break11=log_m_gal_0_ilbert_q,\n",
    "                                log_m_break12=log_m_gal_3_ilbert_q,\n",
    "                                log_m_break13=log_m_gal_5_ilbert_q,\n",
    "                                log_m_break14=log_m_gal_7_ilbert_q,\n",
    "                                log_m_break15=log_m_gal_9_ilbert_q,\n",
    "                                log_m_break16=log_m_gal_11_ilbert_q,\n",
    "                                log_m_break17=log_m_gal_135_ilbert_q,\n",
    "                                log_m_break18=log_m_gal_175_ilbert_q,\n",
    "                                log_m_break21=log_m_gal_0_ilbert_i,\n",
    "                                log_m_break22=log_m_gal_3_ilbert_i,\n",
    "                                log_m_break23=log_m_gal_5_ilbert_i,\n",
    "                                log_m_break24=log_m_gal_7_ilbert_i,\n",
    "                                log_m_break25=log_m_gal_9_ilbert_i,\n",
    "                                log_m_break26=log_m_gal_11_ilbert_i,\n",
    "                                log_m_break27=log_m_gal_135_ilbert_i,\n",
    "                                log_m_break28=log_m_gal_175_ilbert_i,\n",
    "                                log_m_break31=log_m_gal_0_ilbert_h,\n",
    "                                log_m_break32=log_m_gal_3_ilbert_h,\n",
    "                                log_m_break33=log_m_gal_5_ilbert_h,\n",
    "                                log_m_break34=log_m_gal_7_ilbert_h,\n",
    "                                log_m_break35=log_m_gal_9_ilbert_h,\n",
    "                                log_m_break36=log_m_gal_11_ilbert_h,\n",
    "                                log_m_break37=log_m_gal_135_ilbert_h,\n",
    "                                log_m_break38=log_m_gal_175_ilbert_h,\n",
    "                                exp11=alpha_0_ilbert_q,\n",
    "                                exp12=alpha_3_ilbert_q,\n",
    "                                exp13=alpha_5_ilbert_q,\n",
    "                                exp14=alpha_7_ilbert_q,\n",
    "                                exp15=alpha_9_ilbert_q,\n",
    "                                exp16=alpha_11_ilbert_q,\n",
    "                                exp17=alpha_135_ilbert_q,\n",
    "                                exp18=alpha_175_ilbert_q,\n",
    "                                exp21=alpha_0_ilbert_i,\n",
    "                                exp22=alpha_3_ilbert_i,\n",
    "                                exp23=alpha_5_ilbert_i,\n",
    "                                exp24=alpha_7_ilbert_i,\n",
    "                                exp25=alpha_9_ilbert_i,\n",
    "                                exp26=alpha_11_ilbert_i,\n",
    "                                exp27=alpha_135_ilbert_i,\n",
    "                                exp28=alpha_175_ilbert_i,\n",
    "                                exp31=alpha_0_ilbert_h,\n",
    "                                exp32=alpha_3_ilbert_h,\n",
    "                                exp33=alpha_5_ilbert_h,\n",
    "                                exp34=alpha_7_ilbert_h,\n",
    "                                exp35=alpha_9_ilbert_h,\n",
    "                                exp36=alpha_11_ilbert_h,\n",
    "                                exp37=alpha_135_ilbert_h,\n",
    "                                exp38=alpha_175_ilbert_h,\n",
    "                                local_pair_fraction=fp_lopez,\n",
    "                                pair_fraction_exponent=m_lopez,\n",
    "                                q_min=q_min_lopez,\n",
    "                                t_norm=norm_kw,\n",
    "                                r_proj=r_proj_lopez,\n",
    "                                n_models=n_samples)"
   ]
  },
  {
   "cell_type": "code",
   "execution_count": 115,
   "metadata": {},
   "outputs": [
    {
     "name": "stdout",
     "output_type": "stream",
     "text": [
      "Model: Sesana2013_TripleSchechter\n",
      "Inputs: ('x0', 'x1', 'x2')\n",
      "Outputs: ('x0',)\n",
      "Model set size: 1024\n",
      "Parameters:\n",
      "          alpha              beta                norm11        ... t_norm r_proj\n",
      "    ----------------- ------------------ --------------------- ... ------ ------\n",
      "    8.433951909579541 0.9685751159553384  0.004402848079292425 ...    2.2   30.0\n",
      "    8.483654562220643 0.9735212690689921  0.004799570864228793 ...    2.2   30.0\n",
      "    8.284279120079669 0.9088036384240498  0.004795307230749849 ...    2.2   30.0\n",
      "    8.325909872311845 1.2113356157407091 0.0042854524863657215 ...    2.2   30.0\n",
      "    8.419921285290993 1.2393773703877262  0.004207433208741216 ...    2.2   30.0\n",
      "    8.485053271062426 1.1468892287189014  0.004278329445001347 ...    2.2   30.0\n",
      "    8.516759035273873 1.0690262100128782  0.004633544476641203 ...    2.2   30.0\n",
      "    8.506715305833875 0.9887066911826031   0.00442534897028958 ...    2.2   30.0\n",
      "    8.342798089247156 0.9865887125395272 0.0042789096278489005 ...    2.2   30.0\n",
      "    8.359703170940518 1.0426337906530274  0.004213200978980367 ...    2.2   30.0\n",
      "                  ...                ...                   ... ...    ...    ...\n",
      "    8.486799463006141 1.1575860366382704  0.004417206645124821 ...    2.2   30.0\n",
      "    8.407236863859449 0.9994949968596814  0.004286300006366091 ...    2.2   30.0\n",
      "    8.422152639142947 1.1043497219981406  0.004054723047333634 ...    2.2   30.0\n",
      "    8.368135450615242  1.262832704073706  0.004462378131938259 ...    2.2   30.0\n",
      "    8.452510775510358 1.1171114751589903  0.004637690371650315 ...    2.2   30.0\n",
      "    8.568887582452035 0.7181876518261151 0.0042857851102588735 ...    2.2   30.0\n",
      "    8.380475265459154 1.0862356774225987 0.0043045403799550075 ...    2.2   30.0\n",
      "     8.45200402589352  1.093600980157593  0.004580921755263554 ...    2.2   30.0\n",
      "    8.405493097608538 0.9887873421994692  0.004201081758169072 ...    2.2   30.0\n",
      "    8.389361909465233 1.0953829963155797  0.004501076120309697 ...    2.2   30.0\n",
      "    8.531881382521055  1.033693779891225  0.004385455485654201 ...    2.2   30.0\n",
      "    Length = 1024 rows\n"
     ]
    }
   ],
   "source": [
    "print(S3)\n",
    "with open('../models/S3.pkl', 'wb') as f:\n",
    "    pickle.dump(S3, f)"
   ]
  },
  {
   "cell_type": "markdown",
   "metadata": {},
   "source": [
    "# Results"
   ]
  },
  {
   "cell_type": "markdown",
   "metadata": {},
   "source": [
    "## AGN Models"
   ]
  },
  {
   "cell_type": "markdown",
   "metadata": {},
   "source": [
    "### AGN-based"
   ]
  },
  {
   "cell_type": "markdown",
   "metadata": {},
   "source": [
    "#### SMBHB Population"
   ]
  },
  {
   "cell_type": "code",
   "execution_count": 116,
   "metadata": {},
   "outputs": [],
   "source": [
    "mm, zz, qq = np.meshgrid(log_m_bh_range, z_range, q_range, indexing='ij')"
   ]
  },
  {
   "cell_type": "code",
   "execution_count": 117,
   "metadata": {},
   "outputs": [
    {
     "data": {
      "application/vnd.jupyter.widget-view+json": {
       "model_id": "d6817d59b91b4b1295e38857d1e8195d",
       "version_major": 2,
       "version_minor": 0
      },
      "text/plain": [
       "  0%|          | 0/34816 [00:00<?, ?it/s]"
      ]
     },
     "metadata": {},
     "output_type": "display_data"
    }
   ],
   "source": [
    "with mp.Pool(mp.cpu_count()) as p:\n",
    "    differential_bhb_population = list(p.starmap(differential_smbhb_population,\n",
    "                             tqdm(zip(mm.ravel(), zz.ravel(), qq.ravel()),\n",
    "                      total=len(mm.ravel()))))\n",
    "\n",
    "differential_bhb_population = np.reshape(differential_bhb_population, np.repeat(mm[..., np.newaxis], n_samples, axis=-1).shape)"
   ]
  },
  {
   "cell_type": "markdown",
   "metadata": {},
   "source": [
    "#### Characteristic strain"
   ]
  },
  {
   "cell_type": "code",
   "execution_count": 118,
   "metadata": {},
   "outputs": [],
   "source": [
    "coeffs = 4. * const.G ** (5. / 3.) / (3. * np.pi ** (1. / 3.)\n",
    "                                      * (const.c ** 2)\n",
    "                                      * (fidhz ** (4. / 3.)))"
   ]
  },
  {
   "cell_type": "code",
   "execution_count": 119,
   "metadata": {},
   "outputs": [],
   "source": [
    "hc_integrand = (coeffs * differential_bhb_population * ((10 ** (mm * (5 / 3)))\n",
    "                                                        * (qq / ((1 + qq) ** (1 / 3)))\n",
    "                                                        / ((1 + zz) ** (1. / 3.)))[..., np.newaxis]\n",
    "                * (u.Msun ** (5 / 3)) / (u.Mpc ** 3)).to('')"
   ]
  },
  {
   "cell_type": "code",
   "execution_count": 120,
   "metadata": {},
   "outputs": [
    {
     "data": {
      "text/latex": [
       "$\\displaystyle h_{c} = (1.9^{+0.4}_{-0.3}) \\times 10^{-15.0}$"
      ],
      "text/plain": [
       "<IPython.core.display.Math object>"
      ]
     },
     "metadata": {},
     "output_type": "display_data"
    }
   ],
   "source": [
    "hc = np.sqrt(cumtrapz(cumtrapz(cumtrapz(hc_integrand, log_m_bh_range, axis=0), z_range, axis=1), q_range, axis=2))\n",
    "hc_q = np.quantile(hc, q=[.16, .5, .84], axis=-1)\n",
    "\n",
    "order = 10. ** np.floor(np.log10(hc_q[1, -1, -1, -1]))\n",
    "display(Math(r'h_{{c}} = ({0:.1f}^{{+{1:.1f}}}_{{-{2:.1f}}}) \\times 10^{{{3}}}'\n",
    "             .format(hc_q[1, -1, -1, -1] / order,\n",
    "                     (hc_q[2, -1, -1, -1] - hc_q[1, -1, -1, -1]) / order,\n",
    "                     (hc_q[1, -1, -1, -1] - hc_q[0, -1, -1, -1]) / order,\n",
    "                     np.log10(order))))"
   ]
  },
  {
   "cell_type": "markdown",
   "metadata": {},
   "source": [
    "#### Number density"
   ]
  },
  {
   "cell_type": "code",
   "execution_count": 121,
   "metadata": {},
   "outputs": [],
   "source": [
    "differential_number_density = trapz(trapz(differential_bhb_population, log_m_bh_range, axis=0), q_range, axis=1)\n",
    "differential_number_density_q = np.quantile(differential_number_density, q=[.16, .5, .84], axis=-1)"
   ]
  },
  {
   "cell_type": "code",
   "execution_count": 122,
   "metadata": {},
   "outputs": [
    {
     "data": {
      "text/latex": [
       "$\\displaystyle \\Phi_{\\rm{BHB}, 0} = (1.0^{+0.6}_{-0.4}) \\times 10^{-3.0}\\;\\rm{Mpc}^{-3}$"
      ],
      "text/plain": [
       "<IPython.core.display.Math object>"
      ]
     },
     "metadata": {},
     "output_type": "display_data"
    }
   ],
   "source": [
    "order = 10. ** np.floor(np.log10(differential_number_density_q[1, 0]))\n",
    "display(Math(r'\\Phi_{{\\rm{{BHB}}, 0}} = ({0:.1f}^{{+{1:.1f}}}_{{-{2:.1f}}}) \\times 10^{{{3}}}\\;\\rm{{Mpc}}^{{-3}}'\n",
    "             .format(differential_number_density_q[1, 0] / order,\n",
    "                     (differential_number_density_q[2, 0] - differential_number_density_q[1, 0]) / order,\n",
    "                     (differential_number_density_q[1, 0] - differential_number_density_q[0, 0]) / order,\n",
    "                     np.log10(order))))"
   ]
  },
  {
   "cell_type": "code",
   "execution_count": 123,
   "metadata": {},
   "outputs": [],
   "source": [
    "detectable_number_density = trapz(trapz(differential_bhb_population[log_m_bh_range >= log_m_bh_norm_min, ...],\n",
    "                                        log_m_bh_range[log_m_bh_range >= log_m_bh_norm_min], axis=0), q_range, axis=1)\n",
    "detectable_number_density_q = np.quantile(detectable_number_density, q=[.16, .5, .84], axis=-1)"
   ]
  },
  {
   "cell_type": "code",
   "execution_count": 124,
   "metadata": {},
   "outputs": [
    {
     "data": {
      "text/latex": [
       "$\\displaystyle \\Phi_{\\rm{BHB}, 0} = (6.6^{+9.6}_{-3.8}) \\times 10^{-6.0}\\;\\rm{Mpc}^{-3}$"
      ],
      "text/plain": [
       "<IPython.core.display.Math object>"
      ]
     },
     "metadata": {},
     "output_type": "display_data"
    }
   ],
   "source": [
    "order = 10. ** np.floor(np.log10(detectable_number_density_q[1, 0]))\n",
    "display(Math(r'\\Phi_{{\\rm{{BHB}}, 0}} = ({0:.1f}^{{+{1:.1f}}}_{{-{2:.1f}}}) \\times 10^{{{3}}}\\;\\rm{{Mpc}}^{{-3}}'\n",
    "             .format(detectable_number_density_q[1, 0] / order,\n",
    "                     (detectable_number_density_q[2, 0] - detectable_number_density_q[1, 0]) / order,\n",
    "                     (detectable_number_density_q[1, 0] - detectable_number_density_q[0, 0]) / order,\n",
    "                     np.log10(order))))"
   ]
  },
  {
   "cell_type": "markdown",
   "metadata": {},
   "source": [
    "#### Local Mass Function"
   ]
  },
  {
   "cell_type": "code",
   "execution_count": 125,
   "metadata": {},
   "outputs": [],
   "source": [
    "local_bhmf = trapz(trapz(differential_bhb_population, z_range, axis=1), q_range, axis=1) / (np.log(10) * (10 ** log_m_bh_range[:, np.newaxis]))\n",
    "local_bhmf_q = np.quantile(local_bhmf, q=[.16, .5, .84], axis=-1)"
   ]
  },
  {
   "cell_type": "markdown",
   "metadata": {},
   "source": [
    "#### Summary"
   ]
  },
  {
   "cell_type": "code",
   "execution_count": 182,
   "metadata": {},
   "outputs": [],
   "source": [
    "with h5py.File('../data/processed/agn_proxy.h5', 'w') as hf:\n",
    "    hf.create_dataset('log_m_bh_norm_min',  data=log_m_bh_norm_min)\n",
    "    hf.create_dataset('log_m_bh_norm_max',  data=log_m_bh_norm_max)\n",
    "    hf.create_dataset('log_m_bh_range', data=log_m_bh_range)\n",
    "    hf.create_dataset('z_range', data=z_range)\n",
    "    hf.create_dataset('q_range', data=q_range)\n",
    "    hf.create_dataset('population', data=differential_bhb_population)\n",
    "    hf.create_dataset('characteristic_strain', data=hc)\n",
    "    hf.create_dataset('number_density', data=differential_number_density)\n",
    "    hf.create_dataset('local_bhmf', data=local_bhmf)"
   ]
  },
  {
   "cell_type": "code",
   "execution_count": 180,
   "metadata": {},
   "outputs": [
    {
     "data": {
      "text/plain": [
       "8.461702596804502"
      ]
     },
     "execution_count": 180,
     "metadata": {},
     "output_type": "execute_result"
    }
   ],
   "source": [
    "log_m_bh_norm_min"
   ]
  },
  {
   "cell_type": "markdown",
   "metadata": {},
   "source": [
    "### AGN-based M17"
   ]
  },
  {
   "cell_type": "markdown",
   "metadata": {},
   "source": [
    "#### SMBHB Population"
   ]
  },
  {
   "cell_type": "code",
   "execution_count": 127,
   "metadata": {},
   "outputs": [],
   "source": [
    "mm, zz, qq = np.meshgrid(log_m_bh_range, z_range, q_range, indexing='ij')"
   ]
  },
  {
   "cell_type": "code",
   "execution_count": 128,
   "metadata": {},
   "outputs": [
    {
     "data": {
      "application/vnd.jupyter.widget-view+json": {
       "model_id": "5d1eb1be56a54bbd85b1fa33da6805e4",
       "version_major": 2,
       "version_minor": 0
      },
      "text/plain": [
       "  0%|          | 0/34816 [00:00<?, ?it/s]"
      ]
     },
     "metadata": {},
     "output_type": "display_data"
    }
   ],
   "source": [
    "with mp.Pool(mp.cpu_count()) as p:\n",
    "    M17_bhb_population = list(p.starmap(differential_smbhb_population_mingarelli,\n",
    "                             tqdm(zip(mm.ravel(), zz.ravel(), qq.ravel()),\n",
    "                      total=len(mm.ravel()))))\n",
    "\n",
    "M17_bhb_population = np.reshape(M17_bhb_population, np.repeat(mm[..., np.newaxis], n_samples, axis=-1).shape)"
   ]
  },
  {
   "cell_type": "markdown",
   "metadata": {},
   "source": [
    "#### Characteristic strain"
   ]
  },
  {
   "cell_type": "code",
   "execution_count": 129,
   "metadata": {},
   "outputs": [],
   "source": [
    "M17_hc_integrand = (coeffs * M17_bhb_population * ((10 ** (mm * (5 / 3)))\n",
    "                                                        * (qq / ((1 + qq) ** (1 / 3)))\n",
    "                                                        / ((1 + zz) ** (1. / 3.)))[..., np.newaxis]\n",
    "                * (u.Msun ** (5 / 3)) / (u.Mpc ** 3))"
   ]
  },
  {
   "cell_type": "code",
   "execution_count": 130,
   "metadata": {},
   "outputs": [
    {
     "data": {
      "text/latex": [
       "$\\displaystyle h_{c} = (9.2^{+5.1}_{-2.9}) \\times 10^{-16.0}$"
      ],
      "text/plain": [
       "<IPython.core.display.Math object>"
      ]
     },
     "metadata": {},
     "output_type": "display_data"
    }
   ],
   "source": [
    "M17_hc = np.sqrt(cumtrapz(cumtrapz(cumtrapz(M17_hc_integrand.to(''), log_m_bh_range, axis=0), z_range, axis=1), q_range, axis=2))\n",
    "M17_hc_q = np.quantile(M17_hc, q=[.16, .5, .84], axis=-1)\n",
    "\n",
    "order = 10. ** np.floor(np.log10(M17_hc_q[1, -1, -1, -1]))\n",
    "display(Math(r'h_{{c}} = ({0:.1f}^{{+{1:.1f}}}_{{-{2:.1f}}}) \\times 10^{{{3}}}'\n",
    "             .format(M17_hc_q[1, -1, -1, -1] / order,\n",
    "                     (M17_hc_q[2, -1, -1, -1] - M17_hc_q[1, -1, -1, -1]) / order,\n",
    "                     (M17_hc_q[1, -1, -1, -1] - M17_hc_q[0, -1, -1, -1]) / order,\n",
    "                     np.log10(order))))"
   ]
  },
  {
   "cell_type": "markdown",
   "metadata": {
    "tags": []
   },
   "source": [
    "#### Number density"
   ]
  },
  {
   "cell_type": "code",
   "execution_count": 131,
   "metadata": {},
   "outputs": [],
   "source": [
    "M17_number_density = trapz(trapz(M17_bhb_population, log_m_bh_range, axis=0), q_range, axis=1)\n",
    "M17_number_density_q = np.quantile(M17_number_density, q=[.16, .5, .84], axis=-1)"
   ]
  },
  {
   "cell_type": "code",
   "execution_count": 132,
   "metadata": {},
   "outputs": [
    {
     "data": {
      "text/latex": [
       "$\\displaystyle \\Phi_{\\rm{BHB}, 0} = (2.6^{+2.2}_{-1.2}) \\times 10^{-4.0}\\;\\rm{Mpc}^{-3}$"
      ],
      "text/plain": [
       "<IPython.core.display.Math object>"
      ]
     },
     "metadata": {},
     "output_type": "display_data"
    }
   ],
   "source": [
    "order = 10. ** np.floor(np.log10(M17_number_density_q[1, 0]))\n",
    "display(Math(r'\\Phi_{{\\rm{{BHB}}, 0}} = ({0:.1f}^{{+{1:.1f}}}_{{-{2:.1f}}}) \\times 10^{{{3}}}\\;\\rm{{Mpc}}^{{-3}}'\n",
    "             .format(M17_number_density_q[1, 0] / order,\n",
    "                     (M17_number_density_q[2, 0] - M17_number_density_q[1, 0]) / order,\n",
    "                     (M17_number_density_q[1, 0] - M17_number_density_q[0, 0]) / order,\n",
    "                     np.log10(order))))"
   ]
  },
  {
   "cell_type": "code",
   "execution_count": 133,
   "metadata": {},
   "outputs": [],
   "source": [
    "M17_detectable_number_density = trapz(trapz(M17_bhb_population[log_m_bh_range >= log_m_bh_norm_min, ...],\n",
    "                                        log_m_bh_range[log_m_bh_range >= log_m_bh_norm_min], axis=0), q_range, axis=1)\n",
    "M17_detectable_number_density_q = np.quantile(M17_detectable_number_density, q=[.16, .5, .84], axis=-1)"
   ]
  },
  {
   "cell_type": "code",
   "execution_count": 134,
   "metadata": {},
   "outputs": [
    {
     "data": {
      "text/latex": [
       "$\\displaystyle \\Phi_{\\rm{BHB}, 0} = (1.6^{+0.1}_{-0.1}) \\times 10^{-6.0}\\;\\rm{Mpc}^{-3}$"
      ],
      "text/plain": [
       "<IPython.core.display.Math object>"
      ]
     },
     "metadata": {},
     "output_type": "display_data"
    }
   ],
   "source": [
    "order = 10. ** np.floor(np.log10(M17_detectable_number_density_q[1, 0]))\n",
    "display(Math(r'\\Phi_{{\\rm{{BHB}}, 0}} = ({0:.1f}^{{+{1:.1f}}}_{{-{2:.1f}}}) \\times 10^{{{3}}}\\;\\rm{{Mpc}}^{{-3}}'\n",
    "             .format(M17_detectable_number_density_q[1, 0] / order,\n",
    "                     (M17_detectable_number_density_q[2, 0] - M17_detectable_number_density_q[1, 0]) / order,\n",
    "                     (M17_detectable_number_density_q[1, 0] - M17_detectable_number_density_q[0, 0]) / order,\n",
    "                     np.log10(order))))"
   ]
  },
  {
   "cell_type": "markdown",
   "metadata": {},
   "source": [
    "#### Local Mass Function"
   ]
  },
  {
   "cell_type": "code",
   "execution_count": 135,
   "metadata": {},
   "outputs": [],
   "source": [
    "M17_local_bhmf = trapz(trapz(M17_bhb_population, z_range, axis=1), q_range, axis=1) / (np.log(10) * (10 ** log_m_bh_range[:, np.newaxis]))\n",
    "M17_local_bhmf_q = np.quantile(local_bhmf, q=[.16, .5, .84], axis=-1)"
   ]
  },
  {
   "cell_type": "markdown",
   "metadata": {},
   "source": [
    "#### Summary"
   ]
  },
  {
   "cell_type": "code",
   "execution_count": 136,
   "metadata": {},
   "outputs": [],
   "source": [
    "with h5py.File('../data/processed/M17_agn_proxy.h5', 'w') as hf:\n",
    "    hf.create_dataset('log_m_bh_range', data=log_m_bh_range)\n",
    "    hf.create_dataset('z_range', data=z_range)\n",
    "    hf.create_dataset('q_range', data=q_range)\n",
    "    hf.create_dataset('population', data=M17_bhb_population)\n",
    "    hf.create_dataset('characteristic_strain', data=M17_hc)\n",
    "    hf.create_dataset('number_density', data=M17_number_density)\n",
    "    hf.create_dataset('local_bhmf', data=M17_local_bhmf)"
   ]
  },
  {
   "cell_type": "markdown",
   "metadata": {},
   "source": [
    "### G19"
   ]
  },
  {
   "cell_type": "markdown",
   "metadata": {},
   "source": [
    "#### SMBHB Population"
   ]
  },
  {
   "cell_type": "code",
   "execution_count": 137,
   "metadata": {},
   "outputs": [],
   "source": [
    "log_m_chirp_range = log_m_bh_range + (3 / 5) * (np.log10(q_max) - (np.log10(1 + q_max) / 3))\n",
    "mm, zz = np.meshgrid(log_m_chirp_range, z_range, indexing='ij')"
   ]
  },
  {
   "cell_type": "code",
   "execution_count": 138,
   "metadata": {},
   "outputs": [
    {
     "data": {
      "application/vnd.jupyter.widget-view+json": {
       "model_id": "9bad5dce3a344824a2158f57302a6f41",
       "version_major": 2,
       "version_minor": 0
      },
      "text/plain": [
       "  0%|          | 0/1088 [00:00<?, ?it/s]"
      ]
     },
     "metadata": {},
     "output_type": "display_data"
    }
   ],
   "source": [
    "with mp.Pool(mp.cpu_count()) as p:\n",
    "    G19_bhb_population = list(p.starmap(G19_dual_agn_population,\n",
    "                             tqdm(zip(mm.ravel(), zz.ravel()),\n",
    "                      total=len(mm.ravel()))))\n",
    "\n",
    "G19_bhb_population = np.reshape(G19_bhb_population, np.repeat(mm[..., np.newaxis], n_samples, axis=-1).shape)"
   ]
  },
  {
   "cell_type": "markdown",
   "metadata": {},
   "source": [
    "#### Characteristic strain"
   ]
  },
  {
   "cell_type": "code",
   "execution_count": 139,
   "metadata": {},
   "outputs": [],
   "source": [
    "G19_hc_integrand = (coeffs * G19_bhb_population * ((10 ** (mm * (5 / 3)))\n",
    "                                               / ((1 + zz) ** (1. / 3.)))[..., np.newaxis]\n",
    "                * (u.Msun ** (5 / 3)) / (u.Mpc ** 3))"
   ]
  },
  {
   "cell_type": "code",
   "execution_count": 140,
   "metadata": {},
   "outputs": [
    {
     "data": {
      "text/latex": [
       "$\\displaystyle h_{c} = (1.8^{+0.9}_{-0.7}) \\times 10^{-16.0}$"
      ],
      "text/plain": [
       "<IPython.core.display.Math object>"
      ]
     },
     "metadata": {},
     "output_type": "display_data"
    }
   ],
   "source": [
    "G19_hc = np.sqrt(cumtrapz(cumtrapz(G19_hc_integrand.to(''), log_m_chirp_range, axis=0), z_range, axis=1))\n",
    "G19_hc_q = np.quantile(G19_hc, q=[.16, .5, .84], axis=-1)\n",
    "\n",
    "order = 10. ** np.floor(np.log10(G19_hc_q[1, -1, -1]))\n",
    "display(Math(r'h_{{c}} = ({0:.1f}^{{+{1:.1f}}}_{{-{2:.1f}}}) \\times 10^{{{3}}}'\n",
    "             .format(G19_hc_q[1, -1, -1] / order,\n",
    "                     (G19_hc_q[2, -1, -1] - G19_hc_q[1, -1, -1]) / order,\n",
    "                     (G19_hc_q[1, -1, -1] - G19_hc_q[0, -1, -1]) / order,\n",
    "                     np.log10(order))))"
   ]
  },
  {
   "cell_type": "markdown",
   "metadata": {},
   "source": [
    "#### Number density"
   ]
  },
  {
   "cell_type": "code",
   "execution_count": 141,
   "metadata": {},
   "outputs": [],
   "source": [
    "G19_number_density = trapz(G19_bhb_population, log_m_chirp_range, axis=0)\n",
    "G19_number_density_q = np.quantile(G19_number_density, q=[.16, .5, .84], axis=-1)"
   ]
  },
  {
   "cell_type": "code",
   "execution_count": 142,
   "metadata": {},
   "outputs": [
    {
     "data": {
      "text/latex": [
       "$\\displaystyle \\Phi_{\\rm{BHB}, 0} = (6.1^{+4.2}_{-3.8}) \\times 10^{-7.0}\\;\\rm{Mpc}^{-3}$"
      ],
      "text/plain": [
       "<IPython.core.display.Math object>"
      ]
     },
     "metadata": {},
     "output_type": "display_data"
    }
   ],
   "source": [
    "order = 10. ** np.floor(np.log10(G19_number_density_q[1, 0]))\n",
    "display(Math(r'\\Phi_{{\\rm{{BHB}}, 0}} = ({0:.1f}^{{+{1:.1f}}}_{{-{2:.1f}}}) \\times 10^{{{3}}}\\;\\rm{{Mpc}}^{{-3}}'\n",
    "             .format(G19_number_density_q[1, 0] / order,\n",
    "                     (G19_number_density_q[2, 0] - G19_number_density_q[1, 0]) / order,\n",
    "                     (G19_number_density_q[1, 0] - G19_number_density_q[0, 0]) / order,\n",
    "                     np.log10(order))))"
   ]
  },
  {
   "cell_type": "code",
   "execution_count": 143,
   "metadata": {},
   "outputs": [],
   "source": [
    "G19_detectable_number_density = trapz(G19_bhb_population[log_m_chirp_range >= log_m_chirp_norm_min, ...],\n",
    "                                      log_m_chirp_range[log_m_chirp_range >= log_m_chirp_norm_min], axis=0)\n",
    "G19_detectable_number_density_q = np.quantile(G19_detectable_number_density, q=[.16, .5, .84], axis=-1)"
   ]
  },
  {
   "cell_type": "code",
   "execution_count": 144,
   "metadata": {},
   "outputs": [
    {
     "data": {
      "text/latex": [
       "$\\displaystyle \\Phi_{\\rm{BHB}, 0} = (1.1^{+0.9}_{-0.7}) \\times 10^{-7.0}\\;\\rm{Mpc}^{-3}$"
      ],
      "text/plain": [
       "<IPython.core.display.Math object>"
      ]
     },
     "metadata": {},
     "output_type": "display_data"
    }
   ],
   "source": [
    "order = 10. ** np.floor(np.log10(G19_detectable_number_density_q[1, 0]))\n",
    "display(Math(r'\\Phi_{{\\rm{{BHB}}, 0}} = ({0:.1f}^{{+{1:.1f}}}_{{-{2:.1f}}}) \\times 10^{{{3}}}\\;\\rm{{Mpc}}^{{-3}}'\n",
    "             .format(G19_detectable_number_density_q[1, 0] / order,\n",
    "                     (G19_detectable_number_density_q[2, 0] - G19_detectable_number_density_q[1, 0]) / order,\n",
    "                     (G19_detectable_number_density_q[1, 0] - G19_detectable_number_density_q[0, 0]) / order,\n",
    "                     np.log10(order))))"
   ]
  },
  {
   "cell_type": "markdown",
   "metadata": {},
   "source": [
    "#### Local Mass Function"
   ]
  },
  {
   "cell_type": "code",
   "execution_count": 145,
   "metadata": {},
   "outputs": [],
   "source": [
    "G19_local_bhmf = trapz(G19_bhb_population, z_range, axis=1) / (np.log(10) * (10 ** log_m_chirp_range[:, np.newaxis]))\n",
    "G19_local_bhmf_q = np.quantile(G19_local_bhmf, q=[.16, .5, .84], axis=-1)"
   ]
  },
  {
   "cell_type": "markdown",
   "metadata": {},
   "source": [
    "#### Summary"
   ]
  },
  {
   "cell_type": "code",
   "execution_count": 146,
   "metadata": {},
   "outputs": [],
   "source": [
    "with h5py.File('../data/processed/g19.h5', 'w') as hf:\n",
    "    hf.create_dataset('log_m_chirp_range', data=log_m_chirp_range)\n",
    "    hf.create_dataset('z_range', data=z_range)\n",
    "    hf.create_dataset('population', data=G19_bhb_population)\n",
    "    hf.create_dataset('characteristic_strain', data=G19_hc)\n",
    "    hf.create_dataset('number_density', data=G19_number_density)\n",
    "    hf.create_dataset('local_bhmf', data=G19_local_bhmf)"
   ]
  },
  {
   "cell_type": "markdown",
   "metadata": {},
   "source": [
    "## Merger Models"
   ]
  },
  {
   "cell_type": "markdown",
   "metadata": {},
   "source": [
    "### S1"
   ]
  },
  {
   "cell_type": "markdown",
   "metadata": {},
   "source": [
    "#### SMBHB Population"
   ]
  },
  {
   "cell_type": "code",
   "execution_count": 147,
   "metadata": {},
   "outputs": [],
   "source": [
    "mm, zz, qq = np.meshgrid(log_m_bh_range, z_range_borch, q_range, indexing='ij')"
   ]
  },
  {
   "cell_type": "code",
   "execution_count": 148,
   "metadata": {},
   "outputs": [
    {
     "data": {
      "application/vnd.jupyter.widget-view+json": {
       "model_id": "dd9ac1e1d0f2470e9bd8744b400d1c4e",
       "version_major": 2,
       "version_minor": 0
      },
      "text/plain": [
       "  0%|          | 0/34816 [00:00<?, ?it/s]"
      ]
     },
     "metadata": {},
     "output_type": "display_data"
    }
   ],
   "source": [
    "with mp.Pool(mp.cpu_count()) as p:\n",
    "    S1_bhb_population = list(p.starmap(S1,\n",
    "                             tqdm(zip(mm.ravel(), zz.ravel(), qq.ravel()),\n",
    "                      total=len(mm.ravel()))))\n",
    "\n",
    "S1_bhb_population = np.reshape(S1_bhb_population, np.repeat(mm[..., np.newaxis], n_samples, axis=-1).shape)"
   ]
  },
  {
   "cell_type": "markdown",
   "metadata": {},
   "source": [
    "#### Strain"
   ]
  },
  {
   "cell_type": "code",
   "execution_count": 149,
   "metadata": {},
   "outputs": [],
   "source": [
    "S1_hc_integrand = (coeffs * S1_bhb_population * ((10 ** (mm * (5 / 3)))\n",
    "                                                 * (qq / ((1 + qq) ** (1 / 3)))\n",
    "                                                 / ((1 + zz) ** (1. / 3.)))[..., np.newaxis]\n",
    "                   * (u.Msun ** (5 / 3)) / (u.Mpc ** 3))"
   ]
  },
  {
   "cell_type": "code",
   "execution_count": 150,
   "metadata": {},
   "outputs": [
    {
     "data": {
      "text/latex": [
       "$\\displaystyle h_{c, \\rm{S1}} = (4.7^{+1.9}_{-1.7}) \\times 10^{-16.0}$"
      ],
      "text/plain": [
       "<IPython.core.display.Math object>"
      ]
     },
     "metadata": {},
     "output_type": "display_data"
    }
   ],
   "source": [
    "S1_hc = np.sqrt(cumtrapz(cumtrapz(cumtrapz(S1_hc_integrand.to(''), log_m_bh_range, axis=0), z_range_borch, axis=1), q_range, axis=2))\n",
    "S1_hc_q = np.quantile(S1_hc, q=[.16, .5, .84], axis=-1)\n",
    "\n",
    "order = 10. ** np.floor(np.log10(S1_hc_q[1, -1, -1, -1]))\n",
    "display(Math(r'h_{{c, \\rm{{S1}}}} = ({0:.1f}^{{+{1:.1f}}}_{{-{2:.1f}}}) \\times 10^{{{3}}}'\n",
    "             .format(S1_hc_q[1, -1, -1, -1] / order,\n",
    "                     (S1_hc_q[2, -1, -1, -1] - S1_hc_q[1, -1, -1, -1]) / order,\n",
    "                     (S1_hc_q[1, -1, -1, -1] - S1_hc_q[0, -1, -1, -1]) / order,\n",
    "                     np.log10(order))))"
   ]
  },
  {
   "cell_type": "markdown",
   "metadata": {},
   "source": [
    "#### Number density"
   ]
  },
  {
   "cell_type": "code",
   "execution_count": 151,
   "metadata": {},
   "outputs": [],
   "source": [
    "S1_number_density = trapz(trapz(S1_bhb_population, log_m_bh_range, axis=0), q_range, axis=1)\n",
    "S1_number_density_q = np.quantile(S1_number_density, q=[.16, .5, .84], axis=-1)"
   ]
  },
  {
   "cell_type": "code",
   "execution_count": 152,
   "metadata": {},
   "outputs": [
    {
     "data": {
      "text/latex": [
       "$\\displaystyle \\Phi_{\\rm{BHB}, 0, \\rm{S1}} = (9.9^{+11.7}_{-6.3}) \\times 10^{-4.0}\\;\\rm{Mpc}^{-3}$"
      ],
      "text/plain": [
       "<IPython.core.display.Math object>"
      ]
     },
     "metadata": {},
     "output_type": "display_data"
    }
   ],
   "source": [
    "order = 10. ** np.floor(np.log10(S1_number_density_q[1, 0]))\n",
    "display(Math(r'\\Phi_{{\\rm{{BHB}}, 0, \\rm{{S1}}}} = ({0:.1f}^{{+{1:.1f}}}_{{-{2:.1f}}}) \\times 10^{{{3}}}\\;\\rm{{Mpc}}^{{-3}}'\n",
    "             .format(S1_number_density_q[1, 0] / order,\n",
    "                     (S1_number_density_q[2, 0] - S1_number_density_q[1, 0]) / order,\n",
    "                     (S1_number_density_q[1, 0] - S1_number_density_q[0, 0]) / order,\n",
    "                     np.log10(order))))"
   ]
  },
  {
   "cell_type": "code",
   "execution_count": 153,
   "metadata": {},
   "outputs": [],
   "source": [
    "S1_detectable_number_density = trapz(trapz(S1_bhb_population[log_m_bh_range >= log_m_bh_norm_min, ...],\n",
    "                                        log_m_bh_range[log_m_bh_range >= log_m_bh_norm_min], axis=0), q_range, axis=1)\n",
    "S1_detectable_number_density_q = np.quantile(S1_detectable_number_density, q=[.16, .5, .84], axis=-1)"
   ]
  },
  {
   "cell_type": "code",
   "execution_count": 154,
   "metadata": {},
   "outputs": [
    {
     "data": {
      "text/latex": [
       "$\\displaystyle \\Phi_{\\rm{BHB}, 0, \\rm{S1}} = (9.6^{+17.0}_{-6.7}) \\times 10^{-5.0}\\;\\rm{Mpc}^{-3}$"
      ],
      "text/plain": [
       "<IPython.core.display.Math object>"
      ]
     },
     "metadata": {},
     "output_type": "display_data"
    }
   ],
   "source": [
    "order = 10. ** np.floor(np.log10(S1_detectable_number_density_q[1, 0]))\n",
    "display(Math(r'\\Phi_{{\\rm{{BHB}}, 0, \\rm{{S1}}}} = ({0:.1f}^{{+{1:.1f}}}_{{-{2:.1f}}}) \\times 10^{{{3}}}\\;\\rm{{Mpc}}^{{-3}}'\n",
    "             .format(S1_detectable_number_density_q[1, 0] / order,\n",
    "                     (S1_detectable_number_density_q[2, 0] - S1_detectable_number_density_q[1, 0]) / order,\n",
    "                     (S1_detectable_number_density_q[1, 0] - S1_detectable_number_density_q[0, 0]) / order,\n",
    "                     np.log10(order))))"
   ]
  },
  {
   "cell_type": "markdown",
   "metadata": {},
   "source": [
    "#### Local Mass Function"
   ]
  },
  {
   "cell_type": "code",
   "execution_count": 155,
   "metadata": {},
   "outputs": [],
   "source": [
    "S1_local_bhmf = trapz(trapz(S1_bhb_population, q_range, axis=2), z_range_borch, axis=1) / (np.log(10) * (10 ** log_m_bh_range[:, np.newaxis]))\n",
    "S1_local_bhmf_q = np.quantile(S1_local_bhmf, q=[.16, .5, .84], axis=-1)"
   ]
  },
  {
   "cell_type": "markdown",
   "metadata": {},
   "source": [
    "#### Summary"
   ]
  },
  {
   "cell_type": "code",
   "execution_count": 156,
   "metadata": {},
   "outputs": [],
   "source": [
    "with h5py.File('../data/processed/S1.h5', 'w') as hf:\n",
    "    hf.create_dataset('log_m_bh_range', data=log_m_bh_range)\n",
    "    hf.create_dataset('z_range', data=z_range_borch)\n",
    "    hf.create_dataset('q_range', data=q_range)\n",
    "    hf.create_dataset('population', data=S1_bhb_population)\n",
    "    hf.create_dataset('characteristic_strain', data=S1_hc)\n",
    "    hf.create_dataset('number_density', data=S1_number_density)\n",
    "    hf.create_dataset('local_bhmf', data=S1_local_bhmf)"
   ]
  },
  {
   "cell_type": "markdown",
   "metadata": {},
   "source": [
    "### S2"
   ]
  },
  {
   "cell_type": "markdown",
   "metadata": {},
   "source": [
    "#### SMBHB Population"
   ]
  },
  {
   "cell_type": "code",
   "execution_count": 157,
   "metadata": {},
   "outputs": [],
   "source": [
    "mm, zz, qq = np.meshgrid(log_m_bh_range, z_range_drory, q_range, indexing='ij')"
   ]
  },
  {
   "cell_type": "code",
   "execution_count": 158,
   "metadata": {},
   "outputs": [
    {
     "data": {
      "application/vnd.jupyter.widget-view+json": {
       "model_id": "d3572a5d60864a0daaac9c160336c290",
       "version_major": 2,
       "version_minor": 0
      },
      "text/plain": [
       "  0%|          | 0/34816 [00:00<?, ?it/s]"
      ]
     },
     "metadata": {},
     "output_type": "display_data"
    }
   ],
   "source": [
    "with mp.Pool(mp.cpu_count()) as p:\n",
    "    S2_bhb_population = list(p.starmap(S2,\n",
    "                             tqdm(zip(mm.ravel(), zz.ravel(), qq.ravel()),\n",
    "                      total=len(mm.ravel()))))\n",
    "\n",
    "S2_bhb_population = np.reshape(S2_bhb_population, np.repeat(mm[..., np.newaxis], n_samples, axis=-1).shape)"
   ]
  },
  {
   "cell_type": "markdown",
   "metadata": {},
   "source": [
    "#### Strain"
   ]
  },
  {
   "cell_type": "code",
   "execution_count": 159,
   "metadata": {},
   "outputs": [],
   "source": [
    "S2_hc_integrand = (coeffs * S2_bhb_population * ((10 ** (mm * (5 / 3)))\n",
    "                                                 * (qq / ((1 + qq) ** (1 / 3)))\n",
    "                                                 / ((1 + zz) ** (1. / 3.)))[..., np.newaxis]\n",
    "                   * (u.Msun ** (5 / 3)) / (u.Mpc ** 3))"
   ]
  },
  {
   "cell_type": "code",
   "execution_count": 160,
   "metadata": {},
   "outputs": [
    {
     "data": {
      "text/latex": [
       "$\\displaystyle h_{c, \\rm{S2}} = (1.2^{+0.8}_{-0.6}) \\times 10^{-15.0}$"
      ],
      "text/plain": [
       "<IPython.core.display.Math object>"
      ]
     },
     "metadata": {},
     "output_type": "display_data"
    }
   ],
   "source": [
    "S2_hc = np.sqrt(cumtrapz(cumtrapz(cumtrapz(S2_hc_integrand.to(''), log_m_bh_range, axis=0), z_range_drory, axis=1), q_range, axis=2))\n",
    "S2_hc_q = np.quantile(S2_hc, q=[.16, .5, .84], axis=-1)\n",
    "\n",
    "order = 10. ** np.floor(np.log10(S2_hc_q[1, -1, -1, -1]))\n",
    "display(Math(r'h_{{c, \\rm{{S2}}}} = ({0:.1f}^{{+{1:.1f}}}_{{-{2:.1f}}}) \\times 10^{{{3}}}'\n",
    "             .format(S2_hc_q[1, -1, -1, -1] / order,\n",
    "                     (S2_hc_q[2, -1, -1, -1] - S2_hc_q[1, -1, -1, -1]) / order,\n",
    "                     (S2_hc_q[1, -1, -1, -1] - S2_hc_q[0, -1, -1, -1]) / order,\n",
    "                     np.log10(order))))"
   ]
  },
  {
   "cell_type": "markdown",
   "metadata": {},
   "source": [
    "#### Number density"
   ]
  },
  {
   "cell_type": "code",
   "execution_count": 161,
   "metadata": {},
   "outputs": [],
   "source": [
    "S2_number_density = trapz(trapz(S2_bhb_population, log_m_bh_range, axis=0), q_range, axis=1)\n",
    "S2_number_density_q = np.quantile(S2_number_density, q=[.16, .5, .84], axis=-1)"
   ]
  },
  {
   "cell_type": "code",
   "execution_count": 162,
   "metadata": {},
   "outputs": [
    {
     "data": {
      "text/latex": [
       "$\\displaystyle \\Phi_{\\rm{BHB}, 0, \\rm{S2}} = (4.6^{+3.8}_{-2.6}) \\times 10^{-3.0}\\;\\rm{Mpc}^{-3}$"
      ],
      "text/plain": [
       "<IPython.core.display.Math object>"
      ]
     },
     "metadata": {},
     "output_type": "display_data"
    }
   ],
   "source": [
    "order = 10. ** np.floor(np.log10(S2_number_density_q[1, 0]))\n",
    "display(Math(r'\\Phi_{{\\rm{{BHB}}, 0, \\rm{{S2}}}} = ({0:.1f}^{{+{1:.1f}}}_{{-{2:.1f}}}) \\times 10^{{{3}}}\\;\\rm{{Mpc}}^{{-3}}'\n",
    "             .format(S2_number_density_q[1, 0] / order,\n",
    "                     (S2_number_density_q[2, 0] - S2_number_density_q[1, 0]) / order,\n",
    "                     (S2_number_density_q[1, 0] - S2_number_density_q[0, 0]) / order,\n",
    "                     np.log10(order))))"
   ]
  },
  {
   "cell_type": "code",
   "execution_count": 163,
   "metadata": {},
   "outputs": [],
   "source": [
    "S2_detectable_number_density = trapz(trapz(S2_bhb_population[log_m_bh_range >= log_m_bh_norm_min, ...],\n",
    "                                        log_m_bh_range[log_m_bh_range >= log_m_bh_norm_min], axis=0), q_range, axis=1)\n",
    "S2_detectable_number_density_q = np.quantile(S2_detectable_number_density, q=[.16, .5, .84], axis=-1)"
   ]
  },
  {
   "cell_type": "code",
   "execution_count": 164,
   "metadata": {},
   "outputs": [
    {
     "data": {
      "text/latex": [
       "$\\displaystyle \\Phi_{\\rm{BHB}, 0, \\rm{S2}} = (9.0^{+9.1}_{-6.1}) \\times 10^{-4.0}\\;\\rm{Mpc}^{-3}$"
      ],
      "text/plain": [
       "<IPython.core.display.Math object>"
      ]
     },
     "metadata": {},
     "output_type": "display_data"
    }
   ],
   "source": [
    "order = 10. ** np.floor(np.log10(S2_detectable_number_density_q[1, 0]))\n",
    "display(Math(r'\\Phi_{{\\rm{{BHB}}, 0, \\rm{{S2}}}} = ({0:.1f}^{{+{1:.1f}}}_{{-{2:.1f}}}) \\times 10^{{{3}}}\\;\\rm{{Mpc}}^{{-3}}'\n",
    "             .format(S2_detectable_number_density_q[1, 0] / order,\n",
    "                     (S2_detectable_number_density_q[2, 0] - S2_detectable_number_density_q[1, 0]) / order,\n",
    "                     (S2_detectable_number_density_q[1, 0] - S2_detectable_number_density_q[0, 0]) / order,\n",
    "                     np.log10(order))))"
   ]
  },
  {
   "cell_type": "markdown",
   "metadata": {},
   "source": [
    "#### Local Mass Function"
   ]
  },
  {
   "cell_type": "code",
   "execution_count": 165,
   "metadata": {},
   "outputs": [],
   "source": [
    "S2_local_bhmf = trapz(trapz(S2_bhb_population, q_range, axis=2), z_range_drory, axis=1) / (np.log(10) * (10 ** log_m_bh_range[:, np.newaxis]))\n",
    "S2_local_bhmf_q = np.quantile(S2_local_bhmf, q=[.16, .5, .84], axis=-1)"
   ]
  },
  {
   "cell_type": "markdown",
   "metadata": {},
   "source": [
    "#### Summary"
   ]
  },
  {
   "cell_type": "code",
   "execution_count": 166,
   "metadata": {},
   "outputs": [],
   "source": [
    "with h5py.File('../data/processed/S2.h5', 'w') as hf:\n",
    "    hf.create_dataset('log_m_bh_range', data=log_m_bh_range)\n",
    "    hf.create_dataset('z_range', data=z_range_drory)\n",
    "    hf.create_dataset('q_range', data=q_range)\n",
    "    hf.create_dataset('population', data=S2_bhb_population)\n",
    "    hf.create_dataset('characteristic_strain', data=S2_hc)\n",
    "    hf.create_dataset('number_density', data=S2_number_density)\n",
    "    hf.create_dataset('local_bhmf', data=S2_local_bhmf)"
   ]
  },
  {
   "cell_type": "markdown",
   "metadata": {},
   "source": [
    "### S3"
   ]
  },
  {
   "cell_type": "markdown",
   "metadata": {},
   "source": [
    "#### SMBHB Population"
   ]
  },
  {
   "cell_type": "code",
   "execution_count": 167,
   "metadata": {},
   "outputs": [],
   "source": [
    "mm, zz, qq = np.meshgrid(log_m_bh_range, z_range_ilbert, q_range, indexing='ij')"
   ]
  },
  {
   "cell_type": "code",
   "execution_count": 168,
   "metadata": {},
   "outputs": [
    {
     "data": {
      "application/vnd.jupyter.widget-view+json": {
       "model_id": "3ae555c3c70a4f91a54b4188bd9458b2",
       "version_major": 2,
       "version_minor": 0
      },
      "text/plain": [
       "  0%|          | 0/34816 [00:00<?, ?it/s]"
      ]
     },
     "metadata": {},
     "output_type": "display_data"
    }
   ],
   "source": [
    "with mp.Pool(mp.cpu_count()) as p:\n",
    "    S3_bhb_population = list(p.starmap(S3,\n",
    "                             tqdm(zip(mm.ravel(), zz.ravel(), qq.ravel()),\n",
    "                      total=len(mm.ravel()))))\n",
    "\n",
    "S3_bhb_population = np.reshape(S3_bhb_population, np.repeat(mm[..., np.newaxis], n_samples, axis=-1).shape)"
   ]
  },
  {
   "cell_type": "markdown",
   "metadata": {},
   "source": [
    "#### Strain"
   ]
  },
  {
   "cell_type": "code",
   "execution_count": 169,
   "metadata": {},
   "outputs": [],
   "source": [
    "S3_hc_integrand = (coeffs * S3_bhb_population * ((10 ** (mm * (5 / 3)))\n",
    "                                                 * (qq / ((1 + qq) ** (1 / 3)))\n",
    "                                                 / ((1 + zz) ** (1. / 3.)))[..., np.newaxis]\n",
    "                   * (u.Msun ** (5 / 3)) / (u.Mpc ** 3))"
   ]
  },
  {
   "cell_type": "code",
   "execution_count": 170,
   "metadata": {},
   "outputs": [
    {
     "data": {
      "text/latex": [
       "$\\displaystyle h_{c, \\rm{S3}} = (5.3^{+1.8}_{-1.1}) \\times 10^{-16.0}$"
      ],
      "text/plain": [
       "<IPython.core.display.Math object>"
      ]
     },
     "metadata": {},
     "output_type": "display_data"
    }
   ],
   "source": [
    "S3_hc = np.sqrt(cumtrapz(cumtrapz(cumtrapz(S3_hc_integrand.to(''), log_m_bh_range, axis=0), z_range_ilbert, axis=1), q_range, axis=2))\n",
    "S3_hc_q = np.quantile(S3_hc, q=[.16, .5, .84], axis=-1)\n",
    "\n",
    "order = 10. ** np.floor(np.log10(S3_hc_q[1, -1, -1, -1]))\n",
    "display(Math(r'h_{{c, \\rm{{S3}}}} = ({0:.1f}^{{+{1:.1f}}}_{{-{2:.1f}}}) \\times 10^{{{3}}}'\n",
    "             .format(S3_hc_q[1, -1, -1, -1] / order,\n",
    "                     (S3_hc_q[2, -1, -1, -1] - S3_hc_q[1, -1, -1, -1]) / order,\n",
    "                     (S3_hc_q[1, -1, -1, -1] - S3_hc_q[0, -1, -1, -1]) / order,\n",
    "                     np.log10(order))))"
   ]
  },
  {
   "cell_type": "markdown",
   "metadata": {},
   "source": [
    "#### Number density"
   ]
  },
  {
   "cell_type": "code",
   "execution_count": 171,
   "metadata": {},
   "outputs": [],
   "source": [
    "S3_number_density = trapz(trapz(S3_bhb_population, log_m_bh_range, axis=0), q_range, axis=1)\n",
    "S3_number_density_q = np.quantile(S3_number_density, q=[.16, .5, .84], axis=-1)"
   ]
  },
  {
   "cell_type": "code",
   "execution_count": 172,
   "metadata": {},
   "outputs": [
    {
     "data": {
      "text/latex": [
       "$\\displaystyle \\Phi_{\\rm{BHB}, 0, \\rm{S3}} = (1.4^{+0.3}_{-0.2}) \\times 10^{-3.0}\\;\\rm{Mpc}^{-3}$"
      ],
      "text/plain": [
       "<IPython.core.display.Math object>"
      ]
     },
     "metadata": {},
     "output_type": "display_data"
    }
   ],
   "source": [
    "order = 10. ** np.floor(np.log10(S3_number_density_q[1, 0]))\n",
    "display(Math(r'\\Phi_{{\\rm{{BHB}}, 0, \\rm{{S3}}}} = ({0:.1f}^{{+{1:.1f}}}_{{-{2:.1f}}}) \\times 10^{{{3}}}\\;\\rm{{Mpc}}^{{-3}}'\n",
    "             .format(S3_number_density_q[1, 0] / order,\n",
    "                     (S3_number_density_q[2, 0] - S3_number_density_q[1, 0]) / order,\n",
    "                     (S3_number_density_q[1, 0] - S3_number_density_q[0, 0]) / order,\n",
    "                     np.log10(order))))"
   ]
  },
  {
   "cell_type": "code",
   "execution_count": 173,
   "metadata": {},
   "outputs": [],
   "source": [
    "S3_detectable_number_density = trapz(trapz(S3_bhb_population[log_m_bh_range >= log_m_bh_norm_min, ...],\n",
    "                                        log_m_bh_range[log_m_bh_range >= log_m_bh_norm_min], axis=0), q_range, axis=1)\n",
    "S3_detectable_number_density_q = np.quantile(S3_detectable_number_density, q=[.16, .5, .84], axis=-1)"
   ]
  },
  {
   "cell_type": "code",
   "execution_count": 174,
   "metadata": {},
   "outputs": [
    {
     "data": {
      "text/latex": [
       "$\\displaystyle \\Phi_{\\rm{BHB}, 0, \\rm{S3}} = (1.7^{+0.7}_{-0.5}) \\times 10^{-4.0}\\;\\rm{Mpc}^{-3}$"
      ],
      "text/plain": [
       "<IPython.core.display.Math object>"
      ]
     },
     "metadata": {},
     "output_type": "display_data"
    }
   ],
   "source": [
    "order = 10. ** np.floor(np.log10(S3_detectable_number_density_q[1, 0]))\n",
    "display(Math(r'\\Phi_{{\\rm{{BHB}}, 0, \\rm{{S3}}}} = ({0:.1f}^{{+{1:.1f}}}_{{-{2:.1f}}}) \\times 10^{{{3}}}\\;\\rm{{Mpc}}^{{-3}}'\n",
    "             .format(S3_detectable_number_density_q[1, 0] / order,\n",
    "                     (S3_detectable_number_density_q[2, 0] - S3_detectable_number_density_q[1, 0]) / order,\n",
    "                     (S3_detectable_number_density_q[1, 0] - S3_detectable_number_density_q[0, 0]) / order,\n",
    "                     np.log10(order))))"
   ]
  },
  {
   "cell_type": "markdown",
   "metadata": {},
   "source": [
    "#### Local Mass Function"
   ]
  },
  {
   "cell_type": "code",
   "execution_count": 175,
   "metadata": {},
   "outputs": [],
   "source": [
    "S3_local_bhmf = trapz(trapz(S3_bhb_population, q_range, axis=2), z_range_ilbert, axis=1) / (np.log(10) * (10 ** log_m_bh_range[:, np.newaxis]))\n",
    "S3_local_bhmf_q = np.quantile(S3_local_bhmf, q=[.16, .5, .84], axis=-1)"
   ]
  },
  {
   "cell_type": "markdown",
   "metadata": {},
   "source": [
    "#### Summary"
   ]
  },
  {
   "cell_type": "code",
   "execution_count": 176,
   "metadata": {},
   "outputs": [],
   "source": [
    "with h5py.File('../data/processed/S3.h5', 'w') as hf:\n",
    "    hf.create_dataset('log_m_bh_range', data=log_m_bh_range)\n",
    "    hf.create_dataset('z_range', data=z_range_ilbert)\n",
    "    hf.create_dataset('q_range', data=q_range)\n",
    "    hf.create_dataset('population', data=S3_bhb_population)\n",
    "    hf.create_dataset('characteristic_strain', data=S3_hc)\n",
    "    hf.create_dataset('number_density',  data=S3_number_density)\n",
    "    hf.create_dataset('local_bhmf', data=S3_local_bhmf)"
   ]
  },
  {
   "cell_type": "markdown",
   "metadata": {},
   "source": [
    "## Plots"
   ]
  },
  {
   "cell_type": "code",
   "execution_count": 177,
   "metadata": {},
   "outputs": [],
   "source": [
    "import seaborn as sns\n",
    "import matplotlib.pyplot as plt\n",
    "%matplotlib inline\n",
    "sns.set_context(\"talk\", font_scale=1.2)\n",
    "sns.set_style('ticks')\n",
    "sns.set_palette('colorblind')\n",
    "figparams = {'font.family': 'DejaVu Sans',\n",
    "             'font.serif':'Times',\n",
    "             'text.latex.preamble': r'\\usepackage{amsmath}',\n",
    "             'text.usetex': True,\n",
    "             'hatch.linewidth' : 3.0}\n",
    "plt.rcParams.update(figparams)\n",
    "cs = plt.rcParams['axes.prop_cycle'].by_key()['color']"
   ]
  },
  {
   "cell_type": "code",
   "execution_count": 178,
   "metadata": {},
   "outputs": [],
   "source": [
    "from matplotlib.legend_handler import HandlerLine2D, HandlerTuple\n",
    "\n",
    "class HandlerTupleVertical(HandlerTuple):\n",
    "    def __init__(self, **kwargs):\n",
    "        HandlerTuple.__init__(self, **kwargs)\n",
    "\n",
    "    def create_artists(self, legend, orig_handle,\n",
    "                       xdescent, ydescent, width, height, fontsize, trans):\n",
    "        # How many lines are there.\n",
    "        numlines = len(orig_handle)\n",
    "        handler_map = legend.get_legend_handler_map()\n",
    "\n",
    "        # divide the vertical space where the lines will go\n",
    "        # into equal parts based on the number of lines\n",
    "        height_y = (height / numlines)\n",
    "\n",
    "        leglines = []\n",
    "        for i, handle in enumerate(orig_handle):\n",
    "            handler = legend.get_legend_handler(handler_map, handle)\n",
    "\n",
    "            legline = handler.create_artists(legend, handle,\n",
    "                                             xdescent,\n",
    "                                             (2*i + 1)*height_y,\n",
    "                                             width,\n",
    "                                             2*height,\n",
    "                                             fontsize, trans)\n",
    "            leglines.extend(legline)\n",
    "\n",
    "        return leglines"
   ]
  },
  {
   "cell_type": "code",
   "execution_count": 183,
   "metadata": {},
   "outputs": [
    {
     "data": {
      "image/png": "[encoded data removed]",
      "text/plain": [
       "<Figure size 2592x648 with 3 Axes>"
      ]
     },
     "metadata": {},
     "output_type": "display_data"
    }
   ],
   "source": [
    "log_nz_i_l_kw_fid_min = np.floor(np.min(np.log10([np.min(differential_number_density_q[1]), np.min(S1_number_density_q[1]),\n",
    "                                                  np.min(S2_number_density_q[1]), np.min(S3_number_density_q[1])])))\n",
    "log_nz_i_l_kw_fid_max = np.ceil(np.max(np.log10([np.max(differential_number_density_q[1]), np.max(S1_number_density_q[1]),\n",
    "                                                 np.max(S2_number_density_q[1]), np.max(S3_number_density_q[1])])))\n",
    "\n",
    "\n",
    "log_hc_min = np.floor(10 * np.min(np.log10(np.concatenate((hc[-1, -1, -1, :], S1_hc[-1, -1, -1, :],\n",
    "                                            S2_hc[-1, -1, -1, :], S3_hc[-1, -1, -1, :]))))) / 10\n",
    "log_hc_max = np.ceil(10 * np.max(np.log10(np.concatenate((hc[-1, -1, -1, :], S1_hc[-1, -1, -1, :],\n",
    "                                           S2_hc[-1, -1, -1, :], S3_hc[-1, -1, -1, :]))))) / 10\n",
    "bins = np.linspace(log_hc_min, log_hc_max,\n",
    "                   int((log_hc_max - (log_hc_min - .1)) / .1))\n",
    "\n",
    "sesana_min = 3.5e-16\n",
    "sesana_max = 1.5e-15\n",
    "log_sesana_min = np.log10(sesana_min)\n",
    "log_sesana_max = np.log10(sesana_max)\n",
    "log_sesana_mid = np.mean([log_sesana_min, log_sesana_max])\n",
    "log_sesana_h = log_sesana_max - log_sesana_mid\n",
    "log_sesana_l = log_sesana_mid - log_sesana_min\n",
    "\n",
    "log_hc_mid = np.log10(hc_q[1, -1, -1, -1])\n",
    "log_hc_min = np.log10(hc_q[0, -1, -1, -1])\n",
    "log_hc_max = np.log10(hc_q[2, -1, -1, -1])\n",
    "log_hc_h = log_hc_max - log_hc_mid\n",
    "log_hc_l = log_hc_mid - log_hc_min\n",
    "\n",
    "sns.set_context(\"talk\", font_scale=1.8)\n",
    "fig, ax = plt.subplots(1, 3, figsize=(36, 9))\n",
    "\n",
    "label_fsize = 42\n",
    "legend_fsize = 30\n",
    "text_fs = 28\n",
    "\n",
    "ax[0].tick_params()\n",
    "ax[1].tick_params()\n",
    "\n",
    "ax[0].fill_between(z_range_borch, S1_number_density_q[0], S1_number_density_q[2],\n",
    "                 color=cs[1], alpha=.2, hatch='\\\\')\n",
    "s1, = ax[0].plot(z_range_borch, S1_number_density_q[1], color=cs[1],\n",
    "                linewidth=3, linestyle=':')\n",
    "ax[0].text(z_range_borch[int(n_mesh / 2) - 1], .9 * S1_number_density_q[0, int(n_mesh / 2) - 1], 'S1', color=cs[1],\n",
    "           verticalalignment='top', horizontalalignment='left', fontsize=text_fs)\n",
    "\n",
    "ax[0].fill_between(z_range_drory, S2_number_density_q[0], S2_number_density_q[2],\n",
    "                 color=cs[1], alpha=.2, hatch='||')\n",
    "s2, = ax[0].plot(z_range_drory, S2_number_density_q[1], color=cs[1],\n",
    "                linewidth=3, linestyle='-.')\n",
    "ax[0].text(1.05 * z_range_drory[n_mesh - 1], S2_number_density_q[1, n_mesh - 1], 'S2', color=cs[1],\n",
    "           verticalalignment='center', horizontalalignment='left', fontsize=text_fs)\n",
    "\n",
    "ax[0].fill_between(z_range_ilbert, S3_number_density_q[0], S3_number_density_q[2],\n",
    "                 color=cs[1], alpha=.2, hatch='-')\n",
    "s3, = ax[0].plot(z_range_ilbert, S3_number_density_q[1], color=cs[1],\n",
    "                linewidth=3, linestyle=(0, (3, 1, 1, 1, 1, 1)))\n",
    "ax[0].text(1.05 * z_range_ilbert[n_mesh - 1], S3_number_density_q[1, n_mesh - 1], 'S3', color=cs[1],\n",
    "           verticalalignment='center', horizontalalignment='left', fontsize=text_fs)\n",
    "\n",
    "ax[0].fill_between(z_range, G19_number_density_q[0], G19_number_density_q[2], color=cs[2], alpha=.2, hatch='.')\n",
    "m2, = ax[0].plot(z_range, G19_number_density_q[1], color=cs[2], linewidth=3, linestyle='--')\n",
    "\n",
    "ax[0].fill_between(z_range, differential_number_density_q[0], differential_number_density_q[2], color=cs[0], alpha=.2, hatch='/')\n",
    "m1, = ax[0].plot(z_range, differential_number_density_q[1], color=cs[0], linewidth=3, linestyle='-')\n",
    "\n",
    "ax[0].set_yscale('log')\n",
    "ax[0].set_ylabel(r'$\\Phi_{\\rm{BHB}}(z)\\ [\\rm{Mpc}^{-3}]$', fontsize=label_fsize)\n",
    "ax[0].set_xlabel(r'$z$', fontsize=label_fsize)\n",
    "# ax[0].set_ylim((10 ** (log_nz_i_l_kw_fid_min - 1), 10 ** (log_nz_i_l_kw_fid_max + 1)))\n",
    "ax[0].set_ylim(top=5e-2, bottom=1e-7)\n",
    "\n",
    "ax[0].legend([m1, m2, (s1, s2, s3)], ['AGN-based', 'G19', 'S13 Models'], numpoints=1,\n",
    "             handler_map={tuple: HandlerTupleVertical(ndivide=None)}, loc='lower right', frameon=False, fontsize=legend_fsize)\n",
    "\n",
    "ax[0].text(.95, .95, '(a)', fontsize=legend_fsize, verticalalignment='top', horizontalalignment='right', transform=ax[0].transAxes)\n",
    "\n",
    "ax[1].fill_between(10 ** log_m_bh_range, S1_local_bhmf_q[0], S1_local_bhmf_q[2], color=cs[1], alpha=.2, hatch='\\\\')\n",
    "s1, = ax[1].plot(10 ** log_m_bh_range, S1_local_bhmf_q[1], color=cs[1],\n",
    "                 linewidth=3, linestyle=':')\n",
    "ax[1].fill_between(10 ** log_m_bh_range, S2_local_bhmf_q[0], S2_local_bhmf_q[2], color=cs[1], alpha=.2, hatch='||')\n",
    "s2, = ax[1].plot(10 ** log_m_bh_range, S2_local_bhmf_q[1], color=cs[1],\n",
    "                 linewidth=3, linestyle='-.')\n",
    "ax[1].fill_between(10 ** log_m_bh_range, S3_local_bhmf_q[0], S3_local_bhmf_q[2], color=cs[1], alpha=.2, hatch='-')\n",
    "s3, = ax[1].plot(10 ** log_m_bh_range, S3_local_bhmf_q[1], color=cs[1],\n",
    "                 linewidth=3, linestyle=(0, (3, 1, 1, 1, 1, 1)))\n",
    "\n",
    "ax[1].fill_between(10 ** log_m_bh_range, G19_local_bhmf_q[0], G19_local_bhmf_q[2], color=cs[2], alpha=.2, hatch='.')\n",
    "m2, = ax[1].plot(10 ** log_m_bh_range, G19_local_bhmf_q[1], color=cs[2], linewidth=3, linestyle='--')\n",
    "\n",
    "ax[1].fill_between(10 ** log_m_bh_range, local_bhmf_q[0], local_bhmf_q[2], color=cs[0], alpha=.2, hatch='/')\n",
    "m1, = ax[1].plot(10 ** log_m_bh_range, local_bhmf_q[1], color=cs[0], linewidth=3, linestyle='-')\n",
    "\n",
    "ax[1].set_xscale('log')\n",
    "ax[1].set_yscale('log')\n",
    "ax[1].set_ylabel(r'$d \\Phi_{\\rm{BHB}} / d M_{\\rm{BH}}\\ [M_{\\odot}^{-1}\\,\\rm{Mpc}^{-3}]$', fontsize=label_fsize)\n",
    "ax[1].set_xlabel(r'$M_{\\rm{BH}} [M_{\\odot}]$', fontsize=label_fsize)\n",
    "ax[1].set_ylim(bottom=1e-22, top=1e-9)\n",
    "ax[1].legend([m1, m2, (s1, s2, s3)], ['Hopkins+ 2007', 'Marconi+ 2004', 'S13 Models'], numpoints=1,\n",
    "             handler_map={tuple: HandlerTupleVertical(ndivide=None)}, loc='lower left', frameon=False, fontsize=legend_fsize)\n",
    "ax[1].text(.95, .95, '(b)', fontsize=legend_fsize, verticalalignment='top', horizontalalignment='right', transform=ax[1].transAxes)\n",
    "\n",
    "ax[2].axvspan(log_sesana_min, log_sesana_max, color='k', alpha=.1)\n",
    "ax[2].hist(np.log10(S1_hc[-1, -1, -1, :]), histtype='step', bins=bins,\n",
    "           density=False, color=cs[1], linestyle=':',\n",
    "           label=r'S13: Realization 1',\n",
    "           weights=np.repeat(1 / len(S1_hc[-1, -1, -1, :]), len(S1_hc[-1, -1, -1, :])),\n",
    "           fill=True, alpha=.2, hatch='\\\\')\n",
    "ax[2].hist(np.log10(S1_hc[-1, -1, -1, :]), histtype='step', bins=bins,\n",
    "           density=False, color=cs[1], linestyle=':',\n",
    "           label=r'S13: Realization 1',\n",
    "           weights=np.repeat(1 / len(S1_hc[-1, -1, -1, :]), len(S1_hc[-1, -1, -1, :])))\n",
    "\n",
    "ax[2].hist(np.log10(S2_hc[-1, -1, -1, :]), histtype='step', bins=bins,\n",
    "           density=False, color=cs[1], linestyle='-.',\n",
    "           label=r'S13: Realization 2',\n",
    "           weights=np.repeat(1 / len(S2_hc[-1, -1, -1, :]), len(S2_hc[-1, -1, -1, :])),\n",
    "           fill=True, alpha=.2, hatch='||')\n",
    "ax[2].hist(np.log10(S2_hc[-1, -1, -1, :]), histtype='step', bins=bins,\n",
    "           density=False, color=cs[1], linestyle='-.',\n",
    "           label=r'S13: Realization 2',\n",
    "           weights=np.repeat(1 / len(S2_hc[-1, -1, -1, :]), len(S2_hc[-1, -1, -1, :])))\n",
    "\n",
    "ax[2].hist(np.log10(S3_hc[-1, -1, -1, :]), histtype='step', bins=bins,\n",
    "           density=False, color=cs[1], linestyle=(0, (3, 1, 1, 1, 1, 1)),\n",
    "           label=r'S13: Realization 3',\n",
    "           weights=np.repeat(1 / len(S3_hc[-1, -1, -1, :]), len(S3_hc[-1, -1, -1, :])),\n",
    "           fill=True, alpha=.2, hatch='-')\n",
    "ax[2].hist(np.log10(S3_hc[-1, -1, -1, :]), histtype='step', bins=bins,\n",
    "           density=False, color=cs[1], linestyle=(0, (3, 1, 1, 1, 1, 1)),\n",
    "           label=r'S13: Realization 3',\n",
    "           weights=np.repeat(1 / len(S3_hc[-1, -1, -1, :]), len(S3_hc[-1, -1, -1, :])))\n",
    "\n",
    "ax[2].hist(np.log10(G19_hc[-1, -1, :]), histtype='step', bins=bins, density=False, color=cs[2], linestyle='--',\n",
    "           label=r'G19', weights=np.repeat(1 / len(G19_hc[-1, -1, :]), len(G19_hc[-1, -1, :])), linewidth=2, fill=True, alpha=.2, hatch='.')\n",
    "ax[2].hist(np.log10(G19_hc[-1, -1, :]), histtype='step', bins=bins, density=False, color=cs[2], linestyle='--',\n",
    "           label=r'G19', weights=np.repeat(1 / len(G19_hc[-1, -1, :]), len(G19_hc[-1, -1, :])), linewidth=2)\n",
    "\n",
    "ax[2].hist(np.log10(hc[-1, -1, -1, :]), histtype='step', bins=bins, density=False, color=cs[0], linestyle='-',\n",
    "           label=r'AGN-based', weights=np.repeat(1 / len(hc[-1, -1, -1, :]), len(hc[-1, -1, -1, :])), linewidth=2,\n",
    "           fill=True, alpha=.2, hatch='/')\n",
    "ax[2].hist(np.log10(hc[-1, -1, -1, :]), histtype='step', bins=bins, density=False, color=cs[0], linestyle='-',\n",
    "           label=r'AGN-based', weights=np.repeat(1 / len(hc[-1, -1, -1, :]), len(hc[-1, -1, -1, :])), linewidth=2)\n",
    "\n",
    "# ax[2].annotate(r'S13',\n",
    "#                xy=(log_sesana_min - .3, .49))\n",
    "# ax[2].errorbar(log_hc_mid, 0.45,\n",
    "#              xerr=[[log_hc_l],\n",
    "#                    [log_hc_h]],\n",
    "#              capsize=4, color=cs[0])\n",
    "# ax[2].annotate(r'This Work',\n",
    "#                xy=(log_hc_min - .75, .44))\n",
    "\n",
    "ax[2].axvline(np.log10(1.9e-15), color='k', linestyle='--')\n",
    "ax[2].annotate(r'NG12.5',\n",
    "               xy=(np.log10(1.9e-15) + .03, .4), xytext=(3, 3),\n",
    "               textcoords=\"offset points\", rotation_mode='anchor', rotation=0)\n",
    "ax[2].set_xlabel(r'$\\log h_{c}$', fontsize=label_fsize)\n",
    "ax[2].set_ylabel(r'$P(h_{c})$', fontsize=label_fsize)\n",
    "ax[2].set_xlim(left=-17, right=-14)\n",
    "ax[2].set_ylim(top=.5)\n",
    "ax[2].legend([m1, m2, (s1, s2, s3)], ['AGN-based', 'G19', 'S13 Models'], numpoints=1,\n",
    "             handler_map={tuple: HandlerTupleVertical(ndivide=None)}, frameon=False, loc='upper left', fontsize=legend_fsize)\n",
    "ax[2].text(.95, .95, '(c)', fontsize=legend_fsize, verticalalignment='top', horizontalalignment='right', transform=ax[2].transAxes)\n",
    "\n",
    "plt.tight_layout()\n",
    "plt.savefig('../reports/figures/model_comparison.pdf')\n",
    "plt.savefig('../reports/figures/model_comparison.png')\n",
    "plt.show()"
   ]
  },
  {
   "cell_type": "code",
   "execution_count": null,
   "metadata": {},
   "outputs": [],
   "source": []
  }
 ],
 "metadata": {
  "kernelspec": {
   "display_name": "Python 3",
   "language": "python",
   "name": "python3"
  },
  "language_info": {
   "codemirror_mode": {
    "name": "ipython",
    "version": 3
   },
   "file_extension": ".py",
   "mimetype": "text/x-python",
   "name": "python",
   "nbconvert_exporter": "python",
   "pygments_lexer": "ipython3",
   "version": "3.9.2"
  },
  "toc-autonumbering": true
 },
 "nbformat": 4,
 "nbformat_minor": 4
}
