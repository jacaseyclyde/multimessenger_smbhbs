{
 "cells": [
  {
   "cell_type": "markdown",
   "metadata": {},
   "source": [
    "# Introduction"
   ]
  },
  {
   "cell_type": "markdown",
   "metadata": {},
   "source": [
    "# Methods"
   ]
  },
  {
   "cell_type": "code",
   "execution_count": 1,
   "metadata": {},
   "outputs": [
    {
     "name": "stderr",
     "output_type": "stream",
     "text": [
      "<ipython-input-1-9ebd7f0e5971>:30: TqdmExperimentalWarning: Using `tqdm.autonotebook.tqdm` in notebook mode. Use `tqdm.tqdm` instead to force console mode (e.g. in jupyter console)\n",
      "  from tqdm.autonotebook import tqdm\n"
     ]
    }
   ],
   "source": [
    "# OPTIONAL: Load the \"autoreload\" extension so that code can change\n",
    "%load_ext autoreload\n",
    "\n",
    "# OPTIONAL: always reload modules so that as you change code in src, it gets loaded\n",
    "%autoreload 2\n",
    "import os\n",
    "import sys\n",
    "module_path = os.path.abspath(os.path.join('..'))\n",
    "if module_path not in sys.path:\n",
    "    sys.path.append(module_path)\n",
    "\n",
    "import multiprocessing as mp\n",
    "import numpy as np\n",
    "import pandas as pd\n",
    "import pickle\n",
    "import h5py\n",
    "from IPython.display import display, Math\n",
    "\n",
    "from scipy.integrate import trapz, cumtrapz\n",
    "from scipy.interpolate import UnivariateSpline\n",
    "from scipy.stats import lognorm, truncnorm, rv_continuous\n",
    "\n",
    "import astropy.constants as const\n",
    "import astropy.units as u\n",
    "import astropy.uncertainty as unc\n",
    "from astropy.cosmology import WMAP9, z_at_value\n",
    "from astropy.modeling.functional_models import Linear1D, Const1D, Shift, Gaussian1D\n",
    "from astropy.modeling.tabular import Tabular1D\n",
    "\n",
    "from tqdm.autonotebook import tqdm\n",
    "\n",
    "from src.models.agn_proxy import (Hopkins2007QuasarFormationDensity,\n",
    "                                  LogNormal1D, Const3D, QuasarProxyBinaries,\n",
    "                                  ModifiedSchechter, Marconi2004BHMF, Hopkins2007QuasarNumberDensity,\n",
    "                                  Goulding2019J1010Binaries)\n",
    "from src.models.major_merger import (Schechter1D, Schechter2D,\n",
    "                                     DoubleSchechter2D, TripleSchechter2D,\n",
    "                                     PairFraction3D, PairFraction3D_3bins,\n",
    "                                     Timescale3D, Sesana2013_Schechter,\n",
    "                                     Sesana2013_DoubleSchechter,\n",
    "                                     Sesana2013_TripleSchechter)"
   ]
  },
  {
   "cell_type": "code",
   "execution_count": 2,
   "metadata": {},
   "outputs": [
    {
     "data": {
      "text/plain": [
       "(1024, 32)"
      ]
     },
     "execution_count": 2,
     "metadata": {},
     "output_type": "execute_result"
    }
   ],
   "source": [
    "# Global variables\n",
    "n_samples = int(2 ** 10)\n",
    "n_mesh = int(2 ** 5)\n",
    "n_samples, n_mesh"
   ]
  },
  {
   "cell_type": "code",
   "execution_count": 3,
   "metadata": {},
   "outputs": [],
   "source": [
    "# class declarations\n",
    "class split_normal(rv_continuous):\n",
    "    def __init__(self, loc, scale1, scale2, *args, **kwargs):\n",
    "        self.loc = loc\n",
    "        self.scale1 = scale1\n",
    "        self.scale2 = scale2\n",
    "        self.normalization = 2 / (scale1 + scale2)\n",
    "        super().__init__(self, *args, **kwargs)\n",
    "        \n",
    "    def _pdf(self, x):\n",
    "        if x < self.loc:\n",
    "            return self.normalization * truncnorm.pdf(x, self.a, self.b, self.loc, self.scale1)\n",
    "        else:\n",
    "            return self.normalization * truncnorm.pdf(x, self.a, self.b, self.loc, self.scale2)\n",
    "    \n",
    "    def _cdf(self, x):\n",
    "        if x < self.loc:\n",
    "            return self.normalization * self.scale1 * truncnorm.cdf(x, self.a, self.b, self.loc, self.scale1)\n",
    "        else:\n",
    "            return 1 - self.normalization * self.scale2 * (1 - truncnorm.cdf(x, self.a, self.b, self.loc, self.scale2))\n",
    "    \n",
    "    def _ppf(self, q):\n",
    "        p = self.scale1 / (self.scale1 + self.scale2)\n",
    "        \n",
    "        output = np.where(q <= p,\n",
    "                          self.loc + self.scale1\n",
    "                          * truncnorm.ppf(.5 * (self.scale1 + self.scale2) * q\n",
    "                                          / self.scale1, self.a, self.b),\n",
    "                          self.loc + self.scale2\n",
    "                          * truncnorm.ppf(0.5 * ((self.scale1 + self.scale2)\n",
    "                                                 * (1 + q) - 2 * self.scale1)\n",
    "                                          / self.scale2, self.a, self.b))\n",
    "        return np.squeeze(output)"
   ]
  },
  {
   "cell_type": "code",
   "execution_count": 4,
   "metadata": {},
   "outputs": [],
   "source": [
    "def trunc_norm_dist(a=0, b=np.inf, loc=0, scale=1, size=n_samples):\n",
    "    return truncnorm.rvs(a=(a - loc) / scale, b=(b - loc) / scale,\n",
    "                                          loc=loc, scale=scale,\n",
    "                                          size=size)"
   ]
  },
  {
   "cell_type": "markdown",
   "metadata": {},
   "source": [
    "## Dependencies/Assumptions"
   ]
  },
  {
   "cell_type": "markdown",
   "metadata": {},
   "source": [
    "### Shared"
   ]
  },
  {
   "cell_type": "markdown",
   "metadata": {},
   "source": [
    "#### Parameter space"
   ]
  },
  {
   "cell_type": "code",
   "execution_count": 5,
   "metadata": {},
   "outputs": [],
   "source": [
    "log_m_bh_min = 7\n",
    "log_m_bh_max = 10\n",
    "\n",
    "log_m_bh_range = np.linspace(log_m_bh_min, log_m_bh_max, num=n_mesh)\n",
    "\n",
    "z_min = 0\n",
    "z_max = 3\n",
    "z_range = np.linspace(z_min, z_max, num=n_mesh)\n",
    "\n",
    "q_min = 0.25\n",
    "q_max = 1\n",
    "q_range = np.linspace(q_min, q_max, num=n_mesh)"
   ]
  },
  {
   "cell_type": "markdown",
   "metadata": {},
   "source": [
    "#### Fiducial values"
   ]
  },
  {
   "cell_type": "code",
   "execution_count": 6,
   "metadata": {},
   "outputs": [],
   "source": [
    "fidhz = (1 / u.yr).to(u.Hz)"
   ]
  },
  {
   "cell_type": "markdown",
   "metadata": {
    "toc-hr-collapsed": true
   },
   "source": [
    "#### Cappellari (2013)"
   ]
  },
  {
   "cell_type": "markdown",
   "metadata": {},
   "source": [
    "##### $M_{\\rm{gal}} - M_{K}$ model parameters"
   ]
  },
  {
   "cell_type": "code",
   "execution_count": 7,
   "metadata": {},
   "outputs": [],
   "source": [
    "a_cappellari = unc.normal(10.5829, std=0.0086, n_samples=n_samples).distribution\n",
    "b_cappellari = unc.normal(-0.4449, std=0.0091, n_samples=n_samples).distribution"
   ]
  },
  {
   "cell_type": "markdown",
   "metadata": {},
   "source": [
    "##### $M_{\\rm{gal}} - K$ model"
   ]
  },
  {
   "cell_type": "code",
   "execution_count": 8,
   "metadata": {},
   "outputs": [],
   "source": [
    "c_intercept = a_cappellari + (b_cappellari * 23)\n",
    "c_slope = b_cappellari\n",
    "cappellari_mgal_k = Linear1D(slope=c_slope,\n",
    "                             intercept=c_intercept,\n",
    "                             n_models=n_samples)"
   ]
  },
  {
   "cell_type": "code",
   "execution_count": 9,
   "metadata": {},
   "outputs": [
    {
     "name": "stdout",
     "output_type": "stream",
     "text": [
      "Model: Linear1D\n",
      "Inputs: ('x',)\n",
      "Outputs: ('y',)\n",
      "Model set size: 1024\n",
      "Parameters:\n",
      "           slope               intercept      \n",
      "    -------------------- ---------------------\n",
      "     -0.4513468625368255    0.1976253670434236\n",
      "     -0.4665633726846079  -0.14655179151636055\n",
      "    -0.43062292278082814    0.6660408577910886\n",
      "     -0.4462682762780714    0.3208834208523985\n",
      "    -0.44674233934523905   0.30664122121574344\n",
      "     -0.4411197636366883   0.43118981338596285\n",
      "     -0.4618668864044634 -0.022375416094256195\n",
      "     -0.4467501429699229   0.31096507094839154\n",
      "    -0.44084368517261796   0.45030090873879125\n",
      "    -0.45002765411117507    0.2359078438905815\n",
      "                     ...                   ...\n",
      "     -0.4328593253695155    0.6263886666743783\n",
      "     -0.4456856245157887    0.3305153217249863\n",
      "    -0.45333800767705434   0.15799049275070942\n",
      "    -0.45767222640617233  0.055710572698195904\n",
      "    -0.43246993748966833    0.6342598310058172\n",
      "     -0.4538897966581734   0.12309745839614905\n",
      "     -0.4530989916471533   0.15080241221117774\n",
      "    -0.44478231552156056   0.35011283796447223\n",
      "     -0.4436418845559304    0.3611732639274532\n",
      "    -0.43064127654050366    0.6644709260255155\n",
      "     -0.4588799456270719  0.026563344657235533\n",
      "    Length = 1024 rows\n"
     ]
    }
   ],
   "source": [
    "print(cappellari_mgal_k)\n",
    "with open('../models/Cappellari2013_mgal_mk_relation.pkl', 'wb') as f:\n",
    "    pickle.dump(cappellari_mgal_k, f)"
   ]
  },
  {
   "cell_type": "markdown",
   "metadata": {
    "toc-hr-collapsed": true
   },
   "source": [
    "#### McConnell & Ma (2013)"
   ]
  },
  {
   "cell_type": "markdown",
   "metadata": {},
   "source": [
    "##### $M - M_{\\rm{bulge}}$ model parameters"
   ]
  },
  {
   "cell_type": "code",
   "execution_count": 10,
   "metadata": {},
   "outputs": [],
   "source": [
    "alpha_mcconnell_ma = unc.normal(8.46, std=.08, n_samples=n_samples).distribution\n",
    "beta_mcconnell_ma = unc.normal(1.05, std=.11, n_samples=n_samples).distribution\n",
    "intrinsic_disp_mcconnell_ma = np.random.normal(scale=.34, size=n_samples)"
   ]
  },
  {
   "cell_type": "markdown",
   "metadata": {},
   "source": [
    "##### $M - M_{\\rm{bulge}}$ model"
   ]
  },
  {
   "cell_type": "markdown",
   "metadata": {},
   "source": [
    "Scaled to $M_{\\rm{bulge}} / 10^{11}\\;\\rm{M}_{\\odot}$"
   ]
  },
  {
   "cell_type": "code",
   "execution_count": 11,
   "metadata": {},
   "outputs": [],
   "source": [
    "mm_intercept = alpha_mcconnell_ma - (beta_mcconnell_ma * 11)\n",
    "mm_slope = beta_mcconnell_ma\n",
    "mcconnell_ma_m_mbulge = Linear1D(slope=mm_slope,\n",
    "                                 intercept=mm_intercept,\n",
    "                                 n_models=n_samples)"
   ]
  },
  {
   "cell_type": "code",
   "execution_count": 12,
   "metadata": {},
   "outputs": [
    {
     "name": "stdout",
     "output_type": "stream",
     "text": [
      "Model: Linear1D\n",
      "Inputs: ('x',)\n",
      "Outputs: ('y',)\n",
      "Model set size: 1024\n",
      "Parameters:\n",
      "          slope             intercept     \n",
      "    ------------------ -------------------\n",
      "     1.165454541677718 -4.3289153848677095\n",
      "     1.166514529390051  -4.363399068522563\n",
      "    1.1747968420109376 -4.5313076365990685\n",
      "     1.058863156260263 -3.0878345476805027\n",
      "    1.1803365980321536  -4.425099085689753\n",
      "    1.1855510687853983  -4.512675346583693\n",
      "     1.192380627392538 -4.6627902824591825\n",
      "    1.0950211444304365 -3.5499988698121303\n",
      "    1.1851872696960695  -4.491481270013738\n",
      "    1.1320438646985844  -4.009058328264986\n",
      "                   ...                 ...\n",
      "     1.214402042054676  -4.911378682872572\n",
      "    0.8931498010778423 -1.3634991650329038\n",
      "    1.0621607000655164 -3.0815121234115335\n",
      "    1.0530044069098516   -3.10524506755511\n",
      "    1.1854437050756386 -4.6941000204292695\n",
      "    0.9607019305224066  -2.064093440287877\n",
      "    0.9116919154892631 -1.4126468922727504\n",
      "    1.0209310163749319  -2.848127812677655\n",
      "      1.12418829131918 -3.9311186250597725\n",
      "    1.0531926211952036 -3.1936776833993488\n",
      "    1.1178012501953973 -3.8185316583554485\n",
      "    Length = 1024 rows\n"
     ]
    }
   ],
   "source": [
    "print(mcconnell_ma_m_mbulge)\n",
    "with open('../models/McConnellMa2013_mbh_mbulge_relation.pkl', 'wb') as f:\n",
    "    pickle.dump(mcconnell_ma_m_mbulge, f)"
   ]
  },
  {
   "cell_type": "markdown",
   "metadata": {},
   "source": [
    "### AGN-proxy model"
   ]
  },
  {
   "cell_type": "markdown",
   "metadata": {},
   "source": [
    "#### $M_{\\rm{BH}} - M_{\\rm{K}}$"
   ]
  },
  {
   "cell_type": "code",
   "execution_count": 13,
   "metadata": {},
   "outputs": [],
   "source": [
    "log_m_bh_m_k = cappellari_mgal_k | mcconnell_ma_m_mbulge"
   ]
  },
  {
   "cell_type": "markdown",
   "metadata": {
    "toc-hr-collapsed": true
   },
   "source": [
    "#### Mingarelli+ (2017)"
   ]
  },
  {
   "cell_type": "markdown",
   "metadata": {},
   "source": [
    "##### Mass ratio range"
   ]
  },
  {
   "cell_type": "code",
   "execution_count": 14,
   "metadata": {},
   "outputs": [],
   "source": [
    "q_min_mingarelli = .25\n",
    "q_max_mingarelli = 1"
   ]
  },
  {
   "cell_type": "markdown",
   "metadata": {},
   "source": [
    "##### Mass ranges"
   ]
  },
  {
   "cell_type": "code",
   "execution_count": 15,
   "metadata": {},
   "outputs": [
    {
     "data": {
      "text/html": [
       "<div>\n",
       "<style scoped>\n",
       "    .dataframe tbody tr th:only-of-type {\n",
       "        vertical-align: middle;\n",
       "    }\n",
       "\n",
       "    .dataframe tbody tr th {\n",
       "        vertical-align: top;\n",
       "    }\n",
       "\n",
       "    .dataframe thead th {\n",
       "        text-align: right;\n",
       "    }\n",
       "</style>\n",
       "<table border=\"1\" class=\"dataframe\">\n",
       "  <thead>\n",
       "    <tr style=\"text-align: right;\">\n",
       "      <th></th>\n",
       "      <th>RA</th>\n",
       "      <th>DEC</th>\n",
       "      <th>D_L(Mpc)</th>\n",
       "      <th>Kmag</th>\n",
       "      <th>Name</th>\n",
       "    </tr>\n",
       "  </thead>\n",
       "  <tbody>\n",
       "    <tr>\n",
       "      <th>0</th>\n",
       "      <td>189.998</td>\n",
       "      <td>-11.623</td>\n",
       "      <td>14.63</td>\n",
       "      <td>-25.88</td>\n",
       "      <td>NGC4594</td>\n",
       "    </tr>\n",
       "    <tr>\n",
       "      <th>1</th>\n",
       "      <td>187.445</td>\n",
       "      <td>8.000</td>\n",
       "      <td>20.78</td>\n",
       "      <td>-26.20</td>\n",
       "      <td>NGC4472</td>\n",
       "    </tr>\n",
       "    <tr>\n",
       "      <th>2</th>\n",
       "      <td>50.674</td>\n",
       "      <td>-37.208</td>\n",
       "      <td>19.76</td>\n",
       "      <td>-25.90</td>\n",
       "      <td>NGC1316</td>\n",
       "    </tr>\n",
       "    <tr>\n",
       "      <th>3</th>\n",
       "      <td>190.917</td>\n",
       "      <td>11.553</td>\n",
       "      <td>20.78</td>\n",
       "      <td>-25.86</td>\n",
       "      <td>NGC4649</td>\n",
       "    </tr>\n",
       "    <tr>\n",
       "      <th>4</th>\n",
       "      <td>187.706</td>\n",
       "      <td>12.391</td>\n",
       "      <td>20.78</td>\n",
       "      <td>-25.78</td>\n",
       "      <td>NGC4486</td>\n",
       "    </tr>\n",
       "    <tr>\n",
       "      <th>...</th>\n",
       "      <td>...</td>\n",
       "      <td>...</td>\n",
       "      <td>...</td>\n",
       "      <td>...</td>\n",
       "      <td>...</td>\n",
       "    </tr>\n",
       "    <tr>\n",
       "      <th>5105</th>\n",
       "      <td>214.458</td>\n",
       "      <td>0.511</td>\n",
       "      <td>223.09</td>\n",
       "      <td>-25.11</td>\n",
       "      <td>PGC051063</td>\n",
       "    </tr>\n",
       "    <tr>\n",
       "      <th>5106</th>\n",
       "      <td>64.351</td>\n",
       "      <td>-37.282</td>\n",
       "      <td>216.26</td>\n",
       "      <td>-25.05</td>\n",
       "      <td>PGC014806</td>\n",
       "    </tr>\n",
       "    <tr>\n",
       "      <th>5107</th>\n",
       "      <td>123.188</td>\n",
       "      <td>11.632</td>\n",
       "      <td>223.76</td>\n",
       "      <td>-25.13</td>\n",
       "      <td>PGC1396460</td>\n",
       "    </tr>\n",
       "    <tr>\n",
       "      <th>5108</th>\n",
       "      <td>206.159</td>\n",
       "      <td>21.093</td>\n",
       "      <td>218.77</td>\n",
       "      <td>-25.30</td>\n",
       "      <td>PGC3089894</td>\n",
       "    </tr>\n",
       "    <tr>\n",
       "      <th>5109</th>\n",
       "      <td>270.047</td>\n",
       "      <td>48.654</td>\n",
       "      <td>218.26</td>\n",
       "      <td>-25.41</td>\n",
       "      <td>PGC2322449</td>\n",
       "    </tr>\n",
       "  </tbody>\n",
       "</table>\n",
       "<p>5110 rows × 5 columns</p>\n",
       "</div>"
      ],
      "text/plain": [
       "           RA     DEC  D_L(Mpc)   Kmag        Name\n",
       "0     189.998 -11.623     14.63 -25.88     NGC4594\n",
       "1     187.445   8.000     20.78 -26.20     NGC4472\n",
       "2      50.674 -37.208     19.76 -25.90     NGC1316\n",
       "3     190.917  11.553     20.78 -25.86     NGC4649\n",
       "4     187.706  12.391     20.78 -25.78     NGC4486\n",
       "...       ...     ...       ...    ...         ...\n",
       "5105  214.458   0.511    223.09 -25.11   PGC051063\n",
       "5106   64.351 -37.282    216.26 -25.05   PGC014806\n",
       "5107  123.188  11.632    223.76 -25.13  PGC1396460\n",
       "5108  206.159  21.093    218.77 -25.30  PGC3089894\n",
       "5109  270.047  48.654    218.26 -25.41  PGC2322449\n",
       "\n",
       "[5110 rows x 5 columns]"
      ]
     },
     "execution_count": 15,
     "metadata": {},
     "output_type": "execute_result"
    }
   ],
   "source": [
    "galaxies = pd.read_csv('../data/external/25/added_mks.lst', delimiter='\\s+',\n",
    "                       usecols=[0, 1, 2, 3, 4], index_col=False)\n",
    "galaxies = galaxies.append(pd.read_csv('../data/external/25/schutzMa_extension.txt',\n",
    "                                       delimiter='\\s+',\n",
    "                                       usecols=[0, 1, 2, 3, 4],\n",
    "                                       index_col=False))\n",
    "catalog = pd.read_csv('../data/external/25/2mass_galaxies.lst', delimiter='\\s+',\n",
    "                      usecols=[1, 2, 3, 4, 5], index_col=False,\n",
    "                      names=['RA', 'DEC', 'D_L(Mpc)', 'Kmag', 'Name'])\n",
    "catalog"
   ]
  },
  {
   "cell_type": "code",
   "execution_count": 16,
   "metadata": {},
   "outputs": [
    {
     "data": {
      "text/latex": [
       "$\\displaystyle \\log M_{\\rm{BHB, min, M17}} = 8.57$"
      ],
      "text/plain": [
       "<IPython.core.display.Math object>"
      ]
     },
     "metadata": {},
     "output_type": "display_data"
    },
    {
     "data": {
      "text/latex": [
       "$\\displaystyle \\log M_{\\rm{BHB, max, M17}} = 10.28$"
      ],
      "text/plain": [
       "<IPython.core.display.Math object>"
      ]
     },
     "metadata": {},
     "output_type": "display_data"
    }
   ],
   "source": [
    "log_m_bhb_mingarelli = np.array([log_m_bh_m_k(Mk) for Mk in catalog['Kmag']])\n",
    "log_m_bhb_mingarelli = np.random.normal(log_m_bhb_mingarelli, .34)\n",
    "log_m_bhb_mingarelli_q = np.quantile(log_m_bhb_mingarelli, q=[.16, .5, .84], axis=1)\n",
    "log_m_bhb_mingarelli_max = np.max(log_m_bhb_mingarelli_q)\n",
    "log_m_bhb_mingarelli_min = np.min(log_m_bhb_mingarelli_q)\n",
    "display(Math(r'\\log M_{{\\rm{{BHB, min, M17}}}} = {0:.2f}'\n",
    "             .format(log_m_bhb_mingarelli_min)))\n",
    "display(Math(r'\\log M_{{\\rm{{BHB, max, M17}}}} = {0:.2f}'\n",
    "             .format(log_m_bhb_mingarelli_max)))"
   ]
  },
  {
   "cell_type": "code",
   "execution_count": 17,
   "metadata": {},
   "outputs": [
    {
     "data": {
      "text/latex": [
       "$\\displaystyle \\log M_{\\rm{BH, min, M17}} = 8.47$"
      ],
      "text/plain": [
       "<IPython.core.display.Math object>"
      ]
     },
     "metadata": {},
     "output_type": "display_data"
    },
    {
     "data": {
      "text/latex": [
       "$\\displaystyle \\log M_{\\rm{BH, max, M17}} = 9.98$"
      ],
      "text/plain": [
       "<IPython.core.display.Math object>"
      ]
     },
     "metadata": {},
     "output_type": "display_data"
    }
   ],
   "source": [
    "log_m_bh_min_mingarelli = log_m_bhb_mingarelli_min - np.log10(1 + q_min_mingarelli)\n",
    "log_m_bh_max_mingarelli = log_m_bhb_mingarelli_max - np.log10(1 + q_max_mingarelli)\n",
    "log_m_bh_max = log_m_bh_max_mingarelli\n",
    "display(Math(r'\\log M_{{\\rm{{BH, min, M17}}}} = {0:.2f}'\n",
    "             .format(log_m_bh_min_mingarelli)))\n",
    "display(Math(r'\\log M_{{\\rm{{BH, max, M17}}}} = {0:.2f}'\n",
    "             .format(log_m_bh_max_mingarelli)))"
   ]
  },
  {
   "cell_type": "markdown",
   "metadata": {},
   "source": [
    "#### $q$ distribution"
   ]
  },
  {
   "cell_type": "code",
   "execution_count": 18,
   "metadata": {},
   "outputs": [],
   "source": [
    "var_log_q = np.repeat(.5, n_samples)\n",
    "mode_log_q = np.repeat(0, n_samples)\n",
    "median_log_q = np.repeat(0, n_samples) #mode_log_q + (var_log_q ** 2)"
   ]
  },
  {
   "cell_type": "code",
   "execution_count": 19,
   "metadata": {},
   "outputs": [],
   "source": [
    "q_distrib = LogNormal1D(mu=median_log_q, std=var_log_q, n_models=n_samples)"
   ]
  },
  {
   "cell_type": "code",
   "execution_count": 20,
   "metadata": {},
   "outputs": [
    {
     "name": "stdout",
     "output_type": "stream",
     "text": [
      "Model: LogNormal1D\n",
      "Inputs: ('x',)\n",
      "Outputs: ('y',)\n",
      "Model set size: 1024\n",
      "Parameters:\n",
      "     mu std\n",
      "    --- ---\n",
      "    0.0 0.5\n",
      "    0.0 0.5\n",
      "    0.0 0.5\n",
      "    0.0 0.5\n",
      "    0.0 0.5\n",
      "    0.0 0.5\n",
      "    0.0 0.5\n",
      "    0.0 0.5\n",
      "    0.0 0.5\n",
      "    0.0 0.5\n",
      "    ... ...\n",
      "    0.0 0.5\n",
      "    0.0 0.5\n",
      "    0.0 0.5\n",
      "    0.0 0.5\n",
      "    0.0 0.5\n",
      "    0.0 0.5\n",
      "    0.0 0.5\n",
      "    0.0 0.5\n",
      "    0.0 0.5\n",
      "    0.0 0.5\n",
      "    0.0 0.5\n",
      "    Length = 1024 rows\n"
     ]
    }
   ],
   "source": [
    "print(q_distrib)\n",
    "with open('../models/q_distrib.pkl', 'wb') as f:\n",
    "    pickle.dump(q_distrib, f)"
   ]
  },
  {
   "cell_type": "markdown",
   "metadata": {
    "toc-hr-collapsed": true
   },
   "source": [
    "#### Hopkins+ (2007)"
   ]
  },
  {
   "cell_type": "markdown",
   "metadata": {},
   "source": [
    "##### Differential quasar formation density model parameters"
   ]
  },
  {
   "cell_type": "code",
   "execution_count": 21,
   "metadata": {},
   "outputs": [],
   "source": [
    "log_formation_rate_normalization = unc.normal(-3.830, std=0.031, n_samples=n_samples).distribution\n",
    "log_formation_rate_power_law_slope = unc.normal(-4.02, std=0.36, n_samples=n_samples).distribution\n",
    "log_mass_break_normalization = unc.normal(8.959, std=0.032, n_samples=n_samples).distribution\n",
    "log_mass_break_k_1 = unc.normal(1.18, std=0.13, n_samples=n_samples).distribution\n",
    "log_mass_break_k_2 = unc.normal(-6.68, std=0.44, n_samples=n_samples).distribution\n",
    "low_mass_slope = np.repeat(.2, n_samples)\n",
    "high_mass_slope_normalization = unc.normal(2.86, std=0.16, n_samples=n_samples).distribution\n",
    "high_mass_slope_k_1 = unc.normal(1.80, std=0.18, n_samples=n_samples).distribution\n",
    "high_mass_slope_k_2 = unc.normal(-1.13, std=0.09, n_samples=n_samples).distribution\n",
    "z_ref = np.repeat(2, n_samples)"
   ]
  },
  {
   "cell_type": "markdown",
   "metadata": {},
   "source": [
    "##### Differential quasar formation density model"
   ]
  },
  {
   "cell_type": "code",
   "execution_count": 22,
   "metadata": {},
   "outputs": [],
   "source": [
    "quasar_formation_rate = QuasarProxyBinaries(binary_normalization=np.repeat(1, n_samples),\n",
    "                                            log_formation_rate_normalization=log_formation_rate_normalization,\n",
    "                                            log_formation_rate_power_law_slope=log_formation_rate_power_law_slope,\n",
    "                                            log_mass_break_normalization=log_mass_break_normalization,\n",
    "                                            log_mass_break_k_1=log_mass_break_k_1,\n",
    "                                            log_mass_break_k_2=log_mass_break_k_2,\n",
    "                                            low_mass_slope=low_mass_slope,\n",
    "                                            high_mass_slope_normalization=high_mass_slope_normalization,\n",
    "                                            high_mass_slope_k_1=high_mass_slope_k_1,\n",
    "                                            high_mass_slope_k_2=high_mass_slope_k_2,\n",
    "                                            z_ref=z_ref,\n",
    "                                            mu_log_q=median_log_q,\n",
    "                                            std_log_q=var_log_q,\n",
    "                                            n_models=n_samples)"
   ]
  },
  {
   "cell_type": "code",
   "execution_count": 23,
   "metadata": {},
   "outputs": [
    {
     "name": "stdout",
     "output_type": "stream",
     "text": [
      "Model: QuasarProxyBinaries\n",
      "Inputs: ('x0', 'x1', 'x2')\n",
      "Outputs: ('x0',)\n",
      "Model set size: 1024\n",
      "Parameters:\n",
      "    binary_normalization log_formation_rate_normalization ... mu_log_q std_log_q\n",
      "    -------------------- -------------------------------- ... -------- ---------\n",
      "                     1.0               -3.795596027584851 ...      0.0       0.5\n",
      "                     1.0              -3.8607437684065964 ...      0.0       0.5\n",
      "                     1.0              -3.8325696665255413 ...      0.0       0.5\n",
      "                     1.0               -3.877933031350453 ...      0.0       0.5\n",
      "                     1.0              -3.8299914463949363 ...      0.0       0.5\n",
      "                     1.0               -3.762786257548704 ...      0.0       0.5\n",
      "                     1.0              -3.8612969138554294 ...      0.0       0.5\n",
      "                     1.0              -3.7900743578357043 ...      0.0       0.5\n",
      "                     1.0              -3.7770228675546726 ...      0.0       0.5\n",
      "                     1.0              -3.8697542880385165 ...      0.0       0.5\n",
      "                     ...                              ... ...      ...       ...\n",
      "                     1.0              -3.8565121922310017 ...      0.0       0.5\n",
      "                     1.0              -3.8611698171262914 ...      0.0       0.5\n",
      "                     1.0              -3.8254658344682944 ...      0.0       0.5\n",
      "                     1.0               -3.878194265275846 ...      0.0       0.5\n",
      "                     1.0               -3.826491026843132 ...      0.0       0.5\n",
      "                     1.0                -3.87196972257602 ...      0.0       0.5\n",
      "                     1.0              -3.8540806397972056 ...      0.0       0.5\n",
      "                     1.0              -3.8180637709505167 ...      0.0       0.5\n",
      "                     1.0              -3.8255066186848223 ...      0.0       0.5\n",
      "                     1.0              -3.7990588047956173 ...      0.0       0.5\n",
      "                     1.0               -3.832892782553152 ...      0.0       0.5\n",
      "    Length = 1024 rows\n"
     ]
    }
   ],
   "source": [
    "print(quasar_formation_rate)\n",
    "with open('../models/Hopkins2007_quasar_formation_rate_binaries.pkl', 'wb') as f:\n",
    "    pickle.dump(quasar_formation_rate, f)"
   ]
  },
  {
   "cell_type": "markdown",
   "metadata": {},
   "source": [
    "### Goulding+ (2019) AGN-proxy model"
   ]
  },
  {
   "cell_type": "markdown",
   "metadata": {},
   "source": [
    "#### Goulding+ (2019) bounds"
   ]
  },
  {
   "cell_type": "markdown",
   "metadata": {},
   "source": [
    "##### J1010-like quasar parameters"
   ]
  },
  {
   "cell_type": "code",
   "execution_count": 24,
   "metadata": {},
   "outputs": [],
   "source": [
    "# Number density luminosity bounds\n",
    "log_l_min = np.log10((.3 * (10 ** 46.) * u.erg / u.s).to(u.Lsun).value)\n",
    "log_l_max = np.log10((.3 * (10 ** 47.) * u.erg / u.s).to(u.Lsun).value)\n",
    "log_l_min_goulding = np.repeat(log_l_min, n_samples)\n",
    "log_l_max_goulding = np.repeat(log_l_max, n_samples)\n",
    "\n",
    "log_m_min_goulding = 8\n",
    "log_m_max_goulding = 10\n",
    "\n",
    "log_m_chirp_min_goulding = log_m_min_goulding + (3 / 5) * (np.log10(q_max) - 2 * np.log10(1 + q_max))\n",
    "log_m_chirp_max_goulding = log_m_max_goulding + (3 / 5) * (np.log10(q_max) - 2 * np.log10(1 + q_max))\n",
    "\n",
    "log_m_bh_min_goulding = log_m_min_goulding - np.log10(1 + q_max)\n",
    "log_m_bh_max_goulding = log_m_max_goulding - np.log10(1 + q_max)"
   ]
  },
  {
   "cell_type": "code",
   "execution_count": 25,
   "metadata": {},
   "outputs": [
    {
     "data": {
      "text/plain": [
       "(11.894149325614856, 12.894149325614856)"
      ]
     },
     "execution_count": 25,
     "metadata": {},
     "output_type": "execute_result"
    }
   ],
   "source": [
    "log_l_min, log_l_max"
   ]
  },
  {
   "cell_type": "markdown",
   "metadata": {},
   "source": [
    "#### Sheth+ (2003)"
   ]
  },
  {
   "cell_type": "markdown",
   "metadata": {},
   "source": [
    "##### Velocity dispersion function parameters"
   ]
  },
  {
   "cell_type": "code",
   "execution_count": 26,
   "metadata": {},
   "outputs": [],
   "source": [
    "dispersion_normalization_sheth = unc.normal(0.002, std=.0001, n_samples=n_samples).distribution * (WMAP9.h ** 3)\n",
    "dispersion_break_sheth = np.repeat(88.8, n_samples)  # unc.normal(88.8, std=17.7, n_samples=n_samples).distribution\n",
    "alpha_sheth = np.repeat(6.5, n_samples)  # unc.normal(6.5, std=1., n_samples=n_samples).distribution\n",
    "beta_sheth = np.repeat(1.93, n_samples)"
   ]
  },
  {
   "cell_type": "markdown",
   "metadata": {},
   "source": [
    "##### Velocity dispersion function"
   ]
  },
  {
   "cell_type": "code",
   "execution_count": 27,
   "metadata": {},
   "outputs": [],
   "source": [
    "sheth_2003_velocity_dispersion_function = ModifiedSchechter(normalization=dispersion_normalization_sheth,\n",
    "                                                            sigma_break=dispersion_break_sheth,\n",
    "                                                            alpha=alpha_sheth,\n",
    "                                                            beta=beta_sheth,\n",
    "                                                            n_models=n_samples)"
   ]
  },
  {
   "cell_type": "code",
   "execution_count": 28,
   "metadata": {},
   "outputs": [
    {
     "name": "stdout",
     "output_type": "stream",
     "text": [
      "Model: ModifiedSchechter\n",
      "Inputs: ('x',)\n",
      "Outputs: ('y',)\n",
      "Model set size: 1024\n",
      "Parameters:\n",
      "        normalization     sigma_break alpha beta\n",
      "    --------------------- ----------- ----- ----\n",
      "    0.0006489446047416348        88.8   6.5 1.93\n",
      "    0.0006250521185753069        88.8   6.5 1.93\n",
      "     0.000626176380336409        88.8   6.5 1.93\n",
      "    0.0005874384689981731        88.8   6.5 1.93\n",
      "    0.0007188974512831829        88.8   6.5 1.93\n",
      "    0.0006802887035816291        88.8   6.5 1.93\n",
      "    0.0006235435555505202        88.8   6.5 1.93\n",
      "    0.0006804542154996615        88.8   6.5 1.93\n",
      "     0.000655131346371542        88.8   6.5 1.93\n",
      "    0.0006098901346873313        88.8   6.5 1.93\n",
      "                      ...         ...   ...  ...\n",
      "    0.0006348621336765559        88.8   6.5 1.93\n",
      "    0.0006457733879637559        88.8   6.5 1.93\n",
      "     0.000593028026755548        88.8   6.5 1.93\n",
      "    0.0006441551667915469        88.8   6.5 1.93\n",
      "    0.0006549947852220525        88.8   6.5 1.93\n",
      "    0.0006715624050105135        88.8   6.5 1.93\n",
      "     0.000666418053301621        88.8   6.5 1.93\n",
      "    0.0006004663789815727        88.8   6.5 1.93\n",
      "    0.0006610514341491822        88.8   6.5 1.93\n",
      "    0.0006295168115968313        88.8   6.5 1.93\n",
      "    0.0006911229603550593        88.8   6.5 1.93\n",
      "    Length = 1024 rows\n"
     ]
    }
   ],
   "source": [
    "print(sheth_2003_velocity_dispersion_function)\n",
    "with open('../models/Sheth2003_velocity_dispersion_function.pkl', 'wb') as f:\n",
    "    pickle.dump(sheth_2003_velocity_dispersion_function, f)"
   ]
  },
  {
   "cell_type": "markdown",
   "metadata": {},
   "source": [
    "#### Marconi+ (2004)"
   ]
  },
  {
   "cell_type": "markdown",
   "metadata": {},
   "source": [
    "##### Black hole mass function parameters"
   ]
  },
  {
   "cell_type": "code",
   "execution_count": 29,
   "metadata": {},
   "outputs": [],
   "source": [
    "b_marconi = unc.normal(4.11, std=.33, n_samples=n_samples).distribution\n",
    "a_marconi = unc.normal(8.30, std=.07, n_samples=n_samples).distribution - 2.3 * b_marconi\n",
    "intrinsic_disp_marconi = np.repeat(.3, n_samples)"
   ]
  },
  {
   "cell_type": "markdown",
   "metadata": {},
   "source": [
    "##### Black hole mass function"
   ]
  },
  {
   "cell_type": "code",
   "execution_count": 30,
   "metadata": {},
   "outputs": [],
   "source": [
    "marconi_2004_black_hole_mass_function = Marconi2004BHMF(mass_dispersion_intercept=a_marconi,\n",
    "                                                        mass_dispersion_slope=b_marconi,\n",
    "                                                        intrinsic_scatter=intrinsic_disp_marconi,\n",
    "                                                        dispersion_norm=dispersion_normalization_sheth,\n",
    "                                                        log_dispersion_break=np.log10(dispersion_break_sheth),\n",
    "                                                        dispersion_alpha=alpha_sheth,\n",
    "                                                        dispersion_beta=beta_sheth,\n",
    "                                                        n_models=n_samples)"
   ]
  },
  {
   "cell_type": "code",
   "execution_count": 31,
   "metadata": {},
   "outputs": [
    {
     "name": "stdout",
     "output_type": "stream",
     "text": [
      "Model: Marconi2004BHMF\n",
      "Inputs: ('x',)\n",
      "Outputs: ('y',)\n",
      "Model set size: 1024\n",
      "Parameters:\n",
      "    mass_dispersion_intercept mass_dispersion_slope ... dispersion_beta\n",
      "    ------------------------- --------------------- ... ---------------\n",
      "           -2.671682028547801     4.726689143879233 ...            1.93\n",
      "          -0.8016266726772283    3.9913543200347945 ...            1.93\n",
      "          -2.6443081135822535     4.778958549513652 ...            1.93\n",
      "          -1.9960386095516718      4.39875443248021 ...            1.93\n",
      "          0.09232649809504778    3.5902346809134964 ...            1.93\n",
      "          -1.6990370737984506     4.343311321576944 ...            1.93\n",
      "           -2.225628471758615     4.558981502885348 ...            1.93\n",
      "          -1.3583711794442301     4.235482933677184 ...            1.93\n",
      "          -1.5224930576532518      4.27497350008243 ...            1.93\n",
      "          -0.5775085768108195     3.901888722217487 ...            1.93\n",
      "                          ...                   ... ...             ...\n",
      "          -1.2020478684386422     4.131495633389567 ...            1.93\n",
      "           -1.577105197636543     4.288483887900488 ...            1.93\n",
      "             -1.2062399429766     4.121949414074435 ...            1.93\n",
      "          -0.6294179401541289     3.926057291367432 ...            1.93\n",
      "          -0.6045293322062388     3.802015096477326 ...            1.93\n",
      "          -1.9338250692655095     4.467861732427513 ...            1.93\n",
      "           -1.644698808816047     4.302945115157326 ...            1.93\n",
      "           -2.411021220263427       4.6300870421216 ...            1.93\n",
      "          -1.6596386589111596     4.331053088906389 ...            1.93\n",
      "           -2.524052094218579     4.691897189721358 ...            1.93\n",
      "          -2.0251100475345254     4.522392954107132 ...            1.93\n",
      "    Length = 1024 rows\n"
     ]
    }
   ],
   "source": [
    "print(marconi_2004_black_hole_mass_function)\n",
    "with open('../models/Marconi2004_black_hole_mass_function.pkl', 'wb') as f:\n",
    "    pickle.dump(marconi_2004_black_hole_mass_function, f)"
   ]
  },
  {
   "cell_type": "markdown",
   "metadata": {},
   "source": [
    "#### Hopkins+ (2007)"
   ]
  },
  {
   "cell_type": "markdown",
   "metadata": {},
   "source": [
    "##### Quasar luminosity function number density parameters"
   ]
  },
  {
   "cell_type": "code",
   "execution_count": 32,
   "metadata": {},
   "outputs": [],
   "source": [
    "log_norm_hopkins = unc.normal(-4.825, std=0.060, n_samples=n_samples).distribution\n",
    "log_break_luminosity_norm_hopkins = unc.normal(13.036, std=0.043, n_samples=n_samples).distribution\n",
    "log_break_luminosity_k1_hopkins = unc.normal(0.632, std=0.077, n_samples=n_samples).distribution\n",
    "log_break_luminosity_k2_hopkins = unc.normal(-11.76, std=0.38, n_samples=n_samples).distribution\n",
    "log_break_luminosity_k3_hopkins = unc.normal(-14.25, std=0.80, n_samples=n_samples).distribution\n",
    "faint_end_slope_norm_hopkins = unc.normal(0.417, std=0.055, n_samples=n_samples).distribution\n",
    "faint_end_slope_k_hopkins = unc.normal(-0.623, std=0.132, n_samples=n_samples).distribution\n",
    "bright_end_slope_norm_hopkins = unc.normal(2.174, std=0.055, n_samples=n_samples).distribution\n",
    "bright_end_slope_k1_hopkins = unc.normal(1.460, std=0.096, n_samples=n_samples).distribution\n",
    "bright_end_slope_k2_hopkins = unc.normal(-0.793, std=0.057, n_samples=n_samples).distribution\n",
    "z_ref_hopkins = np.repeat(2, n_samples)"
   ]
  },
  {
   "cell_type": "markdown",
   "metadata": {},
   "source": [
    "##### Quasar luminosity function number density"
   ]
  },
  {
   "cell_type": "code",
   "execution_count": 33,
   "metadata": {},
   "outputs": [],
   "source": [
    "hopkins_2007_quasar_number_density = Hopkins2007QuasarNumberDensity(log_l_min=log_l_min_goulding,\n",
    "                                                                    log_l_max=log_l_max_goulding,\n",
    "                                                                    log_norm=log_norm_hopkins,\n",
    "                                                                    log_break_luminosity_norm=log_break_luminosity_norm_hopkins,\n",
    "                                                                    log_break_luminosity_k1=log_break_luminosity_k1_hopkins,\n",
    "                                                                    log_break_luminosity_k2=log_break_luminosity_k2_hopkins,\n",
    "                                                                    log_break_luminosity_k3=log_break_luminosity_k3_hopkins,\n",
    "                                                                    faint_end_slope_norm=faint_end_slope_norm_hopkins,\n",
    "                                                                    faint_end_slope_k=faint_end_slope_k_hopkins,\n",
    "                                                                    bright_end_slope_norm=bright_end_slope_norm_hopkins,\n",
    "                                                                    bright_end_slope_k1=bright_end_slope_k1_hopkins,\n",
    "                                                                    bright_end_slope_k2=bright_end_slope_k2_hopkins,\n",
    "                                                                    z_ref=z_ref_hopkins,\n",
    "                                                                    n_models=n_samples)"
   ]
  },
  {
   "cell_type": "code",
   "execution_count": 34,
   "metadata": {},
   "outputs": [
    {
     "name": "stdout",
     "output_type": "stream",
     "text": [
      "Model: Hopkins2007QuasarNumberDensity\n",
      "Inputs: ('x',)\n",
      "Outputs: ('y',)\n",
      "Model set size: 1024\n",
      "Parameters:\n",
      "        log_l_min          log_l_max      ... bright_end_slope_k2 z_ref\n",
      "    ------------------ ------------------ ... ------------------- -----\n",
      "    11.894149325614856 12.894149325614856 ...  -0.811881492806052   2.0\n",
      "    11.894149325614856 12.894149325614856 ... -0.8442983443762409   2.0\n",
      "    11.894149325614856 12.894149325614856 ... -0.8968042325769663   2.0\n",
      "    11.894149325614856 12.894149325614856 ... -0.7406718773975562   2.0\n",
      "    11.894149325614856 12.894149325614856 ... -0.8220454372102963   2.0\n",
      "    11.894149325614856 12.894149325614856 ... -0.8530769235400819   2.0\n",
      "    11.894149325614856 12.894149325614856 ...  -0.889590056235105   2.0\n",
      "    11.894149325614856 12.894149325614856 ... -0.7395851429533208   2.0\n",
      "    11.894149325614856 12.894149325614856 ... -0.7606811256365653   2.0\n",
      "    11.894149325614856 12.894149325614856 ... -0.7771067831723204   2.0\n",
      "                   ...                ... ...                 ...   ...\n",
      "    11.894149325614856 12.894149325614856 ...  -0.871419235777823   2.0\n",
      "    11.894149325614856 12.894149325614856 ... -0.7980574919116371   2.0\n",
      "    11.894149325614856 12.894149325614856 ... -0.8002699929244479   2.0\n",
      "    11.894149325614856 12.894149325614856 ... -0.7401999946178477   2.0\n",
      "    11.894149325614856 12.894149325614856 ... -0.7375705955330006   2.0\n",
      "    11.894149325614856 12.894149325614856 ... -0.7751562738774438   2.0\n",
      "    11.894149325614856 12.894149325614856 ... -0.6872236413323769   2.0\n",
      "    11.894149325614856 12.894149325614856 ... -0.8335019519719301   2.0\n",
      "    11.894149325614856 12.894149325614856 ... -0.7538439339010766   2.0\n",
      "    11.894149325614856 12.894149325614856 ... -0.8023089717239357   2.0\n",
      "    11.894149325614856 12.894149325614856 ... -0.7033091050823227   2.0\n",
      "    Length = 1024 rows\n"
     ]
    }
   ],
   "source": [
    "print(hopkins_2007_quasar_number_density)\n",
    "with open('../models/Hopkins2007_quasar_number_density.pkl', 'wb') as f:\n",
    "    pickle.dump(hopkins_2007_quasar_number_density, f)"
   ]
  },
  {
   "cell_type": "markdown",
   "metadata": {},
   "source": [
    "#### Goulding+ (2019) dual AGN model"
   ]
  },
  {
   "cell_type": "markdown",
   "metadata": {},
   "source": [
    "##### J1010-like quasar number density"
   ]
  },
  {
   "cell_type": "code",
   "execution_count": 35,
   "metadata": {},
   "outputs": [],
   "source": [
    "j1010_quasars = Goulding2019J1010Binaries(binary_normalization=np.repeat(1, n_samples),\n",
    "                                          mass_dispersion_intercept=a_marconi,\n",
    "                                          mass_dispersion_slope=b_marconi,\n",
    "                                          intrinsic_scatter=intrinsic_disp_marconi,\n",
    "                                          dispersion_norm=dispersion_normalization_sheth,\n",
    "                                          log_dispersion_break=np.log10(dispersion_break_sheth),\n",
    "                                          dispersion_alpha=alpha_sheth,\n",
    "                                          dispersion_beta=beta_sheth,\n",
    "                                          log_l_min=log_l_min_goulding,\n",
    "                                          log_l_max=log_l_max_goulding,\n",
    "                                          log_dens_norm=log_norm_hopkins,\n",
    "                                          log_break_luminosity_norm=log_break_luminosity_norm_hopkins,\n",
    "                                          log_break_luminosity_k1=log_break_luminosity_k1_hopkins,\n",
    "                                          log_break_luminosity_k2=log_break_luminosity_k2_hopkins,\n",
    "                                          log_break_luminosity_k3=log_break_luminosity_k3_hopkins,\n",
    "                                          faint_end_slope_norm=faint_end_slope_norm_hopkins,\n",
    "                                          faint_end_slope_k=faint_end_slope_k_hopkins,\n",
    "                                          bright_end_slope_norm=bright_end_slope_norm_hopkins,\n",
    "                                          bright_end_slope_k1=bright_end_slope_k1_hopkins,\n",
    "                                          bright_end_slope_k2=bright_end_slope_k2_hopkins,\n",
    "                                          z_ref=z_ref_hopkins,\n",
    "                                          n_models=n_samples)"
   ]
  },
  {
   "cell_type": "markdown",
   "metadata": {},
   "source": [
    "### Merger models"
   ]
  },
  {
   "cell_type": "markdown",
   "metadata": {},
   "source": [
    "#### Bell+ (2003)"
   ]
  },
  {
   "cell_type": "markdown",
   "metadata": {},
   "source": [
    "##### Galactic mass function parameters"
   ]
  },
  {
   "cell_type": "code",
   "execution_count": 36,
   "metadata": {},
   "outputs": [],
   "source": [
    "z_bell = 0.\n",
    "phi_bell = trunc_norm_dist(a=0, b=np.inf, loc=0.0133, scale=0.0006, size=n_samples) * (WMAP9.h ** 3)\n",
    "log_mgal_break_bell = unc.normal(10.63, std=.01, n_samples=n_samples).distribution - 2. * np.log10(WMAP9.h)\n",
    "alpha_bell = unc.normal(-0.86, std=.04, n_samples=n_samples).distribution"
   ]
  },
  {
   "cell_type": "markdown",
   "metadata": {},
   "source": [
    "##### Galactic mass function"
   ]
  },
  {
   "cell_type": "code",
   "execution_count": 37,
   "metadata": {},
   "outputs": [],
   "source": [
    "bell_2003_galactic_mass_function = Schechter1D(normalization=phi_bell,\n",
    "                                               log_m_break=log_mgal_break_bell,\n",
    "                                               exponent=alpha_bell,\n",
    "                                               n_models=n_samples)"
   ]
  },
  {
   "cell_type": "code",
   "execution_count": 38,
   "metadata": {},
   "outputs": [
    {
     "name": "stdout",
     "output_type": "stream",
     "text": [
      "Model: Schechter1D\n",
      "Inputs: ('x',)\n",
      "Outputs: ('y',)\n",
      "Model set size: 1024\n",
      "Parameters:\n",
      "        normalization        log_m_break           exponent     \n",
      "    --------------------- ------------------ -------------------\n",
      "     0.004682956517795877 10.942929414094394 -0.8159388546539251\n",
      "      0.00423433091159525 10.939572272234171 -0.8623317330176313\n",
      "    0.0046381516066083695  10.95827787229398 -0.8045213443098933\n",
      "     0.004609098871481676 10.953942857936235 -0.8576380773466932\n",
      "     0.004479857303517014 10.951625442555713 -0.8951652420729989\n",
      "     0.004547137917120199 10.959594889715444 -0.8498262755728487\n",
      "     0.004502030046380703 10.949000081020653 -0.8342127885927326\n",
      "     0.004594011651243991 10.956268524304953 -0.8383747283648523\n",
      "      0.00440395621180891 10.945313166750966 -0.8225064476132741\n",
      "     0.004287516771736687 10.943337809168979 -0.8912468786146512\n",
      "                      ...                ...                 ...\n",
      "     0.004653429328376138 10.945674870875562  -0.824907956631309\n",
      "     0.004832942403923265 10.959648220160508 -0.8600315265952065\n",
      "     0.004426509931288871 10.941795133392668 -0.8594572108703447\n",
      "     0.004564301345885025 10.939596649700453  -0.862911795400758\n",
      "     0.004359005840630878 10.938918935274765 -0.8966381325968723\n",
      "     0.004576211811211093 10.948402657251634 -0.8646735795195096\n",
      "     0.004500579540313589 10.961523511048762 -0.9018281094143237\n",
      "     0.004448225718439591   10.9562631026455 -0.8220330206650229\n",
      "     0.004503610381445882 10.946739555651929 -0.9037555364841864\n",
      "    0.0046642973298322505 10.947390332854193 -0.8582631309780708\n",
      "     0.004162322569644023 10.947144862850195 -0.8313872647259941\n",
      "    Length = 1024 rows\n"
     ]
    }
   ],
   "source": [
    "print(bell_2003_galactic_mass_function)\n",
    "with open('../models/Bell2003_galaxy_mass_function.pkl', 'wb') as f:\n",
    "    pickle.dump(bell_2003_galactic_mass_function, f)"
   ]
  },
  {
   "cell_type": "markdown",
   "metadata": {},
   "source": [
    "#### Borch+ (2006)"
   ]
  },
  {
   "cell_type": "markdown",
   "metadata": {},
   "source": [
    "##### Galactic mass function parameters"
   ]
  },
  {
   "cell_type": "code",
   "execution_count": 39,
   "metadata": {},
   "outputs": [],
   "source": [
    "z_borch = np.array([0, .3, .5, .7, .9])\n",
    "z_range_borch = np.linspace(0, .9, num=n_mesh)\n",
    "\n",
    "norm_0_borch = trunc_norm_dist(a=0, b=np.inf, loc=37e-4, scale=4e-4, size=n_samples)\n",
    "norm_3_borch = trunc_norm_dist(a=0, b=np.inf, loc=17e-4, scale=7e-4, size=n_samples)\n",
    "norm_5_borch = trunc_norm_dist(a=0, b=np.inf, loc=15e-4, scale=5e-4, size=n_samples)\n",
    "norm_7_borch = trunc_norm_dist(a=0, b=np.inf, loc=11e-4, scale=4e-4, size=n_samples)\n",
    "norm_9_borch = trunc_norm_dist(a=0, b=np.inf, loc=9e-4, scale=3e-4, size=n_samples)\n",
    "\n",
    "log_m_gal_0_borch = unc.normal(10.81, std=.1, n_samples=n_samples).distribution\n",
    "log_m_gal_3_borch =  unc.normal(10.97, std=.09, n_samples=n_samples).distribution\n",
    "log_m_gal_5_borch =  unc.normal(10.95, std=.1, n_samples=n_samples).distribution\n",
    "log_m_gal_7_borch =  unc.normal(11.06, std=.18, n_samples=n_samples).distribution\n",
    "log_m_gal_9_borch =  unc.normal(11.01, std=.08, n_samples=n_samples).distribution\n",
    "\n",
    "alpha_0_borch = unc.normal(-.7, std=.07, n_samples=n_samples).distribution\n",
    "alpha_3_borch = unc.normal(-.7, std=.07, n_samples=n_samples).distribution\n",
    "alpha_5_borch = unc.normal(-.7, std=.07, n_samples=n_samples).distribution\n",
    "alpha_7_borch = unc.normal(-.7, std=.07, n_samples=n_samples).distribution\n",
    "alpha_9_borch = unc.normal(-.7, std=.07, n_samples=n_samples).distribution"
   ]
  },
  {
   "cell_type": "markdown",
   "metadata": {},
   "source": [
    "##### Galactic mass function"
   ]
  },
  {
   "cell_type": "code",
   "execution_count": 40,
   "metadata": {},
   "outputs": [],
   "source": [
    "borch_2006_galactic_mass_function = Schechter2D(norm1=norm_0_borch,\n",
    "                                                norm2=norm_3_borch,\n",
    "                                                norm3=norm_5_borch,\n",
    "                                                norm4=norm_7_borch,\n",
    "                                                norm5=norm_9_borch,\n",
    "                                                log_m_break1=log_m_gal_0_borch,\n",
    "                                                log_m_break2=log_m_gal_3_borch,\n",
    "                                                log_m_break3=log_m_gal_5_borch,\n",
    "                                                log_m_break4=log_m_gal_7_borch,\n",
    "                                                log_m_break5=log_m_gal_9_borch,\n",
    "                                                exp1=alpha_0_borch,\n",
    "                                                exp2=alpha_3_borch,\n",
    "                                                exp3=alpha_5_borch,\n",
    "                                                exp4=alpha_7_borch,\n",
    "                                                exp5=alpha_9_borch,\n",
    "                                                n_models=n_samples)"
   ]
  },
  {
   "cell_type": "code",
   "execution_count": 41,
   "metadata": {},
   "outputs": [
    {
     "name": "stdout",
     "output_type": "stream",
     "text": [
      "Model: Schechter2D\n",
      "Inputs: ('x', 'y')\n",
      "Outputs: ('z',)\n",
      "Model set size: 1024\n",
      "Parameters:\n",
      "            norm1                 norm2         ...         exp5       \n",
      "    --------------------- --------------------- ... -------------------\n",
      "     0.003114345515936124 0.0008348615924793606 ... -0.7457259384780547\n",
      "      0.00353446822008589 0.0016348436948577195 ... -0.6273047142848835\n",
      "    0.0034036637359824394 0.0005581019079787947 ... -0.7180206656167689\n",
      "    0.0032987724762846686 0.0025805396054876415 ... -0.6778435632704988\n",
      "     0.003425524436955385 0.0014598940355775596 ...  -0.711203971015187\n",
      "     0.004022005653459982  0.001696162176305233 ... -0.7100468459937385\n",
      "    0.0036665592694056118 0.0008685974558267812 ... -0.7789803849110816\n",
      "     0.004096885496691645 0.0021622244806789354 ... -0.7579523462469375\n",
      "     0.003691099864474938   0.00348071027318784 ... -0.7074664599314924\n",
      "     0.003446207847817694 0.0015520072996804473 ... -0.7105744079265137\n",
      "                      ...                   ... ...                 ...\n",
      "    0.0028371060103643425 0.0010211090132177005 ... -0.7376116626348478\n",
      "    0.0033291358609721265 0.0014756796991779399 ... -0.7880634642186976\n",
      "     0.003826555169303893 0.0011936382079197113 ... -0.6179583262982509\n",
      "     0.003415263136431799  0.002001589466433075 ... -0.6450536982039498\n",
      "    0.0034655481829799903 0.0014702166335205345 ... -0.8027558878203429\n",
      "    0.0034331538006461297  0.002272443948081879 ... -0.8299698240874118\n",
      "     0.004454727314846473 0.0028171456391236555 ... -0.8050763240839348\n",
      "     0.003974525218100412  0.001980642670383469 ... -0.6937446333472141\n",
      "    0.0035837976818349202 0.0025381338260274536 ... -0.7250954155014919\n",
      "    0.0032737944656465647 0.0016933557706856521 ... -0.8254723482101091\n",
      "     0.004137170625737992 0.0018368890618647635 ... -0.7019336378980335\n",
      "    Length = 1024 rows\n"
     ]
    }
   ],
   "source": [
    "print(borch_2006_galactic_mass_function)\n",
    "with open('../models/Borch2006_galaxy_mass_function.pkl', 'wb') as f:\n",
    "    pickle.dump(borch_2006_galactic_mass_function, f)"
   ]
  },
  {
   "cell_type": "markdown",
   "metadata": {},
   "source": [
    "#### Drory+ (2009)"
   ]
  },
  {
   "cell_type": "markdown",
   "metadata": {},
   "source": [
    "##### Galactic mass function parameters"
   ]
  },
  {
   "cell_type": "code",
   "execution_count": 42,
   "metadata": {},
   "outputs": [],
   "source": [
    "z_drory = np.array([0, .3, .5, .7, .9])\n",
    "z_range_drory = np.linspace(0, .9, num=n_mesh)\n",
    "\n",
    "norm_0_drory_b = phi_bell\n",
    "norm_3_drory_b = trunc_norm_dist(a=0, b=np.inf, loc=2.89, scale=.23, size=n_samples) * 1e-3 * (WMAP9.h ** 3.)\n",
    "norm_5_drory_b = trunc_norm_dist(a=0, b=np.inf, loc=1.74, scale=.09, size=n_samples) * 1e-3 * (WMAP9.h ** 3.)\n",
    "norm_7_drory_b = trunc_norm_dist(a=0, b=np.inf, loc=2.16, scale=.13, size=n_samples) * 1e-3 * (WMAP9.h ** 3.)\n",
    "norm_9_drory_b = trunc_norm_dist(a=0, b=np.inf, loc=2.94, scale=.13, size=n_samples) * 1e-3 * (WMAP9.h ** 3.)\n",
    "\n",
    "log_m_gal_0_drory_b = log_mgal_break_bell\n",
    "log_m_gal_3_drory_b = unc.normal(10.90, std=.11, n_samples=n_samples).distribution - 2 * np.log10(WMAP9.h)\n",
    "log_m_gal_5_drory_b = unc.normal(10.91, std=.11, n_samples=n_samples).distribution - 2 * np.log10(WMAP9.h)\n",
    "log_m_gal_7_drory_b = unc.normal(10.95, std=.10, n_samples=n_samples).distribution - 2 * np.log10(WMAP9.h)\n",
    "log_m_gal_9_drory_b = unc.normal(10.92, std=.10, n_samples=n_samples).distribution - 2 * np.log10(WMAP9.h)\n",
    "\n",
    "alpha_0_drory_b = alpha_bell\n",
    "alpha_3_drory_b = unc.normal(-1.06, std=.03, n_samples=n_samples).distribution\n",
    "alpha_5_drory_b = unc.normal(-1.05, std=.02, n_samples=n_samples).distribution\n",
    "alpha_7_drory_b = unc.normal(-.93, std=.04, n_samples=n_samples).distribution\n",
    "alpha_9_drory_b = unc.normal(-.91, std=.03, n_samples=n_samples).distribution\n",
    "\n",
    "norm_0_drory_f = np.zeros(n_samples)\n",
    "norm_3_drory_f = trunc_norm_dist(a=0, b=np.inf, loc=1.80, scale=.29, size=n_samples) * 1e-3 * (WMAP9.h ** 3)\n",
    "norm_5_drory_f = trunc_norm_dist(a=0, b=np.inf, loc=1.43, scale=.23, size=n_samples) * 1e-3 * (WMAP9.h ** 3)\n",
    "norm_7_drory_f = trunc_norm_dist(a=0, b=np.inf, loc=2.89, scale=.26, size=n_samples) * 1e-3 * (WMAP9.h ** 3)\n",
    "norm_9_drory_f = trunc_norm_dist(a=0, b=np.inf, loc=2.12, scale=.29, size=n_samples) * 1e-3 * (WMAP9.h ** 3)\n",
    "\n",
    "log_m_gal_0_drory_f = np.zeros(n_samples) - 2. * np.log10(WMAP9.h)\n",
    "log_m_gal_3_drory_f = unc.normal(9.63, std=.09, n_samples=n_samples).distribution - 2. * np.log10(WMAP9.h)\n",
    "log_m_gal_5_drory_f = unc.normal(9.70, std=.10, n_samples=n_samples).distribution - 2. * np.log10(WMAP9.h)\n",
    "log_m_gal_7_drory_f = unc.normal(9.75, std=.10, n_samples=n_samples).distribution - 2. * np.log10(WMAP9.h)\n",
    "log_m_gal_9_drory_f = unc.normal(9.85, std=.10, n_samples=n_samples).distribution - 2. * np.log10(WMAP9.h)\n",
    "\n",
    "alpha_0_drory_f = np.zeros(n_samples)\n",
    "alpha_3_drory_f = unc.normal(-1.73, std=.09, n_samples=n_samples).distribution\n",
    "alpha_5_drory_f = unc.normal(-1.76, std=.16, n_samples=n_samples).distribution\n",
    "alpha_7_drory_f = unc.normal(-1.65, std=.08, n_samples=n_samples).distribution\n",
    "alpha_9_drory_f = unc.normal(-1.65, std=.24, n_samples=n_samples).distribution"
   ]
  },
  {
   "cell_type": "markdown",
   "metadata": {},
   "source": [
    "##### Galactic mass function"
   ]
  },
  {
   "cell_type": "code",
   "execution_count": 43,
   "metadata": {},
   "outputs": [],
   "source": [
    "drory_2009_galactic_mass_function = DoubleSchechter2D(norm11=norm_0_drory_b,\n",
    "                                                      norm12=norm_3_drory_b,\n",
    "                                                      norm13=norm_5_drory_b,\n",
    "                                                      norm14=norm_7_drory_b,\n",
    "                                                      norm15=norm_9_drory_b,\n",
    "                                                      norm21=norm_0_drory_f,\n",
    "                                                      norm22=norm_3_drory_f,\n",
    "                                                      norm23=norm_5_drory_f,\n",
    "                                                      norm24=norm_7_drory_f,\n",
    "                                                      norm25=norm_9_drory_f,\n",
    "                                                      log_m_break11=log_m_gal_0_drory_b,\n",
    "                                                      log_m_break12=log_m_gal_3_drory_b,\n",
    "                                                      log_m_break13=log_m_gal_5_drory_b,\n",
    "                                                      log_m_break14=log_m_gal_7_drory_b,\n",
    "                                                      log_m_break15=log_m_gal_9_drory_b,\n",
    "                                                      log_m_break21=log_m_gal_0_drory_f,\n",
    "                                                      log_m_break22=log_m_gal_3_drory_f,\n",
    "                                                      log_m_break23=log_m_gal_5_drory_f,\n",
    "                                                      log_m_break24=log_m_gal_7_drory_f,\n",
    "                                                      log_m_break25=log_m_gal_9_drory_f,\n",
    "                                                      exp11=alpha_0_drory_b,\n",
    "                                                      exp12=alpha_3_drory_b,\n",
    "                                                      exp13=alpha_5_drory_b,\n",
    "                                                      exp14=alpha_7_drory_b,\n",
    "                                                      exp15=alpha_9_drory_b,\n",
    "                                                      exp21=alpha_0_drory_f,\n",
    "                                                      exp22=alpha_3_drory_f,\n",
    "                                                      exp23=alpha_5_drory_f,\n",
    "                                                      exp24=alpha_7_drory_f,\n",
    "                                                      exp25=alpha_9_drory_f,\n",
    "                                                      n_models=n_samples)"
   ]
  },
  {
   "cell_type": "code",
   "execution_count": 44,
   "metadata": {},
   "outputs": [
    {
     "name": "stdout",
     "output_type": "stream",
     "text": [
      "Model: DoubleSchechter2D\n",
      "Inputs: ('x', 'y')\n",
      "Outputs: ('z',)\n",
      "Model set size: 1024\n",
      "Parameters:\n",
      "            norm11                norm12        ...        exp25       \n",
      "    --------------------- --------------------- ... -------------------\n",
      "     0.004682956517795877 0.0010137977107360157 ... -1.6454319515158846\n",
      "      0.00423433091159525 0.0009302931530934839 ... -1.6738463139161823\n",
      "    0.0046381516066083695  0.001113564429818719 ... -1.6067264799871208\n",
      "     0.004609098871481676 0.0011102788289445963 ... -1.6954277025568145\n",
      "     0.004479857303517014  0.000942789190706751 ...  -1.976849970477052\n",
      "     0.004547137917120199 0.0010101091680905568 ...  -1.306581292272179\n",
      "     0.004502030046380703 0.0010302097209456127 ... -1.7687802882332688\n",
      "     0.004594011651243991 0.0009013916605636008 ... -1.5932061789732284\n",
      "      0.00440395621180891 0.0008395058501652085 ... -1.6402105748795044\n",
      "     0.004287516771736687 0.0009276268416941695 ... -1.6032396211704667\n",
      "                      ...                   ... ...                 ...\n",
      "     0.004653429328376138 0.0011101274831296166 ... -1.8528245198104742\n",
      "     0.004832942403923265 0.0009215755899570122 ... -1.3418288966651297\n",
      "     0.004426509931288871 0.0008736831101177339 ... -1.2837883740595823\n",
      "     0.004564301345885025 0.0009970218997483312 ...   -1.33426159146966\n",
      "     0.004359005840630878 0.0009789894710563022 ... -1.3541363945286142\n",
      "     0.004576211811211093 0.0009374545279879438 ... -2.0493344663343187\n",
      "     0.004500579540313589 0.0009631618869930368 ...   -1.50808137643287\n",
      "     0.004448225718439591 0.0010091489845411423 ... -1.8596273286702125\n",
      "     0.004503610381445882 0.0009656431013508867 ... -1.9008959072110079\n",
      "    0.0046642973298322505 0.0010371214541508122 ... -2.0687043664386358\n",
      "     0.004162322569644023 0.0009699916912744789 ... -1.9563111129527064\n",
      "    Length = 1024 rows\n"
     ]
    }
   ],
   "source": [
    "print(drory_2009_galactic_mass_function)\n",
    "with open('../models/Drory2009_galaxy_mass_function.pkl', 'wb') as f:\n",
    "    pickle.dump(drory_2009_galactic_mass_function, f)"
   ]
  },
  {
   "cell_type": "markdown",
   "metadata": {},
   "source": [
    "#### Ilbert+ (2010)"
   ]
  },
  {
   "cell_type": "markdown",
   "metadata": {},
   "source": [
    "##### Galactic mass function parameters"
   ]
  },
  {
   "cell_type": "code",
   "execution_count": 45,
   "metadata": {},
   "outputs": [],
   "source": [
    "z_ilbert = np.array([0, .3, .5, .7, .9, 1.1, 1.35, 1.75])\n",
    "z_range_ilbert = np.linspace(0, 1.75, num=n_mesh)\n",
    "\n",
    "norm_0_ilbert_q = phi_bell\n",
    "norm_3_ilbert_q = trunc_norm_dist(a=0, b=np.inf, loc=1.12, scale=.07, size=n_samples) * 1e-3\n",
    "norm_5_ilbert_q = trunc_norm_dist(a=0, b=np.inf, loc=.87, scale=.04, size=n_samples) * 1e-3\n",
    "norm_7_ilbert_q = trunc_norm_dist(a=0, b=np.inf, loc=1.15, scale=.03, size=n_samples) * 1e-3\n",
    "norm_9_ilbert_q = trunc_norm_dist(a=0, b=np.inf, loc=1.43, scale=.03, size=n_samples) * 1e-3\n",
    "norm_11_ilbert_q = trunc_norm_dist(a=0, b=np.inf, loc=.55, scale=.02, size=n_samples) * 1e-3\n",
    "norm_135_ilbert_q = trunc_norm_dist(a=0, b=np.inf, loc=.26, scale=.02, size=n_samples) * 1e-3\n",
    "norm_175_ilbert_q = trunc_norm_dist(a=0, b=np.inf, loc=.1, scale=.04, size=n_samples) * 1e-3\n",
    "\n",
    "log_m_gal_0_ilbert_q = log_mgal_break_bell\n",
    "log_m_gal_3_ilbert_q = unc.normal(11.13, std=.03, n_samples=n_samples).distribution\n",
    "log_m_gal_5_ilbert_q = unc.normal(10.97, std=.03, n_samples=n_samples).distribution\n",
    "log_m_gal_7_ilbert_q = unc.normal(10.83, std=.02, n_samples=n_samples).distribution\n",
    "log_m_gal_9_ilbert_q = unc.normal(10.77, std=.01, n_samples=n_samples).distribution\n",
    "log_m_gal_11_ilbert_q = unc.normal(10.7, std=.03, n_samples=n_samples).distribution\n",
    "log_m_gal_135_ilbert_q = unc.normal(10.64, std=.14, n_samples=n_samples).distribution\n",
    "log_m_gal_175_ilbert_q = unc.normal(10.67, std=.1, n_samples=n_samples).distribution\n",
    "\n",
    "alpha_0_ilbert_q = alpha_bell\n",
    "alpha_3_ilbert_q = unc.normal(-.91, std=.02, n_samples=n_samples).distribution\n",
    "alpha_5_ilbert_q = unc.normal(-.56, std=.03, n_samples=n_samples).distribution\n",
    "alpha_7_ilbert_q = unc.normal(-.25, std=.04, n_samples=n_samples).distribution\n",
    "alpha_9_ilbert_q = unc.normal(.04, std=.03, n_samples=n_samples).distribution\n",
    "alpha_11_ilbert_q = unc.normal(.25, std=.08, n_samples=n_samples).distribution\n",
    "alpha_135_ilbert_q = unc.normal(.5, std=.05, n_samples=n_samples).distribution\n",
    "alpha_175_ilbert_q = unc.normal(.5, std=.05, n_samples=n_samples).distribution\n",
    "\n",
    "norm_0_ilbert_i = np.zeros(n_samples)\n",
    "norm_3_ilbert_i = trunc_norm_dist(a=0, b=np.inf, loc=1.31, scale=.09, size=n_samples) * 1e-3\n",
    "norm_5_ilbert_i = trunc_norm_dist(a=0, b=np.inf, loc=.96, scale=.06, size=n_samples) * 1e-3\n",
    "norm_7_ilbert_i = trunc_norm_dist(a=0, b=np.inf, loc=1.02, scale=.06, size=n_samples) * 1e-3\n",
    "norm_9_ilbert_i = trunc_norm_dist(a=0, b=np.inf, loc=1.52, scale=.07, size=n_samples) * 1e-3\n",
    "norm_11_ilbert_i = trunc_norm_dist(a=0, b=np.inf, loc=1.05, scale=.04, size=n_samples) * 1e-3\n",
    "norm_135_ilbert_i = trunc_norm_dist(a=0, b=np.inf, loc=.45, scale=.03, size=n_samples) * 1e-3\n",
    "norm_175_ilbert_i = trunc_norm_dist(a=0, b=np.inf, loc=.23, scale=.02, size=n_samples) * 1e-3\n",
    "\n",
    "log_m_gal_0_ilbert_i = np.zeros(n_samples)\n",
    "log_m_gal_3_ilbert_i = unc.normal(10.96, std=.03, n_samples=n_samples).distribution\n",
    "log_m_gal_5_ilbert_i = unc.normal(10.93, std=.03, n_samples=n_samples).distribution\n",
    "log_m_gal_7_ilbert_i = unc.normal(10.85, std=.02, n_samples=n_samples).distribution\n",
    "log_m_gal_9_ilbert_i = unc.normal(10.73, std=.02, n_samples=n_samples).distribution\n",
    "log_m_gal_11_ilbert_i = unc.normal(10.77, std=.02, n_samples=n_samples).distribution\n",
    "log_m_gal_135_ilbert_i = unc.normal(10.94, std=.03, n_samples=n_samples).distribution\n",
    "log_m_gal_175_ilbert_i = unc.normal(11.02, std=.03, n_samples=n_samples).distribution\n",
    "\n",
    "alpha_0_ilbert_i = np.zeros(n_samples)\n",
    "alpha_3_ilbert_i = unc.normal(-1.20, std=.02, n_samples=n_samples).distribution\n",
    "alpha_5_ilbert_i = unc.normal(-1.02, std=.02, n_samples=n_samples).distribution\n",
    "alpha_7_ilbert_i = unc.normal(-.9, std=.03, n_samples=n_samples).distribution\n",
    "alpha_9_ilbert_i = unc.normal(-.54, std=.03, n_samples=n_samples).distribution\n",
    "alpha_11_ilbert_i = unc.normal(-.44, std=.04, n_samples=n_samples).distribution\n",
    "alpha_135_ilbert_i = unc.normal(-.88, std=.04, n_samples=n_samples).distribution\n",
    "alpha_175_ilbert_i = unc.normal(-1.03, std=.04, n_samples=n_samples).distribution\n",
    "\n",
    "norm_0_ilbert_h = np.zeros(n_samples)\n",
    "norm_3_ilbert_h = trunc_norm_dist(a=0, b=np.inf, loc=.36, scale=.06, size=n_samples) * 1e-3\n",
    "norm_5_ilbert_h = trunc_norm_dist(a=0, b=np.inf, loc=.46, scale=.06, size=n_samples) * 1e-3\n",
    "norm_7_ilbert_h = trunc_norm_dist(a=0, b=np.inf, loc=.65, scale=.05, size=n_samples) * 1e-3\n",
    "norm_9_ilbert_h = trunc_norm_dist(a=0, b=np.inf, loc=1., scale=.06, size=n_samples) * 1e-3\n",
    "norm_11_ilbert_h = trunc_norm_dist(a=0, b=np.inf, loc=.93, scale=.06, size=n_samples) * 1e-3\n",
    "norm_135_ilbert_h = trunc_norm_dist(a=0, b=np.inf, loc=.79, scale=.04, size=n_samples) * 1e-3\n",
    "norm_175_ilbert_h = trunc_norm_dist(a=0, b=np.inf, loc=.39, scale=.3, size=n_samples) * 1e-3\n",
    "\n",
    "log_m_gal_0_ilbert_h = np.zeros(n_samples)\n",
    "log_m_gal_3_ilbert_h = unc.normal(10.42, std=.07, n_samples=n_samples).distribution\n",
    "log_m_gal_5_ilbert_h = unc.normal(10.39, std=.05, n_samples=n_samples).distribution\n",
    "log_m_gal_7_ilbert_h = unc.normal(10.49, std=.03, n_samples=n_samples).distribution\n",
    "log_m_gal_9_ilbert_h = unc.normal(10.48, std=.02, n_samples=n_samples).distribution\n",
    "log_m_gal_11_ilbert_h = unc.normal(10.48, std=.02, n_samples=n_samples).distribution\n",
    "log_m_gal_135_ilbert_h = unc.normal(10.54, std=.02, n_samples=n_samples).distribution\n",
    "log_m_gal_175_ilbert_h = unc.normal(10.75, std=.7, n_samples=n_samples).distribution\n",
    "\n",
    "alpha_0_ilbert_h = np.zeros(n_samples)\n",
    "alpha_3_ilbert_h = unc.normal(-1.51, std=.04, n_samples=n_samples).distribution\n",
    "alpha_5_ilbert_h = unc.normal(-1.47, std=.03, n_samples=n_samples).distribution\n",
    "alpha_7_ilbert_h = unc.normal(-1.48, std=.02, n_samples=n_samples).distribution\n",
    "alpha_9_ilbert_h = unc.normal(-1.33, std=.02, n_samples=n_samples).distribution\n",
    "alpha_11_ilbert_h = unc.normal(-1.29, std=.02, n_samples=n_samples).distribution\n",
    "alpha_135_ilbert_h = unc.normal(-1.26, std=.02, n_samples=n_samples).distribution\n",
    "alpha_175_ilbert_h = unc.normal(-1.3, std=.13, n_samples=n_samples).distribution"
   ]
  },
  {
   "cell_type": "markdown",
   "metadata": {},
   "source": [
    "##### Galactic mass function"
   ]
  },
  {
   "cell_type": "code",
   "execution_count": 46,
   "metadata": {},
   "outputs": [],
   "source": [
    "ilbert_2010_galactic_mass_function = TripleSchechter2D(norm11=norm_0_ilbert_q,\n",
    "                                                       norm12=norm_3_ilbert_q,\n",
    "                                                       norm13=norm_5_ilbert_q,\n",
    "                                                       norm14=norm_7_ilbert_q,\n",
    "                                                       norm15=norm_9_ilbert_q,\n",
    "                                                       norm16=norm_11_ilbert_q,\n",
    "                                                       norm17=norm_135_ilbert_q,\n",
    "                                                       norm18=norm_175_ilbert_q,\n",
    "                                                       norm21=norm_0_ilbert_i,\n",
    "                                                       norm22=norm_3_ilbert_i,\n",
    "                                                       norm23=norm_5_ilbert_i,\n",
    "                                                       norm24=norm_7_ilbert_i,\n",
    "                                                       norm25=norm_9_ilbert_i,\n",
    "                                                       norm26=norm_11_ilbert_i,\n",
    "                                                       norm27=norm_135_ilbert_i,\n",
    "                                                       norm28=norm_175_ilbert_i,\n",
    "                                                       norm31=norm_0_ilbert_h,\n",
    "                                                       norm32=norm_3_ilbert_h,\n",
    "                                                       norm33=norm_5_ilbert_h,\n",
    "                                                       norm34=norm_7_ilbert_h,\n",
    "                                                       norm35=norm_9_ilbert_h,\n",
    "                                                       norm36=norm_11_ilbert_h,\n",
    "                                                       norm37=norm_135_ilbert_h,\n",
    "                                                       norm38=norm_175_ilbert_h,\n",
    "                                                       log_m_break11=log_m_gal_0_ilbert_q,\n",
    "                                                       log_m_break12=log_m_gal_3_ilbert_q,\n",
    "                                                       log_m_break13=log_m_gal_5_ilbert_q,\n",
    "                                                       log_m_break14=log_m_gal_7_ilbert_q,\n",
    "                                                       log_m_break15=log_m_gal_9_ilbert_q,\n",
    "                                                       log_m_break16=log_m_gal_11_ilbert_q,\n",
    "                                                       log_m_break17=log_m_gal_135_ilbert_q,\n",
    "                                                       log_m_break18=log_m_gal_175_ilbert_q,\n",
    "                                                       log_m_break21=log_m_gal_0_ilbert_i,\n",
    "                                                       log_m_break22=log_m_gal_3_ilbert_i,\n",
    "                                                       log_m_break23=log_m_gal_5_ilbert_i,\n",
    "                                                       log_m_break24=log_m_gal_7_ilbert_i,\n",
    "                                                       log_m_break25=log_m_gal_9_ilbert_i,\n",
    "                                                       log_m_break26=log_m_gal_11_ilbert_i,\n",
    "                                                       log_m_break27=log_m_gal_135_ilbert_i,\n",
    "                                                       log_m_break28=log_m_gal_175_ilbert_i,\n",
    "                                                       log_m_break31=log_m_gal_0_ilbert_h,\n",
    "                                                       log_m_break32=log_m_gal_3_ilbert_h,\n",
    "                                                       log_m_break33=log_m_gal_5_ilbert_h,\n",
    "                                                       log_m_break34=log_m_gal_7_ilbert_h,\n",
    "                                                       log_m_break35=log_m_gal_9_ilbert_h,\n",
    "                                                       log_m_break36=log_m_gal_11_ilbert_h,\n",
    "                                                       log_m_break37=log_m_gal_135_ilbert_h,\n",
    "                                                       log_m_break38=log_m_gal_175_ilbert_h,\n",
    "                                                       exp11=alpha_0_ilbert_q,\n",
    "                                                       exp12=alpha_3_ilbert_q,\n",
    "                                                       exp13=alpha_5_ilbert_q,\n",
    "                                                       exp14=alpha_7_ilbert_q,\n",
    "                                                       exp15=alpha_9_ilbert_q,\n",
    "                                                       exp16=alpha_11_ilbert_q,\n",
    "                                                       exp17=alpha_135_ilbert_q,\n",
    "                                                       exp18=alpha_175_ilbert_q,\n",
    "                                                       exp21=alpha_0_ilbert_i,\n",
    "                                                       exp22=alpha_3_ilbert_i,\n",
    "                                                       exp23=alpha_5_ilbert_i,\n",
    "                                                       exp24=alpha_7_ilbert_i,\n",
    "                                                       exp25=alpha_9_ilbert_i,\n",
    "                                                       exp26=alpha_11_ilbert_i,\n",
    "                                                       exp27=alpha_135_ilbert_i,\n",
    "                                                       exp28=alpha_175_ilbert_i,\n",
    "                                                       exp31=alpha_0_ilbert_h,\n",
    "                                                       exp32=alpha_3_ilbert_h,\n",
    "                                                       exp33=alpha_5_ilbert_h,\n",
    "                                                       exp34=alpha_7_ilbert_h,\n",
    "                                                       exp35=alpha_9_ilbert_h,\n",
    "                                                       exp36=alpha_11_ilbert_h,\n",
    "                                                       exp37=alpha_135_ilbert_h,\n",
    "                                                       exp38=alpha_175_ilbert_h,\n",
    "                                                       n_models=n_samples)"
   ]
  },
  {
   "cell_type": "code",
   "execution_count": 47,
   "metadata": {},
   "outputs": [
    {
     "name": "stdout",
     "output_type": "stream",
     "text": [
      "Model: TripleSchechter2D\n",
      "Inputs: ('x', 'y')\n",
      "Outputs: ('z',)\n",
      "Model set size: 1024\n",
      "Parameters:\n",
      "            norm11                norm12        ...        exp38       \n",
      "    --------------------- --------------------- ... -------------------\n",
      "     0.004682956517795877 0.0010717335524329395 ...  -1.316029402907505\n",
      "      0.00423433091159525  0.001104449062851648 ... -1.3275422828501144\n",
      "    0.0046381516066083695  0.001177610811116683 ... -1.2709723696382402\n",
      "     0.004609098871481676 0.0011287300759893516 ... -1.3961770998869174\n",
      "     0.004479857303517014 0.0009988870411579073 ... -1.2846052544937787\n",
      "     0.004547137917120199  0.001049176714353655 ... -1.3761338353192627\n",
      "     0.004502030046380703   0.00116420943753999 ... -1.0406238058903903\n",
      "     0.004594011651243991   0.00113593586046299 ... -1.0702160035525894\n",
      "      0.00440395621180891 0.0012765872087713332 ... -1.2652453622805693\n",
      "     0.004287516771736687  0.001040531038420124 ... -1.3682738622837987\n",
      "                      ...                   ... ...                 ...\n",
      "     0.004653429328376138 0.0010864883829768707 ... -1.1960745916454445\n",
      "     0.004832942403923265 0.0010915561057984753 ... -1.3870044240218387\n",
      "     0.004426509931288871 0.0010991961482720752 ... -1.1020315227968493\n",
      "     0.004564301345885025 0.0011100026625535566 ...  -1.299746580888867\n",
      "     0.004359005840630878 0.0011600946897664913 ... -1.5135868917797306\n",
      "     0.004576211811211093 0.0010706701729143629 ...  -1.374604670133438\n",
      "     0.004500579540313589 0.0011981390224100484 ... -1.2667881227229894\n",
      "     0.004448225718439591 0.0009440805240603736 ...  -1.331459070737802\n",
      "     0.004503610381445882  0.001120770432546902 ...  -1.521033362222416\n",
      "    0.0046642973298322505 0.0010356649327440365 ... -1.3863752369832216\n",
      "     0.004162322569644023 0.0010415844441431133 ... -1.1909448107277785\n",
      "    Length = 1024 rows\n"
     ]
    }
   ],
   "source": [
    "print(ilbert_2010_galactic_mass_function)\n",
    "with open('../models/Ilbert2010_galaxy_mass_function.pkl', 'wb') as f:\n",
    "    pickle.dump(ilbert_2010_galactic_mass_function, f)"
   ]
  },
  {
   "cell_type": "markdown",
   "metadata": {},
   "source": [
    "#### Bundy+ (2009)"
   ]
  },
  {
   "cell_type": "markdown",
   "metadata": {},
   "source": [
    "##### Pair fraction parameters"
   ]
  },
  {
   "cell_type": "code",
   "execution_count": 48,
   "metadata": {},
   "outputs": [],
   "source": [
    "m_bundy = unc.normal(1.6, std=1.6, n_samples=n_samples).distribution\n",
    "fp_bundy = trunc_norm_dist(a=0, b=np.inf, loc=.03, scale=.02, size=n_samples) / (1.55 ** m_bundy)\n",
    "q_min_bundy = np.repeat(.25, n_samples)\n",
    "r_proj_bundy = np.repeat(20, n_samples)"
   ]
  },
  {
   "cell_type": "markdown",
   "metadata": {},
   "source": [
    "##### Pair fraction"
   ]
  },
  {
   "cell_type": "code",
   "execution_count": 49,
   "metadata": {},
   "outputs": [],
   "source": [
    "bundy_pair_frac = PairFraction3D(normalization=fp_bundy,\n",
    "                                 exponent=m_bundy,\n",
    "                                 q_min=q_min_bundy,\n",
    "                                 n_models=n_samples)"
   ]
  },
  {
   "cell_type": "code",
   "execution_count": 50,
   "metadata": {},
   "outputs": [
    {
     "name": "stdout",
     "output_type": "stream",
     "text": [
      "Model: PairFraction3D\n",
      "Inputs: ('x0', 'x1', 'x2')\n",
      "Outputs: ('x0',)\n",
      "Model set size: 1024\n",
      "Parameters:\n",
      "        normalization            exponent        q_min\n",
      "    --------------------- ---------------------- -----\n",
      "     0.010966545342435777     1.9020097233068167  0.25\n",
      "    0.0038247553011706513      3.892415905829183  0.25\n",
      "     0.007862081043823965 -0.0024258770215919156  0.25\n",
      "     0.009664210928077645     1.4622891105428604  0.25\n",
      "     0.006386630562914348     0.2362740548570017  0.25\n",
      "      0.01243050533409125     2.8747348960193233  0.25\n",
      "     0.010490407022110881      3.437295887341761  0.25\n",
      "      0.06967792412305034    -1.5083927129942944  0.25\n",
      "     0.026662762658781574    -0.4380993824377928  0.25\n",
      "     0.002633258116074254     2.4337413887463093  0.25\n",
      "                      ...                    ...   ...\n",
      "     0.003240125034577228     2.7516617279365168  0.25\n",
      "       0.0356782108379649     1.2335438793031952  0.25\n",
      "      0.04546606386657101   -0.25303521788903227  0.25\n",
      "     0.018792578232182614     0.1373845321053666  0.25\n",
      "     0.022670284697238002     0.1059318748886009  0.25\n",
      "     0.013647187568306195     2.6034332745749946  0.25\n",
      "     0.034003369233791735     0.9089251093315576  0.25\n",
      "      0.01237342437414568    0.16865872583723318  0.25\n",
      "    0.0012625553539622138      6.099588708181264  0.25\n",
      "     0.009481350887613066      3.096449255110568  0.25\n",
      "     0.015652524339261707     0.8098872599569802  0.25\n",
      "    Length = 1024 rows\n"
     ]
    }
   ],
   "source": [
    "print(bundy_pair_frac)\n",
    "with open('../models/Bundy2009_pair_fraction.pkl', 'wb') as f:\n",
    "    pickle.dump(bundy_pair_frac, f)"
   ]
  },
  {
   "cell_type": "markdown",
   "metadata": {},
   "source": [
    "#### de Ravel+ (2009)"
   ]
  },
  {
   "cell_type": "markdown",
   "metadata": {},
   "source": [
    "##### Pair fraction parameters"
   ]
  },
  {
   "cell_type": "code",
   "execution_count": 51,
   "metadata": {},
   "outputs": [],
   "source": [
    "log_m_min_de_ravel = np.array([9.5, 10, 10.5])\n",
    "fp_95_de_ravel = trunc_norm_dist(a=0, b=np.inf, loc=.0390, scale=.0342, size=n_samples)\n",
    "fp_10_de_ravel = trunc_norm_dist(a=0, b=np.inf, loc=.0728, scale=.0681, size=n_samples)\n",
    "fp_105_de_ravel = trunc_norm_dist(a=0, b=np.inf, loc=.167, scale=.195, size=n_samples)\n",
    "\n",
    "m_95_de_ravel = unc.normal(3.13, std=1.54, n_samples=n_samples).distribution\n",
    "m_10_de_ravel = unc.normal(2.04, std=1.65, n_samples=n_samples).distribution\n",
    "m_105_de_ravel = unc.normal(.52, std=2.07, n_samples=n_samples).distribution\n",
    "\n",
    "q_min_de_ravel = np.repeat(.25, n_samples)\n",
    "r_proj_de_ravel = np.repeat(100, n_samples)"
   ]
  },
  {
   "cell_type": "markdown",
   "metadata": {},
   "source": [
    "##### Pair fraction"
   ]
  },
  {
   "cell_type": "code",
   "execution_count": 52,
   "metadata": {},
   "outputs": [],
   "source": [
    "de_ravel_pair_frac = PairFraction3D_3bins(norm1=fp_95_de_ravel,\n",
    "                                          norm2=fp_10_de_ravel,\n",
    "                                          norm3=fp_105_de_ravel,\n",
    "                                          exp1=m_95_de_ravel,\n",
    "                                          exp2=m_10_de_ravel,\n",
    "                                          exp3=m_105_de_ravel,\n",
    "                                          q_min=q_min_de_ravel,\n",
    "                                          n_models=n_samples)"
   ]
  },
  {
   "cell_type": "code",
   "execution_count": 53,
   "metadata": {},
   "outputs": [
    {
     "name": "stdout",
     "output_type": "stream",
     "text": [
      "Model: PairFraction3D_3bins\n",
      "Inputs: ('x0', 'x1', 'x2')\n",
      "Outputs: ('x0',)\n",
      "Model set size: 1024\n",
      "Parameters:\n",
      "           norm1                norm2         ...          exp3         q_min\n",
      "    -------------------- -------------------- ... --------------------- -----\n",
      "    0.049272469451966075   0.1613777736676838 ...   -0.6424304766013107  0.25\n",
      "     0.07966894907791902   0.0158862923956187 ...     2.153048079663781  0.25\n",
      "    0.029737663557741274  0.04003151718789073 ...   -0.9150447666950621  0.25\n",
      "    0.006742801227400126  0.03448908655408183 ...   -2.3708429475028296  0.25\n",
      "     0.05055960039895558  0.19403000011929433 ...    3.2824728698184207  0.25\n",
      "     0.04260495911318815 0.021644345734601632 ...    -1.621112067026607  0.25\n",
      "     0.09509796242319898   0.1338881798402255 ...    1.8763679695826292  0.25\n",
      "     0.07070101594629077  0.08829607574897214 ...   -1.7725392976763295  0.25\n",
      "     0.07627068164623582  0.05823346095797329 ...  -0.37546680897502893  0.25\n",
      "    0.022961011729387238  0.09456038439156383 ...   -1.6229254141215876  0.25\n",
      "                     ...                  ... ...                   ...   ...\n",
      "    0.031460703465084824  0.09995507815659135 ...    1.5490837695924373  0.25\n",
      "     0.07157757423529937  0.11990429134760439 ... -0.059377598658954533  0.25\n",
      "      0.0260654059757969  0.08771332921776916 ...     -2.42687748574609  0.25\n",
      "     0.09890879201325178  0.12621827021415066 ...    1.7469104595061602  0.25\n",
      "    0.015878023147388468  0.18874054362232368 ...    1.5217883169614634  0.25\n",
      "     0.04078605271232169  0.10410010691500696 ...  -0.06935987773571839  0.25\n",
      "     0.03602403657952675  0.13652636465351642 ...   -1.6400958822593874  0.25\n",
      "     0.07035134902980486 0.040170780114975366 ...   -0.9397907402382459  0.25\n",
      "    0.025610106508035198  0.10281456539934088 ...   -0.4735265791344986  0.25\n",
      "     0.06767582232484723  0.06003478874461449 ...    3.5491822601609746  0.25\n",
      "    0.045660037547648163 0.037532265045146514 ...    0.9563916348597732  0.25\n",
      "    Length = 1024 rows\n"
     ]
    }
   ],
   "source": [
    "print(de_ravel_pair_frac)\n",
    "with open('../models/deRavel2009_pair_fraction.pkl', 'wb') as f:\n",
    "    pickle.dump(de_ravel_pair_frac, f)"
   ]
  },
  {
   "cell_type": "markdown",
   "metadata": {},
   "source": [
    "#### Lopez-Sanjuan+ (2012)"
   ]
  },
  {
   "cell_type": "markdown",
   "metadata": {},
   "source": [
    "##### Pair fraction parameters"
   ]
  },
  {
   "cell_type": "code",
   "execution_count": 54,
   "metadata": {},
   "outputs": [],
   "source": [
    "fp_lopez = trunc_norm_dist(a=0, b=np.inf, loc=.019, scale=.003, size=n_samples)\n",
    "m_lopez = unc.normal(1.4, std=.3, n_samples=n_samples).distribution\n",
    "q_min_lopez = np.repeat(.25, n_samples)\n",
    "r_proj_lopez = np.repeat(30, n_samples)"
   ]
  },
  {
   "cell_type": "markdown",
   "metadata": {},
   "source": [
    "##### Pair fraction"
   ]
  },
  {
   "cell_type": "code",
   "execution_count": 55,
   "metadata": {},
   "outputs": [],
   "source": [
    "lopez_pair_frac = PairFraction3D(normalization=fp_lopez,\n",
    "                                 exponent=m_lopez,\n",
    "                                 q_min=q_min_lopez,\n",
    "                                 n_models=n_samples)"
   ]
  },
  {
   "cell_type": "code",
   "execution_count": 56,
   "metadata": {},
   "outputs": [
    {
     "name": "stdout",
     "output_type": "stream",
     "text": [
      "Model: PairFraction3D\n",
      "Inputs: ('x0', 'x1', 'x2')\n",
      "Outputs: ('x0',)\n",
      "Model set size: 1024\n",
      "Parameters:\n",
      "       normalization          exponent      q_min\n",
      "    -------------------- ------------------ -----\n",
      "     0.01955937745246695 1.3258602586699444  0.25\n",
      "    0.023210061124143994 1.3402539819918453  0.25\n",
      "    0.022360506081751278  1.181674298341066  0.25\n",
      "     0.01341505159440154 1.9348367808652283  0.25\n",
      "    0.016141395937468633 1.2730923472909024  0.25\n",
      "    0.019133257988680326 1.4228878398754412  0.25\n",
      "    0.017162238800996737 1.4679223382769222  0.25\n",
      "    0.019240056088569685 1.3044556189771175  0.25\n",
      "     0.01971022024637424 1.4742470777617558  0.25\n",
      "     0.02398689392967684 1.4625848119390767  0.25\n",
      "                     ...                ...   ...\n",
      "    0.016341375213620554 1.5795631406351458  0.25\n",
      "    0.021426983732574137 1.1054764255992433  0.25\n",
      "    0.019554657643894708 1.4125274400095036  0.25\n",
      "    0.011567628136092484 2.1165749938518177  0.25\n",
      "    0.018650901641889952 1.3736049822457679  0.25\n",
      "    0.022179474696008953  1.877094073091142  0.25\n",
      "     0.02568003714149534 1.7386406011253126  0.25\n",
      "    0.018940007581307747 1.4536221306163737  0.25\n",
      "    0.018176986552931467 1.2863415976357948  0.25\n",
      "     0.01866464195251109  1.127504887013075  0.25\n",
      "    0.022600167928985313 2.0498978542453616  0.25\n",
      "    Length = 1024 rows\n"
     ]
    }
   ],
   "source": [
    "print(lopez_pair_frac)\n",
    "with open('../models/Lopez2012_pair_fraction.pkl', 'wb') as f:\n",
    "    pickle.dump(lopez_pair_frac, f)"
   ]
  },
  {
   "cell_type": "markdown",
   "metadata": {},
   "source": [
    "#### Kitzbichler & White (2008)"
   ]
  },
  {
   "cell_type": "markdown",
   "metadata": {},
   "source": [
    "##### Merger timescale normalization"
   ]
  },
  {
   "cell_type": "code",
   "execution_count": 57,
   "metadata": {},
   "outputs": [],
   "source": [
    "norm_kw = np.repeat(2.2, n_samples)"
   ]
  },
  {
   "cell_type": "markdown",
   "metadata": {},
   "source": [
    "##### Merger timescale"
   ]
  },
  {
   "cell_type": "code",
   "execution_count": 58,
   "metadata": {},
   "outputs": [],
   "source": [
    "kw_merger_timescale = Timescale3D(normalization=norm_kw,\n",
    "                                  r_proj=r_proj_lopez,\n",
    "                                  n_models=n_samples)"
   ]
  },
  {
   "cell_type": "code",
   "execution_count": 59,
   "metadata": {},
   "outputs": [
    {
     "name": "stdout",
     "output_type": "stream",
     "text": [
      "Model: Timescale3D\n",
      "Inputs: ('x0', 'x1', 'x2')\n",
      "Outputs: ('x0',)\n",
      "Model set size: 1024\n",
      "Parameters:\n",
      "    normalization r_proj\n",
      "    ------------- ------\n",
      "              2.2   30.0\n",
      "              2.2   30.0\n",
      "              2.2   30.0\n",
      "              2.2   30.0\n",
      "              2.2   30.0\n",
      "              2.2   30.0\n",
      "              2.2   30.0\n",
      "              2.2   30.0\n",
      "              2.2   30.0\n",
      "              2.2   30.0\n",
      "              ...    ...\n",
      "              2.2   30.0\n",
      "              2.2   30.0\n",
      "              2.2   30.0\n",
      "              2.2   30.0\n",
      "              2.2   30.0\n",
      "              2.2   30.0\n",
      "              2.2   30.0\n",
      "              2.2   30.0\n",
      "              2.2   30.0\n",
      "              2.2   30.0\n",
      "              2.2   30.0\n",
      "    Length = 1024 rows\n"
     ]
    }
   ],
   "source": [
    "print(kw_merger_timescale)\n",
    "with open('../models/KitzbichlerWhigte2008_merger_timescale.pkl', 'wb') as f:\n",
    "    pickle.dump(kw_merger_timescale, f)"
   ]
  },
  {
   "cell_type": "markdown",
   "metadata": {},
   "source": [
    "#### Lotz+ (2010)"
   ]
  },
  {
   "cell_type": "markdown",
   "metadata": {},
   "source": [
    "##### Merger timescale normalization"
   ]
  },
  {
   "cell_type": "code",
   "execution_count": 60,
   "metadata": {},
   "outputs": [],
   "source": [
    "norm_lotz = np.repeat(1.1, n_samples)"
   ]
  },
  {
   "cell_type": "markdown",
   "metadata": {},
   "source": [
    "##### Merger timescale"
   ]
  },
  {
   "cell_type": "code",
   "execution_count": 61,
   "metadata": {},
   "outputs": [],
   "source": [
    "lotz_merger_timescale = Timescale3D(normalization=norm_lotz,\n",
    "                                    r_proj=r_proj_de_ravel,\n",
    "                                    n_models=n_samples)"
   ]
  },
  {
   "cell_type": "code",
   "execution_count": 62,
   "metadata": {},
   "outputs": [
    {
     "name": "stdout",
     "output_type": "stream",
     "text": [
      "Model: Timescale3D\n",
      "Inputs: ('x0', 'x1', 'x2')\n",
      "Outputs: ('x0',)\n",
      "Model set size: 1024\n",
      "Parameters:\n",
      "    normalization r_proj\n",
      "    ------------- ------\n",
      "              1.1  100.0\n",
      "              1.1  100.0\n",
      "              1.1  100.0\n",
      "              1.1  100.0\n",
      "              1.1  100.0\n",
      "              1.1  100.0\n",
      "              1.1  100.0\n",
      "              1.1  100.0\n",
      "              1.1  100.0\n",
      "              1.1  100.0\n",
      "              ...    ...\n",
      "              1.1  100.0\n",
      "              1.1  100.0\n",
      "              1.1  100.0\n",
      "              1.1  100.0\n",
      "              1.1  100.0\n",
      "              1.1  100.0\n",
      "              1.1  100.0\n",
      "              1.1  100.0\n",
      "              1.1  100.0\n",
      "              1.1  100.0\n",
      "              1.1  100.0\n",
      "    Length = 1024 rows\n"
     ]
    }
   ],
   "source": [
    "print(lotz_merger_timescale)\n",
    "with open('../models/Lotz2010_merger_timescale.pkl', 'wb') as f:\n",
    "    pickle.dump(lotz_merger_timescale, f)"
   ]
  },
  {
   "cell_type": "markdown",
   "metadata": {},
   "source": [
    "## Main models"
   ]
  },
  {
   "cell_type": "markdown",
   "metadata": {},
   "source": [
    "### Mingarelli+ 2017 Derived $\\Phi_{\\rm{BHB}, 0}$"
   ]
  },
  {
   "cell_type": "code",
   "execution_count": 63,
   "metadata": {},
   "outputs": [],
   "source": [
    "N_225 = np.rint(trunc_norm_dist(a=0, b=np.inf, loc=91, scale=7, size=n_samples))  # can't have fractions of a SMBHB\n",
    "distance = 225. * u.Mpc\n",
    "\n",
    "z_225 = z_at_value(WMAP9.angular_diameter_distance, distance, zmax=1.)\n",
    "vol = WMAP9.comoving_volume(z_225).value"
   ]
  },
  {
   "cell_type": "code",
   "execution_count": 64,
   "metadata": {},
   "outputs": [],
   "source": [
    "local_binary_number_density = Const1D(amplitude=N_225/vol, n_models=n_samples)"
   ]
  },
  {
   "cell_type": "code",
   "execution_count": 65,
   "metadata": {},
   "outputs": [
    {
     "data": {
      "text/latex": [
       "$\\displaystyle \\phi_{\\rm{BHB}, 0} = (1.6_{-0.1}^{+0.1}) \\times 10^{-6.0}\\;\\rm{Mpc}^{-3}$"
      ],
      "text/plain": [
       "<IPython.core.display.Math object>"
      ]
     },
     "metadata": {},
     "output_type": "display_data"
    }
   ],
   "source": [
    "quantiles = np.quantile(local_binary_number_density(0), q=[.16, .5, .84])\n",
    "order = 10. ** np.floor(np.log10(quantiles[1]))\n",
    "display(Math(r'\\phi_{{\\rm{{BHB}}, 0}} = ({0:.1f}_{{-{1:.1f}}}^{{+{2:.1f}}})'\n",
    "             r' \\times 10^{{{3}}}\\;\\rm{{Mpc}}^{{-3}}'.format(quantiles[1] / order,\n",
    "                                          (quantiles[1] - quantiles[0]) / order,\n",
    "                                          (quantiles[2] - quantiles[1]) / order,\n",
    "                                          np.log10(order))))"
   ]
  },
  {
   "cell_type": "code",
   "execution_count": 66,
   "metadata": {},
   "outputs": [
    {
     "name": "stdout",
     "output_type": "stream",
     "text": [
      "Model: Const1D\n",
      "Inputs: ('x',)\n",
      "Outputs: ('y',)\n",
      "Model set size: 1024\n",
      "Parameters:\n",
      "          amplitude       \n",
      "    ----------------------\n",
      "    1.6215061148339906e-06\n",
      "    1.6749623603779682e-06\n",
      "    1.5680498692900129e-06\n",
      "    1.5502311207753536e-06\n",
      "    1.6393248633486498e-06\n",
      "    1.7640561029512644e-06\n",
      "    1.6036873663193313e-06\n",
      "     1.657143611863309e-06\n",
      "    1.8531498455245607e-06\n",
      "    1.7640561029512644e-06\n",
      "                       ...\n",
      "    1.8531498455245607e-06\n",
      "     1.585868617804672e-06\n",
      "    1.7462373544366051e-06\n",
      "    1.6215061148339906e-06\n",
      "    1.6215061148339906e-06\n",
      "     1.585868617804672e-06\n",
      "    1.5324123722606944e-06\n",
      "     1.728418605921946e-06\n",
      "     1.799693599980583e-06\n",
      "    1.5680498692900129e-06\n",
      "    1.7462373544366051e-06\n",
      "    Length = 1024 rows\n"
     ]
    }
   ],
   "source": [
    "print(local_binary_number_density)\n",
    "with open('../models/M17_number_density.pkl', 'wb') as f:\n",
    "    pickle.dump(local_binary_number_density, f)"
   ]
  },
  {
   "cell_type": "markdown",
   "metadata": {},
   "source": [
    "### AGN-proxy model"
   ]
  },
  {
   "cell_type": "markdown",
   "metadata": {},
   "source": [
    "#### Normalization"
   ]
  },
  {
   "cell_type": "code",
   "execution_count": 67,
   "metadata": {},
   "outputs": [],
   "source": [
    "# Add normalization masses to our mass range explicitly\n",
    "log_m_bh_range_norm = np.sort(np.append(log_m_bh_range, log_m_bh_min_mingarelli))\n",
    "log_m_bh_range_norm = np.sort(np.append(log_m_bh_range_norm, log_m_bh_max_mingarelli))\n",
    "log_m_bh_range_norm = log_m_bh_range_norm[(log_m_bh_range_norm >= log_m_bh_min_mingarelli)\n",
    "                                          & (log_m_bh_range_norm <= log_m_bh_max_mingarelli)]"
   ]
  },
  {
   "cell_type": "code",
   "execution_count": 68,
   "metadata": {},
   "outputs": [],
   "source": [
    "mm, zz, qq = np.meshgrid(log_m_bh_range_norm, z_range, q_range, indexing='ij')"
   ]
  },
  {
   "cell_type": "code",
   "execution_count": 69,
   "metadata": {},
   "outputs": [
    {
     "data": {
      "application/vnd.jupyter.widget-view+json": {
       "model_id": "bb13ad2e7a4e4872aebf165f44331188",
       "version_major": 2,
       "version_minor": 0
      },
      "text/plain": [
       "  0%|          | 0/17408 [00:00<?, ?it/s]"
      ]
     },
     "metadata": {},
     "output_type": "display_data"
    }
   ],
   "source": [
    "with mp.Pool(mp.cpu_count()) as p:\n",
    "    differential_quasar_population = list(p.starmap(quasar_formation_rate,\n",
    "                             tqdm(zip(mm.ravel(), zz.ravel(), qq.ravel()),\n",
    "                      total=len(mm.ravel()))))\n",
    "\n",
    "differential_quasar_population = np.reshape(differential_quasar_population, np.repeat(mm[..., np.newaxis], n_samples, axis=-1).shape)"
   ]
  },
  {
   "cell_type": "code",
   "execution_count": 70,
   "metadata": {},
   "outputs": [
    {
     "data": {
      "text/latex": [
       "$\\displaystyle \\phi_{\\rm{AGN}, 0} = (8.4_{-5.0}^{+10.8}) \\times 10^{-7.0}\\;\\rm{Mpc}^{-3}$"
      ],
      "text/plain": [
       "<IPython.core.display.Math object>"
      ]
     },
     "metadata": {},
     "output_type": "display_data"
    }
   ],
   "source": [
    "local_quasar_number_density = trapz(trapz(differential_quasar_population, log_m_bh_range_norm, axis=0), q_range, axis=1)[0]\n",
    "\n",
    "quantiles = np.quantile(local_quasar_number_density, q=[.16, .5, .84])\n",
    "order = 10. ** np.floor(np.log10(quantiles[1]))\n",
    "display(Math(r'\\phi_{{\\rm{{AGN}}, 0}} = ({0:.1f}_{{-{1:.1f}}}^{{+{2:.1f}}})'\n",
    "             r' \\times 10^{{{3}}}\\;\\rm{{Mpc}}^{{-3}}'.format(quantiles[1] / order,\n",
    "                                          (quantiles[1] - quantiles[0]) / order,\n",
    "                                          (quantiles[2] - quantiles[1]) / order,\n",
    "                                          np.log10(order))))"
   ]
  },
  {
   "cell_type": "code",
   "execution_count": 71,
   "metadata": {},
   "outputs": [
    {
     "data": {
      "text/latex": [
       "$\\displaystyle N_{0} = 1.9_{-1.1}^{+2.6}$"
      ],
      "text/plain": [
       "<IPython.core.display.Math object>"
      ]
     },
     "metadata": {},
     "output_type": "display_data"
    }
   ],
   "source": [
    "binary_normalization = Const3D(local_binary_number_density.amplitude / local_quasar_number_density, n_models=n_samples)\n",
    "\n",
    "quantiles = np.quantile(binary_normalization.amplitude, q=[.16, .5, .84])\n",
    "display(Math(r'N_{{0}} = {0:.1f}_{{-{1:.1f}}}^{{+{2:.1f}}}'.format(quantiles[1],\n",
    "                                          quantiles[1] - quantiles[0],\n",
    "                                          quantiles[2] - quantiles[1])))"
   ]
  },
  {
   "cell_type": "code",
   "execution_count": 72,
   "metadata": {},
   "outputs": [
    {
     "name": "stdout",
     "output_type": "stream",
     "text": [
      "Model: Const3D\n",
      "Inputs: ('x0', 'x1', 'x2')\n",
      "Outputs: ('x0',)\n",
      "Model set size: 1024\n",
      "Parameters:\n",
      "        amplitude     \n",
      "    ------------------\n",
      "    1.4084594885648207\n",
      "     10.96125903483064\n",
      "     2.372321599375242\n",
      "     6.615794273217532\n",
      "    2.6747729803144087\n",
      "    0.5099298940816429\n",
      "    2.3889050664867444\n",
      "    0.9149897489433699\n",
      "    0.6791860311404647\n",
      "    3.4010727696507135\n",
      "                   ...\n",
      "    3.9426088565144375\n",
      "    1.1707894486441157\n",
      "    1.9552986107663286\n",
      "    0.9600201503457717\n",
      "    0.9673569816805786\n",
      "    0.4722252167348046\n",
      "     5.854871101594096\n",
      "    0.9093886596451752\n",
      "     2.402730758277755\n",
      "    2.5322591115728885\n",
      "     0.959909370783753\n",
      "    Length = 1024 rows\n"
     ]
    }
   ],
   "source": [
    "print(binary_normalization)\n",
    "with open('../models/BinaryNormalization.pkl', 'wb') as f:\n",
    "    pickle.dump(binary_normalization, f)"
   ]
  },
  {
   "cell_type": "markdown",
   "metadata": {},
   "source": [
    "#### Full AGN-SMBHB model"
   ]
  },
  {
   "cell_type": "code",
   "execution_count": 73,
   "metadata": {},
   "outputs": [],
   "source": [
    "differential_smbhb_population = QuasarProxyBinaries(binary_normalization=binary_normalization.amplitude,\n",
    "                                                    log_formation_rate_normalization=log_formation_rate_normalization,\n",
    "                                                    log_formation_rate_power_law_slope=log_formation_rate_power_law_slope,\n",
    "                                                    log_mass_break_normalization=log_mass_break_normalization,\n",
    "                                                    log_mass_break_k_1=log_mass_break_k_1,\n",
    "                                                    log_mass_break_k_2=log_mass_break_k_2,\n",
    "                                                    low_mass_slope=low_mass_slope,\n",
    "                                                    high_mass_slope_normalization=high_mass_slope_normalization,\n",
    "                                                    high_mass_slope_k_1=high_mass_slope_k_1,\n",
    "                                                    high_mass_slope_k_2=high_mass_slope_k_2,\n",
    "                                                    z_ref=z_ref,\n",
    "                                                    mu_log_q=median_log_q,\n",
    "                                                    std_log_q=var_log_q,\n",
    "                                                    n_models=n_samples)"
   ]
  },
  {
   "cell_type": "code",
   "execution_count": 74,
   "metadata": {},
   "outputs": [
    {
     "name": "stdout",
     "output_type": "stream",
     "text": [
      "Model: QuasarProxyBinaries\n",
      "Inputs: ('x0', 'x1', 'x2')\n",
      "Outputs: ('x0',)\n",
      "Model set size: 1024\n",
      "Parameters:\n",
      "    binary_normalization log_formation_rate_normalization ... mu_log_q std_log_q\n",
      "    -------------------- -------------------------------- ... -------- ---------\n",
      "      1.4084594885648207               -3.795596027584851 ...      0.0       0.5\n",
      "       10.96125903483064              -3.8607437684065964 ...      0.0       0.5\n",
      "       2.372321599375242              -3.8325696665255413 ...      0.0       0.5\n",
      "       6.615794273217532               -3.877933031350453 ...      0.0       0.5\n",
      "      2.6747729803144087              -3.8299914463949363 ...      0.0       0.5\n",
      "      0.5099298940816429               -3.762786257548704 ...      0.0       0.5\n",
      "      2.3889050664867444              -3.8612969138554294 ...      0.0       0.5\n",
      "      0.9149897489433699              -3.7900743578357043 ...      0.0       0.5\n",
      "      0.6791860311404647              -3.7770228675546726 ...      0.0       0.5\n",
      "      3.4010727696507135              -3.8697542880385165 ...      0.0       0.5\n",
      "                     ...                              ... ...      ...       ...\n",
      "      3.9426088565144375              -3.8565121922310017 ...      0.0       0.5\n",
      "      1.1707894486441157              -3.8611698171262914 ...      0.0       0.5\n",
      "      1.9552986107663286              -3.8254658344682944 ...      0.0       0.5\n",
      "      0.9600201503457717               -3.878194265275846 ...      0.0       0.5\n",
      "      0.9673569816805786               -3.826491026843132 ...      0.0       0.5\n",
      "      0.4722252167348046                -3.87196972257602 ...      0.0       0.5\n",
      "       5.854871101594096              -3.8540806397972056 ...      0.0       0.5\n",
      "      0.9093886596451752              -3.8180637709505167 ...      0.0       0.5\n",
      "       2.402730758277755              -3.8255066186848223 ...      0.0       0.5\n",
      "      2.5322591115728885              -3.7990588047956173 ...      0.0       0.5\n",
      "       0.959909370783753               -3.832892782553152 ...      0.0       0.5\n",
      "    Length = 1024 rows\n"
     ]
    }
   ],
   "source": [
    "print(differential_smbhb_population)\n",
    "with open('../models/SMBHBPopulation.pkl', 'wb') as f:\n",
    "    pickle.dump(differential_smbhb_population, f)"
   ]
  },
  {
   "cell_type": "markdown",
   "metadata": {},
   "source": [
    "### Goulding+ (2019)"
   ]
  },
  {
   "cell_type": "markdown",
   "metadata": {},
   "source": [
    "#### Normalization"
   ]
  },
  {
   "cell_type": "code",
   "execution_count": 75,
   "metadata": {},
   "outputs": [
    {
     "data": {
      "text/latex": [
       "$\\displaystyle n_{G+19} = (4.1_{-2.7}^{+3.4}) \\times 10^{-7.0} \\text{Mpc}^{-3}$"
      ],
      "text/plain": [
       "<IPython.core.display.Math object>"
      ]
     },
     "metadata": {},
     "output_type": "display_data"
    }
   ],
   "source": [
    "# Get data used for Goulding+ (2019) number densities, as well as calculate their local number density of sources\n",
    "zqso, nz1_, nz2_, nz3_ = np.loadtxt('../data/external/qso2_num_density.txt', unpack=True)\n",
    "\n",
    "nz1_ = u.Quantity(nz1_, 1./u.Mpc**3)*.25\n",
    "nz2_ = u.Quantity(nz2_, 1./u.Mpc**3)*.25\n",
    "nz3_ = u.Quantity(nz3_, 1./u.Mpc**3)*.25\n",
    "\n",
    "oh2index = np.where(zqso==0.2)\n",
    "nz1 = (nz1_[oh2index]-nz1_[0])+nz1_\n",
    "nz2 = (nz2_[oh2index]-nz2_[0])+nz2_\n",
    "nz3 = (nz3_[oh2index]-nz3_[0])+nz3_\n",
    "\n",
    "nd_goulding = np.vstack([nz3, nz2, nz1]) * 1. / u.Mpc ** 3\n",
    "\n",
    "nz_goulding = UnivariateSpline(zqso, nd_goulding[1], s=0)\n",
    "nz_goulding_l = UnivariateSpline(zqso, nd_goulding[0], s=0)\n",
    "nz_goulding_h = UnivariateSpline(zqso, nd_goulding[2], s=0)\n",
    "\n",
    "# now we can find n(z=0)\n",
    "order = 10. ** np.floor(np.log10(nz_goulding(0)))\n",
    "nz_fid = nz_goulding(0)\n",
    "unc_l = nz_fid - nz_goulding_l(0)\n",
    "unc_h = nz_goulding_h(0) - nz_fid\n",
    "display(Math(r'n_{{G+19}} = ({0:.1f}_{{-{1:.1f}}}^{{+{2:.1f}}})'\n",
    "             r' \\times 10^{{{3}}} \\text{{Mpc}}^{{-3}}'\n",
    "             .format(nz_fid / order,\n",
    "                     unc_l / order,\n",
    "                     unc_h / order, np.log10(order))))"
   ]
  },
  {
   "cell_type": "code",
   "execution_count": 76,
   "metadata": {},
   "outputs": [
    {
     "data": {
      "text/latex": [
       "$\\displaystyle \\phi_{\\rm{BHB}, 0, \\rm{G19}} = (4.1_{-2.5}^{+3.1}) \\times 10^{-7.0}\\;\\rm{Mpc}^{-3}$"
      ],
      "text/plain": [
       "<IPython.core.display.Math object>"
      ]
     },
     "metadata": {},
     "output_type": "display_data"
    }
   ],
   "source": [
    "# resample for Monte Carlo statistics\n",
    "# need to do some rescaling on the location and scale params to get similar statistics, not sure why but it works\n",
    "local_dual_agn_number_density = split_normal(loc=nz_fid - 3.3e-7, scale1=unc_l + 7e-8, scale2=unc_h + 1e-7, a=0).rvs(size=n_samples)\n",
    "# local_dual_agn_number_density = split_normal(loc=nz_fid - (np.sqrt(2 / np.pi) * (unc_h - unc_l)), scale1=unc_l, scale2=unc_h, a=0).rvs(size=n_samples)\n",
    "\n",
    "quantiles = np.quantile(local_dual_agn_number_density, q=[.16, .5, .84])\n",
    "order = 10. ** np.floor(np.log10(quantiles[1]))\n",
    "display(Math(r'\\phi_{{\\rm{{BHB}}, 0, \\rm{{G19}}}} = ({0:.1f}_{{-{1:.1f}}}^{{+{2:.1f}}})'\n",
    "             r' \\times 10^{{{3}}}\\;\\rm{{Mpc}}^{{-3}}'.format(quantiles[1] / order,\n",
    "                                          (quantiles[1] - quantiles[0]) / order,\n",
    "                                          (quantiles[2] - quantiles[1]) / order,\n",
    "                                          np.log10(order))))"
   ]
  },
  {
   "cell_type": "code",
   "execution_count": 77,
   "metadata": {},
   "outputs": [],
   "source": [
    "# Add normalization masses to our mass range explicitly\n",
    "# TODO: Efficiency updates to mass range generation and local z used\n",
    "log_m_bh_range_norm_G19 = np.sort(np.append(log_m_bh_range, log_m_chirp_min_goulding))\n",
    "log_m_bh_range_norm_G19 = np.sort(np.append(log_m_bh_range_norm_G19, log_m_chirp_max_goulding))\n",
    "log_m_bh_range_norm_G19 = log_m_bh_range_norm_G19[(log_m_bh_range_norm_G19 >= log_m_chirp_min_goulding)\n",
    "                                              & (log_m_bh_range_norm_G19 <= log_m_chirp_max_goulding)]"
   ]
  },
  {
   "cell_type": "code",
   "execution_count": 78,
   "metadata": {},
   "outputs": [],
   "source": [
    "mm, zz = np.meshgrid(log_m_bh_range_norm_G19, z_range, indexing='ij')"
   ]
  },
  {
   "cell_type": "code",
   "execution_count": 79,
   "metadata": {},
   "outputs": [
    {
     "data": {
      "application/vnd.jupyter.widget-view+json": {
       "model_id": "62f44d772d7240eca092dc1634dcfeab",
       "version_major": 2,
       "version_minor": 0
      },
      "text/plain": [
       "  0%|          | 0/736 [00:00<?, ?it/s]"
      ]
     },
     "metadata": {},
     "output_type": "display_data"
    }
   ],
   "source": [
    "with mp.Pool(mp.cpu_count()) as p:\n",
    "    G19_differential_quasar_population = list(p.starmap(j1010_quasars,\n",
    "                                                        tqdm(zip(mm.ravel(), zz.ravel()),\n",
    "                                                             total=len(mm.ravel()))))\n",
    "\n",
    "G19_differential_quasar_population = np.reshape(G19_differential_quasar_population, np.repeat(mm[..., np.newaxis], n_samples, axis=-1).shape)"
   ]
  },
  {
   "cell_type": "code",
   "execution_count": 80,
   "metadata": {},
   "outputs": [
    {
     "data": {
      "text/latex": [
       "$\\displaystyle \\phi_{\\rm{AGN}, 0} = (3.8_{-1.5}^{+2.5}) \\times 10^{-10.0}\\;\\rm{Mpc}^{-3}$"
      ],
      "text/plain": [
       "<IPython.core.display.Math object>"
      ]
     },
     "metadata": {},
     "output_type": "display_data"
    }
   ],
   "source": [
    "G19_local_quasar_number_density = trapz(G19_differential_quasar_population, log_m_bh_range_norm_G19, axis=0)[0]\n",
    "\n",
    "quantiles = np.quantile(G19_local_quasar_number_density, q=[.16, .5, .84])\n",
    "order = 10. ** np.floor(np.log10(quantiles[1]))\n",
    "display(Math(r'\\phi_{{\\rm{{AGN}}, 0}} = ({0:.1f}_{{-{1:.1f}}}^{{+{2:.1f}}})'\n",
    "             r' \\times 10^{{{3}}}\\;\\rm{{Mpc}}^{{-3}}'.format(quantiles[1] / order,\n",
    "                                          (quantiles[1] - quantiles[0]) / order,\n",
    "                                          (quantiles[2] - quantiles[1]) / order,\n",
    "                                          np.log10(order))))"
   ]
  },
  {
   "cell_type": "code",
   "execution_count": 81,
   "metadata": {},
   "outputs": [
    {
     "data": {
      "text/latex": [
       "$\\displaystyle N_{0} = 964.7_{-577.4}^{+1212.5}$"
      ],
      "text/plain": [
       "<IPython.core.display.Math object>"
      ]
     },
     "metadata": {},
     "output_type": "display_data"
    }
   ],
   "source": [
    "dual_agn_normalization = Const3D(local_dual_agn_number_density / G19_local_quasar_number_density, n_models=n_samples)\n",
    "\n",
    "quantiles = np.quantile(dual_agn_normalization.amplitude, q=[.16, .5, .84])\n",
    "display(Math(r'N_{{0}} = {0:.1f}_{{-{1:.1f}}}^{{+{2:.1f}}}'.format(quantiles[1],\n",
    "                                          quantiles[1] - quantiles[0],\n",
    "                                          quantiles[2] - quantiles[1])))"
   ]
  },
  {
   "cell_type": "code",
   "execution_count": 82,
   "metadata": {},
   "outputs": [
    {
     "name": "stdout",
     "output_type": "stream",
     "text": [
      "Model: Const3D\n",
      "Inputs: ('x0', 'x1', 'x2')\n",
      "Outputs: ('x0',)\n",
      "Model set size: 1024\n",
      "Parameters:\n",
      "        amplitude     \n",
      "    ------------------\n",
      "     981.5580969222999\n",
      "      603.135494554008\n",
      "     1297.357440842478\n",
      "    1259.5028379597973\n",
      "     327.1247198662199\n",
      "     4156.594436835149\n",
      "     483.3694577033024\n",
      "     186.0448603519508\n",
      "     4841.880399844671\n",
      "     1070.079959011151\n",
      "                   ...\n",
      "     405.5063452504107\n",
      "     1363.468008867589\n",
      "     340.8050792139699\n",
      "    1268.5618306841777\n",
      "     1579.980631725795\n",
      "    1153.3900986424565\n",
      "     1299.445810937167\n",
      "    1731.7260784030093\n",
      "    1783.0104279116101\n",
      "    2006.1898023848548\n",
      "      2585.82925858842\n",
      "    Length = 1024 rows\n"
     ]
    }
   ],
   "source": [
    "print(dual_agn_normalization)\n",
    "with open('../models/DualAGNNormalization.pkl', 'wb') as f:\n",
    "    pickle.dump(dual_agn_normalization, f)"
   ]
  },
  {
   "cell_type": "markdown",
   "metadata": {},
   "source": [
    "#### Full dual AGN model"
   ]
  },
  {
   "cell_type": "code",
   "execution_count": 83,
   "metadata": {},
   "outputs": [],
   "source": [
    "G19_dual_agn_population = Goulding2019J1010Binaries(binary_normalization=dual_agn_normalization.amplitude,\n",
    "                                                    mass_dispersion_intercept=a_marconi,\n",
    "                                                    mass_dispersion_slope=b_marconi,\n",
    "                                                    intrinsic_scatter=intrinsic_disp_marconi,\n",
    "                                                    dispersion_norm=dispersion_normalization_sheth,\n",
    "                                                    log_dispersion_break=np.log10(dispersion_break_sheth),\n",
    "                                                    dispersion_alpha=alpha_sheth,\n",
    "                                                    dispersion_beta=beta_sheth,\n",
    "                                                    log_l_min=log_l_min_goulding,\n",
    "                                                    log_l_max=log_l_max_goulding,\n",
    "                                                    log_dens_norm=log_norm_hopkins,\n",
    "                                                    log_break_luminosity_norm=log_break_luminosity_norm_hopkins,\n",
    "                                                    log_break_luminosity_k1=log_break_luminosity_k1_hopkins,\n",
    "                                                    log_break_luminosity_k2=log_break_luminosity_k2_hopkins,\n",
    "                                                    log_break_luminosity_k3=log_break_luminosity_k3_hopkins,\n",
    "                                                    faint_end_slope_norm=faint_end_slope_norm_hopkins,\n",
    "                                                    faint_end_slope_k=faint_end_slope_k_hopkins,\n",
    "                                                    bright_end_slope_norm=bright_end_slope_norm_hopkins,\n",
    "                                                    bright_end_slope_k1=bright_end_slope_k1_hopkins,\n",
    "                                                    bright_end_slope_k2=bright_end_slope_k2_hopkins,\n",
    "                                                    z_ref=z_ref_hopkins,\n",
    "                                                    n_models=n_samples)"
   ]
  },
  {
   "cell_type": "code",
   "execution_count": 84,
   "metadata": {},
   "outputs": [
    {
     "name": "stdout",
     "output_type": "stream",
     "text": [
      "Model: Goulding2019J1010Binaries\n",
      "Inputs: ('x', 'y')\n",
      "Outputs: ('z',)\n",
      "Model set size: 1024\n",
      "Parameters:\n",
      "    binary_normalization mass_dispersion_intercept ... bright_end_slope_k2 z_ref\n",
      "    -------------------- ------------------------- ... ------------------- -----\n",
      "       981.5580969222999        -2.671682028547801 ...  -0.811881492806052   2.0\n",
      "        603.135494554008       -0.8016266726772283 ... -0.8442983443762409   2.0\n",
      "       1297.357440842478       -2.6443081135822535 ... -0.8968042325769663   2.0\n",
      "      1259.5028379597973       -1.9960386095516718 ... -0.7406718773975562   2.0\n",
      "       327.1247198662199       0.09232649809504778 ... -0.8220454372102963   2.0\n",
      "       4156.594436835149       -1.6990370737984506 ... -0.8530769235400819   2.0\n",
      "       483.3694577033024        -2.225628471758615 ...  -0.889590056235105   2.0\n",
      "       186.0448603519508       -1.3583711794442301 ... -0.7395851429533208   2.0\n",
      "       4841.880399844671       -1.5224930576532518 ... -0.7606811256365653   2.0\n",
      "       1070.079959011151       -0.5775085768108195 ... -0.7771067831723204   2.0\n",
      "                     ...                       ... ...                 ...   ...\n",
      "       405.5063452504107       -1.2020478684386422 ...  -0.871419235777823   2.0\n",
      "       1363.468008867589        -1.577105197636543 ... -0.7980574919116371   2.0\n",
      "       340.8050792139699          -1.2062399429766 ... -0.8002699929244479   2.0\n",
      "      1268.5618306841777       -0.6294179401541289 ... -0.7401999946178477   2.0\n",
      "       1579.980631725795       -0.6045293322062388 ... -0.7375705955330006   2.0\n",
      "      1153.3900986424565       -1.9338250692655095 ... -0.7751562738774438   2.0\n",
      "       1299.445810937167        -1.644698808816047 ... -0.6872236413323769   2.0\n",
      "      1731.7260784030093        -2.411021220263427 ... -0.8335019519719301   2.0\n",
      "      1783.0104279116101       -1.6596386589111596 ... -0.7538439339010766   2.0\n",
      "      2006.1898023848548        -2.524052094218579 ... -0.8023089717239357   2.0\n",
      "        2585.82925858842       -2.0251100475345254 ... -0.7033091050823227   2.0\n",
      "    Length = 1024 rows\n"
     ]
    }
   ],
   "source": [
    "print(G19_dual_agn_population)\n",
    "with open('../models/G19DualAGNPopulation.pkl', 'wb') as f:\n",
    "    pickle.dump(G19_dual_agn_population, f)"
   ]
  },
  {
   "cell_type": "markdown",
   "metadata": {},
   "source": [
    "### Major merger models"
   ]
  },
  {
   "cell_type": "markdown",
   "metadata": {},
   "source": [
    "#### S1: Borch+ (2006), Bundy+ (2009), Kitzbichler & White (2008)"
   ]
  },
  {
   "cell_type": "code",
   "execution_count": 85,
   "metadata": {},
   "outputs": [],
   "source": [
    "S1 = Sesana2013_Schechter(alpha=alpha_mcconnell_ma,\n",
    "                          beta=beta_mcconnell_ma,\n",
    "                          norm1=norm_0_borch,\n",
    "                          norm2=norm_3_borch,\n",
    "                          norm3=norm_5_borch,\n",
    "                          norm4=norm_7_borch,\n",
    "                          norm5=norm_9_borch,\n",
    "                          log_m_break1=log_m_gal_0_borch,\n",
    "                          log_m_break2=log_m_gal_3_borch,\n",
    "                          log_m_break3=log_m_gal_5_borch,\n",
    "                          log_m_break4=log_m_gal_7_borch,\n",
    "                          log_m_break5=log_m_gal_9_borch,\n",
    "                          exp1=alpha_0_borch,\n",
    "                          exp2=alpha_3_borch,\n",
    "                          exp3=alpha_5_borch,\n",
    "                          exp4=alpha_7_borch,\n",
    "                          exp5=alpha_9_borch,\n",
    "                          local_pair_fraction=fp_bundy,\n",
    "                          pair_fraction_exponent=m_bundy,\n",
    "                          q_min=q_min_bundy,\n",
    "                          t_norm=norm_kw,\n",
    "                          r_proj=r_proj_bundy,\n",
    "                          n_models=n_samples)"
   ]
  },
  {
   "cell_type": "code",
   "execution_count": 86,
   "metadata": {},
   "outputs": [
    {
     "name": "stdout",
     "output_type": "stream",
     "text": [
      "Model: Sesana2013_Schechter\n",
      "Inputs: ('x0', 'x1', 'x2')\n",
      "Outputs: ('x0',)\n",
      "Model set size: 1024\n",
      "Parameters:\n",
      "          alpha              beta                norm1         ... t_norm r_proj\n",
      "    ----------------- ------------------ --------------------- ... ------ ------\n",
      "     8.49108457358719  1.165454541677718  0.003114345515936124 ...    2.2   20.0\n",
      "    8.468260754767998  1.166514529390051   0.00353446822008589 ...    2.2   20.0\n",
      "    8.391457625521245 1.1747968420109376 0.0034036637359824394 ...    2.2   20.0\n",
      "    8.559660171182392  1.058863156260263 0.0032987724762846686 ...    2.2   20.0\n",
      "    8.558603492663936 1.1803365980321536  0.003425524436955385 ...    2.2   20.0\n",
      "    8.528386410055688 1.1855510687853983  0.004022005653459982 ...    2.2   20.0\n",
      "    8.453396618858735  1.192380627392538 0.0036665592694056118 ...    2.2   20.0\n",
      "    8.495233718922671 1.0950211444304365  0.004096885496691645 ...    2.2   20.0\n",
      "    8.545578696643027 1.1851872696960695  0.003691099864474938 ...    2.2   20.0\n",
      "    8.443424183419442 1.1320438646985844  0.003446207847817694 ...    2.2   20.0\n",
      "                  ...                ...                   ... ...    ...    ...\n",
      "    8.447043779728864  1.214402042054676 0.0028371060103643425 ...    2.2   20.0\n",
      "     8.46114864682336 0.8931498010778423 0.0033291358609721265 ...    2.2   20.0\n",
      "    8.602255577309148 1.0621607000655164  0.003826555169303893 ...    2.2   20.0\n",
      "    8.477803408453259 1.0530044069098516  0.003415263136431799 ...    2.2   20.0\n",
      "    8.345780735402755 1.1854437050756386 0.0034655481829799903 ...    2.2   20.0\n",
      "    8.503627795458595 0.9607019305224066 0.0034331538006461297 ...    2.2   20.0\n",
      "    8.615964178109143 0.9116919154892631  0.004454727314846473 ...    2.2   20.0\n",
      "    8.382113367446596 1.0209310163749319  0.003974525218100412 ...    2.2   20.0\n",
      "    8.434952579451208   1.12418829131918 0.0035837976818349202 ...    2.2   20.0\n",
      "    8.391441149747891 1.0531926211952036 0.0032737944656465647 ...    2.2   20.0\n",
      "    8.477282093793923 1.1178012501953973  0.004137170625737992 ...    2.2   20.0\n",
      "    Length = 1024 rows\n"
     ]
    }
   ],
   "source": [
    "print(S1)\n",
    "with open('../models/S1.pkl', 'wb') as f:\n",
    "    pickle.dump(S1, f)"
   ]
  },
  {
   "cell_type": "markdown",
   "metadata": {},
   "source": [
    "#### S2: Drory+ (2009), de Ravel+ (2009), Lotz+ (2010)"
   ]
  },
  {
   "cell_type": "code",
   "execution_count": 87,
   "metadata": {},
   "outputs": [],
   "source": [
    "S2 = Sesana2013_DoubleSchechter(alpha=alpha_mcconnell_ma,\n",
    "                                beta=beta_mcconnell_ma,\n",
    "                                norm11=norm_0_drory_b,\n",
    "                                norm12=norm_3_drory_b,\n",
    "                                norm13=norm_5_drory_b,\n",
    "                                norm14=norm_7_drory_b,\n",
    "                                norm15=norm_9_drory_b,\n",
    "                                norm21=norm_0_drory_f,\n",
    "                                norm22=norm_3_drory_f,\n",
    "                                norm23=norm_5_drory_f,\n",
    "                                norm24=norm_7_drory_f,\n",
    "                                norm25=norm_9_drory_f,\n",
    "                                log_m_break11=log_m_gal_0_drory_b,\n",
    "                                log_m_break12=log_m_gal_3_drory_b,\n",
    "                                log_m_break13=log_m_gal_5_drory_b,\n",
    "                                log_m_break14=log_m_gal_7_drory_b,\n",
    "                                log_m_break15=log_m_gal_9_drory_b,\n",
    "                                log_m_break21=log_m_gal_0_drory_f,\n",
    "                                log_m_break22=log_m_gal_3_drory_f,\n",
    "                                log_m_break23=log_m_gal_5_drory_f,\n",
    "                                log_m_break24=log_m_gal_7_drory_f,\n",
    "                                log_m_break25=log_m_gal_9_drory_f,\n",
    "                                exp11=alpha_0_drory_b,\n",
    "                                exp12=alpha_3_drory_b,\n",
    "                                exp13=alpha_5_drory_b,\n",
    "                                exp14=alpha_7_drory_b,\n",
    "                                exp15=alpha_9_drory_b,\n",
    "                                exp21=alpha_0_drory_f,\n",
    "                                exp22=alpha_3_drory_f,\n",
    "                                exp23=alpha_5_drory_f,\n",
    "                                exp24=alpha_7_drory_f,\n",
    "                                exp25=alpha_9_drory_f,\n",
    "                                local_pair_fraction1=fp_95_de_ravel,\n",
    "                                local_pair_fraction2=fp_10_de_ravel,\n",
    "                                local_pair_fraction3=fp_105_de_ravel,\n",
    "                                pair_fraction_exponent1=m_95_de_ravel,\n",
    "                                pair_fraction_exponent2=m_10_de_ravel,\n",
    "                                pair_fraction_exponent3=m_105_de_ravel,\n",
    "                                q_min=q_min_de_ravel,\n",
    "                                t_norm=norm_lotz,\n",
    "                                r_proj=r_proj_de_ravel,\n",
    "                                n_models=n_samples)"
   ]
  },
  {
   "cell_type": "code",
   "execution_count": 88,
   "metadata": {},
   "outputs": [
    {
     "name": "stdout",
     "output_type": "stream",
     "text": [
      "Model: Sesana2013_DoubleSchechter\n",
      "Inputs: ('x0', 'x1', 'x2')\n",
      "Outputs: ('x0',)\n",
      "Model set size: 1024\n",
      "Parameters:\n",
      "          alpha              beta                norm11        ... t_norm r_proj\n",
      "    ----------------- ------------------ --------------------- ... ------ ------\n",
      "     8.49108457358719  1.165454541677718  0.004682956517795877 ...    1.1  100.0\n",
      "    8.468260754767998  1.166514529390051   0.00423433091159525 ...    1.1  100.0\n",
      "    8.391457625521245 1.1747968420109376 0.0046381516066083695 ...    1.1  100.0\n",
      "    8.559660171182392  1.058863156260263  0.004609098871481676 ...    1.1  100.0\n",
      "    8.558603492663936 1.1803365980321536  0.004479857303517014 ...    1.1  100.0\n",
      "    8.528386410055688 1.1855510687853983  0.004547137917120199 ...    1.1  100.0\n",
      "    8.453396618858735  1.192380627392538  0.004502030046380703 ...    1.1  100.0\n",
      "    8.495233718922671 1.0950211444304365  0.004594011651243991 ...    1.1  100.0\n",
      "    8.545578696643027 1.1851872696960695   0.00440395621180891 ...    1.1  100.0\n",
      "    8.443424183419442 1.1320438646985844  0.004287516771736687 ...    1.1  100.0\n",
      "                  ...                ...                   ... ...    ...    ...\n",
      "    8.447043779728864  1.214402042054676  0.004653429328376138 ...    1.1  100.0\n",
      "     8.46114864682336 0.8931498010778423  0.004832942403923265 ...    1.1  100.0\n",
      "    8.602255577309148 1.0621607000655164  0.004426509931288871 ...    1.1  100.0\n",
      "    8.477803408453259 1.0530044069098516  0.004564301345885025 ...    1.1  100.0\n",
      "    8.345780735402755 1.1854437050756386  0.004359005840630878 ...    1.1  100.0\n",
      "    8.503627795458595 0.9607019305224066  0.004576211811211093 ...    1.1  100.0\n",
      "    8.615964178109143 0.9116919154892631  0.004500579540313589 ...    1.1  100.0\n",
      "    8.382113367446596 1.0209310163749319  0.004448225718439591 ...    1.1  100.0\n",
      "    8.434952579451208   1.12418829131918  0.004503610381445882 ...    1.1  100.0\n",
      "    8.391441149747891 1.0531926211952036 0.0046642973298322505 ...    1.1  100.0\n",
      "    8.477282093793923 1.1178012501953973  0.004162322569644023 ...    1.1  100.0\n",
      "    Length = 1024 rows\n"
     ]
    }
   ],
   "source": [
    "print(S2)\n",
    "with open('../models/S2.pkl', 'wb') as f:\n",
    "    pickle.dump(S2, f)"
   ]
  },
  {
   "cell_type": "markdown",
   "metadata": {},
   "source": [
    "#### S3: Ilbert+ (2010), Lopez+ (2012), Kitzbichler & White (2008)"
   ]
  },
  {
   "cell_type": "code",
   "execution_count": 89,
   "metadata": {},
   "outputs": [],
   "source": [
    "S3 = Sesana2013_TripleSchechter(alpha=alpha_mcconnell_ma,\n",
    "                                beta=beta_mcconnell_ma,\n",
    "                                norm11=norm_0_ilbert_q,\n",
    "                                norm12=norm_3_ilbert_q,\n",
    "                                norm13=norm_5_ilbert_q,\n",
    "                                norm14=norm_7_ilbert_q,\n",
    "                                norm15=norm_9_ilbert_q,\n",
    "                                norm16=norm_11_ilbert_q,\n",
    "                                norm17=norm_135_ilbert_q,\n",
    "                                norm18=norm_175_ilbert_q,\n",
    "                                norm21=norm_0_ilbert_i,\n",
    "                                norm22=norm_3_ilbert_i,\n",
    "                                norm23=norm_5_ilbert_i,\n",
    "                                norm24=norm_7_ilbert_i,\n",
    "                                norm25=norm_9_ilbert_i,\n",
    "                                norm26=norm_11_ilbert_i,\n",
    "                                norm27=norm_135_ilbert_i,\n",
    "                                norm28=norm_175_ilbert_i,\n",
    "                                norm31=norm_0_ilbert_h,\n",
    "                                norm32=norm_3_ilbert_h,\n",
    "                                norm33=norm_5_ilbert_h,\n",
    "                                norm34=norm_7_ilbert_h,\n",
    "                                norm35=norm_9_ilbert_h,\n",
    "                                norm36=norm_11_ilbert_h,\n",
    "                                norm37=norm_135_ilbert_h,\n",
    "                                norm38=norm_175_ilbert_h,\n",
    "                                log_m_break11=log_m_gal_0_ilbert_q,\n",
    "                                log_m_break12=log_m_gal_3_ilbert_q,\n",
    "                                log_m_break13=log_m_gal_5_ilbert_q,\n",
    "                                log_m_break14=log_m_gal_7_ilbert_q,\n",
    "                                log_m_break15=log_m_gal_9_ilbert_q,\n",
    "                                log_m_break16=log_m_gal_11_ilbert_q,\n",
    "                                log_m_break17=log_m_gal_135_ilbert_q,\n",
    "                                log_m_break18=log_m_gal_175_ilbert_q,\n",
    "                                log_m_break21=log_m_gal_0_ilbert_i,\n",
    "                                log_m_break22=log_m_gal_3_ilbert_i,\n",
    "                                log_m_break23=log_m_gal_5_ilbert_i,\n",
    "                                log_m_break24=log_m_gal_7_ilbert_i,\n",
    "                                log_m_break25=log_m_gal_9_ilbert_i,\n",
    "                                log_m_break26=log_m_gal_11_ilbert_i,\n",
    "                                log_m_break27=log_m_gal_135_ilbert_i,\n",
    "                                log_m_break28=log_m_gal_175_ilbert_i,\n",
    "                                log_m_break31=log_m_gal_0_ilbert_h,\n",
    "                                log_m_break32=log_m_gal_3_ilbert_h,\n",
    "                                log_m_break33=log_m_gal_5_ilbert_h,\n",
    "                                log_m_break34=log_m_gal_7_ilbert_h,\n",
    "                                log_m_break35=log_m_gal_9_ilbert_h,\n",
    "                                log_m_break36=log_m_gal_11_ilbert_h,\n",
    "                                log_m_break37=log_m_gal_135_ilbert_h,\n",
    "                                log_m_break38=log_m_gal_175_ilbert_h,\n",
    "                                exp11=alpha_0_ilbert_q,\n",
    "                                exp12=alpha_3_ilbert_q,\n",
    "                                exp13=alpha_5_ilbert_q,\n",
    "                                exp14=alpha_7_ilbert_q,\n",
    "                                exp15=alpha_9_ilbert_q,\n",
    "                                exp16=alpha_11_ilbert_q,\n",
    "                                exp17=alpha_135_ilbert_q,\n",
    "                                exp18=alpha_175_ilbert_q,\n",
    "                                exp21=alpha_0_ilbert_i,\n",
    "                                exp22=alpha_3_ilbert_i,\n",
    "                                exp23=alpha_5_ilbert_i,\n",
    "                                exp24=alpha_7_ilbert_i,\n",
    "                                exp25=alpha_9_ilbert_i,\n",
    "                                exp26=alpha_11_ilbert_i,\n",
    "                                exp27=alpha_135_ilbert_i,\n",
    "                                exp28=alpha_175_ilbert_i,\n",
    "                                exp31=alpha_0_ilbert_h,\n",
    "                                exp32=alpha_3_ilbert_h,\n",
    "                                exp33=alpha_5_ilbert_h,\n",
    "                                exp34=alpha_7_ilbert_h,\n",
    "                                exp35=alpha_9_ilbert_h,\n",
    "                                exp36=alpha_11_ilbert_h,\n",
    "                                exp37=alpha_135_ilbert_h,\n",
    "                                exp38=alpha_175_ilbert_h,\n",
    "                                local_pair_fraction=fp_lopez,\n",
    "                                pair_fraction_exponent=m_lopez,\n",
    "                                q_min=q_min_lopez,\n",
    "                                t_norm=norm_kw,\n",
    "                                r_proj=r_proj_lopez,\n",
    "                                n_models=n_samples)"
   ]
  },
  {
   "cell_type": "code",
   "execution_count": 90,
   "metadata": {},
   "outputs": [
    {
     "name": "stdout",
     "output_type": "stream",
     "text": [
      "Model: Sesana2013_TripleSchechter\n",
      "Inputs: ('x0', 'x1', 'x2')\n",
      "Outputs: ('x0',)\n",
      "Model set size: 1024\n",
      "Parameters:\n",
      "          alpha              beta                norm11        ... t_norm r_proj\n",
      "    ----------------- ------------------ --------------------- ... ------ ------\n",
      "     8.49108457358719  1.165454541677718  0.004682956517795877 ...    2.2   30.0\n",
      "    8.468260754767998  1.166514529390051   0.00423433091159525 ...    2.2   30.0\n",
      "    8.391457625521245 1.1747968420109376 0.0046381516066083695 ...    2.2   30.0\n",
      "    8.559660171182392  1.058863156260263  0.004609098871481676 ...    2.2   30.0\n",
      "    8.558603492663936 1.1803365980321536  0.004479857303517014 ...    2.2   30.0\n",
      "    8.528386410055688 1.1855510687853983  0.004547137917120199 ...    2.2   30.0\n",
      "    8.453396618858735  1.192380627392538  0.004502030046380703 ...    2.2   30.0\n",
      "    8.495233718922671 1.0950211444304365  0.004594011651243991 ...    2.2   30.0\n",
      "    8.545578696643027 1.1851872696960695   0.00440395621180891 ...    2.2   30.0\n",
      "    8.443424183419442 1.1320438646985844  0.004287516771736687 ...    2.2   30.0\n",
      "                  ...                ...                   ... ...    ...    ...\n",
      "    8.447043779728864  1.214402042054676  0.004653429328376138 ...    2.2   30.0\n",
      "     8.46114864682336 0.8931498010778423  0.004832942403923265 ...    2.2   30.0\n",
      "    8.602255577309148 1.0621607000655164  0.004426509931288871 ...    2.2   30.0\n",
      "    8.477803408453259 1.0530044069098516  0.004564301345885025 ...    2.2   30.0\n",
      "    8.345780735402755 1.1854437050756386  0.004359005840630878 ...    2.2   30.0\n",
      "    8.503627795458595 0.9607019305224066  0.004576211811211093 ...    2.2   30.0\n",
      "    8.615964178109143 0.9116919154892631  0.004500579540313589 ...    2.2   30.0\n",
      "    8.382113367446596 1.0209310163749319  0.004448225718439591 ...    2.2   30.0\n",
      "    8.434952579451208   1.12418829131918  0.004503610381445882 ...    2.2   30.0\n",
      "    8.391441149747891 1.0531926211952036 0.0046642973298322505 ...    2.2   30.0\n",
      "    8.477282093793923 1.1178012501953973  0.004162322569644023 ...    2.2   30.0\n",
      "    Length = 1024 rows\n"
     ]
    }
   ],
   "source": [
    "print(S3)\n",
    "with open('../models/S3.pkl', 'wb') as f:\n",
    "    pickle.dump(S3, f)"
   ]
  },
  {
   "cell_type": "markdown",
   "metadata": {},
   "source": [
    "# Results"
   ]
  },
  {
   "cell_type": "markdown",
   "metadata": {},
   "source": [
    "## AGN Models"
   ]
  },
  {
   "cell_type": "markdown",
   "metadata": {},
   "source": [
    "### AGN-proxy"
   ]
  },
  {
   "cell_type": "markdown",
   "metadata": {},
   "source": [
    "#### SMBHB Population"
   ]
  },
  {
   "cell_type": "code",
   "execution_count": 91,
   "metadata": {},
   "outputs": [],
   "source": [
    "mm, zz, qq = np.meshgrid(log_m_bh_range, z_range, q_range, indexing='ij')"
   ]
  },
  {
   "cell_type": "code",
   "execution_count": 92,
   "metadata": {},
   "outputs": [
    {
     "data": {
      "application/vnd.jupyter.widget-view+json": {
       "model_id": "40be82800a0e4109bbd4e30520370e02",
       "version_major": 2,
       "version_minor": 0
      },
      "text/plain": [
       "  0%|          | 0/32768 [00:00<?, ?it/s]"
      ]
     },
     "metadata": {},
     "output_type": "display_data"
    }
   ],
   "source": [
    "with mp.Pool(mp.cpu_count()) as p:\n",
    "    differential_bhb_population = list(p.starmap(differential_smbhb_population,\n",
    "                             tqdm(zip(mm.ravel(), zz.ravel(), qq.ravel()),\n",
    "                      total=len(mm.ravel()))))\n",
    "\n",
    "differential_bhb_population = np.reshape(differential_bhb_population, np.repeat(mm[..., np.newaxis], n_samples, axis=-1).shape)"
   ]
  },
  {
   "cell_type": "markdown",
   "metadata": {},
   "source": [
    "#### Characteristic strain"
   ]
  },
  {
   "cell_type": "code",
   "execution_count": 93,
   "metadata": {},
   "outputs": [],
   "source": [
    "coeffs = 4. * const.G ** (5. / 3.) / (3. * np.pi ** (1. / 3.)\n",
    "                                      * (const.c ** 2)\n",
    "                                      * (fidhz ** (4. / 3.)))"
   ]
  },
  {
   "cell_type": "code",
   "execution_count": 94,
   "metadata": {},
   "outputs": [],
   "source": [
    "hc_integrand = (coeffs * differential_bhb_population * ((10 ** (mm * (5 / 3)))\n",
    "                                                        * (qq / ((1 + qq) ** (1 / 3)))\n",
    "                                                        / ((1 + zz) ** (1. / 3.)))[..., np.newaxis]\n",
    "                * (u.Msun ** (5 / 3)) / (u.Mpc ** 3))"
   ]
  },
  {
   "cell_type": "code",
   "execution_count": 95,
   "metadata": {},
   "outputs": [
    {
     "data": {
      "text/latex": [
       "$\\displaystyle h_{c} = (8.8^{+4.4}_{-2.9}) \\times 10^{-16.0}$"
      ],
      "text/plain": [
       "<IPython.core.display.Math object>"
      ]
     },
     "metadata": {},
     "output_type": "display_data"
    }
   ],
   "source": [
    "hc = np.sqrt(cumtrapz(cumtrapz(cumtrapz(hc_integrand.to(''), log_m_bh_range, axis=0), z_range, axis=1), q_range, axis=2))\n",
    "hc_q = np.quantile(hc, q=[.16, .5, .84], axis=-1)\n",
    "\n",
    "order = 10. ** np.floor(np.log10(hc_q[1, -1, -1, -1]))\n",
    "display(Math(r'h_{{c}} = ({0:.1f}^{{+{1:.1f}}}_{{-{2:.1f}}}) \\times 10^{{{3}}}'\n",
    "             .format(hc_q[1, -1, -1, -1] / order,\n",
    "                     (hc_q[2, -1, -1, -1] - hc_q[1, -1, -1, -1]) / order,\n",
    "                     (hc_q[1, -1, -1, -1] - hc_q[0, -1, -1, -1]) / order,\n",
    "                     np.log10(order))))"
   ]
  },
  {
   "cell_type": "markdown",
   "metadata": {},
   "source": [
    "#### Number density"
   ]
  },
  {
   "cell_type": "code",
   "execution_count": 96,
   "metadata": {},
   "outputs": [],
   "source": [
    "differential_number_density = trapz(trapz(differential_bhb_population, log_m_bh_range, axis=0), q_range, axis=1)\n",
    "differential_number_density_q = np.quantile(differential_number_density, q=[.16, .5, .84], axis=-1)"
   ]
  },
  {
   "cell_type": "code",
   "execution_count": 97,
   "metadata": {},
   "outputs": [
    {
     "data": {
      "text/latex": [
       "$\\displaystyle \\Phi_{\\rm{BHB}, 0} = (2.6^{+2.3}_{-1.1}) \\times 10^{-4.0}\\;\\rm{Mpc}^{-3}$"
      ],
      "text/plain": [
       "<IPython.core.display.Math object>"
      ]
     },
     "metadata": {},
     "output_type": "display_data"
    }
   ],
   "source": [
    "order = 10. ** np.floor(np.log10(differential_number_density_q[1, 0]))\n",
    "display(Math(r'\\Phi_{{\\rm{{BHB}}, 0}} = ({0:.1f}^{{+{1:.1f}}}_{{-{2:.1f}}}) \\times 10^{{{3}}}\\;\\rm{{Mpc}}^{{-3}}'\n",
    "             .format(differential_number_density_q[1, 0] / order,\n",
    "                     (differential_number_density_q[2, 0] - differential_number_density_q[1, 0]) / order,\n",
    "                     (differential_number_density_q[1, 0] - differential_number_density_q[0, 0]) / order,\n",
    "                     np.log10(order))))"
   ]
  },
  {
   "cell_type": "markdown",
   "metadata": {},
   "source": [
    "#### Local Mass Function"
   ]
  },
  {
   "cell_type": "code",
   "execution_count": 98,
   "metadata": {},
   "outputs": [],
   "source": [
    "local_bhmf = trapz(trapz(differential_bhb_population, z_range, axis=1), q_range, axis=1) / (np.log(10) * (10 ** log_m_bh_range[:, np.newaxis]))\n",
    "local_bhmf_q = np.quantile(local_bhmf, q=[.16, .5, .84], axis=-1)"
   ]
  },
  {
   "cell_type": "markdown",
   "metadata": {},
   "source": [
    "#### Summary"
   ]
  },
  {
   "cell_type": "code",
   "execution_count": 99,
   "metadata": {},
   "outputs": [],
   "source": [
    "with h5py.File('../data/processed/agn_proxy.h5', 'w') as hf:\n",
    "    hf.create_dataset('log_m_bh_range', data=log_m_bh_range)\n",
    "    hf.create_dataset('z_range', data=z_range)\n",
    "    hf.create_dataset('q_range', data=q_range)\n",
    "    hf.create_dataset('population', data=differential_bhb_population)\n",
    "    hf.create_dataset('characteristic_strain', data=hc)\n",
    "    hf.create_dataset('number_density', data=differential_number_density)\n",
    "    hf.create_dataset('local_bhmf', data=local_bhmf)"
   ]
  },
  {
   "cell_type": "markdown",
   "metadata": {},
   "source": [
    "### G19"
   ]
  },
  {
   "cell_type": "markdown",
   "metadata": {},
   "source": [
    "#### SMBHB Population"
   ]
  },
  {
   "cell_type": "code",
   "execution_count": 100,
   "metadata": {},
   "outputs": [],
   "source": [
    "log_m_chirp_range = log_m_bh_range + (3 / 5) * (np.log10(q_max) - 2 * np.log10(1 + q_max))\n",
    "mm, zz = np.meshgrid(log_m_chirp_range, z_range, indexing='ij')"
   ]
  },
  {
   "cell_type": "code",
   "execution_count": 101,
   "metadata": {},
   "outputs": [
    {
     "data": {
      "application/vnd.jupyter.widget-view+json": {
       "model_id": "528b8a092e8146878b9ea9b3b2e25401",
       "version_major": 2,
       "version_minor": 0
      },
      "text/plain": [
       "  0%|          | 0/1024 [00:00<?, ?it/s]"
      ]
     },
     "metadata": {},
     "output_type": "display_data"
    }
   ],
   "source": [
    "with mp.Pool(mp.cpu_count()) as p:\n",
    "    G19_bhb_population = list(p.starmap(G19_dual_agn_population,\n",
    "                             tqdm(zip(mm.ravel(), zz.ravel()),\n",
    "                      total=len(mm.ravel()))))\n",
    "\n",
    "G19_bhb_population = np.reshape(G19_bhb_population, np.repeat(mm[..., np.newaxis], n_samples, axis=-1).shape)"
   ]
  },
  {
   "cell_type": "markdown",
   "metadata": {},
   "source": [
    "#### Characteristic strain"
   ]
  },
  {
   "cell_type": "code",
   "execution_count": 102,
   "metadata": {},
   "outputs": [],
   "source": [
    "G19_hc_integrand = (coeffs * G19_bhb_population * ((10 ** (mm * (5 / 3)))\n",
    "                                               / ((1 + zz) ** (1. / 3.)))[..., np.newaxis]\n",
    "                * (u.Msun ** (5 / 3)) / (u.Mpc ** 3))"
   ]
  },
  {
   "cell_type": "code",
   "execution_count": 103,
   "metadata": {},
   "outputs": [
    {
     "data": {
      "text/latex": [
       "$\\displaystyle h_{c} = (1.7^{+0.9}_{-0.7}) \\times 10^{-16.0}$"
      ],
      "text/plain": [
       "<IPython.core.display.Math object>"
      ]
     },
     "metadata": {},
     "output_type": "display_data"
    }
   ],
   "source": [
    "G19_hc = np.sqrt(cumtrapz(cumtrapz(G19_hc_integrand.to(''), log_m_chirp_range, axis=0), z_range, axis=1))\n",
    "G19_hc_q = np.quantile(G19_hc, q=[.16, .5, .84], axis=-1)\n",
    "\n",
    "order = 10. ** np.floor(np.log10(G19_hc_q[1, -1, -1]))\n",
    "display(Math(r'h_{{c}} = ({0:.1f}^{{+{1:.1f}}}_{{-{2:.1f}}}) \\times 10^{{{3}}}'\n",
    "             .format(G19_hc_q[1, -1, -1] / order,\n",
    "                     (G19_hc_q[2, -1, -1] - G19_hc_q[1, -1, -1]) / order,\n",
    "                     (G19_hc_q[1, -1, -1] - G19_hc_q[0, -1, -1]) / order,\n",
    "                     np.log10(order))))"
   ]
  },
  {
   "cell_type": "markdown",
   "metadata": {},
   "source": [
    "#### Number density"
   ]
  },
  {
   "cell_type": "code",
   "execution_count": 104,
   "metadata": {},
   "outputs": [],
   "source": [
    "G19_number_density = trapz(G19_bhb_population, log_m_chirp_range, axis=0)\n",
    "G19_number_density_q = np.quantile(G19_number_density, q=[.16, .5, .84], axis=-1)"
   ]
  },
  {
   "cell_type": "code",
   "execution_count": 105,
   "metadata": {},
   "outputs": [
    {
     "data": {
      "text/latex": [
       "$\\displaystyle \\Phi_{\\rm{BHB}, 0} = (6.0^{+4.8}_{-3.6}) \\times 10^{-7.0}\\;\\rm{Mpc}^{-3}$"
      ],
      "text/plain": [
       "<IPython.core.display.Math object>"
      ]
     },
     "metadata": {},
     "output_type": "display_data"
    }
   ],
   "source": [
    "order = 10. ** np.floor(np.log10(G19_number_density_q[1, 0]))\n",
    "display(Math(r'\\Phi_{{\\rm{{BHB}}, 0}} = ({0:.1f}^{{+{1:.1f}}}_{{-{2:.1f}}}) \\times 10^{{{3}}}\\;\\rm{{Mpc}}^{{-3}}'\n",
    "             .format(G19_number_density_q[1, 0] / order,\n",
    "                     (G19_number_density_q[2, 0] - G19_number_density_q[1, 0]) / order,\n",
    "                     (G19_number_density_q[1, 0] - G19_number_density_q[0, 0]) / order,\n",
    "                     np.log10(order))))"
   ]
  },
  {
   "cell_type": "markdown",
   "metadata": {},
   "source": [
    "#### Local Mass Function"
   ]
  },
  {
   "cell_type": "code",
   "execution_count": 106,
   "metadata": {},
   "outputs": [],
   "source": [
    "G19_local_bhmf = trapz(G19_bhb_population, z_range, axis=1) / (np.log(10) * (10 ** log_m_chirp_range[:, np.newaxis]))\n",
    "G19_local_bhmf_q = np.quantile(G19_local_bhmf, q=[.16, .5, .84], axis=-1)"
   ]
  },
  {
   "cell_type": "markdown",
   "metadata": {},
   "source": [
    "#### Summary"
   ]
  },
  {
   "cell_type": "code",
   "execution_count": 107,
   "metadata": {},
   "outputs": [],
   "source": [
    "with h5py.File('../data/processed/g19.h5', 'w') as hf:\n",
    "    hf.create_dataset('log_m_chirp_range', data=log_m_chirp_range)\n",
    "    hf.create_dataset('z_range', data=z_range)\n",
    "    hf.create_dataset('population', data=G19_bhb_population)\n",
    "    hf.create_dataset('characteristic_strain', data=G19_hc)\n",
    "    hf.create_dataset('number_density', data=G19_number_density)\n",
    "    hf.create_dataset('local_bhmf', data=G19_local_bhmf)"
   ]
  },
  {
   "cell_type": "markdown",
   "metadata": {},
   "source": [
    "## Merger Models"
   ]
  },
  {
   "cell_type": "markdown",
   "metadata": {},
   "source": [
    "### S1"
   ]
  },
  {
   "cell_type": "markdown",
   "metadata": {},
   "source": [
    "#### SMBHB Population"
   ]
  },
  {
   "cell_type": "code",
   "execution_count": 108,
   "metadata": {},
   "outputs": [],
   "source": [
    "mm, zz, qq = np.meshgrid(log_m_bh_range, z_range_borch, q_range, indexing='ij')"
   ]
  },
  {
   "cell_type": "code",
   "execution_count": 109,
   "metadata": {},
   "outputs": [
    {
     "data": {
      "application/vnd.jupyter.widget-view+json": {
       "model_id": "8355e34183404f949faf17b37e0d1a45",
       "version_major": 2,
       "version_minor": 0
      },
      "text/plain": [
       "  0%|          | 0/32768 [00:00<?, ?it/s]"
      ]
     },
     "metadata": {},
     "output_type": "display_data"
    }
   ],
   "source": [
    "with mp.Pool(mp.cpu_count()) as p:\n",
    "    S1_bhb_population = list(p.starmap(S1,\n",
    "                             tqdm(zip(mm.ravel(), zz.ravel(), qq.ravel()),\n",
    "                      total=len(mm.ravel()))))\n",
    "\n",
    "S1_bhb_population = np.reshape(S1_bhb_population, np.repeat(mm[..., np.newaxis], n_samples, axis=-1).shape)"
   ]
  },
  {
   "cell_type": "markdown",
   "metadata": {},
   "source": [
    "#### Strain"
   ]
  },
  {
   "cell_type": "code",
   "execution_count": 110,
   "metadata": {},
   "outputs": [],
   "source": [
    "S1_hc_integrand = (coeffs * S1_bhb_population * ((10 ** (mm * (5 / 3)))\n",
    "                                                 * (qq / ((1 + qq) ** (1 / 3)))\n",
    "                                                 / ((1 + zz) ** (1. / 3.)))[..., np.newaxis]\n",
    "                   * (u.Msun ** (5 / 3)) / (u.Mpc ** 3))"
   ]
  },
  {
   "cell_type": "code",
   "execution_count": 111,
   "metadata": {},
   "outputs": [
    {
     "data": {
      "text/latex": [
       "$\\displaystyle h_{c, \\rm{S1}} = (4.8^{+1.8}_{-1.8}) \\times 10^{-16.0}$"
      ],
      "text/plain": [
       "<IPython.core.display.Math object>"
      ]
     },
     "metadata": {},
     "output_type": "display_data"
    }
   ],
   "source": [
    "S1_hc = np.sqrt(cumtrapz(cumtrapz(cumtrapz(S1_hc_integrand.to(''), log_m_bh_range, axis=0), z_range_borch, axis=1), q_range, axis=2))\n",
    "S1_hc_q = np.quantile(S1_hc, q=[.16, .5, .84], axis=-1)\n",
    "\n",
    "order = 10. ** np.floor(np.log10(S1_hc_q[1, -1, -1, -1]))\n",
    "display(Math(r'h_{{c, \\rm{{S1}}}} = ({0:.1f}^{{+{1:.1f}}}_{{-{2:.1f}}}) \\times 10^{{{3}}}'\n",
    "             .format(S1_hc_q[1, -1, -1, -1] / order,\n",
    "                     (S1_hc_q[2, -1, -1, -1] - S1_hc_q[1, -1, -1, -1]) / order,\n",
    "                     (S1_hc_q[1, -1, -1, -1] - S1_hc_q[0, -1, -1, -1]) / order,\n",
    "                     np.log10(order))))"
   ]
  },
  {
   "cell_type": "markdown",
   "metadata": {},
   "source": [
    "#### Number density"
   ]
  },
  {
   "cell_type": "code",
   "execution_count": 112,
   "metadata": {},
   "outputs": [],
   "source": [
    "S1_number_density = trapz(trapz(S1_bhb_population, log_m_bh_range, axis=0), q_range, axis=1)\n",
    "S1_number_density_q = np.quantile(S1_number_density, q=[.16, .5, .84], axis=-1)"
   ]
  },
  {
   "cell_type": "code",
   "execution_count": 113,
   "metadata": {},
   "outputs": [
    {
     "data": {
      "text/latex": [
       "$\\displaystyle \\Phi_{\\rm{BHB}, 0, \\rm{S1}} = (9.9^{+12.7}_{-6.4}) \\times 10^{-4.0}\\;\\rm{Mpc}^{-3}$"
      ],
      "text/plain": [
       "<IPython.core.display.Math object>"
      ]
     },
     "metadata": {},
     "output_type": "display_data"
    }
   ],
   "source": [
    "order = 10. ** np.floor(np.log10(S1_number_density_q[1, 0]))\n",
    "display(Math(r'\\Phi_{{\\rm{{BHB}}, 0, \\rm{{S1}}}} = ({0:.1f}^{{+{1:.1f}}}_{{-{2:.1f}}}) \\times 10^{{{3}}}\\;\\rm{{Mpc}}^{{-3}}'\n",
    "             .format(S1_number_density_q[1, 0] / order,\n",
    "                     (S1_number_density_q[2, 0] - S1_number_density_q[1, 0]) / order,\n",
    "                     (S1_number_density_q[1, 0] - S1_number_density_q[0, 0]) / order,\n",
    "                     np.log10(order))))"
   ]
  },
  {
   "cell_type": "markdown",
   "metadata": {},
   "source": [
    "#### Local Mass Function"
   ]
  },
  {
   "cell_type": "code",
   "execution_count": 114,
   "metadata": {},
   "outputs": [],
   "source": [
    "S1_local_bhmf = trapz(trapz(S1_bhb_population, q_range, axis=2), z_range_borch, axis=1) / (np.log(10) * (10 ** log_m_bh_range[:, np.newaxis]))\n",
    "S1_local_bhmf_q = np.quantile(S1_local_bhmf, q=[.16, .5, .84], axis=-1)"
   ]
  },
  {
   "cell_type": "markdown",
   "metadata": {},
   "source": [
    "#### Summary"
   ]
  },
  {
   "cell_type": "code",
   "execution_count": 115,
   "metadata": {},
   "outputs": [],
   "source": [
    "with h5py.File('../data/processed/S1.h5', 'w') as hf:\n",
    "    hf.create_dataset('log_m_bh_range', data=log_m_bh_range)\n",
    "    hf.create_dataset('z_range', data=z_range_borch)\n",
    "    hf.create_dataset('q_range', data=q_range)\n",
    "    hf.create_dataset('population', data=S1_bhb_population)\n",
    "    hf.create_dataset('characteristic_strain', data=S1_hc)\n",
    "    hf.create_dataset('number_density', data=S1_number_density)\n",
    "    hf.create_dataset('local_bhmf', data=S1_local_bhmf)"
   ]
  },
  {
   "cell_type": "markdown",
   "metadata": {},
   "source": [
    "### S2"
   ]
  },
  {
   "cell_type": "markdown",
   "metadata": {},
   "source": [
    "#### SMBHB Population"
   ]
  },
  {
   "cell_type": "code",
   "execution_count": 116,
   "metadata": {},
   "outputs": [],
   "source": [
    "mm, zz, qq = np.meshgrid(log_m_bh_range, z_range_drory, q_range, indexing='ij')"
   ]
  },
  {
   "cell_type": "code",
   "execution_count": 117,
   "metadata": {},
   "outputs": [
    {
     "data": {
      "application/vnd.jupyter.widget-view+json": {
       "model_id": "3619719ce3034e12a98f21359690e7db",
       "version_major": 2,
       "version_minor": 0
      },
      "text/plain": [
       "  0%|          | 0/32768 [00:00<?, ?it/s]"
      ]
     },
     "metadata": {},
     "output_type": "display_data"
    }
   ],
   "source": [
    "with mp.Pool(mp.cpu_count()) as p:\n",
    "    S2_bhb_population = list(p.starmap(S2,\n",
    "                             tqdm(zip(mm.ravel(), zz.ravel(), qq.ravel()),\n",
    "                      total=len(mm.ravel()))))\n",
    "\n",
    "S2_bhb_population = np.reshape(S2_bhb_population, np.repeat(mm[..., np.newaxis], n_samples, axis=-1).shape)"
   ]
  },
  {
   "cell_type": "markdown",
   "metadata": {},
   "source": [
    "#### Strain"
   ]
  },
  {
   "cell_type": "code",
   "execution_count": 118,
   "metadata": {},
   "outputs": [],
   "source": [
    "S2_hc_integrand = (coeffs * S2_bhb_population * ((10 ** (mm * (5 / 3)))\n",
    "                                                 * (qq / ((1 + qq) ** (1 / 3)))\n",
    "                                                 / ((1 + zz) ** (1. / 3.)))[..., np.newaxis]\n",
    "                   * (u.Msun ** (5 / 3)) / (u.Mpc ** 3))"
   ]
  },
  {
   "cell_type": "code",
   "execution_count": 119,
   "metadata": {},
   "outputs": [
    {
     "data": {
      "text/latex": [
       "$\\displaystyle h_{c, \\rm{S2}} = (1.1^{+0.8}_{-0.6}) \\times 10^{-15.0}$"
      ],
      "text/plain": [
       "<IPython.core.display.Math object>"
      ]
     },
     "metadata": {},
     "output_type": "display_data"
    }
   ],
   "source": [
    "S2_hc = np.sqrt(cumtrapz(cumtrapz(cumtrapz(S2_hc_integrand.to(''), log_m_bh_range, axis=0), z_range_drory, axis=1), q_range, axis=2))\n",
    "S2_hc_q = np.quantile(S2_hc, q=[.16, .5, .84], axis=-1)\n",
    "\n",
    "order = 10. ** np.floor(np.log10(S2_hc_q[1, -1, -1, -1]))\n",
    "display(Math(r'h_{{c, \\rm{{S2}}}} = ({0:.1f}^{{+{1:.1f}}}_{{-{2:.1f}}}) \\times 10^{{{3}}}'\n",
    "             .format(S2_hc_q[1, -1, -1, -1] / order,\n",
    "                     (S2_hc_q[2, -1, -1, -1] - S2_hc_q[1, -1, -1, -1]) / order,\n",
    "                     (S2_hc_q[1, -1, -1, -1] - S2_hc_q[0, -1, -1, -1]) / order,\n",
    "                     np.log10(order))))"
   ]
  },
  {
   "cell_type": "markdown",
   "metadata": {},
   "source": [
    "#### Number density"
   ]
  },
  {
   "cell_type": "code",
   "execution_count": 120,
   "metadata": {},
   "outputs": [],
   "source": [
    "S2_number_density = trapz(trapz(S2_bhb_population, log_m_bh_range, axis=0), q_range, axis=1)\n",
    "S2_number_density_q = np.quantile(S2_number_density, q=[.16, .5, .84], axis=-1)"
   ]
  },
  {
   "cell_type": "code",
   "execution_count": 121,
   "metadata": {},
   "outputs": [
    {
     "data": {
      "text/latex": [
       "$\\displaystyle \\Phi_{\\rm{BHB}, 0, \\rm{S2}} = (4.3^{+3.7}_{-2.3}) \\times 10^{-3.0}\\;\\rm{Mpc}^{-3}$"
      ],
      "text/plain": [
       "<IPython.core.display.Math object>"
      ]
     },
     "metadata": {},
     "output_type": "display_data"
    }
   ],
   "source": [
    "order = 10. ** np.floor(np.log10(S2_number_density_q[1, 0]))\n",
    "display(Math(r'\\Phi_{{\\rm{{BHB}}, 0, \\rm{{S2}}}} = ({0:.1f}^{{+{1:.1f}}}_{{-{2:.1f}}}) \\times 10^{{{3}}}\\;\\rm{{Mpc}}^{{-3}}'\n",
    "             .format(S2_number_density_q[1, 0] / order,\n",
    "                     (S2_number_density_q[2, 0] - S2_number_density_q[1, 0]) / order,\n",
    "                     (S2_number_density_q[1, 0] - S2_number_density_q[0, 0]) / order,\n",
    "                     np.log10(order))))"
   ]
  },
  {
   "cell_type": "markdown",
   "metadata": {},
   "source": [
    "#### Local Mass Function"
   ]
  },
  {
   "cell_type": "code",
   "execution_count": 122,
   "metadata": {},
   "outputs": [],
   "source": [
    "S2_local_bhmf = trapz(trapz(S2_bhb_population, q_range, axis=2), z_range_drory, axis=1) / (np.log(10) * (10 ** log_m_bh_range[:, np.newaxis]))\n",
    "S2_local_bhmf_q = np.quantile(S2_local_bhmf, q=[.16, .5, .84], axis=-1)"
   ]
  },
  {
   "cell_type": "markdown",
   "metadata": {},
   "source": [
    "#### Summary"
   ]
  },
  {
   "cell_type": "code",
   "execution_count": 123,
   "metadata": {},
   "outputs": [],
   "source": [
    "with h5py.File('../data/processed/S2.h5', 'w') as hf:\n",
    "    hf.create_dataset('log_m_bh_range', data=log_m_bh_range)\n",
    "    hf.create_dataset('z_range', data=z_range_drory)\n",
    "    hf.create_dataset('q_range', data=q_range)\n",
    "    hf.create_dataset('population', data=S2_bhb_population)\n",
    "    hf.create_dataset('characteristic_strain', data=S2_hc)\n",
    "    hf.create_dataset('number_density', data=S2_number_density)\n",
    "    hf.create_dataset('local_bhmf', data=S2_local_bhmf)"
   ]
  },
  {
   "cell_type": "markdown",
   "metadata": {},
   "source": [
    "### S3"
   ]
  },
  {
   "cell_type": "markdown",
   "metadata": {},
   "source": [
    "#### SMBHB Population"
   ]
  },
  {
   "cell_type": "code",
   "execution_count": 124,
   "metadata": {},
   "outputs": [],
   "source": [
    "mm, zz, qq = np.meshgrid(log_m_bh_range, z_range_ilbert, q_range, indexing='ij')"
   ]
  },
  {
   "cell_type": "code",
   "execution_count": 125,
   "metadata": {},
   "outputs": [
    {
     "data": {
      "application/vnd.jupyter.widget-view+json": {
       "model_id": "8488424f12da46b8b791a116b7744d91",
       "version_major": 2,
       "version_minor": 0
      },
      "text/plain": [
       "  0%|          | 0/32768 [00:00<?, ?it/s]"
      ]
     },
     "metadata": {},
     "output_type": "display_data"
    }
   ],
   "source": [
    "with mp.Pool(mp.cpu_count()) as p:\n",
    "    S3_bhb_population = list(p.starmap(S3,\n",
    "                             tqdm(zip(mm.ravel(), zz.ravel(), qq.ravel()),\n",
    "                      total=len(mm.ravel()))))\n",
    "\n",
    "S3_bhb_population = np.reshape(S3_bhb_population, np.repeat(mm[..., np.newaxis], n_samples, axis=-1).shape)"
   ]
  },
  {
   "cell_type": "markdown",
   "metadata": {},
   "source": [
    "#### Strain"
   ]
  },
  {
   "cell_type": "code",
   "execution_count": 126,
   "metadata": {},
   "outputs": [],
   "source": [
    "S3_hc_integrand = (coeffs * S3_bhb_population * ((10 ** (mm * (5 / 3)))\n",
    "                                                 * (qq / ((1 + qq) ** (1 / 3)))\n",
    "                                                 / ((1 + zz) ** (1. / 3.)))[..., np.newaxis]\n",
    "                   * (u.Msun ** (5 / 3)) / (u.Mpc ** 3))"
   ]
  },
  {
   "cell_type": "code",
   "execution_count": 127,
   "metadata": {},
   "outputs": [
    {
     "data": {
      "text/latex": [
       "$\\displaystyle h_{c, \\rm{S3}} = (5.2^{+1.7}_{-1.0}) \\times 10^{-16.0}$"
      ],
      "text/plain": [
       "<IPython.core.display.Math object>"
      ]
     },
     "metadata": {},
     "output_type": "display_data"
    }
   ],
   "source": [
    "S3_hc = np.sqrt(cumtrapz(cumtrapz(cumtrapz(S3_hc_integrand.to(''), log_m_bh_range, axis=0), z_range_ilbert, axis=1), q_range, axis=2))\n",
    "S3_hc_q = np.quantile(S3_hc, q=[.16, .5, .84], axis=-1)\n",
    "\n",
    "order = 10. ** np.floor(np.log10(S3_hc_q[1, -1, -1, -1]))\n",
    "display(Math(r'h_{{c, \\rm{{S3}}}} = ({0:.1f}^{{+{1:.1f}}}_{{-{2:.1f}}}) \\times 10^{{{3}}}'\n",
    "             .format(S3_hc_q[1, -1, -1, -1] / order,\n",
    "                     (S3_hc_q[2, -1, -1, -1] - S3_hc_q[1, -1, -1, -1]) / order,\n",
    "                     (S3_hc_q[1, -1, -1, -1] - S3_hc_q[0, -1, -1, -1]) / order,\n",
    "                     np.log10(order))))"
   ]
  },
  {
   "cell_type": "markdown",
   "metadata": {},
   "source": [
    "#### Number density"
   ]
  },
  {
   "cell_type": "code",
   "execution_count": 128,
   "metadata": {},
   "outputs": [],
   "source": [
    "S3_number_density = trapz(trapz(S3_bhb_population, log_m_bh_range, axis=0), q_range, axis=1)\n",
    "S3_number_density_q = np.quantile(S3_number_density, q=[.16, .5, .84], axis=-1)"
   ]
  },
  {
   "cell_type": "code",
   "execution_count": 129,
   "metadata": {},
   "outputs": [
    {
     "data": {
      "text/latex": [
       "$\\displaystyle \\Phi_{\\rm{BHB}, 0, \\rm{S3}} = (1.4^{+0.2}_{-0.2}) \\times 10^{-3.0}\\;\\rm{Mpc}^{-3}$"
      ],
      "text/plain": [
       "<IPython.core.display.Math object>"
      ]
     },
     "metadata": {},
     "output_type": "display_data"
    }
   ],
   "source": [
    "order = 10. ** np.floor(np.log10(S3_number_density_q[1, 0]))\n",
    "display(Math(r'\\Phi_{{\\rm{{BHB}}, 0, \\rm{{S3}}}} = ({0:.1f}^{{+{1:.1f}}}_{{-{2:.1f}}}) \\times 10^{{{3}}}\\;\\rm{{Mpc}}^{{-3}}'\n",
    "             .format(S3_number_density_q[1, 0] / order,\n",
    "                     (S3_number_density_q[2, 0] - S3_number_density_q[1, 0]) / order,\n",
    "                     (S3_number_density_q[1, 0] - S3_number_density_q[0, 0]) / order,\n",
    "                     np.log10(order))))"
   ]
  },
  {
   "cell_type": "markdown",
   "metadata": {},
   "source": [
    "#### Local Mass Function"
   ]
  },
  {
   "cell_type": "code",
   "execution_count": 130,
   "metadata": {},
   "outputs": [],
   "source": [
    "S3_local_bhmf = trapz(trapz(S3_bhb_population, q_range, axis=2), z_range_ilbert, axis=1) / (np.log(10) * (10 ** log_m_bh_range[:, np.newaxis]))\n",
    "S3_local_bhmf_q = np.quantile(S3_local_bhmf, q=[.16, .5, .84], axis=-1)"
   ]
  },
  {
   "cell_type": "markdown",
   "metadata": {},
   "source": [
    "#### Summary"
   ]
  },
  {
   "cell_type": "code",
   "execution_count": 131,
   "metadata": {},
   "outputs": [],
   "source": [
    "with h5py.File('../data/processed/S3.h5', 'w') as hf:\n",
    "    hf.create_dataset('log_m_bh_range', data=log_m_bh_range)\n",
    "    hf.create_dataset('z_range', data=z_range_ilbert)\n",
    "    hf.create_dataset('q_range', data=q_range)\n",
    "    hf.create_dataset('population', data=S3_bhb_population)\n",
    "    hf.create_dataset('characteristic_strain', data=S3_hc)\n",
    "    hf.create_dataset('number_density',  data=S3_number_density)\n",
    "    hf.create_dataset('local_bhmf', data=S3_local_bhmf)"
   ]
  },
  {
   "cell_type": "markdown",
   "metadata": {},
   "source": [
    "## Plots"
   ]
  },
  {
   "cell_type": "code",
   "execution_count": 132,
   "metadata": {},
   "outputs": [],
   "source": [
    "import seaborn as sns\n",
    "import matplotlib.pyplot as plt\n",
    "%matplotlib inline\n",
    "sns.set_context(\"talk\", font_scale=1.2)\n",
    "sns.set_style('ticks')\n",
    "sns.set_palette('colorblind')\n",
    "figparams = {'font.family': 'DejaVu Sans',\n",
    "             'font.serif':'Times',\n",
    "             'text.latex.preamble': r'\\usepackage{amsmath}',\n",
    "             'text.usetex': True,\n",
    "             'hatch.linewidth' : 3.0}\n",
    "plt.rcParams.update(figparams)\n",
    "cs = plt.rcParams['axes.prop_cycle'].by_key()['color']"
   ]
  },
  {
   "cell_type": "code",
   "execution_count": 133,
   "metadata": {},
   "outputs": [],
   "source": [
    "from matplotlib.legend_handler import HandlerLine2D, HandlerTuple\n",
    "\n",
    "class HandlerTupleVertical(HandlerTuple):\n",
    "    def __init__(self, **kwargs):\n",
    "        HandlerTuple.__init__(self, **kwargs)\n",
    "\n",
    "    def create_artists(self, legend, orig_handle,\n",
    "                       xdescent, ydescent, width, height, fontsize, trans):\n",
    "        # How many lines are there.\n",
    "        numlines = len(orig_handle)\n",
    "        handler_map = legend.get_legend_handler_map()\n",
    "\n",
    "        # divide the vertical space where the lines will go\n",
    "        # into equal parts based on the number of lines\n",
    "        height_y = (height / numlines)\n",
    "\n",
    "        leglines = []\n",
    "        for i, handle in enumerate(orig_handle):\n",
    "            handler = legend.get_legend_handler(handler_map, handle)\n",
    "\n",
    "            legline = handler.create_artists(legend, handle,\n",
    "                                             xdescent,\n",
    "                                             (2*i + 1)*height_y,\n",
    "                                             width,\n",
    "                                             2*height,\n",
    "                                             fontsize, trans)\n",
    "            leglines.extend(legline)\n",
    "\n",
    "        return leglines"
   ]
  },
  {
   "cell_type": "code",
   "execution_count": 138,
   "metadata": {},
   "outputs": [
    {
     "data": {
      "image/png": "[encoded data removed]",
      "text/plain": [
       "<Figure size 2592x648 with 3 Axes>"
      ]
     },
     "metadata": {},
     "output_type": "display_data"
    }
   ],
   "source": [
    "log_nz_i_l_kw_fid_min = np.floor(np.min(np.log10([np.min(differential_number_density_q[1]), np.min(S1_number_density_q[1]),\n",
    "                                                  np.min(S2_number_density_q[1]), np.min(S3_number_density_q[1])])))\n",
    "log_nz_i_l_kw_fid_max = np.ceil(np.max(np.log10([np.max(differential_number_density_q[1]), np.max(S1_number_density_q[1]),\n",
    "                                                 np.max(S2_number_density_q[1]), np.max(S3_number_density_q[1])])))\n",
    "\n",
    "\n",
    "log_hc_min = np.floor(10 * np.min(np.log10(np.concatenate((hc[-1, -1, -1, :], S1_hc[-1, -1, -1, :],\n",
    "                                            S2_hc[-1, -1, -1, :], S3_hc[-1, -1, -1, :]))))) / 10\n",
    "log_hc_max = np.ceil(10 * np.max(np.log10(np.concatenate((hc[-1, -1, -1, :], S1_hc[-1, -1, -1, :],\n",
    "                                           S2_hc[-1, -1, -1, :], S3_hc[-1, -1, -1, :]))))) / 10\n",
    "bins = np.linspace(log_hc_min, log_hc_max,\n",
    "                   int((log_hc_max - (log_hc_min - .1)) / .1))\n",
    "\n",
    "sesana_min = 3.5e-16\n",
    "sesana_max = 1.5e-15\n",
    "log_sesana_min = np.log10(sesana_min)\n",
    "log_sesana_max = np.log10(sesana_max)\n",
    "log_sesana_mid = np.mean([log_sesana_min, log_sesana_max])\n",
    "log_sesana_h = log_sesana_max - log_sesana_mid\n",
    "log_sesana_l = log_sesana_mid - log_sesana_min\n",
    "\n",
    "log_hc_mid = np.log10(hc_q[1, -1, -1, -1])\n",
    "log_hc_min = np.log10(hc_q[0, -1, -1, -1])\n",
    "log_hc_max = np.log10(hc_q[2, -1, -1, -1])\n",
    "log_hc_h = log_hc_max - log_hc_mid\n",
    "log_hc_l = log_hc_mid - log_hc_min\n",
    "\n",
    "sns.set_context(\"talk\", font_scale=1.8)\n",
    "fig, ax = plt.subplots(1, 3, figsize=(36, 9))\n",
    "\n",
    "label_fsize = 42\n",
    "legend_fsize = 30\n",
    "\n",
    "ax[0].tick_params()\n",
    "ax[1].tick_params()\n",
    "\n",
    "ax[0].fill_between(z_range_borch, S1_number_density_q[0], S1_number_density_q[2],\n",
    "                 color=cs[1], alpha=.2, hatch='\\\\')\n",
    "s1, = ax[0].plot(z_range_borch, S1_number_density_q[1], color=cs[1],\n",
    "                linewidth=3, linestyle=':')\n",
    "ax[0].fill_between(z_range_drory, S2_number_density_q[0], S2_number_density_q[2],\n",
    "                 color=cs[1], alpha=.2, hatch='||')\n",
    "s2, = ax[0].plot(z_range_drory, S2_number_density_q[1], color=cs[1],\n",
    "                linewidth=3, linestyle='-.')\n",
    "ax[0].fill_between(z_range_ilbert, S3_number_density_q[0], S3_number_density_q[2],\n",
    "                 color=cs[1], alpha=.2, hatch='-')\n",
    "s3, = ax[0].plot(z_range_ilbert, S3_number_density_q[1], color=cs[1],\n",
    "                linewidth=3, linestyle=(0, (3, 1, 1, 1, 1, 1)))\n",
    "\n",
    "ax[0].fill_between(z_range, G19_number_density_q[0], G19_number_density_q[2], color=cs[2], alpha=.2, hatch='.')\n",
    "m2, = ax[0].plot(z_range, G19_number_density_q[1], color=cs[2], linewidth=3, linestyle='--')\n",
    "\n",
    "ax[0].fill_between(z_range, differential_number_density_q[0], differential_number_density_q[2], color=cs[0], alpha=.2, hatch='/')\n",
    "m1, = ax[0].plot(z_range, differential_number_density_q[1], color=cs[0], linewidth=3, linestyle='-')\n",
    "\n",
    "ax[0].set_yscale('log')\n",
    "ax[0].set_ylabel(r'$\\Phi_{\\rm{BHB}}(z)\\ [\\rm{Mpc}^{-3}]$', fontsize=label_fsize)\n",
    "ax[0].set_xlabel(r'$z$', fontsize=label_fsize)\n",
    "# ax[0].set_ylim((10 ** (log_nz_i_l_kw_fid_min - 1), 10 ** (log_nz_i_l_kw_fid_max + 1)))\n",
    "ax[0].set_ylim(top=5e-2, bottom=1e-7)\n",
    "\n",
    "ax[0].legend([m1, m2, (s1, s2, s3)], ['This Work', 'G19', 'S13 Realizations'], numpoints=1,\n",
    "             handler_map={tuple: HandlerTupleVertical(ndivide=None)}, loc='lower right', fontsize=legend_fsize)\n",
    "\n",
    "ax[1].fill_between(10 ** log_m_bh_range, S1_local_bhmf_q[0], S1_local_bhmf_q[2], color=cs[1], alpha=.2, hatch='\\\\')\n",
    "s1, = ax[1].plot(10 ** log_m_bh_range, S1_local_bhmf_q[1], color=cs[1],\n",
    "                 linewidth=3, linestyle=':')\n",
    "ax[1].fill_between(10 ** log_m_bh_range, S2_local_bhmf_q[0], S2_local_bhmf_q[2], color=cs[1], alpha=.2, hatch='||')\n",
    "s2, = ax[1].plot(10 ** log_m_bh_range, S2_local_bhmf_q[1], color=cs[1],\n",
    "                 linewidth=3, linestyle='-.')\n",
    "ax[1].fill_between(10 ** log_m_bh_range, S3_local_bhmf_q[0], S3_local_bhmf_q[2], color=cs[1], alpha=.2, hatch='-')\n",
    "s3, = ax[1].plot(10 ** log_m_bh_range, S3_local_bhmf_q[1], color=cs[1],\n",
    "                 linewidth=3, linestyle=(0, (3, 1, 1, 1, 1, 1)))\n",
    "\n",
    "ax[1].fill_between(10 ** log_m_bh_range, G19_local_bhmf_q[0], G19_local_bhmf_q[2], color=cs[2], alpha=.2, hatch='.')\n",
    "m2, = ax[1].plot(10 ** log_m_bh_range, G19_local_bhmf_q[1], color=cs[2], linewidth=3, linestyle='--')\n",
    "\n",
    "ax[1].fill_between(10 ** log_m_bh_range, local_bhmf_q[0], local_bhmf_q[2], color=cs[0], alpha=.2, hatch='/')\n",
    "m1, = ax[1].plot(10 ** log_m_bh_range, local_bhmf_q[1], color=cs[0], linewidth=3, linestyle='-')\n",
    "\n",
    "ax[1].set_xscale('log')\n",
    "ax[1].set_yscale('log')\n",
    "ax[1].set_ylabel(r'$d \\Phi_{\\rm{BHB}} / d M_{\\rm{BH}}\\ [M_{\\odot}^{-1}\\,\\rm{Mpc}^{-3}]$', fontsize=label_fsize)\n",
    "ax[1].set_xlabel(r'$M_{\\rm{BH}} [M_{\\odot}]$', fontsize=label_fsize)\n",
    "ax[1].set_ylim(bottom=1e-22, top=1e-9)\n",
    "ax[1].legend([m1, m2, (s1, s2, s3)], ['Hopkins+ 2007', 'Marconi+ 2004', 'S13 Realizations'], numpoints=1,\n",
    "             handler_map={tuple: HandlerTupleVertical(ndivide=None)}, loc='lower left', fontsize=legend_fsize)\n",
    "\n",
    "ax[2].axvspan(log_sesana_min, log_sesana_max, color='k', alpha=.1)\n",
    "ax[2].hist(np.log10(S1_hc[-1, -1, -1, :]), histtype='step', bins=bins,\n",
    "           density=False, color=cs[1], linestyle=':',\n",
    "           label=r'S13: Realization 1',\n",
    "           weights=np.repeat(1 / len(S1_hc[-1, -1, -1, :]), len(S1_hc[-1, -1, -1, :])),\n",
    "           fill=True, alpha=.2, hatch='\\\\')\n",
    "ax[2].hist(np.log10(S1_hc[-1, -1, -1, :]), histtype='step', bins=bins,\n",
    "           density=False, color=cs[1], linestyle=':',\n",
    "           label=r'S13: Realization 1',\n",
    "           weights=np.repeat(1 / len(S1_hc[-1, -1, -1, :]), len(S1_hc[-1, -1, -1, :])))\n",
    "\n",
    "ax[2].hist(np.log10(S2_hc[-1, -1, -1, :]), histtype='step', bins=bins,\n",
    "           density=False, color=cs[1], linestyle='-.',\n",
    "           label=r'S13: Realization 2',\n",
    "           weights=np.repeat(1 / len(S2_hc[-1, -1, -1, :]), len(S2_hc[-1, -1, -1, :])),\n",
    "           fill=True, alpha=.2, hatch='||')\n",
    "ax[2].hist(np.log10(S2_hc[-1, -1, -1, :]), histtype='step', bins=bins,\n",
    "           density=False, color=cs[1], linestyle='-.',\n",
    "           label=r'S13: Realization 2',\n",
    "           weights=np.repeat(1 / len(S2_hc[-1, -1, -1, :]), len(S2_hc[-1, -1, -1, :])))\n",
    "\n",
    "ax[2].hist(np.log10(S3_hc[-1, -1, -1, :]), histtype='step', bins=bins,\n",
    "           density=False, color=cs[1], linestyle=(0, (3, 1, 1, 1, 1, 1)),\n",
    "           label=r'S13: Realization 3',\n",
    "           weights=np.repeat(1 / len(S3_hc[-1, -1, -1, :]), len(S3_hc[-1, -1, -1, :])),\n",
    "           fill=True, alpha=.2, hatch='-')\n",
    "ax[2].hist(np.log10(S3_hc[-1, -1, -1, :]), histtype='step', bins=bins,\n",
    "           density=False, color=cs[1], linestyle=(0, (3, 1, 1, 1, 1, 1)),\n",
    "           label=r'S13: Realization 3',\n",
    "           weights=np.repeat(1 / len(S3_hc[-1, -1, -1, :]), len(S3_hc[-1, -1, -1, :])))\n",
    "\n",
    "ax[2].hist(np.log10(G19_hc[-1, -1, :]), histtype='step', bins=bins, density=False, color=cs[2], linestyle='--',\n",
    "           label=r'G19', weights=np.repeat(1 / len(G19_hc[-1, -1, :]), len(G19_hc[-1, -1, :])), linewidth=2, fill=True, alpha=.2, hatch='.')\n",
    "ax[2].hist(np.log10(G19_hc[-1, -1, :]), histtype='step', bins=bins, density=False, color=cs[2], linestyle='--',\n",
    "           label=r'G19', weights=np.repeat(1 / len(G19_hc[-1, -1, :]), len(G19_hc[-1, -1, :])), linewidth=2)\n",
    "\n",
    "ax[2].hist(np.log10(hc[-1, -1, -1, :]), histtype='step', bins=bins, density=False, color=cs[0], linestyle='-',\n",
    "           label=r'AGN-proxy', weights=np.repeat(1 / len(hc[-1, -1, -1, :]), len(hc[-1, -1, -1, :])), linewidth=2,\n",
    "           fill=True, alpha=.2, hatch='/')\n",
    "ax[2].hist(np.log10(hc[-1, -1, -1, :]), histtype='step', bins=bins, density=False, color=cs[0], linestyle='-',\n",
    "           label=r'AGN-proxy', weights=np.repeat(1 / len(hc[-1, -1, -1, :]), len(hc[-1, -1, -1, :])), linewidth=2)\n",
    "\n",
    "# ax[2].annotate(r'S13',\n",
    "#                xy=(log_sesana_min - .3, .49))\n",
    "# ax[2].errorbar(log_hc_mid, 0.45,\n",
    "#              xerr=[[log_hc_l],\n",
    "#                    [log_hc_h]],\n",
    "#              capsize=4, color=cs[0])\n",
    "# ax[2].annotate(r'This Work',\n",
    "#                xy=(log_hc_min - .75, .44))\n",
    "\n",
    "ax[2].axvline(np.log10(1.9e-15), color='k', linestyle='--')\n",
    "ax[2].annotate(r'NANOGrav 12.5-yr',\n",
    "               xy=(np.log10(1.9e-15) + .03, .4), xytext=(3, 3),\n",
    "               textcoords=\"offset points\", rotation_mode='anchor', rotation=-90)\n",
    "ax[2].set_xlabel(r'$\\log h_{c}$', fontsize=label_fsize)\n",
    "ax[2].set_ylabel(r'$P(h_{c})$', fontsize=label_fsize)\n",
    "ax[2].set_xlim(left=-16.9)\n",
    "ax[2].set_ylim(top=.5)\n",
    "ax[2].legend([m1, m2, (s1, s2, s3)], ['This Work', 'G19', 'S13 Realizations'], numpoints=1,\n",
    "             handler_map={tuple: HandlerTupleVertical(ndivide=None)}, frameon=False, loc='upper left', fontsize=legend_fsize)\n",
    "\n",
    "plt.tight_layout()\n",
    "plt.savefig('../reports/figures/model_comparison.pdf')\n",
    "plt.savefig('../reports/figures/model_comparison.png')\n",
    "plt.show()"
   ]
  },
  {
   "cell_type": "code",
   "execution_count": null,
   "metadata": {},
   "outputs": [],
   "source": []
  }
 ],
 "metadata": {
  "kernelspec": {
   "display_name": "Python 3",
   "language": "python",
   "name": "python3"
  },
  "language_info": {
   "codemirror_mode": {
    "name": "ipython",
    "version": 3
   },
   "file_extension": ".py",
   "mimetype": "text/x-python",
   "name": "python",
   "nbconvert_exporter": "python",
   "pygments_lexer": "ipython3",
   "version": "3.9.1"
  },
  "toc-autonumbering": true
 },
 "nbformat": 4,
 "nbformat_minor": 4
}
