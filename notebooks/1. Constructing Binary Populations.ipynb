{
 "cells": [
  {
   "cell_type": "markdown",
   "metadata": {},
   "source": [
    "# Introduction"
   ]
  },
  {
   "cell_type": "markdown",
   "metadata": {},
   "source": [
    "# Methods"
   ]
  },
  {
   "cell_type": "code",
   "execution_count": 1,
   "metadata": {},
   "outputs": [
    {
     "name": "stderr",
     "output_type": "stream",
     "text": [
      "<ipython-input-1-a88728b5fd9d>:30: TqdmExperimentalWarning: Using `tqdm.autonotebook.tqdm` in notebook mode. Use `tqdm.tqdm` instead to force console mode (e.g. in jupyter console)\n",
      "  from tqdm.autonotebook import tqdm\n"
     ]
    }
   ],
   "source": [
    "# OPTIONAL: Load the \"autoreload\" extension so that code can change\n",
    "%load_ext autoreload\n",
    "\n",
    "# OPTIONAL: always reload modules so that as you change code in src, it gets loaded\n",
    "%autoreload 2\n",
    "import os\n",
    "import sys\n",
    "module_path = os.path.abspath(os.path.join('..'))\n",
    "if module_path not in sys.path:\n",
    "    sys.path.append(module_path)\n",
    "\n",
    "import multiprocessing as mp\n",
    "import numpy as np\n",
    "import pandas as pd\n",
    "import pickle\n",
    "import h5py\n",
    "from IPython.display import display, Math\n",
    "\n",
    "from scipy.integrate import trapz, cumtrapz\n",
    "from scipy.interpolate import UnivariateSpline\n",
    "from scipy.stats import lognorm, truncnorm, rv_continuous\n",
    "\n",
    "import astropy.constants as const\n",
    "import astropy.units as u\n",
    "import astropy.uncertainty as unc\n",
    "from astropy.cosmology import WMAP9, z_at_value\n",
    "from astropy.modeling.functional_models import Linear1D, Const1D, Shift, Gaussian1D\n",
    "from astropy.modeling.tabular import Tabular1D\n",
    "\n",
    "from tqdm.autonotebook import tqdm\n",
    "\n",
    "from src.models.agn_proxy import (Hopkins2007QuasarFormationDensity,\n",
    "                                  LogNormal1D, Const3D, QuasarProxyBinaries,\n",
    "                                  ModifiedSchechter)\n",
    "from src.models.major_merger import (Schechter1D, Schechter2D,\n",
    "                                     DoubleSchechter2D, TripleSchechter2D,\n",
    "                                     PairFraction3D, PairFraction3D_3bins,\n",
    "                                     Timescale3D, Sesana2013_Schechter,\n",
    "                                     Sesana2013_DoubleSchechter,\n",
    "                                     Sesana2013_TripleSchechter)"
   ]
  },
  {
   "cell_type": "code",
   "execution_count": 2,
   "metadata": {},
   "outputs": [
    {
     "data": {
      "text/plain": [
       "(1024, 32)"
      ]
     },
     "execution_count": 2,
     "metadata": {},
     "output_type": "execute_result"
    }
   ],
   "source": [
    "# Global variables\n",
    "n_samples = int(2 ** 10)\n",
    "n_mesh = int(2 ** 5)\n",
    "n_samples, n_mesh"
   ]
  },
  {
   "cell_type": "code",
   "execution_count": 3,
   "metadata": {},
   "outputs": [],
   "source": [
    "# class declarations\n",
    "class split_normal(rv_continuous):\n",
    "    def __init__(self, loc, scale1, scale2, *args, **kwargs):\n",
    "        self.loc = loc\n",
    "        self.scale1 = scale1\n",
    "        self.scale2 = scale2\n",
    "        self.normalization = 2 / (scale1 + scale2)\n",
    "        super().__init__(self, *args, **kwargs)\n",
    "        \n",
    "    def _pdf(self, x):\n",
    "        if x < self.loc:\n",
    "            return self.normalization * truncnorm.pdf(x, self.a, self.b, self.loc, self.scale1)\n",
    "        else:\n",
    "            return self.normalization * truncnorm.pdf(x, self.a, self.b, self.loc, self.scale2)\n",
    "    \n",
    "    def _cdf(self, x):\n",
    "        if x < self.loc:\n",
    "            return self.normalization * self.scale1 * truncnorm.cdf(x, self.a, self.b, self.loc, self.scale1)\n",
    "        else:\n",
    "            return 1 - self.normalization * self.scale2 * (1 - truncnorm.cdf(x, self.a, self.b, self.loc, self.scale2))\n",
    "    \n",
    "    def _ppf(self, q):\n",
    "        p = self.scale1 / (self.scale1 + self.scale2)\n",
    "        \n",
    "        output = np.where(q <= p,\n",
    "                          self.loc + self.scale1\n",
    "                          * truncnorm.ppf(.5 * (self.scale1 + self.scale2) * q\n",
    "                                          / self.scale1, self.a, self.b),\n",
    "                          self.loc + self.scale2\n",
    "                          * truncnorm.ppf(0.5 * ((self.scale1 + self.scale2)\n",
    "                                                 * (1 + q) - 2 * self.scale1)\n",
    "                                          / self.scale2, self.a, self.b))\n",
    "        return np.squeeze(output)"
   ]
  },
  {
   "cell_type": "code",
   "execution_count": 4,
   "metadata": {},
   "outputs": [],
   "source": [
    "def trunc_norm_dist(a=0, b=np.inf, loc=0, scale=1, size=n_samples):\n",
    "    return truncnorm.rvs(a=(a - loc) / scale, b=(b - loc) / scale,\n",
    "                                          loc=loc, scale=scale,\n",
    "                                          size=size)"
   ]
  },
  {
   "cell_type": "code",
   "execution_count": 5,
   "metadata": {},
   "outputs": [],
   "source": [
    "# spl_norm = split_normal(loc=4.1e-7, scale1=2.7e-7, scale2=3.4e-7, a=0)"
   ]
  },
  {
   "cell_type": "code",
   "execution_count": 6,
   "metadata": {},
   "outputs": [],
   "source": [
    "# np.quantile(spl_norm.rvs(size=n_samples), q=[.16, .5, .84])"
   ]
  },
  {
   "cell_type": "markdown",
   "metadata": {
    "toc-hr-collapsed": true
   },
   "source": [
    "## Dependencies/Assumptions"
   ]
  },
  {
   "cell_type": "markdown",
   "metadata": {},
   "source": [
    "### Shared"
   ]
  },
  {
   "cell_type": "markdown",
   "metadata": {},
   "source": [
    "#### Parameter space"
   ]
  },
  {
   "cell_type": "code",
   "execution_count": 7,
   "metadata": {},
   "outputs": [],
   "source": [
    "log_m_bh_min = 7\n",
    "log_m_bh_max = 10\n",
    "\n",
    "log_m_bh_range = np.linspace(log_m_bh_min, log_m_bh_max, num=n_mesh)\n",
    "\n",
    "z_min = 0\n",
    "z_max = 3\n",
    "z_range = np.linspace(z_min, z_max, num=n_mesh)\n",
    "\n",
    "q_min = 0.25\n",
    "q_max = 1\n",
    "q_range = np.linspace(q_min, q_max, num=n_mesh)"
   ]
  },
  {
   "cell_type": "markdown",
   "metadata": {},
   "source": [
    "#### Fiducial values"
   ]
  },
  {
   "cell_type": "code",
   "execution_count": 8,
   "metadata": {},
   "outputs": [],
   "source": [
    "fidhz = (1 / u.yr).to(u.Hz)"
   ]
  },
  {
   "cell_type": "markdown",
   "metadata": {
    "toc-hr-collapsed": true
   },
   "source": [
    "#### Cappellari (2013)"
   ]
  },
  {
   "cell_type": "markdown",
   "metadata": {},
   "source": [
    "##### $M_{\\rm{gal}} - M_{K}$ model parameters"
   ]
  },
  {
   "cell_type": "code",
   "execution_count": 9,
   "metadata": {},
   "outputs": [],
   "source": [
    "a_cappellari = unc.normal(10.5829, std=0.0086, n_samples=n_samples).distribution\n",
    "b_cappellari = unc.normal(-0.4449, std=0.0091, n_samples=n_samples).distribution"
   ]
  },
  {
   "cell_type": "markdown",
   "metadata": {},
   "source": [
    "##### $M_{\\rm{gal}} - K$ model"
   ]
  },
  {
   "cell_type": "code",
   "execution_count": 10,
   "metadata": {},
   "outputs": [],
   "source": [
    "c_intercept = a_cappellari + (b_cappellari * 23)\n",
    "c_slope = b_cappellari\n",
    "cappellari_mgal_k = Linear1D(slope=c_slope,\n",
    "                             intercept=c_intercept,\n",
    "                             n_models=n_samples)"
   ]
  },
  {
   "cell_type": "code",
   "execution_count": 11,
   "metadata": {},
   "outputs": [
    {
     "name": "stdout",
     "output_type": "stream",
     "text": [
      "Model: Linear1D\n",
      "Inputs: ('x',)\n",
      "Outputs: ('y',)\n",
      "Model set size: 1024\n",
      "Parameters:\n",
      "           slope              intercept      \n",
      "    -------------------- --------------------\n",
      "     -0.4479035040102534  0.27549834432492304\n",
      "     -0.4617533322524478 -0.03489451989117143\n",
      "    -0.43966861832490123   0.4744122847267036\n",
      "     -0.4421541526985732  0.38811443142877877\n",
      "    -0.45159383625067656  0.20894255191920408\n",
      "     -0.4425558230662473  0.38854576510700944\n",
      "     -0.4391978526663365   0.4824011474670975\n",
      "     -0.4453666299567238  0.34907420422594626\n",
      "    -0.43204224084227494   0.6395716337957715\n",
      "     -0.4455260298887746  0.32952094045793423\n",
      "                     ...                  ...\n",
      "      -0.441229141293078  0.43115038941568784\n",
      "     -0.4513408833970501  0.19099376623287867\n",
      "    -0.42818399235185917   0.7521470062491744\n",
      "    -0.43862416146339095  0.48271811840059264\n",
      "     -0.4526776453314853  0.16783953500867455\n",
      "    -0.44241593258278766   0.4182986416911749\n",
      "     -0.4356894349838488   0.5704613568114869\n",
      "     -0.4567722629314395  0.07128312619734878\n",
      "     -0.4363253417481746   0.5488286301900462\n",
      "     -0.4415273900683283  0.44023550458087435\n",
      "     -0.4538581266177788  0.15585391992783748\n",
      "    Length = 1024 rows\n"
     ]
    }
   ],
   "source": [
    "print(cappellari_mgal_k)\n",
    "with open('../models/Cappellari2013_mgal_mk_relation.pkl', 'wb') as f:\n",
    "    pickle.dump(cappellari_mgal_k, f)"
   ]
  },
  {
   "cell_type": "markdown",
   "metadata": {
    "toc-hr-collapsed": true
   },
   "source": [
    "#### McConnell & Ma (2013)"
   ]
  },
  {
   "cell_type": "markdown",
   "metadata": {},
   "source": [
    "##### $M - M_{\\rm{bulge}}$ model parameters"
   ]
  },
  {
   "cell_type": "code",
   "execution_count": 12,
   "metadata": {},
   "outputs": [],
   "source": [
    "alpha_mcconnell_ma = unc.normal(8.46, std=.08, n_samples=n_samples).distribution\n",
    "beta_mcconnell_ma = unc.normal(1.05, std=.11, n_samples=n_samples).distribution\n",
    "intrinsic_disp_mcconnell_ma = np.random.normal(scale=.34, size=n_samples)"
   ]
  },
  {
   "cell_type": "markdown",
   "metadata": {},
   "source": [
    "##### $M - M_{\\rm{bulge}}$ model"
   ]
  },
  {
   "cell_type": "markdown",
   "metadata": {},
   "source": [
    "Scaled to $M_{\\rm{bulge}} / 10^{11}\\;\\rm{M}_{\\odot}$"
   ]
  },
  {
   "cell_type": "code",
   "execution_count": 13,
   "metadata": {},
   "outputs": [],
   "source": [
    "mm_intercept = alpha_mcconnell_ma - (beta_mcconnell_ma * 11)\n",
    "mm_slope = beta_mcconnell_ma\n",
    "mcconnell_ma_m_mbulge = Linear1D(slope=mm_slope,\n",
    "                                 intercept=mm_intercept,\n",
    "                                 n_models=n_samples)"
   ]
  },
  {
   "cell_type": "code",
   "execution_count": 14,
   "metadata": {},
   "outputs": [
    {
     "name": "stdout",
     "output_type": "stream",
     "text": [
      "Model: Linear1D\n",
      "Inputs: ('x',)\n",
      "Outputs: ('y',)\n",
      "Model set size: 1024\n",
      "Parameters:\n",
      "          slope             intercept     \n",
      "    ------------------ -------------------\n",
      "    1.1521265897898978   -4.14140011461763\n",
      "    1.2128330140338732  -4.841637679097827\n",
      "    0.9658596989702247  -2.275931952368216\n",
      "     1.050986316873185 -3.1075077307531505\n",
      "     1.043948983169865  -3.012625321988944\n",
      "     1.015201986601199 -2.7147056302292363\n",
      "    1.0184506162824192  -2.749913034654366\n",
      "    1.0013768325634274 -2.6634866378935413\n",
      "    1.0016620249263666 -2.5974054512299674\n",
      "    0.9603779075506563 -2.0418616738028668\n",
      "                   ...                 ...\n",
      "     1.123564398211813 -3.9346035248103686\n",
      "    1.0838283577603722  -3.305576335290361\n",
      "    0.8922988368060353  -1.394511932272314\n",
      "    1.1239549892802965 -3.7761802312874497\n",
      "    1.0773272492716033 -3.4071776217266105\n",
      "    1.0493502776893322 -2.9502844296916813\n",
      "    1.1343257491971097 -3.9306243432613233\n",
      "    1.1411169791386628  -4.083863388200898\n",
      "     1.162247518968791  -4.526097217683832\n",
      "    1.0845161873643756   -3.41882168133362\n",
      "    1.0574165914187856  -3.158017970156058\n",
      "    Length = 1024 rows\n"
     ]
    }
   ],
   "source": [
    "print(mcconnell_ma_m_mbulge)\n",
    "with open('../models/McConnellMa2013_mbh_mbulge_relation.pkl', 'wb') as f:\n",
    "    pickle.dump(mcconnell_ma_m_mbulge, f)"
   ]
  },
  {
   "cell_type": "markdown",
   "metadata": {},
   "source": [
    "### AGN-proxy model"
   ]
  },
  {
   "cell_type": "markdown",
   "metadata": {},
   "source": [
    "#### $M_{\\rm{BH}} - M_{\\rm{K}}$"
   ]
  },
  {
   "cell_type": "code",
   "execution_count": 15,
   "metadata": {},
   "outputs": [],
   "source": [
    "log_m_bh_m_k = cappellari_mgal_k | mcconnell_ma_m_mbulge"
   ]
  },
  {
   "cell_type": "markdown",
   "metadata": {
    "toc-hr-collapsed": true
   },
   "source": [
    "#### Mingarelli+ (2017)"
   ]
  },
  {
   "cell_type": "markdown",
   "metadata": {},
   "source": [
    "##### Mass ratio range"
   ]
  },
  {
   "cell_type": "code",
   "execution_count": 16,
   "metadata": {},
   "outputs": [],
   "source": [
    "q_min_mingarelli = .25\n",
    "q_max_mingarelli = 1"
   ]
  },
  {
   "cell_type": "markdown",
   "metadata": {},
   "source": [
    "##### Mass ranges"
   ]
  },
  {
   "cell_type": "code",
   "execution_count": 17,
   "metadata": {},
   "outputs": [
    {
     "data": {
      "text/html": [
       "<div>\n",
       "<style scoped>\n",
       "    .dataframe tbody tr th:only-of-type {\n",
       "        vertical-align: middle;\n",
       "    }\n",
       "\n",
       "    .dataframe tbody tr th {\n",
       "        vertical-align: top;\n",
       "    }\n",
       "\n",
       "    .dataframe thead th {\n",
       "        text-align: right;\n",
       "    }\n",
       "</style>\n",
       "<table border=\"1\" class=\"dataframe\">\n",
       "  <thead>\n",
       "    <tr style=\"text-align: right;\">\n",
       "      <th></th>\n",
       "      <th>RA</th>\n",
       "      <th>DEC</th>\n",
       "      <th>D_L(Mpc)</th>\n",
       "      <th>Kmag</th>\n",
       "      <th>Name</th>\n",
       "    </tr>\n",
       "  </thead>\n",
       "  <tbody>\n",
       "    <tr>\n",
       "      <th>0</th>\n",
       "      <td>189.998</td>\n",
       "      <td>-11.623</td>\n",
       "      <td>14.63</td>\n",
       "      <td>-25.88</td>\n",
       "      <td>NGC4594</td>\n",
       "    </tr>\n",
       "    <tr>\n",
       "      <th>1</th>\n",
       "      <td>187.445</td>\n",
       "      <td>8.000</td>\n",
       "      <td>20.78</td>\n",
       "      <td>-26.20</td>\n",
       "      <td>NGC4472</td>\n",
       "    </tr>\n",
       "    <tr>\n",
       "      <th>2</th>\n",
       "      <td>50.674</td>\n",
       "      <td>-37.208</td>\n",
       "      <td>19.76</td>\n",
       "      <td>-25.90</td>\n",
       "      <td>NGC1316</td>\n",
       "    </tr>\n",
       "    <tr>\n",
       "      <th>3</th>\n",
       "      <td>190.917</td>\n",
       "      <td>11.553</td>\n",
       "      <td>20.78</td>\n",
       "      <td>-25.86</td>\n",
       "      <td>NGC4649</td>\n",
       "    </tr>\n",
       "    <tr>\n",
       "      <th>4</th>\n",
       "      <td>187.706</td>\n",
       "      <td>12.391</td>\n",
       "      <td>20.78</td>\n",
       "      <td>-25.78</td>\n",
       "      <td>NGC4486</td>\n",
       "    </tr>\n",
       "    <tr>\n",
       "      <th>...</th>\n",
       "      <td>...</td>\n",
       "      <td>...</td>\n",
       "      <td>...</td>\n",
       "      <td>...</td>\n",
       "      <td>...</td>\n",
       "    </tr>\n",
       "    <tr>\n",
       "      <th>5105</th>\n",
       "      <td>214.458</td>\n",
       "      <td>0.511</td>\n",
       "      <td>223.09</td>\n",
       "      <td>-25.11</td>\n",
       "      <td>PGC051063</td>\n",
       "    </tr>\n",
       "    <tr>\n",
       "      <th>5106</th>\n",
       "      <td>64.351</td>\n",
       "      <td>-37.282</td>\n",
       "      <td>216.26</td>\n",
       "      <td>-25.05</td>\n",
       "      <td>PGC014806</td>\n",
       "    </tr>\n",
       "    <tr>\n",
       "      <th>5107</th>\n",
       "      <td>123.188</td>\n",
       "      <td>11.632</td>\n",
       "      <td>223.76</td>\n",
       "      <td>-25.13</td>\n",
       "      <td>PGC1396460</td>\n",
       "    </tr>\n",
       "    <tr>\n",
       "      <th>5108</th>\n",
       "      <td>206.159</td>\n",
       "      <td>21.093</td>\n",
       "      <td>218.77</td>\n",
       "      <td>-25.30</td>\n",
       "      <td>PGC3089894</td>\n",
       "    </tr>\n",
       "    <tr>\n",
       "      <th>5109</th>\n",
       "      <td>270.047</td>\n",
       "      <td>48.654</td>\n",
       "      <td>218.26</td>\n",
       "      <td>-25.41</td>\n",
       "      <td>PGC2322449</td>\n",
       "    </tr>\n",
       "  </tbody>\n",
       "</table>\n",
       "<p>5110 rows × 5 columns</p>\n",
       "</div>"
      ],
      "text/plain": [
       "           RA     DEC  D_L(Mpc)   Kmag        Name\n",
       "0     189.998 -11.623     14.63 -25.88     NGC4594\n",
       "1     187.445   8.000     20.78 -26.20     NGC4472\n",
       "2      50.674 -37.208     19.76 -25.90     NGC1316\n",
       "3     190.917  11.553     20.78 -25.86     NGC4649\n",
       "4     187.706  12.391     20.78 -25.78     NGC4486\n",
       "...       ...     ...       ...    ...         ...\n",
       "5105  214.458   0.511    223.09 -25.11   PGC051063\n",
       "5106   64.351 -37.282    216.26 -25.05   PGC014806\n",
       "5107  123.188  11.632    223.76 -25.13  PGC1396460\n",
       "5108  206.159  21.093    218.77 -25.30  PGC3089894\n",
       "5109  270.047  48.654    218.26 -25.41  PGC2322449\n",
       "\n",
       "[5110 rows x 5 columns]"
      ]
     },
     "execution_count": 17,
     "metadata": {},
     "output_type": "execute_result"
    }
   ],
   "source": [
    "galaxies = pd.read_csv('../data/external/25/added_mks.lst', delimiter='\\s+',\n",
    "                       usecols=[0, 1, 2, 3, 4], index_col=False)\n",
    "galaxies = galaxies.append(pd.read_csv('../data/external/25/schutzMa_extension.txt',\n",
    "                                       delimiter='\\s+',\n",
    "                                       usecols=[0, 1, 2, 3, 4],\n",
    "                                       index_col=False))\n",
    "catalog = pd.read_csv('../data/external/25/2mass_galaxies.lst', delimiter='\\s+',\n",
    "                      usecols=[1, 2, 3, 4, 5], index_col=False,\n",
    "                      names=['RA', 'DEC', 'D_L(Mpc)', 'Kmag', 'Name'])\n",
    "catalog"
   ]
  },
  {
   "cell_type": "code",
   "execution_count": 18,
   "metadata": {},
   "outputs": [],
   "source": [
    "# mm_intercept = alpha_mcconnell_ma - (beta_mcconnell_ma * 11)\n",
    "# mm_slope = beta_mcconnell_ma\n",
    "# mcconnell_ma_scatter = Gaussian1D(slope=mm_slope,\n",
    "#                                   intercept=mm_intercept,\n",
    "#                                   n_models=n_samples)"
   ]
  },
  {
   "cell_type": "code",
   "execution_count": 19,
   "metadata": {},
   "outputs": [],
   "source": [
    "# print(mcconnell_ma_m_mbulge)\n",
    "# with open('../models/McConnellMa2013_mbh_mbulge_relation.pkl', 'wb') as f:\n",
    "#     pickle.dump(mcconnell_ma_m_mbulge, f)"
   ]
  },
  {
   "cell_type": "code",
   "execution_count": 20,
   "metadata": {},
   "outputs": [
    {
     "data": {
      "text/latex": [
       "$\\displaystyle \\log M_{\\rm{BHB, min, M17}} = 8.56$"
      ],
      "text/plain": [
       "<IPython.core.display.Math object>"
      ]
     },
     "metadata": {},
     "output_type": "display_data"
    },
    {
     "data": {
      "text/latex": [
       "$\\displaystyle \\log M_{\\rm{BHB, max, M17}} = 10.30$"
      ],
      "text/plain": [
       "<IPython.core.display.Math object>"
      ]
     },
     "metadata": {},
     "output_type": "display_data"
    }
   ],
   "source": [
    "log_m_bhb_mingarelli = np.array([log_m_bh_m_k(Mk) for Mk in catalog['Kmag']])\n",
    "log_m_bhb_mingarelli = np.random.normal(log_m_bhb_mingarelli, .34)\n",
    "log_m_bhb_mingarelli_q = np.quantile(log_m_bhb_mingarelli, q=[.16, .5, .84], axis=1)\n",
    "log_m_bhb_mingarelli_max = np.max(log_m_bhb_mingarelli_q)\n",
    "log_m_bhb_mingarelli_min = np.min(log_m_bhb_mingarelli_q)\n",
    "display(Math(r'\\log M_{{\\rm{{BHB, min, M17}}}} = {0:.2f}'\n",
    "             .format(log_m_bhb_mingarelli_min)))\n",
    "display(Math(r'\\log M_{{\\rm{{BHB, max, M17}}}} = {0:.2f}'\n",
    "             .format(log_m_bhb_mingarelli_max)))"
   ]
  },
  {
   "cell_type": "code",
   "execution_count": 21,
   "metadata": {},
   "outputs": [
    {
     "data": {
      "text/latex": [
       "$\\displaystyle \\log M_{\\rm{BH, min, M17}} = 8.47$"
      ],
      "text/plain": [
       "<IPython.core.display.Math object>"
      ]
     },
     "metadata": {},
     "output_type": "display_data"
    },
    {
     "data": {
      "text/latex": [
       "$\\displaystyle \\log M_{\\rm{BH, max, M17}} = 10.00$"
      ],
      "text/plain": [
       "<IPython.core.display.Math object>"
      ]
     },
     "metadata": {},
     "output_type": "display_data"
    }
   ],
   "source": [
    "log_m_bh_min_mingarelli = log_m_bhb_mingarelli_min - np.log10(1 + q_min_mingarelli)\n",
    "log_m_bh_max_mingarelli = log_m_bhb_mingarelli_max - np.log10(1 + q_max_mingarelli)\n",
    "log_m_bh_max = log_m_bh_max_mingarelli\n",
    "display(Math(r'\\log M_{{\\rm{{BH, min, M17}}}} = {0:.2f}'\n",
    "             .format(log_m_bh_min_mingarelli)))\n",
    "display(Math(r'\\log M_{{\\rm{{BH, max, M17}}}} = {0:.2f}'\n",
    "             .format(log_m_bh_max_mingarelli)))"
   ]
  },
  {
   "cell_type": "markdown",
   "metadata": {},
   "source": [
    "#### $q$ distribution"
   ]
  },
  {
   "cell_type": "code",
   "execution_count": 22,
   "metadata": {},
   "outputs": [],
   "source": [
    "var_log_q = np.repeat(.5, n_samples)\n",
    "mode_log_q = np.repeat(0, n_samples)\n",
    "median_log_q = np.repeat(0, n_samples) #mode_log_q + (var_log_q ** 2)"
   ]
  },
  {
   "cell_type": "code",
   "execution_count": 23,
   "metadata": {},
   "outputs": [],
   "source": [
    "q_distrib = LogNormal1D(mu=median_log_q, std=var_log_q, n_models=n_samples)"
   ]
  },
  {
   "cell_type": "code",
   "execution_count": 24,
   "metadata": {},
   "outputs": [
    {
     "name": "stdout",
     "output_type": "stream",
     "text": [
      "Model: LogNormal1D\n",
      "Inputs: ('x',)\n",
      "Outputs: ('y',)\n",
      "Model set size: 1024\n",
      "Parameters:\n",
      "     mu std\n",
      "    --- ---\n",
      "    0.0 0.5\n",
      "    0.0 0.5\n",
      "    0.0 0.5\n",
      "    0.0 0.5\n",
      "    0.0 0.5\n",
      "    0.0 0.5\n",
      "    0.0 0.5\n",
      "    0.0 0.5\n",
      "    0.0 0.5\n",
      "    0.0 0.5\n",
      "    ... ...\n",
      "    0.0 0.5\n",
      "    0.0 0.5\n",
      "    0.0 0.5\n",
      "    0.0 0.5\n",
      "    0.0 0.5\n",
      "    0.0 0.5\n",
      "    0.0 0.5\n",
      "    0.0 0.5\n",
      "    0.0 0.5\n",
      "    0.0 0.5\n",
      "    0.0 0.5\n",
      "    Length = 1024 rows\n"
     ]
    }
   ],
   "source": [
    "print(q_distrib)\n",
    "with open('../models/q_distrib.pkl', 'wb') as f:\n",
    "    pickle.dump(q_distrib, f)"
   ]
  },
  {
   "cell_type": "markdown",
   "metadata": {
    "toc-hr-collapsed": true
   },
   "source": [
    "#### Hopkins+ (2007)"
   ]
  },
  {
   "cell_type": "markdown",
   "metadata": {},
   "source": [
    "##### Differential quasar formation density model parameters"
   ]
  },
  {
   "cell_type": "code",
   "execution_count": 25,
   "metadata": {},
   "outputs": [],
   "source": [
    "log_formation_rate_normalization = unc.normal(-3.830, std=0.031, n_samples=n_samples).distribution\n",
    "log_formation_rate_power_law_slope = unc.normal(-4.02, std=0.36, n_samples=n_samples).distribution\n",
    "log_mass_break_normalization = unc.normal(8.959, std=0.032, n_samples=n_samples).distribution\n",
    "log_mass_break_k_1 = unc.normal(1.18, std=0.13, n_samples=n_samples).distribution\n",
    "log_mass_break_k_2 = unc.normal(-6.68, std=0.44, n_samples=n_samples).distribution\n",
    "low_mass_slope = np.repeat(.2, n_samples)\n",
    "high_mass_slope_normalization = unc.normal(2.86, std=0.16, n_samples=n_samples).distribution\n",
    "high_mass_slope_k_1 = unc.normal(1.80, std=0.18, n_samples=n_samples).distribution\n",
    "high_mass_slope_k_2 = unc.normal(-1.13, std=0.09, n_samples=n_samples).distribution\n",
    "z_ref = np.repeat(2, n_samples)"
   ]
  },
  {
   "cell_type": "markdown",
   "metadata": {},
   "source": [
    "##### Differential quasar formation density model"
   ]
  },
  {
   "cell_type": "code",
   "execution_count": 26,
   "metadata": {},
   "outputs": [],
   "source": [
    "quasar_formation_rate = QuasarProxyBinaries(binary_normalization=np.repeat(1, n_samples),\n",
    "                                            log_formation_rate_normalization=log_formation_rate_normalization,\n",
    "                                            log_formation_rate_power_law_slope=log_formation_rate_power_law_slope,\n",
    "                                            log_mass_break_normalization=log_mass_break_normalization,\n",
    "                                            log_mass_break_k_1=log_mass_break_k_1,\n",
    "                                            log_mass_break_k_2=log_mass_break_k_2,\n",
    "                                            low_mass_slope=low_mass_slope,\n",
    "                                            high_mass_slope_normalization=high_mass_slope_normalization,\n",
    "                                            high_mass_slope_k_1=high_mass_slope_k_1,\n",
    "                                            high_mass_slope_k_2=high_mass_slope_k_2,\n",
    "                                            z_ref=z_ref,\n",
    "                                            mu_log_q=median_log_q,\n",
    "                                            std_log_q=var_log_q,\n",
    "                                            n_models=n_samples)"
   ]
  },
  {
   "cell_type": "code",
   "execution_count": 27,
   "metadata": {},
   "outputs": [
    {
     "name": "stdout",
     "output_type": "stream",
     "text": [
      "Model: QuasarProxyBinaries\n",
      "Inputs: ('x0', 'x1', 'x2')\n",
      "Outputs: ('x0',)\n",
      "Model set size: 1024\n",
      "Parameters:\n",
      "    binary_normalization log_formation_rate_normalization ... mu_log_q std_log_q\n",
      "    -------------------- -------------------------------- ... -------- ---------\n",
      "                     1.0               -3.788930191075275 ...      0.0       0.5\n",
      "                     1.0               -3.855437435025686 ...      0.0       0.5\n",
      "                     1.0               -3.807947865893515 ...      0.0       0.5\n",
      "                     1.0              -3.8536622071446196 ...      0.0       0.5\n",
      "                     1.0               -3.787858299690958 ...      0.0       0.5\n",
      "                     1.0               -3.816559792252539 ...      0.0       0.5\n",
      "                     1.0               -3.833666339926486 ...      0.0       0.5\n",
      "                     1.0              -3.8225391122735624 ...      0.0       0.5\n",
      "                     1.0               -3.833689560659188 ...      0.0       0.5\n",
      "                     1.0              -3.8545851804554325 ...      0.0       0.5\n",
      "                     ...                              ... ...      ...       ...\n",
      "                     1.0              -3.7878864579914335 ...      0.0       0.5\n",
      "                     1.0              -3.8313088620713884 ...      0.0       0.5\n",
      "                     1.0               -3.793369170747181 ...      0.0       0.5\n",
      "                     1.0              -3.8450015403311855 ...      0.0       0.5\n",
      "                     1.0               -3.853416737575999 ...      0.0       0.5\n",
      "                     1.0               -3.827510177943757 ...      0.0       0.5\n",
      "                     1.0               -3.839884595103359 ...      0.0       0.5\n",
      "                     1.0              -3.8255547227501614 ...      0.0       0.5\n",
      "                     1.0              -3.8481692611877776 ...      0.0       0.5\n",
      "                     1.0                -3.81660800709556 ...      0.0       0.5\n",
      "                     1.0              -3.8339326076502074 ...      0.0       0.5\n",
      "    Length = 1024 rows\n"
     ]
    }
   ],
   "source": [
    "print(quasar_formation_rate)\n",
    "with open('../models/Hopkins2007_quasar_formation_rate_binaries.pkl', 'wb') as f:\n",
    "    pickle.dump(quasar_formation_rate, f)"
   ]
  },
  {
   "cell_type": "markdown",
   "metadata": {},
   "source": [
    "### Goulding+ (2019) AGN-proxy model"
   ]
  },
  {
   "cell_type": "markdown",
   "metadata": {},
   "source": [
    "#### Goulding+ (2019)"
   ]
  },
  {
   "cell_type": "code",
   "execution_count": 28,
   "metadata": {},
   "outputs": [],
   "source": [
    "# Number density luminosity bounds\n",
    "log_l_min = np.log10((.3 * (10 ** 46.) * u.erg / u.s).to(u.Lsun).value)\n",
    "log_l_max = np.log10((.3 * (10 ** 47.) * u.erg / u.s).to(u.Lsun).value)\n",
    "\n",
    "log_m_min_goulding = 8\n",
    "log_m_max_goulding = 10\n",
    "\n",
    "log_m_bh_min_goulding = log_m_min_goulding - np.log10(1 + q_min)\n",
    "log_m_bh_max_goulding = log_m_max_goulding - np.log10(1 + q_max)"
   ]
  },
  {
   "cell_type": "markdown",
   "metadata": {},
   "source": [
    "#### Sheth+ (2003)"
   ]
  },
  {
   "cell_type": "markdown",
   "metadata": {},
   "source": [
    "##### Velocity dispersion function parameters"
   ]
  },
  {
   "cell_type": "code",
   "execution_count": 29,
   "metadata": {},
   "outputs": [],
   "source": [
    "dispersion_normalization = unc.normal(0.002, std=.0001, n_samples=n_samples).distribution * (WMAP9.h ** 3)\n",
    "dispersion_break = np.repeat(88.8, n_samples)  # unc.normal(88.8, std=17.7, n_samples=n_samples).distribution\n",
    "alpha = np.repeat(6.5, n_samples)  # unc.normal(6.5, std=1., n_samples=n_samples).distribution\n",
    "beta = np.repeat(1.93, n_samples)"
   ]
  },
  {
   "cell_type": "markdown",
   "metadata": {},
   "source": [
    "##### Velocity dispersion function"
   ]
  },
  {
   "cell_type": "code",
   "execution_count": 30,
   "metadata": {},
   "outputs": [],
   "source": [
    "sheth_2003_velocity_dispersion_function = ModifiedSchechter(normalization=dispersion_normalization,\n",
    "                                                            sigma_break=dispersion_break,\n",
    "                                                            alpha=alpha,\n",
    "                                                            beta=beta,\n",
    "                                                            n_models=n_samples)"
   ]
  },
  {
   "cell_type": "code",
   "execution_count": 31,
   "metadata": {},
   "outputs": [
    {
     "name": "stdout",
     "output_type": "stream",
     "text": [
      "Model: ModifiedSchechter\n",
      "Inputs: ('x',)\n",
      "Outputs: ('y',)\n",
      "Model set size: 1024\n",
      "Parameters:\n",
      "        normalization     sigma_break alpha beta\n",
      "    --------------------- ----------- ----- ----\n",
      "    0.0006688263553035981        88.8   6.5 1.93\n",
      "    0.0007147258475494219        88.8   6.5 1.93\n",
      "    0.0006674347533103328        88.8   6.5 1.93\n",
      "    0.0006460982246204753        88.8   6.5 1.93\n",
      "    0.0006875702439097179        88.8   6.5 1.93\n",
      "    0.0006859544727870455        88.8   6.5 1.93\n",
      "    0.0006660509353471876        88.8   6.5 1.93\n",
      "    0.0006641560119338088        88.8   6.5 1.93\n",
      "    0.0006212060377716489        88.8   6.5 1.93\n",
      "     0.000720323866179165        88.8   6.5 1.93\n",
      "                      ...         ...   ...  ...\n",
      "    0.0006789293274071896        88.8   6.5 1.93\n",
      "    0.0006705836068608599        88.8   6.5 1.93\n",
      "    0.0006263513987050038        88.8   6.5 1.93\n",
      "    0.0006144352673655968        88.8   6.5 1.93\n",
      "    0.0007001946859761818        88.8   6.5 1.93\n",
      "    0.0006668888467032514        88.8   6.5 1.93\n",
      "    0.0006643671732414448        88.8   6.5 1.93\n",
      "    0.0006330138835404916        88.8   6.5 1.93\n",
      "    0.0006916773606270979        88.8   6.5 1.93\n",
      "    0.0007245604465589822        88.8   6.5 1.93\n",
      "    0.0006642474604067267        88.8   6.5 1.93\n",
      "    Length = 1024 rows\n"
     ]
    }
   ],
   "source": [
    "print(sheth_2003_velocity_dispersion_function)\n",
    "with open('../models/Sheth2003_velocity_dispersion_function.pkl', 'wb') as f:\n",
    "    pickle.dump(sheth_2003_velocity_dispersion_function, f)"
   ]
  },
  {
   "cell_type": "markdown",
   "metadata": {},
   "source": [
    "#### Marconi+ (2004)"
   ]
  },
  {
   "cell_type": "markdown",
   "metadata": {},
   "source": [
    "##### Black hole mass function parameters"
   ]
  },
  {
   "cell_type": "code",
   "execution_count": 32,
   "metadata": {},
   "outputs": [],
   "source": [
    "# b_marconi = unc.normal(4.11, std=.33, n_samples=n_samples).distribution\n",
    "# a_marconi = unc.normal(8.30, std=.07, n_samples=n_samples).distribution - 2.3 * b_marconi\n",
    "# intrinsic_disp_marconi = .3"
   ]
  },
  {
   "cell_type": "markdown",
   "metadata": {},
   "source": [
    "##### Black hole mass function"
   ]
  },
  {
   "cell_type": "code",
   "execution_count": 33,
   "metadata": {},
   "outputs": [],
   "source": [
    "# bell_2003_galactic_mass_function = Schechter1D(normalization=phi_bell,\n",
    "#                                                log_m_break=log_mgal_break_bell,\n",
    "#                                                exponent=alpha_bell,\n",
    "#                                                n_models=n_samples)"
   ]
  },
  {
   "cell_type": "markdown",
   "metadata": {},
   "source": [
    "### Merger models"
   ]
  },
  {
   "cell_type": "markdown",
   "metadata": {},
   "source": [
    "#### Bell+ (2003)"
   ]
  },
  {
   "cell_type": "markdown",
   "metadata": {},
   "source": [
    "##### Galactic mass function parameters"
   ]
  },
  {
   "cell_type": "code",
   "execution_count": 34,
   "metadata": {},
   "outputs": [],
   "source": [
    "z_bell = 0.\n",
    "phi_bell = trunc_norm_dist(a=0, b=np.inf, loc=0.0133, scale=0.0006, size=n_samples) * (WMAP9.h ** 3)\n",
    "log_mgal_break_bell = unc.normal(10.63, std=.01, n_samples=n_samples).distribution - 2. * np.log10(WMAP9.h)\n",
    "alpha_bell = unc.normal(-0.86, std=.04, n_samples=n_samples).distribution"
   ]
  },
  {
   "cell_type": "markdown",
   "metadata": {},
   "source": [
    "##### Galactic mass function"
   ]
  },
  {
   "cell_type": "code",
   "execution_count": 35,
   "metadata": {},
   "outputs": [],
   "source": [
    "bell_2003_galactic_mass_function = Schechter1D(normalization=phi_bell,\n",
    "                                               log_m_break=log_mgal_break_bell,\n",
    "                                               exponent=alpha_bell,\n",
    "                                               n_models=n_samples)"
   ]
  },
  {
   "cell_type": "code",
   "execution_count": 36,
   "metadata": {},
   "outputs": [
    {
     "name": "stdout",
     "output_type": "stream",
     "text": [
      "Model: Schechter1D\n",
      "Inputs: ('x',)\n",
      "Outputs: ('y',)\n",
      "Model set size: 1024\n",
      "Parameters:\n",
      "        normalization        log_m_break           exponent     \n",
      "    --------------------- ------------------ -------------------\n",
      "     0.004444500800014729 10.952283553115858 -0.8640808436159239\n",
      "    0.0040137065100987095 10.965704391291627 -0.9233318951626408\n",
      "     0.004555212284291535 10.938989778772704 -0.9366516348951863\n",
      "     0.004167937193554878 10.942029980815985 -0.8977847558655594\n",
      "    0.0042382524078053065 10.952217976739849 -0.8687199850927978\n",
      "    0.0043753993985503154 10.938214182510396 -0.8120349213868917\n",
      "     0.004659534604552072 10.964143365694936 -0.8781013468270618\n",
      "     0.004428888694392239  10.94421635611325 -0.8519998164620027\n",
      "     0.004746244872369328   10.9415839095487 -0.9175484076117808\n",
      "     0.004607177312237416  10.93618841514357 -0.9192962801388254\n",
      "                      ...                ...                 ...\n",
      "     0.004754448325176602 10.942716499711345 -0.8673097419178031\n",
      "     0.004368405020916001 10.939616097725791 -0.8160359901916915\n",
      "     0.004166953716173817 10.952970294553033 -0.7729959416953088\n",
      "     0.004441664747236062 10.956492080677746 -0.8399770652255595\n",
      "    0.0043730677462511264 10.950378465181334  -0.837411723490075\n",
      "     0.004533195083938836 10.932233775044438 -0.8855452809140135\n",
      "      0.00423977054000167 10.922730119215643 -0.8209594873942683\n",
      "      0.00433047697134183 10.937669605541156 -0.8994759339702406\n",
      "     0.004176605191849631 10.944182282612392 -0.9178862236201109\n",
      "     0.004880915629121086 10.927818942114142  -0.872065511825756\n",
      "     0.004513218038774564  10.94688535916275 -0.8822953437562611\n",
      "    Length = 1024 rows\n"
     ]
    }
   ],
   "source": [
    "print(bell_2003_galactic_mass_function)\n",
    "with open('../models/Bell2003_galaxy_mass_function.pkl', 'wb') as f:\n",
    "    pickle.dump(bell_2003_galactic_mass_function, f)"
   ]
  },
  {
   "cell_type": "markdown",
   "metadata": {},
   "source": [
    "#### Borch+ (2006)"
   ]
  },
  {
   "cell_type": "markdown",
   "metadata": {},
   "source": [
    "##### Galactic mass function parameters"
   ]
  },
  {
   "cell_type": "code",
   "execution_count": 37,
   "metadata": {},
   "outputs": [],
   "source": [
    "z_borch = np.array([0, .3, .5, .7, .9])\n",
    "z_range_borch = np.linspace(0, .9, num=n_mesh)\n",
    "\n",
    "norm_0_borch = trunc_norm_dist(a=0, b=np.inf, loc=37e-4, scale=4e-4, size=n_samples)\n",
    "norm_3_borch = trunc_norm_dist(a=0, b=np.inf, loc=17e-4, scale=7e-4, size=n_samples)\n",
    "norm_5_borch = trunc_norm_dist(a=0, b=np.inf, loc=15e-4, scale=5e-4, size=n_samples)\n",
    "norm_7_borch = trunc_norm_dist(a=0, b=np.inf, loc=11e-4, scale=4e-4, size=n_samples)\n",
    "norm_9_borch = trunc_norm_dist(a=0, b=np.inf, loc=9e-4, scale=3e-4, size=n_samples)\n",
    "\n",
    "log_m_gal_0_borch = unc.normal(10.81, std=.1, n_samples=n_samples).distribution\n",
    "log_m_gal_3_borch =  unc.normal(10.97, std=.09, n_samples=n_samples).distribution\n",
    "log_m_gal_5_borch =  unc.normal(10.95, std=.1, n_samples=n_samples).distribution\n",
    "log_m_gal_7_borch =  unc.normal(11.06, std=.18, n_samples=n_samples).distribution\n",
    "log_m_gal_9_borch =  unc.normal(11.01, std=.08, n_samples=n_samples).distribution\n",
    "\n",
    "alpha_0_borch = unc.normal(-.7, std=.07, n_samples=n_samples).distribution\n",
    "alpha_3_borch = unc.normal(-.7, std=.07, n_samples=n_samples).distribution\n",
    "alpha_5_borch = unc.normal(-.7, std=.07, n_samples=n_samples).distribution\n",
    "alpha_7_borch = unc.normal(-.7, std=.07, n_samples=n_samples).distribution\n",
    "alpha_9_borch = unc.normal(-.7, std=.07, n_samples=n_samples).distribution"
   ]
  },
  {
   "cell_type": "markdown",
   "metadata": {},
   "source": [
    "##### Galactic mass function"
   ]
  },
  {
   "cell_type": "code",
   "execution_count": 38,
   "metadata": {},
   "outputs": [],
   "source": [
    "borch_2006_galactic_mass_function = Schechter2D(norm1=norm_0_borch,\n",
    "                                                norm2=norm_3_borch,\n",
    "                                                norm3=norm_5_borch,\n",
    "                                                norm4=norm_7_borch,\n",
    "                                                norm5=norm_9_borch,\n",
    "                                                log_m_break1=log_m_gal_0_borch,\n",
    "                                                log_m_break2=log_m_gal_3_borch,\n",
    "                                                log_m_break3=log_m_gal_5_borch,\n",
    "                                                log_m_break4=log_m_gal_7_borch,\n",
    "                                                log_m_break5=log_m_gal_9_borch,\n",
    "                                                exp1=alpha_0_borch,\n",
    "                                                exp2=alpha_3_borch,\n",
    "                                                exp3=alpha_5_borch,\n",
    "                                                exp4=alpha_7_borch,\n",
    "                                                exp5=alpha_9_borch,\n",
    "                                                n_models=n_samples)"
   ]
  },
  {
   "cell_type": "code",
   "execution_count": 39,
   "metadata": {},
   "outputs": [
    {
     "name": "stdout",
     "output_type": "stream",
     "text": [
      "Model: Schechter2D\n",
      "Inputs: ('x', 'y')\n",
      "Outputs: ('z',)\n",
      "Model set size: 1024\n",
      "Parameters:\n",
      "            norm1                 norm2         ...         exp5       \n",
      "    --------------------- --------------------- ... -------------------\n",
      "     0.004192022055601883 0.0018285222886027153 ...  -0.693695549785729\n",
      "     0.002928479455460745 0.0020755148033963274 ... -0.6360525028871873\n",
      "    0.0035491607249653278 0.0011150071147298856 ... -0.7313222068483578\n",
      "     0.004521537079178115  0.002900572894099113 ... -0.7036411563347573\n",
      "     0.002934873174292047 0.0006839250007452072 ...   -0.71500913223598\n",
      "    0.0033052019938153688   0.00396758653701916 ... -0.7005916484972493\n",
      "    0.0038001031413460694 0.0010477508591710683 ... -0.7165231057078207\n",
      "     0.003494732533264813 0.0016380724835402165 ... -0.7536833826615417\n",
      "     0.002662294987849056 0.0022513123988249927 ... -0.7560367377104059\n",
      "     0.004285221129875127 0.0013898889352426409 ... -0.7482137741884753\n",
      "                      ...                   ... ...                 ...\n",
      "    0.0026783243078167575 0.0010344225023014937 ... -0.5054985301465126\n",
      "     0.003696637698924248  0.002188351390934675 ... -0.6337238337440033\n",
      "     0.004267621394050156   0.00158348350032031 ...  -0.640529377176074\n",
      "    0.0038404419501443044  0.002352763706445709 ... -0.6794328298601916\n",
      "    0.0036781394833621792 0.0016493385206045842 ...  -0.678032798711312\n",
      "     0.003940195867996401 0.0017754202252221643 ... -0.6031748379367765\n",
      "     0.003401885376384739 0.0026756025542601877 ... -0.7618648040834557\n",
      "    0.0028050434969807427 0.0019862859292584557 ... -0.6080835532610214\n",
      "     0.003994189303702082 0.0019007071336222105 ... -0.6548453289027915\n",
      "    0.0038714367226352093 0.0020810972755100935 ...  -0.664585601350782\n",
      "    0.0036512181420630487 0.0011298475651005384 ... -0.7707897791377014\n",
      "    Length = 1024 rows\n"
     ]
    }
   ],
   "source": [
    "print(borch_2006_galactic_mass_function)\n",
    "with open('../models/Borch2006_galaxy_mass_function.pkl', 'wb') as f:\n",
    "    pickle.dump(borch_2006_galactic_mass_function, f)"
   ]
  },
  {
   "cell_type": "markdown",
   "metadata": {},
   "source": [
    "#### Drory+ (2009)"
   ]
  },
  {
   "cell_type": "markdown",
   "metadata": {},
   "source": [
    "##### Galactic mass function parameters"
   ]
  },
  {
   "cell_type": "code",
   "execution_count": 40,
   "metadata": {},
   "outputs": [],
   "source": [
    "z_drory = np.array([0, .3, .5, .7, .9])\n",
    "z_range_drory = np.linspace(0, .9, num=n_mesh)\n",
    "\n",
    "norm_0_drory_b = phi_bell\n",
    "norm_3_drory_b = trunc_norm_dist(a=0, b=np.inf, loc=2.89, scale=.23, size=n_samples) * 1e-3 * (WMAP9.h ** 3.)\n",
    "norm_5_drory_b = trunc_norm_dist(a=0, b=np.inf, loc=1.74, scale=.09, size=n_samples) * 1e-3 * (WMAP9.h ** 3.)\n",
    "norm_7_drory_b = trunc_norm_dist(a=0, b=np.inf, loc=2.16, scale=.13, size=n_samples) * 1e-3 * (WMAP9.h ** 3.)\n",
    "norm_9_drory_b = trunc_norm_dist(a=0, b=np.inf, loc=2.94, scale=.13, size=n_samples) * 1e-3 * (WMAP9.h ** 3.)\n",
    "\n",
    "log_m_gal_0_drory_b = log_mgal_break_bell\n",
    "log_m_gal_3_drory_b = unc.normal(10.90, std=.11, n_samples=n_samples).distribution - 2 * np.log10(WMAP9.h)\n",
    "log_m_gal_5_drory_b = unc.normal(10.91, std=.11, n_samples=n_samples).distribution - 2 * np.log10(WMAP9.h)\n",
    "log_m_gal_7_drory_b = unc.normal(10.95, std=.10, n_samples=n_samples).distribution - 2 * np.log10(WMAP9.h)\n",
    "log_m_gal_9_drory_b = unc.normal(10.92, std=.10, n_samples=n_samples).distribution - 2 * np.log10(WMAP9.h)\n",
    "\n",
    "alpha_0_drory_b = alpha_bell\n",
    "alpha_3_drory_b = unc.normal(-1.06, std=.03, n_samples=n_samples).distribution\n",
    "alpha_5_drory_b = unc.normal(-1.05, std=.02, n_samples=n_samples).distribution\n",
    "alpha_7_drory_b = unc.normal(-.93, std=.04, n_samples=n_samples).distribution\n",
    "alpha_9_drory_b = unc.normal(-.91, std=.03, n_samples=n_samples).distribution\n",
    "\n",
    "norm_0_drory_f = np.zeros(n_samples)\n",
    "norm_3_drory_f = trunc_norm_dist(a=0, b=np.inf, loc=1.80, scale=.29, size=n_samples) * 1e-3 * (WMAP9.h ** 3)\n",
    "norm_5_drory_f = trunc_norm_dist(a=0, b=np.inf, loc=1.43, scale=.23, size=n_samples) * 1e-3 * (WMAP9.h ** 3)\n",
    "norm_7_drory_f = trunc_norm_dist(a=0, b=np.inf, loc=2.89, scale=.26, size=n_samples) * 1e-3 * (WMAP9.h ** 3)\n",
    "norm_9_drory_f = trunc_norm_dist(a=0, b=np.inf, loc=2.12, scale=.29, size=n_samples) * 1e-3 * (WMAP9.h ** 3)\n",
    "\n",
    "log_m_gal_0_drory_f = np.zeros(n_samples) - 2. * np.log10(WMAP9.h)\n",
    "log_m_gal_3_drory_f = unc.normal(9.63, std=.09, n_samples=n_samples).distribution - 2. * np.log10(WMAP9.h)\n",
    "log_m_gal_5_drory_f = unc.normal(9.70, std=.10, n_samples=n_samples).distribution - 2. * np.log10(WMAP9.h)\n",
    "log_m_gal_7_drory_f = unc.normal(9.75, std=.10, n_samples=n_samples).distribution - 2. * np.log10(WMAP9.h)\n",
    "log_m_gal_9_drory_f = unc.normal(9.85, std=.10, n_samples=n_samples).distribution - 2. * np.log10(WMAP9.h)\n",
    "\n",
    "alpha_0_drory_f = np.zeros(n_samples)\n",
    "alpha_3_drory_f = unc.normal(-1.73, std=.09, n_samples=n_samples).distribution\n",
    "alpha_5_drory_f = unc.normal(-1.76, std=.16, n_samples=n_samples).distribution\n",
    "alpha_7_drory_f = unc.normal(-1.65, std=.08, n_samples=n_samples).distribution\n",
    "alpha_9_drory_f = unc.normal(-1.65, std=.24, n_samples=n_samples).distribution"
   ]
  },
  {
   "cell_type": "markdown",
   "metadata": {},
   "source": [
    "##### Galactic mass function"
   ]
  },
  {
   "cell_type": "code",
   "execution_count": 41,
   "metadata": {},
   "outputs": [],
   "source": [
    "drory_2009_galactic_mass_function = DoubleSchechter2D(norm11=norm_0_drory_b,\n",
    "                                                      norm12=norm_3_drory_b,\n",
    "                                                      norm13=norm_5_drory_b,\n",
    "                                                      norm14=norm_7_drory_b,\n",
    "                                                      norm15=norm_9_drory_b,\n",
    "                                                      norm21=norm_0_drory_f,\n",
    "                                                      norm22=norm_3_drory_f,\n",
    "                                                      norm23=norm_5_drory_f,\n",
    "                                                      norm24=norm_7_drory_f,\n",
    "                                                      norm25=norm_9_drory_f,\n",
    "                                                      log_m_break11=log_m_gal_0_drory_b,\n",
    "                                                      log_m_break12=log_m_gal_3_drory_b,\n",
    "                                                      log_m_break13=log_m_gal_5_drory_b,\n",
    "                                                      log_m_break14=log_m_gal_7_drory_b,\n",
    "                                                      log_m_break15=log_m_gal_9_drory_b,\n",
    "                                                      log_m_break21=log_m_gal_0_drory_f,\n",
    "                                                      log_m_break22=log_m_gal_3_drory_f,\n",
    "                                                      log_m_break23=log_m_gal_5_drory_f,\n",
    "                                                      log_m_break24=log_m_gal_7_drory_f,\n",
    "                                                      log_m_break25=log_m_gal_9_drory_f,\n",
    "                                                      exp11=alpha_0_drory_b,\n",
    "                                                      exp12=alpha_3_drory_b,\n",
    "                                                      exp13=alpha_5_drory_b,\n",
    "                                                      exp14=alpha_7_drory_b,\n",
    "                                                      exp15=alpha_9_drory_b,\n",
    "                                                      exp21=alpha_0_drory_f,\n",
    "                                                      exp22=alpha_3_drory_f,\n",
    "                                                      exp23=alpha_5_drory_f,\n",
    "                                                      exp24=alpha_7_drory_f,\n",
    "                                                      exp25=alpha_9_drory_f,\n",
    "                                                      n_models=n_samples)"
   ]
  },
  {
   "cell_type": "code",
   "execution_count": 42,
   "metadata": {},
   "outputs": [
    {
     "name": "stdout",
     "output_type": "stream",
     "text": [
      "Model: DoubleSchechter2D\n",
      "Inputs: ('x', 'y')\n",
      "Outputs: ('z',)\n",
      "Model set size: 1024\n",
      "Parameters:\n",
      "            norm11                norm12        ...        exp25       \n",
      "    --------------------- --------------------- ... -------------------\n",
      "     0.004444500800014729 0.0010515023806905864 ... -1.5177763603359244\n",
      "    0.0040137065100987095 0.0009236462396699852 ... -1.8458458240591047\n",
      "     0.004555212284291535 0.0009413151816918178 ... -1.2971662028611188\n",
      "     0.004167937193554878 0.0009729079246001326 ...  -2.002154089132669\n",
      "    0.0042382524078053065 0.0009130930176104793 ... -1.7652356868455354\n",
      "    0.0043753993985503154 0.0008748137670363534 ...  -1.199562951762697\n",
      "     0.004659534604552072 0.0008739663358018646 ... -1.5341867800255884\n",
      "     0.004428888694392239 0.0009720792102612296 ... -2.1646784978269933\n",
      "     0.004746244872369328 0.0009173817541314974 ...  -1.916015397871441\n",
      "     0.004607177312237416 0.0008610091348870445 ... -1.8623474664612925\n",
      "                      ...                   ... ...                 ...\n",
      "     0.004754448325176602 0.0009774367743049107 ...  -1.463782956058819\n",
      "     0.004368405020916001 0.0010649803139711606 ... -1.5475822013979228\n",
      "     0.004166953716173817 0.0008305871700371556 ... -1.6463772777989396\n",
      "     0.004441664747236062 0.0009760615583082812 ... -1.9059508602796957\n",
      "    0.0043730677462511264 0.0010777128107656456 ... -1.6126617323230277\n",
      "     0.004533195083938836 0.0009454274539279536 ... -1.8781491759399342\n",
      "      0.00423977054000167 0.0009350662307376363 ...  -2.120250702491809\n",
      "      0.00433047697134183 0.0008529562425692845 ... -1.9315971788931634\n",
      "     0.004176605191849631 0.0010055059892987682 ... -1.5144628320416351\n",
      "     0.004880915629121086 0.0010095517762636025 ... -1.7942701127800114\n",
      "     0.004513218038774564 0.0010473069925993372 ...  -1.643706260635328\n",
      "    Length = 1024 rows\n"
     ]
    }
   ],
   "source": [
    "print(drory_2009_galactic_mass_function)\n",
    "with open('../models/Drory2009_galaxy_mass_function.pkl', 'wb') as f:\n",
    "    pickle.dump(drory_2009_galactic_mass_function, f)"
   ]
  },
  {
   "cell_type": "markdown",
   "metadata": {},
   "source": [
    "#### Ilbert+ (2010)"
   ]
  },
  {
   "cell_type": "markdown",
   "metadata": {},
   "source": [
    "##### Galactic mass function parameters"
   ]
  },
  {
   "cell_type": "code",
   "execution_count": 43,
   "metadata": {},
   "outputs": [],
   "source": [
    "z_ilbert = np.array([0, .3, .5, .7, .9, 1.1, 1.35, 1.75])\n",
    "z_range_ilbert = np.linspace(0, 1.75, num=n_mesh)\n",
    "\n",
    "norm_0_ilbert_q = phi_bell\n",
    "norm_3_ilbert_q = trunc_norm_dist(a=0, b=np.inf, loc=1.12, scale=.07, size=n_samples) * 1e-3\n",
    "norm_5_ilbert_q = trunc_norm_dist(a=0, b=np.inf, loc=.87, scale=.04, size=n_samples) * 1e-3\n",
    "norm_7_ilbert_q = trunc_norm_dist(a=0, b=np.inf, loc=1.15, scale=.03, size=n_samples) * 1e-3\n",
    "norm_9_ilbert_q = trunc_norm_dist(a=0, b=np.inf, loc=1.43, scale=.03, size=n_samples) * 1e-3\n",
    "norm_11_ilbert_q = trunc_norm_dist(a=0, b=np.inf, loc=.55, scale=.02, size=n_samples) * 1e-3\n",
    "norm_135_ilbert_q = trunc_norm_dist(a=0, b=np.inf, loc=.26, scale=.02, size=n_samples) * 1e-3\n",
    "norm_175_ilbert_q = trunc_norm_dist(a=0, b=np.inf, loc=.1, scale=.04, size=n_samples) * 1e-3\n",
    "\n",
    "log_m_gal_0_ilbert_q = log_mgal_break_bell\n",
    "log_m_gal_3_ilbert_q = unc.normal(11.13, std=.03, n_samples=n_samples).distribution\n",
    "log_m_gal_5_ilbert_q = unc.normal(10.97, std=.03, n_samples=n_samples).distribution\n",
    "log_m_gal_7_ilbert_q = unc.normal(10.83, std=.02, n_samples=n_samples).distribution\n",
    "log_m_gal_9_ilbert_q = unc.normal(10.77, std=.01, n_samples=n_samples).distribution\n",
    "log_m_gal_11_ilbert_q = unc.normal(10.7, std=.03, n_samples=n_samples).distribution\n",
    "log_m_gal_135_ilbert_q = unc.normal(10.64, std=.14, n_samples=n_samples).distribution\n",
    "log_m_gal_175_ilbert_q = unc.normal(10.67, std=.1, n_samples=n_samples).distribution\n",
    "\n",
    "alpha_0_ilbert_q = alpha_bell\n",
    "alpha_3_ilbert_q = unc.normal(-.91, std=.02, n_samples=n_samples).distribution\n",
    "alpha_5_ilbert_q = unc.normal(-.56, std=.03, n_samples=n_samples).distribution\n",
    "alpha_7_ilbert_q = unc.normal(-.25, std=.04, n_samples=n_samples).distribution\n",
    "alpha_9_ilbert_q = unc.normal(.04, std=.03, n_samples=n_samples).distribution\n",
    "alpha_11_ilbert_q = unc.normal(.25, std=.08, n_samples=n_samples).distribution\n",
    "alpha_135_ilbert_q = unc.normal(.5, std=.05, n_samples=n_samples).distribution\n",
    "alpha_175_ilbert_q = unc.normal(.5, std=.05, n_samples=n_samples).distribution\n",
    "\n",
    "norm_0_ilbert_i = np.zeros(n_samples)\n",
    "norm_3_ilbert_i = trunc_norm_dist(a=0, b=np.inf, loc=1.31, scale=.09, size=n_samples) * 1e-3\n",
    "norm_5_ilbert_i = trunc_norm_dist(a=0, b=np.inf, loc=.96, scale=.06, size=n_samples) * 1e-3\n",
    "norm_7_ilbert_i = trunc_norm_dist(a=0, b=np.inf, loc=1.02, scale=.06, size=n_samples) * 1e-3\n",
    "norm_9_ilbert_i = trunc_norm_dist(a=0, b=np.inf, loc=1.52, scale=.07, size=n_samples) * 1e-3\n",
    "norm_11_ilbert_i = trunc_norm_dist(a=0, b=np.inf, loc=1.05, scale=.04, size=n_samples) * 1e-3\n",
    "norm_135_ilbert_i = trunc_norm_dist(a=0, b=np.inf, loc=.45, scale=.03, size=n_samples) * 1e-3\n",
    "norm_175_ilbert_i = trunc_norm_dist(a=0, b=np.inf, loc=.23, scale=.02, size=n_samples) * 1e-3\n",
    "\n",
    "log_m_gal_0_ilbert_i = np.zeros(n_samples)\n",
    "log_m_gal_3_ilbert_i = unc.normal(10.96, std=.03, n_samples=n_samples).distribution\n",
    "log_m_gal_5_ilbert_i = unc.normal(10.93, std=.03, n_samples=n_samples).distribution\n",
    "log_m_gal_7_ilbert_i = unc.normal(10.85, std=.02, n_samples=n_samples).distribution\n",
    "log_m_gal_9_ilbert_i = unc.normal(10.73, std=.02, n_samples=n_samples).distribution\n",
    "log_m_gal_11_ilbert_i = unc.normal(10.77, std=.02, n_samples=n_samples).distribution\n",
    "log_m_gal_135_ilbert_i = unc.normal(10.94, std=.03, n_samples=n_samples).distribution\n",
    "log_m_gal_175_ilbert_i = unc.normal(11.02, std=.03, n_samples=n_samples).distribution\n",
    "\n",
    "alpha_0_ilbert_i = np.zeros(n_samples)\n",
    "alpha_3_ilbert_i = unc.normal(-1.20, std=.02, n_samples=n_samples).distribution\n",
    "alpha_5_ilbert_i = unc.normal(-1.02, std=.02, n_samples=n_samples).distribution\n",
    "alpha_7_ilbert_i = unc.normal(-.9, std=.03, n_samples=n_samples).distribution\n",
    "alpha_9_ilbert_i = unc.normal(-.54, std=.03, n_samples=n_samples).distribution\n",
    "alpha_11_ilbert_i = unc.normal(-.44, std=.04, n_samples=n_samples).distribution\n",
    "alpha_135_ilbert_i = unc.normal(-.88, std=.04, n_samples=n_samples).distribution\n",
    "alpha_175_ilbert_i = unc.normal(-1.03, std=.04, n_samples=n_samples).distribution\n",
    "\n",
    "norm_0_ilbert_h = np.zeros(n_samples)\n",
    "norm_3_ilbert_h = trunc_norm_dist(a=0, b=np.inf, loc=.36, scale=.06, size=n_samples) * 1e-3\n",
    "norm_5_ilbert_h = trunc_norm_dist(a=0, b=np.inf, loc=.46, scale=.06, size=n_samples) * 1e-3\n",
    "norm_7_ilbert_h = trunc_norm_dist(a=0, b=np.inf, loc=.65, scale=.05, size=n_samples) * 1e-3\n",
    "norm_9_ilbert_h = trunc_norm_dist(a=0, b=np.inf, loc=1., scale=.06, size=n_samples) * 1e-3\n",
    "norm_11_ilbert_h = trunc_norm_dist(a=0, b=np.inf, loc=.93, scale=.06, size=n_samples) * 1e-3\n",
    "norm_135_ilbert_h = trunc_norm_dist(a=0, b=np.inf, loc=.79, scale=.04, size=n_samples) * 1e-3\n",
    "norm_175_ilbert_h = trunc_norm_dist(a=0, b=np.inf, loc=.39, scale=.3, size=n_samples) * 1e-3\n",
    "\n",
    "log_m_gal_0_ilbert_h = np.zeros(n_samples)\n",
    "log_m_gal_3_ilbert_h = unc.normal(10.42, std=.07, n_samples=n_samples).distribution\n",
    "log_m_gal_5_ilbert_h = unc.normal(10.39, std=.05, n_samples=n_samples).distribution\n",
    "log_m_gal_7_ilbert_h = unc.normal(10.49, std=.03, n_samples=n_samples).distribution\n",
    "log_m_gal_9_ilbert_h = unc.normal(10.48, std=.02, n_samples=n_samples).distribution\n",
    "log_m_gal_11_ilbert_h = unc.normal(10.48, std=.02, n_samples=n_samples).distribution\n",
    "log_m_gal_135_ilbert_h = unc.normal(10.54, std=.02, n_samples=n_samples).distribution\n",
    "log_m_gal_175_ilbert_h = unc.normal(10.75, std=.7, n_samples=n_samples).distribution\n",
    "\n",
    "alpha_0_ilbert_h = np.zeros(n_samples)\n",
    "alpha_3_ilbert_h = unc.normal(-1.51, std=.04, n_samples=n_samples).distribution\n",
    "alpha_5_ilbert_h = unc.normal(-1.47, std=.03, n_samples=n_samples).distribution\n",
    "alpha_7_ilbert_h = unc.normal(-1.48, std=.02, n_samples=n_samples).distribution\n",
    "alpha_9_ilbert_h = unc.normal(-1.33, std=.02, n_samples=n_samples).distribution\n",
    "alpha_11_ilbert_h = unc.normal(-1.29, std=.02, n_samples=n_samples).distribution\n",
    "alpha_135_ilbert_h = unc.normal(-1.26, std=.02, n_samples=n_samples).distribution\n",
    "alpha_175_ilbert_h = unc.normal(-1.3, std=.13, n_samples=n_samples).distribution"
   ]
  },
  {
   "cell_type": "markdown",
   "metadata": {},
   "source": [
    "##### Galactic mass function"
   ]
  },
  {
   "cell_type": "code",
   "execution_count": 44,
   "metadata": {},
   "outputs": [],
   "source": [
    "ilbert_2010_galactic_mass_function = TripleSchechter2D(norm11=norm_0_ilbert_q,\n",
    "                                                       norm12=norm_3_ilbert_q,\n",
    "                                                       norm13=norm_5_ilbert_q,\n",
    "                                                       norm14=norm_7_ilbert_q,\n",
    "                                                       norm15=norm_9_ilbert_q,\n",
    "                                                       norm16=norm_11_ilbert_q,\n",
    "                                                       norm17=norm_135_ilbert_q,\n",
    "                                                       norm18=norm_175_ilbert_q,\n",
    "                                                       norm21=norm_0_ilbert_i,\n",
    "                                                       norm22=norm_3_ilbert_i,\n",
    "                                                       norm23=norm_5_ilbert_i,\n",
    "                                                       norm24=norm_7_ilbert_i,\n",
    "                                                       norm25=norm_9_ilbert_i,\n",
    "                                                       norm26=norm_11_ilbert_i,\n",
    "                                                       norm27=norm_135_ilbert_i,\n",
    "                                                       norm28=norm_175_ilbert_i,\n",
    "                                                       norm31=norm_0_ilbert_h,\n",
    "                                                       norm32=norm_3_ilbert_h,\n",
    "                                                       norm33=norm_5_ilbert_h,\n",
    "                                                       norm34=norm_7_ilbert_h,\n",
    "                                                       norm35=norm_9_ilbert_h,\n",
    "                                                       norm36=norm_11_ilbert_h,\n",
    "                                                       norm37=norm_135_ilbert_h,\n",
    "                                                       norm38=norm_175_ilbert_h,\n",
    "                                                       log_m_break11=log_m_gal_0_ilbert_q,\n",
    "                                                       log_m_break12=log_m_gal_3_ilbert_q,\n",
    "                                                       log_m_break13=log_m_gal_5_ilbert_q,\n",
    "                                                       log_m_break14=log_m_gal_7_ilbert_q,\n",
    "                                                       log_m_break15=log_m_gal_9_ilbert_q,\n",
    "                                                       log_m_break16=log_m_gal_11_ilbert_q,\n",
    "                                                       log_m_break17=log_m_gal_135_ilbert_q,\n",
    "                                                       log_m_break18=log_m_gal_175_ilbert_q,\n",
    "                                                       log_m_break21=log_m_gal_0_ilbert_i,\n",
    "                                                       log_m_break22=log_m_gal_3_ilbert_i,\n",
    "                                                       log_m_break23=log_m_gal_5_ilbert_i,\n",
    "                                                       log_m_break24=log_m_gal_7_ilbert_i,\n",
    "                                                       log_m_break25=log_m_gal_9_ilbert_i,\n",
    "                                                       log_m_break26=log_m_gal_11_ilbert_i,\n",
    "                                                       log_m_break27=log_m_gal_135_ilbert_i,\n",
    "                                                       log_m_break28=log_m_gal_175_ilbert_i,\n",
    "                                                       log_m_break31=log_m_gal_0_ilbert_h,\n",
    "                                                       log_m_break32=log_m_gal_3_ilbert_h,\n",
    "                                                       log_m_break33=log_m_gal_5_ilbert_h,\n",
    "                                                       log_m_break34=log_m_gal_7_ilbert_h,\n",
    "                                                       log_m_break35=log_m_gal_9_ilbert_h,\n",
    "                                                       log_m_break36=log_m_gal_11_ilbert_h,\n",
    "                                                       log_m_break37=log_m_gal_135_ilbert_h,\n",
    "                                                       log_m_break38=log_m_gal_175_ilbert_h,\n",
    "                                                       exp11=alpha_0_ilbert_q,\n",
    "                                                       exp12=alpha_3_ilbert_q,\n",
    "                                                       exp13=alpha_5_ilbert_q,\n",
    "                                                       exp14=alpha_7_ilbert_q,\n",
    "                                                       exp15=alpha_9_ilbert_q,\n",
    "                                                       exp16=alpha_11_ilbert_q,\n",
    "                                                       exp17=alpha_135_ilbert_q,\n",
    "                                                       exp18=alpha_175_ilbert_q,\n",
    "                                                       exp21=alpha_0_ilbert_i,\n",
    "                                                       exp22=alpha_3_ilbert_i,\n",
    "                                                       exp23=alpha_5_ilbert_i,\n",
    "                                                       exp24=alpha_7_ilbert_i,\n",
    "                                                       exp25=alpha_9_ilbert_i,\n",
    "                                                       exp26=alpha_11_ilbert_i,\n",
    "                                                       exp27=alpha_135_ilbert_i,\n",
    "                                                       exp28=alpha_175_ilbert_i,\n",
    "                                                       exp31=alpha_0_ilbert_h,\n",
    "                                                       exp32=alpha_3_ilbert_h,\n",
    "                                                       exp33=alpha_5_ilbert_h,\n",
    "                                                       exp34=alpha_7_ilbert_h,\n",
    "                                                       exp35=alpha_9_ilbert_h,\n",
    "                                                       exp36=alpha_11_ilbert_h,\n",
    "                                                       exp37=alpha_135_ilbert_h,\n",
    "                                                       exp38=alpha_175_ilbert_h,\n",
    "                                                       n_models=n_samples)"
   ]
  },
  {
   "cell_type": "code",
   "execution_count": 45,
   "metadata": {},
   "outputs": [
    {
     "name": "stdout",
     "output_type": "stream",
     "text": [
      "Model: TripleSchechter2D\n",
      "Inputs: ('x', 'y')\n",
      "Outputs: ('z',)\n",
      "Model set size: 1024\n",
      "Parameters:\n",
      "            norm11                norm12        ...        exp38       \n",
      "    --------------------- --------------------- ... -------------------\n",
      "     0.004444500800014729 0.0012659918394556072 ...  -1.241689453632588\n",
      "    0.0040137065100987095 0.0011421025695674744 ...  -1.290659155230998\n",
      "     0.004555212284291535 0.0011873061903597498 ... -1.3663722502581266\n",
      "     0.004167937193554878 0.0011313788568551074 ... -1.3866982910774506\n",
      "    0.0042382524078053065 0.0011391209272875514 ... -1.4665291185891394\n",
      "    0.0043753993985503154 0.0011499747909712848 ... -1.2504933105781877\n",
      "     0.004659534604552072 0.0011737043814547502 ...  -1.414624536375925\n",
      "     0.004428888694392239 0.0010938192400809239 ...  -1.413727788156545\n",
      "     0.004746244872369328 0.0010684871240393566 ... -1.3065780143892516\n",
      "     0.004607177312237416 0.0010645210069655515 ... -1.2153849302312771\n",
      "                      ...                   ... ...                 ...\n",
      "     0.004754448325176602 0.0013443187494221935 ... -1.2299409219933233\n",
      "     0.004368405020916001 0.0010140768010118025 ... -1.1770049675744572\n",
      "     0.004166953716173817  0.001075952556205216 ...  -1.270722492165081\n",
      "     0.004441664747236062 0.0010922256854412542 ...  -1.200456466728015\n",
      "    0.0043730677462511264 0.0010679084170020516 ... -1.3909367180738075\n",
      "     0.004533195083938836 0.0010351097613606642 ... -1.3461628325419397\n",
      "      0.00423977054000167 0.0011209139088500964 ... -1.3854859245869637\n",
      "      0.00433047697134183  0.001117547148366012 ...  -1.084435424518652\n",
      "     0.004176605191849631 0.0011575690950143245 ... -1.5061587188281027\n",
      "     0.004880915629121086 0.0011267793963644175 ... -1.4864635182301877\n",
      "     0.004513218038774564 0.0011758471200305344 ... -1.3043515940367567\n",
      "    Length = 1024 rows\n"
     ]
    }
   ],
   "source": [
    "print(ilbert_2010_galactic_mass_function)\n",
    "with open('../models/Ilbert2010_galaxy_mass_function.pkl', 'wb') as f:\n",
    "    pickle.dump(ilbert_2010_galactic_mass_function, f)"
   ]
  },
  {
   "cell_type": "markdown",
   "metadata": {},
   "source": [
    "#### Bundy+ (2009)"
   ]
  },
  {
   "cell_type": "markdown",
   "metadata": {},
   "source": [
    "##### Pair fraction parameters"
   ]
  },
  {
   "cell_type": "code",
   "execution_count": 46,
   "metadata": {},
   "outputs": [],
   "source": [
    "m_bundy = unc.normal(1.6, std=1.6, n_samples=n_samples).distribution\n",
    "fp_bundy = trunc_norm_dist(a=0, b=np.inf, loc=.03, scale=.02, size=n_samples) / (1.55 ** m_bundy)\n",
    "q_min_bundy = np.repeat(.25, n_samples)\n",
    "r_proj_bundy = np.repeat(20, n_samples)"
   ]
  },
  {
   "cell_type": "markdown",
   "metadata": {},
   "source": [
    "##### Pair fraction"
   ]
  },
  {
   "cell_type": "code",
   "execution_count": 47,
   "metadata": {},
   "outputs": [],
   "source": [
    "bundy_pair_frac = PairFraction3D(normalization=fp_bundy,\n",
    "                                 exponent=m_bundy,\n",
    "                                 q_min=q_min_bundy,\n",
    "                                 n_models=n_samples)"
   ]
  },
  {
   "cell_type": "code",
   "execution_count": 48,
   "metadata": {},
   "outputs": [
    {
     "name": "stdout",
     "output_type": "stream",
     "text": [
      "Model: PairFraction3D\n",
      "Inputs: ('x0', 'x1', 'x2')\n",
      "Outputs: ('x0',)\n",
      "Model set size: 1024\n",
      "Parameters:\n",
      "        normalization            exponent       q_min\n",
      "    --------------------- --------------------- -----\n",
      "        0.015705811713284    1.9924411408614282  0.25\n",
      "     0.002183624603431808     6.740958818835651  0.25\n",
      "     0.005279482067718265   -0.8461910684883924  0.25\n",
      "    0.0076970382944710584     1.967707331230741  0.25\n",
      "     0.011629234372083328    1.3073397121792603  0.25\n",
      "     0.025435772295819902    1.6545137170928301  0.25\n",
      "       0.1313455911024606   -1.8151348938888865  0.25\n",
      "      0.02478180548248703 -0.045083650672608444  0.25\n",
      "     0.028872559763343388     1.410005682132649  0.25\n",
      "      0.00672058371836257    1.3510502219179932  0.25\n",
      "                      ...                   ...   ...\n",
      "     0.005390135952406023    3.1502063835218284  0.25\n",
      "     0.003916234812198982    3.3047812002003165  0.25\n",
      "      0.05556867695134097   -0.5112417176413149  0.25\n",
      "      0.04029836576167828  -0.10324401659996774  0.25\n",
      "     0.007249866671784451    0.8406649650561012  0.25\n",
      "     0.031515746419729776    0.6241406843607612  0.25\n",
      "     0.013559503254033699     1.813547068511083  0.25\n",
      "     0.021540982163355513   -1.4007871336375182  0.25\n",
      "      0.01287954512024574      2.81967546707234  0.25\n",
      "     0.007407731204338466     2.129607118222154  0.25\n",
      "     0.003690078887872198    2.6301059153981665  0.25\n",
      "    Length = 1024 rows\n"
     ]
    }
   ],
   "source": [
    "print(bundy_pair_frac)\n",
    "with open('../models/Bundy2009_pair_fraction.pkl', 'wb') as f:\n",
    "    pickle.dump(bundy_pair_frac, f)"
   ]
  },
  {
   "cell_type": "markdown",
   "metadata": {},
   "source": [
    "#### de Ravel+ (2009)"
   ]
  },
  {
   "cell_type": "markdown",
   "metadata": {},
   "source": [
    "##### Pair fraction parameters"
   ]
  },
  {
   "cell_type": "code",
   "execution_count": 49,
   "metadata": {},
   "outputs": [],
   "source": [
    "log_m_min_de_ravel = np.array([9.5, 10, 10.5])\n",
    "fp_95_de_ravel = trunc_norm_dist(a=0, b=np.inf, loc=.0390, scale=.0342, size=n_samples)\n",
    "fp_10_de_ravel = trunc_norm_dist(a=0, b=np.inf, loc=.0728, scale=.0681, size=n_samples)\n",
    "fp_105_de_ravel = trunc_norm_dist(a=0, b=np.inf, loc=.167, scale=.195, size=n_samples)\n",
    "\n",
    "m_95_de_ravel = unc.normal(3.13, std=1.54, n_samples=n_samples).distribution\n",
    "m_10_de_ravel = unc.normal(2.04, std=1.65, n_samples=n_samples).distribution\n",
    "m_105_de_ravel = unc.normal(.52, std=2.07, n_samples=n_samples).distribution\n",
    "\n",
    "q_min_de_ravel = np.repeat(.25, n_samples)\n",
    "r_proj_de_ravel = np.repeat(100, n_samples)"
   ]
  },
  {
   "cell_type": "markdown",
   "metadata": {},
   "source": [
    "##### Pair fraction"
   ]
  },
  {
   "cell_type": "code",
   "execution_count": 50,
   "metadata": {},
   "outputs": [],
   "source": [
    "de_ravel_pair_frac = PairFraction3D_3bins(norm1=fp_95_de_ravel,\n",
    "                                          norm2=fp_10_de_ravel,\n",
    "                                          norm3=fp_105_de_ravel,\n",
    "                                          exp1=m_95_de_ravel,\n",
    "                                          exp2=m_10_de_ravel,\n",
    "                                          exp3=m_105_de_ravel,\n",
    "                                          q_min=q_min_de_ravel,\n",
    "                                          n_models=n_samples)"
   ]
  },
  {
   "cell_type": "code",
   "execution_count": 51,
   "metadata": {},
   "outputs": [
    {
     "name": "stdout",
     "output_type": "stream",
     "text": [
      "Model: PairFraction3D_3bins\n",
      "Inputs: ('x0', 'x1', 'x2')\n",
      "Outputs: ('x0',)\n",
      "Model set size: 1024\n",
      "Parameters:\n",
      "           norm1                norm2         ...          exp3         q_min\n",
      "    -------------------- -------------------- ... --------------------- -----\n",
      "    0.051753999658818634  0.06729461855778213 ...    0.6391411186527644  0.25\n",
      "    0.032367062153462446 0.035742262785677846 ...   -1.0659187554883862  0.25\n",
      "      0.0883319808989295   0.2032736765065195 ...   -0.8763713562048474  0.25\n",
      "    0.031853544176957335  0.17609956118198253 ...   -1.8961352286894133  0.25\n",
      "    0.013157601495919765   0.1339753376950324 ...    2.3386364727034223  0.25\n",
      "     0.05623455494806967  0.00675290987261612 ...   -0.2667062397738761  0.25\n",
      "     0.05059612098197266  0.04983933575249017 ...    0.9906624148459074  0.25\n",
      "     0.07208435158278105  0.16043304194615154 ...    -2.794532593749413  0.25\n",
      "      0.0516313105852826    0.034600541077659 ... 0.0022383427976784276  0.25\n",
      "      0.0935336893355978  0.16043933171086694 ...    2.3859589745462335  0.25\n",
      "                     ...                  ... ...                   ...   ...\n",
      "    0.015001212303143167 0.057079243272796495 ...   -0.7337787440589894  0.25\n",
      "       0.051344822729783  0.05948432682052468 ...    3.2127061094284435  0.25\n",
      "    0.040707196478586144  0.18224630357256777 ...   -0.5435576261276118  0.25\n",
      "    0.023903929831708776  0.02571400736124449 ...   0.13427121747622134  0.25\n",
      "     0.01918888663411622   0.0800814704993332 ...   -3.0379299665439756  0.25\n",
      "    0.058860653665632715  0.11350022455439229 ...     4.473951208472726  0.25\n",
      "    0.015865271275567912  0.08631178740736029 ...    3.8454144454597086  0.25\n",
      "     0.03951733206166414  0.12679998601128317 ...    1.1053194882970445  0.25\n",
      "     0.03290688642162365  0.05991413320511598 ...   -2.0507280582750456  0.25\n",
      "    0.061577761659589794 0.012819940086221317 ...    1.8051719868196034  0.25\n",
      "    0.062399291571460985  0.10453999851629464 ...     2.506661927734269  0.25\n",
      "    Length = 1024 rows\n"
     ]
    }
   ],
   "source": [
    "print(de_ravel_pair_frac)\n",
    "with open('../models/deRavel2009_pair_fraction.pkl', 'wb') as f:\n",
    "    pickle.dump(de_ravel_pair_frac, f)"
   ]
  },
  {
   "cell_type": "markdown",
   "metadata": {},
   "source": [
    "#### Lopez-Sanjuan+ (2012)"
   ]
  },
  {
   "cell_type": "markdown",
   "metadata": {},
   "source": [
    "##### Pair fraction parameters"
   ]
  },
  {
   "cell_type": "code",
   "execution_count": 52,
   "metadata": {},
   "outputs": [],
   "source": [
    "fp_lopez = trunc_norm_dist(a=0, b=np.inf, loc=.019, scale=.003, size=n_samples)\n",
    "m_lopez = unc.normal(1.4, std=.3, n_samples=n_samples).distribution\n",
    "q_min_lopez = np.repeat(.25, n_samples)\n",
    "r_proj_lopez = np.repeat(30, n_samples)"
   ]
  },
  {
   "cell_type": "markdown",
   "metadata": {},
   "source": [
    "##### Pair fraction"
   ]
  },
  {
   "cell_type": "code",
   "execution_count": 53,
   "metadata": {},
   "outputs": [],
   "source": [
    "lopez_pair_frac = PairFraction3D(normalization=fp_lopez,\n",
    "                                 exponent=m_lopez,\n",
    "                                 q_min=q_min_lopez,\n",
    "                                 n_models=n_samples)"
   ]
  },
  {
   "cell_type": "code",
   "execution_count": 54,
   "metadata": {},
   "outputs": [
    {
     "name": "stdout",
     "output_type": "stream",
     "text": [
      "Model: PairFraction3D\n",
      "Inputs: ('x0', 'x1', 'x2')\n",
      "Outputs: ('x0',)\n",
      "Model set size: 1024\n",
      "Parameters:\n",
      "       normalization          exponent      q_min\n",
      "    -------------------- ------------------ -----\n",
      "     0.02104748753485415 1.3711788314543725  0.25\n",
      "    0.018533976922857437 1.8620693615728363  0.25\n",
      "    0.014567846760287651 0.8333496699497073  0.25\n",
      "    0.016728901387204433   1.31680581779744  0.25\n",
      "    0.021417912572155008 0.9996862866483309  0.25\n",
      "     0.01653837701606301 1.5265118566992824  0.25\n",
      "    0.014458498134747833   1.11655509477576  0.25\n",
      "    0.012862605535491053 1.4546157527671049  0.25\n",
      "    0.017097616174410152 1.2955290601891314  0.25\n",
      "     0.01741277787750709  1.273180021309833  0.25\n",
      "                     ...                ...   ...\n",
      "    0.018450279644427865 1.3973781318877982  0.25\n",
      "    0.020452732134044204 1.5730899520780652  0.25\n",
      "    0.020131219668803633 1.8420417086260352  0.25\n",
      "    0.015643947222933163 1.3518400552012126  0.25\n",
      "    0.016431209082794024 1.6078157822731107  0.25\n",
      "     0.02261981197322143  1.642860687026174  0.25\n",
      "    0.021543858111191704 1.5640220125616038  0.25\n",
      "    0.019179613915250616 1.5431014396333953  0.25\n",
      "    0.017023727049344604 1.5191988950797461  0.25\n",
      "    0.015006473750811839 2.2523407268645568  0.25\n",
      "     0.01960701244185147  1.126303166952869  0.25\n",
      "    Length = 1024 rows\n"
     ]
    }
   ],
   "source": [
    "print(lopez_pair_frac)\n",
    "with open('../models/Lopez2012_pair_fraction.pkl', 'wb') as f:\n",
    "    pickle.dump(lopez_pair_frac, f)"
   ]
  },
  {
   "cell_type": "markdown",
   "metadata": {},
   "source": [
    "#### Kitzbichler & White (2008)"
   ]
  },
  {
   "cell_type": "markdown",
   "metadata": {},
   "source": [
    "##### Merger timescale normalization"
   ]
  },
  {
   "cell_type": "code",
   "execution_count": 55,
   "metadata": {},
   "outputs": [],
   "source": [
    "norm_kw = np.repeat(2.2, n_samples)"
   ]
  },
  {
   "cell_type": "markdown",
   "metadata": {},
   "source": [
    "##### Merger timescale"
   ]
  },
  {
   "cell_type": "code",
   "execution_count": 56,
   "metadata": {},
   "outputs": [],
   "source": [
    "kw_merger_timescale = Timescale3D(normalization=norm_kw,\n",
    "                                  r_proj=r_proj_lopez,\n",
    "                                  n_models=n_samples)"
   ]
  },
  {
   "cell_type": "code",
   "execution_count": 57,
   "metadata": {},
   "outputs": [
    {
     "name": "stdout",
     "output_type": "stream",
     "text": [
      "Model: Timescale3D\n",
      "Inputs: ('x0', 'x1', 'x2')\n",
      "Outputs: ('x0',)\n",
      "Model set size: 1024\n",
      "Parameters:\n",
      "    normalization r_proj\n",
      "    ------------- ------\n",
      "              2.2   30.0\n",
      "              2.2   30.0\n",
      "              2.2   30.0\n",
      "              2.2   30.0\n",
      "              2.2   30.0\n",
      "              2.2   30.0\n",
      "              2.2   30.0\n",
      "              2.2   30.0\n",
      "              2.2   30.0\n",
      "              2.2   30.0\n",
      "              ...    ...\n",
      "              2.2   30.0\n",
      "              2.2   30.0\n",
      "              2.2   30.0\n",
      "              2.2   30.0\n",
      "              2.2   30.0\n",
      "              2.2   30.0\n",
      "              2.2   30.0\n",
      "              2.2   30.0\n",
      "              2.2   30.0\n",
      "              2.2   30.0\n",
      "              2.2   30.0\n",
      "    Length = 1024 rows\n"
     ]
    }
   ],
   "source": [
    "print(kw_merger_timescale)\n",
    "with open('../models/KitzbichlerWhigte2008_merger_timescale.pkl', 'wb') as f:\n",
    "    pickle.dump(kw_merger_timescale, f)"
   ]
  },
  {
   "cell_type": "markdown",
   "metadata": {},
   "source": [
    "#### Lotz+ (2010)"
   ]
  },
  {
   "cell_type": "markdown",
   "metadata": {},
   "source": [
    "##### Merger timescale normalization"
   ]
  },
  {
   "cell_type": "code",
   "execution_count": 58,
   "metadata": {},
   "outputs": [],
   "source": [
    "norm_lotz = np.repeat(1.1, n_samples)"
   ]
  },
  {
   "cell_type": "markdown",
   "metadata": {},
   "source": [
    "##### Merger timescale"
   ]
  },
  {
   "cell_type": "code",
   "execution_count": 59,
   "metadata": {},
   "outputs": [],
   "source": [
    "lotz_merger_timescale = Timescale3D(normalization=norm_lotz,\n",
    "                                    r_proj=r_proj_de_ravel,\n",
    "                                    n_models=n_samples)"
   ]
  },
  {
   "cell_type": "code",
   "execution_count": 60,
   "metadata": {},
   "outputs": [
    {
     "name": "stdout",
     "output_type": "stream",
     "text": [
      "Model: Timescale3D\n",
      "Inputs: ('x0', 'x1', 'x2')\n",
      "Outputs: ('x0',)\n",
      "Model set size: 1024\n",
      "Parameters:\n",
      "    normalization r_proj\n",
      "    ------------- ------\n",
      "              1.1  100.0\n",
      "              1.1  100.0\n",
      "              1.1  100.0\n",
      "              1.1  100.0\n",
      "              1.1  100.0\n",
      "              1.1  100.0\n",
      "              1.1  100.0\n",
      "              1.1  100.0\n",
      "              1.1  100.0\n",
      "              1.1  100.0\n",
      "              ...    ...\n",
      "              1.1  100.0\n",
      "              1.1  100.0\n",
      "              1.1  100.0\n",
      "              1.1  100.0\n",
      "              1.1  100.0\n",
      "              1.1  100.0\n",
      "              1.1  100.0\n",
      "              1.1  100.0\n",
      "              1.1  100.0\n",
      "              1.1  100.0\n",
      "              1.1  100.0\n",
      "    Length = 1024 rows\n"
     ]
    }
   ],
   "source": [
    "print(lotz_merger_timescale)\n",
    "with open('../models/Lotz2010_merger_timescale.pkl', 'wb') as f:\n",
    "    pickle.dump(lotz_merger_timescale, f)"
   ]
  },
  {
   "cell_type": "markdown",
   "metadata": {
    "toc-hr-collapsed": true
   },
   "source": [
    "## Main models"
   ]
  },
  {
   "cell_type": "markdown",
   "metadata": {},
   "source": [
    "### Mingarelli+ 2017 Derived $\\Phi_{\\rm{BHB}, 0}$"
   ]
  },
  {
   "cell_type": "code",
   "execution_count": 61,
   "metadata": {},
   "outputs": [],
   "source": [
    "N_225 = np.rint(trunc_norm_dist(a=0, b=np.inf, loc=91, scale=7, size=n_samples))  # can't have fractions of a SMBHB\n",
    "distance = 225. * u.Mpc\n",
    "\n",
    "z_225 = z_at_value(WMAP9.angular_diameter_distance, distance, zmax=1.)\n",
    "vol = WMAP9.comoving_volume(z_225).value"
   ]
  },
  {
   "cell_type": "code",
   "execution_count": 62,
   "metadata": {},
   "outputs": [],
   "source": [
    "local_binary_number_density = Const1D(amplitude=N_225/vol, n_models=n_samples)"
   ]
  },
  {
   "cell_type": "code",
   "execution_count": 63,
   "metadata": {},
   "outputs": [
    {
     "data": {
      "text/latex": [
       "$\\displaystyle \\phi_{\\rm{BHB}, 0} = (1.6_{-0.1}^{+0.1}) \\times 10^{-6.0}\\;\\rm{Mpc}^{-3}$"
      ],
      "text/plain": [
       "<IPython.core.display.Math object>"
      ]
     },
     "metadata": {},
     "output_type": "display_data"
    }
   ],
   "source": [
    "quantiles = np.quantile(local_binary_number_density(0), q=[.16, .5, .84])\n",
    "order = 10. ** np.floor(np.log10(quantiles[1]))\n",
    "display(Math(r'\\phi_{{\\rm{{BHB}}, 0}} = ({0:.1f}_{{-{1:.1f}}}^{{+{2:.1f}}})'\n",
    "             r' \\times 10^{{{3}}}\\;\\rm{{Mpc}}^{{-3}}'.format(quantiles[1] / order,\n",
    "                                          (quantiles[1] - quantiles[0]) / order,\n",
    "                                          (quantiles[2] - quantiles[1]) / order,\n",
    "                                          np.log10(order))))"
   ]
  },
  {
   "cell_type": "code",
   "execution_count": 64,
   "metadata": {},
   "outputs": [
    {
     "name": "stdout",
     "output_type": "stream",
     "text": [
      "Model: Const1D\n",
      "Inputs: ('x',)\n",
      "Outputs: ('y',)\n",
      "Model set size: 1024\n",
      "Parameters:\n",
      "          amplitude       \n",
      "    ----------------------\n",
      "     1.657143611863309e-06\n",
      "    1.3898623841434204e-06\n",
      "     1.728418605921946e-06\n",
      "     1.585868617804672e-06\n",
      "     1.585868617804672e-06\n",
      "    1.5145936237460352e-06\n",
      "    1.7105998574072867e-06\n",
      "    1.4789561267167167e-06\n",
      "    1.7105998574072867e-06\n",
      "    1.6036873663193313e-06\n",
      "                       ...\n",
      "    1.6749623603779682e-06\n",
      "     1.585868617804672e-06\n",
      "    1.7105998574072867e-06\n",
      "    1.6927811088926275e-06\n",
      "    1.6036873663193313e-06\n",
      "    1.8531498455245607e-06\n",
      "    1.6036873663193313e-06\n",
      "     1.728418605921946e-06\n",
      "    1.6393248633486498e-06\n",
      "    1.4611373782020575e-06\n",
      "     1.799693599980583e-06\n",
      "    Length = 1024 rows\n"
     ]
    }
   ],
   "source": [
    "print(local_binary_number_density)\n",
    "with open('../models/M17_number_density.pkl', 'wb') as f:\n",
    "    pickle.dump(local_binary_number_density, f)"
   ]
  },
  {
   "cell_type": "markdown",
   "metadata": {
    "toc-hr-collapsed": true
   },
   "source": [
    "### AGN-proxy model"
   ]
  },
  {
   "cell_type": "markdown",
   "metadata": {},
   "source": [
    "#### Normalization"
   ]
  },
  {
   "cell_type": "code",
   "execution_count": 65,
   "metadata": {},
   "outputs": [],
   "source": [
    "# Add normalization masses to our mass range explicitly\n",
    "log_m_bh_range_norm = np.sort(np.append(log_m_bh_range, log_m_bh_min_mingarelli))\n",
    "log_m_bh_range_norm = np.sort(np.append(log_m_bh_range_norm, log_m_bh_max_mingarelli))\n",
    "log_m_bh_range_norm = log_m_bh_range_norm[(log_m_bh_range_norm >= log_m_bh_min_mingarelli)\n",
    "                                          & (log_m_bh_range_norm <= log_m_bh_max_mingarelli)]"
   ]
  },
  {
   "cell_type": "code",
   "execution_count": 66,
   "metadata": {},
   "outputs": [],
   "source": [
    "mm, zz, qq = np.meshgrid(log_m_bh_range_norm, z_range, q_range, indexing='ij')"
   ]
  },
  {
   "cell_type": "code",
   "execution_count": 67,
   "metadata": {},
   "outputs": [
    {
     "data": {
      "application/vnd.jupyter.widget-view+json": {
       "model_id": "29d35c8772eb4815a187935a3c60a90f",
       "version_major": 2,
       "version_minor": 0
      },
      "text/plain": [
       "  0%|          | 0/18432 [00:00<?, ?it/s]"
      ]
     },
     "metadata": {},
     "output_type": "display_data"
    }
   ],
   "source": [
    "with mp.Pool(mp.cpu_count()) as p:\n",
    "    differential_quasar_population = list(p.starmap(quasar_formation_rate,\n",
    "                             tqdm(zip(mm.ravel(), zz.ravel(), qq.ravel()),\n",
    "                      total=len(mm.ravel()))))\n",
    "\n",
    "differential_quasar_population = np.reshape(differential_quasar_population, np.repeat(mm[..., np.newaxis], n_samples, axis=-1).shape)"
   ]
  },
  {
   "cell_type": "code",
   "execution_count": 68,
   "metadata": {},
   "outputs": [
    {
     "data": {
      "text/latex": [
       "$\\displaystyle \\phi_{\\rm{AGN}, 0} = (8.3_{-4.6}^{+10.5}) \\times 10^{-7.0}\\;\\rm{Mpc}^{-3}$"
      ],
      "text/plain": [
       "<IPython.core.display.Math object>"
      ]
     },
     "metadata": {},
     "output_type": "display_data"
    }
   ],
   "source": [
    "local_quasar_number_density = trapz(trapz(differential_quasar_population, log_m_bh_range_norm, axis=0), q_range, axis=1)[0]\n",
    "\n",
    "quantiles = np.quantile(local_quasar_number_density, q=[.16, .5, .84])\n",
    "order = 10. ** np.floor(np.log10(quantiles[1]))\n",
    "display(Math(r'\\phi_{{\\rm{{AGN}}, 0}} = ({0:.1f}_{{-{1:.1f}}}^{{+{2:.1f}}})'\n",
    "             r' \\times 10^{{{3}}}\\;\\rm{{Mpc}}^{{-3}}'.format(quantiles[1] / order,\n",
    "                                          (quantiles[1] - quantiles[0]) / order,\n",
    "                                          (quantiles[2] - quantiles[1]) / order,\n",
    "                                          np.log10(order))))"
   ]
  },
  {
   "cell_type": "code",
   "execution_count": 69,
   "metadata": {},
   "outputs": [
    {
     "data": {
      "text/latex": [
       "$\\displaystyle N_{0} = 1.9_{-1.1}^{+2.4}$"
      ],
      "text/plain": [
       "<IPython.core.display.Math object>"
      ]
     },
     "metadata": {},
     "output_type": "display_data"
    }
   ],
   "source": [
    "binary_normalization = Const3D(local_binary_number_density.amplitude / local_quasar_number_density, n_models=n_samples)\n",
    "\n",
    "quantiles = np.quantile(binary_normalization.amplitude, q=[.16, .5, .84])\n",
    "display(Math(r'N_{{0}} = {0:.1f}_{{-{1:.1f}}}^{{+{2:.1f}}}'.format(quantiles[1],\n",
    "                                          quantiles[1] - quantiles[0],\n",
    "                                          quantiles[2] - quantiles[1])))"
   ]
  },
  {
   "cell_type": "code",
   "execution_count": 70,
   "metadata": {},
   "outputs": [
    {
     "name": "stdout",
     "output_type": "stream",
     "text": [
      "Model: Const3D\n",
      "Inputs: ('x0', 'x1', 'x2')\n",
      "Outputs: ('x0',)\n",
      "Model set size: 1024\n",
      "Parameters:\n",
      "        amplitude     \n",
      "    ------------------\n",
      "     2.841031811615987\n",
      "    1.2833927595873684\n",
      "    5.3685057037291575\n",
      "    1.4489487817825086\n",
      "    1.3673315123394203\n",
      "    1.2863184224495534\n",
      "    1.0258442914976076\n",
      "    2.0087514767337646\n",
      "    0.5448963768916456\n",
      "    1.3133359077049103\n",
      "                   ...\n",
      "    2.9441855470482143\n",
      "     2.780910955600359\n",
      "     5.996093744899052\n",
      "    3.0220049194512426\n",
      "    1.3249818545315055\n",
      "     4.574952951272145\n",
      "    1.9857676543256308\n",
      "    0.8921349018557064\n",
      "    1.2075332428141372\n",
      "    0.9246524183077428\n",
      "     3.856832095704369\n",
      "    Length = 1024 rows\n"
     ]
    }
   ],
   "source": [
    "print(binary_normalization)\n",
    "with open('../models/BinaryNormalization.pkl', 'wb') as f:\n",
    "    pickle.dump(binary_normalization, f)"
   ]
  },
  {
   "cell_type": "markdown",
   "metadata": {},
   "source": [
    "#### Full AGN-SMBHB model"
   ]
  },
  {
   "cell_type": "code",
   "execution_count": 71,
   "metadata": {},
   "outputs": [],
   "source": [
    "differential_smbhb_population = QuasarProxyBinaries(binary_normalization=binary_normalization.amplitude,\n",
    "                                                    log_formation_rate_normalization=log_formation_rate_normalization,\n",
    "                                                    log_formation_rate_power_law_slope=log_formation_rate_power_law_slope,\n",
    "                                                    log_mass_break_normalization=log_mass_break_normalization,\n",
    "                                                    log_mass_break_k_1=log_mass_break_k_1,\n",
    "                                                    log_mass_break_k_2=log_mass_break_k_2,\n",
    "                                                    low_mass_slope=low_mass_slope,\n",
    "                                                    high_mass_slope_normalization=high_mass_slope_normalization,\n",
    "                                                    high_mass_slope_k_1=high_mass_slope_k_1,\n",
    "                                                    high_mass_slope_k_2=high_mass_slope_k_2,\n",
    "                                                    z_ref=z_ref,\n",
    "                                                    mu_log_q=median_log_q,\n",
    "                                                    std_log_q=var_log_q,\n",
    "                                                    n_models=n_samples)"
   ]
  },
  {
   "cell_type": "code",
   "execution_count": 72,
   "metadata": {},
   "outputs": [
    {
     "name": "stdout",
     "output_type": "stream",
     "text": [
      "Model: QuasarProxyBinaries\n",
      "Inputs: ('x0', 'x1', 'x2')\n",
      "Outputs: ('x0',)\n",
      "Model set size: 1024\n",
      "Parameters:\n",
      "    binary_normalization log_formation_rate_normalization ... mu_log_q std_log_q\n",
      "    -------------------- -------------------------------- ... -------- ---------\n",
      "       2.841031811615987               -3.788930191075275 ...      0.0       0.5\n",
      "      1.2833927595873684               -3.855437435025686 ...      0.0       0.5\n",
      "      5.3685057037291575               -3.807947865893515 ...      0.0       0.5\n",
      "      1.4489487817825086              -3.8536622071446196 ...      0.0       0.5\n",
      "      1.3673315123394203               -3.787858299690958 ...      0.0       0.5\n",
      "      1.2863184224495534               -3.816559792252539 ...      0.0       0.5\n",
      "      1.0258442914976076               -3.833666339926486 ...      0.0       0.5\n",
      "      2.0087514767337646              -3.8225391122735624 ...      0.0       0.5\n",
      "      0.5448963768916456               -3.833689560659188 ...      0.0       0.5\n",
      "      1.3133359077049103              -3.8545851804554325 ...      0.0       0.5\n",
      "                     ...                              ... ...      ...       ...\n",
      "      2.9441855470482143              -3.7878864579914335 ...      0.0       0.5\n",
      "       2.780910955600359              -3.8313088620713884 ...      0.0       0.5\n",
      "       5.996093744899052               -3.793369170747181 ...      0.0       0.5\n",
      "      3.0220049194512426              -3.8450015403311855 ...      0.0       0.5\n",
      "      1.3249818545315055               -3.853416737575999 ...      0.0       0.5\n",
      "       4.574952951272145               -3.827510177943757 ...      0.0       0.5\n",
      "      1.9857676543256308               -3.839884595103359 ...      0.0       0.5\n",
      "      0.8921349018557064              -3.8255547227501614 ...      0.0       0.5\n",
      "      1.2075332428141372              -3.8481692611877776 ...      0.0       0.5\n",
      "      0.9246524183077428                -3.81660800709556 ...      0.0       0.5\n",
      "       3.856832095704369              -3.8339326076502074 ...      0.0       0.5\n",
      "    Length = 1024 rows\n"
     ]
    }
   ],
   "source": [
    "print(differential_smbhb_population)\n",
    "with open('../models/SMBHBPopulation.pkl', 'wb') as f:\n",
    "    pickle.dump(differential_smbhb_population, f)"
   ]
  },
  {
   "cell_type": "markdown",
   "metadata": {
    "toc-hr-collapsed": true
   },
   "source": [
    "### Goulding+ (2019)"
   ]
  },
  {
   "cell_type": "markdown",
   "metadata": {},
   "source": [
    "#### Normalization"
   ]
  },
  {
   "cell_type": "code",
   "execution_count": 73,
   "metadata": {},
   "outputs": [],
   "source": [
    "# # Get data used for Goulding+ (2019) number densities, as well as calculate their local number density of sources\n",
    "# zqso, nz1_, nz2_, nz3_ = np.loadtxt('../data/external/qso2_num_density.txt', unpack=True)\n",
    "\n",
    "# nz1_ = u.Quantity(nz1_, 1./u.Mpc**3)*.25\n",
    "# nz2_ = u.Quantity(nz2_, 1./u.Mpc**3)*.25\n",
    "# nz3_ = u.Quantity(nz3_, 1./u.Mpc**3)*.25\n",
    "\n",
    "# oh2index = np.where(zqso==0.2)\n",
    "# nz1 = (nz1_[oh2index]-nz1_[0])+nz1_\n",
    "# nz2 = (nz2_[oh2index]-nz2_[0])+nz2_\n",
    "# nz3 = (nz3_[oh2index]-nz3_[0])+nz3_\n",
    "\n",
    "# nd_goulding = np.vstack([nz3, nz2, nz1]) * 1. / u.Mpc ** 3\n",
    "\n",
    "# nz_goulding = UnivariateSpline(zqso, nd_goulding[1], s=0)\n",
    "# nz_goulding_l = UnivariateSpline(zqso, nd_goulding[0], s=0)\n",
    "# nz_goulding_h = UnivariateSpline(zqso, nd_goulding[2], s=0)\n",
    "\n",
    "# # now we can find n(z=0)\n",
    "# order = 10. ** np.floor(np.log10(nz_goulding(0)))\n",
    "# unc_l = nz_goulding(0) - nz_goulding_l(0)\n",
    "# unc_h = nz_goulding_h(0) - nz_goulding(0)\n",
    "# display(Math(r'n_{{G+19}} = ({0:.1f}_{{-{1:.1f}}}^{{+{2:.1f}}})'\n",
    "#              r' \\times 10^{{{3}}} \\text{{Mpc}}^{{-3}}'\n",
    "#              .format(nz_goulding(0) / order,\n",
    "#                      unc_l / order,\n",
    "#                      unc_h / order, np.log10(order))))"
   ]
  },
  {
   "cell_type": "code",
   "execution_count": 74,
   "metadata": {},
   "outputs": [],
   "source": [
    "# local_dual_agn_number_density = trunc_norm_dist()"
   ]
  },
  {
   "cell_type": "code",
   "execution_count": 75,
   "metadata": {},
   "outputs": [],
   "source": [
    "# dual_agn_normalization = Const3D(local_dual_agn_number_density.amplitude / local_quasar_number_density, n_models=n_samples)\n",
    "\n",
    "# quantiles = np.quantile(binary_normalization.amplitude, q=[.16, .5, .84])\n",
    "# display(Math(r'N_{{0}} = {0:.1f}_{{-{1:.1f}}}^{{+{2:.1f}}}'.format(quantiles[1],\n",
    "#                                           quantiles[1] - quantiles[0],\n",
    "#                                           quantiles[2] - quantiles[1])))"
   ]
  },
  {
   "cell_type": "markdown",
   "metadata": {},
   "source": [
    "### Major merger models"
   ]
  },
  {
   "cell_type": "markdown",
   "metadata": {},
   "source": [
    "#### S1: Borch+ (2006), Bundy+ (2009), Kitzbichler & White (2008)"
   ]
  },
  {
   "cell_type": "code",
   "execution_count": 76,
   "metadata": {},
   "outputs": [],
   "source": [
    "S1 = Sesana2013_Schechter(alpha=alpha_mcconnell_ma,\n",
    "                          beta=beta_mcconnell_ma,\n",
    "                          norm1=norm_0_borch,\n",
    "                          norm2=norm_3_borch,\n",
    "                          norm3=norm_5_borch,\n",
    "                          norm4=norm_7_borch,\n",
    "                          norm5=norm_9_borch,\n",
    "                          log_m_break1=log_m_gal_0_borch,\n",
    "                          log_m_break2=log_m_gal_3_borch,\n",
    "                          log_m_break3=log_m_gal_5_borch,\n",
    "                          log_m_break4=log_m_gal_7_borch,\n",
    "                          log_m_break5=log_m_gal_9_borch,\n",
    "                          exp1=alpha_0_borch,\n",
    "                          exp2=alpha_3_borch,\n",
    "                          exp3=alpha_5_borch,\n",
    "                          exp4=alpha_7_borch,\n",
    "                          exp5=alpha_9_borch,\n",
    "                          local_pair_fraction=fp_bundy,\n",
    "                          pair_fraction_exponent=m_bundy,\n",
    "                          q_min=q_min_bundy,\n",
    "                          t_norm=norm_kw,\n",
    "                          r_proj=r_proj_bundy,\n",
    "                          n_models=n_samples)"
   ]
  },
  {
   "cell_type": "code",
   "execution_count": 77,
   "metadata": {},
   "outputs": [
    {
     "name": "stdout",
     "output_type": "stream",
     "text": [
      "Model: Sesana2013_Schechter\n",
      "Inputs: ('x0', 'x1', 'x2')\n",
      "Outputs: ('x0',)\n",
      "Model set size: 1024\n",
      "Parameters:\n",
      "          alpha              beta                norm1         ... t_norm r_proj\n",
      "    ----------------- ------------------ --------------------- ... ------ ------\n",
      "    8.531992373071246 1.1521265897898978  0.004192022055601883 ...    2.2   20.0\n",
      "    8.499525475274778 1.2128330140338732  0.002928479455460745 ...    2.2   20.0\n",
      "    8.348524736304256 0.9658596989702247 0.0035491607249653278 ...    2.2   20.0\n",
      "    8.453341754851884  1.050986316873185  0.004521537079178115 ...    2.2   20.0\n",
      "     8.47081349287957  1.043948983169865  0.002934873174292047 ...    2.2   20.0\n",
      "    8.452516222383952  1.015201986601199 0.0033052019938153688 ...    2.2   20.0\n",
      "    8.453043744452245 1.0184506162824192 0.0038001031413460694 ...    2.2   20.0\n",
      "     8.35165852030416 1.0013768325634274  0.003494732533264813 ...    2.2   20.0\n",
      "    8.420876822960064 1.0016620249263666  0.002662294987849056 ...    2.2   20.0\n",
      "    8.522295309254353 0.9603779075506563  0.004285221129875127 ...    2.2   20.0\n",
      "                  ...                ...                   ... ...    ...    ...\n",
      "    8.424604855519576  1.123564398211813 0.0026783243078167575 ...    2.2   20.0\n",
      "    8.616535600073734 1.0838283577603722  0.003696637698924248 ...    2.2   20.0\n",
      "    8.420775272594074 0.8922988368060353  0.004267621394050156 ...    2.2   20.0\n",
      "     8.58732465079581 1.1239549892802965 0.0038404419501443044 ...    2.2   20.0\n",
      "    8.443422120261026 1.0773272492716033 0.0036781394833621792 ...    2.2   20.0\n",
      "    8.592568624890973 1.0493502776893322  0.003940195867996401 ...    2.2   20.0\n",
      "    8.546958897906883 1.1343257491971097  0.003401885376384739 ...    2.2   20.0\n",
      "    8.468423382324394 1.1411169791386628 0.0028050434969807427 ...    2.2   20.0\n",
      "     8.25862549097287  1.162247518968791  0.003994189303702082 ...    2.2   20.0\n",
      "    8.510856379674511 1.0845161873643756 0.0038714367226352093 ...    2.2   20.0\n",
      "    8.473564535450585 1.0574165914187856 0.0036512181420630487 ...    2.2   20.0\n",
      "    Length = 1024 rows\n"
     ]
    }
   ],
   "source": [
    "print(S1)\n",
    "with open('../models/S1.pkl', 'wb') as f:\n",
    "    pickle.dump(S1, f)"
   ]
  },
  {
   "cell_type": "markdown",
   "metadata": {},
   "source": [
    "#### S2: Drory+ (2009), de Ravel+ (2009), Lotz+ (2010)"
   ]
  },
  {
   "cell_type": "code",
   "execution_count": 78,
   "metadata": {},
   "outputs": [],
   "source": [
    "S2 = Sesana2013_DoubleSchechter(alpha=alpha_mcconnell_ma,\n",
    "                                beta=beta_mcconnell_ma,\n",
    "                                norm11=norm_0_drory_b,\n",
    "                                norm12=norm_3_drory_b,\n",
    "                                norm13=norm_5_drory_b,\n",
    "                                norm14=norm_7_drory_b,\n",
    "                                norm15=norm_9_drory_b,\n",
    "                                norm21=norm_0_drory_f,\n",
    "                                norm22=norm_3_drory_f,\n",
    "                                norm23=norm_5_drory_f,\n",
    "                                norm24=norm_7_drory_f,\n",
    "                                norm25=norm_9_drory_f,\n",
    "                                log_m_break11=log_m_gal_0_drory_b,\n",
    "                                log_m_break12=log_m_gal_3_drory_b,\n",
    "                                log_m_break13=log_m_gal_5_drory_b,\n",
    "                                log_m_break14=log_m_gal_7_drory_b,\n",
    "                                log_m_break15=log_m_gal_9_drory_b,\n",
    "                                log_m_break21=log_m_gal_0_drory_f,\n",
    "                                log_m_break22=log_m_gal_3_drory_f,\n",
    "                                log_m_break23=log_m_gal_5_drory_f,\n",
    "                                log_m_break24=log_m_gal_7_drory_f,\n",
    "                                log_m_break25=log_m_gal_9_drory_f,\n",
    "                                exp11=alpha_0_drory_b,\n",
    "                                exp12=alpha_3_drory_b,\n",
    "                                exp13=alpha_5_drory_b,\n",
    "                                exp14=alpha_7_drory_b,\n",
    "                                exp15=alpha_9_drory_b,\n",
    "                                exp21=alpha_0_drory_f,\n",
    "                                exp22=alpha_3_drory_f,\n",
    "                                exp23=alpha_5_drory_f,\n",
    "                                exp24=alpha_7_drory_f,\n",
    "                                exp25=alpha_9_drory_f,\n",
    "                                local_pair_fraction1=fp_95_de_ravel,\n",
    "                                local_pair_fraction2=fp_10_de_ravel,\n",
    "                                local_pair_fraction3=fp_105_de_ravel,\n",
    "                                pair_fraction_exponent1=m_95_de_ravel,\n",
    "                                pair_fraction_exponent2=m_10_de_ravel,\n",
    "                                pair_fraction_exponent3=m_105_de_ravel,\n",
    "                                q_min=q_min_de_ravel,\n",
    "                                t_norm=norm_lotz,\n",
    "                                r_proj=r_proj_de_ravel,\n",
    "                                n_models=n_samples)"
   ]
  },
  {
   "cell_type": "code",
   "execution_count": 79,
   "metadata": {},
   "outputs": [
    {
     "name": "stdout",
     "output_type": "stream",
     "text": [
      "Model: Sesana2013_DoubleSchechter\n",
      "Inputs: ('x0', 'x1', 'x2')\n",
      "Outputs: ('x0',)\n",
      "Model set size: 1024\n",
      "Parameters:\n",
      "          alpha              beta                norm11        ... t_norm r_proj\n",
      "    ----------------- ------------------ --------------------- ... ------ ------\n",
      "    8.531992373071246 1.1521265897898978  0.004444500800014729 ...    1.1  100.0\n",
      "    8.499525475274778 1.2128330140338732 0.0040137065100987095 ...    1.1  100.0\n",
      "    8.348524736304256 0.9658596989702247  0.004555212284291535 ...    1.1  100.0\n",
      "    8.453341754851884  1.050986316873185  0.004167937193554878 ...    1.1  100.0\n",
      "     8.47081349287957  1.043948983169865 0.0042382524078053065 ...    1.1  100.0\n",
      "    8.452516222383952  1.015201986601199 0.0043753993985503154 ...    1.1  100.0\n",
      "    8.453043744452245 1.0184506162824192  0.004659534604552072 ...    1.1  100.0\n",
      "     8.35165852030416 1.0013768325634274  0.004428888694392239 ...    1.1  100.0\n",
      "    8.420876822960064 1.0016620249263666  0.004746244872369328 ...    1.1  100.0\n",
      "    8.522295309254353 0.9603779075506563  0.004607177312237416 ...    1.1  100.0\n",
      "                  ...                ...                   ... ...    ...    ...\n",
      "    8.424604855519576  1.123564398211813  0.004754448325176602 ...    1.1  100.0\n",
      "    8.616535600073734 1.0838283577603722  0.004368405020916001 ...    1.1  100.0\n",
      "    8.420775272594074 0.8922988368060353  0.004166953716173817 ...    1.1  100.0\n",
      "     8.58732465079581 1.1239549892802965  0.004441664747236062 ...    1.1  100.0\n",
      "    8.443422120261026 1.0773272492716033 0.0043730677462511264 ...    1.1  100.0\n",
      "    8.592568624890973 1.0493502776893322  0.004533195083938836 ...    1.1  100.0\n",
      "    8.546958897906883 1.1343257491971097   0.00423977054000167 ...    1.1  100.0\n",
      "    8.468423382324394 1.1411169791386628   0.00433047697134183 ...    1.1  100.0\n",
      "     8.25862549097287  1.162247518968791  0.004176605191849631 ...    1.1  100.0\n",
      "    8.510856379674511 1.0845161873643756  0.004880915629121086 ...    1.1  100.0\n",
      "    8.473564535450585 1.0574165914187856  0.004513218038774564 ...    1.1  100.0\n",
      "    Length = 1024 rows\n"
     ]
    }
   ],
   "source": [
    "print(S2)\n",
    "with open('../models/S2.pkl', 'wb') as f:\n",
    "    pickle.dump(S2, f)"
   ]
  },
  {
   "cell_type": "markdown",
   "metadata": {},
   "source": [
    "#### S3: Ilbert+ (2010), Lopez+ (2012), Kitzbichler & White (2008)"
   ]
  },
  {
   "cell_type": "code",
   "execution_count": 80,
   "metadata": {},
   "outputs": [],
   "source": [
    "S3 = Sesana2013_TripleSchechter(alpha=alpha_mcconnell_ma,\n",
    "                                beta=beta_mcconnell_ma,\n",
    "                                norm11=norm_0_ilbert_q,\n",
    "                                norm12=norm_3_ilbert_q,\n",
    "                                norm13=norm_5_ilbert_q,\n",
    "                                norm14=norm_7_ilbert_q,\n",
    "                                norm15=norm_9_ilbert_q,\n",
    "                                norm16=norm_11_ilbert_q,\n",
    "                                norm17=norm_135_ilbert_q,\n",
    "                                norm18=norm_175_ilbert_q,\n",
    "                                norm21=norm_0_ilbert_i,\n",
    "                                norm22=norm_3_ilbert_i,\n",
    "                                norm23=norm_5_ilbert_i,\n",
    "                                norm24=norm_7_ilbert_i,\n",
    "                                norm25=norm_9_ilbert_i,\n",
    "                                norm26=norm_11_ilbert_i,\n",
    "                                norm27=norm_135_ilbert_i,\n",
    "                                norm28=norm_175_ilbert_i,\n",
    "                                norm31=norm_0_ilbert_h,\n",
    "                                norm32=norm_3_ilbert_h,\n",
    "                                norm33=norm_5_ilbert_h,\n",
    "                                norm34=norm_7_ilbert_h,\n",
    "                                norm35=norm_9_ilbert_h,\n",
    "                                norm36=norm_11_ilbert_h,\n",
    "                                norm37=norm_135_ilbert_h,\n",
    "                                norm38=norm_175_ilbert_h,\n",
    "                                log_m_break11=log_m_gal_0_ilbert_q,\n",
    "                                log_m_break12=log_m_gal_3_ilbert_q,\n",
    "                                log_m_break13=log_m_gal_5_ilbert_q,\n",
    "                                log_m_break14=log_m_gal_7_ilbert_q,\n",
    "                                log_m_break15=log_m_gal_9_ilbert_q,\n",
    "                                log_m_break16=log_m_gal_11_ilbert_q,\n",
    "                                log_m_break17=log_m_gal_135_ilbert_q,\n",
    "                                log_m_break18=log_m_gal_175_ilbert_q,\n",
    "                                log_m_break21=log_m_gal_0_ilbert_i,\n",
    "                                log_m_break22=log_m_gal_3_ilbert_i,\n",
    "                                log_m_break23=log_m_gal_5_ilbert_i,\n",
    "                                log_m_break24=log_m_gal_7_ilbert_i,\n",
    "                                log_m_break25=log_m_gal_9_ilbert_i,\n",
    "                                log_m_break26=log_m_gal_11_ilbert_i,\n",
    "                                log_m_break27=log_m_gal_135_ilbert_i,\n",
    "                                log_m_break28=log_m_gal_175_ilbert_i,\n",
    "                                log_m_break31=log_m_gal_0_ilbert_h,\n",
    "                                log_m_break32=log_m_gal_3_ilbert_h,\n",
    "                                log_m_break33=log_m_gal_5_ilbert_h,\n",
    "                                log_m_break34=log_m_gal_7_ilbert_h,\n",
    "                                log_m_break35=log_m_gal_9_ilbert_h,\n",
    "                                log_m_break36=log_m_gal_11_ilbert_h,\n",
    "                                log_m_break37=log_m_gal_135_ilbert_h,\n",
    "                                log_m_break38=log_m_gal_175_ilbert_h,\n",
    "                                exp11=alpha_0_ilbert_q,\n",
    "                                exp12=alpha_3_ilbert_q,\n",
    "                                exp13=alpha_5_ilbert_q,\n",
    "                                exp14=alpha_7_ilbert_q,\n",
    "                                exp15=alpha_9_ilbert_q,\n",
    "                                exp16=alpha_11_ilbert_q,\n",
    "                                exp17=alpha_135_ilbert_q,\n",
    "                                exp18=alpha_175_ilbert_q,\n",
    "                                exp21=alpha_0_ilbert_i,\n",
    "                                exp22=alpha_3_ilbert_i,\n",
    "                                exp23=alpha_5_ilbert_i,\n",
    "                                exp24=alpha_7_ilbert_i,\n",
    "                                exp25=alpha_9_ilbert_i,\n",
    "                                exp26=alpha_11_ilbert_i,\n",
    "                                exp27=alpha_135_ilbert_i,\n",
    "                                exp28=alpha_175_ilbert_i,\n",
    "                                exp31=alpha_0_ilbert_h,\n",
    "                                exp32=alpha_3_ilbert_h,\n",
    "                                exp33=alpha_5_ilbert_h,\n",
    "                                exp34=alpha_7_ilbert_h,\n",
    "                                exp35=alpha_9_ilbert_h,\n",
    "                                exp36=alpha_11_ilbert_h,\n",
    "                                exp37=alpha_135_ilbert_h,\n",
    "                                exp38=alpha_175_ilbert_h,\n",
    "                                local_pair_fraction=fp_lopez,\n",
    "                                pair_fraction_exponent=m_lopez,\n",
    "                                q_min=q_min_lopez,\n",
    "                                t_norm=norm_kw,\n",
    "                                r_proj=r_proj_lopez,\n",
    "                                n_models=n_samples)"
   ]
  },
  {
   "cell_type": "code",
   "execution_count": 81,
   "metadata": {},
   "outputs": [
    {
     "name": "stdout",
     "output_type": "stream",
     "text": [
      "Model: Sesana2013_TripleSchechter\n",
      "Inputs: ('x0', 'x1', 'x2')\n",
      "Outputs: ('x0',)\n",
      "Model set size: 1024\n",
      "Parameters:\n",
      "          alpha              beta                norm11        ... t_norm r_proj\n",
      "    ----------------- ------------------ --------------------- ... ------ ------\n",
      "    8.531992373071246 1.1521265897898978  0.004444500800014729 ...    2.2   30.0\n",
      "    8.499525475274778 1.2128330140338732 0.0040137065100987095 ...    2.2   30.0\n",
      "    8.348524736304256 0.9658596989702247  0.004555212284291535 ...    2.2   30.0\n",
      "    8.453341754851884  1.050986316873185  0.004167937193554878 ...    2.2   30.0\n",
      "     8.47081349287957  1.043948983169865 0.0042382524078053065 ...    2.2   30.0\n",
      "    8.452516222383952  1.015201986601199 0.0043753993985503154 ...    2.2   30.0\n",
      "    8.453043744452245 1.0184506162824192  0.004659534604552072 ...    2.2   30.0\n",
      "     8.35165852030416 1.0013768325634274  0.004428888694392239 ...    2.2   30.0\n",
      "    8.420876822960064 1.0016620249263666  0.004746244872369328 ...    2.2   30.0\n",
      "    8.522295309254353 0.9603779075506563  0.004607177312237416 ...    2.2   30.0\n",
      "                  ...                ...                   ... ...    ...    ...\n",
      "    8.424604855519576  1.123564398211813  0.004754448325176602 ...    2.2   30.0\n",
      "    8.616535600073734 1.0838283577603722  0.004368405020916001 ...    2.2   30.0\n",
      "    8.420775272594074 0.8922988368060353  0.004166953716173817 ...    2.2   30.0\n",
      "     8.58732465079581 1.1239549892802965  0.004441664747236062 ...    2.2   30.0\n",
      "    8.443422120261026 1.0773272492716033 0.0043730677462511264 ...    2.2   30.0\n",
      "    8.592568624890973 1.0493502776893322  0.004533195083938836 ...    2.2   30.0\n",
      "    8.546958897906883 1.1343257491971097   0.00423977054000167 ...    2.2   30.0\n",
      "    8.468423382324394 1.1411169791386628   0.00433047697134183 ...    2.2   30.0\n",
      "     8.25862549097287  1.162247518968791  0.004176605191849631 ...    2.2   30.0\n",
      "    8.510856379674511 1.0845161873643756  0.004880915629121086 ...    2.2   30.0\n",
      "    8.473564535450585 1.0574165914187856  0.004513218038774564 ...    2.2   30.0\n",
      "    Length = 1024 rows\n"
     ]
    }
   ],
   "source": [
    "print(S3)\n",
    "with open('../models/S3.pkl', 'wb') as f:\n",
    "    pickle.dump(S3, f)"
   ]
  },
  {
   "cell_type": "markdown",
   "metadata": {},
   "source": [
    "# Results"
   ]
  },
  {
   "cell_type": "markdown",
   "metadata": {},
   "source": [
    "## AGN Models"
   ]
  },
  {
   "cell_type": "markdown",
   "metadata": {},
   "source": [
    "### AGN-proxy"
   ]
  },
  {
   "cell_type": "markdown",
   "metadata": {},
   "source": [
    "#### SMBHB Population"
   ]
  },
  {
   "cell_type": "code",
   "execution_count": 82,
   "metadata": {},
   "outputs": [],
   "source": [
    "mm, zz, qq = np.meshgrid(log_m_bh_range, z_range, q_range, indexing='ij')"
   ]
  },
  {
   "cell_type": "code",
   "execution_count": 83,
   "metadata": {},
   "outputs": [
    {
     "data": {
      "application/vnd.jupyter.widget-view+json": {
       "model_id": "3ccf373bfbe347b09bf7732e46ecbcf9",
       "version_major": 2,
       "version_minor": 0
      },
      "text/plain": [
       "  0%|          | 0/32768 [00:00<?, ?it/s]"
      ]
     },
     "metadata": {},
     "output_type": "display_data"
    }
   ],
   "source": [
    "with mp.Pool(mp.cpu_count()) as p:\n",
    "    differential_bhb_population = list(p.starmap(differential_smbhb_population,\n",
    "                             tqdm(zip(mm.ravel(), zz.ravel(), qq.ravel()),\n",
    "                      total=len(mm.ravel()))))\n",
    "\n",
    "differential_bhb_population = np.reshape(differential_bhb_population, np.repeat(mm[..., np.newaxis], n_samples, axis=-1).shape)"
   ]
  },
  {
   "cell_type": "markdown",
   "metadata": {},
   "source": [
    "#### Characteristic strain"
   ]
  },
  {
   "cell_type": "code",
   "execution_count": 84,
   "metadata": {},
   "outputs": [],
   "source": [
    "coeffs = 4. * const.G ** (5. / 3.) / (3. * np.pi ** (1. / 3.)\n",
    "                                      * (const.c ** 2)\n",
    "                                      * (fidhz ** (4. / 3.)))"
   ]
  },
  {
   "cell_type": "code",
   "execution_count": 85,
   "metadata": {},
   "outputs": [],
   "source": [
    "hc_integrand = (coeffs * differential_bhb_population * ((10 ** (mm * (5 / 3)))\n",
    "                                                        * (qq / ((1 + qq) ** (1 / 3)))\n",
    "                                                        / ((1 + zz) ** (1. / 3.)))[..., np.newaxis]\n",
    "                * (u.Msun ** (5 / 3)) / (u.Mpc ** 3))"
   ]
  },
  {
   "cell_type": "code",
   "execution_count": 86,
   "metadata": {},
   "outputs": [
    {
     "data": {
      "text/latex": [
       "$\\displaystyle h_{c} = (8.9^{+4.3}_{-2.8}) \\times 10^{-16.0}$"
      ],
      "text/plain": [
       "<IPython.core.display.Math object>"
      ]
     },
     "metadata": {},
     "output_type": "display_data"
    }
   ],
   "source": [
    "hc = np.sqrt(cumtrapz(cumtrapz(cumtrapz(hc_integrand.to(''), log_m_bh_range, axis=0), z_range, axis=1), q_range, axis=2))\n",
    "hc_q = np.quantile(hc, q=[.16, .5, .84], axis=-1)\n",
    "\n",
    "order = 10. ** np.floor(np.log10(hc_q[1, -1, -1, -1]))\n",
    "display(Math(r'h_{{c}} = ({0:.1f}^{{+{1:.1f}}}_{{-{2:.1f}}}) \\times 10^{{{3}}}'\n",
    "             .format(hc_q[1, -1, -1, -1] / order,\n",
    "                     (hc_q[2, -1, -1, -1] - hc_q[1, -1, -1, -1]) / order,\n",
    "                     (hc_q[1, -1, -1, -1] - hc_q[0, -1, -1, -1]) / order,\n",
    "                     np.log10(order))))"
   ]
  },
  {
   "cell_type": "markdown",
   "metadata": {},
   "source": [
    "#### Number density"
   ]
  },
  {
   "cell_type": "code",
   "execution_count": 87,
   "metadata": {},
   "outputs": [],
   "source": [
    "differential_number_density = trapz(trapz(differential_bhb_population, log_m_bh_range, axis=0), q_range, axis=1)\n",
    "differential_number_density_q = np.quantile(differential_number_density, q=[.16, .5, .84], axis=-1)"
   ]
  },
  {
   "cell_type": "code",
   "execution_count": 88,
   "metadata": {},
   "outputs": [
    {
     "data": {
      "text/latex": [
       "$\\displaystyle \\Phi_{\\rm{BHB}, 0} = (2.6^{+2.1}_{-1.2}) \\times 10^{-4.0}\\;\\rm{Mpc}^{-3}$"
      ],
      "text/plain": [
       "<IPython.core.display.Math object>"
      ]
     },
     "metadata": {},
     "output_type": "display_data"
    }
   ],
   "source": [
    "order = 10. ** np.floor(np.log10(differential_number_density_q[1, 0]))\n",
    "display(Math(r'\\Phi_{{\\rm{{BHB}}, 0}} = ({0:.1f}^{{+{1:.1f}}}_{{-{2:.1f}}}) \\times 10^{{{3}}}\\;\\rm{{Mpc}}^{{-3}}'\n",
    "             .format(differential_number_density_q[1, 0] / order,\n",
    "                     (differential_number_density_q[2, 0] - differential_number_density_q[1, 0]) / order,\n",
    "                     (differential_number_density_q[1, 0] - differential_number_density_q[0, 0]) / order,\n",
    "                     np.log10(order))))"
   ]
  },
  {
   "cell_type": "markdown",
   "metadata": {},
   "source": [
    "#### Local Mass Function"
   ]
  },
  {
   "cell_type": "code",
   "execution_count": 89,
   "metadata": {},
   "outputs": [],
   "source": [
    "local_bhmf = trapz(trapz(differential_bhb_population, z_range, axis=1), q_range, axis=1) / (np.log(10) * (10 ** log_m_bh_range[:, np.newaxis]))\n",
    "local_bhmf_q = np.quantile(local_bhmf, q=[.16, .5, .84], axis=-1)"
   ]
  },
  {
   "cell_type": "markdown",
   "metadata": {},
   "source": [
    "#### Summary"
   ]
  },
  {
   "cell_type": "code",
   "execution_count": 90,
   "metadata": {},
   "outputs": [],
   "source": [
    "with h5py.File('../data/processed/agn_proxy.h5', 'w') as hf:\n",
    "    hf.create_dataset('log_m_bh_range',  data=log_m_bh_range)\n",
    "    hf.create_dataset('z_range',  data=z_range)\n",
    "    hf.create_dataset('q_range',  data=q_range)\n",
    "    hf.create_dataset('population',  data=differential_bhb_population)\n",
    "    hf.create_dataset('characteristic_strain',  data=hc)\n",
    "    hf.create_dataset('number_density',  data=differential_number_density)\n",
    "    hf.create_dataset('local_bhmf',  data=local_bhmf)"
   ]
  },
  {
   "cell_type": "markdown",
   "metadata": {},
   "source": [
    "### G19"
   ]
  },
  {
   "cell_type": "markdown",
   "metadata": {},
   "source": [
    "## Merger Models"
   ]
  },
  {
   "cell_type": "markdown",
   "metadata": {},
   "source": [
    "### S1"
   ]
  },
  {
   "cell_type": "markdown",
   "metadata": {},
   "source": [
    "#### SMBHB Population"
   ]
  },
  {
   "cell_type": "code",
   "execution_count": 91,
   "metadata": {},
   "outputs": [],
   "source": [
    "mm, zz, qq = np.meshgrid(log_m_bh_range, z_range_borch, q_range, indexing='ij')"
   ]
  },
  {
   "cell_type": "code",
   "execution_count": 92,
   "metadata": {},
   "outputs": [
    {
     "data": {
      "application/vnd.jupyter.widget-view+json": {
       "model_id": "a6b0b813a6b44f72b0429248a0cce63d",
       "version_major": 2,
       "version_minor": 0
      },
      "text/plain": [
       "  0%|          | 0/32768 [00:00<?, ?it/s]"
      ]
     },
     "metadata": {},
     "output_type": "display_data"
    }
   ],
   "source": [
    "with mp.Pool(mp.cpu_count()) as p:\n",
    "    S1_bhb_population = list(p.starmap(S1,\n",
    "                             tqdm(zip(mm.ravel(), zz.ravel(), qq.ravel()),\n",
    "                      total=len(mm.ravel()))))\n",
    "\n",
    "S1_bhb_population = np.reshape(S1_bhb_population, np.repeat(mm[..., np.newaxis], n_samples, axis=-1).shape)"
   ]
  },
  {
   "cell_type": "markdown",
   "metadata": {},
   "source": [
    "#### Strain"
   ]
  },
  {
   "cell_type": "code",
   "execution_count": 93,
   "metadata": {},
   "outputs": [],
   "source": [
    "S1_hc_integrand = (coeffs * S1_bhb_population * ((10 ** (mm * (5 / 3)))\n",
    "                                                 * (qq / ((1 + qq) ** (1 / 3)))\n",
    "                                                 / ((1 + zz) ** (1. / 3.)))[..., np.newaxis]\n",
    "                   * (u.Msun ** (5 / 3)) / (u.Mpc ** 3))"
   ]
  },
  {
   "cell_type": "code",
   "execution_count": 94,
   "metadata": {},
   "outputs": [
    {
     "data": {
      "text/latex": [
       "$\\displaystyle h_{c, \\rm{S1}} = (4.7^{+1.9}_{-1.7}) \\times 10^{-16.0}$"
      ],
      "text/plain": [
       "<IPython.core.display.Math object>"
      ]
     },
     "metadata": {},
     "output_type": "display_data"
    }
   ],
   "source": [
    "S1_hc = np.sqrt(cumtrapz(cumtrapz(cumtrapz(S1_hc_integrand.to(''), log_m_bh_range, axis=0), z_range_borch, axis=1), q_range, axis=2))\n",
    "S1_hc_q = np.quantile(S1_hc, q=[.16, .5, .84], axis=-1)\n",
    "\n",
    "order = 10. ** np.floor(np.log10(S1_hc_q[1, -1, -1, -1]))\n",
    "display(Math(r'h_{{c, \\rm{{S1}}}} = ({0:.1f}^{{+{1:.1f}}}_{{-{2:.1f}}}) \\times 10^{{{3}}}'\n",
    "             .format(S1_hc_q[1, -1, -1, -1] / order,\n",
    "                     (S1_hc_q[2, -1, -1, -1] - S1_hc_q[1, -1, -1, -1]) / order,\n",
    "                     (S1_hc_q[1, -1, -1, -1] - S1_hc_q[0, -1, -1, -1]) / order,\n",
    "                     np.log10(order))))"
   ]
  },
  {
   "cell_type": "markdown",
   "metadata": {},
   "source": [
    "#### Number density"
   ]
  },
  {
   "cell_type": "code",
   "execution_count": 95,
   "metadata": {},
   "outputs": [],
   "source": [
    "S1_number_density = trapz(trapz(S1_bhb_population, log_m_bh_range, axis=0), q_range, axis=1)\n",
    "S1_number_density_q = np.quantile(S1_number_density, q=[.16, .5, .84], axis=-1)"
   ]
  },
  {
   "cell_type": "code",
   "execution_count": 96,
   "metadata": {},
   "outputs": [
    {
     "data": {
      "text/latex": [
       "$\\displaystyle \\Phi_{\\rm{BHB}, 0, \\rm{S1}} = (9.3^{+11.3}_{-5.8}) \\times 10^{-4.0}\\;\\rm{Mpc}^{-3}$"
      ],
      "text/plain": [
       "<IPython.core.display.Math object>"
      ]
     },
     "metadata": {},
     "output_type": "display_data"
    }
   ],
   "source": [
    "order = 10. ** np.floor(np.log10(S1_number_density_q[1, 0]))\n",
    "display(Math(r'\\Phi_{{\\rm{{BHB}}, 0, \\rm{{S1}}}} = ({0:.1f}^{{+{1:.1f}}}_{{-{2:.1f}}}) \\times 10^{{{3}}}\\;\\rm{{Mpc}}^{{-3}}'\n",
    "             .format(S1_number_density_q[1, 0] / order,\n",
    "                     (S1_number_density_q[2, 0] - S1_number_density_q[1, 0]) / order,\n",
    "                     (S1_number_density_q[1, 0] - S1_number_density_q[0, 0]) / order,\n",
    "                     np.log10(order))))"
   ]
  },
  {
   "cell_type": "markdown",
   "metadata": {},
   "source": [
    "#### Local Mass Function"
   ]
  },
  {
   "cell_type": "code",
   "execution_count": 97,
   "metadata": {},
   "outputs": [],
   "source": [
    "S1_local_bhmf = trapz(S1_bhb_population, q_range, axis=1)[:, 0, ...] / (np.log(10) * (10 ** log_m_bh_range[:, np.newaxis]))\n",
    "S1_local_bhmf_q = np.quantile(S1_local_bhmf, q=[.16, .5, .84], axis=-1)"
   ]
  },
  {
   "cell_type": "markdown",
   "metadata": {},
   "source": [
    "#### Summary"
   ]
  },
  {
   "cell_type": "code",
   "execution_count": 98,
   "metadata": {},
   "outputs": [],
   "source": [
    "with h5py.File('../data/processed/S1.h5', 'w') as hf:\n",
    "    hf.create_dataset('log_m_bh_range',  data=log_m_bh_range)\n",
    "    hf.create_dataset('z_range',  data=z_range_borch)\n",
    "    hf.create_dataset('q_range',  data=q_range)\n",
    "    hf.create_dataset('population',  data=S1_bhb_population)\n",
    "    hf.create_dataset('characteristic_strain',  data=S1_hc)\n",
    "    hf.create_dataset('number_density',  data=S1_number_density)\n",
    "    hf.create_dataset('local_bhmf',  data=S1_local_bhmf)"
   ]
  },
  {
   "cell_type": "markdown",
   "metadata": {},
   "source": [
    "### S2"
   ]
  },
  {
   "cell_type": "markdown",
   "metadata": {},
   "source": [
    "#### SMBHB Population"
   ]
  },
  {
   "cell_type": "code",
   "execution_count": 99,
   "metadata": {},
   "outputs": [],
   "source": [
    "mm, zz, qq = np.meshgrid(log_m_bh_range, z_range_drory, q_range, indexing='ij')"
   ]
  },
  {
   "cell_type": "code",
   "execution_count": 100,
   "metadata": {},
   "outputs": [
    {
     "data": {
      "application/vnd.jupyter.widget-view+json": {
       "model_id": "fe153a07439e4420866a312e69127319",
       "version_major": 2,
       "version_minor": 0
      },
      "text/plain": [
       "  0%|          | 0/32768 [00:00<?, ?it/s]"
      ]
     },
     "metadata": {},
     "output_type": "display_data"
    }
   ],
   "source": [
    "with mp.Pool(mp.cpu_count()) as p:\n",
    "    S2_bhb_population = list(p.starmap(S2,\n",
    "                             tqdm(zip(mm.ravel(), zz.ravel(), qq.ravel()),\n",
    "                      total=len(mm.ravel()))))\n",
    "\n",
    "S2_bhb_population = np.reshape(S2_bhb_population, np.repeat(mm[..., np.newaxis], n_samples, axis=-1).shape)"
   ]
  },
  {
   "cell_type": "markdown",
   "metadata": {},
   "source": [
    "#### Strain"
   ]
  },
  {
   "cell_type": "code",
   "execution_count": 101,
   "metadata": {},
   "outputs": [],
   "source": [
    "S2_hc_integrand = (coeffs * S2_bhb_population * ((10 ** (mm * (5 / 3)))\n",
    "                                                 * (qq / ((1 + qq) ** (1 / 3)))\n",
    "                                                 / ((1 + zz) ** (1. / 3.)))[..., np.newaxis]\n",
    "                   * (u.Msun ** (5 / 3)) / (u.Mpc ** 3))"
   ]
  },
  {
   "cell_type": "code",
   "execution_count": 102,
   "metadata": {},
   "outputs": [
    {
     "data": {
      "text/latex": [
       "$\\displaystyle h_{c, \\rm{S2}} = (1.1^{+0.8}_{-0.6}) \\times 10^{-15.0}$"
      ],
      "text/plain": [
       "<IPython.core.display.Math object>"
      ]
     },
     "metadata": {},
     "output_type": "display_data"
    }
   ],
   "source": [
    "S2_hc = np.sqrt(cumtrapz(cumtrapz(cumtrapz(S2_hc_integrand.to(''), log_m_bh_range, axis=0), z_range_drory, axis=1), q_range, axis=2))\n",
    "S2_hc_q = np.quantile(S2_hc, q=[.16, .5, .84], axis=-1)\n",
    "\n",
    "order = 10. ** np.floor(np.log10(S2_hc_q[1, -1, -1, -1]))\n",
    "display(Math(r'h_{{c, \\rm{{S2}}}} = ({0:.1f}^{{+{1:.1f}}}_{{-{2:.1f}}}) \\times 10^{{{3}}}'\n",
    "             .format(S2_hc_q[1, -1, -1, -1] / order,\n",
    "                     (S2_hc_q[2, -1, -1, -1] - S2_hc_q[1, -1, -1, -1]) / order,\n",
    "                     (S2_hc_q[1, -1, -1, -1] - S2_hc_q[0, -1, -1, -1]) / order,\n",
    "                     np.log10(order))))"
   ]
  },
  {
   "cell_type": "markdown",
   "metadata": {},
   "source": [
    "#### Number density"
   ]
  },
  {
   "cell_type": "code",
   "execution_count": 103,
   "metadata": {},
   "outputs": [],
   "source": [
    "S2_number_density = trapz(trapz(S2_bhb_population, log_m_bh_range, axis=0), q_range, axis=1)\n",
    "S2_number_density_q = np.quantile(S2_number_density, q=[.16, .5, .84], axis=-1)"
   ]
  },
  {
   "cell_type": "code",
   "execution_count": 104,
   "metadata": {},
   "outputs": [
    {
     "data": {
      "text/latex": [
       "$\\displaystyle \\Phi_{\\rm{BHB}, 0, \\rm{S2}} = (4.4^{+3.9}_{-2.4}) \\times 10^{-3.0}\\;\\rm{Mpc}^{-3}$"
      ],
      "text/plain": [
       "<IPython.core.display.Math object>"
      ]
     },
     "metadata": {},
     "output_type": "display_data"
    }
   ],
   "source": [
    "order = 10. ** np.floor(np.log10(S2_number_density_q[1, 0]))\n",
    "display(Math(r'\\Phi_{{\\rm{{BHB}}, 0, \\rm{{S2}}}} = ({0:.1f}^{{+{1:.1f}}}_{{-{2:.1f}}}) \\times 10^{{{3}}}\\;\\rm{{Mpc}}^{{-3}}'\n",
    "             .format(S2_number_density_q[1, 0] / order,\n",
    "                     (S2_number_density_q[2, 0] - S2_number_density_q[1, 0]) / order,\n",
    "                     (S2_number_density_q[1, 0] - S2_number_density_q[0, 0]) / order,\n",
    "                     np.log10(order))))"
   ]
  },
  {
   "cell_type": "markdown",
   "metadata": {},
   "source": [
    "#### Local Mass Function"
   ]
  },
  {
   "cell_type": "code",
   "execution_count": 105,
   "metadata": {},
   "outputs": [],
   "source": [
    "S2_local_bhmf = trapz(S2_bhb_population, q_range, axis=1)[:, 0, ...] / (np.log(10) * (10 ** log_m_bh_range[:, np.newaxis]))\n",
    "S2_local_bhmf_q = np.quantile(S2_local_bhmf, q=[.16, .5, .84], axis=-1)"
   ]
  },
  {
   "cell_type": "markdown",
   "metadata": {},
   "source": [
    "#### Summary"
   ]
  },
  {
   "cell_type": "code",
   "execution_count": 106,
   "metadata": {},
   "outputs": [],
   "source": [
    "with h5py.File('../data/processed/S2.h5', 'w') as hf:\n",
    "    hf.create_dataset('log_m_bh_range', data=log_m_bh_range)\n",
    "    hf.create_dataset('z_range', data=z_range_drory)\n",
    "    hf.create_dataset('q_range', data=q_range)\n",
    "    hf.create_dataset('population', data=S2_bhb_population)\n",
    "    hf.create_dataset('characteristic_strain', data=S2_hc)\n",
    "    hf.create_dataset('number_density', data=S2_number_density)\n",
    "    hf.create_dataset('local_bhmf', data=S2_local_bhmf)"
   ]
  },
  {
   "cell_type": "markdown",
   "metadata": {},
   "source": [
    "### S3"
   ]
  },
  {
   "cell_type": "markdown",
   "metadata": {},
   "source": [
    "#### SMBHB Population"
   ]
  },
  {
   "cell_type": "code",
   "execution_count": 107,
   "metadata": {},
   "outputs": [],
   "source": [
    "mm, zz, qq = np.meshgrid(log_m_bh_range, z_range_ilbert, q_range, indexing='ij')"
   ]
  },
  {
   "cell_type": "code",
   "execution_count": 108,
   "metadata": {},
   "outputs": [
    {
     "data": {
      "application/vnd.jupyter.widget-view+json": {
       "model_id": "fa81d523ea58432198f8bf2110c95cb8",
       "version_major": 2,
       "version_minor": 0
      },
      "text/plain": [
       "  0%|          | 0/32768 [00:00<?, ?it/s]"
      ]
     },
     "metadata": {},
     "output_type": "display_data"
    }
   ],
   "source": [
    "with mp.Pool(mp.cpu_count()) as p:\n",
    "    S3_bhb_population = list(p.starmap(S3,\n",
    "                             tqdm(zip(mm.ravel(), zz.ravel(), qq.ravel()),\n",
    "                      total=len(mm.ravel()))))\n",
    "\n",
    "S3_bhb_population = np.reshape(S3_bhb_population, np.repeat(mm[..., np.newaxis], n_samples, axis=-1).shape)"
   ]
  },
  {
   "cell_type": "markdown",
   "metadata": {},
   "source": [
    "#### Strain"
   ]
  },
  {
   "cell_type": "code",
   "execution_count": 109,
   "metadata": {},
   "outputs": [],
   "source": [
    "S3_hc_integrand = (coeffs * S3_bhb_population * ((10 ** (mm * (5 / 3)))\n",
    "                                                 * (qq / ((1 + qq) ** (1 / 3)))\n",
    "                                                 / ((1 + zz) ** (1. / 3.)))[..., np.newaxis]\n",
    "                   * (u.Msun ** (5 / 3)) / (u.Mpc ** 3))"
   ]
  },
  {
   "cell_type": "code",
   "execution_count": 110,
   "metadata": {},
   "outputs": [
    {
     "data": {
      "text/latex": [
       "$\\displaystyle h_{c, \\rm{S3}} = (5.2^{+1.8}_{-1.1}) \\times 10^{-16.0}$"
      ],
      "text/plain": [
       "<IPython.core.display.Math object>"
      ]
     },
     "metadata": {},
     "output_type": "display_data"
    }
   ],
   "source": [
    "S3_hc = np.sqrt(cumtrapz(cumtrapz(cumtrapz(S3_hc_integrand.to(''), log_m_bh_range, axis=0), z_range_ilbert, axis=1), q_range, axis=2))\n",
    "S3_hc_q = np.quantile(S3_hc, q=[.16, .5, .84], axis=-1)\n",
    "\n",
    "order = 10. ** np.floor(np.log10(S3_hc_q[1, -1, -1, -1]))\n",
    "display(Math(r'h_{{c, \\rm{{S3}}}} = ({0:.1f}^{{+{1:.1f}}}_{{-{2:.1f}}}) \\times 10^{{{3}}}'\n",
    "             .format(S3_hc_q[1, -1, -1, -1] / order,\n",
    "                     (S3_hc_q[2, -1, -1, -1] - S3_hc_q[1, -1, -1, -1]) / order,\n",
    "                     (S3_hc_q[1, -1, -1, -1] - S3_hc_q[0, -1, -1, -1]) / order,\n",
    "                     np.log10(order))))"
   ]
  },
  {
   "cell_type": "markdown",
   "metadata": {},
   "source": [
    "#### Number density"
   ]
  },
  {
   "cell_type": "code",
   "execution_count": 111,
   "metadata": {},
   "outputs": [],
   "source": [
    "S3_number_density = trapz(trapz(S3_bhb_population, log_m_bh_range, axis=0), q_range, axis=1)\n",
    "S3_number_density_q = np.quantile(S3_number_density, q=[.16, .5, .84], axis=-1)"
   ]
  },
  {
   "cell_type": "code",
   "execution_count": 112,
   "metadata": {},
   "outputs": [
    {
     "data": {
      "text/latex": [
       "$\\displaystyle \\Phi_{\\rm{BHB}, 0, \\rm{S3}} = (1.4^{+0.2}_{-0.3}) \\times 10^{-3.0}\\;\\rm{Mpc}^{-3}$"
      ],
      "text/plain": [
       "<IPython.core.display.Math object>"
      ]
     },
     "metadata": {},
     "output_type": "display_data"
    }
   ],
   "source": [
    "order = 10. ** np.floor(np.log10(S3_number_density_q[1, 0]))\n",
    "display(Math(r'\\Phi_{{\\rm{{BHB}}, 0, \\rm{{S3}}}} = ({0:.1f}^{{+{1:.1f}}}_{{-{2:.1f}}}) \\times 10^{{{3}}}\\;\\rm{{Mpc}}^{{-3}}'\n",
    "             .format(S3_number_density_q[1, 0] / order,\n",
    "                     (S3_number_density_q[2, 0] - S3_number_density_q[1, 0]) / order,\n",
    "                     (S3_number_density_q[1, 0] - S3_number_density_q[0, 0]) / order,\n",
    "                     np.log10(order))))"
   ]
  },
  {
   "cell_type": "markdown",
   "metadata": {},
   "source": [
    "#### Local Mass Function"
   ]
  },
  {
   "cell_type": "code",
   "execution_count": 113,
   "metadata": {},
   "outputs": [],
   "source": [
    "S3_local_bhmf = trapz(S3_bhb_population, q_range, axis=1)[:, 0, ...] / (np.log(10) * (10 ** log_m_bh_range[:, np.newaxis]))\n",
    "S3_local_bhmf_q = np.quantile(S3_local_bhmf, q=[.16, .5, .84], axis=-1)"
   ]
  },
  {
   "cell_type": "markdown",
   "metadata": {},
   "source": [
    "#### Summary"
   ]
  },
  {
   "cell_type": "code",
   "execution_count": 114,
   "metadata": {},
   "outputs": [],
   "source": [
    "with h5py.File('../data/processed/S3.h5', 'w') as hf:\n",
    "    hf.create_dataset('log_m_bh_range', data=log_m_bh_range)\n",
    "    hf.create_dataset('z_range', data=z_range_ilbert)\n",
    "    hf.create_dataset('q_range', data=q_range)\n",
    "    hf.create_dataset('population', data=S3_bhb_population)\n",
    "    hf.create_dataset('characteristic_strain', data=S3_hc)\n",
    "    hf.create_dataset('number_density',  data=S3_number_density)\n",
    "    hf.create_dataset('local_bhmf', data=S3_local_bhmf)"
   ]
  },
  {
   "cell_type": "markdown",
   "metadata": {},
   "source": [
    "## Plots"
   ]
  },
  {
   "cell_type": "code",
   "execution_count": 115,
   "metadata": {},
   "outputs": [],
   "source": [
    "import seaborn as sns\n",
    "import matplotlib.pyplot as plt\n",
    "%matplotlib inline\n",
    "sns.set_context(\"talk\", font_scale=1.2)\n",
    "sns.set_style('ticks')\n",
    "sns.set_palette('colorblind')\n",
    "figparams = {'font.family': 'DejaVu Sans',\n",
    "             'font.serif':'Times',\n",
    "             'text.latex.preamble': r'\\usepackage{amsmath}',\n",
    "             'text.usetex': True,\n",
    "             'hatch.linewidth' : 3.0}\n",
    "plt.rcParams.update(figparams)\n",
    "cs = plt.rcParams['axes.prop_cycle'].by_key()['color']"
   ]
  },
  {
   "cell_type": "code",
   "execution_count": 116,
   "metadata": {},
   "outputs": [],
   "source": [
    "from matplotlib.legend_handler import HandlerLine2D, HandlerTuple\n",
    "\n",
    "class HandlerTupleVertical(HandlerTuple):\n",
    "    def __init__(self, **kwargs):\n",
    "        HandlerTuple.__init__(self, **kwargs)\n",
    "\n",
    "    def create_artists(self, legend, orig_handle,\n",
    "                       xdescent, ydescent, width, height, fontsize, trans):\n",
    "        # How many lines are there.\n",
    "        numlines = len(orig_handle)\n",
    "        handler_map = legend.get_legend_handler_map()\n",
    "\n",
    "        # divide the vertical space where the lines will go\n",
    "        # into equal parts based on the number of lines\n",
    "        height_y = (height / numlines)\n",
    "\n",
    "        leglines = []\n",
    "        for i, handle in enumerate(orig_handle):\n",
    "            handler = legend.get_legend_handler(handler_map, handle)\n",
    "\n",
    "            legline = handler.create_artists(legend, handle,\n",
    "                                             xdescent,\n",
    "                                             (2*i + 1)*height_y,\n",
    "                                             width,\n",
    "                                             2*height,\n",
    "                                             fontsize, trans)\n",
    "            leglines.extend(legline)\n",
    "\n",
    "        return leglines"
   ]
  },
  {
   "cell_type": "code",
   "execution_count": 117,
   "metadata": {},
   "outputs": [
    {
     "data": {
      "image/png": "[encoded data removed]",
      "text/plain": [
       "<Figure size 2592x648 with 3 Axes>"
      ]
     },
     "metadata": {},
     "output_type": "display_data"
    }
   ],
   "source": [
    "log_nz_i_l_kw_fid_min = np.floor(np.min(np.log10([np.min(differential_number_density_q[1]), np.min(S1_number_density_q[1]),\n",
    "                                                  np.min(S2_number_density_q[1]), np.min(S3_number_density_q[1])])))\n",
    "log_nz_i_l_kw_fid_max = np.ceil(np.max(np.log10([np.max(differential_number_density_q[1]), np.max(S1_number_density_q[1]),\n",
    "                                                 np.max(S2_number_density_q[1]), np.max(S3_number_density_q[1])])))\n",
    "\n",
    "\n",
    "log_hc_min = np.floor(10 * np.min(np.log10(np.concatenate((hc[-1, -1, -1, :], S1_hc[-1, -1, -1, :],\n",
    "                                            S2_hc[-1, -1, -1, :], S3_hc[-1, -1, -1, :]))))) / 10\n",
    "log_hc_max = np.ceil(10 * np.max(np.log10(np.concatenate((hc[-1, -1, -1, :], S1_hc[-1, -1, -1, :],\n",
    "                                           S2_hc[-1, -1, -1, :], S3_hc[-1, -1, -1, :]))))) / 10\n",
    "bins = np.linspace(log_hc_min, log_hc_max,\n",
    "                   int((log_hc_max - (log_hc_min - .1)) / .1))\n",
    "\n",
    "sesana_min = 3.5e-16\n",
    "sesana_max = 1.5e-15\n",
    "log_sesana_min = np.log10(sesana_min)\n",
    "log_sesana_max = np.log10(sesana_max)\n",
    "log_sesana_mid = np.mean([log_sesana_min, log_sesana_max])\n",
    "log_sesana_h = log_sesana_max - log_sesana_mid\n",
    "log_sesana_l = log_sesana_mid - log_sesana_min\n",
    "\n",
    "log_hc_mid = np.log10(hc_q[1, -1, -1, -1])\n",
    "log_hc_min = np.log10(hc_q[0, -1, -1, -1])\n",
    "log_hc_max = np.log10(hc_q[2, -1, -1, -1])\n",
    "log_hc_h = log_hc_max - log_hc_mid\n",
    "log_hc_l = log_hc_mid - log_hc_min\n",
    "\n",
    "sns.set_context(\"talk\", font_scale=1.8)\n",
    "fig, ax = plt.subplots(1, 3, figsize=(36, 9))\n",
    "\n",
    "label_fsize = 42\n",
    "legend_fsize = 30\n",
    "\n",
    "ax[0].tick_params()\n",
    "ax[1].tick_params()\n",
    "\n",
    "ax[0].fill_between(z_range_borch, S1_number_density_q[0], S1_number_density_q[2],\n",
    "                 color=cs[1], alpha=.2, hatch='\\\\')\n",
    "s1, = ax[0].plot(z_range_borch, S1_number_density_q[1], color=cs[1],\n",
    "                linewidth=3, linestyle=':')\n",
    "ax[0].fill_between(z_range_drory, S2_number_density_q[0], S2_number_density_q[2],\n",
    "                 color=cs[1], alpha=.2, hatch='||')\n",
    "s2, = ax[0].plot(z_range_drory, S2_number_density_q[1], color=cs[1],\n",
    "                linewidth=3, linestyle='-.')\n",
    "ax[0].fill_between(z_range_ilbert, S3_number_density_q[0], S3_number_density_q[2],\n",
    "                 color=cs[1], alpha=.2, hatch='-')\n",
    "s3, = ax[0].plot(z_range_ilbert, S3_number_density_q[1], color=cs[1],\n",
    "                linewidth=3, linestyle=(0, (3, 1, 1, 1, 1, 1)))\n",
    "\n",
    "# ax[0].fill_between(z_range, nz_q[0], nz_q[2], color=cs[2], alpha=.2, hatch='.')\n",
    "# m2, = ax[0].plot(z_range, nz_q[1], color=cs[2], linewidth=3, linestyle='--')\n",
    "\n",
    "ax[0].fill_between(z_range, differential_number_density_q[0], differential_number_density_q[2], color=cs[0], alpha=.2, hatch='/')\n",
    "m1, = ax[0].plot(z_range, differential_number_density_q[1], color=cs[0], linewidth=3, linestyle='-')\n",
    "\n",
    "ax[0].set_yscale('log')\n",
    "ax[0].set_ylabel(r'$\\Phi_{\\rm{BHB}}(z)\\ [\\rm{Mpc}^{-3}]$', fontsize=label_fsize)\n",
    "ax[0].set_xlabel(r'$z$', fontsize=label_fsize)\n",
    "# ax[0].set_ylim((10 ** (log_nz_i_l_kw_fid_min - 1), 10 ** (log_nz_i_l_kw_fid_max + 1)))\n",
    "ax[0].set_ylim(top=5e-2, bottom=1e-7)\n",
    "\n",
    "# ax[0].legend([m1, m2, (s1, s2, s3)], ['This Work', 'G19', 'S13 Realizations'], numpoints=1,\n",
    "#              handler_map={tuple: HandlerTupleVertical(ndivide=None)}, loc='lower right', fontsize=legend_fsize)\n",
    "ax[0].legend([m1], ['This Work'], numpoints=1,\n",
    "             handler_map={tuple: HandlerTupleVertical(ndivide=None)}, loc='lower right', fontsize=legend_fsize)\n",
    "\n",
    "ax[1].fill_between(10 ** log_m_bh_range, S1_local_bhmf_q[0], S1_local_bhmf_q[2], color=cs[1], alpha=.2, hatch='\\\\')\n",
    "s1, = ax[1].plot(10 ** log_m_bh_range, S1_local_bhmf_q[1], color=cs[1],\n",
    "                 linewidth=3, linestyle=':')\n",
    "ax[1].fill_between(10 ** log_m_bh_range, S2_local_bhmf_q[0], S2_local_bhmf_q[2], color=cs[1], alpha=.2, hatch='||')\n",
    "s2, = ax[1].plot(10 ** log_m_bh_range, S2_local_bhmf_q[1], color=cs[1],\n",
    "                 linewidth=3, linestyle='-.')\n",
    "ax[1].fill_between(10 ** log_m_bh_range, S3_local_bhmf_q[0], S3_local_bhmf_q[2], color=cs[1], alpha=.2, hatch='-')\n",
    "s3, = ax[1].plot(10 ** log_m_bh_range, S3_local_bhmf_q[1], color=cs[1],\n",
    "                 linewidth=3, linestyle=(0, (3, 1, 1, 1, 1, 1)))\n",
    "\n",
    "# ax[1].fill_between(10 ** log_m_bh_range, p_m_q[0], p_m_q[2], color=cs[2], alpha=.2, hatch='.')\n",
    "# m2, = ax[1].plot(10 ** log_m_bh_range, p_m_q[1], color=cs[2], linewidth=3, linestyle='--')\n",
    "\n",
    "ax[1].fill_between(10 ** log_m_bh_range, local_bhmf_q[0], local_bhmf_q[2], color=cs[0], alpha=.2, hatch='/')\n",
    "m1, = ax[1].plot(10 ** log_m_bh_range, local_bhmf_q[1], color=cs[0], linewidth=3, linestyle='-')\n",
    "\n",
    "ax[1].set_xscale('log')\n",
    "ax[1].set_yscale('log')\n",
    "ax[1].set_ylabel(r'$d \\Phi_{\\rm{BHB}} / d M_{\\rm{BH}}\\ [M_{\\odot}^{-1}\\,\\rm{Mpc}^{-3}]$', fontsize=label_fsize)\n",
    "ax[1].set_xlabel(r'$M_{\\rm{BH}} [M_{\\odot}]$', fontsize=label_fsize)\n",
    "ax[1].set_ylim(bottom=1e-22, top=1e-9)\n",
    "# ax[1].legend([m1, m2, (s1, s2, s3)], ['Hopkins+ 2007', 'Marconi+ 2004', 'S13 Realizations'], numpoints=1,\n",
    "#              handler_map={tuple: HandlerTupleVertical(ndivide=None)}, loc='lower left', fontsize=legend_fsize)\n",
    "ax[1].legend([m1, (s1, s2, s3)], ['Hopkins+ 2007', 'S13 Realizations'], numpoints=1,\n",
    "             handler_map={tuple: HandlerTupleVertical(ndivide=None)}, loc='lower left', fontsize=legend_fsize)\n",
    "\n",
    "ax[2].axvspan(log_sesana_min, log_sesana_max, color='k', alpha=.1)\n",
    "ax[2].hist(np.log10(S1_hc[-1, -1, -1, :]), histtype='step', bins=bins,\n",
    "           density=False, color=cs[1], linestyle=':',\n",
    "           label=r'S13: Realization 1',\n",
    "           weights=np.repeat(1 / len(S1_hc[-1, -1, -1, :]), len(S1_hc[-1, -1, -1, :])),\n",
    "           fill=True, alpha=.2, hatch='\\\\')\n",
    "ax[2].hist(np.log10(S1_hc[-1, -1, -1, :]), histtype='step', bins=bins,\n",
    "           density=False, color=cs[1], linestyle=':',\n",
    "           label=r'S13: Realization 1',\n",
    "           weights=np.repeat(1 / len(S1_hc[-1, -1, -1, :]), len(S1_hc[-1, -1, -1, :])))\n",
    "\n",
    "ax[2].hist(np.log10(S2_hc[-1, -1, -1, :]), histtype='step', bins=bins,\n",
    "           density=False, color=cs[1], linestyle='-.',\n",
    "           label=r'S13: Realization 2',\n",
    "           weights=np.repeat(1 / len(S2_hc[-1, -1, -1, :]), len(S2_hc[-1, -1, -1, :])),\n",
    "           fill=True, alpha=.2, hatch='||')\n",
    "ax[2].hist(np.log10(S2_hc[-1, -1, -1, :]), histtype='step', bins=bins,\n",
    "           density=False, color=cs[1], linestyle='-.',\n",
    "           label=r'S13: Realization 2',\n",
    "           weights=np.repeat(1 / len(S2_hc[-1, -1, -1, :]), len(S2_hc[-1, -1, -1, :])))\n",
    "\n",
    "ax[2].hist(np.log10(S3_hc[-1, -1, -1, :]), histtype='step', bins=bins,\n",
    "           density=False, color=cs[1], linestyle=(0, (3, 1, 1, 1, 1, 1)),\n",
    "           label=r'S13: Realization 3',\n",
    "           weights=np.repeat(1 / len(S3_hc[-1, -1, -1, :]), len(S3_hc[-1, -1, -1, :])),\n",
    "           fill=True, alpha=.2, hatch='-')\n",
    "ax[2].hist(np.log10(S3_hc[-1, -1, -1, :]), histtype='step', bins=bins,\n",
    "           density=False, color=cs[1], linestyle=(0, (3, 1, 1, 1, 1, 1)),\n",
    "           label=r'S13: Realization 3',\n",
    "           weights=np.repeat(1 / len(S3_hc[-1, -1, -1, :]), len(S3_hc[-1, -1, -1, :])))\n",
    "\n",
    "# ax[2].hist(np.log10(hc_g), histtype='step', bins=bins, density=False, color=cs[2], linestyle='--',\n",
    "#            label=r'G19', weights=np.repeat(1 / len(hc_g), len(hc_g)), linewidth=2, fill=True, alpha=.2, hatch='.')\n",
    "# ax[2].hist(np.log10(hc_g), histtype='step', bins=bins, density=False, color=cs[2], linestyle='--',\n",
    "#            label=r'G19', weights=np.repeat(1 / len(hc_g), len(hc_g)), linewidth=2)\n",
    "\n",
    "ax[2].hist(np.log10(hc[-1, -1, -1, :]), histtype='step', bins=bins, density=False, color=cs[0], linestyle='-',\n",
    "           label=r'This work', weights=np.repeat(1 / len(hc[-1, -1, -1, :]), len(hc[-1, -1, -1, :])), linewidth=2,\n",
    "           fill=True, alpha=.2, hatch='/')\n",
    "ax[2].hist(np.log10(hc[-1, -1, -1, :]), histtype='step', bins=bins, density=False, color=cs[0], linestyle='-',\n",
    "           label=r'This work', weights=np.repeat(1 / len(hc[-1, -1, -1, :]), len(hc[-1, -1, -1, :])), linewidth=2)\n",
    "\n",
    "# ax[2].annotate(r'S13',\n",
    "#                xy=(log_sesana_min - .3, .49))\n",
    "# ax[2].errorbar(log_hc_mid, 0.45,\n",
    "#              xerr=[[log_hc_l],\n",
    "#                    [log_hc_h]],\n",
    "#              capsize=4, color=cs[0])\n",
    "# ax[2].annotate(r'This Work',\n",
    "#                xy=(log_hc_min - .75, .44))\n",
    "\n",
    "ax[2].axvline(np.log10(1.9e-15), color='k', linestyle='--')\n",
    "ax[2].annotate(r'NANOGrav 12.5-yr',\n",
    "               xy=(np.log10(1.9e-15) + .03, .4), xytext=(3, 3),\n",
    "               textcoords=\"offset points\", rotation_mode='anchor', rotation=-90)\n",
    "ax[2].set_xlabel(r'$\\log h_{c}$', fontsize=label_fsize)\n",
    "ax[2].set_ylabel(r'$P(h_{c})$', fontsize=label_fsize)\n",
    "ax[2].set_xlim(left=-16.9)\n",
    "ax[2].set_ylim(top=.5)\n",
    "# ax[2].legend([m1, m2, (s1, s2, s3)], ['This Work', 'G19', 'S13 Realizations'], numpoints=1,\n",
    "#              handler_map={tuple: HandlerTupleVertical(ndivide=None)}, frameon=False, loc='upper left', fontsize=legend_fsize)\n",
    "ax[2].legend([m1, (s1, s2, s3)], ['This Work', 'S13 Realizations'], numpoints=1,\n",
    "             handler_map={tuple: HandlerTupleVertical(ndivide=None)}, frameon=False, loc='upper left', fontsize=legend_fsize)\n",
    "\n",
    "plt.tight_layout()\n",
    "plt.savefig('../reports/figures/model_comparison.pdf')\n",
    "plt.show()"
   ]
  }
 ],
 "metadata": {
  "kernelspec": {
   "display_name": "Python 3",
   "language": "python",
   "name": "python3"
  },
  "language_info": {
   "codemirror_mode": {
    "name": "ipython",
    "version": 3
   },
   "file_extension": ".py",
   "mimetype": "text/x-python",
   "name": "python",
   "nbconvert_exporter": "python",
   "pygments_lexer": "ipython3",
   "version": "3.9.1"
  },
  "toc-autonumbering": true
 },
 "nbformat": 4,
 "nbformat_minor": 4
}
