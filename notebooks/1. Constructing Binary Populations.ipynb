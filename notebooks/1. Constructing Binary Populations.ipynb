{
 "cells": [
  {
   "cell_type": "markdown",
   "metadata": {},
   "source": [
    "# Introduction"
   ]
  },
  {
   "cell_type": "markdown",
   "metadata": {},
   "source": [
    "# Methods"
   ]
  },
  {
   "cell_type": "code",
   "execution_count": 1,
   "metadata": {},
   "outputs": [
    {
     "name": "stderr",
     "output_type": "stream",
     "text": [
      "<ipython-input-1-a88728b5fd9d>:30: TqdmExperimentalWarning: Using `tqdm.autonotebook.tqdm` in notebook mode. Use `tqdm.tqdm` instead to force console mode (e.g. in jupyter console)\n",
      "  from tqdm.autonotebook import tqdm\n"
     ]
    }
   ],
   "source": [
    "# OPTIONAL: Load the \"autoreload\" extension so that code can change\n",
    "%load_ext autoreload\n",
    "\n",
    "# OPTIONAL: always reload modules so that as you change code in src, it gets loaded\n",
    "%autoreload 2\n",
    "import os\n",
    "import sys\n",
    "module_path = os.path.abspath(os.path.join('..'))\n",
    "if module_path not in sys.path:\n",
    "    sys.path.append(module_path)\n",
    "\n",
    "import multiprocessing as mp\n",
    "import numpy as np\n",
    "import pandas as pd\n",
    "import pickle\n",
    "import h5py\n",
    "from IPython.display import display, Math\n",
    "\n",
    "from scipy.integrate import trapz, cumtrapz\n",
    "from scipy.interpolate import UnivariateSpline\n",
    "from scipy.stats import lognorm, truncnorm, rv_continuous\n",
    "\n",
    "import astropy.constants as const\n",
    "import astropy.units as u\n",
    "import astropy.uncertainty as unc\n",
    "from astropy.cosmology import WMAP9, z_at_value\n",
    "from astropy.modeling.functional_models import Linear1D, Const1D, Shift, Gaussian1D\n",
    "from astropy.modeling.tabular import Tabular1D\n",
    "\n",
    "from tqdm.autonotebook import tqdm\n",
    "\n",
    "from src.models.agn_proxy import (Hopkins2007QuasarFormationDensity,\n",
    "                                  LogNormal1D, Const3D, QuasarProxyBinaries,\n",
    "                                  ModifiedSchechter)\n",
    "from src.models.major_merger import (Schechter1D, Schechter2D,\n",
    "                                     DoubleSchechter2D, TripleSchechter2D,\n",
    "                                     PairFraction3D, PairFraction3D_3bins,\n",
    "                                     Timescale3D, Sesana2013_Schechter,\n",
    "                                     Sesana2013_DoubleSchechter,\n",
    "                                     Sesana2013_TripleSchechter)"
   ]
  },
  {
   "cell_type": "code",
   "execution_count": 2,
   "metadata": {},
   "outputs": [
    {
     "data": {
      "text/plain": [
       "(128, 32)"
      ]
     },
     "execution_count": 2,
     "metadata": {},
     "output_type": "execute_result"
    }
   ],
   "source": [
    "# Global variables\n",
    "n_samples = int(2 ** 7)\n",
    "n_mesh = int(2 ** 5)\n",
    "n_samples, n_mesh"
   ]
  },
  {
   "cell_type": "code",
   "execution_count": 3,
   "metadata": {},
   "outputs": [],
   "source": [
    "# class declarations\n",
    "class split_normal(rv_continuous):\n",
    "    def __init__(self, loc, scale1, scale2, *args, **kwargs):\n",
    "        self.loc = loc\n",
    "        self.scale1 = scale1\n",
    "        self.scale2 = scale2\n",
    "        self.normalization = 2 / (scale1 + scale2)\n",
    "        super().__init__(self, *args, **kwargs)\n",
    "        \n",
    "    def _pdf(self, x):\n",
    "        if x < self.loc:\n",
    "            return self.normalization * truncnorm.pdf(x, self.a, self.b, self.loc, self.scale1)\n",
    "        else:\n",
    "            return self.normalization * truncnorm.pdf(x, self.a, self.b, self.loc, self.scale2)\n",
    "    \n",
    "    def _cdf(self, x):\n",
    "        if x < self.loc:\n",
    "            return self.normalization * self.scale1 * truncnorm.cdf(x, self.a, self.b, self.loc, self.scale1)\n",
    "        else:\n",
    "            return 1 - self.normalization * self.scale2 * (1 - truncnorm.cdf(x, self.a, self.b, self.loc, self.scale2))\n",
    "    \n",
    "    def _ppf(self, q):\n",
    "        p = self.scale1 / (self.scale1 + self.scale2)\n",
    "        \n",
    "        output = np.where(q <= p,\n",
    "                          self.loc + self.scale1\n",
    "                          * truncnorm.ppf(.5 * (self.scale1 + self.scale2) * q\n",
    "                                          / self.scale1, self.a, self.b),\n",
    "                          self.loc + self.scale2\n",
    "                          * truncnorm.ppf(0.5 * ((self.scale1 + self.scale2)\n",
    "                                                 * (1 + q) - 2 * self.scale1)\n",
    "                                          / self.scale2, self.a, self.b))\n",
    "        return np.squeeze(output)"
   ]
  },
  {
   "cell_type": "code",
   "execution_count": 4,
   "metadata": {},
   "outputs": [],
   "source": [
    "def trunc_norm_dist(a=0, b=np.inf, loc=0, scale=1, size=n_samples):\n",
    "    return truncnorm.rvs(a=(a - loc) / scale, b=(b - loc) / scale,\n",
    "                                          loc=loc, scale=scale,\n",
    "                                          size=size)"
   ]
  },
  {
   "cell_type": "code",
   "execution_count": 5,
   "metadata": {},
   "outputs": [],
   "source": [
    "spl_norm = split_normal(loc=4.1e-7, scale1=2.7e-7, scale2=3.4e-7, a=0)"
   ]
  },
  {
   "cell_type": "code",
   "execution_count": 6,
   "metadata": {},
   "outputs": [
    {
     "data": {
      "text/plain": [
       "array([4.67557724e-07, 6.71277805e-07, 9.63030396e-07])"
      ]
     },
     "execution_count": 6,
     "metadata": {},
     "output_type": "execute_result"
    }
   ],
   "source": [
    "np.quantile(spl_norm.rvs(size=n_samples), q=[.16, .5, .84])"
   ]
  },
  {
   "cell_type": "markdown",
   "metadata": {},
   "source": [
    "## Dependencies/Assumptions"
   ]
  },
  {
   "cell_type": "markdown",
   "metadata": {},
   "source": [
    "### Shared"
   ]
  },
  {
   "cell_type": "markdown",
   "metadata": {},
   "source": [
    "#### Parameter space"
   ]
  },
  {
   "cell_type": "code",
   "execution_count": 7,
   "metadata": {},
   "outputs": [],
   "source": [
    "log_m_bh_min = 7\n",
    "log_m_bh_max = 10\n",
    "\n",
    "log_m_bh_range = np.linspace(log_m_bh_min, log_m_bh_max, num=n_mesh)\n",
    "\n",
    "z_min = 0\n",
    "z_max = 3\n",
    "z_range = np.linspace(z_min, z_max, num=n_mesh)\n",
    "\n",
    "q_min = 0.25\n",
    "q_max = 1\n",
    "q_range = np.linspace(q_min, q_max, num=n_mesh)"
   ]
  },
  {
   "cell_type": "markdown",
   "metadata": {},
   "source": [
    "#### Fiducial values"
   ]
  },
  {
   "cell_type": "code",
   "execution_count": 8,
   "metadata": {},
   "outputs": [],
   "source": [
    "fidhz = (1 / u.yr).to(u.Hz)"
   ]
  },
  {
   "cell_type": "markdown",
   "metadata": {
    "toc-hr-collapsed": true
   },
   "source": [
    "#### Cappellari (2013)"
   ]
  },
  {
   "cell_type": "markdown",
   "metadata": {},
   "source": [
    "##### $M_{\\rm{gal}} - M_{K}$ model parameters"
   ]
  },
  {
   "cell_type": "code",
   "execution_count": 9,
   "metadata": {},
   "outputs": [],
   "source": [
    "a_cappellari = unc.normal(10.5829, std=0.0086, n_samples=n_samples).distribution\n",
    "b_cappellari = unc.normal(-0.4449, std=0.0091, n_samples=n_samples).distribution"
   ]
  },
  {
   "cell_type": "markdown",
   "metadata": {},
   "source": [
    "##### $M_{\\rm{gal}} - K$ model"
   ]
  },
  {
   "cell_type": "code",
   "execution_count": 10,
   "metadata": {},
   "outputs": [],
   "source": [
    "c_intercept = a_cappellari + (b_cappellari * 23)\n",
    "c_slope = b_cappellari\n",
    "cappellari_mgal_k = Linear1D(slope=c_slope,\n",
    "                             intercept=c_intercept,\n",
    "                             n_models=n_samples)"
   ]
  },
  {
   "cell_type": "code",
   "execution_count": 11,
   "metadata": {},
   "outputs": [
    {
     "name": "stdout",
     "output_type": "stream",
     "text": [
      "Model: Linear1D\n",
      "Inputs: ('x',)\n",
      "Outputs: ('y',)\n",
      "Model set size: 128\n",
      "Parameters:\n",
      "           slope              intercept     \n",
      "    -------------------- -------------------\n",
      "     -0.4417743949274592  0.4430515216774378\n",
      "    -0.43241791440434474  0.6299250779529757\n",
      "      -0.442023142136451  0.4171261041658081\n",
      "    -0.44586186906335806   0.327759829777742\n",
      "     -0.4340237135671143  0.6068410613510746\n",
      "    -0.44128666598604965 0.44180916055538155\n",
      "    -0.44739065502606246  0.2827884272968113\n",
      "     -0.4305649885829012   0.684235781290452\n",
      "     -0.4357078097198807   0.562721758872085\n",
      "      -0.440716677452679 0.44427845639485675\n",
      "                     ...                 ...\n",
      "     -0.4415312688048694  0.4364481017520099\n",
      "     -0.4444158204563311 0.35790395617882176\n",
      "    -0.44659496796506165  0.3097909353607946\n",
      "     -0.4322465397999584  0.6499305348425146\n",
      "      -0.443735991166541   0.380981136754059\n",
      "      -0.448559811265324 0.27736345052543676\n",
      "     -0.4380107444703941  0.5129807719473067\n",
      "     -0.4384190579979936 0.49857801946424196\n",
      "     -0.4455527062812698 0.33032924287114085\n",
      "    -0.43475810751689076  0.5795235992296526\n",
      "     -0.4518055412326625  0.1847092611662795\n",
      "    Length = 128 rows\n"
     ]
    }
   ],
   "source": [
    "print(cappellari_mgal_k)\n",
    "with open('../models/Cappellari2013_mgal_mk_relation.pkl', 'wb') as f:\n",
    "    pickle.dump(cappellari_mgal_k, f)"
   ]
  },
  {
   "cell_type": "markdown",
   "metadata": {
    "toc-hr-collapsed": true
   },
   "source": [
    "#### McConnell & Ma (2013)"
   ]
  },
  {
   "cell_type": "markdown",
   "metadata": {},
   "source": [
    "##### $M - M_{\\rm{bulge}}$ model parameters"
   ]
  },
  {
   "cell_type": "code",
   "execution_count": 12,
   "metadata": {},
   "outputs": [],
   "source": [
    "alpha_mcconnell_ma = unc.normal(8.46, std=.08, n_samples=n_samples).distribution\n",
    "beta_mcconnell_ma = unc.normal(1.05, std=.11, n_samples=n_samples).distribution\n",
    "intrinsic_disp_mcconnell_ma = np.random.normal(scale=.34, size=n_samples)"
   ]
  },
  {
   "cell_type": "markdown",
   "metadata": {},
   "source": [
    "##### $M - M_{\\rm{bulge}}$ model"
   ]
  },
  {
   "cell_type": "markdown",
   "metadata": {},
   "source": [
    "Scaled to $M_{\\rm{bulge}} / 10^{11}\\;\\rm{M}_{\\odot}$"
   ]
  },
  {
   "cell_type": "code",
   "execution_count": 13,
   "metadata": {},
   "outputs": [],
   "source": [
    "mm_intercept = alpha_mcconnell_ma - (beta_mcconnell_ma * 11)\n",
    "mm_slope = beta_mcconnell_ma\n",
    "mcconnell_ma_m_mbulge = Linear1D(slope=mm_slope,\n",
    "                                 intercept=mm_intercept,\n",
    "                                 n_models=n_samples)"
   ]
  },
  {
   "cell_type": "code",
   "execution_count": 14,
   "metadata": {},
   "outputs": [
    {
     "name": "stdout",
     "output_type": "stream",
     "text": [
      "Model: Linear1D\n",
      "Inputs: ('x',)\n",
      "Outputs: ('y',)\n",
      "Model set size: 128\n",
      "Parameters:\n",
      "          slope             intercept     \n",
      "    ------------------ -------------------\n",
      "    1.0750320431772524  -3.503343222476044\n",
      "    1.0099610172109545  -2.672867289464987\n",
      "    1.1664276487503686  -4.408796166942562\n",
      "    1.1089078435003432 -3.8142187329312502\n",
      "    0.9126495610774267  -1.483488915118322\n",
      "    0.9952412878521918 -2.4976207726638453\n",
      "    1.1279099929742002 -3.9861669410672693\n",
      "     1.167034482594716  -4.404792896467365\n",
      "    0.9004954784168724 -1.5045998417580897\n",
      "     1.038575388534865  -2.913580809145909\n",
      "                   ...                 ...\n",
      "    0.8969497684694266 -1.3252236397254347\n",
      "    1.1604047142832912  -4.135239727565505\n",
      "    0.9624524175444489 -2.0169747234153537\n",
      "    1.0400766645516448 -3.1588101098004806\n",
      "     1.264776489617753  -5.460968633310685\n",
      "    1.0197452965633151   -2.66309840495194\n",
      "    1.0796038345609256 -3.5905996115648904\n",
      "    1.1198726330001987  -3.697452073792311\n",
      "    1.1890242643281423  -4.556118933588037\n",
      "     1.090733654418059 -3.6075864415057293\n",
      "    1.0783988610064115   -3.21590129460054\n",
      "    Length = 128 rows\n"
     ]
    }
   ],
   "source": [
    "print(mcconnell_ma_m_mbulge)\n",
    "with open('../models/McConnellMa2013_mbh_mbulge_relation.pkl', 'wb') as f:\n",
    "    pickle.dump(mcconnell_ma_m_mbulge, f)"
   ]
  },
  {
   "cell_type": "markdown",
   "metadata": {},
   "source": [
    "### AGN-proxy model"
   ]
  },
  {
   "cell_type": "markdown",
   "metadata": {},
   "source": [
    "#### $M_{\\rm{BH}} - M_{\\rm{K}}$"
   ]
  },
  {
   "cell_type": "code",
   "execution_count": 15,
   "metadata": {},
   "outputs": [],
   "source": [
    "log_m_bh_m_k = cappellari_mgal_k | mcconnell_ma_m_mbulge"
   ]
  },
  {
   "cell_type": "markdown",
   "metadata": {
    "toc-hr-collapsed": true
   },
   "source": [
    "#### Mingarelli+ (2017)"
   ]
  },
  {
   "cell_type": "markdown",
   "metadata": {},
   "source": [
    "##### Mass ratio range"
   ]
  },
  {
   "cell_type": "code",
   "execution_count": 16,
   "metadata": {},
   "outputs": [],
   "source": [
    "q_min_mingarelli = .25\n",
    "q_max_mingarelli = 1"
   ]
  },
  {
   "cell_type": "markdown",
   "metadata": {},
   "source": [
    "##### Mass ranges"
   ]
  },
  {
   "cell_type": "code",
   "execution_count": 17,
   "metadata": {},
   "outputs": [
    {
     "data": {
      "text/html": [
       "<div>\n",
       "<style scoped>\n",
       "    .dataframe tbody tr th:only-of-type {\n",
       "        vertical-align: middle;\n",
       "    }\n",
       "\n",
       "    .dataframe tbody tr th {\n",
       "        vertical-align: top;\n",
       "    }\n",
       "\n",
       "    .dataframe thead th {\n",
       "        text-align: right;\n",
       "    }\n",
       "</style>\n",
       "<table border=\"1\" class=\"dataframe\">\n",
       "  <thead>\n",
       "    <tr style=\"text-align: right;\">\n",
       "      <th></th>\n",
       "      <th>RA</th>\n",
       "      <th>DEC</th>\n",
       "      <th>D_L(Mpc)</th>\n",
       "      <th>Kmag</th>\n",
       "      <th>Name</th>\n",
       "    </tr>\n",
       "  </thead>\n",
       "  <tbody>\n",
       "    <tr>\n",
       "      <th>0</th>\n",
       "      <td>189.998</td>\n",
       "      <td>-11.623</td>\n",
       "      <td>14.63</td>\n",
       "      <td>-25.88</td>\n",
       "      <td>NGC4594</td>\n",
       "    </tr>\n",
       "    <tr>\n",
       "      <th>1</th>\n",
       "      <td>187.445</td>\n",
       "      <td>8.000</td>\n",
       "      <td>20.78</td>\n",
       "      <td>-26.20</td>\n",
       "      <td>NGC4472</td>\n",
       "    </tr>\n",
       "    <tr>\n",
       "      <th>2</th>\n",
       "      <td>50.674</td>\n",
       "      <td>-37.208</td>\n",
       "      <td>19.76</td>\n",
       "      <td>-25.90</td>\n",
       "      <td>NGC1316</td>\n",
       "    </tr>\n",
       "    <tr>\n",
       "      <th>3</th>\n",
       "      <td>190.917</td>\n",
       "      <td>11.553</td>\n",
       "      <td>20.78</td>\n",
       "      <td>-25.86</td>\n",
       "      <td>NGC4649</td>\n",
       "    </tr>\n",
       "    <tr>\n",
       "      <th>4</th>\n",
       "      <td>187.706</td>\n",
       "      <td>12.391</td>\n",
       "      <td>20.78</td>\n",
       "      <td>-25.78</td>\n",
       "      <td>NGC4486</td>\n",
       "    </tr>\n",
       "    <tr>\n",
       "      <th>...</th>\n",
       "      <td>...</td>\n",
       "      <td>...</td>\n",
       "      <td>...</td>\n",
       "      <td>...</td>\n",
       "      <td>...</td>\n",
       "    </tr>\n",
       "    <tr>\n",
       "      <th>5105</th>\n",
       "      <td>214.458</td>\n",
       "      <td>0.511</td>\n",
       "      <td>223.09</td>\n",
       "      <td>-25.11</td>\n",
       "      <td>PGC051063</td>\n",
       "    </tr>\n",
       "    <tr>\n",
       "      <th>5106</th>\n",
       "      <td>64.351</td>\n",
       "      <td>-37.282</td>\n",
       "      <td>216.26</td>\n",
       "      <td>-25.05</td>\n",
       "      <td>PGC014806</td>\n",
       "    </tr>\n",
       "    <tr>\n",
       "      <th>5107</th>\n",
       "      <td>123.188</td>\n",
       "      <td>11.632</td>\n",
       "      <td>223.76</td>\n",
       "      <td>-25.13</td>\n",
       "      <td>PGC1396460</td>\n",
       "    </tr>\n",
       "    <tr>\n",
       "      <th>5108</th>\n",
       "      <td>206.159</td>\n",
       "      <td>21.093</td>\n",
       "      <td>218.77</td>\n",
       "      <td>-25.30</td>\n",
       "      <td>PGC3089894</td>\n",
       "    </tr>\n",
       "    <tr>\n",
       "      <th>5109</th>\n",
       "      <td>270.047</td>\n",
       "      <td>48.654</td>\n",
       "      <td>218.26</td>\n",
       "      <td>-25.41</td>\n",
       "      <td>PGC2322449</td>\n",
       "    </tr>\n",
       "  </tbody>\n",
       "</table>\n",
       "<p>5110 rows × 5 columns</p>\n",
       "</div>"
      ],
      "text/plain": [
       "           RA     DEC  D_L(Mpc)   Kmag        Name\n",
       "0     189.998 -11.623     14.63 -25.88     NGC4594\n",
       "1     187.445   8.000     20.78 -26.20     NGC4472\n",
       "2      50.674 -37.208     19.76 -25.90     NGC1316\n",
       "3     190.917  11.553     20.78 -25.86     NGC4649\n",
       "4     187.706  12.391     20.78 -25.78     NGC4486\n",
       "...       ...     ...       ...    ...         ...\n",
       "5105  214.458   0.511    223.09 -25.11   PGC051063\n",
       "5106   64.351 -37.282    216.26 -25.05   PGC014806\n",
       "5107  123.188  11.632    223.76 -25.13  PGC1396460\n",
       "5108  206.159  21.093    218.77 -25.30  PGC3089894\n",
       "5109  270.047  48.654    218.26 -25.41  PGC2322449\n",
       "\n",
       "[5110 rows x 5 columns]"
      ]
     },
     "execution_count": 17,
     "metadata": {},
     "output_type": "execute_result"
    }
   ],
   "source": [
    "galaxies = pd.read_csv('../data/external/25/added_mks.lst', delimiter='\\s+',\n",
    "                       usecols=[0, 1, 2, 3, 4], index_col=False)\n",
    "galaxies = galaxies.append(pd.read_csv('../data/external/25/schutzMa_extension.txt',\n",
    "                                       delimiter='\\s+',\n",
    "                                       usecols=[0, 1, 2, 3, 4],\n",
    "                                       index_col=False))\n",
    "catalog = pd.read_csv('../data/external/25/2mass_galaxies.lst', delimiter='\\s+',\n",
    "                      usecols=[1, 2, 3, 4, 5], index_col=False,\n",
    "                      names=['RA', 'DEC', 'D_L(Mpc)', 'Kmag', 'Name'])\n",
    "catalog"
   ]
  },
  {
   "cell_type": "code",
   "execution_count": 18,
   "metadata": {},
   "outputs": [],
   "source": [
    "# mm_intercept = alpha_mcconnell_ma - (beta_mcconnell_ma * 11)\n",
    "# mm_slope = beta_mcconnell_ma\n",
    "# mcconnell_ma_scatter = Gaussian1D(slope=mm_slope,\n",
    "#                                   intercept=mm_intercept,\n",
    "#                                   n_models=n_samples)"
   ]
  },
  {
   "cell_type": "code",
   "execution_count": 19,
   "metadata": {},
   "outputs": [],
   "source": [
    "# print(mcconnell_ma_m_mbulge)\n",
    "# with open('../models/McConnellMa2013_mbh_mbulge_relation.pkl', 'wb') as f:\n",
    "#     pickle.dump(mcconnell_ma_m_mbulge, f)"
   ]
  },
  {
   "cell_type": "code",
   "execution_count": 20,
   "metadata": {},
   "outputs": [
    {
     "data": {
      "text/latex": [
       "$\\displaystyle \\log M_{\\rm{BHB, min, M17}} = 8.46$"
      ],
      "text/plain": [
       "<IPython.core.display.Math object>"
      ]
     },
     "metadata": {},
     "output_type": "display_data"
    },
    {
     "data": {
      "text/latex": [
       "$\\displaystyle \\log M_{\\rm{BHB, max, M17}} = 10.32$"
      ],
      "text/plain": [
       "<IPython.core.display.Math object>"
      ]
     },
     "metadata": {},
     "output_type": "display_data"
    }
   ],
   "source": [
    "log_m_bhb_mingarelli = np.array([log_m_bh_m_k(Mk) for Mk in catalog['Kmag']])\n",
    "log_m_bhb_mingarelli = np.random.normal(log_m_bhb_mingarelli, .34)\n",
    "log_m_bhb_mingarelli_q = np.quantile(log_m_bhb_mingarelli, q=[.16, .5, .84], axis=1)\n",
    "log_m_bhb_mingarelli_max = np.max(log_m_bhb_mingarelli_q)\n",
    "log_m_bhb_mingarelli_min = np.min(log_m_bhb_mingarelli_q)\n",
    "display(Math(r'\\log M_{{\\rm{{BHB, min, M17}}}} = {0:.2f}'\n",
    "             .format(log_m_bhb_mingarelli_min)))\n",
    "display(Math(r'\\log M_{{\\rm{{BHB, max, M17}}}} = {0:.2f}'\n",
    "             .format(log_m_bhb_mingarelli_max)))"
   ]
  },
  {
   "cell_type": "code",
   "execution_count": 21,
   "metadata": {},
   "outputs": [
    {
     "data": {
      "text/latex": [
       "$\\displaystyle \\log M_{\\rm{BH, min, M17}} = 8.36$"
      ],
      "text/plain": [
       "<IPython.core.display.Math object>"
      ]
     },
     "metadata": {},
     "output_type": "display_data"
    },
    {
     "data": {
      "text/latex": [
       "$\\displaystyle \\log M_{\\rm{BH, max, M17}} = 10.02$"
      ],
      "text/plain": [
       "<IPython.core.display.Math object>"
      ]
     },
     "metadata": {},
     "output_type": "display_data"
    }
   ],
   "source": [
    "log_m_bh_min_mingarelli = log_m_bhb_mingarelli_min - np.log10(1 + q_min_mingarelli)\n",
    "log_m_bh_max_mingarelli = log_m_bhb_mingarelli_max - np.log10(1 + q_max_mingarelli)\n",
    "log_m_bh_max = log_m_bh_max_mingarelli\n",
    "display(Math(r'\\log M_{{\\rm{{BH, min, M17}}}} = {0:.2f}'\n",
    "             .format(log_m_bh_min_mingarelli)))\n",
    "display(Math(r'\\log M_{{\\rm{{BH, max, M17}}}} = {0:.2f}'\n",
    "             .format(log_m_bh_max_mingarelli)))"
   ]
  },
  {
   "cell_type": "markdown",
   "metadata": {},
   "source": [
    "#### $q$ distribution"
   ]
  },
  {
   "cell_type": "code",
   "execution_count": 22,
   "metadata": {},
   "outputs": [],
   "source": [
    "var_log_q = np.repeat(.5, n_samples)\n",
    "mode_log_q = np.repeat(0, n_samples)\n",
    "median_log_q = np.repeat(0, n_samples) #mode_log_q + (var_log_q ** 2)"
   ]
  },
  {
   "cell_type": "code",
   "execution_count": 23,
   "metadata": {},
   "outputs": [],
   "source": [
    "q_distrib = LogNormal1D(mu=median_log_q, std=var_log_q, n_models=n_samples)"
   ]
  },
  {
   "cell_type": "code",
   "execution_count": 24,
   "metadata": {},
   "outputs": [
    {
     "name": "stdout",
     "output_type": "stream",
     "text": [
      "Model: LogNormal1D\n",
      "Inputs: ('x',)\n",
      "Outputs: ('y',)\n",
      "Model set size: 128\n",
      "Parameters:\n",
      "     mu std\n",
      "    --- ---\n",
      "    0.0 0.5\n",
      "    0.0 0.5\n",
      "    0.0 0.5\n",
      "    0.0 0.5\n",
      "    0.0 0.5\n",
      "    0.0 0.5\n",
      "    0.0 0.5\n",
      "    0.0 0.5\n",
      "    0.0 0.5\n",
      "    0.0 0.5\n",
      "    ... ...\n",
      "    0.0 0.5\n",
      "    0.0 0.5\n",
      "    0.0 0.5\n",
      "    0.0 0.5\n",
      "    0.0 0.5\n",
      "    0.0 0.5\n",
      "    0.0 0.5\n",
      "    0.0 0.5\n",
      "    0.0 0.5\n",
      "    0.0 0.5\n",
      "    0.0 0.5\n",
      "    Length = 128 rows\n"
     ]
    }
   ],
   "source": [
    "print(q_distrib)\n",
    "with open('../models/q_distrib.pkl', 'wb') as f:\n",
    "    pickle.dump(q_distrib, f)"
   ]
  },
  {
   "cell_type": "markdown",
   "metadata": {
    "toc-hr-collapsed": true
   },
   "source": [
    "#### Hopkins+ (2007)"
   ]
  },
  {
   "cell_type": "markdown",
   "metadata": {},
   "source": [
    "##### Differential quasar formation density model parameters"
   ]
  },
  {
   "cell_type": "code",
   "execution_count": 25,
   "metadata": {},
   "outputs": [],
   "source": [
    "log_formation_rate_normalization = unc.normal(-3.830, std=0.031, n_samples=n_samples).distribution\n",
    "log_formation_rate_power_law_slope = unc.normal(-4.02, std=0.36, n_samples=n_samples).distribution\n",
    "log_mass_break_normalization = unc.normal(8.959, std=0.032, n_samples=n_samples).distribution\n",
    "log_mass_break_k_1 = unc.normal(1.18, std=0.13, n_samples=n_samples).distribution\n",
    "log_mass_break_k_2 = unc.normal(-6.68, std=0.44, n_samples=n_samples).distribution\n",
    "low_mass_slope = np.repeat(.2, n_samples)\n",
    "high_mass_slope_normalization = unc.normal(2.86, std=0.16, n_samples=n_samples).distribution\n",
    "high_mass_slope_k_1 = unc.normal(1.80, std=0.18, n_samples=n_samples).distribution\n",
    "high_mass_slope_k_2 = unc.normal(-1.13, std=0.09, n_samples=n_samples).distribution\n",
    "z_ref = np.repeat(2, n_samples)"
   ]
  },
  {
   "cell_type": "markdown",
   "metadata": {},
   "source": [
    "##### Differential quasar formation density model"
   ]
  },
  {
   "cell_type": "code",
   "execution_count": 26,
   "metadata": {},
   "outputs": [],
   "source": [
    "quasar_formation_rate = QuasarProxyBinaries(binary_normalization=np.repeat(1, n_samples),\n",
    "                                            log_formation_rate_normalization=log_formation_rate_normalization,\n",
    "                                            log_formation_rate_power_law_slope=log_formation_rate_power_law_slope,\n",
    "                                            log_mass_break_normalization=log_mass_break_normalization,\n",
    "                                            log_mass_break_k_1=log_mass_break_k_1,\n",
    "                                            log_mass_break_k_2=log_mass_break_k_2,\n",
    "                                            low_mass_slope=low_mass_slope,\n",
    "                                            high_mass_slope_normalization=high_mass_slope_normalization,\n",
    "                                            high_mass_slope_k_1=high_mass_slope_k_1,\n",
    "                                            high_mass_slope_k_2=high_mass_slope_k_2,\n",
    "                                            z_ref=z_ref,\n",
    "                                            mu_log_q=median_log_q,\n",
    "                                            std_log_q=var_log_q,\n",
    "                                            n_models=n_samples)"
   ]
  },
  {
   "cell_type": "code",
   "execution_count": 27,
   "metadata": {},
   "outputs": [
    {
     "name": "stdout",
     "output_type": "stream",
     "text": [
      "Model: QuasarProxyBinaries\n",
      "Inputs: ('x0', 'x1', 'x2')\n",
      "Outputs: ('x0',)\n",
      "Model set size: 128\n",
      "Parameters:\n",
      "    binary_normalization log_formation_rate_normalization ... mu_log_q std_log_q\n",
      "    -------------------- -------------------------------- ... -------- ---------\n",
      "                     1.0               -3.879473850371711 ...      0.0       0.5\n",
      "                     1.0               -3.914200048057708 ...      0.0       0.5\n",
      "                     1.0               -3.836707965894886 ...      0.0       0.5\n",
      "                     1.0               -3.813032522929121 ...      0.0       0.5\n",
      "                     1.0              -3.7914660129195177 ...      0.0       0.5\n",
      "                     1.0              -3.8067664628080657 ...      0.0       0.5\n",
      "                     1.0              -3.8354011500609526 ...      0.0       0.5\n",
      "                     1.0               -3.842222316543332 ...      0.0       0.5\n",
      "                     1.0              -3.8156617173807934 ...      0.0       0.5\n",
      "                     1.0              -3.8277575413940186 ...      0.0       0.5\n",
      "                     ...                              ... ...      ...       ...\n",
      "                     1.0               -3.781223541456726 ...      0.0       0.5\n",
      "                     1.0                -3.82339632205746 ...      0.0       0.5\n",
      "                     1.0              -3.8069768010047125 ...      0.0       0.5\n",
      "                     1.0              -3.7911369991107122 ...      0.0       0.5\n",
      "                     1.0               -3.777569352063083 ...      0.0       0.5\n",
      "                     1.0               -3.894493826581341 ...      0.0       0.5\n",
      "                     1.0              -3.8336340554758905 ...      0.0       0.5\n",
      "                     1.0               -3.806797914252996 ...      0.0       0.5\n",
      "                     1.0              -3.8558203386272525 ...      0.0       0.5\n",
      "                     1.0               -3.840579051347542 ...      0.0       0.5\n",
      "                     1.0              -3.8298996539338446 ...      0.0       0.5\n",
      "    Length = 128 rows\n"
     ]
    }
   ],
   "source": [
    "print(quasar_formation_rate)\n",
    "with open('../models/Hopkins2007_quasar_formation_rate_binaries.pkl', 'wb') as f:\n",
    "    pickle.dump(quasar_formation_rate, f)"
   ]
  },
  {
   "cell_type": "markdown",
   "metadata": {},
   "source": [
    "### Goulding+ (2019) AGN-proxy model"
   ]
  },
  {
   "cell_type": "markdown",
   "metadata": {},
   "source": [
    "#### Goulding+ (2019)"
   ]
  },
  {
   "cell_type": "code",
   "execution_count": 28,
   "metadata": {},
   "outputs": [],
   "source": [
    "# Number density luminosity bounds\n",
    "log_l_min = np.log10((.3 * (10 ** 46.) * u.erg / u.s).to(u.Lsun).value)\n",
    "log_l_max = np.log10((.3 * (10 ** 47.) * u.erg / u.s).to(u.Lsun).value)\n",
    "\n",
    "log_m_min_goulding = 8\n",
    "log_m_max_goulding = 10\n",
    "\n",
    "log_m_bh_min_goulding = log_m_min_goulding - np.log10(1 + q_min)\n",
    "log_m_bh_max_goulding = log_m_max_goulding - np.log10(1 + q_max)"
   ]
  },
  {
   "cell_type": "markdown",
   "metadata": {},
   "source": [
    "#### Sheth+ (2003)"
   ]
  },
  {
   "cell_type": "markdown",
   "metadata": {},
   "source": [
    "##### Velocity dispersion function parameters"
   ]
  },
  {
   "cell_type": "code",
   "execution_count": 29,
   "metadata": {},
   "outputs": [],
   "source": [
    "dispersion_normalization = unc.normal(0.002, std=.0001, n_samples=n_samples).distribution * (WMAP9.h ** 3)\n",
    "dispersion_break = np.repeat(88.8, n_samples)  # unc.normal(88.8, std=17.7, n_samples=n_samples).distribution\n",
    "alpha = np.repeat(6.5, n_samples)  # unc.normal(6.5, std=1., n_samples=n_samples).distribution\n",
    "beta = np.repeat(1.93, n_samples)"
   ]
  },
  {
   "cell_type": "markdown",
   "metadata": {},
   "source": [
    "##### Velocity dispersion function"
   ]
  },
  {
   "cell_type": "code",
   "execution_count": 30,
   "metadata": {},
   "outputs": [],
   "source": [
    "sheth_2003_velocity_dispersion_function = ModifiedSchechter(normalization=dispersion_normalization,\n",
    "                                                            sigma_break=dispersion_break,\n",
    "                                                            alpha=alpha,\n",
    "                                                            beta=beta,\n",
    "                                                            n_models=n_samples)"
   ]
  },
  {
   "cell_type": "code",
   "execution_count": 31,
   "metadata": {},
   "outputs": [
    {
     "name": "stdout",
     "output_type": "stream",
     "text": [
      "Model: ModifiedSchechter\n",
      "Inputs: ('x',)\n",
      "Outputs: ('y',)\n",
      "Model set size: 128\n",
      "Parameters:\n",
      "        normalization     sigma_break alpha beta\n",
      "    --------------------- ----------- ----- ----\n",
      "    0.0006109568308799506        88.8   6.5 1.93\n",
      "    0.0007038107453453228        88.8   6.5 1.93\n",
      "    0.0006775837356019088        88.8   6.5 1.93\n",
      "    0.0006976243020850973        88.8   6.5 1.93\n",
      "    0.0006283556818689745        88.8   6.5 1.93\n",
      "    0.0006729001938410139        88.8   6.5 1.93\n",
      "     0.000696510782266515        88.8   6.5 1.93\n",
      "    0.0006963923829595803        88.8   6.5 1.93\n",
      "    0.0006615451402555514        88.8   6.5 1.93\n",
      "    0.0006905389215384515        88.8   6.5 1.93\n",
      "                      ...         ...   ...  ...\n",
      "    0.0006717577764298282        88.8   6.5 1.93\n",
      "    0.0006639347261811728        88.8   6.5 1.93\n",
      "    0.0006433745106390845        88.8   6.5 1.93\n",
      "    0.0006470254773362003        88.8   6.5 1.93\n",
      "    0.0006324020768079066        88.8   6.5 1.93\n",
      "    0.0006362173908919189        88.8   6.5 1.93\n",
      "    0.0006351572790712073        88.8   6.5 1.93\n",
      "    0.0007065786433220883        88.8   6.5 1.93\n",
      "    0.0006998944556953396        88.8   6.5 1.93\n",
      "     0.000682341812670047        88.8   6.5 1.93\n",
      "    0.0006534167964246141        88.8   6.5 1.93\n",
      "    Length = 128 rows\n"
     ]
    }
   ],
   "source": [
    "print(sheth_2003_velocity_dispersion_function)\n",
    "with open('../models/Sheth2003_velocity_dispersion_function.pkl', 'wb') as f:\n",
    "    pickle.dump(sheth_2003_velocity_dispersion_function, f)"
   ]
  },
  {
   "cell_type": "markdown",
   "metadata": {},
   "source": [
    "#### Marconi+ (2004)"
   ]
  },
  {
   "cell_type": "markdown",
   "metadata": {},
   "source": [
    "##### Black hole mass function parameters"
   ]
  },
  {
   "cell_type": "code",
   "execution_count": 32,
   "metadata": {},
   "outputs": [],
   "source": [
    "# b_marconi = unc.normal(4.11, std=.33, n_samples=n_samples).distribution\n",
    "# a_marconi = unc.normal(8.30, std=.07, n_samples=n_samples).distribution - 2.3 * b_marconi\n",
    "# intrinsic_disp_marconi = .3"
   ]
  },
  {
   "cell_type": "markdown",
   "metadata": {},
   "source": [
    "##### Black hole mass function"
   ]
  },
  {
   "cell_type": "code",
   "execution_count": 33,
   "metadata": {},
   "outputs": [],
   "source": [
    "# bell_2003_galactic_mass_function = Schechter1D(normalization=phi_bell,\n",
    "#                                                log_m_break=log_mgal_break_bell,\n",
    "#                                                exponent=alpha_bell,\n",
    "#                                                n_models=n_samples)"
   ]
  },
  {
   "cell_type": "markdown",
   "metadata": {},
   "source": [
    "### Merger models"
   ]
  },
  {
   "cell_type": "markdown",
   "metadata": {},
   "source": [
    "#### Bell+ (2003)"
   ]
  },
  {
   "cell_type": "markdown",
   "metadata": {},
   "source": [
    "##### Galactic mass function parameters"
   ]
  },
  {
   "cell_type": "code",
   "execution_count": 34,
   "metadata": {},
   "outputs": [],
   "source": [
    "z_bell = 0.\n",
    "phi_bell = trunc_norm_dist(a=0, b=np.inf, loc=0.0133, scale=0.0006, size=n_samples) * (WMAP9.h ** 3)\n",
    "log_mgal_break_bell = unc.normal(10.63, std=.01, n_samples=n_samples).distribution - 2. * np.log10(WMAP9.h)\n",
    "alpha_bell = unc.normal(-0.86, std=.04, n_samples=n_samples).distribution"
   ]
  },
  {
   "cell_type": "markdown",
   "metadata": {},
   "source": [
    "##### Galactic mass function"
   ]
  },
  {
   "cell_type": "code",
   "execution_count": 35,
   "metadata": {},
   "outputs": [],
   "source": [
    "bell_2003_galactic_mass_function = Schechter1D(normalization=phi_bell,\n",
    "                                               log_m_break=log_mgal_break_bell,\n",
    "                                               exponent=alpha_bell,\n",
    "                                               n_models=n_samples)"
   ]
  },
  {
   "cell_type": "code",
   "execution_count": 36,
   "metadata": {},
   "outputs": [
    {
     "name": "stdout",
     "output_type": "stream",
     "text": [
      "Model: Schechter1D\n",
      "Inputs: ('x',)\n",
      "Outputs: ('y',)\n",
      "Model set size: 128\n",
      "Parameters:\n",
      "        normalization        log_m_break           exponent     \n",
      "    --------------------- ------------------ -------------------\n",
      "     0.004536429684000882 10.938091586504747 -0.8405242650618657\n",
      "     0.004647405450417095  10.92995703508616 -0.8471134410433394\n",
      "    0.0042279956006076175 10.937575684893757 -0.8495464519022827\n",
      "    0.0045898392809899605 10.948671346435422 -0.8488738801937845\n",
      "     0.004303895804035193 10.952289952709982 -0.8318542373358833\n",
      "     0.004258989514743219 10.951803343556566 -0.8808855115226863\n",
      "     0.004393907708378568 10.942899325658363 -0.7886807872039263\n",
      "     0.004683523209656901 10.952261151825416 -0.8612988438975725\n",
      "      0.00403928643001697 10.960776480386787 -0.8793775246029487\n",
      "     0.004855615733054511 10.957439279444426 -0.8886729975372606\n",
      "                      ...                ...                 ...\n",
      "     0.004365092326170985 10.934793214564214 -0.8649791361742956\n",
      "     0.004430982807751835  10.94752147043339 -0.8700574637742791\n",
      "     0.004463204476181146 10.952202856893607 -0.8632084915405616\n",
      "     0.004425172152137887 10.949799955517479  -0.858237846474067\n",
      "     0.004356833723584401 10.941635313130572 -0.8499667720078764\n",
      "     0.004646251882219581 10.944749557608045 -0.8045408430776717\n",
      "     0.004479826496062055 10.943486019740465 -0.8661432110653626\n",
      "     0.004439417551390143 10.925818829078018 -0.8876499839151988\n",
      "     0.004435870654451532 10.948844322714962 -0.8577203362341439\n",
      "     0.004514515443589056 10.938104541940078 -0.8704647443458493\n",
      "     0.004368831002603299 10.948134828548877 -0.7889257620824937\n",
      "    Length = 128 rows\n"
     ]
    }
   ],
   "source": [
    "print(bell_2003_galactic_mass_function)\n",
    "with open('../models/Bell2003_galaxy_mass_function.pkl', 'wb') as f:\n",
    "    pickle.dump(bell_2003_galactic_mass_function, f)"
   ]
  },
  {
   "cell_type": "markdown",
   "metadata": {},
   "source": [
    "#### Borch+ (2006)"
   ]
  },
  {
   "cell_type": "markdown",
   "metadata": {},
   "source": [
    "##### Galactic mass function parameters"
   ]
  },
  {
   "cell_type": "code",
   "execution_count": 37,
   "metadata": {},
   "outputs": [],
   "source": [
    "z_borch = np.array([0, .3, .5, .7, .9])\n",
    "z_range_borch = np.linspace(0, .9, num=n_mesh)\n",
    "\n",
    "norm_0_borch = trunc_norm_dist(a=0, b=np.inf, loc=37e-4, scale=4e-4, size=n_samples)\n",
    "norm_3_borch = trunc_norm_dist(a=0, b=np.inf, loc=17e-4, scale=7e-4, size=n_samples)\n",
    "norm_5_borch = trunc_norm_dist(a=0, b=np.inf, loc=15e-4, scale=5e-4, size=n_samples)\n",
    "norm_7_borch = trunc_norm_dist(a=0, b=np.inf, loc=11e-4, scale=4e-4, size=n_samples)\n",
    "norm_9_borch = trunc_norm_dist(a=0, b=np.inf, loc=9e-4, scale=3e-4, size=n_samples)\n",
    "\n",
    "log_m_gal_0_borch = unc.normal(10.81, std=.1, n_samples=n_samples).distribution\n",
    "log_m_gal_3_borch =  unc.normal(10.97, std=.09, n_samples=n_samples).distribution\n",
    "log_m_gal_5_borch =  unc.normal(10.95, std=.1, n_samples=n_samples).distribution\n",
    "log_m_gal_7_borch =  unc.normal(11.06, std=.18, n_samples=n_samples).distribution\n",
    "log_m_gal_9_borch =  unc.normal(11.01, std=.08, n_samples=n_samples).distribution\n",
    "\n",
    "alpha_0_borch = unc.normal(-.7, std=.07, n_samples=n_samples).distribution\n",
    "alpha_3_borch = unc.normal(-.7, std=.07, n_samples=n_samples).distribution\n",
    "alpha_5_borch = unc.normal(-.7, std=.07, n_samples=n_samples).distribution\n",
    "alpha_7_borch = unc.normal(-.7, std=.07, n_samples=n_samples).distribution\n",
    "alpha_9_borch = unc.normal(-.7, std=.07, n_samples=n_samples).distribution"
   ]
  },
  {
   "cell_type": "markdown",
   "metadata": {},
   "source": [
    "##### Galactic mass function"
   ]
  },
  {
   "cell_type": "code",
   "execution_count": 38,
   "metadata": {},
   "outputs": [],
   "source": [
    "borch_2006_galactic_mass_function = Schechter2D(norm1=norm_0_borch,\n",
    "                                                norm2=norm_3_borch,\n",
    "                                                norm3=norm_5_borch,\n",
    "                                                norm4=norm_7_borch,\n",
    "                                                norm5=norm_9_borch,\n",
    "                                                log_m_break1=log_m_gal_0_borch,\n",
    "                                                log_m_break2=log_m_gal_3_borch,\n",
    "                                                log_m_break3=log_m_gal_5_borch,\n",
    "                                                log_m_break4=log_m_gal_7_borch,\n",
    "                                                log_m_break5=log_m_gal_9_borch,\n",
    "                                                exp1=alpha_0_borch,\n",
    "                                                exp2=alpha_3_borch,\n",
    "                                                exp3=alpha_5_borch,\n",
    "                                                exp4=alpha_7_borch,\n",
    "                                                exp5=alpha_9_borch,\n",
    "                                                n_models=n_samples)"
   ]
  },
  {
   "cell_type": "code",
   "execution_count": 39,
   "metadata": {},
   "outputs": [
    {
     "name": "stdout",
     "output_type": "stream",
     "text": [
      "Model: Schechter2D\n",
      "Inputs: ('x', 'y')\n",
      "Outputs: ('z',)\n",
      "Model set size: 128\n",
      "Parameters:\n",
      "            norm1                 norm2         ...         exp5       \n",
      "    --------------------- --------------------- ... -------------------\n",
      "    0.0034165016580645774 0.0011912491725597915 ... -0.6909566961484481\n",
      "    0.0037729416608806333 0.0020573451694008054 ... -0.6904936308183252\n",
      "     0.004316158958941379 0.0005798256507916044 ... -0.6884727101022241\n",
      "    0.0036321955750007874 0.0022543532120883245 ... -0.6177729855216659\n",
      "     0.003316806981377811 0.0019194190682326215 ... -0.7060096438434329\n",
      "     0.004192396666418581 0.0014067291729961773 ... -0.6704251479917275\n",
      "    0.0037971823083970072 0.0007358961839121459 ... -0.7830717178498554\n",
      "    0.0036601398840771324  0.002134279924797508 ...  -0.740226396388368\n",
      "    0.0035488235618288742 0.0010488708185213977 ... -0.7097463230641305\n",
      "     0.004158590123277267 0.0017157373182266305 ... -0.6686854705490677\n",
      "                      ...                   ... ...                 ...\n",
      "     0.003835062030505889 0.0004677583018682476 ... -0.6828196585393946\n",
      "    0.0038360501809065212  0.001654173261822013 ... -0.5363851702698075\n",
      "     0.004434246616068055 0.0020112096726443386 ... -0.7367911965001935\n",
      "     0.003265384891799384 0.0008969143851275809 ... -0.6489830578677609\n",
      "     0.004178356726406171 0.0025347429255261813 ... -0.6977050405217371\n",
      "     0.004038457928470852 0.0013021111461430086 ... -0.7846694836235314\n",
      "    0.0033167201854637915 0.0020002345894169567 ...  -0.726618004381936\n",
      "     0.003620073798099425  0.001289018635237186 ... -0.6481760216240794\n",
      "    0.0034759493643617997 0.0029585726110530806 ... -0.5449347859393386\n",
      "    0.0033275614374346655  0.001825550813094457 ... -0.6746179324472561\n",
      "    0.0032696272969412604 0.0006667546059752096 ... -0.7005299212011349\n",
      "    Length = 128 rows\n"
     ]
    }
   ],
   "source": [
    "print(borch_2006_galactic_mass_function)\n",
    "with open('../models/Borch2006_galaxy_mass_function.pkl', 'wb') as f:\n",
    "    pickle.dump(borch_2006_galactic_mass_function, f)"
   ]
  },
  {
   "cell_type": "markdown",
   "metadata": {},
   "source": [
    "#### Drory+ (2009)"
   ]
  },
  {
   "cell_type": "markdown",
   "metadata": {},
   "source": [
    "##### Galactic mass function parameters"
   ]
  },
  {
   "cell_type": "code",
   "execution_count": 40,
   "metadata": {},
   "outputs": [],
   "source": [
    "z_drory = np.array([0, .3, .5, .7, .9])\n",
    "z_range_drory = np.linspace(0, .9, num=n_mesh)\n",
    "\n",
    "norm_0_drory_b = phi_bell\n",
    "norm_3_drory_b = trunc_norm_dist(a=0, b=np.inf, loc=2.89, scale=.23, size=n_samples) * 1e-3 * (WMAP9.h ** 3.)\n",
    "norm_5_drory_b = trunc_norm_dist(a=0, b=np.inf, loc=1.74, scale=.09, size=n_samples) * 1e-3 * (WMAP9.h ** 3.)\n",
    "norm_7_drory_b = trunc_norm_dist(a=0, b=np.inf, loc=2.16, scale=.13, size=n_samples) * 1e-3 * (WMAP9.h ** 3.)\n",
    "norm_9_drory_b = trunc_norm_dist(a=0, b=np.inf, loc=2.94, scale=.13, size=n_samples) * 1e-3 * (WMAP9.h ** 3.)\n",
    "\n",
    "log_m_gal_0_drory_b = log_mgal_break_bell\n",
    "log_m_gal_3_drory_b = unc.normal(10.90, std=.11, n_samples=n_samples).distribution - 2 * np.log10(WMAP9.h)\n",
    "log_m_gal_5_drory_b = unc.normal(10.91, std=.11, n_samples=n_samples).distribution - 2 * np.log10(WMAP9.h)\n",
    "log_m_gal_7_drory_b = unc.normal(10.95, std=.10, n_samples=n_samples).distribution - 2 * np.log10(WMAP9.h)\n",
    "log_m_gal_9_drory_b = unc.normal(10.92, std=.10, n_samples=n_samples).distribution - 2 * np.log10(WMAP9.h)\n",
    "\n",
    "alpha_0_drory_b = alpha_bell\n",
    "alpha_3_drory_b = unc.normal(-1.06, std=.03, n_samples=n_samples).distribution\n",
    "alpha_5_drory_b = unc.normal(-1.05, std=.02, n_samples=n_samples).distribution\n",
    "alpha_7_drory_b = unc.normal(-.93, std=.04, n_samples=n_samples).distribution\n",
    "alpha_9_drory_b = unc.normal(-.91, std=.03, n_samples=n_samples).distribution\n",
    "\n",
    "norm_0_drory_f = np.zeros(n_samples)\n",
    "norm_3_drory_f = trunc_norm_dist(a=0, b=np.inf, loc=1.80, scale=.29, size=n_samples) * 1e-3 * (WMAP9.h ** 3)\n",
    "norm_5_drory_f = trunc_norm_dist(a=0, b=np.inf, loc=1.43, scale=.23, size=n_samples) * 1e-3 * (WMAP9.h ** 3)\n",
    "norm_7_drory_f = trunc_norm_dist(a=0, b=np.inf, loc=2.89, scale=.26, size=n_samples) * 1e-3 * (WMAP9.h ** 3)\n",
    "norm_9_drory_f = trunc_norm_dist(a=0, b=np.inf, loc=2.12, scale=.29, size=n_samples) * 1e-3 * (WMAP9.h ** 3)\n",
    "\n",
    "log_m_gal_0_drory_f = np.zeros(n_samples) - 2. * np.log10(WMAP9.h)\n",
    "log_m_gal_3_drory_f = unc.normal(9.63, std=.09, n_samples=n_samples).distribution - 2. * np.log10(WMAP9.h)\n",
    "log_m_gal_5_drory_f = unc.normal(9.70, std=.10, n_samples=n_samples).distribution - 2. * np.log10(WMAP9.h)\n",
    "log_m_gal_7_drory_f = unc.normal(9.75, std=.10, n_samples=n_samples).distribution - 2. * np.log10(WMAP9.h)\n",
    "log_m_gal_9_drory_f = unc.normal(9.85, std=.10, n_samples=n_samples).distribution - 2. * np.log10(WMAP9.h)\n",
    "\n",
    "alpha_0_drory_f = np.zeros(n_samples)\n",
    "alpha_3_drory_f = unc.normal(-1.73, std=.09, n_samples=n_samples).distribution\n",
    "alpha_5_drory_f = unc.normal(-1.76, std=.16, n_samples=n_samples).distribution\n",
    "alpha_7_drory_f = unc.normal(-1.65, std=.08, n_samples=n_samples).distribution\n",
    "alpha_9_drory_f = unc.normal(-1.65, std=.24, n_samples=n_samples).distribution"
   ]
  },
  {
   "cell_type": "markdown",
   "metadata": {},
   "source": [
    "##### Galactic mass function"
   ]
  },
  {
   "cell_type": "code",
   "execution_count": 41,
   "metadata": {},
   "outputs": [],
   "source": [
    "drory_2009_galactic_mass_function = DoubleSchechter2D(norm11=norm_0_drory_b,\n",
    "                                                      norm12=norm_3_drory_b,\n",
    "                                                      norm13=norm_5_drory_b,\n",
    "                                                      norm14=norm_7_drory_b,\n",
    "                                                      norm15=norm_9_drory_b,\n",
    "                                                      norm21=norm_0_drory_f,\n",
    "                                                      norm22=norm_3_drory_f,\n",
    "                                                      norm23=norm_5_drory_f,\n",
    "                                                      norm24=norm_7_drory_f,\n",
    "                                                      norm25=norm_9_drory_f,\n",
    "                                                      log_m_break11=log_m_gal_0_drory_b,\n",
    "                                                      log_m_break12=log_m_gal_3_drory_b,\n",
    "                                                      log_m_break13=log_m_gal_5_drory_b,\n",
    "                                                      log_m_break14=log_m_gal_7_drory_b,\n",
    "                                                      log_m_break15=log_m_gal_9_drory_b,\n",
    "                                                      log_m_break21=log_m_gal_0_drory_f,\n",
    "                                                      log_m_break22=log_m_gal_3_drory_f,\n",
    "                                                      log_m_break23=log_m_gal_5_drory_f,\n",
    "                                                      log_m_break24=log_m_gal_7_drory_f,\n",
    "                                                      log_m_break25=log_m_gal_9_drory_f,\n",
    "                                                      exp11=alpha_0_drory_b,\n",
    "                                                      exp12=alpha_3_drory_b,\n",
    "                                                      exp13=alpha_5_drory_b,\n",
    "                                                      exp14=alpha_7_drory_b,\n",
    "                                                      exp15=alpha_9_drory_b,\n",
    "                                                      exp21=alpha_0_drory_f,\n",
    "                                                      exp22=alpha_3_drory_f,\n",
    "                                                      exp23=alpha_5_drory_f,\n",
    "                                                      exp24=alpha_7_drory_f,\n",
    "                                                      exp25=alpha_9_drory_f,\n",
    "                                                      n_models=n_samples)"
   ]
  },
  {
   "cell_type": "code",
   "execution_count": 42,
   "metadata": {},
   "outputs": [
    {
     "name": "stdout",
     "output_type": "stream",
     "text": [
      "Model: DoubleSchechter2D\n",
      "Inputs: ('x', 'y')\n",
      "Outputs: ('z',)\n",
      "Model set size: 128\n",
      "Parameters:\n",
      "            norm11                norm12        ...        exp25       \n",
      "    --------------------- --------------------- ... -------------------\n",
      "     0.004536429684000882 0.0009272810569154616 ... -1.4326704827170331\n",
      "     0.004647405450417095 0.0008720020691544374 ... -1.4973240540948984\n",
      "    0.0042279956006076175 0.0008456307196123266 ...  -1.676359435202606\n",
      "    0.0045898392809899605 0.0009687006751394984 ... -1.5201780931660107\n",
      "     0.004303895804035193 0.0010105198990327062 ... -1.4030774618769544\n",
      "     0.004258989514743219 0.0011428902785135494 ... -1.1486531594544025\n",
      "     0.004393907708378568 0.0009417157106030637 ... -1.6074643346590956\n",
      "     0.004683523209656901 0.0009766872679037313 ...  -1.716994825982742\n",
      "      0.00403928643001697 0.0010290397158414395 ... -1.6974960952206761\n",
      "     0.004855615733054511 0.0010135397508154362 ... -1.9134237144926847\n",
      "                      ...                   ... ...                 ...\n",
      "     0.004365092326170985 0.0009678225141501509 ... -1.4188899244713613\n",
      "     0.004430982807751835 0.0009541078787851547 ... -2.1211464953079004\n",
      "     0.004463204476181146 0.0009570309092990898 ...  -1.624774536728171\n",
      "     0.004425172152137887 0.0011009933635418446 ... -1.9378460113159879\n",
      "     0.004356833723584401 0.0009685053795728817 ... -1.7818861412022027\n",
      "     0.004646251882219581 0.0009889295479010346 ... -1.6347429200284496\n",
      "     0.004479826496062055  0.000998829283648837 ...  -1.839891218611949\n",
      "     0.004439417551390143 0.0009596104146432234 ... -1.4699233728113315\n",
      "     0.004435870654451532 0.0010153212485896814 ... -1.5271742429991735\n",
      "     0.004514515443589056 0.0010085052098676706 ... -1.6975791447701607\n",
      "     0.004368831002603299 0.0009563486680654947 ... -1.7683843171887188\n",
      "    Length = 128 rows\n"
     ]
    }
   ],
   "source": [
    "print(drory_2009_galactic_mass_function)\n",
    "with open('../models/Drory2009_galaxy_mass_function.pkl', 'wb') as f:\n",
    "    pickle.dump(drory_2009_galactic_mass_function, f)"
   ]
  },
  {
   "cell_type": "markdown",
   "metadata": {},
   "source": [
    "#### Ilbert+ (2010)"
   ]
  },
  {
   "cell_type": "markdown",
   "metadata": {},
   "source": [
    "##### Galactic mass function parameters"
   ]
  },
  {
   "cell_type": "code",
   "execution_count": 43,
   "metadata": {},
   "outputs": [],
   "source": [
    "z_ilbert = np.array([0, .3, .5, .7, .9, 1.1, 1.35, 1.75])\n",
    "z_range_ilbert = np.linspace(0, 1.75, num=n_mesh)\n",
    "\n",
    "norm_0_ilbert_q = phi_bell\n",
    "norm_3_ilbert_q = trunc_norm_dist(a=0, b=np.inf, loc=1.12, scale=.07, size=n_samples) * 1e-3\n",
    "norm_5_ilbert_q = trunc_norm_dist(a=0, b=np.inf, loc=.87, scale=.04, size=n_samples) * 1e-3\n",
    "norm_7_ilbert_q = trunc_norm_dist(a=0, b=np.inf, loc=1.15, scale=.03, size=n_samples) * 1e-3\n",
    "norm_9_ilbert_q = trunc_norm_dist(a=0, b=np.inf, loc=1.43, scale=.03, size=n_samples) * 1e-3\n",
    "norm_11_ilbert_q = trunc_norm_dist(a=0, b=np.inf, loc=.55, scale=.02, size=n_samples) * 1e-3\n",
    "norm_135_ilbert_q = trunc_norm_dist(a=0, b=np.inf, loc=.26, scale=.02, size=n_samples) * 1e-3\n",
    "norm_175_ilbert_q = trunc_norm_dist(a=0, b=np.inf, loc=.1, scale=.04, size=n_samples) * 1e-3\n",
    "\n",
    "log_m_gal_0_ilbert_q = log_mgal_break_bell\n",
    "log_m_gal_3_ilbert_q = unc.normal(11.13, std=.03, n_samples=n_samples).distribution\n",
    "log_m_gal_5_ilbert_q = unc.normal(10.97, std=.03, n_samples=n_samples).distribution\n",
    "log_m_gal_7_ilbert_q = unc.normal(10.83, std=.02, n_samples=n_samples).distribution\n",
    "log_m_gal_9_ilbert_q = unc.normal(10.77, std=.01, n_samples=n_samples).distribution\n",
    "log_m_gal_11_ilbert_q = unc.normal(10.7, std=.03, n_samples=n_samples).distribution\n",
    "log_m_gal_135_ilbert_q = unc.normal(10.64, std=.14, n_samples=n_samples).distribution\n",
    "log_m_gal_175_ilbert_q = unc.normal(10.67, std=.1, n_samples=n_samples).distribution\n",
    "\n",
    "alpha_0_ilbert_q = alpha_bell\n",
    "alpha_3_ilbert_q = unc.normal(-.91, std=.02, n_samples=n_samples).distribution\n",
    "alpha_5_ilbert_q = unc.normal(-.56, std=.03, n_samples=n_samples).distribution\n",
    "alpha_7_ilbert_q = unc.normal(-.25, std=.04, n_samples=n_samples).distribution\n",
    "alpha_9_ilbert_q = unc.normal(.04, std=.03, n_samples=n_samples).distribution\n",
    "alpha_11_ilbert_q = unc.normal(.25, std=.08, n_samples=n_samples).distribution\n",
    "alpha_135_ilbert_q = unc.normal(.5, std=.05, n_samples=n_samples).distribution\n",
    "alpha_175_ilbert_q = unc.normal(.5, std=.05, n_samples=n_samples).distribution\n",
    "\n",
    "norm_0_ilbert_i = np.zeros(n_samples)\n",
    "norm_3_ilbert_i = trunc_norm_dist(a=0, b=np.inf, loc=1.31, scale=.09, size=n_samples) * 1e-3\n",
    "norm_5_ilbert_i = trunc_norm_dist(a=0, b=np.inf, loc=.96, scale=.06, size=n_samples) * 1e-3\n",
    "norm_7_ilbert_i = trunc_norm_dist(a=0, b=np.inf, loc=1.02, scale=.06, size=n_samples) * 1e-3\n",
    "norm_9_ilbert_i = trunc_norm_dist(a=0, b=np.inf, loc=1.52, scale=.07, size=n_samples) * 1e-3\n",
    "norm_11_ilbert_i = trunc_norm_dist(a=0, b=np.inf, loc=1.05, scale=.04, size=n_samples) * 1e-3\n",
    "norm_135_ilbert_i = trunc_norm_dist(a=0, b=np.inf, loc=.45, scale=.03, size=n_samples) * 1e-3\n",
    "norm_175_ilbert_i = trunc_norm_dist(a=0, b=np.inf, loc=.23, scale=.02, size=n_samples) * 1e-3\n",
    "\n",
    "log_m_gal_0_ilbert_i = np.zeros(n_samples)\n",
    "log_m_gal_3_ilbert_i = unc.normal(10.96, std=.03, n_samples=n_samples).distribution\n",
    "log_m_gal_5_ilbert_i = unc.normal(10.93, std=.03, n_samples=n_samples).distribution\n",
    "log_m_gal_7_ilbert_i = unc.normal(10.85, std=.02, n_samples=n_samples).distribution\n",
    "log_m_gal_9_ilbert_i = unc.normal(10.73, std=.02, n_samples=n_samples).distribution\n",
    "log_m_gal_11_ilbert_i = unc.normal(10.77, std=.02, n_samples=n_samples).distribution\n",
    "log_m_gal_135_ilbert_i = unc.normal(10.94, std=.03, n_samples=n_samples).distribution\n",
    "log_m_gal_175_ilbert_i = unc.normal(11.02, std=.03, n_samples=n_samples).distribution\n",
    "\n",
    "alpha_0_ilbert_i = np.zeros(n_samples)\n",
    "alpha_3_ilbert_i = unc.normal(-1.20, std=.02, n_samples=n_samples).distribution\n",
    "alpha_5_ilbert_i = unc.normal(-1.02, std=.02, n_samples=n_samples).distribution\n",
    "alpha_7_ilbert_i = unc.normal(-.9, std=.03, n_samples=n_samples).distribution\n",
    "alpha_9_ilbert_i = unc.normal(-.54, std=.03, n_samples=n_samples).distribution\n",
    "alpha_11_ilbert_i = unc.normal(-.44, std=.04, n_samples=n_samples).distribution\n",
    "alpha_135_ilbert_i = unc.normal(-.88, std=.04, n_samples=n_samples).distribution\n",
    "alpha_175_ilbert_i = unc.normal(-1.03, std=.04, n_samples=n_samples).distribution\n",
    "\n",
    "norm_0_ilbert_h = np.zeros(n_samples)\n",
    "norm_3_ilbert_h = trunc_norm_dist(a=0, b=np.inf, loc=.36, scale=.06, size=n_samples) * 1e-3\n",
    "norm_5_ilbert_h = trunc_norm_dist(a=0, b=np.inf, loc=.46, scale=.06, size=n_samples) * 1e-3\n",
    "norm_7_ilbert_h = trunc_norm_dist(a=0, b=np.inf, loc=.65, scale=.05, size=n_samples) * 1e-3\n",
    "norm_9_ilbert_h = trunc_norm_dist(a=0, b=np.inf, loc=1., scale=.06, size=n_samples) * 1e-3\n",
    "norm_11_ilbert_h = trunc_norm_dist(a=0, b=np.inf, loc=.93, scale=.06, size=n_samples) * 1e-3\n",
    "norm_135_ilbert_h = trunc_norm_dist(a=0, b=np.inf, loc=.79, scale=.04, size=n_samples) * 1e-3\n",
    "norm_175_ilbert_h = trunc_norm_dist(a=0, b=np.inf, loc=.39, scale=.3, size=n_samples) * 1e-3\n",
    "\n",
    "log_m_gal_0_ilbert_h = np.zeros(n_samples)\n",
    "log_m_gal_3_ilbert_h = unc.normal(10.42, std=.07, n_samples=n_samples).distribution\n",
    "log_m_gal_5_ilbert_h = unc.normal(10.39, std=.05, n_samples=n_samples).distribution\n",
    "log_m_gal_7_ilbert_h = unc.normal(10.49, std=.03, n_samples=n_samples).distribution\n",
    "log_m_gal_9_ilbert_h = unc.normal(10.48, std=.02, n_samples=n_samples).distribution\n",
    "log_m_gal_11_ilbert_h = unc.normal(10.48, std=.02, n_samples=n_samples).distribution\n",
    "log_m_gal_135_ilbert_h = unc.normal(10.54, std=.02, n_samples=n_samples).distribution\n",
    "log_m_gal_175_ilbert_h = unc.normal(10.75, std=.7, n_samples=n_samples).distribution\n",
    "\n",
    "alpha_0_ilbert_h = np.zeros(n_samples)\n",
    "alpha_3_ilbert_h = unc.normal(-1.51, std=.04, n_samples=n_samples).distribution\n",
    "alpha_5_ilbert_h = unc.normal(-1.47, std=.03, n_samples=n_samples).distribution\n",
    "alpha_7_ilbert_h = unc.normal(-1.48, std=.02, n_samples=n_samples).distribution\n",
    "alpha_9_ilbert_h = unc.normal(-1.33, std=.02, n_samples=n_samples).distribution\n",
    "alpha_11_ilbert_h = unc.normal(-1.29, std=.02, n_samples=n_samples).distribution\n",
    "alpha_135_ilbert_h = unc.normal(-1.26, std=.02, n_samples=n_samples).distribution\n",
    "alpha_175_ilbert_h = unc.normal(-1.3, std=.13, n_samples=n_samples).distribution"
   ]
  },
  {
   "cell_type": "markdown",
   "metadata": {},
   "source": [
    "##### Galactic mass function"
   ]
  },
  {
   "cell_type": "code",
   "execution_count": 44,
   "metadata": {},
   "outputs": [],
   "source": [
    "ilbert_2010_galactic_mass_function = TripleSchechter2D(norm11=norm_0_ilbert_q,\n",
    "                                                       norm12=norm_3_ilbert_q,\n",
    "                                                       norm13=norm_5_ilbert_q,\n",
    "                                                       norm14=norm_7_ilbert_q,\n",
    "                                                       norm15=norm_9_ilbert_q,\n",
    "                                                       norm16=norm_11_ilbert_q,\n",
    "                                                       norm17=norm_135_ilbert_q,\n",
    "                                                       norm18=norm_175_ilbert_q,\n",
    "                                                       norm21=norm_0_ilbert_i,\n",
    "                                                       norm22=norm_3_ilbert_i,\n",
    "                                                       norm23=norm_5_ilbert_i,\n",
    "                                                       norm24=norm_7_ilbert_i,\n",
    "                                                       norm25=norm_9_ilbert_i,\n",
    "                                                       norm26=norm_11_ilbert_i,\n",
    "                                                       norm27=norm_135_ilbert_i,\n",
    "                                                       norm28=norm_175_ilbert_i,\n",
    "                                                       norm31=norm_0_ilbert_h,\n",
    "                                                       norm32=norm_3_ilbert_h,\n",
    "                                                       norm33=norm_5_ilbert_h,\n",
    "                                                       norm34=norm_7_ilbert_h,\n",
    "                                                       norm35=norm_9_ilbert_h,\n",
    "                                                       norm36=norm_11_ilbert_h,\n",
    "                                                       norm37=norm_135_ilbert_h,\n",
    "                                                       norm38=norm_175_ilbert_h,\n",
    "                                                       log_m_break11=log_m_gal_0_ilbert_q,\n",
    "                                                       log_m_break12=log_m_gal_3_ilbert_q,\n",
    "                                                       log_m_break13=log_m_gal_5_ilbert_q,\n",
    "                                                       log_m_break14=log_m_gal_7_ilbert_q,\n",
    "                                                       log_m_break15=log_m_gal_9_ilbert_q,\n",
    "                                                       log_m_break16=log_m_gal_11_ilbert_q,\n",
    "                                                       log_m_break17=log_m_gal_135_ilbert_q,\n",
    "                                                       log_m_break18=log_m_gal_175_ilbert_q,\n",
    "                                                       log_m_break21=log_m_gal_0_ilbert_i,\n",
    "                                                       log_m_break22=log_m_gal_3_ilbert_i,\n",
    "                                                       log_m_break23=log_m_gal_5_ilbert_i,\n",
    "                                                       log_m_break24=log_m_gal_7_ilbert_i,\n",
    "                                                       log_m_break25=log_m_gal_9_ilbert_i,\n",
    "                                                       log_m_break26=log_m_gal_11_ilbert_i,\n",
    "                                                       log_m_break27=log_m_gal_135_ilbert_i,\n",
    "                                                       log_m_break28=log_m_gal_175_ilbert_i,\n",
    "                                                       log_m_break31=log_m_gal_0_ilbert_h,\n",
    "                                                       log_m_break32=log_m_gal_3_ilbert_h,\n",
    "                                                       log_m_break33=log_m_gal_5_ilbert_h,\n",
    "                                                       log_m_break34=log_m_gal_7_ilbert_h,\n",
    "                                                       log_m_break35=log_m_gal_9_ilbert_h,\n",
    "                                                       log_m_break36=log_m_gal_11_ilbert_h,\n",
    "                                                       log_m_break37=log_m_gal_135_ilbert_h,\n",
    "                                                       log_m_break38=log_m_gal_175_ilbert_h,\n",
    "                                                       exp11=alpha_0_ilbert_q,\n",
    "                                                       exp12=alpha_3_ilbert_q,\n",
    "                                                       exp13=alpha_5_ilbert_q,\n",
    "                                                       exp14=alpha_7_ilbert_q,\n",
    "                                                       exp15=alpha_9_ilbert_q,\n",
    "                                                       exp16=alpha_11_ilbert_q,\n",
    "                                                       exp17=alpha_135_ilbert_q,\n",
    "                                                       exp18=alpha_175_ilbert_q,\n",
    "                                                       exp21=alpha_0_ilbert_i,\n",
    "                                                       exp22=alpha_3_ilbert_i,\n",
    "                                                       exp23=alpha_5_ilbert_i,\n",
    "                                                       exp24=alpha_7_ilbert_i,\n",
    "                                                       exp25=alpha_9_ilbert_i,\n",
    "                                                       exp26=alpha_11_ilbert_i,\n",
    "                                                       exp27=alpha_135_ilbert_i,\n",
    "                                                       exp28=alpha_175_ilbert_i,\n",
    "                                                       exp31=alpha_0_ilbert_h,\n",
    "                                                       exp32=alpha_3_ilbert_h,\n",
    "                                                       exp33=alpha_5_ilbert_h,\n",
    "                                                       exp34=alpha_7_ilbert_h,\n",
    "                                                       exp35=alpha_9_ilbert_h,\n",
    "                                                       exp36=alpha_11_ilbert_h,\n",
    "                                                       exp37=alpha_135_ilbert_h,\n",
    "                                                       exp38=alpha_175_ilbert_h,\n",
    "                                                       n_models=n_samples)"
   ]
  },
  {
   "cell_type": "code",
   "execution_count": 45,
   "metadata": {},
   "outputs": [
    {
     "name": "stdout",
     "output_type": "stream",
     "text": [
      "Model: TripleSchechter2D\n",
      "Inputs: ('x', 'y')\n",
      "Outputs: ('z',)\n",
      "Model set size: 128\n",
      "Parameters:\n",
      "            norm11                norm12        ...        exp38       \n",
      "    --------------------- --------------------- ... -------------------\n",
      "     0.004536429684000882  0.000997360452497591 ...  -1.209179659114249\n",
      "     0.004647405450417095 0.0009965397153079176 ... -1.0813167235487544\n",
      "    0.0042279956006076175 0.0011395014613725795 ...  -1.232198480031722\n",
      "    0.0045898392809899605 0.0011843275250781916 ... -1.2425747928448847\n",
      "     0.004303895804035193 0.0011281601435490847 ... -1.4165564739463987\n",
      "     0.004258989514743219  0.001033180740521541 ...   -1.36689835847252\n",
      "     0.004393907708378568  0.001090201556957065 ... -1.2548784650054148\n",
      "     0.004683523209656901 0.0009651502755263391 ...  -1.452627807374641\n",
      "      0.00403928643001697 0.0010114558317268884 ... -1.3632819847640372\n",
      "     0.004855615733054511  0.001053823476354777 ... -1.1577573704077995\n",
      "                      ...                   ... ...                 ...\n",
      "     0.004365092326170985  0.001188814152754291 ... -1.1883367845518378\n",
      "     0.004430982807751835 0.0012789860957889906 ... -1.3807077799009482\n",
      "     0.004463204476181146 0.0012175008614336935 ... -1.1909328556369627\n",
      "     0.004425172152137887 0.0011117102038796967 ... -1.2830122236115473\n",
      "     0.004356833723584401 0.0011629635299131695 ... -1.2134431020762426\n",
      "     0.004646251882219581 0.0010829343799123104 ... -1.3774236453764064\n",
      "     0.004479826496062055 0.0010812480934892154 ... -1.4133648358385973\n",
      "     0.004439417551390143 0.0012141636758807369 ...  -1.308225846396297\n",
      "     0.004435870654451532 0.0012082291512586143 ...  -1.213556631572333\n",
      "     0.004514515443589056 0.0012662952914646423 ...  -1.351715717944732\n",
      "     0.004368831002603299 0.0011527322035701153 ... -1.3189817042682903\n",
      "    Length = 128 rows\n"
     ]
    }
   ],
   "source": [
    "print(ilbert_2010_galactic_mass_function)\n",
    "with open('../models/Ilbert2010_galaxy_mass_function.pkl', 'wb') as f:\n",
    "    pickle.dump(ilbert_2010_galactic_mass_function, f)"
   ]
  },
  {
   "cell_type": "markdown",
   "metadata": {},
   "source": [
    "#### Bundy+ (2009)"
   ]
  },
  {
   "cell_type": "markdown",
   "metadata": {},
   "source": [
    "##### Pair fraction parameters"
   ]
  },
  {
   "cell_type": "code",
   "execution_count": 46,
   "metadata": {},
   "outputs": [],
   "source": [
    "m_bundy = unc.normal(1.6, std=1.6, n_samples=n_samples).distribution\n",
    "fp_bundy = trunc_norm_dist(a=0, b=np.inf, loc=.03, scale=.02, size=n_samples) / (1.55 ** m_bundy)\n",
    "q_min_bundy = np.repeat(.25, n_samples)\n",
    "r_proj_bundy = np.repeat(20, n_samples)"
   ]
  },
  {
   "cell_type": "markdown",
   "metadata": {},
   "source": [
    "##### Pair fraction"
   ]
  },
  {
   "cell_type": "code",
   "execution_count": 47,
   "metadata": {},
   "outputs": [],
   "source": [
    "bundy_pair_frac = PairFraction3D(normalization=fp_bundy,\n",
    "                                 exponent=m_bundy,\n",
    "                                 q_min=q_min_bundy,\n",
    "                                 n_models=n_samples)"
   ]
  },
  {
   "cell_type": "code",
   "execution_count": 48,
   "metadata": {},
   "outputs": [
    {
     "name": "stdout",
     "output_type": "stream",
     "text": [
      "Model: PairFraction3D\n",
      "Inputs: ('x0', 'x1', 'x2')\n",
      "Outputs: ('x0',)\n",
      "Model set size: 128\n",
      "Parameters:\n",
      "        normalization           exponent       q_min\n",
      "    --------------------- -------------------- -----\n",
      "     0.018436629208679722    2.457482308006123  0.25\n",
      "      0.01089914427129777   3.2134071029082043  0.25\n",
      "       0.0381768684999122    1.017145839224565  0.25\n",
      "      0.05223777020286049  -1.1291409148183749  0.25\n",
      "     0.011067739824129216 -0.03266812695180077  0.25\n",
      "      0.01658561264595088   0.6964348095404548  0.25\n",
      "     0.026098761412230335   0.4278480597421197  0.25\n",
      "     0.007709884158745472    3.178039570543535  0.25\n",
      "    0.0063842353302603705    3.500872243813299  0.25\n",
      "      0.02911679135890555    2.128205323766932  0.25\n",
      "                      ...                  ...   ...\n",
      "     0.021871390557791203   0.5442825103393214  0.25\n",
      "      0.03559278714111393  0.11053429211663213  0.25\n",
      "     0.010185903117328884   4.6270234147501395  0.25\n",
      "      0.05353647825855532  -1.5444504879380179  0.25\n",
      "     0.004118945653608586   0.7788310106702356  0.25\n",
      "     0.006743520491001442   1.9454487606071162  0.25\n",
      "     0.008170872748468892   2.4981010210974683  0.25\n",
      "      0.03738947139777485  -2.1263534734528378  0.25\n",
      "     0.014739503915207465    3.140985849534068  0.25\n",
      "       0.0334091949507866   2.0230476202005274  0.25\n",
      "      0.02648578064570347   1.6417667646708087  0.25\n",
      "    Length = 128 rows\n"
     ]
    }
   ],
   "source": [
    "print(bundy_pair_frac)\n",
    "with open('../models/Bundy2009_pair_fraction.pkl', 'wb') as f:\n",
    "    pickle.dump(bundy_pair_frac, f)"
   ]
  },
  {
   "cell_type": "markdown",
   "metadata": {},
   "source": [
    "#### de Ravel+ (2009)"
   ]
  },
  {
   "cell_type": "markdown",
   "metadata": {},
   "source": [
    "##### Pair fraction parameters"
   ]
  },
  {
   "cell_type": "code",
   "execution_count": 49,
   "metadata": {},
   "outputs": [],
   "source": [
    "log_m_min_de_ravel = np.array([9.5, 10, 10.5])\n",
    "fp_95_de_ravel = trunc_norm_dist(a=0, b=np.inf, loc=.0390, scale=.0342, size=n_samples)\n",
    "fp_10_de_ravel = trunc_norm_dist(a=0, b=np.inf, loc=.0728, scale=.0681, size=n_samples)\n",
    "fp_105_de_ravel = trunc_norm_dist(a=0, b=np.inf, loc=.167, scale=.195, size=n_samples)\n",
    "\n",
    "m_95_de_ravel = unc.normal(3.13, std=1.54, n_samples=n_samples).distribution\n",
    "m_10_de_ravel = unc.normal(2.04, std=1.65, n_samples=n_samples).distribution\n",
    "m_105_de_ravel = unc.normal(.52, std=2.07, n_samples=n_samples).distribution\n",
    "\n",
    "q_min_de_ravel = np.repeat(.25, n_samples)\n",
    "r_proj_de_ravel = np.repeat(100, n_samples)"
   ]
  },
  {
   "cell_type": "markdown",
   "metadata": {},
   "source": [
    "##### Pair fraction"
   ]
  },
  {
   "cell_type": "code",
   "execution_count": 50,
   "metadata": {},
   "outputs": [],
   "source": [
    "de_ravel_pair_frac = PairFraction3D_3bins(norm1=fp_95_de_ravel,\n",
    "                                          norm2=fp_10_de_ravel,\n",
    "                                          norm3=fp_105_de_ravel,\n",
    "                                          exp1=m_95_de_ravel,\n",
    "                                          exp2=m_10_de_ravel,\n",
    "                                          exp3=m_105_de_ravel,\n",
    "                                          q_min=q_min_de_ravel,\n",
    "                                          n_models=n_samples)"
   ]
  },
  {
   "cell_type": "code",
   "execution_count": 51,
   "metadata": {},
   "outputs": [
    {
     "name": "stdout",
     "output_type": "stream",
     "text": [
      "Model: PairFraction3D_3bins\n",
      "Inputs: ('x0', 'x1', 'x2')\n",
      "Outputs: ('x0',)\n",
      "Model set size: 128\n",
      "Parameters:\n",
      "            norm1                norm2         ...         exp3         q_min\n",
      "    --------------------- -------------------- ... -------------------- -----\n",
      "     0.045863709995433086  0.10832224373715471 ...   3.5662411437930857  0.25\n",
      "     0.058718811270417476   0.0606250799804514 ...  0.01494424264041605  0.25\n",
      "     0.006354778757451586 0.012717531697186507 ...  -2.4465997585066535  0.25\n",
      "      0.04208044444948504  0.10195558717470343 ...  -2.8493279128362503  0.25\n",
      "     0.012308260869221922   0.1037063869499204 ...   0.2282449496165137  0.25\n",
      "     0.008299748610318774 0.017015688122302274 ...  -0.9584093201264636  0.25\n",
      "      0.06783925271772893  0.09300701352939222 ...  0.23376711457564225  0.25\n",
      "       0.0397949064324167 0.061954799724594056 ...   4.8514819549542185  0.25\n",
      "      0.06011711858403706 0.021072859406050783 ... -0.44409007708416415  0.25\n",
      "       0.0425312411743209 0.041390846135577176 ...  0.20946850599322697  0.25\n",
      "                      ...                  ... ...                  ...   ...\n",
      "      0.10110698409126027  0.07282182675827038 ...   0.0639260397419748  0.25\n",
      "      0.07815576582244771 0.012381476724820734 ...    5.988616186873841  0.25\n",
      "      0.04277699674517044  0.11819803671150363 ...   1.2534867699273913  0.25\n",
      "    0.0018856871786293375  0.10141656676142388 ...   1.1538000552901748  0.25\n",
      "      0.04401639207957359  0.11538456501687627 ...   0.5157824872831515  0.25\n",
      "      0.08288781223923437  0.07827034498782255 ...    1.506064237540143  0.25\n",
      "      0.02379201307965554  0.14232068813273874 ...   1.3555664300909076  0.25\n",
      "      0.07603373609629446 0.005640006683979293 ...  -1.2029466598952618  0.25\n",
      "     0.004527196333588834 0.038707143946638586 ...   3.9301360710062325  0.25\n",
      "       0.0526169586664852 0.018380152200307975 ...    1.679013210687073  0.25\n",
      "      0.07034037899897565  0.10518747997252247 ...   1.0988637195630966  0.25\n",
      "    Length = 128 rows\n"
     ]
    }
   ],
   "source": [
    "print(de_ravel_pair_frac)\n",
    "with open('../models/deRavel2009_pair_fraction.pkl', 'wb') as f:\n",
    "    pickle.dump(de_ravel_pair_frac, f)"
   ]
  },
  {
   "cell_type": "markdown",
   "metadata": {},
   "source": [
    "#### Lopez-Sanjuan+ (2012)"
   ]
  },
  {
   "cell_type": "markdown",
   "metadata": {},
   "source": [
    "##### Pair fraction parameters"
   ]
  },
  {
   "cell_type": "code",
   "execution_count": 52,
   "metadata": {},
   "outputs": [],
   "source": [
    "fp_lopez = trunc_norm_dist(a=0, b=np.inf, loc=.019, scale=.003, size=n_samples)\n",
    "m_lopez = unc.normal(1.4, std=.3, n_samples=n_samples).distribution\n",
    "q_min_lopez = np.repeat(.25, n_samples)\n",
    "r_proj_lopez = np.repeat(30, n_samples)"
   ]
  },
  {
   "cell_type": "markdown",
   "metadata": {},
   "source": [
    "##### Pair fraction"
   ]
  },
  {
   "cell_type": "code",
   "execution_count": 53,
   "metadata": {},
   "outputs": [],
   "source": [
    "lopez_pair_frac = PairFraction3D(normalization=fp_lopez,\n",
    "                                 exponent=m_lopez,\n",
    "                                 q_min=q_min_lopez,\n",
    "                                 n_models=n_samples)"
   ]
  },
  {
   "cell_type": "code",
   "execution_count": 54,
   "metadata": {},
   "outputs": [
    {
     "name": "stdout",
     "output_type": "stream",
     "text": [
      "Model: PairFraction3D\n",
      "Inputs: ('x0', 'x1', 'x2')\n",
      "Outputs: ('x0',)\n",
      "Model set size: 128\n",
      "Parameters:\n",
      "       normalization          exponent      q_min\n",
      "    -------------------- ------------------ -----\n",
      "    0.020826089609735816 1.4297163333290144  0.25\n",
      "    0.020449560228971098 1.8929076347603775  0.25\n",
      "     0.01918835547672434 1.3525210663291078  0.25\n",
      "    0.018818498819637996 0.6982616218787814  0.25\n",
      "    0.021370853621304347 1.2443993578050176  0.25\n",
      "     0.01853996690110858 1.2847038058180593  0.25\n",
      "     0.02180267760162405 1.5090148917935324  0.25\n",
      "    0.026525579947014027 1.7853590595173223  0.25\n",
      "    0.020875953201179832  1.098696777031021  0.25\n",
      "     0.02037211563976384 1.4751593629816637  0.25\n",
      "                     ...                ...   ...\n",
      "    0.020343283214240976 1.4896845331880786  0.25\n",
      "    0.016406079211341417  1.447747092540635  0.25\n",
      "    0.018779348768557764 1.3652501989432717  0.25\n",
      "    0.024645932977812486 1.4663323367329524  0.25\n",
      "    0.019765369477638094  1.395711321590328  0.25\n",
      "     0.02095860324616427 1.7048811666831027  0.25\n",
      "    0.022443353439261515 1.0142347157595621  0.25\n",
      "    0.017637378185850105 1.5883607213034971  0.25\n",
      "    0.020486810266423617 1.0852975932047504  0.25\n",
      "    0.013524813085144038 1.2062886217630073  0.25\n",
      "    0.021549759519651285 1.5946753824389466  0.25\n",
      "    Length = 128 rows\n"
     ]
    }
   ],
   "source": [
    "print(lopez_pair_frac)\n",
    "with open('../models/Lopez2012_pair_fraction.pkl', 'wb') as f:\n",
    "    pickle.dump(lopez_pair_frac, f)"
   ]
  },
  {
   "cell_type": "markdown",
   "metadata": {},
   "source": [
    "#### Kitzbichler & White (2008)"
   ]
  },
  {
   "cell_type": "markdown",
   "metadata": {},
   "source": [
    "##### Merger timescale normalization"
   ]
  },
  {
   "cell_type": "code",
   "execution_count": 55,
   "metadata": {},
   "outputs": [],
   "source": [
    "norm_kw = np.repeat(2.2, n_samples)"
   ]
  },
  {
   "cell_type": "markdown",
   "metadata": {},
   "source": [
    "##### Merger timescale"
   ]
  },
  {
   "cell_type": "code",
   "execution_count": 56,
   "metadata": {},
   "outputs": [],
   "source": [
    "kw_merger_timescale = Timescale3D(normalization=norm_kw,\n",
    "                                  r_proj=r_proj_lopez,\n",
    "                                  n_models=n_samples)"
   ]
  },
  {
   "cell_type": "code",
   "execution_count": 57,
   "metadata": {},
   "outputs": [
    {
     "name": "stdout",
     "output_type": "stream",
     "text": [
      "Model: Timescale3D\n",
      "Inputs: ('x0', 'x1', 'x2')\n",
      "Outputs: ('x0',)\n",
      "Model set size: 128\n",
      "Parameters:\n",
      "    normalization r_proj\n",
      "    ------------- ------\n",
      "              2.2   30.0\n",
      "              2.2   30.0\n",
      "              2.2   30.0\n",
      "              2.2   30.0\n",
      "              2.2   30.0\n",
      "              2.2   30.0\n",
      "              2.2   30.0\n",
      "              2.2   30.0\n",
      "              2.2   30.0\n",
      "              2.2   30.0\n",
      "              ...    ...\n",
      "              2.2   30.0\n",
      "              2.2   30.0\n",
      "              2.2   30.0\n",
      "              2.2   30.0\n",
      "              2.2   30.0\n",
      "              2.2   30.0\n",
      "              2.2   30.0\n",
      "              2.2   30.0\n",
      "              2.2   30.0\n",
      "              2.2   30.0\n",
      "              2.2   30.0\n",
      "    Length = 128 rows\n"
     ]
    }
   ],
   "source": [
    "print(kw_merger_timescale)\n",
    "with open('../models/KitzbichlerWhigte2008_merger_timescale.pkl', 'wb') as f:\n",
    "    pickle.dump(kw_merger_timescale, f)"
   ]
  },
  {
   "cell_type": "markdown",
   "metadata": {},
   "source": [
    "#### Lotz+ (2010)"
   ]
  },
  {
   "cell_type": "markdown",
   "metadata": {},
   "source": [
    "##### Merger timescale normalization"
   ]
  },
  {
   "cell_type": "code",
   "execution_count": 58,
   "metadata": {},
   "outputs": [],
   "source": [
    "norm_lotz = np.repeat(1.1, n_samples)"
   ]
  },
  {
   "cell_type": "markdown",
   "metadata": {},
   "source": [
    "##### Merger timescale"
   ]
  },
  {
   "cell_type": "code",
   "execution_count": 59,
   "metadata": {},
   "outputs": [],
   "source": [
    "lotz_merger_timescale = Timescale3D(normalization=norm_lotz,\n",
    "                                    r_proj=r_proj_de_ravel,\n",
    "                                    n_models=n_samples)"
   ]
  },
  {
   "cell_type": "code",
   "execution_count": 60,
   "metadata": {},
   "outputs": [
    {
     "name": "stdout",
     "output_type": "stream",
     "text": [
      "Model: Timescale3D\n",
      "Inputs: ('x0', 'x1', 'x2')\n",
      "Outputs: ('x0',)\n",
      "Model set size: 128\n",
      "Parameters:\n",
      "    normalization r_proj\n",
      "    ------------- ------\n",
      "              1.1  100.0\n",
      "              1.1  100.0\n",
      "              1.1  100.0\n",
      "              1.1  100.0\n",
      "              1.1  100.0\n",
      "              1.1  100.0\n",
      "              1.1  100.0\n",
      "              1.1  100.0\n",
      "              1.1  100.0\n",
      "              1.1  100.0\n",
      "              ...    ...\n",
      "              1.1  100.0\n",
      "              1.1  100.0\n",
      "              1.1  100.0\n",
      "              1.1  100.0\n",
      "              1.1  100.0\n",
      "              1.1  100.0\n",
      "              1.1  100.0\n",
      "              1.1  100.0\n",
      "              1.1  100.0\n",
      "              1.1  100.0\n",
      "              1.1  100.0\n",
      "    Length = 128 rows\n"
     ]
    }
   ],
   "source": [
    "print(lotz_merger_timescale)\n",
    "with open('../models/Lotz2010_merger_timescale.pkl', 'wb') as f:\n",
    "    pickle.dump(lotz_merger_timescale, f)"
   ]
  },
  {
   "cell_type": "markdown",
   "metadata": {},
   "source": [
    "## Main models"
   ]
  },
  {
   "cell_type": "markdown",
   "metadata": {},
   "source": [
    "### Mingarelli+ 2017 Derived $\\Phi_{\\rm{BHB}, 0}$"
   ]
  },
  {
   "cell_type": "code",
   "execution_count": 61,
   "metadata": {},
   "outputs": [],
   "source": [
    "N_225 = np.rint(trunc_norm_dist(a=0, b=np.inf, loc=91, scale=7, size=n_samples))  # can't have fractions of a SMBHB\n",
    "distance = 225. * u.Mpc\n",
    "\n",
    "z_225 = z_at_value(WMAP9.angular_diameter_distance, distance, zmax=1.)\n",
    "vol = WMAP9.comoving_volume(z_225).value"
   ]
  },
  {
   "cell_type": "code",
   "execution_count": 62,
   "metadata": {},
   "outputs": [],
   "source": [
    "local_binary_number_density = Const1D(amplitude=N_225/vol, n_models=n_samples)"
   ]
  },
  {
   "cell_type": "code",
   "execution_count": 63,
   "metadata": {},
   "outputs": [
    {
     "data": {
      "text/latex": [
       "$\\displaystyle \\phi_{\\rm{BHB}, 0} = (1.6_{-0.1}^{+0.1}) \\times 10^{-6.0}\\;\\rm{Mpc}^{-3}$"
      ],
      "text/plain": [
       "<IPython.core.display.Math object>"
      ]
     },
     "metadata": {},
     "output_type": "display_data"
    }
   ],
   "source": [
    "quantiles = np.quantile(local_binary_number_density(0), q=[.16, .5, .84])\n",
    "order = 10. ** np.floor(np.log10(quantiles[1]))\n",
    "display(Math(r'\\phi_{{\\rm{{BHB}}, 0}} = ({0:.1f}_{{-{1:.1f}}}^{{+{2:.1f}}})'\n",
    "             r' \\times 10^{{{3}}}\\;\\rm{{Mpc}}^{{-3}}'.format(quantiles[1] / order,\n",
    "                                          (quantiles[1] - quantiles[0]) / order,\n",
    "                                          (quantiles[2] - quantiles[1]) / order,\n",
    "                                          np.log10(order))))"
   ]
  },
  {
   "cell_type": "code",
   "execution_count": 64,
   "metadata": {},
   "outputs": [
    {
     "name": "stdout",
     "output_type": "stream",
     "text": [
      "Model: Const1D\n",
      "Inputs: ('x',)\n",
      "Outputs: ('y',)\n",
      "Model set size: 128\n",
      "Parameters:\n",
      "          amplitude       \n",
      "    ----------------------\n",
      "     1.585868617804672e-06\n",
      "    1.6393248633486498e-06\n",
      "     1.496774875231376e-06\n",
      "     1.496774875231376e-06\n",
      "    1.7640561029512644e-06\n",
      "    1.5680498692900129e-06\n",
      "    1.5680498692900129e-06\n",
      "     1.657143611863309e-06\n",
      "    1.6749623603779682e-06\n",
      "    1.9066060910685384e-06\n",
      "                       ...\n",
      "    1.4611373782020575e-06\n",
      "    1.6749623603779682e-06\n",
      "    1.4254998811727389e-06\n",
      "    1.6215061148339906e-06\n",
      "    1.6927811088926275e-06\n",
      "    1.7462373544366051e-06\n",
      "     1.657143611863309e-06\n",
      "    1.5502311207753536e-06\n",
      "    1.4611373782020575e-06\n",
      "    1.7462373544366051e-06\n",
      "    1.8175123484952422e-06\n",
      "    Length = 128 rows\n"
     ]
    }
   ],
   "source": [
    "print(local_binary_number_density)\n",
    "with open('../models/M17_number_density.pkl', 'wb') as f:\n",
    "    pickle.dump(local_binary_number_density, f)"
   ]
  },
  {
   "cell_type": "markdown",
   "metadata": {
    "toc-hr-collapsed": true
   },
   "source": [
    "### AGN-proxy model"
   ]
  },
  {
   "cell_type": "markdown",
   "metadata": {},
   "source": [
    "#### Normalization"
   ]
  },
  {
   "cell_type": "code",
   "execution_count": 65,
   "metadata": {},
   "outputs": [],
   "source": [
    "# Add normalization masses to our mass range explicitly\n",
    "log_m_bh_range_norm = np.sort(np.append(log_m_bh_range, log_m_bh_min_mingarelli))\n",
    "log_m_bh_range_norm = np.sort(np.append(log_m_bh_range_norm, log_m_bh_max_mingarelli))\n",
    "log_m_bh_range_norm = log_m_bh_range_norm[(log_m_bh_range_norm >= log_m_bh_min_mingarelli)\n",
    "                                          & (log_m_bh_range_norm <= log_m_bh_max_mingarelli)]"
   ]
  },
  {
   "cell_type": "code",
   "execution_count": 66,
   "metadata": {},
   "outputs": [],
   "source": [
    "mm, zz, qq = np.meshgrid(log_m_bh_range_norm, z_range, q_range, indexing='ij')"
   ]
  },
  {
   "cell_type": "code",
   "execution_count": 67,
   "metadata": {},
   "outputs": [
    {
     "data": {
      "application/vnd.jupyter.widget-view+json": {
       "model_id": "99f79f2f04c94d55821f07e268ebf4b5",
       "version_major": 2,
       "version_minor": 0
      },
      "text/plain": [
       "  0%|          | 0/19456 [00:00<?, ?it/s]"
      ]
     },
     "metadata": {},
     "output_type": "display_data"
    }
   ],
   "source": [
    "with mp.Pool(mp.cpu_count()) as p:\n",
    "    differential_quasar_population = list(p.starmap(quasar_formation_rate,\n",
    "                             tqdm(zip(mm.ravel(), zz.ravel(), qq.ravel()),\n",
    "                      total=len(mm.ravel()))))\n",
    "\n",
    "differential_quasar_population = np.reshape(differential_quasar_population, np.repeat(mm[..., np.newaxis], n_samples, axis=-1).shape)"
   ]
  },
  {
   "cell_type": "code",
   "execution_count": 68,
   "metadata": {},
   "outputs": [
    {
     "data": {
      "text/latex": [
       "$\\displaystyle \\phi_{\\rm{AGN}, 0} = (1.2_{-0.6}^{+1.5}) \\times 10^{-6.0}\\;\\rm{Mpc}^{-3}$"
      ],
      "text/plain": [
       "<IPython.core.display.Math object>"
      ]
     },
     "metadata": {},
     "output_type": "display_data"
    }
   ],
   "source": [
    "local_quasar_number_density = trapz(trapz(differential_quasar_population, log_m_bh_range_norm, axis=0), q_range, axis=1)[0]\n",
    "\n",
    "quantiles = np.quantile(local_quasar_number_density, q=[.16, .5, .84])\n",
    "order = 10. ** np.floor(np.log10(quantiles[1]))\n",
    "display(Math(r'\\phi_{{\\rm{{AGN}}, 0}} = ({0:.1f}_{{-{1:.1f}}}^{{+{2:.1f}}})'\n",
    "             r' \\times 10^{{{3}}}\\;\\rm{{Mpc}}^{{-3}}'.format(quantiles[1] / order,\n",
    "                                          (quantiles[1] - quantiles[0]) / order,\n",
    "                                          (quantiles[2] - quantiles[1]) / order,\n",
    "                                          np.log10(order))))"
   ]
  },
  {
   "cell_type": "code",
   "execution_count": 69,
   "metadata": {},
   "outputs": [
    {
     "data": {
      "text/latex": [
       "$\\displaystyle N_{0} = 1.3_{-0.7}^{+1.6}$"
      ],
      "text/plain": [
       "<IPython.core.display.Math object>"
      ]
     },
     "metadata": {},
     "output_type": "display_data"
    }
   ],
   "source": [
    "binary_normalization = Const3D(local_binary_number_density.amplitude / local_quasar_number_density, n_models=n_samples)\n",
    "\n",
    "quantiles = np.quantile(binary_normalization.amplitude, q=[.16, .5, .84])\n",
    "display(Math(r'N_{{0}} = {0:.1f}_{{-{1:.1f}}}^{{+{2:.1f}}}'.format(quantiles[1],\n",
    "                                          quantiles[1] - quantiles[0],\n",
    "                                          quantiles[2] - quantiles[1])))"
   ]
  },
  {
   "cell_type": "code",
   "execution_count": 70,
   "metadata": {},
   "outputs": [
    {
     "name": "stdout",
     "output_type": "stream",
     "text": [
      "Model: Const3D\n",
      "Inputs: ('x0', 'x1', 'x2')\n",
      "Outputs: ('x0',)\n",
      "Model set size: 128\n",
      "Parameters:\n",
      "        amplitude     \n",
      "    ------------------\n",
      "    14.122952079542364\n",
      "     2.662489450813437\n",
      "    1.4749578424749634\n",
      "     1.909245056713629\n",
      "     2.950208340326384\n",
      "    0.6751289063394875\n",
      "    0.4854388958513564\n",
      "     1.348577813355279\n",
      "    0.6532912213620721\n",
      "    0.7414920835835257\n",
      "                   ...\n",
      "    0.9954692767895486\n",
      "    1.6493517335536207\n",
      "    2.4815078897322564\n",
      "    1.5141921675925956\n",
      "    1.1823451901667263\n",
      "    0.8283814556062535\n",
      "     2.249201685168626\n",
      "    2.2778959514029027\n",
      "    1.3312351496733188\n",
      "    0.7229904166768085\n",
      "    2.9503815752607463\n",
      "    Length = 128 rows\n"
     ]
    }
   ],
   "source": [
    "print(binary_normalization)\n",
    "with open('../models/BinaryNormalization.pkl', 'wb') as f:\n",
    "    pickle.dump(binary_normalization, f)"
   ]
  },
  {
   "cell_type": "markdown",
   "metadata": {},
   "source": [
    "#### Full AGN-SMBHB model"
   ]
  },
  {
   "cell_type": "code",
   "execution_count": 71,
   "metadata": {},
   "outputs": [],
   "source": [
    "differential_smbhb_population = QuasarProxyBinaries(binary_normalization=binary_normalization.amplitude,\n",
    "                                                    log_formation_rate_normalization=log_formation_rate_normalization,\n",
    "                                                    log_formation_rate_power_law_slope=log_formation_rate_power_law_slope,\n",
    "                                                    log_mass_break_normalization=log_mass_break_normalization,\n",
    "                                                    log_mass_break_k_1=log_mass_break_k_1,\n",
    "                                                    log_mass_break_k_2=log_mass_break_k_2,\n",
    "                                                    low_mass_slope=low_mass_slope,\n",
    "                                                    high_mass_slope_normalization=high_mass_slope_normalization,\n",
    "                                                    high_mass_slope_k_1=high_mass_slope_k_1,\n",
    "                                                    high_mass_slope_k_2=high_mass_slope_k_2,\n",
    "                                                    z_ref=z_ref,\n",
    "                                                    mu_log_q=median_log_q,\n",
    "                                                    std_log_q=var_log_q,\n",
    "                                                    n_models=n_samples)"
   ]
  },
  {
   "cell_type": "code",
   "execution_count": 72,
   "metadata": {},
   "outputs": [
    {
     "name": "stdout",
     "output_type": "stream",
     "text": [
      "Model: QuasarProxyBinaries\n",
      "Inputs: ('x0', 'x1', 'x2')\n",
      "Outputs: ('x0',)\n",
      "Model set size: 128\n",
      "Parameters:\n",
      "    binary_normalization log_formation_rate_normalization ... mu_log_q std_log_q\n",
      "    -------------------- -------------------------------- ... -------- ---------\n",
      "      14.122952079542364               -3.879473850371711 ...      0.0       0.5\n",
      "       2.662489450813437               -3.914200048057708 ...      0.0       0.5\n",
      "      1.4749578424749634               -3.836707965894886 ...      0.0       0.5\n",
      "       1.909245056713629               -3.813032522929121 ...      0.0       0.5\n",
      "       2.950208340326384              -3.7914660129195177 ...      0.0       0.5\n",
      "      0.6751289063394875              -3.8067664628080657 ...      0.0       0.5\n",
      "      0.4854388958513564              -3.8354011500609526 ...      0.0       0.5\n",
      "       1.348577813355279               -3.842222316543332 ...      0.0       0.5\n",
      "      0.6532912213620721              -3.8156617173807934 ...      0.0       0.5\n",
      "      0.7414920835835257              -3.8277575413940186 ...      0.0       0.5\n",
      "                     ...                              ... ...      ...       ...\n",
      "      0.9954692767895486               -3.781223541456726 ...      0.0       0.5\n",
      "      1.6493517335536207                -3.82339632205746 ...      0.0       0.5\n",
      "      2.4815078897322564              -3.8069768010047125 ...      0.0       0.5\n",
      "      1.5141921675925956              -3.7911369991107122 ...      0.0       0.5\n",
      "      1.1823451901667263               -3.777569352063083 ...      0.0       0.5\n",
      "      0.8283814556062535               -3.894493826581341 ...      0.0       0.5\n",
      "       2.249201685168626              -3.8336340554758905 ...      0.0       0.5\n",
      "      2.2778959514029027               -3.806797914252996 ...      0.0       0.5\n",
      "      1.3312351496733188              -3.8558203386272525 ...      0.0       0.5\n",
      "      0.7229904166768085               -3.840579051347542 ...      0.0       0.5\n",
      "      2.9503815752607463              -3.8298996539338446 ...      0.0       0.5\n",
      "    Length = 128 rows\n"
     ]
    }
   ],
   "source": [
    "print(differential_smbhb_population)\n",
    "with open('../models/SMBHBPopulation.pkl', 'wb') as f:\n",
    "    pickle.dump(differential_smbhb_population, f)"
   ]
  },
  {
   "cell_type": "markdown",
   "metadata": {
    "toc-hr-collapsed": true
   },
   "source": [
    "### Goulding+ (2019)"
   ]
  },
  {
   "cell_type": "markdown",
   "metadata": {},
   "source": [
    "#### Normalization"
   ]
  },
  {
   "cell_type": "code",
   "execution_count": 73,
   "metadata": {},
   "outputs": [],
   "source": [
    "# # Get data used for Goulding+ (2019) number densities, as well as calculate their local number density of sources\n",
    "# zqso, nz1_, nz2_, nz3_ = np.loadtxt('../data/external/qso2_num_density.txt', unpack=True)\n",
    "\n",
    "# nz1_ = u.Quantity(nz1_, 1./u.Mpc**3)*.25\n",
    "# nz2_ = u.Quantity(nz2_, 1./u.Mpc**3)*.25\n",
    "# nz3_ = u.Quantity(nz3_, 1./u.Mpc**3)*.25\n",
    "\n",
    "# oh2index = np.where(zqso==0.2)\n",
    "# nz1 = (nz1_[oh2index]-nz1_[0])+nz1_\n",
    "# nz2 = (nz2_[oh2index]-nz2_[0])+nz2_\n",
    "# nz3 = (nz3_[oh2index]-nz3_[0])+nz3_\n",
    "\n",
    "# nd_goulding = np.vstack([nz3, nz2, nz1]) * 1. / u.Mpc ** 3\n",
    "\n",
    "# nz_goulding = UnivariateSpline(zqso, nd_goulding[1], s=0)\n",
    "# nz_goulding_l = UnivariateSpline(zqso, nd_goulding[0], s=0)\n",
    "# nz_goulding_h = UnivariateSpline(zqso, nd_goulding[2], s=0)\n",
    "\n",
    "# # now we can find n(z=0)\n",
    "# order = 10. ** np.floor(np.log10(nz_goulding(0)))\n",
    "# unc_l = nz_goulding(0) - nz_goulding_l(0)\n",
    "# unc_h = nz_goulding_h(0) - nz_goulding(0)\n",
    "# display(Math(r'n_{{G+19}} = ({0:.1f}_{{-{1:.1f}}}^{{+{2:.1f}}})'\n",
    "#              r' \\times 10^{{{3}}} \\text{{Mpc}}^{{-3}}'\n",
    "#              .format(nz_goulding(0) / order,\n",
    "#                      unc_l / order,\n",
    "#                      unc_h / order, np.log10(order))))"
   ]
  },
  {
   "cell_type": "code",
   "execution_count": 74,
   "metadata": {},
   "outputs": [],
   "source": [
    "# local_dual_agn_number_density = trunc_norm_dist()"
   ]
  },
  {
   "cell_type": "code",
   "execution_count": 75,
   "metadata": {},
   "outputs": [],
   "source": [
    "# dual_agn_normalization = Const3D(local_dual_agn_number_density.amplitude / local_quasar_number_density, n_models=n_samples)\n",
    "\n",
    "# quantiles = np.quantile(binary_normalization.amplitude, q=[.16, .5, .84])\n",
    "# display(Math(r'N_{{0}} = {0:.1f}_{{-{1:.1f}}}^{{+{2:.1f}}}'.format(quantiles[1],\n",
    "#                                           quantiles[1] - quantiles[0],\n",
    "#                                           quantiles[2] - quantiles[1])))"
   ]
  },
  {
   "cell_type": "markdown",
   "metadata": {},
   "source": [
    "### Major merger models"
   ]
  },
  {
   "cell_type": "markdown",
   "metadata": {},
   "source": [
    "#### S1: Borch+ (2006), Bundy+ (2009), Kitzbichler & White (2008)"
   ]
  },
  {
   "cell_type": "code",
   "execution_count": 76,
   "metadata": {},
   "outputs": [],
   "source": [
    "S1 = Sesana2013_Schechter(alpha=alpha_mcconnell_ma,\n",
    "                          beta=beta_mcconnell_ma,\n",
    "                          norm1=norm_0_borch,\n",
    "                          norm2=norm_3_borch,\n",
    "                          norm3=norm_5_borch,\n",
    "                          norm4=norm_7_borch,\n",
    "                          norm5=norm_9_borch,\n",
    "                          log_m_break1=log_m_gal_0_borch,\n",
    "                          log_m_break2=log_m_gal_3_borch,\n",
    "                          log_m_break3=log_m_gal_5_borch,\n",
    "                          log_m_break4=log_m_gal_7_borch,\n",
    "                          log_m_break5=log_m_gal_9_borch,\n",
    "                          exp1=alpha_0_borch,\n",
    "                          exp2=alpha_3_borch,\n",
    "                          exp3=alpha_5_borch,\n",
    "                          exp4=alpha_7_borch,\n",
    "                          exp5=alpha_9_borch,\n",
    "                          local_pair_fraction=fp_bundy,\n",
    "                          pair_fraction_exponent=m_bundy,\n",
    "                          q_min=q_min_bundy,\n",
    "                          t_norm=norm_kw,\n",
    "                          r_proj=r_proj_bundy,\n",
    "                          n_models=n_samples)"
   ]
  },
  {
   "cell_type": "code",
   "execution_count": 77,
   "metadata": {},
   "outputs": [
    {
     "name": "stdout",
     "output_type": "stream",
     "text": [
      "Model: Sesana2013_Schechter\n",
      "Inputs: ('x0', 'x1', 'x2')\n",
      "Outputs: ('x0',)\n",
      "Model set size: 128\n",
      "Parameters:\n",
      "          alpha              beta                norm1         ... t_norm r_proj\n",
      "    ----------------- ------------------ --------------------- ... ------ ------\n",
      "    8.322009252473732 1.0750320431772524 0.0034165016580645774 ...    2.2   20.0\n",
      "    8.436703899855512 1.0099610172109545 0.0037729416608806333 ...    2.2   20.0\n",
      "    8.421907969311494 1.1664276487503686  0.004316158958941379 ...    2.2   20.0\n",
      "    8.383767545572525 1.1089078435003432 0.0036321955750007874 ...    2.2   20.0\n",
      "    8.555656256733371 0.9126495610774267  0.003316806981377811 ...    2.2   20.0\n",
      "    8.450033393710264 0.9952412878521918  0.004192396666418581 ...    2.2   20.0\n",
      "    8.420842981648933 1.1279099929742002 0.0037971823083970072 ...    2.2   20.0\n",
      "    8.432586412074512  1.167034482594716 0.0036601398840771324 ...    2.2   20.0\n",
      "    8.400850420827506 0.9004954784168724 0.0035488235618288742 ...    2.2   20.0\n",
      "    8.510748464737606  1.038575388534865  0.004158590123277267 ...    2.2   20.0\n",
      "                  ...                ...                   ... ...    ...    ...\n",
      "    8.541223813438258 0.8969497684694266  0.003835062030505889 ...    2.2   20.0\n",
      "    8.629212129550698 1.1604047142832912 0.0038360501809065212 ...    2.2   20.0\n",
      "    8.570001869573584 0.9624524175444489  0.004434246616068055 ...    2.2   20.0\n",
      "    8.282033200267612 1.0400766645516448  0.003265384891799384 ...    2.2   20.0\n",
      "    8.451572752484598  1.264776489617753  0.004178356726406171 ...    2.2   20.0\n",
      "    8.554099857244527 1.0197452965633151  0.004038457928470852 ...    2.2   20.0\n",
      "    8.285042568605292 1.0796038345609256 0.0033167201854637915 ...    2.2   20.0\n",
      "    8.621146889209875 1.1198726330001987  0.003620073798099425 ...    2.2   20.0\n",
      "    8.523147974021528 1.1890242643281423 0.0034759493643617997 ...    2.2   20.0\n",
      "     8.39048375709292  1.090733654418059 0.0033275614374346655 ...    2.2   20.0\n",
      "    8.646486176469987 1.0783988610064115 0.0032696272969412604 ...    2.2   20.0\n",
      "    Length = 128 rows\n"
     ]
    }
   ],
   "source": [
    "print(S1)\n",
    "with open('../models/S1.pkl', 'wb') as f:\n",
    "    pickle.dump(S1, f)"
   ]
  },
  {
   "cell_type": "markdown",
   "metadata": {},
   "source": [
    "#### S2: Drory+ (2009), de Ravel+ (2009), Lotz+ (2010)"
   ]
  },
  {
   "cell_type": "code",
   "execution_count": 78,
   "metadata": {},
   "outputs": [],
   "source": [
    "S2 = Sesana2013_DoubleSchechter(alpha=alpha_mcconnell_ma,\n",
    "                                beta=beta_mcconnell_ma,\n",
    "                                norm11=norm_0_drory_b,\n",
    "                                norm12=norm_3_drory_b,\n",
    "                                norm13=norm_5_drory_b,\n",
    "                                norm14=norm_7_drory_b,\n",
    "                                norm15=norm_9_drory_b,\n",
    "                                norm21=norm_0_drory_f,\n",
    "                                norm22=norm_3_drory_f,\n",
    "                                norm23=norm_5_drory_f,\n",
    "                                norm24=norm_7_drory_f,\n",
    "                                norm25=norm_9_drory_f,\n",
    "                                log_m_break11=log_m_gal_0_drory_b,\n",
    "                                log_m_break12=log_m_gal_3_drory_b,\n",
    "                                log_m_break13=log_m_gal_5_drory_b,\n",
    "                                log_m_break14=log_m_gal_7_drory_b,\n",
    "                                log_m_break15=log_m_gal_9_drory_b,\n",
    "                                log_m_break21=log_m_gal_0_drory_f,\n",
    "                                log_m_break22=log_m_gal_3_drory_f,\n",
    "                                log_m_break23=log_m_gal_5_drory_f,\n",
    "                                log_m_break24=log_m_gal_7_drory_f,\n",
    "                                log_m_break25=log_m_gal_9_drory_f,\n",
    "                                exp11=alpha_0_drory_b,\n",
    "                                exp12=alpha_3_drory_b,\n",
    "                                exp13=alpha_5_drory_b,\n",
    "                                exp14=alpha_7_drory_b,\n",
    "                                exp15=alpha_9_drory_b,\n",
    "                                exp21=alpha_0_drory_f,\n",
    "                                exp22=alpha_3_drory_f,\n",
    "                                exp23=alpha_5_drory_f,\n",
    "                                exp24=alpha_7_drory_f,\n",
    "                                exp25=alpha_9_drory_f,\n",
    "                                local_pair_fraction1=fp_95_de_ravel,\n",
    "                                local_pair_fraction2=fp_10_de_ravel,\n",
    "                                local_pair_fraction3=fp_105_de_ravel,\n",
    "                                pair_fraction_exponent1=m_95_de_ravel,\n",
    "                                pair_fraction_exponent2=m_10_de_ravel,\n",
    "                                pair_fraction_exponent3=m_105_de_ravel,\n",
    "                                q_min=q_min_de_ravel,\n",
    "                                t_norm=norm_lotz,\n",
    "                                r_proj=r_proj_de_ravel,\n",
    "                                n_models=n_samples)"
   ]
  },
  {
   "cell_type": "code",
   "execution_count": 79,
   "metadata": {},
   "outputs": [
    {
     "name": "stdout",
     "output_type": "stream",
     "text": [
      "Model: Sesana2013_DoubleSchechter\n",
      "Inputs: ('x0', 'x1', 'x2')\n",
      "Outputs: ('x0',)\n",
      "Model set size: 128\n",
      "Parameters:\n",
      "          alpha              beta                norm11        ... t_norm r_proj\n",
      "    ----------------- ------------------ --------------------- ... ------ ------\n",
      "    8.322009252473732 1.0750320431772524  0.004536429684000882 ...    1.1  100.0\n",
      "    8.436703899855512 1.0099610172109545  0.004647405450417095 ...    1.1  100.0\n",
      "    8.421907969311494 1.1664276487503686 0.0042279956006076175 ...    1.1  100.0\n",
      "    8.383767545572525 1.1089078435003432 0.0045898392809899605 ...    1.1  100.0\n",
      "    8.555656256733371 0.9126495610774267  0.004303895804035193 ...    1.1  100.0\n",
      "    8.450033393710264 0.9952412878521918  0.004258989514743219 ...    1.1  100.0\n",
      "    8.420842981648933 1.1279099929742002  0.004393907708378568 ...    1.1  100.0\n",
      "    8.432586412074512  1.167034482594716  0.004683523209656901 ...    1.1  100.0\n",
      "    8.400850420827506 0.9004954784168724   0.00403928643001697 ...    1.1  100.0\n",
      "    8.510748464737606  1.038575388534865  0.004855615733054511 ...    1.1  100.0\n",
      "                  ...                ...                   ... ...    ...    ...\n",
      "    8.541223813438258 0.8969497684694266  0.004365092326170985 ...    1.1  100.0\n",
      "    8.629212129550698 1.1604047142832912  0.004430982807751835 ...    1.1  100.0\n",
      "    8.570001869573584 0.9624524175444489  0.004463204476181146 ...    1.1  100.0\n",
      "    8.282033200267612 1.0400766645516448  0.004425172152137887 ...    1.1  100.0\n",
      "    8.451572752484598  1.264776489617753  0.004356833723584401 ...    1.1  100.0\n",
      "    8.554099857244527 1.0197452965633151  0.004646251882219581 ...    1.1  100.0\n",
      "    8.285042568605292 1.0796038345609256  0.004479826496062055 ...    1.1  100.0\n",
      "    8.621146889209875 1.1198726330001987  0.004439417551390143 ...    1.1  100.0\n",
      "    8.523147974021528 1.1890242643281423  0.004435870654451532 ...    1.1  100.0\n",
      "     8.39048375709292  1.090733654418059  0.004514515443589056 ...    1.1  100.0\n",
      "    8.646486176469987 1.0783988610064115  0.004368831002603299 ...    1.1  100.0\n",
      "    Length = 128 rows\n"
     ]
    }
   ],
   "source": [
    "print(S2)\n",
    "with open('../models/S2.pkl', 'wb') as f:\n",
    "    pickle.dump(S2, f)"
   ]
  },
  {
   "cell_type": "markdown",
   "metadata": {},
   "source": [
    "#### S3: Ilbert+ (2010), Lopez+ (2012), Kitzbichler & White (2008)"
   ]
  },
  {
   "cell_type": "code",
   "execution_count": 80,
   "metadata": {},
   "outputs": [],
   "source": [
    "S3 = Sesana2013_TripleSchechter(alpha=alpha_mcconnell_ma,\n",
    "                                beta=beta_mcconnell_ma,\n",
    "                                norm11=norm_0_ilbert_q,\n",
    "                                norm12=norm_3_ilbert_q,\n",
    "                                norm13=norm_5_ilbert_q,\n",
    "                                norm14=norm_7_ilbert_q,\n",
    "                                norm15=norm_9_ilbert_q,\n",
    "                                norm16=norm_11_ilbert_q,\n",
    "                                norm17=norm_135_ilbert_q,\n",
    "                                norm18=norm_175_ilbert_q,\n",
    "                                norm21=norm_0_ilbert_i,\n",
    "                                norm22=norm_3_ilbert_i,\n",
    "                                norm23=norm_5_ilbert_i,\n",
    "                                norm24=norm_7_ilbert_i,\n",
    "                                norm25=norm_9_ilbert_i,\n",
    "                                norm26=norm_11_ilbert_i,\n",
    "                                norm27=norm_135_ilbert_i,\n",
    "                                norm28=norm_175_ilbert_i,\n",
    "                                norm31=norm_0_ilbert_h,\n",
    "                                norm32=norm_3_ilbert_h,\n",
    "                                norm33=norm_5_ilbert_h,\n",
    "                                norm34=norm_7_ilbert_h,\n",
    "                                norm35=norm_9_ilbert_h,\n",
    "                                norm36=norm_11_ilbert_h,\n",
    "                                norm37=norm_135_ilbert_h,\n",
    "                                norm38=norm_175_ilbert_h,\n",
    "                                log_m_break11=log_m_gal_0_ilbert_q,\n",
    "                                log_m_break12=log_m_gal_3_ilbert_q,\n",
    "                                log_m_break13=log_m_gal_5_ilbert_q,\n",
    "                                log_m_break14=log_m_gal_7_ilbert_q,\n",
    "                                log_m_break15=log_m_gal_9_ilbert_q,\n",
    "                                log_m_break16=log_m_gal_11_ilbert_q,\n",
    "                                log_m_break17=log_m_gal_135_ilbert_q,\n",
    "                                log_m_break18=log_m_gal_175_ilbert_q,\n",
    "                                log_m_break21=log_m_gal_0_ilbert_i,\n",
    "                                log_m_break22=log_m_gal_3_ilbert_i,\n",
    "                                log_m_break23=log_m_gal_5_ilbert_i,\n",
    "                                log_m_break24=log_m_gal_7_ilbert_i,\n",
    "                                log_m_break25=log_m_gal_9_ilbert_i,\n",
    "                                log_m_break26=log_m_gal_11_ilbert_i,\n",
    "                                log_m_break27=log_m_gal_135_ilbert_i,\n",
    "                                log_m_break28=log_m_gal_175_ilbert_i,\n",
    "                                log_m_break31=log_m_gal_0_ilbert_h,\n",
    "                                log_m_break32=log_m_gal_3_ilbert_h,\n",
    "                                log_m_break33=log_m_gal_5_ilbert_h,\n",
    "                                log_m_break34=log_m_gal_7_ilbert_h,\n",
    "                                log_m_break35=log_m_gal_9_ilbert_h,\n",
    "                                log_m_break36=log_m_gal_11_ilbert_h,\n",
    "                                log_m_break37=log_m_gal_135_ilbert_h,\n",
    "                                log_m_break38=log_m_gal_175_ilbert_h,\n",
    "                                exp11=alpha_0_ilbert_q,\n",
    "                                exp12=alpha_3_ilbert_q,\n",
    "                                exp13=alpha_5_ilbert_q,\n",
    "                                exp14=alpha_7_ilbert_q,\n",
    "                                exp15=alpha_9_ilbert_q,\n",
    "                                exp16=alpha_11_ilbert_q,\n",
    "                                exp17=alpha_135_ilbert_q,\n",
    "                                exp18=alpha_175_ilbert_q,\n",
    "                                exp21=alpha_0_ilbert_i,\n",
    "                                exp22=alpha_3_ilbert_i,\n",
    "                                exp23=alpha_5_ilbert_i,\n",
    "                                exp24=alpha_7_ilbert_i,\n",
    "                                exp25=alpha_9_ilbert_i,\n",
    "                                exp26=alpha_11_ilbert_i,\n",
    "                                exp27=alpha_135_ilbert_i,\n",
    "                                exp28=alpha_175_ilbert_i,\n",
    "                                exp31=alpha_0_ilbert_h,\n",
    "                                exp32=alpha_3_ilbert_h,\n",
    "                                exp33=alpha_5_ilbert_h,\n",
    "                                exp34=alpha_7_ilbert_h,\n",
    "                                exp35=alpha_9_ilbert_h,\n",
    "                                exp36=alpha_11_ilbert_h,\n",
    "                                exp37=alpha_135_ilbert_h,\n",
    "                                exp38=alpha_175_ilbert_h,\n",
    "                                local_pair_fraction=fp_lopez,\n",
    "                                pair_fraction_exponent=m_lopez,\n",
    "                                q_min=q_min_lopez,\n",
    "                                t_norm=norm_kw,\n",
    "                                r_proj=r_proj_lopez,\n",
    "                                n_models=n_samples)"
   ]
  },
  {
   "cell_type": "code",
   "execution_count": 81,
   "metadata": {},
   "outputs": [
    {
     "name": "stdout",
     "output_type": "stream",
     "text": [
      "Model: Sesana2013_TripleSchechter\n",
      "Inputs: ('x0', 'x1', 'x2')\n",
      "Outputs: ('x0',)\n",
      "Model set size: 128\n",
      "Parameters:\n",
      "          alpha              beta                norm11        ... t_norm r_proj\n",
      "    ----------------- ------------------ --------------------- ... ------ ------\n",
      "    8.322009252473732 1.0750320431772524  0.004536429684000882 ...    2.2   30.0\n",
      "    8.436703899855512 1.0099610172109545  0.004647405450417095 ...    2.2   30.0\n",
      "    8.421907969311494 1.1664276487503686 0.0042279956006076175 ...    2.2   30.0\n",
      "    8.383767545572525 1.1089078435003432 0.0045898392809899605 ...    2.2   30.0\n",
      "    8.555656256733371 0.9126495610774267  0.004303895804035193 ...    2.2   30.0\n",
      "    8.450033393710264 0.9952412878521918  0.004258989514743219 ...    2.2   30.0\n",
      "    8.420842981648933 1.1279099929742002  0.004393907708378568 ...    2.2   30.0\n",
      "    8.432586412074512  1.167034482594716  0.004683523209656901 ...    2.2   30.0\n",
      "    8.400850420827506 0.9004954784168724   0.00403928643001697 ...    2.2   30.0\n",
      "    8.510748464737606  1.038575388534865  0.004855615733054511 ...    2.2   30.0\n",
      "                  ...                ...                   ... ...    ...    ...\n",
      "    8.541223813438258 0.8969497684694266  0.004365092326170985 ...    2.2   30.0\n",
      "    8.629212129550698 1.1604047142832912  0.004430982807751835 ...    2.2   30.0\n",
      "    8.570001869573584 0.9624524175444489  0.004463204476181146 ...    2.2   30.0\n",
      "    8.282033200267612 1.0400766645516448  0.004425172152137887 ...    2.2   30.0\n",
      "    8.451572752484598  1.264776489617753  0.004356833723584401 ...    2.2   30.0\n",
      "    8.554099857244527 1.0197452965633151  0.004646251882219581 ...    2.2   30.0\n",
      "    8.285042568605292 1.0796038345609256  0.004479826496062055 ...    2.2   30.0\n",
      "    8.621146889209875 1.1198726330001987  0.004439417551390143 ...    2.2   30.0\n",
      "    8.523147974021528 1.1890242643281423  0.004435870654451532 ...    2.2   30.0\n",
      "     8.39048375709292  1.090733654418059  0.004514515443589056 ...    2.2   30.0\n",
      "    8.646486176469987 1.0783988610064115  0.004368831002603299 ...    2.2   30.0\n",
      "    Length = 128 rows\n"
     ]
    }
   ],
   "source": [
    "print(S3)\n",
    "with open('../models/S3.pkl', 'wb') as f:\n",
    "    pickle.dump(S3, f)"
   ]
  },
  {
   "cell_type": "markdown",
   "metadata": {},
   "source": [
    "# Results"
   ]
  },
  {
   "cell_type": "markdown",
   "metadata": {},
   "source": [
    "## AGN Models"
   ]
  },
  {
   "cell_type": "markdown",
   "metadata": {},
   "source": [
    "### AGN-proxy"
   ]
  },
  {
   "cell_type": "markdown",
   "metadata": {},
   "source": [
    "#### SMBHB Population"
   ]
  },
  {
   "cell_type": "code",
   "execution_count": 82,
   "metadata": {},
   "outputs": [],
   "source": [
    "mm, zz, qq = np.meshgrid(log_m_bh_range, z_range, q_range, indexing='ij')"
   ]
  },
  {
   "cell_type": "code",
   "execution_count": 83,
   "metadata": {},
   "outputs": [
    {
     "data": {
      "application/vnd.jupyter.widget-view+json": {
       "model_id": "77a09bb3dacb4e9583811e936b7e41e5",
       "version_major": 2,
       "version_minor": 0
      },
      "text/plain": [
       "  0%|          | 0/32768 [00:00<?, ?it/s]"
      ]
     },
     "metadata": {},
     "output_type": "display_data"
    }
   ],
   "source": [
    "with mp.Pool(mp.cpu_count()) as p:\n",
    "    differential_bhb_population = list(p.starmap(differential_smbhb_population,\n",
    "                             tqdm(zip(mm.ravel(), zz.ravel(), qq.ravel()),\n",
    "                      total=len(mm.ravel()))))\n",
    "\n",
    "differential_bhb_population = np.reshape(differential_bhb_population, np.repeat(mm[..., np.newaxis], n_samples, axis=-1).shape)"
   ]
  },
  {
   "cell_type": "markdown",
   "metadata": {},
   "source": [
    "#### Characteristic strain"
   ]
  },
  {
   "cell_type": "code",
   "execution_count": 84,
   "metadata": {},
   "outputs": [],
   "source": [
    "coeffs = 4. * const.G ** (5. / 3.) / (3. * np.pi ** (1. / 3.)\n",
    "                                      * (const.c ** 2)\n",
    "                                      * (fidhz ** (4. / 3.)))"
   ]
  },
  {
   "cell_type": "code",
   "execution_count": 85,
   "metadata": {},
   "outputs": [],
   "source": [
    "hc_integrand = (coeffs * differential_bhb_population * ((10 ** (mm * (5 / 3)))\n",
    "                                                        * (qq / ((1 + qq) ** (1 / 3)))\n",
    "                                                        / ((1 + zz) ** (1. / 3.)))[..., np.newaxis]\n",
    "                * (u.Msun ** (5 / 3)) / (u.Mpc ** 3))"
   ]
  },
  {
   "cell_type": "code",
   "execution_count": 86,
   "metadata": {},
   "outputs": [
    {
     "data": {
      "text/latex": [
       "$\\displaystyle h_{c} = (7.3^{+3.5}_{-2.1}) \\times 10^{-16.0}$"
      ],
      "text/plain": [
       "<IPython.core.display.Math object>"
      ]
     },
     "metadata": {},
     "output_type": "display_data"
    }
   ],
   "source": [
    "hc = np.sqrt(cumtrapz(cumtrapz(cumtrapz(hc_integrand.to(''), log_m_bh_range, axis=0), z_range, axis=1), q_range, axis=2))\n",
    "hc_q = np.quantile(hc, q=[.16, .5, .84], axis=-1)\n",
    "\n",
    "order = 10. ** np.floor(np.log10(hc_q[1, -1, -1, -1]))\n",
    "display(Math(r'h_{{c}} = ({0:.1f}^{{+{1:.1f}}}_{{-{2:.1f}}}) \\times 10^{{{3}}}'\n",
    "             .format(hc_q[1, -1, -1, -1] / order,\n",
    "                     (hc_q[2, -1, -1, -1] - hc_q[1, -1, -1, -1]) / order,\n",
    "                     (hc_q[1, -1, -1, -1] - hc_q[0, -1, -1, -1]) / order,\n",
    "                     np.log10(order))))"
   ]
  },
  {
   "cell_type": "markdown",
   "metadata": {},
   "source": [
    "#### Number density"
   ]
  },
  {
   "cell_type": "code",
   "execution_count": 87,
   "metadata": {},
   "outputs": [],
   "source": [
    "differential_number_density = trapz(trapz(differential_bhb_population, log_m_bh_range, axis=0), q_range, axis=1)\n",
    "differential_number_density_q = np.quantile(differential_number_density, q=[.16, .5, .84], axis=-1)"
   ]
  },
  {
   "cell_type": "code",
   "execution_count": 88,
   "metadata": {},
   "outputs": [
    {
     "data": {
      "text/latex": [
       "$\\displaystyle \\Phi_{\\rm{BHB}, 0} = (1.7^{+1.2}_{-0.7}) \\times 10^{-4.0}\\;\\rm{Mpc}^{-3}$"
      ],
      "text/plain": [
       "<IPython.core.display.Math object>"
      ]
     },
     "metadata": {},
     "output_type": "display_data"
    }
   ],
   "source": [
    "order = 10. ** np.floor(np.log10(differential_number_density_q[1, 0]))\n",
    "display(Math(r'\\Phi_{{\\rm{{BHB}}, 0}} = ({0:.1f}^{{+{1:.1f}}}_{{-{2:.1f}}}) \\times 10^{{{3}}}\\;\\rm{{Mpc}}^{{-3}}'\n",
    "             .format(differential_number_density_q[1, 0] / order,\n",
    "                     (differential_number_density_q[2, 0] - differential_number_density_q[1, 0]) / order,\n",
    "                     (differential_number_density_q[1, 0] - differential_number_density_q[0, 0]) / order,\n",
    "                     np.log10(order))))"
   ]
  },
  {
   "cell_type": "markdown",
   "metadata": {},
   "source": [
    "#### Local Mass Function"
   ]
  },
  {
   "cell_type": "code",
   "execution_count": 89,
   "metadata": {},
   "outputs": [],
   "source": [
    "local_bhmf = trapz(trapz(differential_bhb_population, z_range, axis=1), q_range, axis=1) / (np.log(10) * (10 ** log_m_bh_range[:, np.newaxis]))\n",
    "local_bhmf_q = np.quantile(local_bhmf, q=[.16, .5, .84], axis=-1)"
   ]
  },
  {
   "cell_type": "markdown",
   "metadata": {},
   "source": [
    "#### Summary"
   ]
  },
  {
   "cell_type": "code",
   "execution_count": 90,
   "metadata": {},
   "outputs": [],
   "source": [
    "with h5py.File('../data/processed/agn_proxy.h5', 'w') as hf:\n",
    "    hf.create_dataset('population',  data=differential_bhb_population)\n",
    "    hf.create_dataset('characteristic_strain',  data=hc)\n",
    "    hf.create_dataset('number_density',  data=differential_number_density)\n",
    "    hf.create_dataset('local_bhmf',  data=local_bhmf)"
   ]
  },
  {
   "cell_type": "markdown",
   "metadata": {},
   "source": [
    "### G19"
   ]
  },
  {
   "cell_type": "markdown",
   "metadata": {},
   "source": [
    "## Merger Models"
   ]
  },
  {
   "cell_type": "markdown",
   "metadata": {},
   "source": [
    "### S1"
   ]
  },
  {
   "cell_type": "markdown",
   "metadata": {},
   "source": [
    "#### SMBHB Population"
   ]
  },
  {
   "cell_type": "code",
   "execution_count": 91,
   "metadata": {},
   "outputs": [],
   "source": [
    "mm, zz, qq = np.meshgrid(log_m_bh_range, z_range_borch, q_range, indexing='ij')"
   ]
  },
  {
   "cell_type": "code",
   "execution_count": 92,
   "metadata": {},
   "outputs": [
    {
     "data": {
      "application/vnd.jupyter.widget-view+json": {
       "model_id": "d23305725acd41dfa798643ce3dde0ec",
       "version_major": 2,
       "version_minor": 0
      },
      "text/plain": [
       "  0%|          | 0/32768 [00:00<?, ?it/s]"
      ]
     },
     "metadata": {},
     "output_type": "display_data"
    }
   ],
   "source": [
    "with mp.Pool(mp.cpu_count()) as p:\n",
    "    S1_bhb_population = list(p.starmap(S1,\n",
    "                             tqdm(zip(mm.ravel(), zz.ravel(), qq.ravel()),\n",
    "                      total=len(mm.ravel()))))\n",
    "\n",
    "S1_bhb_population = np.reshape(S1_bhb_population, np.repeat(mm[..., np.newaxis], n_samples, axis=-1).shape)"
   ]
  },
  {
   "cell_type": "markdown",
   "metadata": {},
   "source": [
    "#### Strain"
   ]
  },
  {
   "cell_type": "code",
   "execution_count": 93,
   "metadata": {},
   "outputs": [],
   "source": [
    "S1_hc_integrand = (coeffs * S1_bhb_population * ((10 ** (mm * (5 / 3)))\n",
    "                                                 * (qq / ((1 + qq) ** (1 / 3)))\n",
    "                                                 / ((1 + zz) ** (1. / 3.)))[..., np.newaxis]\n",
    "                   * (u.Msun ** (5 / 3)) / (u.Mpc ** 3))"
   ]
  },
  {
   "cell_type": "code",
   "execution_count": 94,
   "metadata": {},
   "outputs": [
    {
     "data": {
      "text/latex": [
       "$\\displaystyle h_{c, \\rm{S1}} = (4.3^{+2.6}_{-1.5}) \\times 10^{-16.0}$"
      ],
      "text/plain": [
       "<IPython.core.display.Math object>"
      ]
     },
     "metadata": {},
     "output_type": "display_data"
    }
   ],
   "source": [
    "S1_hc = np.sqrt(cumtrapz(cumtrapz(cumtrapz(S1_hc_integrand.to(''), log_m_bh_range, axis=0), z_range_borch, axis=1), q_range, axis=2))\n",
    "S1_hc_q = np.quantile(S1_hc, q=[.16, .5, .84], axis=-1)\n",
    "\n",
    "order = 10. ** np.floor(np.log10(S1_hc_q[1, -1, -1, -1]))\n",
    "display(Math(r'h_{{c, \\rm{{S1}}}} = ({0:.1f}^{{+{1:.1f}}}_{{-{2:.1f}}}) \\times 10^{{{3}}}'\n",
    "             .format(S1_hc_q[1, -1, -1, -1] / order,\n",
    "                     (S1_hc_q[2, -1, -1, -1] - S1_hc_q[1, -1, -1, -1]) / order,\n",
    "                     (S1_hc_q[1, -1, -1, -1] - S1_hc_q[0, -1, -1, -1]) / order,\n",
    "                     np.log10(order))))"
   ]
  },
  {
   "cell_type": "markdown",
   "metadata": {},
   "source": [
    "#### Number density"
   ]
  },
  {
   "cell_type": "code",
   "execution_count": 95,
   "metadata": {},
   "outputs": [],
   "source": [
    "S1_number_density = trapz(trapz(S1_bhb_population, log_m_bh_range, axis=0), q_range, axis=1)\n",
    "S1_number_density_q = np.quantile(S1_number_density, q=[.16, .5, .84], axis=-1)"
   ]
  },
  {
   "cell_type": "code",
   "execution_count": 96,
   "metadata": {},
   "outputs": [
    {
     "data": {
      "text/latex": [
       "$\\displaystyle \\Phi_{\\rm{BHB}, 0, \\rm{S1}} = (9.6^{+12.3}_{-6.1}) \\times 10^{-4.0}\\;\\rm{Mpc}^{-3}$"
      ],
      "text/plain": [
       "<IPython.core.display.Math object>"
      ]
     },
     "metadata": {},
     "output_type": "display_data"
    }
   ],
   "source": [
    "order = 10. ** np.floor(np.log10(S1_number_density_q[1, 0]))\n",
    "display(Math(r'\\Phi_{{\\rm{{BHB}}, 0, \\rm{{S1}}}} = ({0:.1f}^{{+{1:.1f}}}_{{-{2:.1f}}}) \\times 10^{{{3}}}\\;\\rm{{Mpc}}^{{-3}}'\n",
    "             .format(S1_number_density_q[1, 0] / order,\n",
    "                     (S1_number_density_q[2, 0] - S1_number_density_q[1, 0]) / order,\n",
    "                     (S1_number_density_q[1, 0] - S1_number_density_q[0, 0]) / order,\n",
    "                     np.log10(order))))"
   ]
  },
  {
   "cell_type": "markdown",
   "metadata": {},
   "source": [
    "#### Local Mass Function"
   ]
  },
  {
   "cell_type": "code",
   "execution_count": 97,
   "metadata": {},
   "outputs": [],
   "source": [
    "S1_local_bhmf = trapz(trapz(S1_bhb_population, z_range_borch, axis=1), q_range, axis=1) / (np.log(10) * (10 ** log_m_bh_range[:, np.newaxis]))\n",
    "S1_local_bhmf_q = np.quantile(S1_local_bhmf, q=[.16, .5, .84], axis=-1)"
   ]
  },
  {
   "cell_type": "markdown",
   "metadata": {},
   "source": [
    "#### Summary"
   ]
  },
  {
   "cell_type": "code",
   "execution_count": 98,
   "metadata": {},
   "outputs": [],
   "source": [
    "with h5py.File('../data/processed/S1.h5', 'w') as hf:\n",
    "    hf.create_dataset('population',  data=S1_bhb_population)\n",
    "    hf.create_dataset('characteristic_strain',  data=S1_hc)\n",
    "    hf.create_dataset('number_density',  data=S1_number_density)\n",
    "    hf.create_dataset('local_bhmf',  data=S1_local_bhmf)"
   ]
  },
  {
   "cell_type": "markdown",
   "metadata": {},
   "source": [
    "### S2"
   ]
  },
  {
   "cell_type": "markdown",
   "metadata": {},
   "source": [
    "#### SMBHB Population"
   ]
  },
  {
   "cell_type": "code",
   "execution_count": 99,
   "metadata": {},
   "outputs": [],
   "source": [
    "mm, zz, qq = np.meshgrid(log_m_bh_range, z_range_drory, q_range, indexing='ij')"
   ]
  },
  {
   "cell_type": "code",
   "execution_count": 100,
   "metadata": {},
   "outputs": [
    {
     "data": {
      "application/vnd.jupyter.widget-view+json": {
       "model_id": "adec1cb7cc454d1caf5769ae93937003",
       "version_major": 2,
       "version_minor": 0
      },
      "text/plain": [
       "  0%|          | 0/32768 [00:00<?, ?it/s]"
      ]
     },
     "metadata": {},
     "output_type": "display_data"
    }
   ],
   "source": [
    "with mp.Pool(mp.cpu_count()) as p:\n",
    "    S2_bhb_population = list(p.starmap(S2,\n",
    "                             tqdm(zip(mm.ravel(), zz.ravel(), qq.ravel()),\n",
    "                      total=len(mm.ravel()))))\n",
    "\n",
    "S2_bhb_population = np.reshape(S2_bhb_population, np.repeat(mm[..., np.newaxis], n_samples, axis=-1).shape)"
   ]
  },
  {
   "cell_type": "markdown",
   "metadata": {},
   "source": [
    "#### Strain"
   ]
  },
  {
   "cell_type": "code",
   "execution_count": 101,
   "metadata": {},
   "outputs": [],
   "source": [
    "S2_hc_integrand = (coeffs * S2_bhb_population * ((10 ** (mm * (5 / 3)))\n",
    "                                                 * (qq / ((1 + qq) ** (1 / 3)))\n",
    "                                                 / ((1 + zz) ** (1. / 3.)))[..., np.newaxis]\n",
    "                   * (u.Msun ** (5 / 3)) / (u.Mpc ** 3))"
   ]
  },
  {
   "cell_type": "code",
   "execution_count": 102,
   "metadata": {},
   "outputs": [
    {
     "data": {
      "text/latex": [
       "$\\displaystyle h_{c, \\rm{S2}} = (1.1^{+0.7}_{-0.5}) \\times 10^{-15.0}$"
      ],
      "text/plain": [
       "<IPython.core.display.Math object>"
      ]
     },
     "metadata": {},
     "output_type": "display_data"
    }
   ],
   "source": [
    "S2_hc = np.sqrt(cumtrapz(cumtrapz(cumtrapz(S2_hc_integrand.to(''), log_m_bh_range, axis=0), z_range_drory, axis=1), q_range, axis=2))\n",
    "S2_hc_q = np.quantile(S2_hc, q=[.16, .5, .84], axis=-1)\n",
    "\n",
    "order = 10. ** np.floor(np.log10(S2_hc_q[1, -1, -1, -1]))\n",
    "display(Math(r'h_{{c, \\rm{{S2}}}} = ({0:.1f}^{{+{1:.1f}}}_{{-{2:.1f}}}) \\times 10^{{{3}}}'\n",
    "             .format(S2_hc_q[1, -1, -1, -1] / order,\n",
    "                     (S2_hc_q[2, -1, -1, -1] - S2_hc_q[1, -1, -1, -1]) / order,\n",
    "                     (S2_hc_q[1, -1, -1, -1] - S2_hc_q[0, -1, -1, -1]) / order,\n",
    "                     np.log10(order))))"
   ]
  },
  {
   "cell_type": "markdown",
   "metadata": {},
   "source": [
    "#### Number density"
   ]
  },
  {
   "cell_type": "code",
   "execution_count": 103,
   "metadata": {},
   "outputs": [],
   "source": [
    "S2_number_density = trapz(trapz(S2_bhb_population, log_m_bh_range, axis=0), q_range, axis=1)\n",
    "S2_number_density_q = np.quantile(S2_number_density, q=[.16, .5, .84], axis=-1)"
   ]
  },
  {
   "cell_type": "code",
   "execution_count": 104,
   "metadata": {},
   "outputs": [
    {
     "data": {
      "text/latex": [
       "$\\displaystyle \\Phi_{\\rm{BHB}, 0, \\rm{S2}} = (4.5^{+3.6}_{-2.7}) \\times 10^{-3.0}\\;\\rm{Mpc}^{-3}$"
      ],
      "text/plain": [
       "<IPython.core.display.Math object>"
      ]
     },
     "metadata": {},
     "output_type": "display_data"
    }
   ],
   "source": [
    "order = 10. ** np.floor(np.log10(S2_number_density_q[1, 0]))\n",
    "display(Math(r'\\Phi_{{\\rm{{BHB}}, 0, \\rm{{S2}}}} = ({0:.1f}^{{+{1:.1f}}}_{{-{2:.1f}}}) \\times 10^{{{3}}}\\;\\rm{{Mpc}}^{{-3}}'\n",
    "             .format(S2_number_density_q[1, 0] / order,\n",
    "                     (S2_number_density_q[2, 0] - S2_number_density_q[1, 0]) / order,\n",
    "                     (S2_number_density_q[1, 0] - S2_number_density_q[0, 0]) / order,\n",
    "                     np.log10(order))))"
   ]
  },
  {
   "cell_type": "markdown",
   "metadata": {},
   "source": [
    "#### Local Mass Function"
   ]
  },
  {
   "cell_type": "code",
   "execution_count": 105,
   "metadata": {},
   "outputs": [],
   "source": [
    "S2_local_bhmf = trapz(trapz(S2_bhb_population, z_range_drory, axis=1), q_range, axis=1) / (np.log(10) * (10 ** log_m_bh_range[:, np.newaxis]))\n",
    "S2_local_bhmf_q = np.quantile(S2_local_bhmf, q=[.16, .5, .84], axis=-1)"
   ]
  },
  {
   "cell_type": "markdown",
   "metadata": {},
   "source": [
    "#### Summary"
   ]
  },
  {
   "cell_type": "code",
   "execution_count": 106,
   "metadata": {},
   "outputs": [],
   "source": [
    "with h5py.File('../data/processed/S2.h5', 'w') as hf:\n",
    "    hf.create_dataset('population',  data=S2_bhb_population)\n",
    "    hf.create_dataset('characteristic_strain',  data=S2_hc)\n",
    "    hf.create_dataset('number_density',  data=S2_number_density)\n",
    "    hf.create_dataset('local_bhmf',  data=S2_local_bhmf)"
   ]
  },
  {
   "cell_type": "markdown",
   "metadata": {},
   "source": [
    "### S3"
   ]
  },
  {
   "cell_type": "markdown",
   "metadata": {},
   "source": [
    "#### SMBHB Population"
   ]
  },
  {
   "cell_type": "code",
   "execution_count": 107,
   "metadata": {},
   "outputs": [],
   "source": [
    "mm, zz, qq = np.meshgrid(log_m_bh_range, z_range_ilbert, q_range, indexing='ij')"
   ]
  },
  {
   "cell_type": "code",
   "execution_count": 108,
   "metadata": {},
   "outputs": [
    {
     "data": {
      "application/vnd.jupyter.widget-view+json": {
       "model_id": "907581b0306f42f5afb4918380c35f17",
       "version_major": 2,
       "version_minor": 0
      },
      "text/plain": [
       "  0%|          | 0/32768 [00:00<?, ?it/s]"
      ]
     },
     "metadata": {},
     "output_type": "display_data"
    }
   ],
   "source": [
    "with mp.Pool(mp.cpu_count()) as p:\n",
    "    S3_bhb_population = list(p.starmap(S3,\n",
    "                             tqdm(zip(mm.ravel(), zz.ravel(), qq.ravel()),\n",
    "                      total=len(mm.ravel()))))\n",
    "\n",
    "S3_bhb_population = np.reshape(S3_bhb_population, np.repeat(mm[..., np.newaxis], n_samples, axis=-1).shape)"
   ]
  },
  {
   "cell_type": "markdown",
   "metadata": {},
   "source": [
    "#### Strain"
   ]
  },
  {
   "cell_type": "code",
   "execution_count": 109,
   "metadata": {},
   "outputs": [],
   "source": [
    "S3_hc_integrand = (coeffs * S3_bhb_population * ((10 ** (mm * (5 / 3)))\n",
    "                                                 * (qq / ((1 + qq) ** (1 / 3)))\n",
    "                                                 / ((1 + zz) ** (1. / 3.)))[..., np.newaxis]\n",
    "                   * (u.Msun ** (5 / 3)) / (u.Mpc ** 3))"
   ]
  },
  {
   "cell_type": "code",
   "execution_count": 110,
   "metadata": {},
   "outputs": [
    {
     "data": {
      "text/latex": [
       "$\\displaystyle h_{c, \\rm{S3}} = (5.1^{+1.8}_{-1.0}) \\times 10^{-16.0}$"
      ],
      "text/plain": [
       "<IPython.core.display.Math object>"
      ]
     },
     "metadata": {},
     "output_type": "display_data"
    }
   ],
   "source": [
    "S3_hc = np.sqrt(cumtrapz(cumtrapz(cumtrapz(S3_hc_integrand.to(''), log_m_bh_range, axis=0), z_range_ilbert, axis=1), q_range, axis=2))\n",
    "S3_hc_q = np.quantile(S3_hc, q=[.16, .5, .84], axis=-1)\n",
    "\n",
    "order = 10. ** np.floor(np.log10(S3_hc_q[1, -1, -1, -1]))\n",
    "display(Math(r'h_{{c, \\rm{{S3}}}} = ({0:.1f}^{{+{1:.1f}}}_{{-{2:.1f}}}) \\times 10^{{{3}}}'\n",
    "             .format(S3_hc_q[1, -1, -1, -1] / order,\n",
    "                     (S3_hc_q[2, -1, -1, -1] - S3_hc_q[1, -1, -1, -1]) / order,\n",
    "                     (S3_hc_q[1, -1, -1, -1] - S3_hc_q[0, -1, -1, -1]) / order,\n",
    "                     np.log10(order))))"
   ]
  },
  {
   "cell_type": "markdown",
   "metadata": {},
   "source": [
    "#### Number density"
   ]
  },
  {
   "cell_type": "code",
   "execution_count": 111,
   "metadata": {},
   "outputs": [],
   "source": [
    "S3_number_density = trapz(trapz(S3_bhb_population, log_m_bh_range, axis=0), q_range, axis=1)\n",
    "S3_number_density_q = np.quantile(S3_number_density, q=[.16, .5, .84], axis=-1)"
   ]
  },
  {
   "cell_type": "code",
   "execution_count": 112,
   "metadata": {},
   "outputs": [
    {
     "data": {
      "text/latex": [
       "$\\displaystyle \\Phi_{\\rm{BHB}, 0, \\rm{S3}} = (1.4^{+0.3}_{-0.2}) \\times 10^{-3.0}\\;\\rm{Mpc}^{-3}$"
      ],
      "text/plain": [
       "<IPython.core.display.Math object>"
      ]
     },
     "metadata": {},
     "output_type": "display_data"
    }
   ],
   "source": [
    "order = 10. ** np.floor(np.log10(S3_number_density_q[1, 0]))\n",
    "display(Math(r'\\Phi_{{\\rm{{BHB}}, 0, \\rm{{S3}}}} = ({0:.1f}^{{+{1:.1f}}}_{{-{2:.1f}}}) \\times 10^{{{3}}}\\;\\rm{{Mpc}}^{{-3}}'\n",
    "             .format(S3_number_density_q[1, 0] / order,\n",
    "                     (S3_number_density_q[2, 0] - S3_number_density_q[1, 0]) / order,\n",
    "                     (S3_number_density_q[1, 0] - S3_number_density_q[0, 0]) / order,\n",
    "                     np.log10(order))))"
   ]
  },
  {
   "cell_type": "markdown",
   "metadata": {},
   "source": [
    "#### Local Mass Function"
   ]
  },
  {
   "cell_type": "code",
   "execution_count": 113,
   "metadata": {},
   "outputs": [],
   "source": [
    "S3_local_bhmf = trapz(trapz(S3_bhb_population, z_range_ilbert, axis=1), q_range, axis=1) / (np.log(10) * (10 ** log_m_bh_range[:, np.newaxis]))\n",
    "S3_local_bhmf_q = np.quantile(S3_local_bhmf, q=[.16, .5, .84], axis=-1)"
   ]
  },
  {
   "cell_type": "markdown",
   "metadata": {},
   "source": [
    "#### Summary"
   ]
  },
  {
   "cell_type": "code",
   "execution_count": 114,
   "metadata": {},
   "outputs": [],
   "source": [
    "with h5py.File('../data/processed/S3.h5', 'w') as hf:\n",
    "    hf.create_dataset('population',  data=S3_bhb_population)\n",
    "    hf.create_dataset('characteristic_strain',  data=S3_hc)\n",
    "    hf.create_dataset('number_density',  data=S3_number_density)\n",
    "    hf.create_dataset('local_bhmf',  data=S3_local_bhmf)"
   ]
  },
  {
   "cell_type": "markdown",
   "metadata": {},
   "source": [
    "## Plots"
   ]
  },
  {
   "cell_type": "code",
   "execution_count": 115,
   "metadata": {},
   "outputs": [],
   "source": [
    "import seaborn as sns\n",
    "import matplotlib.pyplot as plt\n",
    "%matplotlib inline\n",
    "sns.set_context(\"talk\", font_scale=1.2)\n",
    "sns.set_style('ticks')\n",
    "sns.set_palette('colorblind')\n",
    "figparams = {'font.family': 'DejaVu Sans',\n",
    "             'font.serif':'Times',\n",
    "             'text.latex.preamble': r'\\usepackage{amsmath}',\n",
    "             'text.usetex': True,\n",
    "             'hatch.linewidth' : 3.0}\n",
    "plt.rcParams.update(figparams)\n",
    "cs = plt.rcParams['axes.prop_cycle'].by_key()['color']"
   ]
  },
  {
   "cell_type": "code",
   "execution_count": 116,
   "metadata": {},
   "outputs": [],
   "source": [
    "from matplotlib.legend_handler import HandlerLine2D, HandlerTuple\n",
    "\n",
    "class HandlerTupleVertical(HandlerTuple):\n",
    "    def __init__(self, **kwargs):\n",
    "        HandlerTuple.__init__(self, **kwargs)\n",
    "\n",
    "    def create_artists(self, legend, orig_handle,\n",
    "                       xdescent, ydescent, width, height, fontsize, trans):\n",
    "        # How many lines are there.\n",
    "        numlines = len(orig_handle)\n",
    "        handler_map = legend.get_legend_handler_map()\n",
    "\n",
    "        # divide the vertical space where the lines will go\n",
    "        # into equal parts based on the number of lines\n",
    "        height_y = (height / numlines)\n",
    "\n",
    "        leglines = []\n",
    "        for i, handle in enumerate(orig_handle):\n",
    "            handler = legend.get_legend_handler(handler_map, handle)\n",
    "\n",
    "            legline = handler.create_artists(legend, handle,\n",
    "                                             xdescent,\n",
    "                                             (2*i + 1)*height_y,\n",
    "                                             width,\n",
    "                                             2*height,\n",
    "                                             fontsize, trans)\n",
    "            leglines.extend(legline)\n",
    "\n",
    "        return leglines"
   ]
  },
  {
   "cell_type": "code",
   "execution_count": 117,
   "metadata": {},
   "outputs": [
    {
     "data": {
      "image/png": "[encoded data removed]",
      "text/plain": [
       "<Figure size 2592x648 with 3 Axes>"
      ]
     },
     "metadata": {},
     "output_type": "display_data"
    }
   ],
   "source": [
    "log_nz_i_l_kw_fid_min = np.floor(np.min(np.log10([np.min(differential_number_density_q[1]), np.min(S1_number_density_q[1]),\n",
    "                                                  np.min(S2_number_density_q[1]), np.min(S3_number_density_q[1])])))\n",
    "log_nz_i_l_kw_fid_max = np.ceil(np.max(np.log10([np.max(differential_number_density_q[1]), np.max(S1_number_density_q[1]),\n",
    "                                                 np.max(S2_number_density_q[1]), np.max(S3_number_density_q[1])])))\n",
    "\n",
    "\n",
    "log_hc_min = np.floor(10 * np.min(np.log10(np.concatenate((hc[-1, -1, -1, :], S1_hc[-1, -1, -1, :],\n",
    "                                            S2_hc[-1, -1, -1, :], S3_hc[-1, -1, -1, :]))))) / 10\n",
    "log_hc_max = np.ceil(10 * np.max(np.log10(np.concatenate((hc[-1, -1, -1, :], S1_hc[-1, -1, -1, :],\n",
    "                                           S2_hc[-1, -1, -1, :], S3_hc[-1, -1, -1, :]))))) / 10\n",
    "bins = np.linspace(log_hc_min, log_hc_max,\n",
    "                   int((log_hc_max - (log_hc_min - .1)) / .1))\n",
    "\n",
    "sesana_min = 3.5e-16\n",
    "sesana_max = 1.5e-15\n",
    "log_sesana_min = np.log10(sesana_min)\n",
    "log_sesana_max = np.log10(sesana_max)\n",
    "log_sesana_mid = np.mean([log_sesana_min, log_sesana_max])\n",
    "log_sesana_h = log_sesana_max - log_sesana_mid\n",
    "log_sesana_l = log_sesana_mid - log_sesana_min\n",
    "\n",
    "log_hc_mid = np.log10(hc_q[1, -1, -1, -1])\n",
    "log_hc_min = np.log10(hc_q[0, -1, -1, -1])\n",
    "log_hc_max = np.log10(hc_q[2, -1, -1, -1])\n",
    "log_hc_h = log_hc_max - log_hc_mid\n",
    "log_hc_l = log_hc_mid - log_hc_min\n",
    "\n",
    "sns.set_context(\"talk\", font_scale=1.8)\n",
    "fig, ax = plt.subplots(1, 3, figsize=(36, 9))\n",
    "\n",
    "label_fsize = 42\n",
    "legend_fsize = 30\n",
    "\n",
    "ax[0].tick_params()\n",
    "ax[1].tick_params()\n",
    "\n",
    "ax[0].fill_between(z_range_borch, S1_number_density_q[0], S1_number_density_q[2],\n",
    "                 color=cs[1], alpha=.2, hatch='\\\\')\n",
    "s1, = ax[0].plot(z_range_borch, S1_number_density_q[1], color=cs[1],\n",
    "                linewidth=3, linestyle=':')\n",
    "ax[0].fill_between(z_range_drory, S2_number_density_q[0], S2_number_density_q[2],\n",
    "                 color=cs[1], alpha=.2, hatch='||')\n",
    "s2, = ax[0].plot(z_range_drory, S2_number_density_q[1], color=cs[1],\n",
    "                linewidth=3, linestyle='-.')\n",
    "ax[0].fill_between(z_range_ilbert, S3_number_density_q[0], S3_number_density_q[2],\n",
    "                 color=cs[1], alpha=.2, hatch='-')\n",
    "s3, = ax[0].plot(z_range_ilbert, S3_number_density_q[1], color=cs[1],\n",
    "                linewidth=3, linestyle=(0, (3, 1, 1, 1, 1, 1)))\n",
    "\n",
    "# ax[0].fill_between(z_range, nz_q[0], nz_q[2], color=cs[2], alpha=.2, hatch='.')\n",
    "# m2, = ax[0].plot(z_range, nz_q[1], color=cs[2], linewidth=3, linestyle='--')\n",
    "\n",
    "ax[0].fill_between(z_range, differential_number_density_q[0], differential_number_density_q[2], color=cs[0], alpha=.2, hatch='/')\n",
    "m1, = ax[0].plot(z_range, differential_number_density_q[1], color=cs[0], linewidth=3, linestyle='-')\n",
    "\n",
    "ax[0].set_yscale('log')\n",
    "ax[0].set_ylabel(r'$\\Phi_{\\rm{BHB}}(z)\\ [\\rm{Mpc}^{-3}]$', fontsize=label_fsize)\n",
    "ax[0].set_xlabel(r'$z$', fontsize=label_fsize)\n",
    "# ax[0].set_ylim((10 ** (log_nz_i_l_kw_fid_min - 1), 10 ** (log_nz_i_l_kw_fid_max + 1)))\n",
    "ax[0].set_ylim(top=5e-2, bottom=1e-7)\n",
    "\n",
    "# ax[0].legend([m1, m2, (s1, s2, s3)], ['This Work', 'G19', 'S13 Realizations'], numpoints=1,\n",
    "#              handler_map={tuple: HandlerTupleVertical(ndivide=None)}, loc='lower right', fontsize=legend_fsize)\n",
    "ax[0].legend([m1], ['This Work'], numpoints=1,\n",
    "             handler_map={tuple: HandlerTupleVertical(ndivide=None)}, loc='lower right', fontsize=legend_fsize)\n",
    "\n",
    "ax[1].fill_between(10 ** log_m_bh_range, S1_local_bhmf_q[0], S1_local_bhmf_q[2], color=cs[1], alpha=.2, hatch='\\\\')\n",
    "s1, = ax[1].plot(10 ** log_m_bh_range, S1_local_bhmf_q[1], color=cs[1],\n",
    "                 linewidth=3, linestyle=':')\n",
    "ax[1].fill_between(10 ** log_m_bh_range, S2_local_bhmf_q[0], S2_local_bhmf_q[2], color=cs[1], alpha=.2, hatch='||')\n",
    "s2, = ax[1].plot(10 ** log_m_bh_range, S2_local_bhmf_q[1], color=cs[1],\n",
    "                 linewidth=3, linestyle='-.')\n",
    "ax[1].fill_between(10 ** log_m_bh_range, S3_local_bhmf_q[0], S3_local_bhmf_q[2], color=cs[1], alpha=.2, hatch='-')\n",
    "s3, = ax[1].plot(10 ** log_m_bh_range, S3_local_bhmf_q[1], color=cs[1],\n",
    "                 linewidth=3, linestyle=(0, (3, 1, 1, 1, 1, 1)))\n",
    "\n",
    "# ax[1].fill_between(10 ** log_m_bh_range, p_m_q[0], p_m_q[2], color=cs[2], alpha=.2, hatch='.')\n",
    "# m2, = ax[1].plot(10 ** log_m_bh_range, p_m_q[1], color=cs[2], linewidth=3, linestyle='--')\n",
    "\n",
    "ax[1].fill_between(10 ** log_m_bh_range, local_bhmf_q[0], local_bhmf_q[2], color=cs[0], alpha=.2, hatch='/')\n",
    "m1, = ax[1].plot(10 ** log_m_bh_range, local_bhmf_q[1], color=cs[0], linewidth=3, linestyle='-')\n",
    "\n",
    "ax[1].set_xscale('log')\n",
    "ax[1].set_yscale('log')\n",
    "ax[1].set_ylabel(r'$d \\Phi_{\\rm{BHB}} / d M_{\\rm{BH}}\\ [M_{\\odot}^{-1}\\,\\rm{Mpc}^{-3}]$', fontsize=label_fsize)\n",
    "ax[1].set_xlabel(r'$M_{\\rm{BH}} [M_{\\odot}]$', fontsize=label_fsize)\n",
    "ax[1].set_ylim(bottom=1e-22, top=1e-9)\n",
    "# ax[1].legend([m1, m2, (s1, s2, s3)], ['Hopkins+ 2007', 'Marconi+ 2004', 'S13 Realizations'], numpoints=1,\n",
    "#              handler_map={tuple: HandlerTupleVertical(ndivide=None)}, loc='lower left', fontsize=legend_fsize)\n",
    "ax[1].legend([m1, (s1, s2, s3)], ['Hopkins+ 2007', 'S13 Realizations'], numpoints=1,\n",
    "             handler_map={tuple: HandlerTupleVertical(ndivide=None)}, loc='lower left', fontsize=legend_fsize)\n",
    "\n",
    "ax[2].axvspan(log_sesana_min, log_sesana_max, color='k', alpha=.1)\n",
    "ax[2].hist(np.log10(S1_hc[-1, -1, -1, :]), histtype='step', bins=bins,\n",
    "           density=False, color=cs[1], linestyle=':',\n",
    "           label=r'S13: Realization 1',\n",
    "           weights=np.repeat(1 / len(S1_hc[-1, -1, -1, :]), len(S1_hc[-1, -1, -1, :])),\n",
    "           fill=True, alpha=.2, hatch='\\\\')\n",
    "ax[2].hist(np.log10(S1_hc[-1, -1, -1, :]), histtype='step', bins=bins,\n",
    "           density=False, color=cs[1], linestyle=':',\n",
    "           label=r'S13: Realization 1',\n",
    "           weights=np.repeat(1 / len(S1_hc[-1, -1, -1, :]), len(S1_hc[-1, -1, -1, :])))\n",
    "\n",
    "ax[2].hist(np.log10(S2_hc[-1, -1, -1, :]), histtype='step', bins=bins,\n",
    "           density=False, color=cs[1], linestyle='-.',\n",
    "           label=r'S13: Realization 2',\n",
    "           weights=np.repeat(1 / len(S2_hc[-1, -1, -1, :]), len(S2_hc[-1, -1, -1, :])),\n",
    "           fill=True, alpha=.2, hatch='||')\n",
    "ax[2].hist(np.log10(S2_hc[-1, -1, -1, :]), histtype='step', bins=bins,\n",
    "           density=False, color=cs[1], linestyle='-.',\n",
    "           label=r'S13: Realization 2',\n",
    "           weights=np.repeat(1 / len(S2_hc[-1, -1, -1, :]), len(S2_hc[-1, -1, -1, :])))\n",
    "\n",
    "ax[2].hist(np.log10(S3_hc[-1, -1, -1, :]), histtype='step', bins=bins,\n",
    "           density=False, color=cs[1], linestyle=(0, (3, 1, 1, 1, 1, 1)),\n",
    "           label=r'S13: Realization 3',\n",
    "           weights=np.repeat(1 / len(S3_hc[-1, -1, -1, :]), len(S3_hc[-1, -1, -1, :])),\n",
    "           fill=True, alpha=.2, hatch='-')\n",
    "ax[2].hist(np.log10(S3_hc[-1, -1, -1, :]), histtype='step', bins=bins,\n",
    "           density=False, color=cs[1], linestyle=(0, (3, 1, 1, 1, 1, 1)),\n",
    "           label=r'S13: Realization 3',\n",
    "           weights=np.repeat(1 / len(S3_hc[-1, -1, -1, :]), len(S3_hc[-1, -1, -1, :])))\n",
    "\n",
    "# ax[2].hist(np.log10(hc_g), histtype='step', bins=bins, density=False, color=cs[2], linestyle='--',\n",
    "#            label=r'G19', weights=np.repeat(1 / len(hc_g), len(hc_g)), linewidth=2, fill=True, alpha=.2, hatch='.')\n",
    "# ax[2].hist(np.log10(hc_g), histtype='step', bins=bins, density=False, color=cs[2], linestyle='--',\n",
    "#            label=r'G19', weights=np.repeat(1 / len(hc_g), len(hc_g)), linewidth=2)\n",
    "\n",
    "ax[2].hist(np.log10(hc[-1, -1, -1, :]), histtype='step', bins=bins, density=False, color=cs[0], linestyle='-',\n",
    "           label=r'This work', weights=np.repeat(1 / len(hc[-1, -1, -1, :]), len(hc[-1, -1, -1, :])), linewidth=2,\n",
    "           fill=True, alpha=.2, hatch='/')\n",
    "ax[2].hist(np.log10(hc[-1, -1, -1, :]), histtype='step', bins=bins, density=False, color=cs[0], linestyle='-',\n",
    "           label=r'This work', weights=np.repeat(1 / len(hc[-1, -1, -1, :]), len(hc[-1, -1, -1, :])), linewidth=2)\n",
    "\n",
    "# ax[2].annotate(r'S13',\n",
    "#                xy=(log_sesana_min - .3, .49))\n",
    "# ax[2].errorbar(log_hc_mid, 0.45,\n",
    "#              xerr=[[log_hc_l],\n",
    "#                    [log_hc_h]],\n",
    "#              capsize=4, color=cs[0])\n",
    "# ax[2].annotate(r'This Work',\n",
    "#                xy=(log_hc_min - .75, .44))\n",
    "\n",
    "ax[2].axvline(np.log10(1.9e-15), color='k', linestyle='--')\n",
    "ax[2].annotate(r'NANOGrav 12.5-yr',\n",
    "               xy=(np.log10(1.9e-15) + .03, .4), xytext=(3, 3),\n",
    "               textcoords=\"offset points\", rotation_mode='anchor', rotation=-90)\n",
    "ax[2].set_xlabel(r'$\\log h_{c}$', fontsize=label_fsize)\n",
    "ax[2].set_ylabel(r'$P(h_{c})$', fontsize=label_fsize)\n",
    "ax[2].set_xlim(left=-16.9)\n",
    "ax[2].set_ylim(top=.5)\n",
    "# ax[2].legend([m1, m2, (s1, s2, s3)], ['This Work', 'G19', 'S13 Realizations'], numpoints=1,\n",
    "#              handler_map={tuple: HandlerTupleVertical(ndivide=None)}, frameon=False, loc='upper left', fontsize=legend_fsize)\n",
    "ax[2].legend([m1, (s1, s2, s3)], ['This Work', 'S13 Realizations'], numpoints=1,\n",
    "             handler_map={tuple: HandlerTupleVertical(ndivide=None)}, frameon=False, loc='upper left', fontsize=legend_fsize)\n",
    "\n",
    "plt.tight_layout()\n",
    "plt.savefig('../reports/figures/model_comparison.pdf')\n",
    "plt.show()"
   ]
  },
  {
   "cell_type": "code",
   "execution_count": null,
   "metadata": {},
   "outputs": [],
   "source": []
  }
 ],
 "metadata": {
  "kernelspec": {
   "display_name": "Python 3",
   "language": "python",
   "name": "python3"
  },
  "language_info": {
   "codemirror_mode": {
    "name": "ipython",
    "version": 3
   },
   "file_extension": ".py",
   "mimetype": "text/x-python",
   "name": "python",
   "nbconvert_exporter": "python",
   "pygments_lexer": "ipython3",
   "version": "3.9.1"
  },
  "toc-autonumbering": true
 },
 "nbformat": 4,
 "nbformat_minor": 4
}
