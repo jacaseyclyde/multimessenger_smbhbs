{
 "cells": [
  {
   "cell_type": "code",
   "execution_count": 1,
   "id": "e9926f29",
   "metadata": {},
   "outputs": [
    {
     "name": "stderr",
     "output_type": "stream",
     "text": [
      "<ipython-input-1-a88728b5fd9d>:30: TqdmExperimentalWarning: Using `tqdm.autonotebook.tqdm` in notebook mode. Use `tqdm.tqdm` instead to force console mode (e.g. in jupyter console)\n",
      "  from tqdm.autonotebook import tqdm\n"
     ]
    }
   ],
   "source": [
    "# OPTIONAL: Load the \"autoreload\" extension so that code can change\n",
    "%load_ext autoreload\n",
    "\n",
    "# OPTIONAL: always reload modules so that as you change code in src, it gets loaded\n",
    "%autoreload 2\n",
    "import os\n",
    "import sys\n",
    "module_path = os.path.abspath(os.path.join('..'))\n",
    "if module_path not in sys.path:\n",
    "    sys.path.append(module_path)\n",
    "\n",
    "import multiprocessing as mp\n",
    "import numpy as np\n",
    "import pandas as pd\n",
    "import pickle\n",
    "import h5py\n",
    "from IPython.display import display, Math\n",
    "\n",
    "from scipy.integrate import trapz, cumtrapz\n",
    "from scipy.interpolate import UnivariateSpline\n",
    "from scipy.stats import lognorm, truncnorm, rv_continuous\n",
    "\n",
    "import astropy.constants as const\n",
    "import astropy.units as u\n",
    "import astropy.uncertainty as unc\n",
    "from astropy.cosmology import WMAP9, z_at_value\n",
    "from astropy.modeling.functional_models import Linear1D, Const1D, Shift, Gaussian1D\n",
    "from astropy.modeling.tabular import Tabular1D\n",
    "\n",
    "from tqdm.autonotebook import tqdm\n",
    "\n",
    "from src.models.agn_proxy import (Hopkins2007QuasarFormationDensity,\n",
    "                                  LogNormal1D, Const3D, QuasarProxyBinaries,\n",
    "                                  ModifiedSchechter)\n",
    "from src.models.major_merger import (Schechter1D, Schechter2D,\n",
    "                                     DoubleSchechter2D, TripleSchechter2D,\n",
    "                                     PairFraction3D, PairFraction3D_3bins,\n",
    "                                     Timescale3D, Sesana2013_Schechter,\n",
    "                                     Sesana2013_DoubleSchechter,\n",
    "                                     Sesana2013_TripleSchechter)"
   ]
  },
  {
   "cell_type": "code",
   "execution_count": 2,
   "id": "b2950455",
   "metadata": {},
   "outputs": [
    {
     "data": {
      "text/plain": [
       "(1024, 32)"
      ]
     },
     "execution_count": 2,
     "metadata": {},
     "output_type": "execute_result"
    }
   ],
   "source": [
    "# Global variables\n",
    "n_samples = int(2 ** 10)\n",
    "n_mesh = int(2 ** 5)\n",
    "n_samples, n_mesh"
   ]
  },
  {
   "cell_type": "code",
   "execution_count": 3,
   "id": "6ef793d9",
   "metadata": {},
   "outputs": [],
   "source": [
    "def trunc_norm_dist(a=0, b=np.inf, loc=0, scale=1, size=n_samples):\n",
    "    return truncnorm.rvs(a=(a - loc) / scale, b=(b - loc) / scale,\n",
    "                                          loc=loc, scale=scale,\n",
    "                                          size=size)"
   ]
  },
  {
   "cell_type": "markdown",
   "id": "ca56e2cb",
   "metadata": {},
   "source": [
    "# Parameter space"
   ]
  },
  {
   "cell_type": "code",
   "execution_count": 4,
   "id": "ca2b8da1",
   "metadata": {},
   "outputs": [],
   "source": [
    "log_m_bh_min = 7\n",
    "log_m_bh_max = 10\n",
    "\n",
    "z_min = 0\n",
    "z_max = 3\n",
    "\n",
    "q_min = 0.25\n",
    "q_max = 1"
   ]
  },
  {
   "cell_type": "markdown",
   "id": "38d6e028",
   "metadata": {},
   "source": [
    "## Fiducial values"
   ]
  },
  {
   "cell_type": "code",
   "execution_count": 5,
   "id": "94ce0f66",
   "metadata": {},
   "outputs": [],
   "source": [
    "fidhz = (1 / u.yr).to(u.Hz)"
   ]
  },
  {
   "cell_type": "markdown",
   "id": "a0e46cb3",
   "metadata": {},
   "source": [
    "# Load data"
   ]
  },
  {
   "cell_type": "markdown",
   "id": "be448333",
   "metadata": {},
   "source": [
    "## AGN-proxy model"
   ]
  },
  {
   "cell_type": "code",
   "execution_count": 6,
   "id": "de4f901c",
   "metadata": {},
   "outputs": [],
   "source": [
    "with h5py.File('../data/processed/agn_proxy.h5', 'r') as hf:\n",
    "    log_m_bh_range = hf['log_m_bh_range'][:]\n",
    "    z_range = hf['z_range'][:]\n",
    "    q_range = hf['q_range'][:]\n",
    "    hc_mm = hf['characteristic_strain'][:]"
   ]
  },
  {
   "cell_type": "markdown",
   "id": "6538203b",
   "metadata": {},
   "source": [
    "## S1"
   ]
  },
  {
   "cell_type": "code",
   "execution_count": 7,
   "id": "9de8068a",
   "metadata": {},
   "outputs": [],
   "source": [
    "# the mass and the mass ratio ranges for all models are shared, so we will only load them once\n",
    "with h5py.File('../data/processed/S1.h5', 'r') as hf:\n",
    "    z_range_borch = hf['z_range'][:]\n",
    "    S1_hc_mm = hf['characteristic_strain'][:]"
   ]
  },
  {
   "cell_type": "markdown",
   "id": "588b00af",
   "metadata": {},
   "source": [
    "## S2"
   ]
  },
  {
   "cell_type": "code",
   "execution_count": 8,
   "id": "35229034",
   "metadata": {},
   "outputs": [],
   "source": [
    "with h5py.File('../data/processed/S2.h5', 'r') as hf:\n",
    "    z_range_drory = hf['z_range'][:]\n",
    "    S2_hc_mm = hf['characteristic_strain'][:]"
   ]
  },
  {
   "cell_type": "markdown",
   "id": "6d05fffd",
   "metadata": {},
   "source": [
    "## S3"
   ]
  },
  {
   "cell_type": "code",
   "execution_count": 9,
   "id": "a6362004",
   "metadata": {},
   "outputs": [],
   "source": [
    "with h5py.File('../data/processed/S3.h5', 'r') as hf:\n",
    "    z_range_ilbert = hf['z_range'][:]\n",
    "    S3_hc_mm = hf['characteristic_strain'][:]"
   ]
  },
  {
   "cell_type": "markdown",
   "id": "c793be31",
   "metadata": {},
   "source": [
    "# Load Models"
   ]
  },
  {
   "cell_type": "markdown",
   "id": "efd3441b",
   "metadata": {
    "toc-hr-collapsed": true
   },
   "source": [
    "#### Cappellari (2013)"
   ]
  },
  {
   "cell_type": "code",
   "execution_count": 10,
   "id": "d23c6409",
   "metadata": {},
   "outputs": [
    {
     "name": "stdout",
     "output_type": "stream",
     "text": [
      "Model: Linear1D\n",
      "Inputs: ('x',)\n",
      "Outputs: ('y',)\n",
      "Model set size: 1024\n",
      "Parameters:\n",
      "           slope              intercept      \n",
      "    -------------------- --------------------\n",
      "    -0.44113148091272636   0.4485862763648818\n",
      "     -0.4589726543793738 0.043019388379139656\n",
      "    -0.44076649794087536  0.44126064735036685\n",
      "    -0.45181371999884967  0.19941646407111868\n",
      "     -0.4392516658060743   0.4880474732867821\n",
      "     -0.4437065453793867   0.3709427035409618\n",
      "    -0.44147249040945935   0.4276824960662182\n",
      "    -0.44479216524404863  0.33301001851208234\n",
      "    -0.44682644728780396  0.30302285861957223\n",
      "    -0.42311857123805574      0.8582392651732\n",
      "                     ...                  ...\n",
      "     -0.4511100559550033   0.2009781996327824\n",
      "     -0.4518183644787433  0.20037013552496852\n",
      "    -0.41768143906321575   0.9784879149163217\n",
      "     -0.4452320081649608   0.3351597588639468\n",
      "     -0.4305560843205788   0.6843954125311758\n",
      "    -0.42444114457076176   0.8274616531299372\n",
      "      -0.461504516309031 -0.02402377055127758\n",
      "     -0.4451433685735227   0.3452237192362446\n",
      "     -0.4365744376476456   0.5277426044301894\n",
      "     -0.4388847753694438   0.4770729635815023\n",
      "      -0.440490751576625   0.4449825178227247\n",
      "    Length = 1024 rows\n"
     ]
    }
   ],
   "source": [
    "with open('../models/Cappellari2013_mgal_mk_relation.pkl', 'rb') as f:\n",
    "    cappellari_mgal_k = pickle.load(f)\n",
    "\n",
    "print(cappellari_mgal_k)"
   ]
  },
  {
   "cell_type": "markdown",
   "id": "4036cbaf",
   "metadata": {
    "toc-hr-collapsed": true
   },
   "source": [
    "#### Kormendy & Ho (2013)"
   ]
  },
  {
   "cell_type": "markdown",
   "id": "ff4e26c5",
   "metadata": {},
   "source": [
    "##### $M - M_{\\rm{bulge}}$ model parameters"
   ]
  },
  {
   "cell_type": "code",
   "execution_count": 11,
   "id": "c08783aa",
   "metadata": {},
   "outputs": [],
   "source": [
    "alpha_kormendy_ho = 9 + unc.normal(np.log10(.49), std=.05, n_samples=n_samples).distribution\n",
    "beta_kormendy_ho = unc.normal(1.17, std=.08, n_samples=n_samples).distribution\n",
    "intrinsic_disp_kormendy_ho = np.random.normal(scale=.28, size=n_samples)"
   ]
  },
  {
   "cell_type": "markdown",
   "id": "f888c41e",
   "metadata": {},
   "source": [
    "##### $M - M_{\\rm{bulge}}$ model"
   ]
  },
  {
   "cell_type": "markdown",
   "id": "894b5739",
   "metadata": {},
   "source": [
    "Scaled to $M_{\\rm{bulge}} / 10^{11}\\;\\rm{M}_{\\odot}$"
   ]
  },
  {
   "cell_type": "code",
   "execution_count": 12,
   "id": "7d2864d8",
   "metadata": {},
   "outputs": [],
   "source": [
    "mm_intercept = alpha_kormendy_ho - (beta_kormendy_ho * 11)\n",
    "mm_slope = beta_kormendy_ho\n",
    "kormendy_ho_m_mbulge = Linear1D(slope=mm_slope,\n",
    "                                intercept=mm_intercept,\n",
    "                                n_models=n_samples)"
   ]
  },
  {
   "cell_type": "code",
   "execution_count": 13,
   "id": "74a446a8",
   "metadata": {},
   "outputs": [
    {
     "name": "stdout",
     "output_type": "stream",
     "text": [
      "Model: Linear1D\n",
      "Inputs: ('x',)\n",
      "Outputs: ('y',)\n",
      "Model set size: 1024\n",
      "Parameters:\n",
      "          slope             intercept     \n",
      "    ------------------ -------------------\n",
      "     1.228128185484955  -4.880076782692946\n",
      "    1.1230334857388147 -3.5852247404016158\n",
      "    1.0511285167902258  -2.797205187024373\n",
      "     1.214793967242815  -4.587546715622992\n",
      "    1.1800596876134395   -4.27562283364413\n",
      "    1.2468289196481244  -5.044698249276756\n",
      "     1.184436793483367  -4.292646688594203\n",
      "    1.1695071461169357  -4.149383404311079\n",
      "     1.201311375903676  -4.513657086836957\n",
      "     1.167612385092848  -4.205371837280879\n",
      "                   ...                 ...\n",
      "    1.2995552567099666  -5.600274271944553\n",
      "    1.1404026264488833 -3.8077541798787973\n",
      "     1.196919785496936  -4.506201065051238\n",
      "    1.1582873343919218 -4.0149584729851515\n",
      "    1.1699329352376686  -4.160585339731327\n",
      "    1.3082527764665508  -5.709550236127448\n",
      "    1.1723342272479003  -4.215955603072672\n",
      "     1.002434535393002  -2.301915452575347\n",
      "     1.177984944939444  -4.213831475983316\n",
      "     1.267894682197402  -5.258047209310005\n",
      "    1.1537615641251104  -3.967279666058417\n",
      "    Length = 1024 rows\n"
     ]
    }
   ],
   "source": [
    "print(kormendy_ho_m_mbulge)\n",
    "with open('../models/KormendyHo2013_mbh_mbulge_relation.pkl', 'wb') as f:\n",
    "    pickle.dump(kormendy_ho_m_mbulge, f)"
   ]
  },
  {
   "cell_type": "markdown",
   "id": "4626506c",
   "metadata": {},
   "source": [
    "### AGN-proxy model"
   ]
  },
  {
   "cell_type": "markdown",
   "id": "7e465aee",
   "metadata": {},
   "source": [
    "#### $M_{\\rm{BH}} - M_{\\rm{K}}$"
   ]
  },
  {
   "cell_type": "code",
   "execution_count": 14,
   "id": "8996824e",
   "metadata": {},
   "outputs": [],
   "source": [
    "log_m_bh_m_k = cappellari_mgal_k | kormendy_ho_m_mbulge"
   ]
  },
  {
   "cell_type": "markdown",
   "id": "ccdd4de9",
   "metadata": {
    "toc-hr-collapsed": true
   },
   "source": [
    "#### Mingarelli+ (2017)"
   ]
  },
  {
   "cell_type": "markdown",
   "id": "233843ac",
   "metadata": {},
   "source": [
    "##### Mass ratio range"
   ]
  },
  {
   "cell_type": "code",
   "execution_count": 15,
   "id": "2a0b95ad",
   "metadata": {},
   "outputs": [],
   "source": [
    "q_min_mingarelli = .25\n",
    "q_max_mingarelli = 1"
   ]
  },
  {
   "cell_type": "markdown",
   "id": "43a14ff3",
   "metadata": {},
   "source": [
    "##### Mass ranges"
   ]
  },
  {
   "cell_type": "code",
   "execution_count": 16,
   "id": "eb50fe3f",
   "metadata": {},
   "outputs": [
    {
     "data": {
      "text/html": [
       "<div>\n",
       "<style scoped>\n",
       "    .dataframe tbody tr th:only-of-type {\n",
       "        vertical-align: middle;\n",
       "    }\n",
       "\n",
       "    .dataframe tbody tr th {\n",
       "        vertical-align: top;\n",
       "    }\n",
       "\n",
       "    .dataframe thead th {\n",
       "        text-align: right;\n",
       "    }\n",
       "</style>\n",
       "<table border=\"1\" class=\"dataframe\">\n",
       "  <thead>\n",
       "    <tr style=\"text-align: right;\">\n",
       "      <th></th>\n",
       "      <th>RA</th>\n",
       "      <th>DEC</th>\n",
       "      <th>D_L(Mpc)</th>\n",
       "      <th>Kmag</th>\n",
       "      <th>Name</th>\n",
       "    </tr>\n",
       "  </thead>\n",
       "  <tbody>\n",
       "    <tr>\n",
       "      <th>0</th>\n",
       "      <td>189.998</td>\n",
       "      <td>-11.623</td>\n",
       "      <td>14.63</td>\n",
       "      <td>-25.88</td>\n",
       "      <td>NGC4594</td>\n",
       "    </tr>\n",
       "    <tr>\n",
       "      <th>1</th>\n",
       "      <td>187.445</td>\n",
       "      <td>8.000</td>\n",
       "      <td>20.78</td>\n",
       "      <td>-26.20</td>\n",
       "      <td>NGC4472</td>\n",
       "    </tr>\n",
       "    <tr>\n",
       "      <th>2</th>\n",
       "      <td>50.674</td>\n",
       "      <td>-37.208</td>\n",
       "      <td>19.76</td>\n",
       "      <td>-25.90</td>\n",
       "      <td>NGC1316</td>\n",
       "    </tr>\n",
       "    <tr>\n",
       "      <th>3</th>\n",
       "      <td>190.917</td>\n",
       "      <td>11.553</td>\n",
       "      <td>20.78</td>\n",
       "      <td>-25.86</td>\n",
       "      <td>NGC4649</td>\n",
       "    </tr>\n",
       "    <tr>\n",
       "      <th>4</th>\n",
       "      <td>187.706</td>\n",
       "      <td>12.391</td>\n",
       "      <td>20.78</td>\n",
       "      <td>-25.78</td>\n",
       "      <td>NGC4486</td>\n",
       "    </tr>\n",
       "    <tr>\n",
       "      <th>...</th>\n",
       "      <td>...</td>\n",
       "      <td>...</td>\n",
       "      <td>...</td>\n",
       "      <td>...</td>\n",
       "      <td>...</td>\n",
       "    </tr>\n",
       "    <tr>\n",
       "      <th>5105</th>\n",
       "      <td>214.458</td>\n",
       "      <td>0.511</td>\n",
       "      <td>223.09</td>\n",
       "      <td>-25.11</td>\n",
       "      <td>PGC051063</td>\n",
       "    </tr>\n",
       "    <tr>\n",
       "      <th>5106</th>\n",
       "      <td>64.351</td>\n",
       "      <td>-37.282</td>\n",
       "      <td>216.26</td>\n",
       "      <td>-25.05</td>\n",
       "      <td>PGC014806</td>\n",
       "    </tr>\n",
       "    <tr>\n",
       "      <th>5107</th>\n",
       "      <td>123.188</td>\n",
       "      <td>11.632</td>\n",
       "      <td>223.76</td>\n",
       "      <td>-25.13</td>\n",
       "      <td>PGC1396460</td>\n",
       "    </tr>\n",
       "    <tr>\n",
       "      <th>5108</th>\n",
       "      <td>206.159</td>\n",
       "      <td>21.093</td>\n",
       "      <td>218.77</td>\n",
       "      <td>-25.30</td>\n",
       "      <td>PGC3089894</td>\n",
       "    </tr>\n",
       "    <tr>\n",
       "      <th>5109</th>\n",
       "      <td>270.047</td>\n",
       "      <td>48.654</td>\n",
       "      <td>218.26</td>\n",
       "      <td>-25.41</td>\n",
       "      <td>PGC2322449</td>\n",
       "    </tr>\n",
       "  </tbody>\n",
       "</table>\n",
       "<p>5110 rows × 5 columns</p>\n",
       "</div>"
      ],
      "text/plain": [
       "           RA     DEC  D_L(Mpc)   Kmag        Name\n",
       "0     189.998 -11.623     14.63 -25.88     NGC4594\n",
       "1     187.445   8.000     20.78 -26.20     NGC4472\n",
       "2      50.674 -37.208     19.76 -25.90     NGC1316\n",
       "3     190.917  11.553     20.78 -25.86     NGC4649\n",
       "4     187.706  12.391     20.78 -25.78     NGC4486\n",
       "...       ...     ...       ...    ...         ...\n",
       "5105  214.458   0.511    223.09 -25.11   PGC051063\n",
       "5106   64.351 -37.282    216.26 -25.05   PGC014806\n",
       "5107  123.188  11.632    223.76 -25.13  PGC1396460\n",
       "5108  206.159  21.093    218.77 -25.30  PGC3089894\n",
       "5109  270.047  48.654    218.26 -25.41  PGC2322449\n",
       "\n",
       "[5110 rows x 5 columns]"
      ]
     },
     "execution_count": 16,
     "metadata": {},
     "output_type": "execute_result"
    }
   ],
   "source": [
    "galaxies = pd.read_csv('../data/external/25/added_mks.lst', delimiter='\\s+',\n",
    "                       usecols=[0, 1, 2, 3, 4], index_col=False)\n",
    "galaxies = galaxies.append(pd.read_csv('../data/external/25/schutzMa_extension.txt',\n",
    "                                       delimiter='\\s+',\n",
    "                                       usecols=[0, 1, 2, 3, 4],\n",
    "                                       index_col=False))\n",
    "catalog = pd.read_csv('../data/external/25/2mass_galaxies.lst', delimiter='\\s+',\n",
    "                      usecols=[1, 2, 3, 4, 5], index_col=False,\n",
    "                      names=['RA', 'DEC', 'D_L(Mpc)', 'Kmag', 'Name'])\n",
    "catalog"
   ]
  },
  {
   "cell_type": "code",
   "execution_count": 17,
   "id": "89a250af",
   "metadata": {},
   "outputs": [
    {
     "data": {
      "text/latex": [
       "$\\displaystyle \\log M_{\\rm{BHB, min, M17}} = 8.93$"
      ],
      "text/plain": [
       "<IPython.core.display.Math object>"
      ]
     },
     "metadata": {},
     "output_type": "display_data"
    },
    {
     "data": {
      "text/latex": [
       "$\\displaystyle \\log M_{\\rm{BHB, max, M17}} = 10.60$"
      ],
      "text/plain": [
       "<IPython.core.display.Math object>"
      ]
     },
     "metadata": {},
     "output_type": "display_data"
    }
   ],
   "source": [
    "log_m_bhb_mingarelli = np.array([log_m_bh_m_k(Mk) for Mk in catalog['Kmag']])\n",
    "log_m_bhb_mingarelli = np.random.normal(log_m_bhb_mingarelli, .28)\n",
    "log_m_bhb_mingarelli_q = np.quantile(log_m_bhb_mingarelli, q=[.16, .5, .84], axis=1)\n",
    "log_m_bhb_mingarelli_max = np.max(log_m_bhb_mingarelli_q)\n",
    "log_m_bhb_mingarelli_min = np.min(log_m_bhb_mingarelli_q)\n",
    "display(Math(r'\\log M_{{\\rm{{BHB, min, M17}}}} = {0:.2f}'\n",
    "             .format(log_m_bhb_mingarelli_min)))\n",
    "display(Math(r'\\log M_{{\\rm{{BHB, max, M17}}}} = {0:.2f}'\n",
    "             .format(log_m_bhb_mingarelli_max)))"
   ]
  },
  {
   "cell_type": "code",
   "execution_count": 18,
   "id": "862fc21c",
   "metadata": {},
   "outputs": [
    {
     "data": {
      "text/latex": [
       "$\\displaystyle \\log M_{\\rm{BH, min, M17}} = 8.83$"
      ],
      "text/plain": [
       "<IPython.core.display.Math object>"
      ]
     },
     "metadata": {},
     "output_type": "display_data"
    },
    {
     "data": {
      "text/latex": [
       "$\\displaystyle \\log M_{\\rm{BH, max, M17}} = 10.30$"
      ],
      "text/plain": [
       "<IPython.core.display.Math object>"
      ]
     },
     "metadata": {},
     "output_type": "display_data"
    }
   ],
   "source": [
    "log_m_bh_min_mingarelli = log_m_bhb_mingarelli_min - np.log10(1 + q_min_mingarelli)\n",
    "log_m_bh_max_mingarelli = log_m_bhb_mingarelli_max - np.log10(1 + q_max_mingarelli)\n",
    "log_m_bh_max = log_m_bh_max_mingarelli\n",
    "display(Math(r'\\log M_{{\\rm{{BH, min, M17}}}} = {0:.2f}'\n",
    "             .format(log_m_bh_min_mingarelli)))\n",
    "display(Math(r'\\log M_{{\\rm{{BH, max, M17}}}} = {0:.2f}'\n",
    "             .format(log_m_bh_max_mingarelli)))"
   ]
  },
  {
   "cell_type": "markdown",
   "id": "b9e40481",
   "metadata": {
    "toc-hr-collapsed": true
   },
   "source": [
    "#### $q$ Distribution"
   ]
  },
  {
   "cell_type": "code",
   "execution_count": 19,
   "id": "6853f716",
   "metadata": {},
   "outputs": [
    {
     "name": "stdout",
     "output_type": "stream",
     "text": [
      "Model: LogNormal1D\n",
      "Inputs: ('x',)\n",
      "Outputs: ('y',)\n",
      "Model set size: 1024\n",
      "Parameters:\n",
      "     mu  std\n",
      "    ---- ---\n",
      "    0.25 0.5\n",
      "    0.25 0.5\n",
      "    0.25 0.5\n",
      "    0.25 0.5\n",
      "    0.25 0.5\n",
      "    0.25 0.5\n",
      "    0.25 0.5\n",
      "    0.25 0.5\n",
      "    0.25 0.5\n",
      "    0.25 0.5\n",
      "     ... ...\n",
      "    0.25 0.5\n",
      "    0.25 0.5\n",
      "    0.25 0.5\n",
      "    0.25 0.5\n",
      "    0.25 0.5\n",
      "    0.25 0.5\n",
      "    0.25 0.5\n",
      "    0.25 0.5\n",
      "    0.25 0.5\n",
      "    0.25 0.5\n",
      "    0.25 0.5\n",
      "    Length = 1024 rows\n"
     ]
    }
   ],
   "source": [
    "with open('../models/q_distrib.pkl', 'rb') as f:\n",
    "    q_distrib = pickle.load(f)\n",
    "\n",
    "print(q_distrib)"
   ]
  },
  {
   "cell_type": "markdown",
   "id": "4b0a5617",
   "metadata": {
    "toc-hr-collapsed": true
   },
   "source": [
    "#### Hopkins+ (2007)"
   ]
  },
  {
   "cell_type": "code",
   "execution_count": 20,
   "id": "471c5017",
   "metadata": {},
   "outputs": [
    {
     "name": "stdout",
     "output_type": "stream",
     "text": [
      "Model: Hopkins2007QuasarFormationDensity\n",
      "Inputs: ('x', 'y')\n",
      "Outputs: ('z',)\n",
      "Model set size: 1024\n",
      "Parameters:\n",
      "    log_formation_rate_normalization log_formation_rate_power_law_slope ... z_ref\n",
      "    -------------------------------- ---------------------------------- ... -----\n",
      "                 -3.8312291957759115                -3.5906422505854696 ...   2.0\n",
      "                 -3.8135225285671623                 -3.821325480473623 ...   2.0\n",
      "                 -3.7918640693698884                 -4.436947650694137 ...   2.0\n",
      "                  -3.796869161261877                 -4.184330124395835 ...   2.0\n",
      "                 -3.8354281273727096                -3.9616277353189626 ...   2.0\n",
      "                 -3.8697805813436985                 -3.806463474235742 ...   2.0\n",
      "                 -3.8695458373108753                 -4.174010429042026 ...   2.0\n",
      "                 -3.8038888312393313                 -4.409515051910748 ...   2.0\n",
      "                  -3.884021473405284                 -4.132194507176767 ...   2.0\n",
      "                   -3.86758989254699                 -4.282558216351698 ...   2.0\n",
      "                                 ...                                ... ...   ...\n",
      "                 -3.8295646325092894                -3.5571081359673937 ...   2.0\n",
      "                 -3.8446091209710342                -3.9548031317188905 ...   2.0\n",
      "                 -3.8147983192317145                 -3.815185812814337 ...   2.0\n",
      "                 -3.7892447650237844                 -4.768823177896108 ...   2.0\n",
      "                  -3.862924840255489                -3.9021694759970322 ...   2.0\n",
      "                 -3.7890563664716783                 -4.483069030584425 ...   2.0\n",
      "                 -3.8558158377317486                 -4.317409375274976 ...   2.0\n",
      "                 -3.8130022716641983                 -4.089606157251141 ...   2.0\n",
      "                  -3.839246036912057                 -3.753906933874308 ...   2.0\n",
      "                 -3.8104182132501205                 -3.844352195184132 ...   2.0\n",
      "                  -3.833551999332822                 -4.160052818119483 ...   2.0\n",
      "    Length = 1024 rows\n"
     ]
    }
   ],
   "source": [
    "with open('../models/Hopkins2007_quasar_formation_rate_binaries.pkl', 'rb') as f:\n",
    "    quasar_formation_rate = pickle.load(f)\n",
    "\n",
    "print(quasar_formation_rate)"
   ]
  },
  {
   "cell_type": "markdown",
   "id": "64bdcd6b",
   "metadata": {},
   "source": [
    "## Main models"
   ]
  },
  {
   "cell_type": "markdown",
   "id": "14426d7b",
   "metadata": {},
   "source": [
    "### Mingarelli+ 2017 Derived $\\Phi_{\\rm{BHB}, 0}$"
   ]
  },
  {
   "cell_type": "code",
   "execution_count": 21,
   "id": "b03922da",
   "metadata": {},
   "outputs": [],
   "source": [
    "N_225 = np.rint(trunc_norm_dist(a=0, b=np.inf, loc=17, scale=6, size=n_samples))  # can't have fractions of a SMBHB\n",
    "distance = 225 * u.Mpc\n",
    "\n",
    "z_225 = z_at_value(WMAP9.angular_diameter_distance, distance, zmax=1.)\n",
    "vol = WMAP9.comoving_volume(z_225).value"
   ]
  },
  {
   "cell_type": "code",
   "execution_count": 22,
   "id": "977d36dd",
   "metadata": {},
   "outputs": [],
   "source": [
    "local_binary_number_density = Const1D(amplitude=N_225/vol, n_models=n_samples)"
   ]
  },
  {
   "cell_type": "code",
   "execution_count": 23,
   "id": "9f1fb61a",
   "metadata": {},
   "outputs": [
    {
     "data": {
      "text/latex": [
       "$\\displaystyle \\phi_{\\rm{BHB}, 0} = (3.0_{-1.1}^{+1.1}) \\times 10^{-7.0}\\;\\rm{Mpc}^{-3}$"
      ],
      "text/plain": [
       "<IPython.core.display.Math object>"
      ]
     },
     "metadata": {},
     "output_type": "display_data"
    }
   ],
   "source": [
    "quantiles = np.quantile(local_binary_number_density(0), q=[.16, .5, .84])\n",
    "order = 10. ** np.floor(np.log10(quantiles[1]))\n",
    "display(Math(r'\\phi_{{\\rm{{BHB}}, 0}} = ({0:.1f}_{{-{1:.1f}}}^{{+{2:.1f}}})'\n",
    "             r' \\times 10^{{{3}}}\\;\\rm{{Mpc}}^{{-3}}'.format(quantiles[1] / order,\n",
    "                                          (quantiles[1] - quantiles[0]) / order,\n",
    "                                          (quantiles[2] - quantiles[1]) / order,\n",
    "                                          np.log10(order))))"
   ]
  },
  {
   "cell_type": "code",
   "execution_count": 24,
   "id": "022f02fe",
   "metadata": {},
   "outputs": [
    {
     "name": "stdout",
     "output_type": "stream",
     "text": [
      "Model: Const1D\n",
      "Inputs: ('x',)\n",
      "Outputs: ('y',)\n",
      "Model set size: 1024\n",
      "Parameters:\n",
      "          amplitude       \n",
      "    ----------------------\n",
      "    1.7818748514659236e-07\n",
      "     5.523812039544363e-07\n",
      "     3.563749702931847e-07\n",
      "    1.2473123960261466e-07\n",
      "     3.385562217785255e-07\n",
      "      3.74193718807844e-07\n",
      "     3.920124673225032e-07\n",
      "    1.0691249108795542e-07\n",
      "    4.0983121583716244e-07\n",
      "    2.6728122771988854e-07\n",
      "                       ...\n",
      "      3.74193718807844e-07\n",
      "    1.7818748514659236e-07\n",
      "     4.989249584104586e-07\n",
      "     3.385562217785255e-07\n",
      "     2.850999762345478e-07\n",
      "     2.850999762345478e-07\n",
      "    3.0291872474920704e-07\n",
      "    2.3164373069057009e-07\n",
      "    2.6728122771988854e-07\n",
      "    1.6036873663193313e-07\n",
      "      3.74193718807844e-07\n",
      "    Length = 1024 rows\n"
     ]
    }
   ],
   "source": [
    "print(local_binary_number_density)\n",
    "with open('../models/M17_number_density_kh.pkl', 'wb') as f:\n",
    "    pickle.dump(local_binary_number_density, f)"
   ]
  },
  {
   "cell_type": "markdown",
   "id": "3b545c49",
   "metadata": {
    "toc-hr-collapsed": true
   },
   "source": [
    "### AGN-proxy model"
   ]
  },
  {
   "cell_type": "markdown",
   "id": "c1396429",
   "metadata": {},
   "source": [
    "#### Normalization"
   ]
  },
  {
   "cell_type": "code",
   "execution_count": 25,
   "id": "05fdcad9",
   "metadata": {},
   "outputs": [],
   "source": [
    "# Add normalization masses to our mass range explicitly\n",
    "log_m_bh_range_norm = np.sort(np.append(log_m_bh_range, log_m_bh_min_mingarelli))\n",
    "log_m_bh_range_norm = np.sort(np.append(log_m_bh_range_norm, log_m_bh_max_mingarelli))\n",
    "log_m_bh_range_norm = log_m_bh_range_norm[(log_m_bh_range_norm >= log_m_bh_min_mingarelli)\n",
    "                                          & (log_m_bh_range_norm <= log_m_bh_max_mingarelli)]"
   ]
  },
  {
   "cell_type": "code",
   "execution_count": 26,
   "id": "6e29e754",
   "metadata": {},
   "outputs": [],
   "source": [
    "mm, zz = np.meshgrid(log_m_bh_range_norm, z_range, indexing='ij')"
   ]
  },
  {
   "cell_type": "code",
   "execution_count": 27,
   "id": "90c53d1a",
   "metadata": {},
   "outputs": [
    {
     "data": {
      "application/vnd.jupyter.widget-view+json": {
       "model_id": "52e2afc7f0c349d69ded49410cda5c83",
       "version_major": 2,
       "version_minor": 0
      },
      "text/plain": [
       "  0%|          | 0/480 [00:00<?, ?it/s]"
      ]
     },
     "metadata": {},
     "output_type": "display_data"
    }
   ],
   "source": [
    "with mp.Pool(mp.cpu_count()) as p:\n",
    "    differential_quasar_population = list(p.starmap(quasar_formation_rate,\n",
    "                             tqdm(zip(mm.ravel(), zz.ravel()),\n",
    "                      total=len(mm.ravel()))))\n",
    "\n",
    "differential_quasar_population = np.reshape(differential_quasar_population, np.repeat(mm[..., np.newaxis], n_samples, axis=-1).shape)"
   ]
  },
  {
   "cell_type": "code",
   "execution_count": 28,
   "id": "bb5d7ca9",
   "metadata": {},
   "outputs": [
    {
     "data": {
      "text/latex": [
       "$\\displaystyle \\Phi_{\\rm{AGN}, 0} = (4.3_{-2.7}^{+7.3}) \\times 10^{-7.0}\\;\\rm{Mpc}^{-3}$"
      ],
      "text/plain": [
       "<IPython.core.display.Math object>"
      ]
     },
     "metadata": {},
     "output_type": "display_data"
    }
   ],
   "source": [
    "local_quasar_number_density = trapz(differential_quasar_population, log_m_bh_range_norm, axis=0)[0]\n",
    "\n",
    "quantiles = np.quantile(local_quasar_number_density, q=[.16, .5, .84])\n",
    "order = 10. ** np.floor(np.log10(quantiles[1]))\n",
    "display(Math(r'\\Phi_{{\\rm{{AGN}}, 0}} = ({0:.1f}_{{-{1:.1f}}}^{{+{2:.1f}}})'\n",
    "             r' \\times 10^{{{3}}}\\;\\rm{{Mpc}}^{{-3}}'.format(quantiles[1] / order,\n",
    "                                          (quantiles[1] - quantiles[0]) / order,\n",
    "                                          (quantiles[2] - quantiles[1]) / order,\n",
    "                                          np.log10(order))))"
   ]
  },
  {
   "cell_type": "code",
   "execution_count": 29,
   "id": "173ac892",
   "metadata": {},
   "outputs": [
    {
     "data": {
      "text/latex": [
       "$\\displaystyle \\int_{0.25}^{1} p(q) dq = 0.3$"
      ],
      "text/plain": [
       "<IPython.core.display.Math object>"
      ]
     },
     "metadata": {},
     "output_type": "display_data"
    }
   ],
   "source": [
    "q_factor = np.trapz(np.array([q_distrib(q) for q in q_range]), q_range, axis=0)\n",
    "\n",
    "quantiles = np.quantile(q_factor, q=[.16, .5, .84])\n",
    "order = 10. ** np.floor(np.log10(quantiles[1]))\n",
    "display(Math(r'\\int_{{0.25}}^{{1}} p(q) dq = {0:.1f}'.format(quantiles[1])))"
   ]
  },
  {
   "cell_type": "code",
   "execution_count": 30,
   "id": "658959c5",
   "metadata": {},
   "outputs": [
    {
     "data": {
      "text/latex": [
       "$\\displaystyle \\frac{\\Phi_{\\rm{BHB}, 0}}{\\Phi_{\\rm{AGN}, 0}} = 0.6_{-0.4}^{+1.3}$"
      ],
      "text/plain": [
       "<IPython.core.display.Math object>"
      ]
     },
     "metadata": {},
     "output_type": "display_data"
    }
   ],
   "source": [
    "binary_agn_ratio = local_binary_number_density.amplitude / local_quasar_number_density\n",
    "\n",
    "quantiles = np.quantile(binary_agn_ratio, q=[.16, .5, .84])\n",
    "display(Math(r'\\frac{{\\Phi_{{\\rm{{BHB}}, 0}}}}{{\\Phi_{{\\rm{{AGN}}, 0}}}} = {0:.1f}_{{-{1:.1f}}}^{{+{2:.1f}}}'.format(quantiles[1],\n",
    "                                          quantiles[1] - quantiles[0],\n",
    "                                          quantiles[2] - quantiles[1])))"
   ]
  },
  {
   "cell_type": "code",
   "execution_count": 31,
   "id": "c8ba02ac",
   "metadata": {},
   "outputs": [
    {
     "data": {
      "text/latex": [
       "$\\displaystyle N_{0} = 2.2_{-1.4}^{+4.5}$"
      ],
      "text/plain": [
       "<IPython.core.display.Math object>"
      ]
     },
     "metadata": {},
     "output_type": "display_data"
    }
   ],
   "source": [
    "binary_normalization = Const3D(local_binary_number_density.amplitude / (local_quasar_number_density * q_factor), n_models=n_samples)\n",
    "\n",
    "quantiles = np.quantile(binary_normalization.amplitude, q=[.16, .5, .84])\n",
    "display(Math(r'N_{{0}} = {0:.1f}_{{-{1:.1f}}}^{{+{2:.1f}}}'.format(quantiles[1],\n",
    "                                          quantiles[1] - quantiles[0],\n",
    "                                          quantiles[2] - quantiles[1])))"
   ]
  },
  {
   "cell_type": "code",
   "execution_count": 32,
   "id": "1abd2f9b",
   "metadata": {},
   "outputs": [
    {
     "name": "stdout",
     "output_type": "stream",
     "text": [
      "Model: Const3D\n",
      "Inputs: ('x0', 'x1', 'x2')\n",
      "Outputs: ('x0',)\n",
      "Model set size: 1024\n",
      "Parameters:\n",
      "         amplitude     \n",
      "    -------------------\n",
      "     2.1080292659899436\n",
      "      4.635676632418572\n",
      "     2.0482701656361777\n",
      "     1.6838830365819457\n",
      "     3.1301874812406667\n",
      "      5.297418143132724\n",
      "     0.9666563215110355\n",
      "    0.23406231181311718\n",
      "      7.960253394813892\n",
      "     1.6988152018451097\n",
      "                    ...\n",
      "     1.0930182496764012\n",
      "     1.4017653240991756\n",
      "     3.0222577138137887\n",
      "      5.616205942629224\n",
      "     1.3200338047076676\n",
      "     1.7157711295938982\n",
      "      4.724589536524818\n",
      "     0.8635793559967065\n",
      "     11.636915934565911\n",
      "     0.8482939783590373\n",
      "      6.767210139320451\n",
      "    Length = 1024 rows\n"
     ]
    }
   ],
   "source": [
    "print(binary_normalization)\n",
    "with open('../models/BinaryNormalization_kh.pkl', 'wb') as f:\n",
    "    pickle.dump(binary_normalization, f)"
   ]
  },
  {
   "cell_type": "markdown",
   "id": "22982528",
   "metadata": {},
   "source": [
    "#### Full AGN-SMBHB model"
   ]
  },
  {
   "cell_type": "code",
   "execution_count": 33,
   "id": "8202c0b6",
   "metadata": {},
   "outputs": [
    {
     "name": "stdout",
     "output_type": "stream",
     "text": [
      "Model: QuasarProxyBinaries\n",
      "Inputs: ('x0', 'x1', 'x2')\n",
      "Outputs: ('x0',)\n",
      "Model set size: 1024\n",
      "Parameters:\n",
      "    log_local_smbhb_n_dens log_local_agn_n_dens log_m_min ... mu_log_q std_log_q\n",
      "    ---------------------- -------------------- --------- ... -------- ---------\n",
      "        -6.749122801548517   -6.524066083956466       7.0 ...     0.25       0.5\n",
      "        -6.257761107714245  -6.3749408877626665       7.0 ...     0.25       0.5\n",
      "        -6.448092805884536   -6.210546691624524       7.0 ...     0.25       0.5\n",
      "         -6.90402476153426  -6.5814033298881345       7.0 ...     0.25       0.5\n",
      "        -6.470369200595688   -6.417006197273478       7.0 ...     0.25       0.5\n",
      "        -6.426903506814598   -6.602034407905713       7.0 ...     0.25       0.5\n",
      "       -6.4067001207263115   -5.843038862581118       7.0 ...     0.25       0.5\n",
      "        -6.970971551164873   -5.791369687840399       7.0 ...     0.25       0.5\n",
      "        -6.387394965530924  -6.7393885046403765       7.0 ...     0.25       0.5\n",
      "        -6.573031542492836   -6.254244327582384       7.0 ...     0.25       0.5\n",
      "                       ...                  ...       ... ...      ...       ...\n",
      "        -6.426903506814598   -5.916597566531316       7.0 ...     0.25       0.5\n",
      "        -6.749122801548517   -6.346864760522522       7.0 ...     0.25       0.5\n",
      "        -6.301964770206298   -6.233362911396465       7.0 ...     0.25       0.5\n",
      "        -6.470369200595688    -6.67087887177644       7.0 ...     0.25       0.5\n",
      "        -6.545002818892592    -6.11665451854577       7.0 ...     0.25       0.5\n",
      "        -6.545002818892592   -6.230528821262533       7.0 ...     0.25       0.5\n",
      "        -6.518673880170243   -6.644104610434646       7.0 ...     0.25       0.5\n",
      "         -6.63517944924168   -6.022548347618619       7.0 ...     0.25       0.5\n",
      "        -6.573031542492836   -7.089936085937405       7.0 ...     0.25       0.5\n",
      "        -6.794880292109193    -6.17449332273907       7.0 ...     0.25       0.5\n",
      "        -6.426903506814598    -6.70837981594076       7.0 ...     0.25       0.5\n",
      "    Length = 1024 rows\n"
     ]
    },
    {
     "name": "stderr",
     "output_type": "stream",
     "text": [
      "<ipython-input-33-810cac86383c>:3: RuntimeWarning: divide by zero encountered in log10\n",
      "  differential_smbhb_population.log_local_smbhb_n_dens=np.log10(local_binary_number_density.amplitude)\n"
     ]
    }
   ],
   "source": [
    "with open('../models/SMBHBPopulation.pkl', 'rb') as f:\n",
    "    differential_smbhb_population = pickle.load(f)\n",
    "    differential_smbhb_population.log_local_smbhb_n_dens=np.log10(local_binary_number_density.amplitude)\n",
    "    differential_smbhb_population.log_local_agn_n_dens=np.log10(local_quasar_number_density)\n",
    "\n",
    "with open('../models/SMBHBPopulation_kh.pkl', 'wb') as f:\n",
    "    pickle.dump(differential_smbhb_population, f)\n",
    "    \n",
    "print(differential_smbhb_population)"
   ]
  },
  {
   "cell_type": "markdown",
   "id": "528d9f45",
   "metadata": {},
   "source": [
    "### Major merger models"
   ]
  },
  {
   "cell_type": "markdown",
   "id": "49bf1187",
   "metadata": {},
   "source": [
    "#### S1: Borch+ (2006), Bundy+ (2009), Kitzbichler & White (2008)"
   ]
  },
  {
   "cell_type": "code",
   "execution_count": 34,
   "id": "cf3a9f8c",
   "metadata": {},
   "outputs": [
    {
     "name": "stdout",
     "output_type": "stream",
     "text": [
      "Model: Sesana2013_Schechter\n",
      "Inputs: ('x0', 'x1', 'x2')\n",
      "Outputs: ('x0',)\n",
      "Model set size: 1024\n",
      "Parameters:\n",
      "          alpha              beta                norm1         ... t_norm r_proj\n",
      "    ----------------- ------------------ --------------------- ... ------ ------\n",
      "     8.62933325764156  1.228128185484955  0.003795060151100933 ...    2.2   20.0\n",
      "    8.768143602725345 1.1230334857388147  0.004115014451254783 ...    2.2   20.0\n",
      "     8.76520849766811 1.0511285167902258  0.004004440194266814 ...    2.2   20.0\n",
      "    8.775186924047972  1.214793967242815   0.00411010842698342 ...    2.2   20.0\n",
      "    8.705033730103704 1.1800596876134395 0.0033544663441562837 ...    2.2   20.0\n",
      "    8.670419866852612 1.2468289196481244   0.00395001266926591 ...    2.2   20.0\n",
      "    8.736158039722834  1.184436793483367  0.003246334998839639 ...    2.2   20.0\n",
      "    8.715195202975215 1.1695071461169357 0.0038311136703111336 ...    2.2   20.0\n",
      "    8.700768048103479  1.201311375903676  0.003589407476603303 ...    2.2   20.0\n",
      "    8.638364398740448  1.167612385092848  0.003324020364143917 ...    2.2   20.0\n",
      "                  ...                ...                   ... ...    ...    ...\n",
      "     8.69483355186508 1.2995552567099666  0.004281852865326173 ...    2.2   20.0\n",
      "     8.73667471105892 1.1404026264488833  0.004364859263280457 ...    2.2   20.0\n",
      "    8.659916575415059  1.196919785496936 0.0032310618036451863 ...    2.2   20.0\n",
      "    8.726202205325988 1.1582873343919218  0.003369794433140791 ...    2.2   20.0\n",
      "    8.708676947883028 1.1699329352376686  0.004097616034058207 ...    2.2   20.0\n",
      "    8.681230305004611 1.3082527764665508  0.003524160178210705 ...    2.2   20.0\n",
      "    8.679720896654231 1.1723342272479003  0.002741046870781254 ...    2.2   20.0\n",
      "    8.724864436747675  1.002434535393002  0.003572484457317183 ...    2.2   20.0\n",
      "    8.744002918350567  1.177984944939444 0.0035284591762857424 ...    2.2   20.0\n",
      "    8.688794294861417  1.267894682197402 0.0033567522491663605 ...    2.2   20.0\n",
      "    8.724097539317798 1.1537615641251104 0.0034045829071172383 ...    2.2   20.0\n",
      "    Length = 1024 rows\n"
     ]
    }
   ],
   "source": [
    "with open('../models/S1.pkl', 'rb') as f:\n",
    "    S1 = pickle.load(f)\n",
    "    S1.alpha = alpha_kormendy_ho\n",
    "    S1.beta = beta_kormendy_ho\n",
    "    \n",
    "with open('../models/S1_kh.pkl', 'wb') as f:\n",
    "     pickle.dump(S1, f)\n",
    "\n",
    "print(S1)"
   ]
  },
  {
   "cell_type": "markdown",
   "id": "686dd6e3",
   "metadata": {},
   "source": [
    "#### S2: Drory+ (2009), de Ravel+ (2009), Lotz+ (2010)"
   ]
  },
  {
   "cell_type": "code",
   "execution_count": 35,
   "id": "f6003091",
   "metadata": {},
   "outputs": [
    {
     "name": "stdout",
     "output_type": "stream",
     "text": [
      "Model: Sesana2013_DoubleSchechter\n",
      "Inputs: ('x0', 'x1', 'x2')\n",
      "Outputs: ('x0',)\n",
      "Model set size: 1024\n",
      "Parameters:\n",
      "          alpha              beta                norm11        ... t_norm r_proj\n",
      "    ----------------- ------------------ --------------------- ... ------ ------\n",
      "     8.62933325764156  1.228128185484955 0.0043065703463104005 ...    1.1  100.0\n",
      "    8.768143602725345 1.1230334857388147  0.004622253132452885 ...    1.1  100.0\n",
      "     8.76520849766811 1.0511285167902258  0.004354766451569489 ...    1.1  100.0\n",
      "    8.775186924047972  1.214793967242815  0.004370371433581013 ...    1.1  100.0\n",
      "    8.705033730103704 1.1800596876134395  0.004601239515348178 ...    1.1  100.0\n",
      "    8.670419866852612 1.2468289196481244  0.004317533695991045 ...    1.1  100.0\n",
      "    8.736158039722834  1.184436793483367 0.0047829785761994625 ...    1.1  100.0\n",
      "    8.715195202975215 1.1695071461169357  0.004220670991140153 ...    1.1  100.0\n",
      "    8.700768048103479  1.201311375903676  0.004397916615570013 ...    1.1  100.0\n",
      "    8.638364398740448  1.167612385092848  0.004291999589995206 ...    1.1  100.0\n",
      "                  ...                ...                   ... ...    ...    ...\n",
      "     8.69483355186508 1.2995552567099666  0.004294835515609173 ...    1.1  100.0\n",
      "     8.73667471105892 1.1404026264488833 0.0046031454241180205 ...    1.1  100.0\n",
      "    8.659916575415059  1.196919785496936   0.00470991869807235 ...    1.1  100.0\n",
      "    8.726202205325988 1.1582873343919218   0.00431481574841376 ...    1.1  100.0\n",
      "    8.708676947883028 1.1699329352376686  0.004390452423590222 ...    1.1  100.0\n",
      "    8.681230305004611 1.3082527764665508 0.0046593026929796924 ...    1.1  100.0\n",
      "    8.679720896654231 1.1723342272479003   0.00427830089314245 ...    1.1  100.0\n",
      "    8.724864436747675  1.002434535393002  0.004806560815514003 ...    1.1  100.0\n",
      "    8.744002918350567  1.177984944939444  0.004416399517570424 ...    1.1  100.0\n",
      "    8.688794294861417  1.267894682197402   0.00422420699048741 ...    1.1  100.0\n",
      "    8.724097539317798 1.1537615641251104  0.004150812996064311 ...    1.1  100.0\n",
      "    Length = 1024 rows\n"
     ]
    }
   ],
   "source": [
    "with open('../models/S2.pkl', 'rb') as f:\n",
    "    S2 = pickle.load(f)\n",
    "    S2.alpha = alpha_kormendy_ho\n",
    "    S2.beta = beta_kormendy_ho\n",
    "\n",
    "with open('../models/S2_kh.pkl', 'wb') as f:\n",
    "     pickle.dump(S2, f)\n",
    "\n",
    "print(S2)"
   ]
  },
  {
   "cell_type": "markdown",
   "id": "b8aea48b",
   "metadata": {},
   "source": [
    "#### S3: Ilbert+ (2010), Lopez+ (2012), Kitzbichler & White (2008)"
   ]
  },
  {
   "cell_type": "code",
   "execution_count": 36,
   "id": "3c0fe6a1",
   "metadata": {},
   "outputs": [
    {
     "name": "stdout",
     "output_type": "stream",
     "text": [
      "Model: Sesana2013_TripleSchechter\n",
      "Inputs: ('x0', 'x1', 'x2')\n",
      "Outputs: ('x0',)\n",
      "Model set size: 1024\n",
      "Parameters:\n",
      "          alpha              beta                norm11        ... t_norm r_proj\n",
      "    ----------------- ------------------ --------------------- ... ------ ------\n",
      "     8.62933325764156  1.228128185484955 0.0043065703463104005 ...    2.2   30.0\n",
      "    8.768143602725345 1.1230334857388147  0.004622253132452885 ...    2.2   30.0\n",
      "     8.76520849766811 1.0511285167902258  0.004354766451569489 ...    2.2   30.0\n",
      "    8.775186924047972  1.214793967242815  0.004370371433581013 ...    2.2   30.0\n",
      "    8.705033730103704 1.1800596876134395  0.004601239515348178 ...    2.2   30.0\n",
      "    8.670419866852612 1.2468289196481244  0.004317533695991045 ...    2.2   30.0\n",
      "    8.736158039722834  1.184436793483367 0.0047829785761994625 ...    2.2   30.0\n",
      "    8.715195202975215 1.1695071461169357  0.004220670991140153 ...    2.2   30.0\n",
      "    8.700768048103479  1.201311375903676  0.004397916615570013 ...    2.2   30.0\n",
      "    8.638364398740448  1.167612385092848  0.004291999589995206 ...    2.2   30.0\n",
      "                  ...                ...                   ... ...    ...    ...\n",
      "     8.69483355186508 1.2995552567099666  0.004294835515609173 ...    2.2   30.0\n",
      "     8.73667471105892 1.1404026264488833 0.0046031454241180205 ...    2.2   30.0\n",
      "    8.659916575415059  1.196919785496936   0.00470991869807235 ...    2.2   30.0\n",
      "    8.726202205325988 1.1582873343919218   0.00431481574841376 ...    2.2   30.0\n",
      "    8.708676947883028 1.1699329352376686  0.004390452423590222 ...    2.2   30.0\n",
      "    8.681230305004611 1.3082527764665508 0.0046593026929796924 ...    2.2   30.0\n",
      "    8.679720896654231 1.1723342272479003   0.00427830089314245 ...    2.2   30.0\n",
      "    8.724864436747675  1.002434535393002  0.004806560815514003 ...    2.2   30.0\n",
      "    8.744002918350567  1.177984944939444  0.004416399517570424 ...    2.2   30.0\n",
      "    8.688794294861417  1.267894682197402   0.00422420699048741 ...    2.2   30.0\n",
      "    8.724097539317798 1.1537615641251104  0.004150812996064311 ...    2.2   30.0\n",
      "    Length = 1024 rows\n"
     ]
    }
   ],
   "source": [
    "with open('../models/S3.pkl', 'rb') as f:\n",
    "    S3 = pickle.load(f)\n",
    "    S3.alpha = alpha_kormendy_ho\n",
    "    S3.beta = beta_kormendy_ho\n",
    "\n",
    "with open('../models/S3_kh.pkl', 'wb') as f:\n",
    "     pickle.dump(S3, f)\n",
    "\n",
    "print(S3)"
   ]
  },
  {
   "cell_type": "markdown",
   "id": "2bcab881",
   "metadata": {},
   "source": [
    "# Results"
   ]
  },
  {
   "cell_type": "markdown",
   "id": "f55a432d",
   "metadata": {},
   "source": [
    "## AGN Models"
   ]
  },
  {
   "cell_type": "markdown",
   "id": "8a908bcd",
   "metadata": {},
   "source": [
    "### AGN-proxy"
   ]
  },
  {
   "cell_type": "markdown",
   "id": "3bb6af7a",
   "metadata": {},
   "source": [
    "#### SMBHB Population"
   ]
  },
  {
   "cell_type": "code",
   "execution_count": 37,
   "id": "49dfa57f",
   "metadata": {},
   "outputs": [],
   "source": [
    "mm, zz, qq = np.meshgrid(log_m_bh_range, z_range, q_range, indexing='ij')"
   ]
  },
  {
   "cell_type": "code",
   "execution_count": 38,
   "id": "492e835e",
   "metadata": {},
   "outputs": [
    {
     "data": {
      "application/vnd.jupyter.widget-view+json": {
       "model_id": "e5a391ab56b7406aba64b768f0ac5daa",
       "version_major": 2,
       "version_minor": 0
      },
      "text/plain": [
       "  0%|          | 0/32768 [00:00<?, ?it/s]"
      ]
     },
     "metadata": {},
     "output_type": "display_data"
    }
   ],
   "source": [
    "with mp.Pool(mp.cpu_count()) as p:\n",
    "    differential_bhb_population = list(p.starmap(differential_smbhb_population,\n",
    "                             tqdm(zip(mm.ravel(), zz.ravel(), qq.ravel()),\n",
    "                      total=len(mm.ravel()))))\n",
    "\n",
    "differential_bhb_population = np.reshape(differential_bhb_population, np.repeat(mm[..., np.newaxis], n_samples, axis=-1).shape)"
   ]
  },
  {
   "cell_type": "markdown",
   "id": "7ef096a4",
   "metadata": {},
   "source": [
    "#### Characteristic strain"
   ]
  },
  {
   "cell_type": "code",
   "execution_count": 39,
   "id": "89766576",
   "metadata": {},
   "outputs": [],
   "source": [
    "coeffs = 4. * const.G ** (5. / 3.) / (3. * np.pi ** (1. / 3.)\n",
    "                                      * (const.c ** 2)\n",
    "                                      * (fidhz ** (4. / 3.)))"
   ]
  },
  {
   "cell_type": "code",
   "execution_count": 40,
   "id": "51858c30",
   "metadata": {},
   "outputs": [],
   "source": [
    "hc_integrand = (coeffs * differential_bhb_population * ((10 ** (mm * (5 / 3)))\n",
    "                                                        * (qq / ((1 + qq) ** (1 / 3)))\n",
    "                                                        / ((1 + zz) ** (1. / 3.)))[..., np.newaxis]\n",
    "                * (u.Msun ** (5 / 3)) / (u.Mpc ** 3))"
   ]
  },
  {
   "cell_type": "code",
   "execution_count": 41,
   "id": "a6ddfb4b",
   "metadata": {},
   "outputs": [
    {
     "data": {
      "text/latex": [
       "$\\displaystyle h_{c} = (7.7^{+5.3}_{-2.9}) \\times 10^{-16.0}$"
      ],
      "text/plain": [
       "<IPython.core.display.Math object>"
      ]
     },
     "metadata": {},
     "output_type": "display_data"
    }
   ],
   "source": [
    "hc = np.sqrt(cumtrapz(cumtrapz(cumtrapz(hc_integrand.to(''), log_m_bh_range, axis=0), z_range, axis=1), q_range, axis=2))\n",
    "hc_q = np.quantile(hc, q=[.16, .5, .84], axis=-1)\n",
    "\n",
    "order = 10. ** np.floor(np.log10(hc_q[1, -1, -1, -1]))\n",
    "display(Math(r'h_{{c}} = ({0:.1f}^{{+{1:.1f}}}_{{-{2:.1f}}}) \\times 10^{{{3}}}'\n",
    "             .format(hc_q[1, -1, -1, -1] / order,\n",
    "                     (hc_q[2, -1, -1, -1] - hc_q[1, -1, -1, -1]) / order,\n",
    "                     (hc_q[1, -1, -1, -1] - hc_q[0, -1, -1, -1]) / order,\n",
    "                     np.log10(order))))"
   ]
  },
  {
   "cell_type": "markdown",
   "id": "c60ef14f",
   "metadata": {},
   "source": [
    "#### Number density"
   ]
  },
  {
   "cell_type": "code",
   "execution_count": 42,
   "id": "b4265ad9",
   "metadata": {},
   "outputs": [],
   "source": [
    "differential_number_density = trapz(trapz(differential_bhb_population, log_m_bh_range, axis=0), q_range, axis=1)\n",
    "differential_number_density_q = np.quantile(differential_number_density, q=[.16, .5, .84], axis=-1)"
   ]
  },
  {
   "cell_type": "code",
   "execution_count": 43,
   "id": "510f0bc1",
   "metadata": {},
   "outputs": [
    {
     "data": {
      "text/latex": [
       "$\\displaystyle \\Phi_{\\rm{BHB}, 0} = (1.8^{+2.4}_{-1.0}) \\times 10^{-4.0}\\;\\rm{Mpc}^{-3}$"
      ],
      "text/plain": [
       "<IPython.core.display.Math object>"
      ]
     },
     "metadata": {},
     "output_type": "display_data"
    }
   ],
   "source": [
    "order = 10. ** np.floor(np.log10(differential_number_density_q[1, 0]))\n",
    "display(Math(r'\\Phi_{{\\rm{{BHB}}, 0}} = ({0:.1f}^{{+{1:.1f}}}_{{-{2:.1f}}}) \\times 10^{{{3}}}\\;\\rm{{Mpc}}^{{-3}}'\n",
    "             .format(differential_number_density_q[1, 0] / order,\n",
    "                     (differential_number_density_q[2, 0] - differential_number_density_q[1, 0]) / order,\n",
    "                     (differential_number_density_q[1, 0] - differential_number_density_q[0, 0]) / order,\n",
    "                     np.log10(order))))"
   ]
  },
  {
   "cell_type": "markdown",
   "id": "b8e9764c",
   "metadata": {},
   "source": [
    "#### Local Mass Function"
   ]
  },
  {
   "cell_type": "code",
   "execution_count": 44,
   "id": "ace3936f",
   "metadata": {},
   "outputs": [],
   "source": [
    "local_bhmf = trapz(trapz(differential_bhb_population, z_range, axis=1), q_range, axis=1) / (np.log(10) * (10 ** log_m_bh_range[:, np.newaxis]))\n",
    "local_bhmf_q = np.quantile(local_bhmf, q=[.16, .5, .84], axis=-1)"
   ]
  },
  {
   "cell_type": "markdown",
   "id": "b2cbf13f",
   "metadata": {},
   "source": [
    "#### Summary"
   ]
  },
  {
   "cell_type": "code",
   "execution_count": 45,
   "id": "ce56c1d8",
   "metadata": {},
   "outputs": [],
   "source": [
    "with h5py.File('../data/processed/agn_proxy_kh.h5', 'w') as hf:\n",
    "    hf.create_dataset('log_m_bh_range',  data=log_m_bh_range)\n",
    "    hf.create_dataset('z_range',  data=z_range)\n",
    "    hf.create_dataset('q_range',  data=q_range)\n",
    "    hf.create_dataset('population',  data=differential_bhb_population)\n",
    "    hf.create_dataset('characteristic_strain',  data=hc)\n",
    "    hf.create_dataset('number_density',  data=differential_number_density)\n",
    "    hf.create_dataset('local_bhmf',  data=local_bhmf)"
   ]
  },
  {
   "cell_type": "markdown",
   "id": "385ca611",
   "metadata": {},
   "source": [
    "## Merger Models"
   ]
  },
  {
   "cell_type": "markdown",
   "id": "844f99b0",
   "metadata": {},
   "source": [
    "### S1"
   ]
  },
  {
   "cell_type": "markdown",
   "id": "3b820f44",
   "metadata": {},
   "source": [
    "#### SMBHB Population"
   ]
  },
  {
   "cell_type": "code",
   "execution_count": 46,
   "id": "3f5fa420",
   "metadata": {},
   "outputs": [],
   "source": [
    "mm, zz, qq = np.meshgrid(log_m_bh_range, z_range_borch, q_range, indexing='ij')"
   ]
  },
  {
   "cell_type": "code",
   "execution_count": 47,
   "id": "b6de0a8b",
   "metadata": {},
   "outputs": [
    {
     "data": {
      "application/vnd.jupyter.widget-view+json": {
       "model_id": "482fe74e3b084f7fb4dac498cbff70e7",
       "version_major": 2,
       "version_minor": 0
      },
      "text/plain": [
       "  0%|          | 0/32768 [00:00<?, ?it/s]"
      ]
     },
     "metadata": {},
     "output_type": "display_data"
    }
   ],
   "source": [
    "with mp.Pool(mp.cpu_count()) as p:\n",
    "    S1_bhb_population = list(p.starmap(S1,\n",
    "                             tqdm(zip(mm.ravel(), zz.ravel(), qq.ravel()),\n",
    "                      total=len(mm.ravel()))))\n",
    "\n",
    "S1_bhb_population = np.reshape(S1_bhb_population, np.repeat(mm[..., np.newaxis], n_samples, axis=-1).shape)"
   ]
  },
  {
   "cell_type": "markdown",
   "id": "f05f6cd6",
   "metadata": {},
   "source": [
    "#### Strain"
   ]
  },
  {
   "cell_type": "code",
   "execution_count": 48,
   "id": "6a1bb2ea",
   "metadata": {},
   "outputs": [],
   "source": [
    "S1_hc_integrand = (coeffs * S1_bhb_population * ((10 ** (mm * (5 / 3)))\n",
    "                                                 * (qq / ((1 + qq) ** (1 / 3)))\n",
    "                                                 / ((1 + zz) ** (1. / 3.)))[..., np.newaxis]\n",
    "                   * (u.Msun ** (5 / 3)) / (u.Mpc ** 3))"
   ]
  },
  {
   "cell_type": "code",
   "execution_count": 49,
   "id": "70e2ca51",
   "metadata": {},
   "outputs": [
    {
     "data": {
      "text/latex": [
       "$\\displaystyle h_{c, \\rm{S1}} = (8.0^{+3.2}_{-2.8}) \\times 10^{-16.0}$"
      ],
      "text/plain": [
       "<IPython.core.display.Math object>"
      ]
     },
     "metadata": {},
     "output_type": "display_data"
    }
   ],
   "source": [
    "S1_hc = np.sqrt(cumtrapz(cumtrapz(cumtrapz(S1_hc_integrand.to(''), log_m_bh_range, axis=0), z_range_borch, axis=1), q_range, axis=2))\n",
    "S1_hc_q = np.quantile(S1_hc, q=[.16, .5, .84], axis=-1)\n",
    "\n",
    "order = 10. ** np.floor(np.log10(S1_hc_q[1, -1, -1, -1]))\n",
    "display(Math(r'h_{{c, \\rm{{S1}}}} = ({0:.1f}^{{+{1:.1f}}}_{{-{2:.1f}}}) \\times 10^{{{3}}}'\n",
    "             .format(S1_hc_q[1, -1, -1, -1] / order,\n",
    "                     (S1_hc_q[2, -1, -1, -1] - S1_hc_q[1, -1, -1, -1]) / order,\n",
    "                     (S1_hc_q[1, -1, -1, -1] - S1_hc_q[0, -1, -1, -1]) / order,\n",
    "                     np.log10(order))))"
   ]
  },
  {
   "cell_type": "markdown",
   "id": "32c02080",
   "metadata": {},
   "source": [
    "#### Number density"
   ]
  },
  {
   "cell_type": "code",
   "execution_count": 50,
   "id": "8e05016f",
   "metadata": {},
   "outputs": [],
   "source": [
    "S1_number_density = trapz(trapz(S1_bhb_population, log_m_bh_range, axis=0), q_range, axis=1)\n",
    "S1_number_density_q = np.quantile(S1_number_density, q=[.16, .5, .84], axis=-1)"
   ]
  },
  {
   "cell_type": "code",
   "execution_count": 51,
   "id": "9d0bc068",
   "metadata": {},
   "outputs": [
    {
     "data": {
      "text/latex": [
       "$\\displaystyle \\Phi_{\\rm{BHB}, 0, \\rm{S1}} = (1.1^{+1.3}_{-0.7}) \\times 10^{-3.0}\\;\\rm{Mpc}^{-3}$"
      ],
      "text/plain": [
       "<IPython.core.display.Math object>"
      ]
     },
     "metadata": {},
     "output_type": "display_data"
    }
   ],
   "source": [
    "order = 10. ** np.floor(np.log10(S1_number_density_q[1, 0]))\n",
    "display(Math(r'\\Phi_{{\\rm{{BHB}}, 0, \\rm{{S1}}}} = ({0:.1f}^{{+{1:.1f}}}_{{-{2:.1f}}}) \\times 10^{{{3}}}\\;\\rm{{Mpc}}^{{-3}}'\n",
    "             .format(S1_number_density_q[1, 0] / order,\n",
    "                     (S1_number_density_q[2, 0] - S1_number_density_q[1, 0]) / order,\n",
    "                     (S1_number_density_q[1, 0] - S1_number_density_q[0, 0]) / order,\n",
    "                     np.log10(order))))"
   ]
  },
  {
   "cell_type": "markdown",
   "id": "f244cd85",
   "metadata": {},
   "source": [
    "#### Local Mass Function"
   ]
  },
  {
   "cell_type": "code",
   "execution_count": 52,
   "id": "af63bff3",
   "metadata": {},
   "outputs": [],
   "source": [
    "S1_local_bhmf = trapz(trapz(S1_bhb_population, q_range, axis=2), z_range_borch, axis=1) / (np.log(10) * (10 ** log_m_bh_range[:, np.newaxis]))\n",
    "S1_local_bhmf_q = np.quantile(S1_local_bhmf, q=[.16, .5, .84], axis=-1)"
   ]
  },
  {
   "cell_type": "markdown",
   "id": "055666ee",
   "metadata": {},
   "source": [
    "#### Summary"
   ]
  },
  {
   "cell_type": "code",
   "execution_count": 53,
   "id": "2868c15f",
   "metadata": {},
   "outputs": [],
   "source": [
    "with h5py.File('../data/processed/S1_kh.h5', 'w') as hf:\n",
    "    hf.create_dataset('log_m_bh_range',  data=log_m_bh_range)\n",
    "    hf.create_dataset('z_range',  data=z_range_borch)\n",
    "    hf.create_dataset('q_range',  data=q_range)\n",
    "    hf.create_dataset('population',  data=S1_bhb_population)\n",
    "    hf.create_dataset('characteristic_strain',  data=S1_hc)\n",
    "    hf.create_dataset('number_density',  data=S1_number_density)\n",
    "    hf.create_dataset('local_bhmf',  data=S1_local_bhmf)"
   ]
  },
  {
   "cell_type": "markdown",
   "id": "f6bb6ce1",
   "metadata": {},
   "source": [
    "### S2"
   ]
  },
  {
   "cell_type": "markdown",
   "id": "d218fec3",
   "metadata": {},
   "source": [
    "#### SMBHB Population"
   ]
  },
  {
   "cell_type": "code",
   "execution_count": 54,
   "id": "21f6e2c7",
   "metadata": {},
   "outputs": [],
   "source": [
    "mm, zz, qq = np.meshgrid(log_m_bh_range, z_range_drory, q_range, indexing='ij')"
   ]
  },
  {
   "cell_type": "code",
   "execution_count": 55,
   "id": "1deabeca",
   "metadata": {},
   "outputs": [
    {
     "data": {
      "application/vnd.jupyter.widget-view+json": {
       "model_id": "3467c31536034060ac1e8df267f3a6cc",
       "version_major": 2,
       "version_minor": 0
      },
      "text/plain": [
       "  0%|          | 0/32768 [00:00<?, ?it/s]"
      ]
     },
     "metadata": {},
     "output_type": "display_data"
    }
   ],
   "source": [
    "with mp.Pool(mp.cpu_count()) as p:\n",
    "    S2_bhb_population = list(p.starmap(S2,\n",
    "                             tqdm(zip(mm.ravel(), zz.ravel(), qq.ravel()),\n",
    "                      total=len(mm.ravel()))))\n",
    "\n",
    "S2_bhb_population = np.reshape(S2_bhb_population, np.repeat(mm[..., np.newaxis], n_samples, axis=-1).shape)"
   ]
  },
  {
   "cell_type": "markdown",
   "id": "dcd10ee5",
   "metadata": {},
   "source": [
    "#### Strain"
   ]
  },
  {
   "cell_type": "code",
   "execution_count": 56,
   "id": "e9a45e38",
   "metadata": {},
   "outputs": [],
   "source": [
    "S2_hc_integrand = (coeffs * S2_bhb_population * ((10 ** (mm * (5 / 3)))\n",
    "                                                 * (qq / ((1 + qq) ** (1 / 3)))\n",
    "                                                 / ((1 + zz) ** (1. / 3.)))[..., np.newaxis]\n",
    "                   * (u.Msun ** (5 / 3)) / (u.Mpc ** 3))"
   ]
  },
  {
   "cell_type": "code",
   "execution_count": 57,
   "id": "59d873ca",
   "metadata": {},
   "outputs": [
    {
     "data": {
      "text/latex": [
       "$\\displaystyle h_{c, \\rm{S2}} = (2.0^{+1.5}_{-0.9}) \\times 10^{-15.0}$"
      ],
      "text/plain": [
       "<IPython.core.display.Math object>"
      ]
     },
     "metadata": {},
     "output_type": "display_data"
    }
   ],
   "source": [
    "S2_hc = np.sqrt(cumtrapz(cumtrapz(cumtrapz(S2_hc_integrand.to(''), log_m_bh_range, axis=0), z_range_drory, axis=1), q_range, axis=2))\n",
    "S2_hc_q = np.quantile(S2_hc, q=[.16, .5, .84], axis=-1)\n",
    "\n",
    "order = 10. ** np.floor(np.log10(S2_hc_q[1, -1, -1, -1]))\n",
    "display(Math(r'h_{{c, \\rm{{S2}}}} = ({0:.1f}^{{+{1:.1f}}}_{{-{2:.1f}}}) \\times 10^{{{3}}}'\n",
    "             .format(S2_hc_q[1, -1, -1, -1] / order,\n",
    "                     (S2_hc_q[2, -1, -1, -1] - S2_hc_q[1, -1, -1, -1]) / order,\n",
    "                     (S2_hc_q[1, -1, -1, -1] - S2_hc_q[0, -1, -1, -1]) / order,\n",
    "                     np.log10(order))))"
   ]
  },
  {
   "cell_type": "markdown",
   "id": "55f0e10b",
   "metadata": {},
   "source": [
    "#### Number density"
   ]
  },
  {
   "cell_type": "code",
   "execution_count": 58,
   "id": "0d9ec3de",
   "metadata": {},
   "outputs": [],
   "source": [
    "S2_number_density = trapz(trapz(S2_bhb_population, log_m_bh_range, axis=0), q_range, axis=1)\n",
    "S2_number_density_q = np.quantile(S2_number_density, q=[.16, .5, .84], axis=-1)"
   ]
  },
  {
   "cell_type": "code",
   "execution_count": 59,
   "id": "a8d9e71e",
   "metadata": {},
   "outputs": [
    {
     "data": {
      "text/latex": [
       "$\\displaystyle \\Phi_{\\rm{BHB}, 0, \\rm{S2}} = (5.1^{+4.3}_{-2.7}) \\times 10^{-3.0}\\;\\rm{Mpc}^{-3}$"
      ],
      "text/plain": [
       "<IPython.core.display.Math object>"
      ]
     },
     "metadata": {},
     "output_type": "display_data"
    }
   ],
   "source": [
    "order = 10. ** np.floor(np.log10(S2_number_density_q[1, 0]))\n",
    "display(Math(r'\\Phi_{{\\rm{{BHB}}, 0, \\rm{{S2}}}} = ({0:.1f}^{{+{1:.1f}}}_{{-{2:.1f}}}) \\times 10^{{{3}}}\\;\\rm{{Mpc}}^{{-3}}'\n",
    "             .format(S2_number_density_q[1, 0] / order,\n",
    "                     (S2_number_density_q[2, 0] - S2_number_density_q[1, 0]) / order,\n",
    "                     (S2_number_density_q[1, 0] - S2_number_density_q[0, 0]) / order,\n",
    "                     np.log10(order))))"
   ]
  },
  {
   "cell_type": "markdown",
   "id": "9d645322",
   "metadata": {},
   "source": [
    "#### Local Mass Function"
   ]
  },
  {
   "cell_type": "code",
   "execution_count": 60,
   "id": "b01a25aa",
   "metadata": {},
   "outputs": [],
   "source": [
    "S2_local_bhmf = trapz(trapz(S2_bhb_population, q_range, axis=2), z_range_drory, axis=1) / (np.log(10) * (10 ** log_m_bh_range[:, np.newaxis]))\n",
    "S2_local_bhmf_q = np.quantile(S2_local_bhmf, q=[.16, .5, .84], axis=-1)"
   ]
  },
  {
   "cell_type": "markdown",
   "id": "a16bc357",
   "metadata": {},
   "source": [
    "#### Summary"
   ]
  },
  {
   "cell_type": "code",
   "execution_count": 61,
   "id": "1b0f6478",
   "metadata": {},
   "outputs": [],
   "source": [
    "with h5py.File('../data/processed/S2_kh.h5', 'w') as hf:\n",
    "    hf.create_dataset('log_m_bh_range', data=log_m_bh_range)\n",
    "    hf.create_dataset('z_range', data=z_range_drory)\n",
    "    hf.create_dataset('q_range', data=q_range)\n",
    "    hf.create_dataset('population', data=S2_bhb_population)\n",
    "    hf.create_dataset('characteristic_strain', data=S2_hc)\n",
    "    hf.create_dataset('number_density', data=S2_number_density)\n",
    "    hf.create_dataset('local_bhmf', data=S2_local_bhmf)"
   ]
  },
  {
   "cell_type": "markdown",
   "id": "77df4446",
   "metadata": {},
   "source": [
    "### S3"
   ]
  },
  {
   "cell_type": "markdown",
   "id": "74db2dd6",
   "metadata": {},
   "source": [
    "#### SMBHB Population"
   ]
  },
  {
   "cell_type": "code",
   "execution_count": 62,
   "id": "c1983cc1",
   "metadata": {},
   "outputs": [],
   "source": [
    "mm, zz, qq = np.meshgrid(log_m_bh_range, z_range_ilbert, q_range, indexing='ij')"
   ]
  },
  {
   "cell_type": "code",
   "execution_count": 63,
   "id": "25389b77",
   "metadata": {},
   "outputs": [
    {
     "data": {
      "application/vnd.jupyter.widget-view+json": {
       "model_id": "08ee9b45fea24dd7b71fa510f51584f3",
       "version_major": 2,
       "version_minor": 0
      },
      "text/plain": [
       "  0%|          | 0/32768 [00:00<?, ?it/s]"
      ]
     },
     "metadata": {},
     "output_type": "display_data"
    }
   ],
   "source": [
    "with mp.Pool(mp.cpu_count()) as p:\n",
    "    S3_bhb_population = list(p.starmap(S3,\n",
    "                             tqdm(zip(mm.ravel(), zz.ravel(), qq.ravel()),\n",
    "                      total=len(mm.ravel()))))\n",
    "\n",
    "S3_bhb_population = np.reshape(S3_bhb_population, np.repeat(mm[..., np.newaxis], n_samples, axis=-1).shape)"
   ]
  },
  {
   "cell_type": "markdown",
   "id": "86e6e8ac",
   "metadata": {},
   "source": [
    "#### Strain"
   ]
  },
  {
   "cell_type": "code",
   "execution_count": 64,
   "id": "7eb00c9e",
   "metadata": {},
   "outputs": [],
   "source": [
    "S3_hc_integrand = (coeffs * S3_bhb_population * ((10 ** (mm * (5 / 3)))\n",
    "                                                 * (qq / ((1 + qq) ** (1 / 3)))\n",
    "                                                 / ((1 + zz) ** (1. / 3.)))[..., np.newaxis]\n",
    "                   * (u.Msun ** (5 / 3)) / (u.Mpc ** 3))"
   ]
  },
  {
   "cell_type": "code",
   "execution_count": 65,
   "id": "975d90be",
   "metadata": {},
   "outputs": [
    {
     "data": {
      "text/latex": [
       "$\\displaystyle h_{c, \\rm{S3}} = (8.9^{+2.8}_{-1.4}) \\times 10^{-16.0}$"
      ],
      "text/plain": [
       "<IPython.core.display.Math object>"
      ]
     },
     "metadata": {},
     "output_type": "display_data"
    }
   ],
   "source": [
    "S3_hc = np.sqrt(cumtrapz(cumtrapz(cumtrapz(S3_hc_integrand.to(''), log_m_bh_range, axis=0), z_range_ilbert, axis=1), q_range, axis=2))\n",
    "S3_hc_q = np.quantile(S3_hc, q=[.16, .5, .84], axis=-1)\n",
    "\n",
    "order = 10. ** np.floor(np.log10(S3_hc_q[1, -1, -1, -1]))\n",
    "display(Math(r'h_{{c, \\rm{{S3}}}} = ({0:.1f}^{{+{1:.1f}}}_{{-{2:.1f}}}) \\times 10^{{{3}}}'\n",
    "             .format(S3_hc_q[1, -1, -1, -1] / order,\n",
    "                     (S3_hc_q[2, -1, -1, -1] - S3_hc_q[1, -1, -1, -1]) / order,\n",
    "                     (S3_hc_q[1, -1, -1, -1] - S3_hc_q[0, -1, -1, -1]) / order,\n",
    "                     np.log10(order))))"
   ]
  },
  {
   "cell_type": "markdown",
   "id": "7261b529",
   "metadata": {},
   "source": [
    "#### Number density"
   ]
  },
  {
   "cell_type": "code",
   "execution_count": 66,
   "id": "317ddaad",
   "metadata": {},
   "outputs": [],
   "source": [
    "S3_number_density = trapz(trapz(S3_bhb_population, log_m_bh_range, axis=0), q_range, axis=1)\n",
    "S3_number_density_q = np.quantile(S3_number_density, q=[.16, .5, .84], axis=-1)"
   ]
  },
  {
   "cell_type": "code",
   "execution_count": 67,
   "id": "e5c5c71a",
   "metadata": {},
   "outputs": [
    {
     "data": {
      "text/latex": [
       "$\\displaystyle \\Phi_{\\rm{BHB}, 0, \\rm{S3}} = (1.6^{+0.3}_{-0.3}) \\times 10^{-3.0}\\;\\rm{Mpc}^{-3}$"
      ],
      "text/plain": [
       "<IPython.core.display.Math object>"
      ]
     },
     "metadata": {},
     "output_type": "display_data"
    }
   ],
   "source": [
    "order = 10. ** np.floor(np.log10(S3_number_density_q[1, 0]))\n",
    "display(Math(r'\\Phi_{{\\rm{{BHB}}, 0, \\rm{{S3}}}} = ({0:.1f}^{{+{1:.1f}}}_{{-{2:.1f}}}) \\times 10^{{{3}}}\\;\\rm{{Mpc}}^{{-3}}'\n",
    "             .format(S3_number_density_q[1, 0] / order,\n",
    "                     (S3_number_density_q[2, 0] - S3_number_density_q[1, 0]) / order,\n",
    "                     (S3_number_density_q[1, 0] - S3_number_density_q[0, 0]) / order,\n",
    "                     np.log10(order))))"
   ]
  },
  {
   "cell_type": "markdown",
   "id": "4da65293",
   "metadata": {},
   "source": [
    "#### Local Mass Function"
   ]
  },
  {
   "cell_type": "code",
   "execution_count": 68,
   "id": "03a1b530",
   "metadata": {},
   "outputs": [],
   "source": [
    "S3_local_bhmf = trapz(trapz(S3_bhb_population, q_range, axis=2), z_range_ilbert, axis=1) / (np.log(10) * (10 ** log_m_bh_range[:, np.newaxis]))\n",
    "S3_local_bhmf_q = np.quantile(S3_local_bhmf, q=[.16, .5, .84], axis=-1)"
   ]
  },
  {
   "cell_type": "markdown",
   "id": "26205e4d",
   "metadata": {},
   "source": [
    "#### Summary"
   ]
  },
  {
   "cell_type": "code",
   "execution_count": 69,
   "id": "8d55b84c",
   "metadata": {},
   "outputs": [],
   "source": [
    "with h5py.File('../data/processed/S3_kh.h5', 'w') as hf:\n",
    "    hf.create_dataset('log_m_bh_range', data=log_m_bh_range)\n",
    "    hf.create_dataset('z_range', data=z_range_ilbert)\n",
    "    hf.create_dataset('q_range', data=q_range)\n",
    "    hf.create_dataset('population', data=S3_bhb_population)\n",
    "    hf.create_dataset('characteristic_strain', data=S3_hc)\n",
    "    hf.create_dataset('number_density',  data=S3_number_density)\n",
    "    hf.create_dataset('local_bhmf', data=S3_local_bhmf)"
   ]
  },
  {
   "cell_type": "markdown",
   "id": "aa9dcf61",
   "metadata": {},
   "source": [
    "## Plots"
   ]
  },
  {
   "cell_type": "code",
   "execution_count": 70,
   "id": "72732ca5",
   "metadata": {},
   "outputs": [],
   "source": [
    "import seaborn as sns\n",
    "import matplotlib.pyplot as plt\n",
    "%matplotlib inline\n",
    "sns.set_context(\"talk\", font_scale=1.2)\n",
    "sns.set_style('ticks')\n",
    "sns.set_palette('colorblind')\n",
    "figparams = {'font.family': 'DejaVu Sans',\n",
    "             'font.serif':'Times',\n",
    "             'text.latex.preamble': r'\\usepackage{amsmath}',\n",
    "             'text.usetex': True,\n",
    "             'hatch.linewidth' : 3.0}\n",
    "plt.rcParams.update(figparams)\n",
    "cs = plt.rcParams['axes.prop_cycle'].by_key()['color']"
   ]
  },
  {
   "cell_type": "code",
   "execution_count": 71,
   "id": "63c1623c",
   "metadata": {},
   "outputs": [],
   "source": [
    "from matplotlib.legend_handler import HandlerLine2D, HandlerTuple\n",
    "\n",
    "class HandlerTupleVertical(HandlerTuple):\n",
    "    def __init__(self, **kwargs):\n",
    "        HandlerTuple.__init__(self, **kwargs)\n",
    "\n",
    "    def create_artists(self, legend, orig_handle,\n",
    "                       xdescent, ydescent, width, height, fontsize, trans):\n",
    "        # How many lines are there.\n",
    "        numlines = len(orig_handle)\n",
    "        handler_map = legend.get_legend_handler_map()\n",
    "\n",
    "        # divide the vertical space where the lines will go\n",
    "        # into equal parts based on the number of lines\n",
    "        height_y = (height / numlines)\n",
    "\n",
    "        leglines = []\n",
    "        for i, handle in enumerate(orig_handle):\n",
    "            handler = legend.get_legend_handler(handler_map, handle)\n",
    "\n",
    "            legline = handler.create_artists(legend, handle,\n",
    "                                             xdescent,\n",
    "                                             (2*i + 1)*height_y,\n",
    "                                             width,\n",
    "                                             2*height,\n",
    "                                             fontsize, trans)\n",
    "            leglines.extend(legline)\n",
    "\n",
    "        return leglines"
   ]
  },
  {
   "cell_type": "code",
   "execution_count": 72,
   "id": "2b71f17a",
   "metadata": {},
   "outputs": [
    {
     "name": "stderr",
     "output_type": "stream",
     "text": [
      "<ipython-input-72-c8a8d35b6c74>:134: RuntimeWarning: divide by zero encountered in log10\n",
      "  ax[2].hist(np.log10(hc[-1, -1, -1, :]), histtype='step', bins=bins, density=False, color=cs[0], linestyle='-',\n",
      "<ipython-input-72-c8a8d35b6c74>:137: RuntimeWarning: divide by zero encountered in log10\n",
      "  ax[2].hist(np.log10(hc[-1, -1, -1, :]), histtype='step', bins=bins, density=False, color=cs[0], linestyle='-',\n"
     ]
    },
    {
     "data": {
      "image/png": "[encoded data removed]",
      "text/plain": [
       "<Figure size 2592x648 with 3 Axes>"
      ]
     },
     "metadata": {},
     "output_type": "display_data"
    }
   ],
   "source": [
    "log_nz_i_l_kw_fid_min = np.floor(np.min(np.log10([np.min(differential_number_density_q[1]), np.min(S1_number_density_q[1]),\n",
    "                                                  np.min(S2_number_density_q[1]), np.min(S3_number_density_q[1])])))\n",
    "log_nz_i_l_kw_fid_max = np.ceil(np.max(np.log10([np.max(differential_number_density_q[1]), np.max(S1_number_density_q[1]),\n",
    "                                                 np.max(S2_number_density_q[1]), np.max(S3_number_density_q[1])])))\n",
    "\n",
    "hc_plot = hc[-1, -1, -1, :]\n",
    "S1_hc_plot = S1_hc[-1, -1, -1, :]\n",
    "S2_hc_plot = S2_hc[-1, -1, -1, :]\n",
    "S3_hc_plot = S3_hc[-1, -1, -1, :]\n",
    "\n",
    "\n",
    "log_hc_min = np.floor(10 * np.min(np.log10(np.concatenate((hc_plot[hc_plot != 0], S1_hc_plot[S1_hc_plot != 0],\n",
    "                                                           S2_hc_plot[S1_hc_plot != 0], S3_hc_plot[S1_hc_plot != 0]))))) / 10\n",
    "log_hc_max = np.ceil(10 * np.max(np.log10(np.concatenate((hc_plot[hc_plot != 0], S1_hc_plot[S1_hc_plot != 0],\n",
    "                                                          S2_hc_plot[S1_hc_plot != 0], S3_hc_plot[S1_hc_plot != 0]))))) / 10\n",
    "bins = np.linspace(log_hc_min, log_hc_max,\n",
    "                   int((log_hc_max - (log_hc_min - .1)) / .1))\n",
    "\n",
    "sesana_min = 3.5e-16\n",
    "sesana_max = 1.5e-15\n",
    "log_sesana_min = np.log10(sesana_min)\n",
    "log_sesana_max = np.log10(sesana_max)\n",
    "log_sesana_mid = np.mean([log_sesana_min, log_sesana_max])\n",
    "log_sesana_h = log_sesana_max - log_sesana_mid\n",
    "log_sesana_l = log_sesana_mid - log_sesana_min\n",
    "\n",
    "log_hc_mid = np.log10(hc_q[1, -1, -1, -1])\n",
    "log_hc_min = np.log10(hc_q[0, -1, -1, -1])\n",
    "log_hc_max = np.log10(hc_q[2, -1, -1, -1])\n",
    "log_hc_h = log_hc_max - log_hc_mid\n",
    "log_hc_l = log_hc_mid - log_hc_min\n",
    "\n",
    "sns.set_context(\"talk\", font_scale=1.8)\n",
    "fig, ax = plt.subplots(1, 3, figsize=(36, 9))\n",
    "\n",
    "label_fsize = 42\n",
    "legend_fsize = 30\n",
    "\n",
    "ax[0].tick_params()\n",
    "ax[1].tick_params()\n",
    "\n",
    "ax[0].fill_between(z_range_borch, S1_number_density_q[0], S1_number_density_q[2],\n",
    "                 color=cs[1], alpha=.2, hatch='\\\\')\n",
    "s1, = ax[0].plot(z_range_borch, S1_number_density_q[1], color=cs[1],\n",
    "                linewidth=3, linestyle=':')\n",
    "ax[0].fill_between(z_range_drory, S2_number_density_q[0], S2_number_density_q[2],\n",
    "                 color=cs[1], alpha=.2, hatch='||')\n",
    "s2, = ax[0].plot(z_range_drory, S2_number_density_q[1], color=cs[1],\n",
    "                linewidth=3, linestyle='-.')\n",
    "ax[0].fill_between(z_range_ilbert, S3_number_density_q[0], S3_number_density_q[2],\n",
    "                 color=cs[1], alpha=.2, hatch='-')\n",
    "s3, = ax[0].plot(z_range_ilbert, S3_number_density_q[1], color=cs[1],\n",
    "                linewidth=3, linestyle=(0, (3, 1, 1, 1, 1, 1)))\n",
    "\n",
    "# ax[0].fill_between(z_range, nz_q[0], nz_q[2], color=cs[2], alpha=.2, hatch='.')\n",
    "# m2, = ax[0].plot(z_range, nz_q[1], color=cs[2], linewidth=3, linestyle='--')\n",
    "\n",
    "ax[0].fill_between(z_range, differential_number_density_q[0], differential_number_density_q[2], color=cs[0], alpha=.2, hatch='/')\n",
    "m1, = ax[0].plot(z_range, differential_number_density_q[1], color=cs[0], linewidth=3, linestyle='-')\n",
    "\n",
    "ax[0].set_yscale('log')\n",
    "ax[0].set_ylabel(r'$\\Phi_{\\rm{BHB}}(z)\\ [\\rm{Mpc}^{-3}]$', fontsize=label_fsize)\n",
    "ax[0].set_xlabel(r'$z$', fontsize=label_fsize)\n",
    "# ax[0].set_ylim((10 ** (log_nz_i_l_kw_fid_min - 1), 10 ** (log_nz_i_l_kw_fid_max + 1)))\n",
    "ax[0].set_ylim(top=5e-2, bottom=1e-7)\n",
    "\n",
    "# ax[0].legend([m1, m2, (s1, s2, s3)], ['This Work', 'G19', 'S13 Realizations'], numpoints=1,\n",
    "#              handler_map={tuple: HandlerTupleVertical(ndivide=None)}, loc='lower right', fontsize=legend_fsize)\n",
    "ax[0].legend([m1, (s1, s2, s3)], ['AGN-proxy -- KH13', 'S13 -- KH13'], numpoints=1,\n",
    "             handler_map={tuple: HandlerTupleVertical(ndivide=None)}, frameon=False, loc='lower right', fontsize=legend_fsize)\n",
    "\n",
    "ax[1].fill_between(10 ** log_m_bh_range, S1_local_bhmf_q[0], S1_local_bhmf_q[2], color=cs[1], alpha=.2, hatch='\\\\')\n",
    "s1, = ax[1].plot(10 ** log_m_bh_range, S1_local_bhmf_q[1], color=cs[1],\n",
    "                 linewidth=3, linestyle=':')\n",
    "ax[1].fill_between(10 ** log_m_bh_range, S2_local_bhmf_q[0], S2_local_bhmf_q[2], color=cs[1], alpha=.2, hatch='||')\n",
    "s2, = ax[1].plot(10 ** log_m_bh_range, S2_local_bhmf_q[1], color=cs[1],\n",
    "                 linewidth=3, linestyle='-.')\n",
    "ax[1].fill_between(10 ** log_m_bh_range, S3_local_bhmf_q[0], S3_local_bhmf_q[2], color=cs[1], alpha=.2, hatch='-')\n",
    "s3, = ax[1].plot(10 ** log_m_bh_range, S3_local_bhmf_q[1], color=cs[1],\n",
    "                 linewidth=3, linestyle=(0, (3, 1, 1, 1, 1, 1)))\n",
    "\n",
    "# ax[1].fill_between(10 ** log_m_bh_range, p_m_q[0], p_m_q[2], color=cs[2], alpha=.2, hatch='.')\n",
    "# m2, = ax[1].plot(10 ** log_m_bh_range, p_m_q[1], color=cs[2], linewidth=3, linestyle='--')\n",
    "\n",
    "ax[1].fill_between(10 ** log_m_bh_range, local_bhmf_q[0], local_bhmf_q[2], color=cs[0], alpha=.2, hatch='/')\n",
    "m1, = ax[1].plot(10 ** log_m_bh_range, local_bhmf_q[1], color=cs[0], linewidth=3, linestyle='-')\n",
    "\n",
    "ax[1].set_xscale('log')\n",
    "ax[1].set_yscale('log')\n",
    "ax[1].set_ylabel(r'$d \\Phi_{\\rm{BHB}} / d M_{\\rm{BH}}\\ [M_{\\odot}^{-1}\\,\\rm{Mpc}^{-3}]$', fontsize=label_fsize)\n",
    "ax[1].set_xlabel(r'$M_{\\rm{BH}} [M_{\\odot}]$', fontsize=label_fsize)\n",
    "ax[1].set_ylim(bottom=1e-22, top=1e-9)\n",
    "# ax[1].legend([m1, m2, (s1, s2, s3)], ['Hopkins+ 2007', 'Marconi+ 2004', 'S13 Realizations'], numpoints=1,\n",
    "#              handler_map={tuple: HandlerTupleVertical(ndivide=None)}, loc='lower left', fontsize=legend_fsize)\n",
    "ax[1].legend([m1, (s1, s2, s3)], ['Hopkins+ 2007', 'S13 -- KH13'], numpoints=1,\n",
    "             handler_map={tuple: HandlerTupleVertical(ndivide=None)}, frameon=False, loc='lower left', fontsize=legend_fsize)\n",
    "\n",
    "ax[2].axvspan(log_sesana_min, log_sesana_max, color='k', alpha=.1)\n",
    "ax[2].hist(np.log10(S1_hc[-1, -1, -1, :]), histtype='step', bins=bins,\n",
    "           density=False, color=cs[1], linestyle=':',\n",
    "           label=r'S13: Realization 1',\n",
    "           weights=np.repeat(1 / len(S1_hc[-1, -1, -1, :]), len(S1_hc[-1, -1, -1, :])),\n",
    "           fill=True, alpha=.2, hatch='\\\\')\n",
    "ax[2].hist(np.log10(S1_hc[-1, -1, -1, :]), histtype='step', bins=bins,\n",
    "           density=False, color=cs[1], linestyle=':',\n",
    "           label=r'S13: Realization 1',\n",
    "           weights=np.repeat(1 / len(S1_hc[-1, -1, -1, :]), len(S1_hc[-1, -1, -1, :])))\n",
    "\n",
    "ax[2].hist(np.log10(S2_hc[-1, -1, -1, :]), histtype='step', bins=bins,\n",
    "           density=False, color=cs[1], linestyle='-.',\n",
    "           label=r'S13: Realization 2',\n",
    "           weights=np.repeat(1 / len(S2_hc[-1, -1, -1, :]), len(S2_hc[-1, -1, -1, :])),\n",
    "           fill=True, alpha=.2, hatch='||')\n",
    "ax[2].hist(np.log10(S2_hc[-1, -1, -1, :]), histtype='step', bins=bins,\n",
    "           density=False, color=cs[1], linestyle='-.',\n",
    "           label=r'S13: Realization 2',\n",
    "           weights=np.repeat(1 / len(S2_hc[-1, -1, -1, :]), len(S2_hc[-1, -1, -1, :])))\n",
    "\n",
    "ax[2].hist(np.log10(S3_hc[-1, -1, -1, :]), histtype='step', bins=bins,\n",
    "           density=False, color=cs[1], linestyle=(0, (3, 1, 1, 1, 1, 1)),\n",
    "           label=r'S13: Realization 3',\n",
    "           weights=np.repeat(1 / len(S3_hc[-1, -1, -1, :]), len(S3_hc[-1, -1, -1, :])),\n",
    "           fill=True, alpha=.2, hatch='-')\n",
    "ax[2].hist(np.log10(S3_hc[-1, -1, -1, :]), histtype='step', bins=bins,\n",
    "           density=False, color=cs[1], linestyle=(0, (3, 1, 1, 1, 1, 1)),\n",
    "           label=r'S13: Realization 3',\n",
    "           weights=np.repeat(1 / len(S3_hc[-1, -1, -1, :]), len(S3_hc[-1, -1, -1, :])))\n",
    "\n",
    "# ax[2].hist(np.log10(hc_g), histtype='step', bins=bins, density=False, color=cs[2], linestyle='--',\n",
    "#            label=r'G19', weights=np.repeat(1 / len(hc_g), len(hc_g)), linewidth=2, fill=True, alpha=.2, hatch='.')\n",
    "# ax[2].hist(np.log10(hc_g), histtype='step', bins=bins, density=False, color=cs[2], linestyle='--',\n",
    "#            label=r'G19', weights=np.repeat(1 / len(hc_g), len(hc_g)), linewidth=2)\n",
    "\n",
    "ax[2].hist(np.log10(hc[-1, -1, -1, :]), histtype='step', bins=bins, density=False, color=cs[0], linestyle='-',\n",
    "           label=r'AGN-proxy  - KH13', weights=np.repeat(1 / len(hc[-1, -1, -1, :]), len(hc[-1, -1, -1, :])), linewidth=2,\n",
    "           fill=True, alpha=.2, hatch='/')\n",
    "ax[2].hist(np.log10(hc[-1, -1, -1, :]), histtype='step', bins=bins, density=False, color=cs[0], linestyle='-',\n",
    "           label=r'AGN-proxy  - KH13', weights=np.repeat(1 / len(hc[-1, -1, -1, :]), len(hc[-1, -1, -1, :])), linewidth=2)\n",
    "\n",
    "# ax[2].annotate(r'S13',\n",
    "#                xy=(log_sesana_min - .3, .49))\n",
    "# ax[2].errorbar(log_hc_mid, 0.45,\n",
    "#              xerr=[[log_hc_l],\n",
    "#                    [log_hc_h]],\n",
    "#              capsize=4, color=cs[0])\n",
    "# ax[2].annotate(r'This Work',\n",
    "#                xy=(log_hc_min - .75, .44))\n",
    "\n",
    "ax[2].axvline(np.log10(1.9e-15), color='k', linestyle='--')\n",
    "ax[2].annotate(r'NANOGrav 12.5-yr',\n",
    "               xy=(np.log10(1.9e-15) + .03, .4), xytext=(3, 3),\n",
    "               textcoords=\"offset points\", rotation_mode='anchor', rotation=-90)\n",
    "ax[2].set_xlabel(r'$\\log h_{c}$', fontsize=label_fsize)\n",
    "ax[2].set_ylabel(r'$P(h_{c})$', fontsize=label_fsize)\n",
    "ax[2].set_xlim(left=-17, right=-14)\n",
    "ax[2].set_ylim(top=.5)\n",
    "# ax[2].legend([m1, m2, (s1, s2, s3)], ['This Work', 'G19', 'S13 Realizations'], numpoints=1,\n",
    "#              handler_map={tuple: HandlerTupleVertical(ndivide=None)}, frameon=False, loc='upper left', fontsize=legend_fsize)\n",
    "ax[2].legend([m1, (s1, s2, s3)], ['AGN-proxy -- KH13', 'S13 -- KH13'], numpoints=1,\n",
    "             handler_map={tuple: HandlerTupleVertical(ndivide=None)}, frameon=False, loc='upper left', fontsize=legend_fsize)\n",
    "\n",
    "plt.tight_layout()\n",
    "plt.savefig('../reports/figures/model_comparison_kh.pdf')\n",
    "plt.savefig('../reports/figures/model_comparison_kh.png')\n",
    "plt.show()"
   ]
  },
  {
   "cell_type": "code",
   "execution_count": 73,
   "id": "e55de6f7",
   "metadata": {},
   "outputs": [
    {
     "name": "stderr",
     "output_type": "stream",
     "text": [
      "<ipython-input-73-469681a0d175>:56: RuntimeWarning: divide by zero encountered in log10\n",
      "  plt.hist(np.log10(hc[-1, -1, -1, :]), histtype='step', bins=bins, density=False, color=cs[0], linestyle='-',\n",
      "<ipython-input-73-469681a0d175>:59: RuntimeWarning: divide by zero encountered in log10\n",
      "  plt.hist(np.log10(hc[-1, -1, -1, :]), histtype='step', bins=bins, density=False, color=cs[0], linestyle='-',\n"
     ]
    },
    {
     "data": {
      "image/png": "[encoded data removed]",
      "text/plain": [
       "<Figure size 864x648 with 1 Axes>"
      ]
     },
     "metadata": {},
     "output_type": "display_data"
    }
   ],
   "source": [
    "hc_mm_plot = hc_mm[-1, -1, -1, :]\n",
    "\n",
    "log_hc_min = np.floor(10 * np.min(np.log10(np.concatenate((hc_plot[hc_plot != 0], hc_mm_plot[hc_mm_plot != 0]))))) / 10\n",
    "log_hc_max = np.ceil(10 * np.max(np.log10(np.concatenate((hc_plot[hc_plot != 0], hc_mm_plot[hc_mm_plot != 0]))))) / 10\n",
    "\n",
    "bins = np.linspace(log_hc_min, log_hc_max,\n",
    "                   int((log_hc_max - (log_hc_min - .1)) / .1))\n",
    "\n",
    "sesana_min = 3.5e-16\n",
    "sesana_max = 1.5e-15\n",
    "log_sesana_min = np.log10(sesana_min)\n",
    "log_sesana_max = np.log10(sesana_max)\n",
    "log_sesana_mid = np.mean([log_sesana_min, log_sesana_max])\n",
    "log_sesana_h = log_sesana_max - log_sesana_mid\n",
    "log_sesana_l = log_sesana_mid - log_sesana_min\n",
    "\n",
    "log_hc_mid = np.log10(hc_q[1, -1, -1, -1])\n",
    "log_hc_min = np.log10(hc_q[0, -1, -1, -1])\n",
    "log_hc_max = np.log10(hc_q[2, -1, -1, -1])\n",
    "log_hc_h = log_hc_max - log_hc_mid\n",
    "log_hc_l = log_hc_mid - log_hc_min\n",
    "\n",
    "sns.set_context(\"talk\", font_scale=1.8)\n",
    "fig = plt.figure(figsize=(12, 9))\n",
    "\n",
    "label_fsize = 42\n",
    "legend_fsize = 24\n",
    "\n",
    "plt.hist(np.log10(S1_hc[-1, -1, -1, :]), histtype='step', bins=bins,\n",
    "           density=False, color=cs[1], linestyle=':',\n",
    "           weights=np.repeat(1 / len(S1_hc[-1, -1, -1, :]), len(S1_hc[-1, -1, -1, :])),\n",
    "           fill=True, alpha=.2, hatch='\\\\')\n",
    "plt.hist(np.log10(S1_hc[-1, -1, -1, :]), histtype='step', bins=bins,\n",
    "           density=False, color=cs[1], linestyle=':',\n",
    "           label=r'S13: Realization 1',\n",
    "           weights=np.repeat(1 / len(S1_hc[-1, -1, -1, :]), len(S1_hc[-1, -1, -1, :])))\n",
    "\n",
    "plt.hist(np.log10(S2_hc[-1, -1, -1, :]), histtype='step', bins=bins,\n",
    "           density=False, color=cs[1], linestyle='-.',\n",
    "           weights=np.repeat(1 / len(S2_hc[-1, -1, -1, :]), len(S2_hc[-1, -1, -1, :])),\n",
    "           fill=True, alpha=.2, hatch='||')\n",
    "plt.hist(np.log10(S2_hc[-1, -1, -1, :]), histtype='step', bins=bins,\n",
    "           density=False, color=cs[1], linestyle='-.',\n",
    "           label=r'S13: Realization 2',\n",
    "           weights=np.repeat(1 / len(S2_hc[-1, -1, -1, :]), len(S2_hc[-1, -1, -1, :])))\n",
    "\n",
    "plt.hist(np.log10(S3_hc[-1, -1, -1, :]), histtype='step', bins=bins,\n",
    "           density=False, color=cs[1], linestyle=(0, (3, 1, 1, 1, 1, 1)),\n",
    "           weights=np.repeat(1 / len(S3_hc[-1, -1, -1, :]), len(S3_hc[-1, -1, -1, :])),\n",
    "           fill=True, alpha=.2, hatch='-')\n",
    "plt.hist(np.log10(S3_hc[-1, -1, -1, :]), histtype='step', bins=bins,\n",
    "           density=False, color=cs[1], linestyle=(0, (3, 1, 1, 1, 1, 1)),\n",
    "           label=r'S13: Realization 3',\n",
    "           weights=np.repeat(1 / len(S3_hc[-1, -1, -1, :]), len(S3_hc[-1, -1, -1, :])))\n",
    "\n",
    "plt.hist(np.log10(hc[-1, -1, -1, :]), histtype='step', bins=bins, density=False, color=cs[0], linestyle='-',\n",
    "           weights=np.repeat(1 / len(hc[-1, -1, -1, :]), len(hc[-1, -1, -1, :])), linewidth=2,\n",
    "           fill=True, alpha=.2, hatch='/')\n",
    "plt.hist(np.log10(hc[-1, -1, -1, :]), histtype='step', bins=bins, density=False, color=cs[0], linestyle='-',\n",
    "           label=r'AGN-proxy  - KH13', weights=np.repeat(1 / len(hc[-1, -1, -1, :]), len(hc[-1, -1, -1, :])), linewidth=2)\n",
    "\n",
    "plt.axvline(np.log10(1.9e-15), color='k', linestyle='--')\n",
    "plt.annotate(r'NANOGrav 12.5-yr',\n",
    "               xy=(np.log10(1.9e-15) + .03, .4), xytext=(3, 3),\n",
    "               textcoords=\"offset points\", rotation_mode='anchor', rotation=-90)\n",
    "plt.xlabel(r'$\\log h_{c}$', fontsize=label_fsize)\n",
    "plt.ylabel(r'$P(h_{c})$', fontsize=label_fsize)\n",
    "plt.xlim(left=-16, right=-14)\n",
    "# plt.ylim(top=.5)\n",
    "locs, _ = plt.yticks()\n",
    "plt.yticks(locs, [])\n",
    "plt.legend([m1, (s1, s2, s3)], ['AGN-proxy -- KH13', 'S13 -- KH13'], numpoints=1,\n",
    "             handler_map={tuple: HandlerTupleVertical(ndivide=None)}, frameon=False, loc='upper left', fontsize=legend_fsize)\n",
    "\n",
    "plt.tight_layout()\n",
    "plt.savefig('../reports/figures/m_m_bulge_all.pdf')\n",
    "plt.savefig('../reports/figures/m_m_bulge_all.png')\n",
    "plt.show()"
   ]
  },
  {
   "cell_type": "code",
   "execution_count": 74,
   "id": "347254be",
   "metadata": {},
   "outputs": [
    {
     "name": "stderr",
     "output_type": "stream",
     "text": [
      "<ipython-input-74-35097ce141b3>:34: RuntimeWarning: divide by zero encountered in log10\n",
      "  plt.hist(np.log10(hc[-1, -1, -1, :]), histtype='step', bins=bins, density=False, color=cs[3], linestyle='-',\n",
      "<ipython-input-74-35097ce141b3>:37: RuntimeWarning: divide by zero encountered in log10\n",
      "  plt.hist(np.log10(hc[-1, -1, -1, :]), histtype='step', bins=bins, density=False, color=cs[3], linestyle='-',\n"
     ]
    },
    {
     "data": {
      "image/png": "[encoded data removed]",
      "text/plain": [
       "<Figure size 864x648 with 1 Axes>"
      ]
     },
     "metadata": {},
     "output_type": "display_data"
    }
   ],
   "source": [
    "hc_mm_plot = hc_mm[-1, -1, -1, :]\n",
    "\n",
    "log_hc_min = np.floor(10 * np.min(np.log10(np.concatenate((hc_plot[hc_plot != 0], hc_mm_plot[hc_mm_plot != 0]))))) / 10\n",
    "log_hc_max = np.ceil(10 * np.max(np.log10(np.concatenate((hc_plot[hc_plot != 0], hc_mm_plot[hc_mm_plot != 0]))))) / 10\n",
    "\n",
    "bins = np.linspace(log_hc_min, log_hc_max,\n",
    "                   int((log_hc_max - (log_hc_min - .1)) / .1))\n",
    "\n",
    "sesana_min = 3.5e-16\n",
    "sesana_max = 1.5e-15\n",
    "log_sesana_min = np.log10(sesana_min)\n",
    "log_sesana_max = np.log10(sesana_max)\n",
    "log_sesana_mid = np.mean([log_sesana_min, log_sesana_max])\n",
    "log_sesana_h = log_sesana_max - log_sesana_mid\n",
    "log_sesana_l = log_sesana_mid - log_sesana_min\n",
    "\n",
    "log_hc_mid = np.log10(hc_q[1, -1, -1, -1])\n",
    "log_hc_min = np.log10(hc_q[0, -1, -1, -1])\n",
    "log_hc_max = np.log10(hc_q[2, -1, -1, -1])\n",
    "log_hc_h = log_hc_max - log_hc_mid\n",
    "log_hc_l = log_hc_mid - log_hc_min\n",
    "\n",
    "sns.set_context(\"talk\", font_scale=1.8)\n",
    "fig = plt.figure(figsize=(12, 9), constrained_layout=True)\n",
    "\n",
    "label_fsize = 42\n",
    "legend_fsize = 30\n",
    "\n",
    "plt.hist(np.log10(hc_mm[-1, -1, -1, :]), histtype='step', bins=bins, density=False, color=cs[0], linestyle='-',\n",
    "           label=r'MM13', weights=np.repeat(1 / len(hc_mm[-1, -1, -1, :]), len(hc_mm[-1, -1, -1, :])), linewidth=2,\n",
    "           fill=True, alpha=.2, hatch='/')\n",
    "plt.hist(np.log10(hc_mm[-1, -1, -1, :]), histtype='step', bins=bins, density=False, color=cs[0], linestyle='-',\n",
    "         weights=np.repeat(1 / len(hc_mm[-1, -1, -1, :]), len(hc_mm[-1, -1, -1, :])), linewidth=2)\n",
    "plt.hist(np.log10(hc[-1, -1, -1, :]), histtype='step', bins=bins, density=False, color=cs[3], linestyle='-',\n",
    "           label=r'KH13', weights=np.repeat(1 / len(hc[-1, -1, -1, :]), len(hc[-1, -1, -1, :])), linewidth=2,\n",
    "           fill=True, alpha=.2, hatch='\\\\')\n",
    "plt.hist(np.log10(hc[-1, -1, -1, :]), histtype='step', bins=bins, density=False, color=cs[3], linestyle='-',\n",
    "         weights=np.repeat(1 / len(hc[-1, -1, -1, :]), len(hc[-1, -1, -1, :])), linewidth=2)\n",
    "\n",
    "plt.axvline(np.log10(1.9e-15), color='k', linestyle='--')\n",
    "plt.annotate(r'NANOGrav 12.5-yr',\n",
    "               xy=(np.log10(1.9e-15) + .03, .175), xytext=(3, 3),\n",
    "               textcoords=\"offset points\", rotation_mode='anchor', rotation=-90)\n",
    "plt.xlabel(r'$\\log h_{c}$', fontsize=label_fsize)\n",
    "# plt.ylabel(r'$P(h_{c})$', fontsize=label_fsize)\n",
    "plt.xlim(left=-16, right=-14)\n",
    "# plt.ylim(top=.5)\n",
    "locs, _ = plt.yticks()\n",
    "plt.yticks(locs, [])\n",
    "# locs, labels = plt.xticks()\n",
    "# plt.xticks(locs[::2], labels[::2])\n",
    "plt.legend(fontsize=legend_fsize)\n",
    "\n",
    "# plt.tight_layout()\n",
    "plt.savefig('../reports/figures/m_m_bulge_comparison.pdf')\n",
    "plt.savefig('../reports/figures/m_m_bulge_comparison.png')\n",
    "plt.show()"
   ]
  },
  {
   "cell_type": "code",
   "execution_count": 75,
   "id": "66aecb16",
   "metadata": {},
   "outputs": [
    {
     "data": {
      "image/png": "[encoded data removed]",
      "text/plain": [
       "<Figure size 864x648 with 1 Axes>"
      ]
     },
     "metadata": {},
     "output_type": "display_data"
    }
   ],
   "source": [
    "log_hc_min = np.floor(10 * np.min(np.log10(np.concatenate((S1_hc[-1, -1, -1, :], S1_hc_mm[-1, -1, -1, :]))))) / 10\n",
    "log_hc_max = np.ceil(10 * np.max(np.log10(np.concatenate((S1_hc[-1, -1, -1, :], S1_hc_mm[-1, -1, -1, :]))))) / 10\n",
    "\n",
    "bins = np.linspace(log_hc_min, log_hc_max,\n",
    "                   int((log_hc_max - (log_hc_min - .1)) / .1))\n",
    "\n",
    "sesana_min = 3.5e-16\n",
    "sesana_max = 1.5e-15\n",
    "log_sesana_min = np.log10(sesana_min)\n",
    "log_sesana_max = np.log10(sesana_max)\n",
    "log_sesana_mid = np.mean([log_sesana_min, log_sesana_max])\n",
    "log_sesana_h = log_sesana_max - log_sesana_mid\n",
    "log_sesana_l = log_sesana_mid - log_sesana_min\n",
    "\n",
    "log_hc_mid = np.log10(S1_hc_q[1, -1, -1, -1])\n",
    "log_hc_min = np.log10(S1_hc_q[0, -1, -1, -1])\n",
    "log_hc_max = np.log10(S1_hc_q[2, -1, -1, -1])\n",
    "log_hc_h = log_hc_max - log_hc_mid\n",
    "log_hc_l = log_hc_mid - log_hc_min\n",
    "\n",
    "sns.set_context(\"talk\", font_scale=1.8)\n",
    "fig = plt.figure(figsize=(12, 9), constrained_layout=True)\n",
    "\n",
    "label_fsize = 42\n",
    "legend_fsize = 30\n",
    "\n",
    "plt.hist(np.log10(S1_hc_mm[-1, -1, -1, :]), histtype='step', bins=bins, density=False, color=cs[0], linestyle='-',\n",
    "           label=r'MM13', weights=np.repeat(1 / len(S1_hc_mm[-1, -1, -1, :]), len(S1_hc_mm[-1, -1, -1, :])), linewidth=2,\n",
    "           fill=True, alpha=.2, hatch='/')\n",
    "plt.hist(np.log10(S1_hc_mm[-1, -1, -1, :]), histtype='step', bins=bins, density=False, color=cs[0], linestyle='-',\n",
    "         weights=np.repeat(1 / len(S1_hc_mm[-1, -1, -1, :]), len(S1_hc_mm[-1, -1, -1, :])), linewidth=2)\n",
    "plt.hist(np.log10(S1_hc[-1, -1, -1, :]), histtype='step', bins=bins, density=False, color=cs[3], linestyle='-',\n",
    "           label=r'KH13', weights=np.repeat(1 / len(S1_hc[-1, -1, -1, :]), len(S1_hc[-1, -1, -1, :])), linewidth=2,\n",
    "           fill=True, alpha=.2, hatch='\\\\')\n",
    "plt.hist(np.log10(S1_hc[-1, -1, -1, :]), histtype='step', bins=bins, density=False, color=cs[3], linestyle='-',\n",
    "         weights=np.repeat(1 / len(S1_hc[-1, -1, -1, :]), len(S1_hc[-1, -1, -1, :])), linewidth=2)\n",
    "\n",
    "plt.axvline(np.log10(1.9e-15), color='k', linestyle='--')\n",
    "plt.annotate(r'NANOGrav 12.5-yr',\n",
    "               xy=(np.log10(1.9e-15) + .03, .3), xytext=(3, 3),\n",
    "               textcoords=\"offset points\", rotation_mode='anchor', rotation=-90)\n",
    "plt.xlabel(r'$\\log h_{c}$', fontsize=label_fsize)\n",
    "# plt.ylabel(r'$P(h_{c})$', fontsize=label_fsize)\n",
    "plt.xlim(left=-16, right=-14)\n",
    "# plt.ylim(top=.5)\n",
    "locs, _ = plt.yticks()\n",
    "plt.yticks(locs, [])\n",
    "plt.legend(fontsize=legend_fsize)\n",
    "\n",
    "# plt.tight_layout()\n",
    "plt.savefig('../reports/figures/S1_m_m_bulge_comparison.pdf')\n",
    "plt.savefig('../reports/figures/S1_m_m_bulge_comparison.png')\n",
    "plt.show()"
   ]
  },
  {
   "cell_type": "code",
   "execution_count": 76,
   "id": "242e7701",
   "metadata": {},
   "outputs": [
    {
     "ename": "SyntaxError",
     "evalue": "invalid syntax (<ipython-input-76-d1d3a29e3f64>, line 49)",
     "output_type": "error",
     "traceback": [
      "\u001b[0;36m  File \u001b[0;32m\"<ipython-input-76-d1d3a29e3f64>\"\u001b[0;36m, line \u001b[0;32m49\u001b[0m\n\u001b[0;31m    plt.\u001b[0m\n\u001b[0m        ^\u001b[0m\n\u001b[0;31mSyntaxError\u001b[0m\u001b[0;31m:\u001b[0m invalid syntax\n"
     ]
    }
   ],
   "source": [
    "log_hc_min = np.floor(10 * np.min(np.log10(np.concatenate((S2_hc[-1, -1, -1, :], S2_hc_mm[-1, -1, -1, :]))))) / 10\n",
    "log_hc_max = np.ceil(10 * np.max(np.log10(np.concatenate((S2_hc[-1, -1, -1, :], S2_hc_mm[-1, -1, -1, :]))))) / 10\n",
    "\n",
    "bins = np.linspace(log_hc_min, log_hc_max,\n",
    "                   int((log_hc_max - (log_hc_min - .1)) / .1))\n",
    "\n",
    "sesana_min = 3.5e-16\n",
    "sesana_max = 1.5e-15\n",
    "log_sesana_min = np.log10(sesana_min)\n",
    "log_sesana_max = np.log10(sesana_max)\n",
    "log_sesana_mid = np.mean([log_sesana_min, log_sesana_max])\n",
    "log_sesana_h = log_sesana_max - log_sesana_mid\n",
    "log_sesana_l = log_sesana_mid - log_sesana_min\n",
    "\n",
    "log_hc_mid = np.log10(S2_hc_q[1, -1, -1, -1])\n",
    "log_hc_min = np.log10(S2_hc_q[0, -1, -1, -1])\n",
    "log_hc_max = np.log10(S2_hc_q[2, -1, -1, -1])\n",
    "log_hc_h = log_hc_max - log_hc_mid\n",
    "log_hc_l = log_hc_mid - log_hc_min\n",
    "\n",
    "sns.set_context(\"talk\", font_scale=1.8)\n",
    "fig = plt.figure(figsize=(12, 9), constrained_layout=True)\n",
    "\n",
    "label_fsize = 42\n",
    "legend_fsize = 30\n",
    "\n",
    "plt.hist(np.log10(S2_hc_mm[-1, -1, -1, :]), histtype='step', bins=bins, density=False, color=cs[0], linestyle='-',\n",
    "           label=r'MM13', weights=np.repeat(1 / len(S2_hc_mm[-1, -1, -1, :]), len(S2_hc_mm[-1, -1, -1, :])), linewidth=2,\n",
    "           fill=True, alpha=.2, hatch='/')\n",
    "plt.hist(np.log10(S2_hc_mm[-1, -1, -1, :]), histtype='step', bins=bins, density=False, color=cs[0], linestyle='-',\n",
    "         weights=np.repeat(1 / len(S2_hc_mm[-1, -1, -1, :]), len(S2_hc_mm[-1, -1, -1, :])), linewidth=2)\n",
    "plt.hist(np.log10(S2_hc[-1, -1, -1, :]), histtype='step', bins=bins, density=False, color=cs[3], linestyle='-',\n",
    "           label=r'KH13', weights=np.repeat(1 / len(S1_hc[-1, -1, -1, :]), len(S1_hc[-1, -1, -1, :])), linewidth=2,\n",
    "           fill=True, alpha=.2, hatch='\\\\')\n",
    "plt.hist(np.log10(S2_hc[-1, -1, -1, :]), histtype='step', bins=bins, density=False, color=cs[3], linestyle='-',\n",
    "         weights=np.repeat(1 / len(S2_hc[-1, -1, -1, :]), len(S2_hc[-1, -1, -1, :])), linewidth=2)\n",
    "\n",
    "plt.axvline(np.log10(1.9e-15), color='k', linestyle='--')\n",
    "plt.annotate(r'NANOGrav 12.5-yr',\n",
    "               xy=(np.log10(1.9e-15) + .03, .3), xytext=(3, 3),\n",
    "               textcoords=\"offset points\", rotation_mode='anchor', rotation=-90)\n",
    "plt.xlabel(r'$\\log h_{c}$', fontsize=label_fsize)\n",
    "# plt.ylabel(r'$P(h_{c})$', fontsize=label_fsize)\n",
    "plt.xlim(left=-16, right=-14)\n",
    "# plt.ylim(top=.5)\n",
    "locs, _ = plt.yticks()\n",
    "plt.yticks(locs, [])\n",
    "plt.legend(fontsize=legend_fsize)\n",
    "plt.\n",
    "\n",
    "# plt.tight_layout()\n",
    "plt.savefig('../reports/figures/S2_m_m_bulge_comparison.pdf')\n",
    "plt.savefig('../reports/figures/S2_m_m_bulge_comparison.png')\n",
    "plt.show()"
   ]
  },
  {
   "cell_type": "code",
   "execution_count": null,
   "id": "e50ce2ec",
   "metadata": {},
   "outputs": [],
   "source": [
    "log_hc_min = np.floor(10 * np.min(np.log10(np.concatenate((S3_hc[-1, -1, -1, :], S3_hc_mm[-1, -1, -1, :]))))) / 10\n",
    "log_hc_max = np.ceil(10 * np.max(np.log10(np.concatenate((S3_hc[-1, -1, -1, :], S3_hc_mm[-1, -1, -1, :]))))) / 10\n",
    "\n",
    "bins = np.linspace(log_hc_min, log_hc_max,\n",
    "                   int((log_hc_max - (log_hc_min - .1)) / .1))\n",
    "\n",
    "sesana_min = 3.5e-16\n",
    "sesana_max = 1.5e-15\n",
    "log_sesana_min = np.log10(sesana_min)\n",
    "log_sesana_max = np.log10(sesana_max)\n",
    "log_sesana_mid = np.mean([log_sesana_min, log_sesana_max])\n",
    "log_sesana_h = log_sesana_max - log_sesana_mid\n",
    "log_sesana_l = log_sesana_mid - log_sesana_min\n",
    "\n",
    "log_hc_mid = np.log10(S3_hc_q[1, -1, -1, -1])\n",
    "log_hc_min = np.log10(S3_hc_q[0, -1, -1, -1])\n",
    "log_hc_max = np.log10(S3_hc_q[2, -1, -1, -1])\n",
    "log_hc_h = log_hc_max - log_hc_mid\n",
    "log_hc_l = log_hc_mid - log_hc_min\n",
    "\n",
    "sns.set_context(\"talk\", font_scale=1.8)\n",
    "fig = plt.figure(figsize=(12, 9), constrained_layout=True)\n",
    "\n",
    "label_fsize = 42\n",
    "legend_fsize = 30\n",
    "\n",
    "plt.hist(np.log10(S3_hc_mm[-1, -1, -1, :]), histtype='step', bins=bins, density=False, color=cs[0], linestyle='-',\n",
    "           label=r'MM13', weights=np.repeat(1 / len(S3_hc_mm[-1, -1, -1, :]), len(S3_hc_mm[-1, -1, -1, :])), linewidth=2,\n",
    "           fill=True, alpha=.2, hatch='/')\n",
    "plt.hist(np.log10(S3_hc_mm[-1, -1, -1, :]), histtype='step', bins=bins, density=False, color=cs[0], linestyle='-',\n",
    "         weights=np.repeat(1 / len(S3_hc_mm[-1, -1, -1, :]), len(S3_hc_mm[-1, -1, -1, :])), linewidth=2)\n",
    "plt.hist(np.log10(S3_hc[-1, -1, -1, :]), histtype='step', bins=bins, density=False, color=cs[3], linestyle='-',\n",
    "           label=r'KH13', weights=np.repeat(1 / len(S3_hc[-1, -1, -1, :]), len(S3_hc[-1, -1, -1, :])), linewidth=2,\n",
    "           fill=True, alpha=.2, hatch='\\\\')\n",
    "plt.hist(np.log10(S3_hc[-1, -1, -1, :]), histtype='step', bins=bins, density=False, color=cs[3], linestyle='-',\n",
    "         weights=np.repeat(1 / len(S3_hc[-1, -1, -1, :]), len(S3_hc[-1, -1, -1, :])), linewidth=2)\n",
    "\n",
    "plt.axvline(np.log10(1.9e-15), color='k', linestyle='--')\n",
    "plt.annotate(r'NANOGrav 12.5-yr',\n",
    "               xy=(np.log10(1.9e-15) + .03, .3), xytext=(3, 3),\n",
    "               textcoords=\"offset points\", rotation_mode='anchor', rotation=-90)\n",
    "plt.xlabel(r'$\\log h_{c}$', fontsize=label_fsize)\n",
    "# plt.ylabel(r'$P(h_{c})$', fontsize=label_fsize)\n",
    "plt.xlim(left=-16, right=-14)\n",
    "# plt.ylim(top=.5)\n",
    "locs, _ = plt.yticks()\n",
    "plt.yticks(locs, [])\n",
    "plt.legend(fontsize=legend_fsize)\n",
    "\n",
    "# plt.tight_layout()\n",
    "plt.savefig('../reports/figures/S3_m_m_bulge_comparison.pdf')\n",
    "plt.savefig('../reports/figures/S3_m_m_bulge_comparison.png')\n",
    "plt.show()"
   ]
  },
  {
   "cell_type": "code",
   "execution_count": null,
   "id": "efcce8c9",
   "metadata": {},
   "outputs": [],
   "source": []
  }
 ],
 "metadata": {
  "kernelspec": {
   "display_name": "Python 3",
   "language": "python",
   "name": "python3"
  },
  "language_info": {
   "codemirror_mode": {
    "name": "ipython",
    "version": 3
   },
   "file_extension": ".py",
   "mimetype": "text/x-python",
   "name": "python",
   "nbconvert_exporter": "python",
   "pygments_lexer": "ipython3",
   "version": "3.9.2"
  }
 },
 "nbformat": 4,
 "nbformat_minor": 5
}
