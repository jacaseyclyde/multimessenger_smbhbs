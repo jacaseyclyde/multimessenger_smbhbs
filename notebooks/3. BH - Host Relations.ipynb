{
 "cells": [
  {
   "cell_type": "code",
   "execution_count": 1,
   "id": "2e3e0cfc",
   "metadata": {},
   "outputs": [
    {
     "name": "stderr",
     "output_type": "stream",
     "text": [
      "<ipython-input-1-a88728b5fd9d>:30: TqdmExperimentalWarning: Using `tqdm.autonotebook.tqdm` in notebook mode. Use `tqdm.tqdm` instead to force console mode (e.g. in jupyter console)\n",
      "  from tqdm.autonotebook import tqdm\n"
     ]
    }
   ],
   "source": [
    "# OPTIONAL: Load the \"autoreload\" extension so that code can change\n",
    "%load_ext autoreload\n",
    "\n",
    "# OPTIONAL: always reload modules so that as you change code in src, it gets loaded\n",
    "%autoreload 2\n",
    "import os\n",
    "import sys\n",
    "module_path = os.path.abspath(os.path.join('..'))\n",
    "if module_path not in sys.path:\n",
    "    sys.path.append(module_path)\n",
    "\n",
    "import multiprocessing as mp\n",
    "import numpy as np\n",
    "import pandas as pd\n",
    "import pickle\n",
    "import h5py\n",
    "from IPython.display import display, Math\n",
    "\n",
    "from scipy.integrate import trapz, cumtrapz\n",
    "from scipy.interpolate import UnivariateSpline\n",
    "from scipy.stats import lognorm, truncnorm, rv_continuous\n",
    "\n",
    "import astropy.constants as const\n",
    "import astropy.units as u\n",
    "import astropy.uncertainty as unc\n",
    "from astropy.cosmology import WMAP9, z_at_value\n",
    "from astropy.modeling.functional_models import Linear1D, Const1D, Shift, Gaussian1D\n",
    "from astropy.modeling.tabular import Tabular1D\n",
    "\n",
    "from tqdm.autonotebook import tqdm\n",
    "\n",
    "from src.models.agn_proxy import (Hopkins2007QuasarFormationDensity,\n",
    "                                  LogNormal1D, Const3D, QuasarProxyBinaries,\n",
    "                                  ModifiedSchechter)\n",
    "from src.models.major_merger import (Schechter1D, Schechter2D,\n",
    "                                     DoubleSchechter2D, TripleSchechter2D,\n",
    "                                     PairFraction3D, PairFraction3D_3bins,\n",
    "                                     Timescale3D, Sesana2013_Schechter,\n",
    "                                     Sesana2013_DoubleSchechter,\n",
    "                                     Sesana2013_TripleSchechter)"
   ]
  },
  {
   "cell_type": "code",
   "execution_count": 2,
   "id": "0ac9dc6f",
   "metadata": {},
   "outputs": [
    {
     "data": {
      "text/plain": [
       "(1024, 32)"
      ]
     },
     "execution_count": 2,
     "metadata": {},
     "output_type": "execute_result"
    }
   ],
   "source": [
    "# Global variables\n",
    "n_samples = int(2 ** 10)\n",
    "n_mesh = int(2 ** 5)\n",
    "n_samples, n_mesh"
   ]
  },
  {
   "cell_type": "code",
   "execution_count": 3,
   "id": "431df3ac",
   "metadata": {},
   "outputs": [],
   "source": [
    "def trunc_norm_dist(a=0, b=np.inf, loc=0, scale=1, size=n_samples):\n",
    "    return truncnorm.rvs(a=(a - loc) / scale, b=(b - loc) / scale,\n",
    "                                          loc=loc, scale=scale,\n",
    "                                          size=size)"
   ]
  },
  {
   "cell_type": "markdown",
   "id": "91fc5468",
   "metadata": {},
   "source": [
    "# Parameter space"
   ]
  },
  {
   "cell_type": "code",
   "execution_count": 4,
   "id": "029c8d3b",
   "metadata": {},
   "outputs": [],
   "source": [
    "log_m_bh_min = 7\n",
    "log_m_bh_max = 10\n",
    "\n",
    "z_min = 0\n",
    "z_max = 3\n",
    "\n",
    "q_min = 0.25\n",
    "q_max = 1"
   ]
  },
  {
   "cell_type": "markdown",
   "id": "f5518a0b",
   "metadata": {},
   "source": [
    "## Fiducial values"
   ]
  },
  {
   "cell_type": "code",
   "execution_count": 5,
   "id": "555adf85",
   "metadata": {},
   "outputs": [],
   "source": [
    "fidhz = (1 / u.yr).to(u.Hz)"
   ]
  },
  {
   "cell_type": "markdown",
   "id": "4dc4906b",
   "metadata": {},
   "source": [
    "# Load data"
   ]
  },
  {
   "cell_type": "markdown",
   "id": "819763cb",
   "metadata": {},
   "source": [
    "## AGN-based model"
   ]
  },
  {
   "cell_type": "code",
   "execution_count": 6,
   "id": "98b16d7c",
   "metadata": {},
   "outputs": [],
   "source": [
    "with h5py.File('../data/processed/agn_proxy.h5', 'r') as hf:\n",
    "    log_m_bh_range = hf['log_m_bh_range'][:]\n",
    "    z_range = hf['z_range'][:]\n",
    "    q_range = hf['q_range'][:]\n",
    "    hc_mm = hf['characteristic_strain'][:]"
   ]
  },
  {
   "cell_type": "markdown",
   "id": "7504b3e6",
   "metadata": {},
   "source": [
    "## S1"
   ]
  },
  {
   "cell_type": "code",
   "execution_count": 7,
   "id": "5eeb2d69",
   "metadata": {},
   "outputs": [],
   "source": [
    "# the mass and the mass ratio ranges for all models are shared, so we will only load them once\n",
    "with h5py.File('../data/processed/S1.h5', 'r') as hf:\n",
    "    z_range_borch = hf['z_range'][:]\n",
    "    S1_hc_mm = hf['characteristic_strain'][:]"
   ]
  },
  {
   "cell_type": "markdown",
   "id": "e00d770d",
   "metadata": {},
   "source": [
    "## S2"
   ]
  },
  {
   "cell_type": "code",
   "execution_count": 8,
   "id": "e8ec5813",
   "metadata": {},
   "outputs": [],
   "source": [
    "with h5py.File('../data/processed/S2.h5', 'r') as hf:\n",
    "    z_range_drory = hf['z_range'][:]\n",
    "    S2_hc_mm = hf['characteristic_strain'][:]"
   ]
  },
  {
   "cell_type": "markdown",
   "id": "834a1e6b",
   "metadata": {},
   "source": [
    "## S3"
   ]
  },
  {
   "cell_type": "code",
   "execution_count": 9,
   "id": "374eb922",
   "metadata": {},
   "outputs": [],
   "source": [
    "with h5py.File('../data/processed/S3.h5', 'r') as hf:\n",
    "    z_range_ilbert = hf['z_range'][:]\n",
    "    S3_hc_mm = hf['characteristic_strain'][:]"
   ]
  },
  {
   "cell_type": "markdown",
   "id": "84d4affe",
   "metadata": {},
   "source": [
    "# Load Models"
   ]
  },
  {
   "cell_type": "markdown",
   "id": "2ef054f0",
   "metadata": {
    "toc-hr-collapsed": true
   },
   "source": [
    "#### Cappellari (2013)"
   ]
  },
  {
   "cell_type": "code",
   "execution_count": 10,
   "id": "f8961f08",
   "metadata": {},
   "outputs": [
    {
     "name": "stdout",
     "output_type": "stream",
     "text": [
      "Model: Linear1D\n",
      "Inputs: ('x',)\n",
      "Outputs: ('y',)\n",
      "Model set size: 1024\n",
      "Parameters:\n",
      "           slope              intercept      \n",
      "    -------------------- --------------------\n",
      "     -0.4444520837775698  0.36104566936047533\n",
      "    -0.45297211554560796   0.1673218692597338\n",
      "    -0.44656258171947394  0.32211912707397694\n",
      "    -0.44354275924798925  0.38591660959831664\n",
      "     -0.4363015749890167   0.5451953788684101\n",
      "     -0.4460172928488644     0.32757488770579\n",
      "    -0.46427425419950674 -0.08522350565085013\n",
      "    -0.44963671106856606  0.25803634444921997\n",
      "    -0.43726532325970363   0.5349468578164984\n",
      "      -0.456056481384277   0.0895230453698801\n",
      "                     ...                  ...\n",
      "     -0.4459129384193724   0.3217621442932703\n",
      "    -0.44632117805135757   0.3251362577511827\n",
      "      -0.441896414321473  0.43205925356262753\n",
      "    -0.44408185406503914  0.36868673488621795\n",
      "    -0.43573814709430886   0.5581214045001204\n",
      "     -0.4490461478463151   0.2451564445154446\n",
      "     -0.4378995715184806   0.5158573626906584\n",
      "    -0.45648253771090186  0.09058818983647221\n",
      "    -0.44766567419672443    0.281245272677614\n",
      "     -0.4620823007023435 -0.03835748137605144\n",
      "    -0.43692851272839445   0.5320297903214097\n",
      "    Length = 1024 rows\n"
     ]
    }
   ],
   "source": [
    "with open('../models/Cappellari2013_mgal_mk_relation.pkl', 'rb') as f:\n",
    "    cappellari_mgal_k = pickle.load(f)\n",
    "\n",
    "print(cappellari_mgal_k)"
   ]
  },
  {
   "cell_type": "markdown",
   "id": "f87be92e",
   "metadata": {
    "toc-hr-collapsed": true
   },
   "source": [
    "#### Kormendy & Ho (2013)"
   ]
  },
  {
   "cell_type": "markdown",
   "id": "c475c7be",
   "metadata": {},
   "source": [
    "##### $M - M_{\\rm{bulge}}$ model parameters"
   ]
  },
  {
   "cell_type": "code",
   "execution_count": 11,
   "id": "604932e4",
   "metadata": {},
   "outputs": [],
   "source": [
    "alpha_kormendy_ho = 9 + unc.normal(np.log10(.49), std=.05, n_samples=n_samples).distribution\n",
    "beta_kormendy_ho = unc.normal(1.17, std=.08, n_samples=n_samples).distribution\n",
    "intrinsic_disp_kormendy_ho = np.random.normal(scale=.28, size=n_samples)"
   ]
  },
  {
   "cell_type": "markdown",
   "id": "4c3ce893",
   "metadata": {},
   "source": [
    "##### $M - M_{\\rm{bulge}}$ model"
   ]
  },
  {
   "cell_type": "markdown",
   "id": "151cb504",
   "metadata": {},
   "source": [
    "Scaled to $M_{\\rm{bulge}} / 10^{11}\\;\\rm{M}_{\\odot}$"
   ]
  },
  {
   "cell_type": "code",
   "execution_count": 12,
   "id": "92d720c6",
   "metadata": {},
   "outputs": [],
   "source": [
    "mm_intercept = alpha_kormendy_ho - (beta_kormendy_ho * 11)\n",
    "mm_slope = beta_kormendy_ho\n",
    "kormendy_ho_m_mbulge = Linear1D(slope=mm_slope,\n",
    "                                intercept=mm_intercept,\n",
    "                                n_models=n_samples)"
   ]
  },
  {
   "cell_type": "code",
   "execution_count": 13,
   "id": "37ebf272",
   "metadata": {},
   "outputs": [
    {
     "name": "stdout",
     "output_type": "stream",
     "text": [
      "Model: Linear1D\n",
      "Inputs: ('x',)\n",
      "Outputs: ('y',)\n",
      "Model set size: 1024\n",
      "Parameters:\n",
      "          slope             intercept     \n",
      "    ------------------ -------------------\n",
      "    1.2150935059745158  -4.592867072651519\n",
      "    1.1431827514872601  -3.855890194042873\n",
      "    1.2118681459383018  -4.617934566569051\n",
      "    1.1044094768416584  -3.504842435529582\n",
      "    1.2854619366444928  -5.537059537070228\n",
      "    1.2647748655755358  -5.298332485641682\n",
      "    1.1193763534646537 -3.6449906316928757\n",
      "    1.2359603654721303   -4.91118520230286\n",
      "    1.1985546781409382  -4.470161878784909\n",
      "    1.0681555312610855  -3.064352516032937\n",
      "                   ...                 ...\n",
      "    1.1066375670145618    -3.4958056781451\n",
      "    1.1886918905778698  -4.306638812322763\n",
      "    1.1134166447782108  -3.517468055114586\n",
      "    1.1193912568494098 -3.5970186096727446\n",
      "     1.326782038272219 -5.8875922212849705\n",
      "     1.239517776594929  -4.940510441952375\n",
      "    1.2341692943939797   -4.88945792364099\n",
      "    0.9642039411658884  -1.937018593939884\n",
      "     1.134993279025531  -3.797226957998042\n",
      "    1.3301523321412738  -5.926637754745816\n",
      "    1.2148289498710902  -4.608936160983394\n",
      "    Length = 1024 rows\n"
     ]
    }
   ],
   "source": [
    "print(kormendy_ho_m_mbulge)\n",
    "with open('../models/KormendyHo2013_mbh_mbulge_relation.pkl', 'wb') as f:\n",
    "    pickle.dump(kormendy_ho_m_mbulge, f)"
   ]
  },
  {
   "cell_type": "markdown",
   "id": "cc814fe9",
   "metadata": {},
   "source": [
    "### AGN-based model"
   ]
  },
  {
   "cell_type": "markdown",
   "id": "99e28456",
   "metadata": {},
   "source": [
    "#### $M_{\\rm{BH}} - M_{\\rm{K}}$"
   ]
  },
  {
   "cell_type": "code",
   "execution_count": 14,
   "id": "d6949761",
   "metadata": {},
   "outputs": [],
   "source": [
    "log_m_bh_m_k = cappellari_mgal_k | kormendy_ho_m_mbulge"
   ]
  },
  {
   "cell_type": "markdown",
   "id": "d25e578d",
   "metadata": {
    "toc-hr-collapsed": true
   },
   "source": [
    "#### Mingarelli+ (2017)"
   ]
  },
  {
   "cell_type": "markdown",
   "id": "4b7352ac",
   "metadata": {},
   "source": [
    "##### Mass ratio range"
   ]
  },
  {
   "cell_type": "code",
   "execution_count": 15,
   "id": "fbf80a0d",
   "metadata": {},
   "outputs": [],
   "source": [
    "q_min_mingarelli = .25\n",
    "q_max_mingarelli = 1"
   ]
  },
  {
   "cell_type": "markdown",
   "id": "3dfd023d",
   "metadata": {},
   "source": [
    "##### Mass ranges"
   ]
  },
  {
   "cell_type": "code",
   "execution_count": 16,
   "id": "e90bd98e",
   "metadata": {},
   "outputs": [
    {
     "data": {
      "text/html": [
       "<div>\n",
       "<style scoped>\n",
       "    .dataframe tbody tr th:only-of-type {\n",
       "        vertical-align: middle;\n",
       "    }\n",
       "\n",
       "    .dataframe tbody tr th {\n",
       "        vertical-align: top;\n",
       "    }\n",
       "\n",
       "    .dataframe thead th {\n",
       "        text-align: right;\n",
       "    }\n",
       "</style>\n",
       "<table border=\"1\" class=\"dataframe\">\n",
       "  <thead>\n",
       "    <tr style=\"text-align: right;\">\n",
       "      <th></th>\n",
       "      <th>RA</th>\n",
       "      <th>DEC</th>\n",
       "      <th>D_L(Mpc)</th>\n",
       "      <th>Kmag</th>\n",
       "      <th>Name</th>\n",
       "    </tr>\n",
       "  </thead>\n",
       "  <tbody>\n",
       "    <tr>\n",
       "      <th>0</th>\n",
       "      <td>189.998</td>\n",
       "      <td>-11.623</td>\n",
       "      <td>14.63</td>\n",
       "      <td>-25.88</td>\n",
       "      <td>NGC4594</td>\n",
       "    </tr>\n",
       "    <tr>\n",
       "      <th>1</th>\n",
       "      <td>187.445</td>\n",
       "      <td>8.000</td>\n",
       "      <td>20.78</td>\n",
       "      <td>-26.20</td>\n",
       "      <td>NGC4472</td>\n",
       "    </tr>\n",
       "    <tr>\n",
       "      <th>2</th>\n",
       "      <td>50.674</td>\n",
       "      <td>-37.208</td>\n",
       "      <td>19.76</td>\n",
       "      <td>-25.90</td>\n",
       "      <td>NGC1316</td>\n",
       "    </tr>\n",
       "    <tr>\n",
       "      <th>3</th>\n",
       "      <td>190.917</td>\n",
       "      <td>11.553</td>\n",
       "      <td>20.78</td>\n",
       "      <td>-25.86</td>\n",
       "      <td>NGC4649</td>\n",
       "    </tr>\n",
       "    <tr>\n",
       "      <th>4</th>\n",
       "      <td>187.706</td>\n",
       "      <td>12.391</td>\n",
       "      <td>20.78</td>\n",
       "      <td>-25.78</td>\n",
       "      <td>NGC4486</td>\n",
       "    </tr>\n",
       "    <tr>\n",
       "      <th>...</th>\n",
       "      <td>...</td>\n",
       "      <td>...</td>\n",
       "      <td>...</td>\n",
       "      <td>...</td>\n",
       "      <td>...</td>\n",
       "    </tr>\n",
       "    <tr>\n",
       "      <th>5105</th>\n",
       "      <td>214.458</td>\n",
       "      <td>0.511</td>\n",
       "      <td>223.09</td>\n",
       "      <td>-25.11</td>\n",
       "      <td>PGC051063</td>\n",
       "    </tr>\n",
       "    <tr>\n",
       "      <th>5106</th>\n",
       "      <td>64.351</td>\n",
       "      <td>-37.282</td>\n",
       "      <td>216.26</td>\n",
       "      <td>-25.05</td>\n",
       "      <td>PGC014806</td>\n",
       "    </tr>\n",
       "    <tr>\n",
       "      <th>5107</th>\n",
       "      <td>123.188</td>\n",
       "      <td>11.632</td>\n",
       "      <td>223.76</td>\n",
       "      <td>-25.13</td>\n",
       "      <td>PGC1396460</td>\n",
       "    </tr>\n",
       "    <tr>\n",
       "      <th>5108</th>\n",
       "      <td>206.159</td>\n",
       "      <td>21.093</td>\n",
       "      <td>218.77</td>\n",
       "      <td>-25.30</td>\n",
       "      <td>PGC3089894</td>\n",
       "    </tr>\n",
       "    <tr>\n",
       "      <th>5109</th>\n",
       "      <td>270.047</td>\n",
       "      <td>48.654</td>\n",
       "      <td>218.26</td>\n",
       "      <td>-25.41</td>\n",
       "      <td>PGC2322449</td>\n",
       "    </tr>\n",
       "  </tbody>\n",
       "</table>\n",
       "<p>5110 rows × 5 columns</p>\n",
       "</div>"
      ],
      "text/plain": [
       "           RA     DEC  D_L(Mpc)   Kmag        Name\n",
       "0     189.998 -11.623     14.63 -25.88     NGC4594\n",
       "1     187.445   8.000     20.78 -26.20     NGC4472\n",
       "2      50.674 -37.208     19.76 -25.90     NGC1316\n",
       "3     190.917  11.553     20.78 -25.86     NGC4649\n",
       "4     187.706  12.391     20.78 -25.78     NGC4486\n",
       "...       ...     ...       ...    ...         ...\n",
       "5105  214.458   0.511    223.09 -25.11   PGC051063\n",
       "5106   64.351 -37.282    216.26 -25.05   PGC014806\n",
       "5107  123.188  11.632    223.76 -25.13  PGC1396460\n",
       "5108  206.159  21.093    218.77 -25.30  PGC3089894\n",
       "5109  270.047  48.654    218.26 -25.41  PGC2322449\n",
       "\n",
       "[5110 rows x 5 columns]"
      ]
     },
     "execution_count": 16,
     "metadata": {},
     "output_type": "execute_result"
    }
   ],
   "source": [
    "galaxies = pd.read_csv('../data/external/25/added_mks.lst', delimiter='\\s+',\n",
    "                       usecols=[0, 1, 2, 3, 4], index_col=False)\n",
    "galaxies = galaxies.append(pd.read_csv('../data/external/25/schutzMa_extension.txt',\n",
    "                                       delimiter='\\s+',\n",
    "                                       usecols=[0, 1, 2, 3, 4],\n",
    "                                       index_col=False))\n",
    "catalog = pd.read_csv('../data/external/25/2mass_galaxies.lst', delimiter='\\s+',\n",
    "                      usecols=[1, 2, 3, 4, 5], index_col=False,\n",
    "                      names=['RA', 'DEC', 'D_L(Mpc)', 'Kmag', 'Name'])\n",
    "catalog"
   ]
  },
  {
   "cell_type": "code",
   "execution_count": 17,
   "id": "a4571a47",
   "metadata": {},
   "outputs": [
    {
     "data": {
      "text/latex": [
       "$\\displaystyle \\log M_{\\rm{BHB, min, M17}} = 8.93$"
      ],
      "text/plain": [
       "<IPython.core.display.Math object>"
      ]
     },
     "metadata": {},
     "output_type": "display_data"
    },
    {
     "data": {
      "text/latex": [
       "$\\displaystyle \\log M_{\\rm{BHB, max, M17}} = 10.63$"
      ],
      "text/plain": [
       "<IPython.core.display.Math object>"
      ]
     },
     "metadata": {},
     "output_type": "display_data"
    }
   ],
   "source": [
    "log_m_bhb_mingarelli = np.array([log_m_bh_m_k(Mk) for Mk in catalog['Kmag']])\n",
    "log_m_bhb_mingarelli = np.random.normal(log_m_bhb_mingarelli, .28)\n",
    "log_m_bhb_mingarelli_q = np.quantile(log_m_bhb_mingarelli, q=[.16, .5, .84], axis=1)\n",
    "log_m_bhb_mingarelli_max = np.max(log_m_bhb_mingarelli_q)\n",
    "log_m_bhb_mingarelli_min = np.min(log_m_bhb_mingarelli_q)\n",
    "display(Math(r'\\log M_{{\\rm{{BHB, min, M17}}}} = {0:.2f}'\n",
    "             .format(log_m_bhb_mingarelli_min)))\n",
    "display(Math(r'\\log M_{{\\rm{{BHB, max, M17}}}} = {0:.2f}'\n",
    "             .format(log_m_bhb_mingarelli_max)))"
   ]
  },
  {
   "cell_type": "code",
   "execution_count": 18,
   "id": "f88df77e",
   "metadata": {},
   "outputs": [
    {
     "data": {
      "text/latex": [
       "$\\displaystyle \\log M_{\\rm{BH, min, M17}} = 8.83$"
      ],
      "text/plain": [
       "<IPython.core.display.Math object>"
      ]
     },
     "metadata": {},
     "output_type": "display_data"
    },
    {
     "data": {
      "text/latex": [
       "$\\displaystyle \\log M_{\\rm{BH, max, M17}} = 10.33$"
      ],
      "text/plain": [
       "<IPython.core.display.Math object>"
      ]
     },
     "metadata": {},
     "output_type": "display_data"
    }
   ],
   "source": [
    "log_m_bh_min_mingarelli = log_m_bhb_mingarelli_min - np.log10(1 + q_min_mingarelli)\n",
    "log_m_bh_max_mingarelli = log_m_bhb_mingarelli_max - np.log10(1 + q_max_mingarelli)\n",
    "log_m_bh_max = log_m_bh_max_mingarelli\n",
    "display(Math(r'\\log M_{{\\rm{{BH, min, M17}}}} = {0:.2f}'\n",
    "             .format(log_m_bh_min_mingarelli)))\n",
    "display(Math(r'\\log M_{{\\rm{{BH, max, M17}}}} = {0:.2f}'\n",
    "             .format(log_m_bh_max_mingarelli)))"
   ]
  },
  {
   "cell_type": "markdown",
   "id": "805b2da2",
   "metadata": {
    "toc-hr-collapsed": true
   },
   "source": [
    "#### $q$ Distribution"
   ]
  },
  {
   "cell_type": "code",
   "execution_count": 19,
   "id": "cae90197",
   "metadata": {},
   "outputs": [
    {
     "name": "stdout",
     "output_type": "stream",
     "text": [
      "Model: LogNormal1D\n",
      "Inputs: ('x',)\n",
      "Outputs: ('y',)\n",
      "Model set size: 1024\n",
      "Parameters:\n",
      "     mu  std\n",
      "    ---- ---\n",
      "    0.25 0.5\n",
      "    0.25 0.5\n",
      "    0.25 0.5\n",
      "    0.25 0.5\n",
      "    0.25 0.5\n",
      "    0.25 0.5\n",
      "    0.25 0.5\n",
      "    0.25 0.5\n",
      "    0.25 0.5\n",
      "    0.25 0.5\n",
      "     ... ...\n",
      "    0.25 0.5\n",
      "    0.25 0.5\n",
      "    0.25 0.5\n",
      "    0.25 0.5\n",
      "    0.25 0.5\n",
      "    0.25 0.5\n",
      "    0.25 0.5\n",
      "    0.25 0.5\n",
      "    0.25 0.5\n",
      "    0.25 0.5\n",
      "    0.25 0.5\n",
      "    Length = 1024 rows\n"
     ]
    }
   ],
   "source": [
    "with open('../models/q_distrib.pkl', 'rb') as f:\n",
    "    q_distrib = pickle.load(f)\n",
    "\n",
    "print(q_distrib)"
   ]
  },
  {
   "cell_type": "markdown",
   "id": "0bf2c1e6",
   "metadata": {
    "toc-hr-collapsed": true
   },
   "source": [
    "#### Hopkins+ (2007)"
   ]
  },
  {
   "cell_type": "code",
   "execution_count": 20,
   "id": "9d3f2300",
   "metadata": {},
   "outputs": [
    {
     "name": "stdout",
     "output_type": "stream",
     "text": [
      "Model: Hopkins2007QuasarFormationDensity\n",
      "Inputs: ('x', 'y')\n",
      "Outputs: ('z',)\n",
      "Model set size: 1024\n",
      "Parameters:\n",
      "    log_formation_rate_normalization log_formation_rate_power_law_slope ... z_ref\n",
      "    -------------------------------- ---------------------------------- ... -----\n",
      "                 -3.8706674753539114                 -3.320409555031351 ...   2.0\n",
      "                  -3.868777253020271                 -3.604368405004928 ...   2.0\n",
      "                 -3.8576461530211783                -3.7133957783103018 ...   2.0\n",
      "                  -3.887809088171474                 -4.316521515792852 ...   2.0\n",
      "                 -3.8584395349545697                 -4.751340728295823 ...   2.0\n",
      "                  -3.852816466844665                -4.7474847180983994 ...   2.0\n",
      "                 -3.8260117845728554                 -4.277756622107602 ...   2.0\n",
      "                  -3.816794372726403                -4.6281162969603695 ...   2.0\n",
      "                  -3.860469125491751                 -4.230251159693978 ...   2.0\n",
      "                  -3.876593698967177                -3.6223072873640776 ...   2.0\n",
      "                                 ...                                ... ...   ...\n",
      "                  -3.842834653028729                -4.2249015426100796 ...   2.0\n",
      "                 -3.8237577011593498                -3.6816688070663575 ...   2.0\n",
      "                 -3.8298859161331547                 -4.775231604429181 ...   2.0\n",
      "                  -3.814493452179785                 -5.245086140808329 ...   2.0\n",
      "                 -3.7897159617896934                -3.6102410000885143 ...   2.0\n",
      "                 -3.8292786022529417                -3.9245054564670703 ...   2.0\n",
      "                 -3.8178869857678865                 -4.098958473861564 ...   2.0\n",
      "                  -3.854410405391646                 -4.190039564738954 ...   2.0\n",
      "                  -3.825417460010891                 -3.725051272884247 ...   2.0\n",
      "                 -3.8453349079869494                 -3.617122481117577 ...   2.0\n",
      "                  -3.883060032422064                 -3.902011836374202 ...   2.0\n",
      "    Length = 1024 rows\n"
     ]
    }
   ],
   "source": [
    "with open('../models/Hopkins2007_quasar_formation_rate_binaries.pkl', 'rb') as f:\n",
    "    quasar_formation_rate = pickle.load(f)\n",
    "\n",
    "print(quasar_formation_rate)"
   ]
  },
  {
   "cell_type": "markdown",
   "id": "5499e71c",
   "metadata": {},
   "source": [
    "## Main models"
   ]
  },
  {
   "cell_type": "markdown",
   "id": "4acba70e",
   "metadata": {},
   "source": [
    "### Mingarelli+ 2017 Derived $\\Phi_{\\rm{BHB}, 0}$"
   ]
  },
  {
   "cell_type": "code",
   "execution_count": 21,
   "id": "d0d7825e",
   "metadata": {},
   "outputs": [],
   "source": [
    "N_225 = np.rint(trunc_norm_dist(a=0, b=np.inf, loc=17, scale=6, size=n_samples))  # can't have fractions of a SMBHB\n",
    "distance = 225 * u.Mpc\n",
    "\n",
    "z_225 = z_at_value(WMAP9.angular_diameter_distance, distance, zmax=1.)\n",
    "vol = WMAP9.comoving_volume(z_225).value"
   ]
  },
  {
   "cell_type": "code",
   "execution_count": 22,
   "id": "0f9dd0f0",
   "metadata": {},
   "outputs": [],
   "source": [
    "local_binary_number_density = Const1D(amplitude=N_225/vol, n_models=n_samples)"
   ]
  },
  {
   "cell_type": "code",
   "execution_count": 23,
   "id": "ed63d6cc",
   "metadata": {},
   "outputs": [
    {
     "data": {
      "text/latex": [
       "$\\displaystyle \\phi_{\\rm{BHB}, 0} = (3.0_{-1.1}^{+0.9}) \\times 10^{-7.0}\\;\\rm{Mpc}^{-3}$"
      ],
      "text/plain": [
       "<IPython.core.display.Math object>"
      ]
     },
     "metadata": {},
     "output_type": "display_data"
    }
   ],
   "source": [
    "quantiles = np.quantile(local_binary_number_density(0), q=[.16, .5, .84])\n",
    "order = 10. ** np.floor(np.log10(quantiles[1]))\n",
    "display(Math(r'\\phi_{{\\rm{{BHB}}, 0}} = ({0:.1f}_{{-{1:.1f}}}^{{+{2:.1f}}})'\n",
    "             r' \\times 10^{{{3}}}\\;\\rm{{Mpc}}^{{-3}}'.format(quantiles[1] / order,\n",
    "                                          (quantiles[1] - quantiles[0]) / order,\n",
    "                                          (quantiles[2] - quantiles[1]) / order,\n",
    "                                          np.log10(order))))"
   ]
  },
  {
   "cell_type": "code",
   "execution_count": 24,
   "id": "0fe5d249",
   "metadata": {},
   "outputs": [
    {
     "name": "stdout",
     "output_type": "stream",
     "text": [
      "Model: Const1D\n",
      "Inputs: ('x',)\n",
      "Outputs: ('y',)\n",
      "Model set size: 1024\n",
      "Parameters:\n",
      "          amplitude       \n",
      "    ----------------------\n",
      "     1.425499881172739e-07\n",
      "     3.385562217785255e-07\n",
      "     3.563749702931847e-07\n",
      "    2.6728122771988854e-07\n",
      "    3.0291872474920704e-07\n",
      "    3.2073747326386626e-07\n",
      "    1.6036873663193313e-07\n",
      "    3.0291872474920704e-07\n",
      "    4.4546871286648095e-07\n",
      "      3.74193718807844e-07\n",
      "                       ...\n",
      "    4.6328746138114017e-07\n",
      "     3.563749702931847e-07\n",
      "     2.494624792052293e-07\n",
      "     1.960062336612516e-07\n",
      "    1.6036873663193313e-07\n",
      "     3.385562217785255e-07\n",
      "     1.960062336612516e-07\n",
      "      3.74193718807844e-07\n",
      "     5.345624554397771e-08\n",
      "     1.960062336612516e-07\n",
      "      3.74193718807844e-07\n",
      "    Length = 1024 rows\n"
     ]
    }
   ],
   "source": [
    "print(local_binary_number_density)\n",
    "with open('../models/M17_number_density_kh.pkl', 'wb') as f:\n",
    "    pickle.dump(local_binary_number_density, f)"
   ]
  },
  {
   "cell_type": "markdown",
   "id": "7c42554d",
   "metadata": {
    "toc-hr-collapsed": true
   },
   "source": [
    "### AGN-based model"
   ]
  },
  {
   "cell_type": "markdown",
   "id": "f62130d2",
   "metadata": {},
   "source": [
    "#### Normalization"
   ]
  },
  {
   "cell_type": "code",
   "execution_count": 25,
   "id": "81dd1af1",
   "metadata": {},
   "outputs": [],
   "source": [
    "# Add normalization masses to our mass range explicitly\n",
    "log_m_bh_range_norm = np.sort(np.append(log_m_bh_range, log_m_bh_min_mingarelli))\n",
    "log_m_bh_range_norm = np.sort(np.append(log_m_bh_range_norm, log_m_bh_max_mingarelli))\n",
    "log_m_bh_range_norm = log_m_bh_range_norm[(log_m_bh_range_norm >= log_m_bh_min_mingarelli)\n",
    "                                          & (log_m_bh_range_norm <= log_m_bh_max_mingarelli)]"
   ]
  },
  {
   "cell_type": "code",
   "execution_count": 26,
   "id": "683ee946",
   "metadata": {},
   "outputs": [],
   "source": [
    "mm, zz = np.meshgrid(log_m_bh_range_norm, z_range, indexing='ij')"
   ]
  },
  {
   "cell_type": "code",
   "execution_count": 27,
   "id": "f51cc4b4",
   "metadata": {},
   "outputs": [
    {
     "data": {
      "application/vnd.jupyter.widget-view+json": {
       "model_id": "4652ab747d644b429f4292e17e4f8820",
       "version_major": 2,
       "version_minor": 0
      },
      "text/plain": [
       "  0%|          | 0/480 [00:00<?, ?it/s]"
      ]
     },
     "metadata": {},
     "output_type": "display_data"
    }
   ],
   "source": [
    "with mp.Pool(mp.cpu_count()) as p:\n",
    "    differential_quasar_population = list(p.starmap(quasar_formation_rate,\n",
    "                             tqdm(zip(mm.ravel(), zz.ravel()),\n",
    "                      total=len(mm.ravel()))))\n",
    "\n",
    "differential_quasar_population = np.reshape(differential_quasar_population, np.repeat(mm[..., np.newaxis], n_samples, axis=-1).shape)"
   ]
  },
  {
   "cell_type": "code",
   "execution_count": 28,
   "id": "5d728c70",
   "metadata": {},
   "outputs": [
    {
     "data": {
      "text/latex": [
       "$\\displaystyle \\Phi_{\\rm{AGN}, 0} = (5.0_{-3.2}^{+7.7}) \\times 10^{-7.0}\\;\\rm{Mpc}^{-3}$"
      ],
      "text/plain": [
       "<IPython.core.display.Math object>"
      ]
     },
     "metadata": {},
     "output_type": "display_data"
    }
   ],
   "source": [
    "local_quasar_number_density = trapz(differential_quasar_population, log_m_bh_range_norm, axis=0)[0]\n",
    "\n",
    "quantiles = np.quantile(local_quasar_number_density, q=[.16, .5, .84])\n",
    "order = 10. ** np.floor(np.log10(quantiles[1]))\n",
    "display(Math(r'\\Phi_{{\\rm{{AGN}}, 0}} = ({0:.1f}_{{-{1:.1f}}}^{{+{2:.1f}}})'\n",
    "             r' \\times 10^{{{3}}}\\;\\rm{{Mpc}}^{{-3}}'.format(quantiles[1] / order,\n",
    "                                          (quantiles[1] - quantiles[0]) / order,\n",
    "                                          (quantiles[2] - quantiles[1]) / order,\n",
    "                                          np.log10(order))))"
   ]
  },
  {
   "cell_type": "code",
   "execution_count": 29,
   "id": "d1cf0e70",
   "metadata": {},
   "outputs": [
    {
     "data": {
      "text/latex": [
       "$\\displaystyle \\int_{0.25}^{1} p(q) dq = 0.3$"
      ],
      "text/plain": [
       "<IPython.core.display.Math object>"
      ]
     },
     "metadata": {},
     "output_type": "display_data"
    }
   ],
   "source": [
    "q_factor = np.trapz(np.array([q_distrib(q) for q in q_range]), q_range, axis=0)\n",
    "\n",
    "quantiles = np.quantile(q_factor, q=[.16, .5, .84])\n",
    "order = 10. ** np.floor(np.log10(quantiles[1]))\n",
    "display(Math(r'\\int_{{0.25}}^{{1}} p(q) dq = {0:.1f}'.format(quantiles[1])))"
   ]
  },
  {
   "cell_type": "code",
   "execution_count": 30,
   "id": "09995472",
   "metadata": {},
   "outputs": [
    {
     "data": {
      "text/latex": [
       "$\\displaystyle \\frac{\\Phi_{\\rm{BHB}, 0}}{\\Phi_{\\rm{AGN}, 0}} = 0.6_{-0.3}^{+1.2}$"
      ],
      "text/plain": [
       "<IPython.core.display.Math object>"
      ]
     },
     "metadata": {},
     "output_type": "display_data"
    }
   ],
   "source": [
    "binary_agn_ratio = local_binary_number_density.amplitude / local_quasar_number_density\n",
    "\n",
    "quantiles = np.quantile(binary_agn_ratio, q=[.16, .5, .84])\n",
    "display(Math(r'\\frac{{\\Phi_{{\\rm{{BHB}}, 0}}}}{{\\Phi_{{\\rm{{AGN}}, 0}}}} = {0:.1f}_{{-{1:.1f}}}^{{+{2:.1f}}}'.format(quantiles[1],\n",
    "                                          quantiles[1] - quantiles[0],\n",
    "                                          quantiles[2] - quantiles[1])))"
   ]
  },
  {
   "cell_type": "code",
   "execution_count": 31,
   "id": "69441c66",
   "metadata": {},
   "outputs": [
    {
     "data": {
      "text/latex": [
       "$\\displaystyle N_{0} = 2.0_{-1.2}^{+4.2}$"
      ],
      "text/plain": [
       "<IPython.core.display.Math object>"
      ]
     },
     "metadata": {},
     "output_type": "display_data"
    }
   ],
   "source": [
    "binary_normalization = Const3D(local_binary_number_density.amplitude / (local_quasar_number_density * q_factor), n_models=n_samples)\n",
    "\n",
    "quantiles = np.quantile(binary_normalization.amplitude, q=[.16, .5, .84])\n",
    "display(Math(r'N_{{0}} = {0:.1f}_{{-{1:.1f}}}^{{+{2:.1f}}}'.format(quantiles[1],\n",
    "                                          quantiles[1] - quantiles[0],\n",
    "                                          quantiles[2] - quantiles[1])))"
   ]
  },
  {
   "cell_type": "code",
   "execution_count": 32,
   "id": "b7afcc70",
   "metadata": {},
   "outputs": [
    {
     "name": "stdout",
     "output_type": "stream",
     "text": [
      "Model: Const3D\n",
      "Inputs: ('x0', 'x1', 'x2')\n",
      "Outputs: ('x0',)\n",
      "Model set size: 1024\n",
      "Parameters:\n",
      "         amplitude     \n",
      "    -------------------\n",
      "     0.4501405392713322\n",
      "      7.435423675833323\n",
      "     1.5605264858539027\n",
      "     1.4808178621699104\n",
      "     7.8072528049991865\n",
      "     2.9207232656027564\n",
      "     0.5350682381866431\n",
      "      1.301831624168689\n",
      "       2.07173425801855\n",
      "     1.7163140136640787\n",
      "                    ...\n",
      "      1.104777064786078\n",
      "       16.9631438755897\n",
      "     13.528029323157734\n",
      "      3.565494954851622\n",
      "     3.0161182087855294\n",
      "      4.402265947592083\n",
      "     0.7781401520508732\n",
      "      36.62894011532338\n",
      "    0.22667123968761724\n",
      "     0.5139616289518847\n",
      "      5.823997290394462\n",
      "    Length = 1024 rows\n"
     ]
    }
   ],
   "source": [
    "print(binary_normalization)\n",
    "with open('../models/BinaryNormalization_kh.pkl', 'wb') as f:\n",
    "    pickle.dump(binary_normalization, f)"
   ]
  },
  {
   "cell_type": "markdown",
   "id": "b51a09ac",
   "metadata": {},
   "source": [
    "#### Full AGN-SMBHB model"
   ]
  },
  {
   "cell_type": "code",
   "execution_count": 33,
   "id": "7a6e6f7e",
   "metadata": {},
   "outputs": [
    {
     "name": "stdout",
     "output_type": "stream",
     "text": [
      "Model: QuasarProxyBinaries\n",
      "Inputs: ('x0', 'x1', 'x2')\n",
      "Outputs: ('x0',)\n",
      "Model set size: 1024\n",
      "Parameters:\n",
      "    log_local_smbhb_n_dens log_local_agn_n_dens log_m_min ... mu_log_q std_log_q\n",
      "    ---------------------- -------------------- --------- ... -------- ---------\n",
      "        -6.846032814556573   -5.950447587915388       7.0 ...     0.25       0.5\n",
      "        -6.470369200595688   -6.792741567043302       7.0 ...     0.25       0.5\n",
      "        -6.448092805884536   -6.092430596430961       7.0 ...     0.25       0.5\n",
      "        -6.573031542492836   -6.194599833359159       7.0 ...     0.25       0.5\n",
      "        -6.518673880170243   -6.862238769030279       7.0 ...     0.25       0.5\n",
      "        -6.493850296445212   -6.410407353050346       7.0 ...     0.25       0.5\n",
      "        -6.794880292109193   -5.974356110466076       7.0 ...     0.25       0.5\n",
      "        -6.518673880170243   -6.084295343880825       7.0 ...     0.25       0.5\n",
      "         -6.35118279287648   -6.118583486907318       7.0 ...     0.25       0.5\n",
      "        -6.426903506814598   -6.112566901788812       7.0 ...     0.25       0.5\n",
      "                       ...                  ...       ... ...      ...       ...\n",
      "        -6.334149453577699   -5.828490749741925       7.0 ...     0.25       0.5\n",
      "        -6.448092805884536   -7.128665797992663       7.0 ...     0.25       0.5\n",
      "        -6.602994765870279   -7.185295948301371       7.0 ...     0.25       0.5\n",
      "        -6.707730116390293   -6.710916589121227       7.0 ...     0.25       0.5\n",
      "        -6.794880292109193  -6.7253952971354725       7.0 ...     0.25       0.5\n",
      "        -6.470369200595688   -6.565112122466817       7.0 ...     0.25       0.5\n",
      "        -6.707730116390293    -6.04985458835972       7.0 ...     0.25       0.5\n",
      "        -6.426903506814598   -7.441794505508399       7.0 ...     0.25       0.5\n",
      "        -7.272001546828855   -6.078464613128401       7.0 ...     0.25       0.5\n",
      "        -6.707730116390293   -5.869727459761246       7.0 ...     0.25       0.5\n",
      "        -6.426903506814598   -6.643191317534847       7.0 ...     0.25       0.5\n",
      "    Length = 1024 rows\n"
     ]
    }
   ],
   "source": [
    "with open('../models/SMBHBPopulation.pkl', 'rb') as f:\n",
    "    differential_smbhb_population = pickle.load(f)\n",
    "    differential_smbhb_population.log_local_smbhb_n_dens=np.log10(local_binary_number_density.amplitude)\n",
    "    differential_smbhb_population.log_local_agn_n_dens=np.log10(local_quasar_number_density)\n",
    "\n",
    "with open('../models/SMBHBPopulation_kh.pkl', 'wb') as f:\n",
    "    pickle.dump(differential_smbhb_population, f)\n",
    "    \n",
    "print(differential_smbhb_population)"
   ]
  },
  {
   "cell_type": "markdown",
   "id": "5a383553",
   "metadata": {},
   "source": [
    "### Major merger models"
   ]
  },
  {
   "cell_type": "markdown",
   "id": "8fdec6cd",
   "metadata": {},
   "source": [
    "#### S1: Borch+ (2006), Bundy+ (2009), Kitzbichler & White (2008)"
   ]
  },
  {
   "cell_type": "code",
   "execution_count": 34,
   "id": "63036a47",
   "metadata": {},
   "outputs": [
    {
     "name": "stdout",
     "output_type": "stream",
     "text": [
      "Model: Sesana2013_Schechter\n",
      "Inputs: ('x0', 'x1', 'x2')\n",
      "Outputs: ('x0',)\n",
      "Model set size: 1024\n",
      "Parameters:\n",
      "          alpha              beta                norm1         ... t_norm r_proj\n",
      "    ----------------- ------------------ --------------------- ... ------ ------\n",
      "    8.773161493068155 1.2150935059745158 0.0034349231352440914 ...    2.2   20.0\n",
      "    8.719120072316988 1.1431827514872601 0.0032826726028692406 ...    2.2   20.0\n",
      "    8.712615038752269 1.2118681459383018 0.0035301257105979566 ...    2.2   20.0\n",
      "    8.643661809728659 1.1044094768416584 0.0032773382704073266 ...    2.2   20.0\n",
      "    8.603021766019193 1.2854619366444928 0.0033127640116597593 ...    2.2   20.0\n",
      "    8.614191035689212 1.2647748655755358  0.003524366878208479 ...    2.2   20.0\n",
      "    8.668149256418316 1.1193763534646537 0.0035179635526093626 ...    2.2   20.0\n",
      "    8.684378817890572 1.2359603654721303  0.003575574434919143 ...    2.2   20.0\n",
      "     8.71393958076541 1.1985546781409382  0.003616864998256185 ...    2.2   20.0\n",
      "    8.685358327839005 1.0681555312610855 0.0035585603427308694 ...    2.2   20.0\n",
      "                  ...                ...                   ... ...    ...    ...\n",
      "     8.67720755901508 1.1066375670145618 0.0038237756750441644 ...    2.2   20.0\n",
      "    8.768971984033804 1.1886918905778698  0.004283436004117785 ...    2.2   20.0\n",
      "    8.730115037445733 1.1134166447782108 0.0040622549213137306 ...    2.2   20.0\n",
      "    8.716285215670762 1.1193912568494098 0.0035671819153196916 ...    2.2   20.0\n",
      "    8.707010199709439  1.326782038272219  0.003915325353470542 ...    2.2   20.0\n",
      "    8.694185100591843  1.239517776594929  0.003901588315805088 ...    2.2   20.0\n",
      "    8.686404314692787 1.2341692943939797  0.004476634646742934 ...    2.2   20.0\n",
      "    8.669224758884887 0.9642039411658884 0.0038145527884954436 ...    2.2   20.0\n",
      "      8.6876991112828  1.134993279025531 0.0044891965330540705 ...    2.2   20.0\n",
      "    8.705037898808197 1.3301523321412738 0.0032724682362393342 ...    2.2   20.0\n",
      "      8.7541822875986 1.2148289498710902   0.00363934600556922 ...    2.2   20.0\n",
      "    Length = 1024 rows\n"
     ]
    }
   ],
   "source": [
    "with open('../models/S1.pkl', 'rb') as f:\n",
    "    S1 = pickle.load(f)\n",
    "    S1.alpha = alpha_kormendy_ho\n",
    "    S1.beta = beta_kormendy_ho\n",
    "    \n",
    "with open('../models/S1_kh.pkl', 'wb') as f:\n",
    "     pickle.dump(S1, f)\n",
    "\n",
    "print(S1)"
   ]
  },
  {
   "cell_type": "markdown",
   "id": "1ef74bfe",
   "metadata": {},
   "source": [
    "#### S2: Drory+ (2009), de Ravel+ (2009), Lotz+ (2010)"
   ]
  },
  {
   "cell_type": "code",
   "execution_count": 35,
   "id": "509590f6",
   "metadata": {},
   "outputs": [
    {
     "name": "stdout",
     "output_type": "stream",
     "text": [
      "Model: Sesana2013_DoubleSchechter\n",
      "Inputs: ('x0', 'x1', 'x2')\n",
      "Outputs: ('x0',)\n",
      "Model set size: 1024\n",
      "Parameters:\n",
      "          alpha              beta                norm11        ... t_norm r_proj\n",
      "    ----------------- ------------------ --------------------- ... ------ ------\n",
      "    8.773161493068155 1.2150935059745158  0.004430083183542889 ...    1.1  100.0\n",
      "    8.719120072316988 1.1431827514872601 0.0041988863973995835 ...    1.1  100.0\n",
      "    8.712615038752269 1.2118681459383018  0.004455691425467302 ...    1.1  100.0\n",
      "    8.643661809728659 1.1044094768416584 0.0044398234531523705 ...    1.1  100.0\n",
      "    8.603021766019193 1.2854619366444928 0.0044358799677305044 ...    1.1  100.0\n",
      "    8.614191035689212 1.2647748655755358  0.004683696919507766 ...    1.1  100.0\n",
      "    8.668149256418316 1.1193763534646537  0.004320514723393029 ...    1.1  100.0\n",
      "    8.684378817890572 1.2359603654721303  0.004217484912428039 ...    1.1  100.0\n",
      "     8.71393958076541 1.1985546781409382  0.004398304953413671 ...    1.1  100.0\n",
      "    8.685358327839005 1.0681555312610855  0.004632689712358057 ...    1.1  100.0\n",
      "                  ...                ...                   ... ...    ...    ...\n",
      "     8.67720755901508 1.1066375670145618  0.004377681232358912 ...    1.1  100.0\n",
      "    8.768971984033804 1.1886918905778698  0.004895325214878395 ...    1.1  100.0\n",
      "    8.730115037445733 1.1134166447782108  0.004040162199953197 ...    1.1  100.0\n",
      "    8.716285215670762 1.1193912568494098  0.004327763995356653 ...    1.1  100.0\n",
      "    8.707010199709439  1.326782038272219  0.004712485076537125 ...    1.1  100.0\n",
      "    8.694185100591843  1.239517776594929  0.004329885108766268 ...    1.1  100.0\n",
      "    8.686404314692787 1.2341692943939797  0.004618502051841496 ...    1.1  100.0\n",
      "    8.669224758884887 0.9642039411658884  0.004417914208889673 ...    1.1  100.0\n",
      "      8.6876991112828  1.134993279025531  0.004379774216874283 ...    1.1  100.0\n",
      "    8.705037898808197 1.3301523321412738  0.004234599371064375 ...    1.1  100.0\n",
      "      8.7541822875986 1.2148289498710902  0.004207684296397201 ...    1.1  100.0\n",
      "    Length = 1024 rows\n"
     ]
    }
   ],
   "source": [
    "with open('../models/S2.pkl', 'rb') as f:\n",
    "    S2 = pickle.load(f)\n",
    "    S2.alpha = alpha_kormendy_ho\n",
    "    S2.beta = beta_kormendy_ho\n",
    "\n",
    "with open('../models/S2_kh.pkl', 'wb') as f:\n",
    "     pickle.dump(S2, f)\n",
    "\n",
    "print(S2)"
   ]
  },
  {
   "cell_type": "markdown",
   "id": "ce800002",
   "metadata": {},
   "source": [
    "#### S3: Ilbert+ (2010), Lopez+ (2012), Kitzbichler & White (2008)"
   ]
  },
  {
   "cell_type": "code",
   "execution_count": 36,
   "id": "c014cb20",
   "metadata": {},
   "outputs": [
    {
     "name": "stdout",
     "output_type": "stream",
     "text": [
      "Model: Sesana2013_TripleSchechter\n",
      "Inputs: ('x0', 'x1', 'x2')\n",
      "Outputs: ('x0',)\n",
      "Model set size: 1024\n",
      "Parameters:\n",
      "          alpha              beta                norm11        ... t_norm r_proj\n",
      "    ----------------- ------------------ --------------------- ... ------ ------\n",
      "    8.773161493068155 1.2150935059745158  0.004430083183542889 ...    2.2   30.0\n",
      "    8.719120072316988 1.1431827514872601 0.0041988863973995835 ...    2.2   30.0\n",
      "    8.712615038752269 1.2118681459383018  0.004455691425467302 ...    2.2   30.0\n",
      "    8.643661809728659 1.1044094768416584 0.0044398234531523705 ...    2.2   30.0\n",
      "    8.603021766019193 1.2854619366444928 0.0044358799677305044 ...    2.2   30.0\n",
      "    8.614191035689212 1.2647748655755358  0.004683696919507766 ...    2.2   30.0\n",
      "    8.668149256418316 1.1193763534646537  0.004320514723393029 ...    2.2   30.0\n",
      "    8.684378817890572 1.2359603654721303  0.004217484912428039 ...    2.2   30.0\n",
      "     8.71393958076541 1.1985546781409382  0.004398304953413671 ...    2.2   30.0\n",
      "    8.685358327839005 1.0681555312610855  0.004632689712358057 ...    2.2   30.0\n",
      "                  ...                ...                   ... ...    ...    ...\n",
      "     8.67720755901508 1.1066375670145618  0.004377681232358912 ...    2.2   30.0\n",
      "    8.768971984033804 1.1886918905778698  0.004895325214878395 ...    2.2   30.0\n",
      "    8.730115037445733 1.1134166447782108  0.004040162199953197 ...    2.2   30.0\n",
      "    8.716285215670762 1.1193912568494098  0.004327763995356653 ...    2.2   30.0\n",
      "    8.707010199709439  1.326782038272219  0.004712485076537125 ...    2.2   30.0\n",
      "    8.694185100591843  1.239517776594929  0.004329885108766268 ...    2.2   30.0\n",
      "    8.686404314692787 1.2341692943939797  0.004618502051841496 ...    2.2   30.0\n",
      "    8.669224758884887 0.9642039411658884  0.004417914208889673 ...    2.2   30.0\n",
      "      8.6876991112828  1.134993279025531  0.004379774216874283 ...    2.2   30.0\n",
      "    8.705037898808197 1.3301523321412738  0.004234599371064375 ...    2.2   30.0\n",
      "      8.7541822875986 1.2148289498710902  0.004207684296397201 ...    2.2   30.0\n",
      "    Length = 1024 rows\n"
     ]
    }
   ],
   "source": [
    "with open('../models/S3.pkl', 'rb') as f:\n",
    "    S3 = pickle.load(f)\n",
    "    S3.alpha = alpha_kormendy_ho\n",
    "    S3.beta = beta_kormendy_ho\n",
    "\n",
    "with open('../models/S3_kh.pkl', 'wb') as f:\n",
    "     pickle.dump(S3, f)\n",
    "\n",
    "print(S3)"
   ]
  },
  {
   "cell_type": "markdown",
   "id": "a44a7732",
   "metadata": {},
   "source": [
    "# Results"
   ]
  },
  {
   "cell_type": "markdown",
   "id": "dd1a9cbc",
   "metadata": {},
   "source": [
    "## AGN Models"
   ]
  },
  {
   "cell_type": "markdown",
   "id": "8efac86d",
   "metadata": {},
   "source": [
    "### AGN-based"
   ]
  },
  {
   "cell_type": "markdown",
   "id": "77d7e657",
   "metadata": {},
   "source": [
    "#### SMBHB Population"
   ]
  },
  {
   "cell_type": "code",
   "execution_count": 37,
   "id": "f2130dc9",
   "metadata": {},
   "outputs": [],
   "source": [
    "mm, zz, qq = np.meshgrid(log_m_bh_range, z_range, q_range, indexing='ij')"
   ]
  },
  {
   "cell_type": "code",
   "execution_count": 38,
   "id": "dbc39063",
   "metadata": {},
   "outputs": [
    {
     "data": {
      "application/vnd.jupyter.widget-view+json": {
       "model_id": "20c83d16e6114c3ba43ed44d7b10560e",
       "version_major": 2,
       "version_minor": 0
      },
      "text/plain": [
       "  0%|          | 0/32768 [00:00<?, ?it/s]"
      ]
     },
     "metadata": {},
     "output_type": "display_data"
    }
   ],
   "source": [
    "with mp.Pool(mp.cpu_count()) as p:\n",
    "    differential_bhb_population = list(p.starmap(differential_smbhb_population,\n",
    "                             tqdm(zip(mm.ravel(), zz.ravel(), qq.ravel()),\n",
    "                      total=len(mm.ravel()))))\n",
    "\n",
    "differential_bhb_population = np.reshape(differential_bhb_population, np.repeat(mm[..., np.newaxis], n_samples, axis=-1).shape)"
   ]
  },
  {
   "cell_type": "markdown",
   "id": "b5781d4d",
   "metadata": {},
   "source": [
    "#### Characteristic strain"
   ]
  },
  {
   "cell_type": "code",
   "execution_count": 39,
   "id": "8ab458ef",
   "metadata": {},
   "outputs": [],
   "source": [
    "coeffs = 4. * const.G ** (5. / 3.) / (3. * np.pi ** (1. / 3.)\n",
    "                                      * (const.c ** 2)\n",
    "                                      * (fidhz ** (4. / 3.)))"
   ]
  },
  {
   "cell_type": "code",
   "execution_count": 40,
   "id": "f7fa029b",
   "metadata": {},
   "outputs": [],
   "source": [
    "hc_integrand = (coeffs * differential_bhb_population * ((10 ** (mm * (5 / 3)))\n",
    "                                                        * (qq / ((1 + qq) ** (1 / 3)))\n",
    "                                                        / ((1 + zz) ** (1. / 3.)))[..., np.newaxis]\n",
    "                * (u.Msun ** (5 / 3)) / (u.Mpc ** 3))"
   ]
  },
  {
   "cell_type": "code",
   "execution_count": 41,
   "id": "82a87180",
   "metadata": {},
   "outputs": [
    {
     "data": {
      "text/latex": [
       "$\\displaystyle h_{c} = (7.3^{+5.1}_{-2.7}) \\times 10^{-16.0}$"
      ],
      "text/plain": [
       "<IPython.core.display.Math object>"
      ]
     },
     "metadata": {},
     "output_type": "display_data"
    }
   ],
   "source": [
    "hc = np.sqrt(cumtrapz(cumtrapz(cumtrapz(hc_integrand.to(''), log_m_bh_range, axis=0), z_range, axis=1), q_range, axis=2))\n",
    "hc_q = np.quantile(hc, q=[.16, .5, .84], axis=-1)\n",
    "\n",
    "order = 10. ** np.floor(np.log10(hc_q[1, -1, -1, -1]))\n",
    "display(Math(r'h_{{c}} = ({0:.1f}^{{+{1:.1f}}}_{{-{2:.1f}}}) \\times 10^{{{3}}}'\n",
    "             .format(hc_q[1, -1, -1, -1] / order,\n",
    "                     (hc_q[2, -1, -1, -1] - hc_q[1, -1, -1, -1]) / order,\n",
    "                     (hc_q[1, -1, -1, -1] - hc_q[0, -1, -1, -1]) / order,\n",
    "                     np.log10(order))))"
   ]
  },
  {
   "cell_type": "markdown",
   "id": "7039efda",
   "metadata": {},
   "source": [
    "#### Number density"
   ]
  },
  {
   "cell_type": "code",
   "execution_count": 42,
   "id": "77c97741",
   "metadata": {},
   "outputs": [],
   "source": [
    "differential_number_density = trapz(trapz(differential_bhb_population, log_m_bh_range, axis=0), q_range, axis=1)\n",
    "differential_number_density_q = np.quantile(differential_number_density, q=[.16, .5, .84], axis=-1)"
   ]
  },
  {
   "cell_type": "code",
   "execution_count": 43,
   "id": "c62be38a",
   "metadata": {},
   "outputs": [
    {
     "data": {
      "text/latex": [
       "$\\displaystyle \\Phi_{\\rm{BHB}, 0} = (1.6^{+2.2}_{-0.8}) \\times 10^{-4.0}\\;\\rm{Mpc}^{-3}$"
      ],
      "text/plain": [
       "<IPython.core.display.Math object>"
      ]
     },
     "metadata": {},
     "output_type": "display_data"
    }
   ],
   "source": [
    "order = 10. ** np.floor(np.log10(differential_number_density_q[1, 0]))\n",
    "display(Math(r'\\Phi_{{\\rm{{BHB}}, 0}} = ({0:.1f}^{{+{1:.1f}}}_{{-{2:.1f}}}) \\times 10^{{{3}}}\\;\\rm{{Mpc}}^{{-3}}'\n",
    "             .format(differential_number_density_q[1, 0] / order,\n",
    "                     (differential_number_density_q[2, 0] - differential_number_density_q[1, 0]) / order,\n",
    "                     (differential_number_density_q[1, 0] - differential_number_density_q[0, 0]) / order,\n",
    "                     np.log10(order))))"
   ]
  },
  {
   "cell_type": "markdown",
   "id": "41b7bdf7",
   "metadata": {},
   "source": [
    "#### Local Mass Function"
   ]
  },
  {
   "cell_type": "code",
   "execution_count": 44,
   "id": "a90ac789",
   "metadata": {},
   "outputs": [],
   "source": [
    "local_bhmf = trapz(trapz(differential_bhb_population, z_range, axis=1), q_range, axis=1) / (np.log(10) * (10 ** log_m_bh_range[:, np.newaxis]))\n",
    "local_bhmf_q = np.quantile(local_bhmf, q=[.16, .5, .84], axis=-1)"
   ]
  },
  {
   "cell_type": "markdown",
   "id": "bfc95ed7",
   "metadata": {},
   "source": [
    "#### Summary"
   ]
  },
  {
   "cell_type": "code",
   "execution_count": 45,
   "id": "e9109732",
   "metadata": {},
   "outputs": [],
   "source": [
    "with h5py.File('../data/processed/agn_proxy_kh.h5', 'w') as hf:\n",
    "    hf.create_dataset('log_m_bh_range',  data=log_m_bh_range)\n",
    "    hf.create_dataset('z_range',  data=z_range)\n",
    "    hf.create_dataset('q_range',  data=q_range)\n",
    "    hf.create_dataset('population',  data=differential_bhb_population)\n",
    "    hf.create_dataset('characteristic_strain',  data=hc)\n",
    "    hf.create_dataset('number_density',  data=differential_number_density)\n",
    "    hf.create_dataset('local_bhmf',  data=local_bhmf)"
   ]
  },
  {
   "cell_type": "markdown",
   "id": "1aa5649e",
   "metadata": {},
   "source": [
    "## Merger Models"
   ]
  },
  {
   "cell_type": "markdown",
   "id": "ef6b74fa",
   "metadata": {},
   "source": [
    "### S1"
   ]
  },
  {
   "cell_type": "markdown",
   "id": "ded3c560",
   "metadata": {},
   "source": [
    "#### SMBHB Population"
   ]
  },
  {
   "cell_type": "code",
   "execution_count": 46,
   "id": "29ac8b57",
   "metadata": {},
   "outputs": [],
   "source": [
    "mm, zz, qq = np.meshgrid(log_m_bh_range, z_range_borch, q_range, indexing='ij')"
   ]
  },
  {
   "cell_type": "code",
   "execution_count": 47,
   "id": "31aea840",
   "metadata": {},
   "outputs": [
    {
     "data": {
      "application/vnd.jupyter.widget-view+json": {
       "model_id": "ee38cddae5094521ab270bf3fa335a03",
       "version_major": 2,
       "version_minor": 0
      },
      "text/plain": [
       "  0%|          | 0/32768 [00:00<?, ?it/s]"
      ]
     },
     "metadata": {},
     "output_type": "display_data"
    }
   ],
   "source": [
    "with mp.Pool(mp.cpu_count()) as p:\n",
    "    S1_bhb_population = list(p.starmap(S1,\n",
    "                             tqdm(zip(mm.ravel(), zz.ravel(), qq.ravel()),\n",
    "                      total=len(mm.ravel()))))\n",
    "\n",
    "S1_bhb_population = np.reshape(S1_bhb_population, np.repeat(mm[..., np.newaxis], n_samples, axis=-1).shape)"
   ]
  },
  {
   "cell_type": "markdown",
   "id": "33c2c2da",
   "metadata": {},
   "source": [
    "#### Strain"
   ]
  },
  {
   "cell_type": "code",
   "execution_count": 48,
   "id": "72fbb74e",
   "metadata": {},
   "outputs": [],
   "source": [
    "S1_hc_integrand = (coeffs * S1_bhb_population * ((10 ** (mm * (5 / 3)))\n",
    "                                                 * (qq / ((1 + qq) ** (1 / 3)))\n",
    "                                                 / ((1 + zz) ** (1. / 3.)))[..., np.newaxis]\n",
    "                   * (u.Msun ** (5 / 3)) / (u.Mpc ** 3))"
   ]
  },
  {
   "cell_type": "code",
   "execution_count": 49,
   "id": "c1e71ccd",
   "metadata": {},
   "outputs": [
    {
     "data": {
      "text/latex": [
       "$\\displaystyle h_{c, \\rm{S1}} = (8.1^{+3.4}_{-3.0}) \\times 10^{-16.0}$"
      ],
      "text/plain": [
       "<IPython.core.display.Math object>"
      ]
     },
     "metadata": {},
     "output_type": "display_data"
    }
   ],
   "source": [
    "S1_hc = np.sqrt(cumtrapz(cumtrapz(cumtrapz(S1_hc_integrand.to(''), log_m_bh_range, axis=0), z_range_borch, axis=1), q_range, axis=2))\n",
    "S1_hc_q = np.quantile(S1_hc, q=[.16, .5, .84], axis=-1)\n",
    "\n",
    "order = 10. ** np.floor(np.log10(S1_hc_q[1, -1, -1, -1]))\n",
    "display(Math(r'h_{{c, \\rm{{S1}}}} = ({0:.1f}^{{+{1:.1f}}}_{{-{2:.1f}}}) \\times 10^{{{3}}}'\n",
    "             .format(S1_hc_q[1, -1, -1, -1] / order,\n",
    "                     (S1_hc_q[2, -1, -1, -1] - S1_hc_q[1, -1, -1, -1]) / order,\n",
    "                     (S1_hc_q[1, -1, -1, -1] - S1_hc_q[0, -1, -1, -1]) / order,\n",
    "                     np.log10(order))))"
   ]
  },
  {
   "cell_type": "markdown",
   "id": "483b7c09",
   "metadata": {},
   "source": [
    "#### Number density"
   ]
  },
  {
   "cell_type": "code",
   "execution_count": 50,
   "id": "eb9821b4",
   "metadata": {},
   "outputs": [],
   "source": [
    "S1_number_density = trapz(trapz(S1_bhb_population, log_m_bh_range, axis=0), q_range, axis=1)\n",
    "S1_number_density_q = np.quantile(S1_number_density, q=[.16, .5, .84], axis=-1)"
   ]
  },
  {
   "cell_type": "code",
   "execution_count": 51,
   "id": "a6d774b2",
   "metadata": {},
   "outputs": [
    {
     "data": {
      "text/latex": [
       "$\\displaystyle \\Phi_{\\rm{BHB}, 0, \\rm{S1}} = (1.1^{+1.3}_{-0.7}) \\times 10^{-3.0}\\;\\rm{Mpc}^{-3}$"
      ],
      "text/plain": [
       "<IPython.core.display.Math object>"
      ]
     },
     "metadata": {},
     "output_type": "display_data"
    }
   ],
   "source": [
    "order = 10. ** np.floor(np.log10(S1_number_density_q[1, 0]))\n",
    "display(Math(r'\\Phi_{{\\rm{{BHB}}, 0, \\rm{{S1}}}} = ({0:.1f}^{{+{1:.1f}}}_{{-{2:.1f}}}) \\times 10^{{{3}}}\\;\\rm{{Mpc}}^{{-3}}'\n",
    "             .format(S1_number_density_q[1, 0] / order,\n",
    "                     (S1_number_density_q[2, 0] - S1_number_density_q[1, 0]) / order,\n",
    "                     (S1_number_density_q[1, 0] - S1_number_density_q[0, 0]) / order,\n",
    "                     np.log10(order))))"
   ]
  },
  {
   "cell_type": "markdown",
   "id": "d6dc9881",
   "metadata": {},
   "source": [
    "#### Local Mass Function"
   ]
  },
  {
   "cell_type": "code",
   "execution_count": 52,
   "id": "779b1f15",
   "metadata": {},
   "outputs": [],
   "source": [
    "S1_local_bhmf = trapz(trapz(S1_bhb_population, q_range, axis=2), z_range_borch, axis=1) / (np.log(10) * (10 ** log_m_bh_range[:, np.newaxis]))\n",
    "S1_local_bhmf_q = np.quantile(S1_local_bhmf, q=[.16, .5, .84], axis=-1)"
   ]
  },
  {
   "cell_type": "markdown",
   "id": "ccb43cfc",
   "metadata": {},
   "source": [
    "#### Summary"
   ]
  },
  {
   "cell_type": "code",
   "execution_count": 53,
   "id": "c7771d1f",
   "metadata": {},
   "outputs": [],
   "source": [
    "with h5py.File('../data/processed/S1_kh.h5', 'w') as hf:\n",
    "    hf.create_dataset('log_m_bh_range',  data=log_m_bh_range)\n",
    "    hf.create_dataset('z_range',  data=z_range_borch)\n",
    "    hf.create_dataset('q_range',  data=q_range)\n",
    "    hf.create_dataset('population',  data=S1_bhb_population)\n",
    "    hf.create_dataset('characteristic_strain',  data=S1_hc)\n",
    "    hf.create_dataset('number_density',  data=S1_number_density)\n",
    "    hf.create_dataset('local_bhmf',  data=S1_local_bhmf)"
   ]
  },
  {
   "cell_type": "markdown",
   "id": "1fbc8a8f",
   "metadata": {},
   "source": [
    "### S2"
   ]
  },
  {
   "cell_type": "markdown",
   "id": "ce2fc9c9",
   "metadata": {},
   "source": [
    "#### SMBHB Population"
   ]
  },
  {
   "cell_type": "code",
   "execution_count": 54,
   "id": "0088d5d1",
   "metadata": {},
   "outputs": [],
   "source": [
    "mm, zz, qq = np.meshgrid(log_m_bh_range, z_range_drory, q_range, indexing='ij')"
   ]
  },
  {
   "cell_type": "code",
   "execution_count": 55,
   "id": "4377ad2e",
   "metadata": {},
   "outputs": [
    {
     "data": {
      "application/vnd.jupyter.widget-view+json": {
       "model_id": "96002bb5de4845f9aa8c4b03854dd534",
       "version_major": 2,
       "version_minor": 0
      },
      "text/plain": [
       "  0%|          | 0/32768 [00:00<?, ?it/s]"
      ]
     },
     "metadata": {},
     "output_type": "display_data"
    }
   ],
   "source": [
    "with mp.Pool(mp.cpu_count()) as p:\n",
    "    S2_bhb_population = list(p.starmap(S2,\n",
    "                             tqdm(zip(mm.ravel(), zz.ravel(), qq.ravel()),\n",
    "                      total=len(mm.ravel()))))\n",
    "\n",
    "S2_bhb_population = np.reshape(S2_bhb_population, np.repeat(mm[..., np.newaxis], n_samples, axis=-1).shape)"
   ]
  },
  {
   "cell_type": "markdown",
   "id": "e7e02c58",
   "metadata": {},
   "source": [
    "#### Strain"
   ]
  },
  {
   "cell_type": "code",
   "execution_count": 56,
   "id": "1d17f002",
   "metadata": {},
   "outputs": [],
   "source": [
    "S2_hc_integrand = (coeffs * S2_bhb_population * ((10 ** (mm * (5 / 3)))\n",
    "                                                 * (qq / ((1 + qq) ** (1 / 3)))\n",
    "                                                 / ((1 + zz) ** (1. / 3.)))[..., np.newaxis]\n",
    "                   * (u.Msun ** (5 / 3)) / (u.Mpc ** 3))"
   ]
  },
  {
   "cell_type": "code",
   "execution_count": 57,
   "id": "6fc397af",
   "metadata": {},
   "outputs": [
    {
     "data": {
      "text/latex": [
       "$\\displaystyle h_{c, \\rm{S2}} = (2.1^{+1.4}_{-1.0}) \\times 10^{-15.0}$"
      ],
      "text/plain": [
       "<IPython.core.display.Math object>"
      ]
     },
     "metadata": {},
     "output_type": "display_data"
    }
   ],
   "source": [
    "S2_hc = np.sqrt(cumtrapz(cumtrapz(cumtrapz(S2_hc_integrand.to(''), log_m_bh_range, axis=0), z_range_drory, axis=1), q_range, axis=2))\n",
    "S2_hc_q = np.quantile(S2_hc, q=[.16, .5, .84], axis=-1)\n",
    "\n",
    "order = 10. ** np.floor(np.log10(S2_hc_q[1, -1, -1, -1]))\n",
    "display(Math(r'h_{{c, \\rm{{S2}}}} = ({0:.1f}^{{+{1:.1f}}}_{{-{2:.1f}}}) \\times 10^{{{3}}}'\n",
    "             .format(S2_hc_q[1, -1, -1, -1] / order,\n",
    "                     (S2_hc_q[2, -1, -1, -1] - S2_hc_q[1, -1, -1, -1]) / order,\n",
    "                     (S2_hc_q[1, -1, -1, -1] - S2_hc_q[0, -1, -1, -1]) / order,\n",
    "                     np.log10(order))))"
   ]
  },
  {
   "cell_type": "markdown",
   "id": "8231a498",
   "metadata": {},
   "source": [
    "#### Number density"
   ]
  },
  {
   "cell_type": "code",
   "execution_count": 58,
   "id": "0ef65b29",
   "metadata": {},
   "outputs": [],
   "source": [
    "S2_number_density = trapz(trapz(S2_bhb_population, log_m_bh_range, axis=0), q_range, axis=1)\n",
    "S2_number_density_q = np.quantile(S2_number_density, q=[.16, .5, .84], axis=-1)"
   ]
  },
  {
   "cell_type": "code",
   "execution_count": 59,
   "id": "b51cddee",
   "metadata": {},
   "outputs": [
    {
     "data": {
      "text/latex": [
       "$\\displaystyle \\Phi_{\\rm{BHB}, 0, \\rm{S2}} = (5.1^{+4.8}_{-2.7}) \\times 10^{-3.0}\\;\\rm{Mpc}^{-3}$"
      ],
      "text/plain": [
       "<IPython.core.display.Math object>"
      ]
     },
     "metadata": {},
     "output_type": "display_data"
    }
   ],
   "source": [
    "order = 10. ** np.floor(np.log10(S2_number_density_q[1, 0]))\n",
    "display(Math(r'\\Phi_{{\\rm{{BHB}}, 0, \\rm{{S2}}}} = ({0:.1f}^{{+{1:.1f}}}_{{-{2:.1f}}}) \\times 10^{{{3}}}\\;\\rm{{Mpc}}^{{-3}}'\n",
    "             .format(S2_number_density_q[1, 0] / order,\n",
    "                     (S2_number_density_q[2, 0] - S2_number_density_q[1, 0]) / order,\n",
    "                     (S2_number_density_q[1, 0] - S2_number_density_q[0, 0]) / order,\n",
    "                     np.log10(order))))"
   ]
  },
  {
   "cell_type": "markdown",
   "id": "7624c746",
   "metadata": {},
   "source": [
    "#### Local Mass Function"
   ]
  },
  {
   "cell_type": "code",
   "execution_count": 60,
   "id": "86e2ec5a",
   "metadata": {},
   "outputs": [],
   "source": [
    "S2_local_bhmf = trapz(trapz(S2_bhb_population, q_range, axis=2), z_range_drory, axis=1) / (np.log(10) * (10 ** log_m_bh_range[:, np.newaxis]))\n",
    "S2_local_bhmf_q = np.quantile(S2_local_bhmf, q=[.16, .5, .84], axis=-1)"
   ]
  },
  {
   "cell_type": "markdown",
   "id": "0513e768",
   "metadata": {},
   "source": [
    "#### Summary"
   ]
  },
  {
   "cell_type": "code",
   "execution_count": 61,
   "id": "0e8a974b",
   "metadata": {},
   "outputs": [],
   "source": [
    "with h5py.File('../data/processed/S2_kh.h5', 'w') as hf:\n",
    "    hf.create_dataset('log_m_bh_range', data=log_m_bh_range)\n",
    "    hf.create_dataset('z_range', data=z_range_drory)\n",
    "    hf.create_dataset('q_range', data=q_range)\n",
    "    hf.create_dataset('population', data=S2_bhb_population)\n",
    "    hf.create_dataset('characteristic_strain', data=S2_hc)\n",
    "    hf.create_dataset('number_density', data=S2_number_density)\n",
    "    hf.create_dataset('local_bhmf', data=S2_local_bhmf)"
   ]
  },
  {
   "cell_type": "markdown",
   "id": "684e55bd",
   "metadata": {},
   "source": [
    "### S3"
   ]
  },
  {
   "cell_type": "markdown",
   "id": "ffd11696",
   "metadata": {},
   "source": [
    "#### SMBHB Population"
   ]
  },
  {
   "cell_type": "code",
   "execution_count": 62,
   "id": "f9fe6361",
   "metadata": {},
   "outputs": [],
   "source": [
    "mm, zz, qq = np.meshgrid(log_m_bh_range, z_range_ilbert, q_range, indexing='ij')"
   ]
  },
  {
   "cell_type": "code",
   "execution_count": 63,
   "id": "f2aba66b",
   "metadata": {},
   "outputs": [
    {
     "data": {
      "application/vnd.jupyter.widget-view+json": {
       "model_id": "73779eb1ad7f491c9c7d8e7a9734a0c8",
       "version_major": 2,
       "version_minor": 0
      },
      "text/plain": [
       "  0%|          | 0/32768 [00:00<?, ?it/s]"
      ]
     },
     "metadata": {},
     "output_type": "display_data"
    }
   ],
   "source": [
    "with mp.Pool(mp.cpu_count()) as p:\n",
    "    S3_bhb_population = list(p.starmap(S3,\n",
    "                             tqdm(zip(mm.ravel(), zz.ravel(), qq.ravel()),\n",
    "                      total=len(mm.ravel()))))\n",
    "\n",
    "S3_bhb_population = np.reshape(S3_bhb_population, np.repeat(mm[..., np.newaxis], n_samples, axis=-1).shape)"
   ]
  },
  {
   "cell_type": "markdown",
   "id": "6c68dfcd",
   "metadata": {},
   "source": [
    "#### Strain"
   ]
  },
  {
   "cell_type": "code",
   "execution_count": 64,
   "id": "b69badf9",
   "metadata": {},
   "outputs": [],
   "source": [
    "S3_hc_integrand = (coeffs * S3_bhb_population * ((10 ** (mm * (5 / 3)))\n",
    "                                                 * (qq / ((1 + qq) ** (1 / 3)))\n",
    "                                                 / ((1 + zz) ** (1. / 3.)))[..., np.newaxis]\n",
    "                   * (u.Msun ** (5 / 3)) / (u.Mpc ** 3))"
   ]
  },
  {
   "cell_type": "code",
   "execution_count": 65,
   "id": "2fb61e48",
   "metadata": {},
   "outputs": [
    {
     "data": {
      "text/latex": [
       "$\\displaystyle h_{c, \\rm{S3}} = (9.0^{+2.6}_{-1.5}) \\times 10^{-16.0}$"
      ],
      "text/plain": [
       "<IPython.core.display.Math object>"
      ]
     },
     "metadata": {},
     "output_type": "display_data"
    }
   ],
   "source": [
    "S3_hc = np.sqrt(cumtrapz(cumtrapz(cumtrapz(S3_hc_integrand.to(''), log_m_bh_range, axis=0), z_range_ilbert, axis=1), q_range, axis=2))\n",
    "S3_hc_q = np.quantile(S3_hc, q=[.16, .5, .84], axis=-1)\n",
    "\n",
    "order = 10. ** np.floor(np.log10(S3_hc_q[1, -1, -1, -1]))\n",
    "display(Math(r'h_{{c, \\rm{{S3}}}} = ({0:.1f}^{{+{1:.1f}}}_{{-{2:.1f}}}) \\times 10^{{{3}}}'\n",
    "             .format(S3_hc_q[1, -1, -1, -1] / order,\n",
    "                     (S3_hc_q[2, -1, -1, -1] - S3_hc_q[1, -1, -1, -1]) / order,\n",
    "                     (S3_hc_q[1, -1, -1, -1] - S3_hc_q[0, -1, -1, -1]) / order,\n",
    "                     np.log10(order))))"
   ]
  },
  {
   "cell_type": "markdown",
   "id": "5f01e8ef",
   "metadata": {},
   "source": [
    "#### Number density"
   ]
  },
  {
   "cell_type": "code",
   "execution_count": 66,
   "id": "c1ca1e80",
   "metadata": {},
   "outputs": [],
   "source": [
    "S3_number_density = trapz(trapz(S3_bhb_population, log_m_bh_range, axis=0), q_range, axis=1)\n",
    "S3_number_density_q = np.quantile(S3_number_density, q=[.16, .5, .84], axis=-1)"
   ]
  },
  {
   "cell_type": "code",
   "execution_count": 67,
   "id": "6ff901a6",
   "metadata": {},
   "outputs": [
    {
     "data": {
      "text/latex": [
       "$\\displaystyle \\Phi_{\\rm{BHB}, 0, \\rm{S3}} = (1.7^{+0.3}_{-0.3}) \\times 10^{-3.0}\\;\\rm{Mpc}^{-3}$"
      ],
      "text/plain": [
       "<IPython.core.display.Math object>"
      ]
     },
     "metadata": {},
     "output_type": "display_data"
    }
   ],
   "source": [
    "order = 10. ** np.floor(np.log10(S3_number_density_q[1, 0]))\n",
    "display(Math(r'\\Phi_{{\\rm{{BHB}}, 0, \\rm{{S3}}}} = ({0:.1f}^{{+{1:.1f}}}_{{-{2:.1f}}}) \\times 10^{{{3}}}\\;\\rm{{Mpc}}^{{-3}}'\n",
    "             .format(S3_number_density_q[1, 0] / order,\n",
    "                     (S3_number_density_q[2, 0] - S3_number_density_q[1, 0]) / order,\n",
    "                     (S3_number_density_q[1, 0] - S3_number_density_q[0, 0]) / order,\n",
    "                     np.log10(order))))"
   ]
  },
  {
   "cell_type": "markdown",
   "id": "52f812e5",
   "metadata": {},
   "source": [
    "#### Local Mass Function"
   ]
  },
  {
   "cell_type": "code",
   "execution_count": 68,
   "id": "f5380a77",
   "metadata": {},
   "outputs": [],
   "source": [
    "S3_local_bhmf = trapz(trapz(S3_bhb_population, q_range, axis=2), z_range_ilbert, axis=1) / (np.log(10) * (10 ** log_m_bh_range[:, np.newaxis]))\n",
    "S3_local_bhmf_q = np.quantile(S3_local_bhmf, q=[.16, .5, .84], axis=-1)"
   ]
  },
  {
   "cell_type": "markdown",
   "id": "ed6762fa",
   "metadata": {},
   "source": [
    "#### Summary"
   ]
  },
  {
   "cell_type": "code",
   "execution_count": 69,
   "id": "7ad16561",
   "metadata": {},
   "outputs": [],
   "source": [
    "with h5py.File('../data/processed/S3_kh.h5', 'w') as hf:\n",
    "    hf.create_dataset('log_m_bh_range', data=log_m_bh_range)\n",
    "    hf.create_dataset('z_range', data=z_range_ilbert)\n",
    "    hf.create_dataset('q_range', data=q_range)\n",
    "    hf.create_dataset('population', data=S3_bhb_population)\n",
    "    hf.create_dataset('characteristic_strain', data=S3_hc)\n",
    "    hf.create_dataset('number_density',  data=S3_number_density)\n",
    "    hf.create_dataset('local_bhmf', data=S3_local_bhmf)"
   ]
  },
  {
   "cell_type": "markdown",
   "id": "320b133b",
   "metadata": {},
   "source": [
    "## Plots"
   ]
  },
  {
   "cell_type": "code",
   "execution_count": 70,
   "id": "64d40d5a",
   "metadata": {},
   "outputs": [],
   "source": [
    "import seaborn as sns\n",
    "import matplotlib.pyplot as plt\n",
    "%matplotlib inline\n",
    "sns.set_context(\"talk\", font_scale=1.2)\n",
    "sns.set_style('ticks')\n",
    "sns.set_palette('colorblind')\n",
    "figparams = {'font.family': 'DejaVu Sans',\n",
    "             'font.serif':'Times',\n",
    "             'text.latex.preamble': r'\\usepackage{amsmath}',\n",
    "             'text.usetex': True,\n",
    "             'hatch.linewidth' : 3.0}\n",
    "plt.rcParams.update(figparams)\n",
    "cs = plt.rcParams['axes.prop_cycle'].by_key()['color']"
   ]
  },
  {
   "cell_type": "code",
   "execution_count": 71,
   "id": "f1eb4193",
   "metadata": {},
   "outputs": [],
   "source": [
    "from matplotlib.legend_handler import HandlerLine2D, HandlerTuple\n",
    "\n",
    "class HandlerTupleVertical(HandlerTuple):\n",
    "    def __init__(self, **kwargs):\n",
    "        HandlerTuple.__init__(self, **kwargs)\n",
    "\n",
    "    def create_artists(self, legend, orig_handle,\n",
    "                       xdescent, ydescent, width, height, fontsize, trans):\n",
    "        # How many lines are there.\n",
    "        numlines = len(orig_handle)\n",
    "        handler_map = legend.get_legend_handler_map()\n",
    "\n",
    "        # divide the vertical space where the lines will go\n",
    "        # into equal parts based on the number of lines\n",
    "        height_y = (height / numlines)\n",
    "\n",
    "        leglines = []\n",
    "        for i, handle in enumerate(orig_handle):\n",
    "            handler = legend.get_legend_handler(handler_map, handle)\n",
    "\n",
    "            legline = handler.create_artists(legend, handle,\n",
    "                                             xdescent,\n",
    "                                             (2*i + 1)*height_y,\n",
    "                                             width,\n",
    "                                             2*height,\n",
    "                                             fontsize, trans)\n",
    "            leglines.extend(legline)\n",
    "\n",
    "        return leglines"
   ]
  },
  {
   "cell_type": "code",
   "execution_count": 72,
   "id": "bf42781d",
   "metadata": {},
   "outputs": [
    {
     "data": {
      "image/png": "[encoded data removed]",
      "text/plain": [
       "<Figure size 2592x648 with 3 Axes>"
      ]
     },
     "metadata": {},
     "output_type": "display_data"
    }
   ],
   "source": [
    "log_nz_i_l_kw_fid_min = np.floor(np.min(np.log10([np.min(differential_number_density_q[1]), np.min(S1_number_density_q[1]),\n",
    "                                                  np.min(S2_number_density_q[1]), np.min(S3_number_density_q[1])])))\n",
    "log_nz_i_l_kw_fid_max = np.ceil(np.max(np.log10([np.max(differential_number_density_q[1]), np.max(S1_number_density_q[1]),\n",
    "                                                 np.max(S2_number_density_q[1]), np.max(S3_number_density_q[1])])))\n",
    "\n",
    "hc_plot = hc[-1, -1, -1, :]\n",
    "S1_hc_plot = S1_hc[-1, -1, -1, :]\n",
    "S2_hc_plot = S2_hc[-1, -1, -1, :]\n",
    "S3_hc_plot = S3_hc[-1, -1, -1, :]\n",
    "\n",
    "\n",
    "log_hc_min = np.floor(10 * np.min(np.log10(np.concatenate((hc_plot[hc_plot != 0], S1_hc_plot[S1_hc_plot != 0],\n",
    "                                                           S2_hc_plot[S1_hc_plot != 0], S3_hc_plot[S1_hc_plot != 0]))))) / 10\n",
    "log_hc_max = np.ceil(10 * np.max(np.log10(np.concatenate((hc_plot[hc_plot != 0], S1_hc_plot[S1_hc_plot != 0],\n",
    "                                                          S2_hc_plot[S1_hc_plot != 0], S3_hc_plot[S1_hc_plot != 0]))))) / 10\n",
    "bins = np.linspace(log_hc_min, log_hc_max,\n",
    "                   int((log_hc_max - (log_hc_min - .1)) / .1))\n",
    "\n",
    "sesana_min = 3.5e-16\n",
    "sesana_max = 1.5e-15\n",
    "log_sesana_min = np.log10(sesana_min)\n",
    "log_sesana_max = np.log10(sesana_max)\n",
    "log_sesana_mid = np.mean([log_sesana_min, log_sesana_max])\n",
    "log_sesana_h = log_sesana_max - log_sesana_mid\n",
    "log_sesana_l = log_sesana_mid - log_sesana_min\n",
    "\n",
    "log_hc_mid = np.log10(hc_q[1, -1, -1, -1])\n",
    "log_hc_min = np.log10(hc_q[0, -1, -1, -1])\n",
    "log_hc_max = np.log10(hc_q[2, -1, -1, -1])\n",
    "log_hc_h = log_hc_max - log_hc_mid\n",
    "log_hc_l = log_hc_mid - log_hc_min\n",
    "\n",
    "sns.set_context(\"talk\", font_scale=1.8)\n",
    "fig, ax = plt.subplots(1, 3, figsize=(36, 9))\n",
    "\n",
    "label_fsize = 42\n",
    "legend_fsize = 30\n",
    "\n",
    "ax[0].tick_params()\n",
    "ax[1].tick_params()\n",
    "\n",
    "ax[0].fill_between(z_range_borch, S1_number_density_q[0], S1_number_density_q[2],\n",
    "                 color=cs[1], alpha=.2, hatch='\\\\')\n",
    "s1, = ax[0].plot(z_range_borch, S1_number_density_q[1], color=cs[1],\n",
    "                linewidth=3, linestyle=':')\n",
    "ax[0].fill_between(z_range_drory, S2_number_density_q[0], S2_number_density_q[2],\n",
    "                 color=cs[1], alpha=.2, hatch='||')\n",
    "s2, = ax[0].plot(z_range_drory, S2_number_density_q[1], color=cs[1],\n",
    "                linewidth=3, linestyle='-.')\n",
    "ax[0].fill_between(z_range_ilbert, S3_number_density_q[0], S3_number_density_q[2],\n",
    "                 color=cs[1], alpha=.2, hatch='-')\n",
    "s3, = ax[0].plot(z_range_ilbert, S3_number_density_q[1], color=cs[1],\n",
    "                linewidth=3, linestyle=(0, (3, 1, 1, 1, 1, 1)))\n",
    "\n",
    "# ax[0].fill_between(z_range, nz_q[0], nz_q[2], color=cs[2], alpha=.2, hatch='.')\n",
    "# m2, = ax[0].plot(z_range, nz_q[1], color=cs[2], linewidth=3, linestyle='--')\n",
    "\n",
    "ax[0].fill_between(z_range, differential_number_density_q[0], differential_number_density_q[2], color=cs[0], alpha=.2, hatch='/')\n",
    "m1, = ax[0].plot(z_range, differential_number_density_q[1], color=cs[0], linewidth=3, linestyle='-')\n",
    "\n",
    "ax[0].set_yscale('log')\n",
    "ax[0].set_ylabel(r'$\\Phi_{\\rm{BHB}}(z)\\ [\\rm{Mpc}^{-3}]$', fontsize=label_fsize)\n",
    "ax[0].set_xlabel(r'$z$', fontsize=label_fsize)\n",
    "# ax[0].set_ylim((10 ** (log_nz_i_l_kw_fid_min - 1), 10 ** (log_nz_i_l_kw_fid_max + 1)))\n",
    "ax[0].set_ylim(top=5e-2, bottom=1e-7)\n",
    "\n",
    "# ax[0].legend([m1, m2, (s1, s2, s3)], ['This Work', 'G19', 'S13 Realizations'], numpoints=1,\n",
    "#              handler_map={tuple: HandlerTupleVertical(ndivide=None)}, loc='lower right', fontsize=legend_fsize)\n",
    "ax[0].legend([m1, (s1, s2, s3)], ['AGN-based -- KH13', 'S13 -- KH13'], numpoints=1,\n",
    "             handler_map={tuple: HandlerTupleVertical(ndivide=None)}, frameon=False, loc='lower right', fontsize=legend_fsize)\n",
    "\n",
    "ax[1].fill_between(10 ** log_m_bh_range, S1_local_bhmf_q[0], S1_local_bhmf_q[2], color=cs[1], alpha=.2, hatch='\\\\')\n",
    "s1, = ax[1].plot(10 ** log_m_bh_range, S1_local_bhmf_q[1], color=cs[1],\n",
    "                 linewidth=3, linestyle=':')\n",
    "ax[1].fill_between(10 ** log_m_bh_range, S2_local_bhmf_q[0], S2_local_bhmf_q[2], color=cs[1], alpha=.2, hatch='||')\n",
    "s2, = ax[1].plot(10 ** log_m_bh_range, S2_local_bhmf_q[1], color=cs[1],\n",
    "                 linewidth=3, linestyle='-.')\n",
    "ax[1].fill_between(10 ** log_m_bh_range, S3_local_bhmf_q[0], S3_local_bhmf_q[2], color=cs[1], alpha=.2, hatch='-')\n",
    "s3, = ax[1].plot(10 ** log_m_bh_range, S3_local_bhmf_q[1], color=cs[1],\n",
    "                 linewidth=3, linestyle=(0, (3, 1, 1, 1, 1, 1)))\n",
    "\n",
    "# ax[1].fill_between(10 ** log_m_bh_range, p_m_q[0], p_m_q[2], color=cs[2], alpha=.2, hatch='.')\n",
    "# m2, = ax[1].plot(10 ** log_m_bh_range, p_m_q[1], color=cs[2], linewidth=3, linestyle='--')\n",
    "\n",
    "ax[1].fill_between(10 ** log_m_bh_range, local_bhmf_q[0], local_bhmf_q[2], color=cs[0], alpha=.2, hatch='/')\n",
    "m1, = ax[1].plot(10 ** log_m_bh_range, local_bhmf_q[1], color=cs[0], linewidth=3, linestyle='-')\n",
    "\n",
    "ax[1].set_xscale('log')\n",
    "ax[1].set_yscale('log')\n",
    "ax[1].set_ylabel(r'$d \\Phi_{\\rm{BHB}} / d M_{\\rm{BH}}\\ [M_{\\odot}^{-1}\\,\\rm{Mpc}^{-3}]$', fontsize=label_fsize)\n",
    "ax[1].set_xlabel(r'$M_{\\rm{BH}} [M_{\\odot}]$', fontsize=label_fsize)\n",
    "ax[1].set_ylim(bottom=1e-22, top=1e-9)\n",
    "# ax[1].legend([m1, m2, (s1, s2, s3)], ['Hopkins+ 2007', 'Marconi+ 2004', 'S13 Realizations'], numpoints=1,\n",
    "#              handler_map={tuple: HandlerTupleVertical(ndivide=None)}, loc='lower left', fontsize=legend_fsize)\n",
    "ax[1].legend([m1, (s1, s2, s3)], ['Hopkins+ 2007', 'S13 -- KH13'], numpoints=1,\n",
    "             handler_map={tuple: HandlerTupleVertical(ndivide=None)}, frameon=False, loc='lower left', fontsize=legend_fsize)\n",
    "\n",
    "ax[2].axvspan(log_sesana_min, log_sesana_max, color='k', alpha=.1)\n",
    "ax[2].hist(np.log10(S1_hc[-1, -1, -1, :]), histtype='step', bins=bins,\n",
    "           density=False, color=cs[1], linestyle=':',\n",
    "           label=r'S13: Realization 1',\n",
    "           weights=np.repeat(1 / len(S1_hc[-1, -1, -1, :]), len(S1_hc[-1, -1, -1, :])),\n",
    "           fill=True, alpha=.2, hatch='\\\\')\n",
    "ax[2].hist(np.log10(S1_hc[-1, -1, -1, :]), histtype='step', bins=bins,\n",
    "           density=False, color=cs[1], linestyle=':',\n",
    "           label=r'S13: Realization 1',\n",
    "           weights=np.repeat(1 / len(S1_hc[-1, -1, -1, :]), len(S1_hc[-1, -1, -1, :])))\n",
    "\n",
    "ax[2].hist(np.log10(S2_hc[-1, -1, -1, :]), histtype='step', bins=bins,\n",
    "           density=False, color=cs[1], linestyle='-.',\n",
    "           label=r'S13: Realization 2',\n",
    "           weights=np.repeat(1 / len(S2_hc[-1, -1, -1, :]), len(S2_hc[-1, -1, -1, :])),\n",
    "           fill=True, alpha=.2, hatch='||')\n",
    "ax[2].hist(np.log10(S2_hc[-1, -1, -1, :]), histtype='step', bins=bins,\n",
    "           density=False, color=cs[1], linestyle='-.',\n",
    "           label=r'S13: Realization 2',\n",
    "           weights=np.repeat(1 / len(S2_hc[-1, -1, -1, :]), len(S2_hc[-1, -1, -1, :])))\n",
    "\n",
    "ax[2].hist(np.log10(S3_hc[-1, -1, -1, :]), histtype='step', bins=bins,\n",
    "           density=False, color=cs[1], linestyle=(0, (3, 1, 1, 1, 1, 1)),\n",
    "           label=r'S13: Realization 3',\n",
    "           weights=np.repeat(1 / len(S3_hc[-1, -1, -1, :]), len(S3_hc[-1, -1, -1, :])),\n",
    "           fill=True, alpha=.2, hatch='-')\n",
    "ax[2].hist(np.log10(S3_hc[-1, -1, -1, :]), histtype='step', bins=bins,\n",
    "           density=False, color=cs[1], linestyle=(0, (3, 1, 1, 1, 1, 1)),\n",
    "           label=r'S13: Realization 3',\n",
    "           weights=np.repeat(1 / len(S3_hc[-1, -1, -1, :]), len(S3_hc[-1, -1, -1, :])))\n",
    "\n",
    "# ax[2].hist(np.log10(hc_g), histtype='step', bins=bins, density=False, color=cs[2], linestyle='--',\n",
    "#            label=r'G19', weights=np.repeat(1 / len(hc_g), len(hc_g)), linewidth=2, fill=True, alpha=.2, hatch='.')\n",
    "# ax[2].hist(np.log10(hc_g), histtype='step', bins=bins, density=False, color=cs[2], linestyle='--',\n",
    "#            label=r'G19', weights=np.repeat(1 / len(hc_g), len(hc_g)), linewidth=2)\n",
    "\n",
    "ax[2].hist(np.log10(hc[-1, -1, -1, :]), histtype='step', bins=bins, density=False, color=cs[0], linestyle='-',\n",
    "           label=r'AGN-based  - KH13', weights=np.repeat(1 / len(hc[-1, -1, -1, :]), len(hc[-1, -1, -1, :])), linewidth=2,\n",
    "           fill=True, alpha=.2, hatch='/')\n",
    "ax[2].hist(np.log10(hc[-1, -1, -1, :]), histtype='step', bins=bins, density=False, color=cs[0], linestyle='-',\n",
    "           label=r'AGN-based  - KH13', weights=np.repeat(1 / len(hc[-1, -1, -1, :]), len(hc[-1, -1, -1, :])), linewidth=2)\n",
    "\n",
    "# ax[2].annotate(r'S13',\n",
    "#                xy=(log_sesana_min - .3, .49))\n",
    "# ax[2].errorbar(log_hc_mid, 0.45,\n",
    "#              xerr=[[log_hc_l],\n",
    "#                    [log_hc_h]],\n",
    "#              capsize=4, color=cs[0])\n",
    "# ax[2].annotate(r'This Work',\n",
    "#                xy=(log_hc_min - .75, .44))\n",
    "\n",
    "ax[2].axvline(np.log10(1.9e-15), color='k', linestyle='--')\n",
    "ax[2].annotate(r'NANOGrav 12.5-yr',\n",
    "               xy=(np.log10(1.9e-15) + .03, .4), xytext=(3, 3),\n",
    "               textcoords=\"offset points\", rotation_mode='anchor', rotation=-90)\n",
    "ax[2].set_xlabel(r'$\\log h_{c}$', fontsize=label_fsize)\n",
    "ax[2].set_ylabel(r'$P(h_{c})$', fontsize=label_fsize)\n",
    "ax[2].set_xlim(left=-17, right=-14)\n",
    "ax[2].set_ylim(top=.5)\n",
    "# ax[2].legend([m1, m2, (s1, s2, s3)], ['This Work', 'G19', 'S13 Realizations'], numpoints=1,\n",
    "#              handler_map={tuple: HandlerTupleVertical(ndivide=None)}, frameon=False, loc='upper left', fontsize=legend_fsize)\n",
    "ax[2].legend([m1, (s1, s2, s3)], ['AGN-based -- KH13', 'S13 -- KH13'], numpoints=1,\n",
    "             handler_map={tuple: HandlerTupleVertical(ndivide=None)}, frameon=False, loc='upper left', fontsize=legend_fsize)\n",
    "\n",
    "plt.tight_layout()\n",
    "plt.savefig('../reports/figures/model_comparison_kh.pdf')\n",
    "plt.savefig('../reports/figures/model_comparison_kh.png')\n",
    "plt.show()"
   ]
  },
  {
   "cell_type": "code",
   "execution_count": 73,
   "id": "daaeb65b",
   "metadata": {},
   "outputs": [
    {
     "data": {
      "image/png": "[encoded data removed]",
      "text/plain": [
       "<Figure size 864x648 with 1 Axes>"
      ]
     },
     "metadata": {},
     "output_type": "display_data"
    }
   ],
   "source": [
    "hc_mm_plot = hc_mm[-1, -1, -1, :]\n",
    "\n",
    "log_hc_min = np.floor(10 * np.min(np.log10(np.concatenate((hc_plot[hc_plot != 0], hc_mm_plot[hc_mm_plot != 0]))))) / 10\n",
    "log_hc_max = np.ceil(10 * np.max(np.log10(np.concatenate((hc_plot[hc_plot != 0], hc_mm_plot[hc_mm_plot != 0]))))) / 10\n",
    "\n",
    "bins = np.linspace(log_hc_min, log_hc_max,\n",
    "                   int((log_hc_max - (log_hc_min - .1)) / .1))\n",
    "\n",
    "sesana_min = 3.5e-16\n",
    "sesana_max = 1.5e-15\n",
    "log_sesana_min = np.log10(sesana_min)\n",
    "log_sesana_max = np.log10(sesana_max)\n",
    "log_sesana_mid = np.mean([log_sesana_min, log_sesana_max])\n",
    "log_sesana_h = log_sesana_max - log_sesana_mid\n",
    "log_sesana_l = log_sesana_mid - log_sesana_min\n",
    "\n",
    "log_hc_mid = np.log10(hc_q[1, -1, -1, -1])\n",
    "log_hc_min = np.log10(hc_q[0, -1, -1, -1])\n",
    "log_hc_max = np.log10(hc_q[2, -1, -1, -1])\n",
    "log_hc_h = log_hc_max - log_hc_mid\n",
    "log_hc_l = log_hc_mid - log_hc_min\n",
    "\n",
    "sns.set_context(\"talk\", font_scale=1.8)\n",
    "fig = plt.figure(figsize=(12, 9))\n",
    "\n",
    "label_fsize = 42\n",
    "legend_fsize = 24\n",
    "\n",
    "plt.hist(np.log10(S1_hc[-1, -1, -1, :]), histtype='step', bins=bins,\n",
    "           density=False, color=cs[1], linestyle=':',\n",
    "           weights=np.repeat(1 / len(S1_hc[-1, -1, -1, :]), len(S1_hc[-1, -1, -1, :])),\n",
    "           fill=True, alpha=.2, hatch='\\\\')\n",
    "plt.hist(np.log10(S1_hc[-1, -1, -1, :]), histtype='step', bins=bins,\n",
    "           density=False, color=cs[1], linestyle=':',\n",
    "           label=r'S13: Realization 1',\n",
    "           weights=np.repeat(1 / len(S1_hc[-1, -1, -1, :]), len(S1_hc[-1, -1, -1, :])))\n",
    "\n",
    "plt.hist(np.log10(S2_hc[-1, -1, -1, :]), histtype='step', bins=bins,\n",
    "           density=False, color=cs[1], linestyle='-.',\n",
    "           weights=np.repeat(1 / len(S2_hc[-1, -1, -1, :]), len(S2_hc[-1, -1, -1, :])),\n",
    "           fill=True, alpha=.2, hatch='||')\n",
    "plt.hist(np.log10(S2_hc[-1, -1, -1, :]), histtype='step', bins=bins,\n",
    "           density=False, color=cs[1], linestyle='-.',\n",
    "           label=r'S13: Realization 2',\n",
    "           weights=np.repeat(1 / len(S2_hc[-1, -1, -1, :]), len(S2_hc[-1, -1, -1, :])))\n",
    "\n",
    "plt.hist(np.log10(S3_hc[-1, -1, -1, :]), histtype='step', bins=bins,\n",
    "           density=False, color=cs[1], linestyle=(0, (3, 1, 1, 1, 1, 1)),\n",
    "           weights=np.repeat(1 / len(S3_hc[-1, -1, -1, :]), len(S3_hc[-1, -1, -1, :])),\n",
    "           fill=True, alpha=.2, hatch='-')\n",
    "plt.hist(np.log10(S3_hc[-1, -1, -1, :]), histtype='step', bins=bins,\n",
    "           density=False, color=cs[1], linestyle=(0, (3, 1, 1, 1, 1, 1)),\n",
    "           label=r'S13: Realization 3',\n",
    "           weights=np.repeat(1 / len(S3_hc[-1, -1, -1, :]), len(S3_hc[-1, -1, -1, :])))\n",
    "\n",
    "plt.hist(np.log10(hc[-1, -1, -1, :]), histtype='step', bins=bins, density=False, color=cs[0], linestyle='-',\n",
    "           weights=np.repeat(1 / len(hc[-1, -1, -1, :]), len(hc[-1, -1, -1, :])), linewidth=2,\n",
    "           fill=True, alpha=.2, hatch='/')\n",
    "plt.hist(np.log10(hc[-1, -1, -1, :]), histtype='step', bins=bins, density=False, color=cs[0], linestyle='-',\n",
    "           label=r'AGN-based  - KH13', weights=np.repeat(1 / len(hc[-1, -1, -1, :]), len(hc[-1, -1, -1, :])), linewidth=2)\n",
    "\n",
    "plt.axvline(np.log10(1.9e-15), color='k', linestyle='--')\n",
    "plt.annotate(r'NANOGrav 12.5-yr',\n",
    "               xy=(np.log10(1.9e-15) + .03, .4), xytext=(3, 3),\n",
    "               textcoords=\"offset points\", rotation_mode='anchor', rotation=-90)\n",
    "plt.xlabel(r'$\\log h_{c}$', fontsize=label_fsize)\n",
    "plt.ylabel(r'$P(h_{c})$', fontsize=label_fsize)\n",
    "plt.xlim(left=-16, right=-14)\n",
    "# plt.ylim(top=.5)\n",
    "locs, _ = plt.yticks()\n",
    "plt.yticks(locs, [])\n",
    "plt.legend([m1, (s1, s2, s3)], ['AGN-based -- KH13', 'S13 -- KH13'], numpoints=1,\n",
    "             handler_map={tuple: HandlerTupleVertical(ndivide=None)}, frameon=False, loc='upper left', fontsize=legend_fsize)\n",
    "\n",
    "plt.tight_layout()\n",
    "plt.savefig('../reports/figures/m_m_bulge_all.pdf')\n",
    "plt.savefig('../reports/figures/m_m_bulge_all.png')\n",
    "plt.show()"
   ]
  },
  {
   "cell_type": "code",
   "execution_count": 74,
   "id": "53eb80de",
   "metadata": {},
   "outputs": [
    {
     "data": {
      "image/png": "[encoded data removed]",
      "text/plain": [
       "<Figure size 864x648 with 1 Axes>"
      ]
     },
     "metadata": {},
     "output_type": "display_data"
    }
   ],
   "source": [
    "hc_mm_plot = hc_mm[-1, -1, -1, :]\n",
    "\n",
    "log_hc_min = np.floor(10 * np.min(np.log10(np.concatenate((hc_plot[hc_plot != 0], hc_mm_plot[hc_mm_plot != 0]))))) / 10\n",
    "log_hc_max = np.ceil(10 * np.max(np.log10(np.concatenate((hc_plot[hc_plot != 0], hc_mm_plot[hc_mm_plot != 0]))))) / 10\n",
    "\n",
    "bins = np.linspace(log_hc_min, log_hc_max,\n",
    "                   int((log_hc_max - (log_hc_min - .1)) / .1))\n",
    "\n",
    "sesana_min = 3.5e-16\n",
    "sesana_max = 1.5e-15\n",
    "log_sesana_min = np.log10(sesana_min)\n",
    "log_sesana_max = np.log10(sesana_max)\n",
    "log_sesana_mid = np.mean([log_sesana_min, log_sesana_max])\n",
    "log_sesana_h = log_sesana_max - log_sesana_mid\n",
    "log_sesana_l = log_sesana_mid - log_sesana_min\n",
    "\n",
    "log_hc_mid = np.log10(hc_q[1, -1, -1, -1])\n",
    "log_hc_min = np.log10(hc_q[0, -1, -1, -1])\n",
    "log_hc_max = np.log10(hc_q[2, -1, -1, -1])\n",
    "log_hc_h = log_hc_max - log_hc_mid\n",
    "log_hc_l = log_hc_mid - log_hc_min\n",
    "\n",
    "sns.set_context(\"talk\", font_scale=1.8)\n",
    "fig = plt.figure(figsize=(12, 9), constrained_layout=True)\n",
    "\n",
    "label_fsize = 42\n",
    "legend_fsize = 30\n",
    "\n",
    "plt.hist(np.log10(hc_mm[-1, -1, -1, :]), histtype='step', bins=bins, density=False, color=cs[0], linestyle='-',\n",
    "           label=r'MM13', weights=np.repeat(1 / len(hc_mm[-1, -1, -1, :]), len(hc_mm[-1, -1, -1, :])), linewidth=2,\n",
    "           fill=True, alpha=.2, hatch='/')\n",
    "plt.hist(np.log10(hc_mm[-1, -1, -1, :]), histtype='step', bins=bins, density=False, color=cs[0], linestyle='-',\n",
    "         weights=np.repeat(1 / len(hc_mm[-1, -1, -1, :]), len(hc_mm[-1, -1, -1, :])), linewidth=2)\n",
    "plt.hist(np.log10(hc[-1, -1, -1, :]), histtype='step', bins=bins, density=False, color=cs[3], linestyle='-',\n",
    "           label=r'KH13', weights=np.repeat(1 / len(hc[-1, -1, -1, :]), len(hc[-1, -1, -1, :])), linewidth=2,\n",
    "           fill=True, alpha=.2, hatch='\\\\')\n",
    "plt.hist(np.log10(hc[-1, -1, -1, :]), histtype='step', bins=bins, density=False, color=cs[3], linestyle='-',\n",
    "         weights=np.repeat(1 / len(hc[-1, -1, -1, :]), len(hc[-1, -1, -1, :])), linewidth=2)\n",
    "\n",
    "plt.axvline(np.log10(1.9e-15), color='k', linestyle='--')\n",
    "plt.annotate(r'NANOGrav 12.5-yr',\n",
    "               xy=(np.log10(1.9e-15) + .03, .175), xytext=(3, 3),\n",
    "               textcoords=\"offset points\", rotation_mode='anchor', rotation=-90)\n",
    "plt.xlabel(r'$\\log h_{c}$', fontsize=label_fsize)\n",
    "# plt.ylabel(r'$P(h_{c})$', fontsize=label_fsize)\n",
    "plt.xlim(left=-16, right=-14)\n",
    "# plt.ylim(top=.5)\n",
    "locs, _ = plt.yticks()\n",
    "plt.yticks(locs, [])\n",
    "# locs, labels = plt.xticks()\n",
    "# plt.xticks(locs[::2], labels[::2])\n",
    "plt.legend(fontsize=legend_fsize)\n",
    "\n",
    "# plt.tight_layout()\n",
    "plt.savefig('../reports/figures/m_m_bulge_comparison.pdf')\n",
    "plt.savefig('../reports/figures/m_m_bulge_comparison.png')\n",
    "plt.show()"
   ]
  },
  {
   "cell_type": "code",
   "execution_count": 75,
   "id": "ae27408c",
   "metadata": {},
   "outputs": [
    {
     "data": {
      "image/png": "[encoded data removed]",
      "text/plain": [
       "<Figure size 864x648 with 1 Axes>"
      ]
     },
     "metadata": {},
     "output_type": "display_data"
    }
   ],
   "source": [
    "log_hc_min = np.floor(10 * np.min(np.log10(np.concatenate((S1_hc[-1, -1, -1, :], S1_hc_mm[-1, -1, -1, :]))))) / 10\n",
    "log_hc_max = np.ceil(10 * np.max(np.log10(np.concatenate((S1_hc[-1, -1, -1, :], S1_hc_mm[-1, -1, -1, :]))))) / 10\n",
    "\n",
    "bins = np.linspace(log_hc_min, log_hc_max,\n",
    "                   int((log_hc_max - (log_hc_min - .1)) / .1))\n",
    "\n",
    "sesana_min = 3.5e-16\n",
    "sesana_max = 1.5e-15\n",
    "log_sesana_min = np.log10(sesana_min)\n",
    "log_sesana_max = np.log10(sesana_max)\n",
    "log_sesana_mid = np.mean([log_sesana_min, log_sesana_max])\n",
    "log_sesana_h = log_sesana_max - log_sesana_mid\n",
    "log_sesana_l = log_sesana_mid - log_sesana_min\n",
    "\n",
    "log_hc_mid = np.log10(S1_hc_q[1, -1, -1, -1])\n",
    "log_hc_min = np.log10(S1_hc_q[0, -1, -1, -1])\n",
    "log_hc_max = np.log10(S1_hc_q[2, -1, -1, -1])\n",
    "log_hc_h = log_hc_max - log_hc_mid\n",
    "log_hc_l = log_hc_mid - log_hc_min\n",
    "\n",
    "sns.set_context(\"talk\", font_scale=1.8)\n",
    "fig = plt.figure(figsize=(12, 9), constrained_layout=True)\n",
    "\n",
    "label_fsize = 42\n",
    "legend_fsize = 30\n",
    "\n",
    "plt.hist(np.log10(S1_hc_mm[-1, -1, -1, :]), histtype='step', bins=bins, density=False, color=cs[0], linestyle='-',\n",
    "           label=r'MM13', weights=np.repeat(1 / len(S1_hc_mm[-1, -1, -1, :]), len(S1_hc_mm[-1, -1, -1, :])), linewidth=2,\n",
    "           fill=True, alpha=.2, hatch='/')\n",
    "plt.hist(np.log10(S1_hc_mm[-1, -1, -1, :]), histtype='step', bins=bins, density=False, color=cs[0], linestyle='-',\n",
    "         weights=np.repeat(1 / len(S1_hc_mm[-1, -1, -1, :]), len(S1_hc_mm[-1, -1, -1, :])), linewidth=2)\n",
    "plt.hist(np.log10(S1_hc[-1, -1, -1, :]), histtype='step', bins=bins, density=False, color=cs[3], linestyle='-',\n",
    "           label=r'KH13', weights=np.repeat(1 / len(S1_hc[-1, -1, -1, :]), len(S1_hc[-1, -1, -1, :])), linewidth=2,\n",
    "           fill=True, alpha=.2, hatch='\\\\')\n",
    "plt.hist(np.log10(S1_hc[-1, -1, -1, :]), histtype='step', bins=bins, density=False, color=cs[3], linestyle='-',\n",
    "         weights=np.repeat(1 / len(S1_hc[-1, -1, -1, :]), len(S1_hc[-1, -1, -1, :])), linewidth=2)\n",
    "\n",
    "plt.axvline(np.log10(1.9e-15), color='k', linestyle='--')\n",
    "plt.annotate(r'NANOGrav 12.5-yr',\n",
    "               xy=(np.log10(1.9e-15) + .03, .3), xytext=(3, 3),\n",
    "               textcoords=\"offset points\", rotation_mode='anchor', rotation=-90)\n",
    "plt.xlabel(r'$\\log h_{c}$', fontsize=label_fsize)\n",
    "# plt.ylabel(r'$P(h_{c})$', fontsize=label_fsize)\n",
    "plt.xlim(left=-16, right=-14)\n",
    "# plt.ylim(top=.5)\n",
    "locs, _ = plt.yticks()\n",
    "plt.yticks(locs, [])\n",
    "plt.legend(fontsize=legend_fsize)\n",
    "\n",
    "# plt.tight_layout()\n",
    "plt.savefig('../reports/figures/S1_m_m_bulge_comparison.pdf')\n",
    "plt.savefig('../reports/figures/S1_m_m_bulge_comparison.png')\n",
    "plt.show()"
   ]
  },
  {
   "cell_type": "code",
   "execution_count": 76,
   "id": "b0557d4d",
   "metadata": {},
   "outputs": [
    {
     "ename": "SyntaxError",
     "evalue": "invalid syntax (<ipython-input-76-d1d3a29e3f64>, line 49)",
     "output_type": "error",
     "traceback": [
      "\u001b[0;36m  File \u001b[0;32m\"<ipython-input-76-d1d3a29e3f64>\"\u001b[0;36m, line \u001b[0;32m49\u001b[0m\n\u001b[0;31m    plt.\u001b[0m\n\u001b[0m        ^\u001b[0m\n\u001b[0;31mSyntaxError\u001b[0m\u001b[0;31m:\u001b[0m invalid syntax\n"
     ]
    }
   ],
   "source": [
    "log_hc_min = np.floor(10 * np.min(np.log10(np.concatenate((S2_hc[-1, -1, -1, :], S2_hc_mm[-1, -1, -1, :]))))) / 10\n",
    "log_hc_max = np.ceil(10 * np.max(np.log10(np.concatenate((S2_hc[-1, -1, -1, :], S2_hc_mm[-1, -1, -1, :]))))) / 10\n",
    "\n",
    "bins = np.linspace(log_hc_min, log_hc_max,\n",
    "                   int((log_hc_max - (log_hc_min - .1)) / .1))\n",
    "\n",
    "sesana_min = 3.5e-16\n",
    "sesana_max = 1.5e-15\n",
    "log_sesana_min = np.log10(sesana_min)\n",
    "log_sesana_max = np.log10(sesana_max)\n",
    "log_sesana_mid = np.mean([log_sesana_min, log_sesana_max])\n",
    "log_sesana_h = log_sesana_max - log_sesana_mid\n",
    "log_sesana_l = log_sesana_mid - log_sesana_min\n",
    "\n",
    "log_hc_mid = np.log10(S2_hc_q[1, -1, -1, -1])\n",
    "log_hc_min = np.log10(S2_hc_q[0, -1, -1, -1])\n",
    "log_hc_max = np.log10(S2_hc_q[2, -1, -1, -1])\n",
    "log_hc_h = log_hc_max - log_hc_mid\n",
    "log_hc_l = log_hc_mid - log_hc_min\n",
    "\n",
    "sns.set_context(\"talk\", font_scale=1.8)\n",
    "fig = plt.figure(figsize=(12, 9), constrained_layout=True)\n",
    "\n",
    "label_fsize = 42\n",
    "legend_fsize = 30\n",
    "\n",
    "plt.hist(np.log10(S2_hc_mm[-1, -1, -1, :]), histtype='step', bins=bins, density=False, color=cs[0], linestyle='-',\n",
    "           label=r'MM13', weights=np.repeat(1 / len(S2_hc_mm[-1, -1, -1, :]), len(S2_hc_mm[-1, -1, -1, :])), linewidth=2,\n",
    "           fill=True, alpha=.2, hatch='/')\n",
    "plt.hist(np.log10(S2_hc_mm[-1, -1, -1, :]), histtype='step', bins=bins, density=False, color=cs[0], linestyle='-',\n",
    "         weights=np.repeat(1 / len(S2_hc_mm[-1, -1, -1, :]), len(S2_hc_mm[-1, -1, -1, :])), linewidth=2)\n",
    "plt.hist(np.log10(S2_hc[-1, -1, -1, :]), histtype='step', bins=bins, density=False, color=cs[3], linestyle='-',\n",
    "           label=r'KH13', weights=np.repeat(1 / len(S1_hc[-1, -1, -1, :]), len(S1_hc[-1, -1, -1, :])), linewidth=2,\n",
    "           fill=True, alpha=.2, hatch='\\\\')\n",
    "plt.hist(np.log10(S2_hc[-1, -1, -1, :]), histtype='step', bins=bins, density=False, color=cs[3], linestyle='-',\n",
    "         weights=np.repeat(1 / len(S2_hc[-1, -1, -1, :]), len(S2_hc[-1, -1, -1, :])), linewidth=2)\n",
    "\n",
    "plt.axvline(np.log10(1.9e-15), color='k', linestyle='--')\n",
    "plt.annotate(r'NANOGrav 12.5-yr',\n",
    "               xy=(np.log10(1.9e-15) + .03, .3), xytext=(3, 3),\n",
    "               textcoords=\"offset points\", rotation_mode='anchor', rotation=-90)\n",
    "plt.xlabel(r'$\\log h_{c}$', fontsize=label_fsize)\n",
    "# plt.ylabel(r'$P(h_{c})$', fontsize=label_fsize)\n",
    "plt.xlim(left=-16, right=-14)\n",
    "# plt.ylim(top=.5)\n",
    "locs, _ = plt.yticks()\n",
    "plt.yticks(locs, [])\n",
    "plt.legend(fontsize=legend_fsize)\n",
    "plt.\n",
    "\n",
    "# plt.tight_layout()\n",
    "plt.savefig('../reports/figures/S2_m_m_bulge_comparison.pdf')\n",
    "plt.savefig('../reports/figures/S2_m_m_bulge_comparison.png')\n",
    "plt.show()"
   ]
  },
  {
   "cell_type": "code",
   "execution_count": null,
   "id": "48fb62ac",
   "metadata": {},
   "outputs": [],
   "source": [
    "log_hc_min = np.floor(10 * np.min(np.log10(np.concatenate((S3_hc[-1, -1, -1, :], S3_hc_mm[-1, -1, -1, :]))))) / 10\n",
    "log_hc_max = np.ceil(10 * np.max(np.log10(np.concatenate((S3_hc[-1, -1, -1, :], S3_hc_mm[-1, -1, -1, :]))))) / 10\n",
    "\n",
    "bins = np.linspace(log_hc_min, log_hc_max,\n",
    "                   int((log_hc_max - (log_hc_min - .1)) / .1))\n",
    "\n",
    "sesana_min = 3.5e-16\n",
    "sesana_max = 1.5e-15\n",
    "log_sesana_min = np.log10(sesana_min)\n",
    "log_sesana_max = np.log10(sesana_max)\n",
    "log_sesana_mid = np.mean([log_sesana_min, log_sesana_max])\n",
    "log_sesana_h = log_sesana_max - log_sesana_mid\n",
    "log_sesana_l = log_sesana_mid - log_sesana_min\n",
    "\n",
    "log_hc_mid = np.log10(S3_hc_q[1, -1, -1, -1])\n",
    "log_hc_min = np.log10(S3_hc_q[0, -1, -1, -1])\n",
    "log_hc_max = np.log10(S3_hc_q[2, -1, -1, -1])\n",
    "log_hc_h = log_hc_max - log_hc_mid\n",
    "log_hc_l = log_hc_mid - log_hc_min\n",
    "\n",
    "sns.set_context(\"talk\", font_scale=1.8)\n",
    "fig = plt.figure(figsize=(12, 9), constrained_layout=True)\n",
    "\n",
    "label_fsize = 42\n",
    "legend_fsize = 30\n",
    "\n",
    "plt.hist(np.log10(S3_hc_mm[-1, -1, -1, :]), histtype='step', bins=bins, density=False, color=cs[0], linestyle='-',\n",
    "           label=r'MM13', weights=np.repeat(1 / len(S3_hc_mm[-1, -1, -1, :]), len(S3_hc_mm[-1, -1, -1, :])), linewidth=2,\n",
    "           fill=True, alpha=.2, hatch='/')\n",
    "plt.hist(np.log10(S3_hc_mm[-1, -1, -1, :]), histtype='step', bins=bins, density=False, color=cs[0], linestyle='-',\n",
    "         weights=np.repeat(1 / len(S3_hc_mm[-1, -1, -1, :]), len(S3_hc_mm[-1, -1, -1, :])), linewidth=2)\n",
    "plt.hist(np.log10(S3_hc[-1, -1, -1, :]), histtype='step', bins=bins, density=False, color=cs[3], linestyle='-',\n",
    "           label=r'KH13', weights=np.repeat(1 / len(S3_hc[-1, -1, -1, :]), len(S3_hc[-1, -1, -1, :])), linewidth=2,\n",
    "           fill=True, alpha=.2, hatch='\\\\')\n",
    "plt.hist(np.log10(S3_hc[-1, -1, -1, :]), histtype='step', bins=bins, density=False, color=cs[3], linestyle='-',\n",
    "         weights=np.repeat(1 / len(S3_hc[-1, -1, -1, :]), len(S3_hc[-1, -1, -1, :])), linewidth=2)\n",
    "\n",
    "plt.axvline(np.log10(1.9e-15), color='k', linestyle='--')\n",
    "plt.annotate(r'NANOGrav 12.5-yr',\n",
    "               xy=(np.log10(1.9e-15) + .03, .3), xytext=(3, 3),\n",
    "               textcoords=\"offset points\", rotation_mode='anchor', rotation=-90)\n",
    "plt.xlabel(r'$\\log h_{c}$', fontsize=label_fsize)\n",
    "# plt.ylabel(r'$P(h_{c})$', fontsize=label_fsize)\n",
    "plt.xlim(left=-16, right=-14)\n",
    "# plt.ylim(top=.5)\n",
    "locs, _ = plt.yticks()\n",
    "plt.yticks(locs, [])\n",
    "plt.legend(fontsize=legend_fsize)\n",
    "\n",
    "# plt.tight_layout()\n",
    "plt.savefig('../reports/figures/S3_m_m_bulge_comparison.pdf')\n",
    "plt.savefig('../reports/figures/S3_m_m_bulge_comparison.png')\n",
    "plt.show()"
   ]
  },
  {
   "cell_type": "code",
   "execution_count": null,
   "id": "3e786986",
   "metadata": {},
   "outputs": [],
   "source": []
  }
 ],
 "metadata": {
  "kernelspec": {
   "display_name": "Python 3",
   "language": "python",
   "name": "python3"
  },
  "language_info": {
   "codemirror_mode": {
    "name": "ipython",
    "version": 3
   },
   "file_extension": ".py",
   "mimetype": "text/x-python",
   "name": "python",
   "nbconvert_exporter": "python",
   "pygments_lexer": "ipython3",
   "version": "3.9.2"
  }
 },
 "nbformat": 4,
 "nbformat_minor": 5
}
