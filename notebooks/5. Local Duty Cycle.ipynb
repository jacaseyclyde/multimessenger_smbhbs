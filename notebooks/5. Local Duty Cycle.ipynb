{
 "cells": [
  {
   "cell_type": "code",
   "execution_count": 1,
   "id": "aef48f21",
   "metadata": {},
   "outputs": [],
   "source": [
    "import numpy as np\n",
    "import pandas as pd\n",
    "\n",
    "import pickle\n",
    "from IPython.display import display, Math"
   ]
  },
  {
   "cell_type": "markdown",
   "id": "9da6de68",
   "metadata": {},
   "source": [
    "# Load Data"
   ]
  },
  {
   "cell_type": "markdown",
   "id": "57d1d060",
   "metadata": {},
   "source": [
    "## The M17 Galaxy Catalog"
   ]
  },
  {
   "cell_type": "code",
   "execution_count": 2,
   "id": "7ae1ac5c",
   "metadata": {},
   "outputs": [
    {
     "data": {
      "text/html": [
       "<div>\n",
       "<style scoped>\n",
       "    .dataframe tbody tr th:only-of-type {\n",
       "        vertical-align: middle;\n",
       "    }\n",
       "\n",
       "    .dataframe tbody tr th {\n",
       "        vertical-align: top;\n",
       "    }\n",
       "\n",
       "    .dataframe thead th {\n",
       "        text-align: right;\n",
       "    }\n",
       "</style>\n",
       "<table border=\"1\" class=\"dataframe\">\n",
       "  <thead>\n",
       "    <tr style=\"text-align: right;\">\n",
       "      <th></th>\n",
       "      <th>RA</th>\n",
       "      <th>DEC</th>\n",
       "      <th>D_L(Mpc)</th>\n",
       "      <th>Kmag</th>\n",
       "      <th>Name</th>\n",
       "    </tr>\n",
       "  </thead>\n",
       "  <tbody>\n",
       "    <tr>\n",
       "      <th>0</th>\n",
       "      <td>189.998</td>\n",
       "      <td>-11.623</td>\n",
       "      <td>14.63</td>\n",
       "      <td>-25.88</td>\n",
       "      <td>NGC4594</td>\n",
       "    </tr>\n",
       "    <tr>\n",
       "      <th>1</th>\n",
       "      <td>187.445</td>\n",
       "      <td>8.000</td>\n",
       "      <td>20.78</td>\n",
       "      <td>-26.20</td>\n",
       "      <td>NGC4472</td>\n",
       "    </tr>\n",
       "    <tr>\n",
       "      <th>2</th>\n",
       "      <td>50.674</td>\n",
       "      <td>-37.208</td>\n",
       "      <td>19.76</td>\n",
       "      <td>-25.90</td>\n",
       "      <td>NGC1316</td>\n",
       "    </tr>\n",
       "    <tr>\n",
       "      <th>3</th>\n",
       "      <td>190.917</td>\n",
       "      <td>11.553</td>\n",
       "      <td>20.78</td>\n",
       "      <td>-25.86</td>\n",
       "      <td>NGC4649</td>\n",
       "    </tr>\n",
       "    <tr>\n",
       "      <th>4</th>\n",
       "      <td>187.706</td>\n",
       "      <td>12.391</td>\n",
       "      <td>20.78</td>\n",
       "      <td>-25.78</td>\n",
       "      <td>NGC4486</td>\n",
       "    </tr>\n",
       "    <tr>\n",
       "      <th>...</th>\n",
       "      <td>...</td>\n",
       "      <td>...</td>\n",
       "      <td>...</td>\n",
       "      <td>...</td>\n",
       "      <td>...</td>\n",
       "    </tr>\n",
       "    <tr>\n",
       "      <th>5105</th>\n",
       "      <td>214.458</td>\n",
       "      <td>0.511</td>\n",
       "      <td>223.09</td>\n",
       "      <td>-25.11</td>\n",
       "      <td>PGC051063</td>\n",
       "    </tr>\n",
       "    <tr>\n",
       "      <th>5106</th>\n",
       "      <td>64.351</td>\n",
       "      <td>-37.282</td>\n",
       "      <td>216.26</td>\n",
       "      <td>-25.05</td>\n",
       "      <td>PGC014806</td>\n",
       "    </tr>\n",
       "    <tr>\n",
       "      <th>5107</th>\n",
       "      <td>123.188</td>\n",
       "      <td>11.632</td>\n",
       "      <td>223.76</td>\n",
       "      <td>-25.13</td>\n",
       "      <td>PGC1396460</td>\n",
       "    </tr>\n",
       "    <tr>\n",
       "      <th>5108</th>\n",
       "      <td>206.159</td>\n",
       "      <td>21.093</td>\n",
       "      <td>218.77</td>\n",
       "      <td>-25.30</td>\n",
       "      <td>PGC3089894</td>\n",
       "    </tr>\n",
       "    <tr>\n",
       "      <th>5109</th>\n",
       "      <td>270.047</td>\n",
       "      <td>48.654</td>\n",
       "      <td>218.26</td>\n",
       "      <td>-25.41</td>\n",
       "      <td>PGC2322449</td>\n",
       "    </tr>\n",
       "  </tbody>\n",
       "</table>\n",
       "<p>5110 rows × 5 columns</p>\n",
       "</div>"
      ],
      "text/plain": [
       "           RA     DEC  D_L(Mpc)   Kmag        Name\n",
       "0     189.998 -11.623     14.63 -25.88     NGC4594\n",
       "1     187.445   8.000     20.78 -26.20     NGC4472\n",
       "2      50.674 -37.208     19.76 -25.90     NGC1316\n",
       "3     190.917  11.553     20.78 -25.86     NGC4649\n",
       "4     187.706  12.391     20.78 -25.78     NGC4486\n",
       "...       ...     ...       ...    ...         ...\n",
       "5105  214.458   0.511    223.09 -25.11   PGC051063\n",
       "5106   64.351 -37.282    216.26 -25.05   PGC014806\n",
       "5107  123.188  11.632    223.76 -25.13  PGC1396460\n",
       "5108  206.159  21.093    218.77 -25.30  PGC3089894\n",
       "5109  270.047  48.654    218.26 -25.41  PGC2322449\n",
       "\n",
       "[5110 rows x 5 columns]"
      ]
     },
     "execution_count": 2,
     "metadata": {},
     "output_type": "execute_result"
    }
   ],
   "source": [
    "galaxies = pd.read_csv('../data/external/25/added_mks.lst', delimiter='\\s+',\n",
    "                       usecols=[0, 1, 2, 3, 4], index_col=False)\n",
    "galaxies = galaxies.append(pd.read_csv('../data/external/25/schutzMa_extension.txt',\n",
    "                                       delimiter='\\s+',\n",
    "                                       usecols=[0, 1, 2, 3, 4],\n",
    "                                       index_col=False))\n",
    "catalog = pd.read_csv('../data/external/25/2mass_galaxies.lst', delimiter='\\s+',\n",
    "                      usecols=[1, 2, 3, 4, 5], index_col=False,\n",
    "                      names=['RA', 'DEC', 'D_L(Mpc)', 'Kmag', 'Name'])\n",
    "catalog"
   ]
  },
  {
   "cell_type": "markdown",
   "id": "3a01d642",
   "metadata": {},
   "source": [
    "## Local Parameters"
   ]
  },
  {
   "cell_type": "code",
   "execution_count": 3,
   "id": "693e22b8",
   "metadata": {},
   "outputs": [
    {
     "name": "stdout",
     "output_type": "stream",
     "text": [
      "Model: Const1D\n",
      "Inputs: ('x',)\n",
      "Outputs: ('y',)\n",
      "Model set size: 1024\n",
      "Parameters:\n",
      "    amplitude\n",
      "    ---------\n",
      "         98.0\n",
      "         85.0\n",
      "         88.0\n",
      "         97.0\n",
      "         93.0\n",
      "         89.0\n",
      "         85.0\n",
      "         91.0\n",
      "        100.0\n",
      "        104.0\n",
      "          ...\n",
      "         79.0\n",
      "         92.0\n",
      "         78.0\n",
      "         73.0\n",
      "         90.0\n",
      "        100.0\n",
      "         87.0\n",
      "         89.0\n",
      "         93.0\n",
      "        100.0\n",
      "         90.0\n",
      "    Length = 1024 rows\n"
     ]
    }
   ],
   "source": [
    "with open('../models/M17_local_binaries.pkl', 'rb') as f:\n",
    "    local_binaries = pickle.load(f)\n",
    "\n",
    "print(local_binaries)\n",
    "N_BHB = local_binaries.amplitude"
   ]
  },
  {
   "cell_type": "code",
   "execution_count": 4,
   "id": "f483c647",
   "metadata": {},
   "outputs": [
    {
     "name": "stdout",
     "output_type": "stream",
     "text": [
      "Model: Const1D\n",
      "Inputs: ('x',)\n",
      "Outputs: ('y',)\n",
      "Model set size: 1024\n",
      "Parameters:\n",
      "          amplitude       \n",
      "    ----------------------\n",
      "    1.7462373544366051e-06\n",
      "    1.5145936237460352e-06\n",
      "    1.5680498692900129e-06\n",
      "     1.728418605921946e-06\n",
      "     1.657143611863309e-06\n",
      "     1.585868617804672e-06\n",
      "    1.5145936237460352e-06\n",
      "    1.6215061148339906e-06\n",
      "    1.7818748514659238e-06\n",
      "    1.8531498455245607e-06\n",
      "                       ...\n",
      "    1.4076811326580796e-06\n",
      "    1.6393248633486498e-06\n",
      "    1.3898623841434204e-06\n",
      "    1.3007686415701243e-06\n",
      "    1.6036873663193313e-06\n",
      "    1.7818748514659238e-06\n",
      "    1.5502311207753536e-06\n",
      "     1.585868617804672e-06\n",
      "     1.657143611863309e-06\n",
      "    1.7818748514659238e-06\n",
      "    1.6036873663193313e-06\n",
      "    Length = 1024 rows\n"
     ]
    }
   ],
   "source": [
    "with open('../models/M17_number_density.pkl', 'rb') as f:\n",
    "    local_binary_number_density = pickle.load(f)\n",
    "\n",
    "print(local_binary_number_density)"
   ]
  },
  {
   "cell_type": "code",
   "execution_count": 5,
   "id": "8f393262",
   "metadata": {},
   "outputs": [
    {
     "name": "stdout",
     "output_type": "stream",
     "text": [
      "Model: Const1D\n",
      "Inputs: ('x',)\n",
      "Outputs: ('y',)\n",
      "Model set size: 1024\n",
      "Parameters:\n",
      "          amplitude       \n",
      "    ----------------------\n",
      "     1.260554233511673e-06\n",
      "    1.6075878252499415e-06\n",
      "     2.399542903176755e-06\n",
      "      9.69284850670127e-07\n",
      "    1.3485176988909585e-06\n",
      "    1.0584396637006359e-06\n",
      "     4.760599066228614e-06\n",
      "     5.202354211647534e-06\n",
      "     7.274424898638801e-07\n",
      "    1.8923956960583376e-06\n",
      "                       ...\n",
      "    3.8680506630753865e-06\n",
      "    1.5992167914690535e-06\n",
      "    2.1592037972032334e-06\n",
      "     9.196252728706142e-07\n",
      "    2.6443528531404643e-06\n",
      "    2.2015691032766656e-06\n",
      "     1.077738664209987e-06\n",
      "    3.2641382369173286e-06\n",
      "    3.5469230352986283e-07\n",
      "      2.45155690048843e-06\n",
      "     8.138255916861251e-07\n",
      "    Length = 1024 rows\n"
     ]
    }
   ],
   "source": [
    "with open('../models/local_qso_number_density.pkl', 'rb') as f:\n",
    "    local_qso_number_density = pickle.load(f)\n",
    "\n",
    "print(local_qso_number_density)"
   ]
  },
  {
   "cell_type": "markdown",
   "id": "142d8b9c",
   "metadata": {},
   "source": [
    "# The Duty Cycle"
   ]
  },
  {
   "cell_type": "markdown",
   "id": "e0a8a270",
   "metadata": {},
   "source": [
    "If we consider the ratio\n",
    "$$\n",
    "\\frac{\\Phi_{\\rm{BHB}, 0}}{\\Phi_{\\rm{AGN}, 0}},\n",
    "$$\n",
    "and that the local duty cycle (i.e. the fraction of active SMBHs) is\n",
    "$$\n",
    "f_{\\rm{duty}, 0} = \\frac{\\Phi_{\\rm{AGN}, 0}}{\\Phi_{\\rm{BH}, 0}} \\Rightarrow \\Phi_{\\rm{AGN}, 0} = f_{\\rm{duty}, 0} \\Phi_{\\rm{BH}, 0}\n",
    "$$\n",
    "then we have\n",
    "$$\n",
    "\\frac{\\Phi_{\\rm{BHB}, 0}}{\\Phi_{\\rm{AGN}, 0}} = \\frac{\\Phi_{\\rm{BHB}, 0}}{f_{\\rm{duty}, 0} \\Phi_{\\rm{BH}, 0}} = \\frac{1}{f_{\\rm{duty}, 0}} \\frac{\\Phi_{\\rm{BHB}, 0}}{\\Phi_{\\rm{BH}, 0}} = \\frac{f_{\\rm{BHB}, 0}}{f_{\\rm{duty}, 0}}.\n",
    "$$\n",
    "In words, the ratio of SMBHBs to AGN is the same as the ratio of the local fraction of massive galaxies hosting a binary $f_{\\rm{BHB}, 0}$ (assuming ALL massive galaxies host at least one SMBH) over the local duty cycle $f_{\\rm{duty}, 0}$ (i.e. the local fraction of galaxies hosting an AGN). Thus, the local duty cycle is\n",
    "$$\n",
    "f_{\\rm{duty}, 0} = \\frac{f_{\\rm{BHB}, 0} \\Phi_{\\rm{AGN}, 0}}{\\Phi_{\\rm{BHB}, 0}} = \\frac{\\Phi_{\\rm{BHB}, 0}}{\\Phi_{\\rm{BH}, 0}} \\frac{\\Phi_{\\rm{AGN}, 0}}{\\Phi_{\\rm{BHB}, 0}}.\n",
    "$$"
   ]
  },
  {
   "cell_type": "code",
   "execution_count": 6,
   "id": "15c4bc62",
   "metadata": {},
   "outputs": [],
   "source": [
    "mult_factor = 5.43"
   ]
  },
  {
   "cell_type": "code",
   "execution_count": 7,
   "id": "63abac39",
   "metadata": {},
   "outputs": [
    {
     "data": {
      "text/latex": [
       "$\\displaystyle f_{\\rm{BHB}, 0} = (9.7_{-0.7}^{+0.7}) \\times 10^{-2.0}$"
      ],
      "text/plain": [
       "<IPython.core.display.Math object>"
      ]
     },
     "metadata": {},
     "output_type": "display_data"
    }
   ],
   "source": [
    "N_BH = len(catalog.index) + 7\n",
    "f_bhb = N_BHB * mult_factor / N_BH\n",
    "\n",
    "quantiles = np.quantile(f_bhb, q=[.16, .5, .84])\n",
    "order = 10. ** np.floor(np.log10(quantiles[1]))\n",
    "display(Math(r'f_{{\\rm{{BHB}}, 0}} = ({0:.1f}_{{-{1:.1f}}}^{{+{2:.1f}}})'\n",
    "             r' \\times 10^{{{3}}}'.format(quantiles[1] / order,\n",
    "                                          (quantiles[1] - quantiles[0]) / order,\n",
    "                                          (quantiles[2] - quantiles[1]) / order,\n",
    "                                          np.log10(order))))"
   ]
  },
  {
   "cell_type": "code",
   "execution_count": 8,
   "id": "aa4c58b8",
   "metadata": {},
   "outputs": [
    {
     "data": {
      "text/latex": [
       "$\\displaystyle f_{\\rm{duty}, 0} = (1.8_{-1.0}^{+2.4}) \\times 10^{-2.0}$"
      ],
      "text/plain": [
       "<IPython.core.display.Math object>"
      ]
     },
     "metadata": {},
     "output_type": "display_data"
    }
   ],
   "source": [
    "f_duty = f_bhb * local_qso_number_density.amplitude / (local_binary_number_density.amplitude * mult_factor)\n",
    "\n",
    "quantiles = np.quantile(f_duty, q=[.16, .5, .84])\n",
    "order = 10. ** np.floor(np.log10(quantiles[1]))\n",
    "display(Math(r'f_{{\\rm{{duty}}, 0}} = ({0:.1f}_{{-{1:.1f}}}^{{+{2:.1f}}})'\n",
    "             r' \\times 10^{{{3}}}'.format(quantiles[1] / order,\n",
    "                                          (quantiles[1] - quantiles[0]) / order,\n",
    "                                          (quantiles[2] - quantiles[1]) / order,\n",
    "                                          np.log10(order))))"
   ]
  },
  {
   "cell_type": "markdown",
   "id": "3b257f11",
   "metadata": {},
   "source": [
    "This is consistent with the duty cycle estimated by Shen et al. (2020)."
   ]
  },
  {
   "cell_type": "code",
   "execution_count": 9,
   "id": "d16bcb32",
   "metadata": {},
   "outputs": [
    {
     "data": {
      "text/latex": [
       "$\\displaystyle f_{\\rm{BAGN}, 0} = (1.7_{-1.0}^{+2.4}) \\times 10^{-3.0}$"
      ],
      "text/plain": [
       "<IPython.core.display.Math object>"
      ]
     },
     "metadata": {},
     "output_type": "display_data"
    }
   ],
   "source": [
    "f_bhbagn = f_bhb * f_duty\n",
    "\n",
    "quantiles = np.quantile(f_bhbagn, q=[.16, .5, .84])\n",
    "order = 10. ** np.floor(np.log10(quantiles[1]))\n",
    "display(Math(r'f_{{\\rm{{BAGN}}, 0}} = ({0:.1f}_{{-{1:.1f}}}^{{+{2:.1f}}})'\n",
    "             r' \\times 10^{{{3}}}'.format(quantiles[1] / order,\n",
    "                                          (quantiles[1] - quantiles[0]) / order,\n",
    "                                          (quantiles[2] - quantiles[1]) / order,\n",
    "                                          np.log10(order))))"
   ]
  },
  {
   "cell_type": "markdown",
   "id": "2011f29b",
   "metadata": {},
   "source": [
    "This is roughly consistent with Holgado et al. (2018)"
   ]
  },
  {
   "cell_type": "code",
   "execution_count": 10,
   "id": "61e0d4d7",
   "metadata": {},
   "outputs": [
    {
     "data": {
      "text/latex": [
       "$\\displaystyle \\frac{\\Phi_{\\rm{BHB}, 0}}{\\Phi_{\\rm{AGN}, 0}} = \\frac{f_{\\rm{BHB}, 0}}{f_{\\rm{AGN}, 0}} = (5.5_{-3.2}^{+7.6}) \\times 10^{0.0}$"
      ],
      "text/plain": [
       "<IPython.core.display.Math object>"
      ]
     },
     "metadata": {},
     "output_type": "display_data"
    }
   ],
   "source": [
    "bhb_agn_ratio = f_bhb / f_duty\n",
    "\n",
    "quantiles = np.quantile(bhb_agn_ratio, q=[.16, .5, .84])\n",
    "order = 10. ** np.floor(np.log10(quantiles[1]))\n",
    "display(Math(r'\\frac{{\\Phi_{{\\rm{{BHB}}, 0}}}}{{\\Phi_{{\\rm{{AGN}}, 0}}}} '\n",
    "             r'= \\frac{{f_{{\\rm{{BHB}}, 0}}}}{{f_{{\\rm{{AGN}}, 0}}}} '\n",
    "             r'= ({0:.1f}_{{-{1:.1f}}}^{{+{2:.1f}}})'\n",
    "             r' \\times 10^{{{3}}}'.format(quantiles[1] / order,\n",
    "                                          (quantiles[1] - quantiles[0]) / order,\n",
    "                                          (quantiles[2] - quantiles[1]) / order,\n",
    "                                          np.log10(order))))"
   ]
  },
  {
   "cell_type": "code",
   "execution_count": 15,
   "id": "d3321c47",
   "metadata": {},
   "outputs": [
    {
     "data": {
      "text/plain": [
       "1.5061492544342001"
      ]
     },
     "execution_count": 15,
     "metadata": {},
     "output_type": "execute_result"
    }
   ],
   "source": [
    "np.quantile(f_duty / (60 / N_BH), q=.5)"
   ]
  },
  {
   "cell_type": "code",
   "execution_count": null,
   "id": "ff36c150",
   "metadata": {},
   "outputs": [],
   "source": []
  }
 ],
 "metadata": {
  "kernelspec": {
   "display_name": "Python 3",
   "language": "python",
   "name": "python3"
  },
  "language_info": {
   "codemirror_mode": {
    "name": "ipython",
    "version": 3
   },
   "file_extension": ".py",
   "mimetype": "text/x-python",
   "name": "python",
   "nbconvert_exporter": "python",
   "pygments_lexer": "ipython3",
   "version": "3.9.2"
  }
 },
 "nbformat": 4,
 "nbformat_minor": 5
}
